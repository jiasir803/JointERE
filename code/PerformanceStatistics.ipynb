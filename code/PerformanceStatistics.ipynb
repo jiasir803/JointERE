{
 "cells": [
  {
   "cell_type": "code",
   "execution_count": 1,
   "metadata": {},
   "outputs": [],
   "source": [
    "import torch\n",
    "from torch import optim\n",
    "from tqdm import tqdm\n",
    "\n",
    "import numpy as np\n",
    "import copy\n",
    "import json\n",
    "\n",
    "import os\n",
    "os.environ[\"CUDA_VISIBLE_DEVICES\"] = \"0\"\n",
    "USE_CUDA = True\n",
    "use_device = torch.device('cuda' if USE_CUDA else 'cpu')"
   ]
  },
  {
   "cell_type": "code",
   "execution_count": 2,
   "metadata": {},
   "outputs": [],
   "source": [
    "from data_util import Schema\n",
    "\n",
    "root = '/notebooks/sinica/dataset/'\n",
    "\n",
    "schema_root = root+'schema_mr5.txt'\n",
    "relation_data = root+'skincare_mr5.train'\n",
    "dev_data = root+'skincare_mr5.dev'\n",
    "test_data = root+'skincare_mr5.test'\n",
    "\n",
    "word_to_ix = '/notebooks/sinica/code/word_to_ix.pkl'\n",
    "\n",
    "\n",
    "schema = Schema(schema_root)"
   ]
  },
  {
   "cell_type": "code",
   "execution_count": 3,
   "metadata": {},
   "outputs": [],
   "source": [
    "# ========hyper-parameter-set==========\n",
    "MAX_LEN = 100\n",
    "BATCH_SIZE = 32\n",
    "\n",
    "EMBEDDING_DIM = 64\n",
    "HIDDEN_DIM1 = 30  #30\n",
    "HIDDEN_DIM2 =  16 #16\n",
    "LABEL_EMBED_DIM = 8 #8\n",
    "\n",
    "ATTN_OUT = 8 #8\n",
    "\n",
    "n_iter = 20"
   ]
  },
  {
   "cell_type": "code",
   "execution_count": 4,
   "metadata": {},
   "outputs": [],
   "source": [
    "from data_util import BIOLoader\n",
    "\n",
    "loader = BIOLoader(relation_data, MAX_LEN, BATCH_SIZE, schema, \n",
    "                   word_to_ix=word_to_ix, shuffle=True, device=use_device)\n",
    "dev_loader = BIOLoader(dev_data, MAX_LEN, BATCH_SIZE, schema, \n",
    "                       word_to_ix=loader.word_to_ix, device=use_device)\n",
    "test_loader = BIOLoader(test_data, MAX_LEN, BATCH_SIZE, schema, \n",
    "                        word_to_ix=loader.word_to_ix, device=use_device)"
   ]
  },
  {
   "cell_type": "code",
   "execution_count": 5,
   "metadata": {},
   "outputs": [
    {
     "name": "stderr",
     "output_type": "stream",
     "text": [
      "  0%|          | 0/10 [00:00<?, ?it/s]\n",
      "  0%|          | 0/20 [00:00<?, ?it/s]\u001b[A\n",
      "  5%|▌         | 1/20 [00:26<08:14, 26.04s/it]\u001b[A"
     ]
    },
    {
     "name": "stdout",
     "output_type": "stream",
     "text": [
      "epoch: 1 | ent loss 0.7656 | rel loss 1.0699 | total loss 1.8356\n",
      "         | val ent loss 0.6965 | val rel loss 0.5067\n"
     ]
    },
    {
     "name": "stderr",
     "output_type": "stream",
     "text": [
      "\n",
      " 10%|█         | 2/20 [00:52<07:51, 26.17s/it]\u001b[A"
     ]
    },
    {
     "name": "stdout",
     "output_type": "stream",
     "text": [
      "epoch: 2 | ent loss 0.3801 | rel loss 0.3726 | total loss 0.7527\n",
      "         | val ent loss 0.4871 | val rel loss 0.2114\n"
     ]
    },
    {
     "name": "stderr",
     "output_type": "stream",
     "text": [
      "\n",
      " 15%|█▌        | 3/20 [01:18<07:25, 26.20s/it]\u001b[A"
     ]
    },
    {
     "name": "stdout",
     "output_type": "stream",
     "text": [
      "epoch: 3 | ent loss 0.1712 | rel loss 0.3246 | total loss 0.4958\n",
      "         | val ent loss 0.1996 | val rel loss 0.1118\n"
     ]
    },
    {
     "name": "stderr",
     "output_type": "stream",
     "text": [
      "\n",
      " 20%|██        | 4/20 [01:44<06:56, 26.03s/it]\u001b[A"
     ]
    },
    {
     "name": "stdout",
     "output_type": "stream",
     "text": [
      "epoch: 4 | ent loss 0.1282 | rel loss 0.1984 | total loss 0.3266\n",
      "         | val ent loss 0.1149 | val rel loss 0.0692\n"
     ]
    },
    {
     "name": "stderr",
     "output_type": "stream",
     "text": [
      "\n",
      " 25%|██▌       | 5/20 [02:10<06:30, 26.01s/it]\u001b[A"
     ]
    },
    {
     "name": "stdout",
     "output_type": "stream",
     "text": [
      "epoch: 5 | ent loss 0.1050 | rel loss 0.2582 | total loss 0.3632\n",
      "         | val ent loss 0.1231 | val rel loss 0.0546\n"
     ]
    },
    {
     "name": "stderr",
     "output_type": "stream",
     "text": [
      "\n",
      " 30%|███       | 6/20 [02:36<06:04, 26.06s/it]\u001b[A"
     ]
    },
    {
     "name": "stdout",
     "output_type": "stream",
     "text": [
      "epoch: 6 | ent loss 0.1047 | rel loss 0.1758 | total loss 0.2805\n",
      "         | val ent loss 0.0600 | val rel loss 0.0455\n"
     ]
    },
    {
     "name": "stderr",
     "output_type": "stream",
     "text": [
      "\n",
      " 35%|███▌      | 7/20 [03:02<05:38, 26.02s/it]\u001b[A"
     ]
    },
    {
     "name": "stdout",
     "output_type": "stream",
     "text": [
      "epoch: 7 | ent loss 0.1006 | rel loss 0.1984 | total loss 0.2990\n",
      "         | val ent loss 0.0463 | val rel loss 0.0127\n"
     ]
    },
    {
     "name": "stderr",
     "output_type": "stream",
     "text": [
      "\n",
      " 40%|████      | 8/20 [03:28<05:13, 26.09s/it]\u001b[A"
     ]
    },
    {
     "name": "stdout",
     "output_type": "stream",
     "text": [
      "epoch: 8 | ent loss 0.0598 | rel loss 0.1060 | total loss 0.1658\n",
      "         | val ent loss 0.0387 | val rel loss 0.0165\n"
     ]
    },
    {
     "name": "stderr",
     "output_type": "stream",
     "text": [
      "\n",
      " 45%|████▌     | 9/20 [03:54<04:46, 26.07s/it]\u001b[A"
     ]
    },
    {
     "name": "stdout",
     "output_type": "stream",
     "text": [
      "epoch: 9 | ent loss 0.0663 | rel loss 0.0889 | total loss 0.1552\n",
      "         | val ent loss 0.0647 | val rel loss 0.0339\n"
     ]
    },
    {
     "name": "stderr",
     "output_type": "stream",
     "text": [
      "\n",
      " 50%|█████     | 10/20 [04:20<04:20, 26.07s/it]\u001b[A"
     ]
    },
    {
     "name": "stdout",
     "output_type": "stream",
     "text": [
      "epoch: 10 | ent loss 0.0579 | rel loss 0.1017 | total loss 0.1596\n",
      "          | val ent loss 0.0598 | val rel loss 0.0106\n"
     ]
    },
    {
     "name": "stderr",
     "output_type": "stream",
     "text": [
      "\n",
      " 55%|█████▌    | 11/20 [04:45<03:53, 25.98s/it]\u001b[A"
     ]
    },
    {
     "name": "stdout",
     "output_type": "stream",
     "text": [
      "epoch: 11 | ent loss 0.0622 | rel loss 0.1055 | total loss 0.1677\n",
      "          | val ent loss 0.1093 | val rel loss 0.0539\n"
     ]
    },
    {
     "name": "stderr",
     "output_type": "stream",
     "text": [
      "\n",
      " 60%|██████    | 12/20 [05:11<03:27, 25.97s/it]\u001b[A"
     ]
    },
    {
     "name": "stdout",
     "output_type": "stream",
     "text": [
      "epoch: 12 | ent loss 0.0451 | rel loss 0.0400 | total loss 0.0850\n",
      "          | val ent loss 0.0426 | val rel loss 0.5464\n"
     ]
    },
    {
     "name": "stderr",
     "output_type": "stream",
     "text": [
      "\n",
      " 65%|██████▌   | 13/20 [05:36<03:01, 25.91s/it]\u001b[A"
     ]
    },
    {
     "name": "stdout",
     "output_type": "stream",
     "text": [
      "epoch: 13 | ent loss 0.0513 | rel loss 0.0557 | total loss 0.1070\n",
      "          | val ent loss 0.0616 | val rel loss 0.0249\n"
     ]
    },
    {
     "name": "stderr",
     "output_type": "stream",
     "text": [
      "\n",
      " 70%|███████   | 14/20 [06:02<02:35, 25.92s/it]\u001b[A"
     ]
    },
    {
     "name": "stdout",
     "output_type": "stream",
     "text": [
      "epoch: 14 | ent loss 0.0537 | rel loss 0.1098 | total loss 0.1636\n",
      "          | val ent loss 0.1309 | val rel loss 0.0308\n"
     ]
    },
    {
     "name": "stderr",
     "output_type": "stream",
     "text": [
      "\n",
      " 75%|███████▌  | 15/20 [06:30<02:10, 26.01s/it]\u001b[A"
     ]
    },
    {
     "name": "stdout",
     "output_type": "stream",
     "text": [
      "epoch: 15 | ent loss 0.0798 | rel loss 0.0958 | total loss 0.1757\n",
      "          | val ent loss 0.1021 | val rel loss 0.0719\n"
     ]
    },
    {
     "name": "stderr",
     "output_type": "stream",
     "text": [
      "\n",
      " 80%|████████  | 16/20 [06:57<01:44, 26.09s/it]\u001b[A"
     ]
    },
    {
     "name": "stdout",
     "output_type": "stream",
     "text": [
      "epoch: 16 | ent loss 0.0765 | rel loss 0.0779 | total loss 0.1544\n",
      "          | val ent loss 0.0424 | val rel loss 0.0060\n"
     ]
    },
    {
     "name": "stderr",
     "output_type": "stream",
     "text": [
      "\n",
      " 85%|████████▌ | 17/20 [07:25<01:18, 26.23s/it]\u001b[A"
     ]
    },
    {
     "name": "stdout",
     "output_type": "stream",
     "text": [
      "epoch: 17 | ent loss 0.0465 | rel loss 0.0888 | total loss 0.1354\n",
      "          | val ent loss 0.0778 | val rel loss 0.0496\n"
     ]
    },
    {
     "name": "stderr",
     "output_type": "stream",
     "text": [
      "\n",
      " 90%|█████████ | 18/20 [07:54<00:52, 26.35s/it]\u001b[A"
     ]
    },
    {
     "name": "stdout",
     "output_type": "stream",
     "text": [
      "epoch: 18 | ent loss 0.0587 | rel loss 0.0774 | total loss 0.1360\n",
      "          | val ent loss 0.0611 | val rel loss 0.0360\n"
     ]
    },
    {
     "name": "stderr",
     "output_type": "stream",
     "text": [
      "\n",
      " 95%|█████████▌| 19/20 [08:22<00:26, 26.45s/it]\u001b[A"
     ]
    },
    {
     "name": "stdout",
     "output_type": "stream",
     "text": [
      "epoch: 19 | ent loss 0.0465 | rel loss 0.0594 | total loss 0.1059\n",
      "          | val ent loss 0.0819 | val rel loss 0.0878\n"
     ]
    },
    {
     "name": "stderr",
     "output_type": "stream",
     "text": [
      "\n",
      "100%|██████████| 20/20 [08:50<00:00, 26.51s/it]\u001b[A\n",
      "\u001b[A"
     ]
    },
    {
     "name": "stdout",
     "output_type": "stream",
     "text": [
      "epoch: 20 | ent loss 0.0480 | rel loss 0.0991 | total loss 0.1471\n",
      "          | val ent loss 0.0436 | val rel loss 0.0269\n",
      "\n",
      "Entity detection score\n",
      "precision  \t recall  \t fbeta_score\n",
      "0.908 \t\t 0.936 \t\t 0.922 \t\n",
      "Entity+Relation detection score \n",
      "precision  \t recall  \t fbeta_score  \t\n",
      "0.753 \t\t 0.601 \t\t 0.669 \t\n",
      "confusion matrix \n",
      "TP  \t fp  \t tn  \t fn\n",
      "220 \t 72 \t 0 \t 146 \t\n",
      "\n",
      "Relation error count: 51\n"
     ]
    },
    {
     "name": "stderr",
     "output_type": "stream",
     "text": [
      " 10%|█         | 1/10 [09:23<1:24:31, 563.47s/it]\n",
      "  0%|          | 0/20 [00:00<?, ?it/s]\u001b[A"
     ]
    },
    {
     "name": "stdout",
     "output_type": "stream",
     "text": [
      "======================================================\n",
      "Relation type 0\n",
      "precision  \t recall  \t fbeta_score  \t\n",
      "0.583 \t\t 0.525 \t\t 0.553 \t\n",
      "\n",
      "======================================================\n",
      "Relation type 1\n",
      "precision  \t recall  \t fbeta_score  \t\n",
      "0.642 \t\t 0.717 \t\t 0.677 \t\n",
      "\n",
      "======================================================\n",
      "Relation type 2\n",
      "precision  \t recall  \t fbeta_score  \t\n",
      "0.890 \t\t 0.776 \t\t 0.829 \t\n",
      "\n",
      "======================================================\n",
      "Relation type 3\n",
      "precision  \t recall  \t fbeta_score  \t\n",
      "0.738 \t\t 0.585 \t\t 0.653 \t\n",
      "\n",
      "======================================================\n",
      "Relation type 4\n",
      "precision  \t recall  \t fbeta_score  \t\n",
      "0.737 \t\t 0.318 \t\t 0.444 \t\n",
      "\n"
     ]
    },
    {
     "name": "stderr",
     "output_type": "stream",
     "text": [
      "\n",
      "  5%|▌         | 1/20 [00:27<08:39, 27.34s/it]\u001b[A"
     ]
    },
    {
     "name": "stdout",
     "output_type": "stream",
     "text": [
      "epoch: 1 | ent loss 0.6576 | rel loss 0.7722 | total loss 1.4297\n",
      "         | val ent loss 0.5889 | val rel loss 0.3108\n"
     ]
    },
    {
     "name": "stderr",
     "output_type": "stream",
     "text": [
      "\n",
      " 10%|█         | 2/20 [00:53<08:05, 26.97s/it]\u001b[A"
     ]
    },
    {
     "name": "stdout",
     "output_type": "stream",
     "text": [
      "epoch: 2 | ent loss 0.4244 | rel loss 0.4195 | total loss 0.8439\n",
      "         | val ent loss 0.3739 | val rel loss 0.1394\n"
     ]
    },
    {
     "name": "stderr",
     "output_type": "stream",
     "text": [
      "\n",
      " 15%|█▌        | 3/20 [01:19<07:31, 26.59s/it]\u001b[A"
     ]
    },
    {
     "name": "stdout",
     "output_type": "stream",
     "text": [
      "epoch: 3 | ent loss 0.1860 | rel loss 0.4088 | total loss 0.5948\n",
      "         | val ent loss 0.2649 | val rel loss 0.0883\n"
     ]
    },
    {
     "name": "stderr",
     "output_type": "stream",
     "text": [
      "\n",
      " 20%|██        | 4/20 [01:45<07:03, 26.49s/it]\u001b[A"
     ]
    },
    {
     "name": "stdout",
     "output_type": "stream",
     "text": [
      "epoch: 4 | ent loss 0.1920 | rel loss 0.1836 | total loss 0.3756\n",
      "         | val ent loss 0.1979 | val rel loss 0.0688\n"
     ]
    },
    {
     "name": "stderr",
     "output_type": "stream",
     "text": [
      "\n",
      " 25%|██▌       | 5/20 [02:12<06:36, 26.44s/it]\u001b[A"
     ]
    },
    {
     "name": "stdout",
     "output_type": "stream",
     "text": [
      "epoch: 5 | ent loss 0.1340 | rel loss 0.1946 | total loss 0.3286\n",
      "         | val ent loss 0.1091 | val rel loss 0.0675\n"
     ]
    },
    {
     "name": "stderr",
     "output_type": "stream",
     "text": [
      "\n",
      " 30%|███       | 6/20 [02:38<06:10, 26.46s/it]\u001b[A"
     ]
    },
    {
     "name": "stdout",
     "output_type": "stream",
     "text": [
      "epoch: 6 | ent loss 0.0724 | rel loss 0.1700 | total loss 0.2423\n",
      "         | val ent loss 0.0584 | val rel loss 0.0309\n"
     ]
    },
    {
     "name": "stderr",
     "output_type": "stream",
     "text": [
      "\n",
      " 35%|███▌      | 7/20 [03:05<05:44, 26.47s/it]\u001b[A"
     ]
    },
    {
     "name": "stdout",
     "output_type": "stream",
     "text": [
      "epoch: 7 | ent loss 0.0745 | rel loss 0.2010 | total loss 0.2755\n",
      "         | val ent loss 0.0622 | val rel loss 0.0500\n"
     ]
    },
    {
     "name": "stderr",
     "output_type": "stream",
     "text": [
      "\n",
      " 40%|████      | 8/20 [03:31<05:17, 26.42s/it]\u001b[A"
     ]
    },
    {
     "name": "stdout",
     "output_type": "stream",
     "text": [
      "epoch: 8 | ent loss 0.0624 | rel loss 0.1184 | total loss 0.1808\n",
      "         | val ent loss 0.0825 | val rel loss 0.0694\n"
     ]
    },
    {
     "name": "stderr",
     "output_type": "stream",
     "text": [
      "\n",
      " 45%|████▌     | 9/20 [03:57<04:50, 26.42s/it]\u001b[A"
     ]
    },
    {
     "name": "stdout",
     "output_type": "stream",
     "text": [
      "epoch: 9 | ent loss 0.0815 | rel loss 0.0935 | total loss 0.1750\n",
      "         | val ent loss 0.0376 | val rel loss 0.0135\n"
     ]
    },
    {
     "name": "stderr",
     "output_type": "stream",
     "text": [
      "\n",
      " 50%|█████     | 10/20 [04:24<04:24, 26.48s/it]\u001b[A"
     ]
    },
    {
     "name": "stdout",
     "output_type": "stream",
     "text": [
      "epoch: 10 | ent loss 0.0405 | rel loss 0.1288 | total loss 0.1692\n",
      "          | val ent loss 0.0146 | val rel loss 0.0070\n"
     ]
    },
    {
     "name": "stderr",
     "output_type": "stream",
     "text": [
      "\n",
      " 55%|█████▌    | 11/20 [04:51<03:58, 26.51s/it]\u001b[A"
     ]
    },
    {
     "name": "stdout",
     "output_type": "stream",
     "text": [
      "epoch: 11 | ent loss 0.0826 | rel loss 0.0848 | total loss 0.1675\n",
      "          | val ent loss 0.0277 | val rel loss 0.0272\n"
     ]
    },
    {
     "name": "stderr",
     "output_type": "stream",
     "text": [
      "\n",
      " 60%|██████    | 12/20 [05:18<03:32, 26.51s/it]\u001b[A"
     ]
    },
    {
     "name": "stdout",
     "output_type": "stream",
     "text": [
      "epoch: 12 | ent loss 0.0834 | rel loss 0.0883 | total loss 0.1716\n",
      "          | val ent loss 0.0537 | val rel loss 0.0330\n"
     ]
    },
    {
     "name": "stderr",
     "output_type": "stream",
     "text": [
      "\n",
      " 65%|██████▌   | 13/20 [05:44<03:05, 26.51s/it]\u001b[A"
     ]
    },
    {
     "name": "stdout",
     "output_type": "stream",
     "text": [
      "epoch: 13 | ent loss 0.0614 | rel loss 0.0869 | total loss 0.1483\n",
      "          | val ent loss 0.0592 | val rel loss 0.0427\n"
     ]
    },
    {
     "name": "stderr",
     "output_type": "stream",
     "text": [
      "\n",
      " 70%|███████   | 14/20 [06:11<02:39, 26.51s/it]\u001b[A"
     ]
    },
    {
     "name": "stdout",
     "output_type": "stream",
     "text": [
      "epoch: 14 | ent loss 0.0635 | rel loss 0.0623 | total loss 0.1259\n",
      "          | val ent loss 0.0485 | val rel loss 0.0396\n"
     ]
    },
    {
     "name": "stderr",
     "output_type": "stream",
     "text": [
      "\n",
      " 75%|███████▌  | 15/20 [06:37<02:12, 26.52s/it]\u001b[A"
     ]
    },
    {
     "name": "stdout",
     "output_type": "stream",
     "text": [
      "epoch: 15 | ent loss 0.0368 | rel loss 0.1057 | total loss 0.1424\n",
      "          | val ent loss 0.0418 | val rel loss 0.0207\n"
     ]
    },
    {
     "name": "stderr",
     "output_type": "stream",
     "text": [
      "\n",
      " 80%|████████  | 16/20 [07:04<01:46, 26.53s/it]\u001b[A"
     ]
    },
    {
     "name": "stdout",
     "output_type": "stream",
     "text": [
      "epoch: 16 | ent loss 0.0763 | rel loss 0.0939 | total loss 0.1702\n",
      "          | val ent loss 0.0264 | val rel loss 0.0040\n"
     ]
    },
    {
     "name": "stderr",
     "output_type": "stream",
     "text": [
      "\n",
      " 85%|████████▌ | 17/20 [07:31<01:19, 26.53s/it]\u001b[A"
     ]
    },
    {
     "name": "stdout",
     "output_type": "stream",
     "text": [
      "epoch: 17 | ent loss 0.0388 | rel loss 0.0951 | total loss 0.1339\n",
      "          | val ent loss 0.0458 | val rel loss 0.0383\n"
     ]
    },
    {
     "name": "stderr",
     "output_type": "stream",
     "text": [
      "\n",
      " 90%|█████████ | 18/20 [07:57<00:53, 26.55s/it]\u001b[A"
     ]
    },
    {
     "name": "stdout",
     "output_type": "stream",
     "text": [
      "epoch: 18 | ent loss 0.0460 | rel loss 0.0759 | total loss 0.1218\n",
      "          | val ent loss 0.0581 | val rel loss 0.0584\n"
     ]
    },
    {
     "name": "stderr",
     "output_type": "stream",
     "text": [
      "\n",
      " 95%|█████████▌| 19/20 [08:24<00:26, 26.54s/it]\u001b[A"
     ]
    },
    {
     "name": "stdout",
     "output_type": "stream",
     "text": [
      "epoch: 19 | ent loss 0.0593 | rel loss 0.0971 | total loss 0.1564\n",
      "          | val ent loss 0.0730 | val rel loss 0.0878\n"
     ]
    },
    {
     "name": "stderr",
     "output_type": "stream",
     "text": [
      "\n",
      "100%|██████████| 20/20 [08:50<00:00, 26.54s/it]\u001b[A\n",
      "\u001b[A"
     ]
    },
    {
     "name": "stdout",
     "output_type": "stream",
     "text": [
      "epoch: 20 | ent loss 0.0447 | rel loss 0.1039 | total loss 0.1487\n",
      "          | val ent loss 0.0742 | val rel loss 0.1219\n",
      "\n",
      "Entity detection score\n",
      "precision  \t recall  \t fbeta_score\n",
      "0.901 \t\t 0.933 \t\t 0.917 \t\n",
      "Entity+Relation detection score \n",
      "precision  \t recall  \t fbeta_score  \t\n",
      "0.725 \t\t 0.664 \t\t 0.693 \t\n",
      "confusion matrix \n",
      "TP  \t fp  \t tn  \t fn\n",
      "243 \t 92 \t 0 \t 123 \t\n",
      "\n",
      "Relation error count: 55\n"
     ]
    },
    {
     "name": "stderr",
     "output_type": "stream",
     "text": [
      " 20%|██        | 2/10 [18:47<1:15:10, 563.80s/it]\n",
      "  0%|          | 0/20 [00:00<?, ?it/s]\u001b[A"
     ]
    },
    {
     "name": "stdout",
     "output_type": "stream",
     "text": [
      "======================================================\n",
      "Relation type 0\n",
      "precision  \t recall  \t fbeta_score  \t\n",
      "0.500 \t\t 0.625 \t\t 0.556 \t\n",
      "\n",
      "======================================================\n",
      "Relation type 1\n",
      "precision  \t recall  \t fbeta_score  \t\n",
      "0.690 \t\t 0.817 \t\t 0.748 \t\n",
      "\n",
      "======================================================\n",
      "Relation type 2\n",
      "precision  \t recall  \t fbeta_score  \t\n",
      "0.870 \t\t 0.752 \t\t 0.807 \t\n",
      "\n",
      "======================================================\n",
      "Relation type 3\n",
      "precision  \t recall  \t fbeta_score  \t\n",
      "0.692 \t\t 0.679 \t\t 0.686 \t\n",
      "\n",
      "======================================================\n",
      "Relation type 4\n",
      "precision  \t recall  \t fbeta_score  \t\n",
      "0.722 \t\t 0.443 \t\t 0.549 \t\n",
      "\n"
     ]
    },
    {
     "name": "stderr",
     "output_type": "stream",
     "text": [
      "\n",
      "  5%|▌         | 1/20 [00:26<08:17, 26.21s/it]\u001b[A"
     ]
    },
    {
     "name": "stdout",
     "output_type": "stream",
     "text": [
      "epoch: 1 | ent loss 0.6327 | rel loss 0.7668 | total loss 1.3995\n",
      "         | val ent loss 0.5991 | val rel loss 0.3761\n"
     ]
    },
    {
     "name": "stderr",
     "output_type": "stream",
     "text": [
      "\n",
      " 10%|█         | 2/20 [00:52<07:50, 26.13s/it]\u001b[A"
     ]
    },
    {
     "name": "stdout",
     "output_type": "stream",
     "text": [
      "epoch: 2 | ent loss 0.3393 | rel loss 0.4445 | total loss 0.7838\n",
      "         | val ent loss 0.3182 | val rel loss 0.1405\n"
     ]
    },
    {
     "name": "stderr",
     "output_type": "stream",
     "text": [
      "\n",
      " 15%|█▌        | 3/20 [01:17<07:20, 25.94s/it]\u001b[A"
     ]
    },
    {
     "name": "stdout",
     "output_type": "stream",
     "text": [
      "epoch: 3 | ent loss 0.1613 | rel loss 0.1872 | total loss 0.3485\n",
      "         | val ent loss 0.1296 | val rel loss 0.0797\n"
     ]
    },
    {
     "name": "stderr",
     "output_type": "stream",
     "text": [
      "\n",
      " 20%|██        | 4/20 [01:43<06:55, 25.95s/it]\u001b[A"
     ]
    },
    {
     "name": "stdout",
     "output_type": "stream",
     "text": [
      "epoch: 4 | ent loss 0.1787 | rel loss 0.2285 | total loss 0.4072\n",
      "         | val ent loss 0.1261 | val rel loss 0.1282\n"
     ]
    },
    {
     "name": "stderr",
     "output_type": "stream",
     "text": [
      "\n",
      " 25%|██▌       | 5/20 [02:09<06:29, 26.00s/it]\u001b[A"
     ]
    },
    {
     "name": "stdout",
     "output_type": "stream",
     "text": [
      "epoch: 5 | ent loss 0.0805 | rel loss 0.1903 | total loss 0.2708\n",
      "         | val ent loss 0.1011 | val rel loss 0.0620\n"
     ]
    },
    {
     "name": "stderr",
     "output_type": "stream",
     "text": [
      "\n",
      " 30%|███       | 6/20 [02:36<06:04, 26.00s/it]\u001b[A"
     ]
    },
    {
     "name": "stdout",
     "output_type": "stream",
     "text": [
      "epoch: 6 | ent loss 0.0544 | rel loss 0.1248 | total loss 0.1792\n",
      "         | val ent loss 0.0743 | val rel loss 0.0488\n"
     ]
    },
    {
     "name": "stderr",
     "output_type": "stream",
     "text": [
      "\n",
      " 35%|███▌      | 7/20 [03:01<05:37, 25.94s/it]\u001b[A"
     ]
    },
    {
     "name": "stdout",
     "output_type": "stream",
     "text": [
      "epoch: 7 | ent loss 0.0601 | rel loss 0.1400 | total loss 0.2001\n",
      "         | val ent loss 0.0899 | val rel loss 0.0385\n"
     ]
    },
    {
     "name": "stderr",
     "output_type": "stream",
     "text": [
      "\n",
      " 40%|████      | 8/20 [03:26<05:09, 25.83s/it]\u001b[A"
     ]
    },
    {
     "name": "stdout",
     "output_type": "stream",
     "text": [
      "epoch: 8 | ent loss 0.0891 | rel loss 0.1408 | total loss 0.2299\n",
      "         | val ent loss 0.0850 | val rel loss 0.0896\n"
     ]
    },
    {
     "name": "stderr",
     "output_type": "stream",
     "text": [
      "\n",
      " 45%|████▌     | 9/20 [03:51<04:43, 25.76s/it]\u001b[A"
     ]
    },
    {
     "name": "stdout",
     "output_type": "stream",
     "text": [
      "epoch: 9 | ent loss 0.0688 | rel loss 0.1253 | total loss 0.1940\n",
      "         | val ent loss 0.0655 | val rel loss 0.0564\n"
     ]
    },
    {
     "name": "stderr",
     "output_type": "stream",
     "text": [
      "\n",
      " 50%|█████     | 10/20 [04:16<04:16, 25.70s/it]\u001b[A"
     ]
    },
    {
     "name": "stdout",
     "output_type": "stream",
     "text": [
      "epoch: 10 | ent loss 0.0706 | rel loss 0.1033 | total loss 0.1739\n",
      "          | val ent loss 0.0348 | val rel loss 0.0118\n"
     ]
    },
    {
     "name": "stderr",
     "output_type": "stream",
     "text": [
      "\n",
      " 55%|█████▌    | 11/20 [04:42<03:50, 25.64s/it]\u001b[A"
     ]
    },
    {
     "name": "stdout",
     "output_type": "stream",
     "text": [
      "epoch: 11 | ent loss 0.0712 | rel loss 0.1219 | total loss 0.1932\n",
      "          | val ent loss 0.0585 | val rel loss 0.0251\n"
     ]
    },
    {
     "name": "stderr",
     "output_type": "stream",
     "text": [
      "\n",
      " 60%|██████    | 12/20 [05:07<03:24, 25.62s/it]\u001b[A"
     ]
    },
    {
     "name": "stdout",
     "output_type": "stream",
     "text": [
      "epoch: 12 | ent loss 0.0485 | rel loss 0.1046 | total loss 0.1531\n",
      "          | val ent loss 0.0369 | val rel loss 0.0074\n"
     ]
    },
    {
     "name": "stderr",
     "output_type": "stream",
     "text": [
      "\n",
      " 65%|██████▌   | 13/20 [05:32<02:59, 25.61s/it]\u001b[A"
     ]
    },
    {
     "name": "stdout",
     "output_type": "stream",
     "text": [
      "epoch: 13 | ent loss 0.0440 | rel loss 0.1105 | total loss 0.1545\n",
      "          | val ent loss 0.0568 | val rel loss 0.0119\n"
     ]
    },
    {
     "name": "stderr",
     "output_type": "stream",
     "text": [
      "\n",
      " 70%|███████   | 14/20 [05:58<02:33, 25.62s/it]\u001b[A"
     ]
    },
    {
     "name": "stdout",
     "output_type": "stream",
     "text": [
      "epoch: 14 | ent loss 0.0444 | rel loss 0.0809 | total loss 0.1253\n",
      "          | val ent loss 0.0229 | val rel loss 0.0096\n"
     ]
    },
    {
     "name": "stderr",
     "output_type": "stream",
     "text": [
      "\n",
      " 75%|███████▌  | 15/20 [06:24<02:08, 25.62s/it]\u001b[A"
     ]
    },
    {
     "name": "stdout",
     "output_type": "stream",
     "text": [
      "epoch: 15 | ent loss 0.0410 | rel loss 0.0913 | total loss 0.1323\n",
      "          | val ent loss 0.0371 | val rel loss 0.0144\n"
     ]
    },
    {
     "name": "stderr",
     "output_type": "stream",
     "text": [
      "\n",
      " 80%|████████  | 16/20 [06:51<01:42, 25.70s/it]\u001b[A"
     ]
    },
    {
     "name": "stdout",
     "output_type": "stream",
     "text": [
      "epoch: 16 | ent loss 0.0496 | rel loss 0.0578 | total loss 0.1074\n",
      "          | val ent loss 0.0627 | val rel loss 0.0102\n"
     ]
    },
    {
     "name": "stderr",
     "output_type": "stream",
     "text": [
      "\n",
      " 85%|████████▌ | 17/20 [07:18<01:17, 25.77s/it]\u001b[A"
     ]
    },
    {
     "name": "stdout",
     "output_type": "stream",
     "text": [
      "epoch: 17 | ent loss 0.0308 | rel loss 0.1076 | total loss 0.1384\n",
      "          | val ent loss 0.0320 | val rel loss 0.0049\n"
     ]
    },
    {
     "name": "stderr",
     "output_type": "stream",
     "text": [
      "\n",
      " 90%|█████████ | 18/20 [07:46<00:51, 25.90s/it]\u001b[A"
     ]
    },
    {
     "name": "stdout",
     "output_type": "stream",
     "text": [
      "epoch: 18 | ent loss 0.0424 | rel loss 0.0478 | total loss 0.0902\n",
      "          | val ent loss 0.0306 | val rel loss 0.0058\n"
     ]
    },
    {
     "name": "stderr",
     "output_type": "stream",
     "text": [
      "\n",
      " 95%|█████████▌| 19/20 [08:14<00:26, 26.00s/it]\u001b[A"
     ]
    },
    {
     "name": "stdout",
     "output_type": "stream",
     "text": [
      "epoch: 19 | ent loss 0.0679 | rel loss 0.0948 | total loss 0.1627\n",
      "          | val ent loss 0.0363 | val rel loss 0.0125\n"
     ]
    },
    {
     "name": "stderr",
     "output_type": "stream",
     "text": [
      "\n",
      "100%|██████████| 20/20 [08:42<00:00, 26.10s/it]\u001b[A\n",
      "\u001b[A"
     ]
    },
    {
     "name": "stdout",
     "output_type": "stream",
     "text": [
      "epoch: 20 | ent loss 0.0408 | rel loss 0.1606 | total loss 0.2014\n",
      "          | val ent loss 0.0455 | val rel loss 0.0319\n",
      "\n",
      "Entity detection score\n",
      "precision  \t recall  \t fbeta_score\n",
      "0.903 \t\t 0.931 \t\t 0.917 \t\n",
      "Entity+Relation detection score \n",
      "precision  \t recall  \t fbeta_score  \t\n",
      "0.749 \t\t 0.628 \t\t 0.684 \t\n",
      "confusion matrix \n",
      "TP  \t fp  \t tn  \t fn\n",
      "230 \t 77 \t 0 \t 136 \t\n",
      "\n",
      "Relation error count: 44\n"
     ]
    },
    {
     "name": "stderr",
     "output_type": "stream",
     "text": [
      " 30%|███       | 3/10 [28:09<1:05:43, 563.33s/it]\n",
      "  0%|          | 0/20 [00:00<?, ?it/s]\u001b[A"
     ]
    },
    {
     "name": "stdout",
     "output_type": "stream",
     "text": [
      "======================================================\n",
      "Relation type 0\n",
      "precision  \t recall  \t fbeta_score  \t\n",
      "0.595 \t\t 0.550 \t\t 0.571 \t\n",
      "\n",
      "======================================================\n",
      "Relation type 1\n",
      "precision  \t recall  \t fbeta_score  \t\n",
      "0.786 \t\t 0.550 \t\t 0.647 \t\n",
      "\n",
      "======================================================\n",
      "Relation type 2\n",
      "precision  \t recall  \t fbeta_score  \t\n",
      "0.803 \t\t 0.752 \t\t 0.777 \t\n",
      "\n",
      "======================================================\n",
      "Relation type 3\n",
      "precision  \t recall  \t fbeta_score  \t\n",
      "0.766 \t\t 0.679 \t\t 0.720 \t\n",
      "\n",
      "======================================================\n",
      "Relation type 4\n",
      "precision  \t recall  \t fbeta_score  \t\n",
      "0.703 \t\t 0.511 \t\t 0.592 \t\n",
      "\n"
     ]
    },
    {
     "name": "stderr",
     "output_type": "stream",
     "text": [
      "\n",
      "  5%|▌         | 1/20 [00:27<08:39, 27.35s/it]\u001b[A"
     ]
    },
    {
     "name": "stdout",
     "output_type": "stream",
     "text": [
      "epoch: 1 | ent loss 0.5750 | rel loss 0.5185 | total loss 1.0935\n",
      "         | val ent loss 0.5790 | val rel loss 0.2473\n"
     ]
    },
    {
     "name": "stderr",
     "output_type": "stream",
     "text": [
      "\n",
      " 10%|█         | 2/20 [00:55<08:15, 27.53s/it]\u001b[A"
     ]
    },
    {
     "name": "stdout",
     "output_type": "stream",
     "text": [
      "epoch: 2 | ent loss 0.4003 | rel loss 0.2873 | total loss 0.6877\n",
      "         | val ent loss 0.3540 | val rel loss 0.1247\n"
     ]
    },
    {
     "name": "stderr",
     "output_type": "stream",
     "text": [
      "\n",
      " 15%|█▌        | 3/20 [01:23<07:52, 27.82s/it]\u001b[A"
     ]
    },
    {
     "name": "stdout",
     "output_type": "stream",
     "text": [
      "epoch: 3 | ent loss 0.2397 | rel loss 0.4002 | total loss 0.6400\n",
      "         | val ent loss 0.1739 | val rel loss 0.0664\n"
     ]
    },
    {
     "name": "stderr",
     "output_type": "stream",
     "text": [
      "\n",
      " 20%|██        | 4/20 [01:50<07:22, 27.68s/it]\u001b[A"
     ]
    },
    {
     "name": "stdout",
     "output_type": "stream",
     "text": [
      "epoch: 4 | ent loss 0.2112 | rel loss 0.2313 | total loss 0.4425\n",
      "         | val ent loss 0.1370 | val rel loss 0.1016\n"
     ]
    },
    {
     "name": "stderr",
     "output_type": "stream",
     "text": [
      "\n",
      " 25%|██▌       | 5/20 [02:17<06:52, 27.50s/it]\u001b[A"
     ]
    },
    {
     "name": "stdout",
     "output_type": "stream",
     "text": [
      "epoch: 5 | ent loss 0.1309 | rel loss 0.2159 | total loss 0.3467\n",
      "         | val ent loss 0.0607 | val rel loss 0.0239\n"
     ]
    },
    {
     "name": "stderr",
     "output_type": "stream",
     "text": [
      "\n",
      " 30%|███       | 6/20 [02:44<06:24, 27.48s/it]\u001b[A"
     ]
    },
    {
     "name": "stdout",
     "output_type": "stream",
     "text": [
      "epoch: 6 | ent loss 0.0972 | rel loss 0.1993 | total loss 0.2965\n",
      "         | val ent loss 0.0568 | val rel loss 0.0226\n"
     ]
    },
    {
     "name": "stderr",
     "output_type": "stream",
     "text": [
      "\n",
      " 35%|███▌      | 7/20 [03:12<05:57, 27.52s/it]\u001b[A"
     ]
    },
    {
     "name": "stdout",
     "output_type": "stream",
     "text": [
      "epoch: 7 | ent loss 0.0696 | rel loss 0.1747 | total loss 0.2443\n",
      "         | val ent loss 0.0729 | val rel loss 0.0394\n"
     ]
    },
    {
     "name": "stderr",
     "output_type": "stream",
     "text": [
      "\n",
      " 40%|████      | 8/20 [03:39<05:29, 27.45s/it]\u001b[A"
     ]
    },
    {
     "name": "stdout",
     "output_type": "stream",
     "text": [
      "epoch: 8 | ent loss 0.1045 | rel loss 0.1501 | total loss 0.2545\n",
      "         | val ent loss 0.0494 | val rel loss 0.0135\n"
     ]
    },
    {
     "name": "stderr",
     "output_type": "stream",
     "text": [
      "\n",
      " 45%|████▌     | 9/20 [04:07<05:02, 27.51s/it]\u001b[A"
     ]
    },
    {
     "name": "stdout",
     "output_type": "stream",
     "text": [
      "epoch: 9 | ent loss 0.1099 | rel loss 0.1215 | total loss 0.2313\n",
      "         | val ent loss 0.0532 | val rel loss 0.0287\n"
     ]
    },
    {
     "name": "stderr",
     "output_type": "stream",
     "text": [
      "\n",
      " 50%|█████     | 10/20 [04:37<04:37, 27.72s/it]\u001b[A"
     ]
    },
    {
     "name": "stdout",
     "output_type": "stream",
     "text": [
      "epoch: 10 | ent loss 0.0684 | rel loss 0.0630 | total loss 0.1313\n",
      "          | val ent loss 0.0240 | val rel loss 0.0082\n"
     ]
    },
    {
     "name": "stderr",
     "output_type": "stream",
     "text": [
      "\n",
      " 55%|█████▌    | 11/20 [05:04<04:09, 27.69s/it]\u001b[A"
     ]
    },
    {
     "name": "stdout",
     "output_type": "stream",
     "text": [
      "epoch: 11 | ent loss 0.0766 | rel loss 0.1240 | total loss 0.2006\n",
      "          | val ent loss 0.0685 | val rel loss 0.0193\n"
     ]
    },
    {
     "name": "stderr",
     "output_type": "stream",
     "text": [
      "\n",
      " 60%|██████    | 12/20 [05:33<03:42, 27.78s/it]\u001b[A"
     ]
    },
    {
     "name": "stdout",
     "output_type": "stream",
     "text": [
      "epoch: 12 | ent loss 0.0634 | rel loss 0.0916 | total loss 0.1551\n",
      "          | val ent loss 0.0457 | val rel loss 0.0070\n"
     ]
    },
    {
     "name": "stderr",
     "output_type": "stream",
     "text": [
      "\n",
      " 65%|██████▌   | 13/20 [06:01<03:14, 27.81s/it]\u001b[A"
     ]
    },
    {
     "name": "stdout",
     "output_type": "stream",
     "text": [
      "epoch: 13 | ent loss 0.0449 | rel loss 0.0952 | total loss 0.1401\n",
      "          | val ent loss 0.0388 | val rel loss 0.0352\n"
     ]
    },
    {
     "name": "stderr",
     "output_type": "stream",
     "text": [
      "\n",
      " 70%|███████   | 14/20 [06:29<02:47, 27.84s/it]\u001b[A"
     ]
    },
    {
     "name": "stdout",
     "output_type": "stream",
     "text": [
      "epoch: 14 | ent loss 0.0725 | rel loss 0.0654 | total loss 0.1379\n",
      "          | val ent loss 0.0661 | val rel loss 0.0341\n"
     ]
    },
    {
     "name": "stderr",
     "output_type": "stream",
     "text": [
      "\n",
      " 75%|███████▌  | 15/20 [06:57<02:19, 27.81s/it]\u001b[A"
     ]
    },
    {
     "name": "stdout",
     "output_type": "stream",
     "text": [
      "epoch: 15 | ent loss nan | rel loss nan | total loss nan\n",
      "          | val ent loss nan | val rel loss nan\n"
     ]
    },
    {
     "name": "stderr",
     "output_type": "stream",
     "text": [
      "\n",
      " 80%|████████  | 16/20 [07:25<01:51, 27.81s/it]\u001b[A"
     ]
    },
    {
     "name": "stdout",
     "output_type": "stream",
     "text": [
      "epoch: 16 | ent loss nan | rel loss nan | total loss nan\n",
      "          | val ent loss nan | val rel loss nan\n"
     ]
    },
    {
     "name": "stderr",
     "output_type": "stream",
     "text": [
      "\n",
      " 85%|████████▌ | 17/20 [07:52<01:23, 27.79s/it]\u001b[A"
     ]
    },
    {
     "name": "stdout",
     "output_type": "stream",
     "text": [
      "epoch: 17 | ent loss nan | rel loss nan | total loss nan\n",
      "          | val ent loss nan | val rel loss nan\n"
     ]
    },
    {
     "name": "stderr",
     "output_type": "stream",
     "text": [
      "\n",
      " 90%|█████████ | 18/20 [08:18<00:55, 27.71s/it]\u001b[A"
     ]
    },
    {
     "name": "stdout",
     "output_type": "stream",
     "text": [
      "epoch: 18 | ent loss nan | rel loss nan | total loss nan\n",
      "          | val ent loss nan | val rel loss nan\n"
     ]
    },
    {
     "name": "stderr",
     "output_type": "stream",
     "text": [
      "\n",
      " 95%|█████████▌| 19/20 [08:43<00:27, 27.54s/it]\u001b[A"
     ]
    },
    {
     "name": "stdout",
     "output_type": "stream",
     "text": [
      "epoch: 19 | ent loss nan | rel loss nan | total loss nan\n",
      "          | val ent loss nan | val rel loss nan\n"
     ]
    },
    {
     "name": "stderr",
     "output_type": "stream",
     "text": [
      "\n",
      "100%|██████████| 20/20 [09:08<00:00, 27.43s/it]\u001b[A\n",
      "\u001b[A"
     ]
    },
    {
     "name": "stdout",
     "output_type": "stream",
     "text": [
      "epoch: 20 | ent loss nan | rel loss nan | total loss nan\n",
      "          | val ent loss nan | val rel loss nan\n",
      "\n",
      "Entity detection score\n",
      "precision  \t recall  \t fbeta_score\n",
      "0.000 \t\t 0.000 \t\t 0.000 \t\n",
      "Entity+Relation detection score \n",
      "precision  \t recall  \t fbeta_score  \t\n",
      "0.0 \t\t 0.0 \t\t 0.0 \t\n",
      "confusion matrix \n",
      "TP  \t fp  \t tn  \t fn\n",
      "0 \t 0 \t 0 \t 366 \t\n",
      "\n",
      "Relation error count: 481\n"
     ]
    },
    {
     "name": "stderr",
     "output_type": "stream",
     "text": [
      " 40%|████      | 4/10 [37:46<56:39, 566.63s/it]  \n",
      "  0%|          | 0/20 [00:00<?, ?it/s]\u001b[A"
     ]
    },
    {
     "name": "stdout",
     "output_type": "stream",
     "text": [
      "======================================================\n",
      "Relation type 0\n",
      "precision  \t recall  \t fbeta_score  \t\n",
      "0.000 \t\t 0.000 \t\t 0.000 \t\n",
      "\n",
      "======================================================\n",
      "Relation type 1\n",
      "precision  \t recall  \t fbeta_score  \t\n",
      "0.000 \t\t 0.000 \t\t 0.000 \t\n",
      "\n",
      "======================================================\n",
      "Relation type 2\n",
      "precision  \t recall  \t fbeta_score  \t\n",
      "0.000 \t\t 0.000 \t\t 0.000 \t\n",
      "\n",
      "======================================================\n",
      "Relation type 3\n",
      "precision  \t recall  \t fbeta_score  \t\n",
      "0.000 \t\t 0.000 \t\t 0.000 \t\n",
      "\n",
      "======================================================\n",
      "Relation type 4\n",
      "precision  \t recall  \t fbeta_score  \t\n",
      "0.000 \t\t 0.000 \t\t 0.000 \t\n",
      "\n"
     ]
    },
    {
     "name": "stderr",
     "output_type": "stream",
     "text": [
      "\n",
      "  5%|▌         | 1/20 [00:24<07:54, 24.96s/it]\u001b[A"
     ]
    },
    {
     "name": "stdout",
     "output_type": "stream",
     "text": [
      "epoch: 1 | ent loss 0.8188 | rel loss 1.0219 | total loss 1.8407\n",
      "         | val ent loss 0.5149 | val rel loss 0.3437\n"
     ]
    },
    {
     "name": "stderr",
     "output_type": "stream",
     "text": [
      "\n",
      " 10%|█         | 2/20 [00:50<07:30, 25.00s/it]\u001b[A"
     ]
    },
    {
     "name": "stdout",
     "output_type": "stream",
     "text": [
      "epoch: 2 | ent loss 0.3081 | rel loss 0.3248 | total loss 0.6330\n",
      "         | val ent loss 0.2398 | val rel loss 0.1172\n"
     ]
    },
    {
     "name": "stderr",
     "output_type": "stream",
     "text": [
      "\n",
      " 15%|█▌        | 3/20 [01:15<07:06, 25.11s/it]\u001b[A"
     ]
    },
    {
     "name": "stdout",
     "output_type": "stream",
     "text": [
      "epoch: 3 | ent loss 0.2041 | rel loss 0.3127 | total loss 0.5168\n",
      "         | val ent loss 0.1706 | val rel loss 0.0837\n"
     ]
    },
    {
     "name": "stderr",
     "output_type": "stream",
     "text": [
      "\n",
      " 20%|██        | 4/20 [01:43<06:53, 25.84s/it]\u001b[A"
     ]
    },
    {
     "name": "stdout",
     "output_type": "stream",
     "text": [
      "epoch: 4 | ent loss 0.1309 | rel loss 0.2034 | total loss 0.3343\n",
      "         | val ent loss 0.0993 | val rel loss 0.0549\n"
     ]
    },
    {
     "name": "stderr",
     "output_type": "stream",
     "text": [
      "\n",
      " 25%|██▌       | 5/20 [02:12<06:37, 26.52s/it]\u001b[A"
     ]
    },
    {
     "name": "stdout",
     "output_type": "stream",
     "text": [
      "epoch: 5 | ent loss 0.1268 | rel loss 0.2338 | total loss 0.3606\n",
      "         | val ent loss 0.0675 | val rel loss 0.0543\n"
     ]
    },
    {
     "name": "stderr",
     "output_type": "stream",
     "text": [
      "\n",
      " 30%|███       | 6/20 [02:40<06:14, 26.77s/it]\u001b[A"
     ]
    },
    {
     "name": "stdout",
     "output_type": "stream",
     "text": [
      "epoch: 6 | ent loss 0.0884 | rel loss 0.2483 | total loss 0.3367\n",
      "         | val ent loss 0.0785 | val rel loss 0.0333\n"
     ]
    },
    {
     "name": "stderr",
     "output_type": "stream",
     "text": [
      "\n",
      " 35%|███▌      | 7/20 [03:08<05:49, 26.91s/it]\u001b[A"
     ]
    },
    {
     "name": "stdout",
     "output_type": "stream",
     "text": [
      "epoch: 7 | ent loss 0.0728 | rel loss 0.1080 | total loss 0.1808\n",
      "         | val ent loss 0.0658 | val rel loss 0.0460\n"
     ]
    },
    {
     "name": "stderr",
     "output_type": "stream",
     "text": [
      "\n",
      " 40%|████      | 8/20 [03:35<05:23, 26.98s/it]\u001b[A"
     ]
    },
    {
     "name": "stdout",
     "output_type": "stream",
     "text": [
      "epoch: 8 | ent loss 0.0547 | rel loss 0.1381 | total loss 0.1928\n",
      "         | val ent loss 0.0742 | val rel loss 0.0367\n"
     ]
    },
    {
     "name": "stderr",
     "output_type": "stream",
     "text": [
      "\n",
      " 45%|████▌     | 9/20 [04:03<04:57, 27.08s/it]\u001b[A"
     ]
    },
    {
     "name": "stdout",
     "output_type": "stream",
     "text": [
      "epoch: 9 | ent loss 0.0803 | rel loss 0.1427 | total loss 0.2230\n",
      "         | val ent loss 0.0692 | val rel loss 0.0562\n"
     ]
    },
    {
     "name": "stderr",
     "output_type": "stream",
     "text": [
      "\n",
      " 50%|█████     | 10/20 [04:31<04:31, 27.13s/it]\u001b[A"
     ]
    },
    {
     "name": "stdout",
     "output_type": "stream",
     "text": [
      "epoch: 10 | ent loss 0.0608 | rel loss 0.1192 | total loss 0.1800\n",
      "          | val ent loss 0.0621 | val rel loss 0.0464\n"
     ]
    },
    {
     "name": "stderr",
     "output_type": "stream",
     "text": [
      "\n",
      " 55%|█████▌    | 11/20 [04:59<04:04, 27.20s/it]\u001b[A"
     ]
    },
    {
     "name": "stdout",
     "output_type": "stream",
     "text": [
      "epoch: 11 | ent loss 0.0791 | rel loss 0.1750 | total loss 0.2541\n",
      "          | val ent loss 0.1148 | val rel loss 0.0542\n"
     ]
    },
    {
     "name": "stderr",
     "output_type": "stream",
     "text": [
      "\n",
      " 60%|██████    | 12/20 [05:26<03:37, 27.24s/it]\u001b[A"
     ]
    },
    {
     "name": "stdout",
     "output_type": "stream",
     "text": [
      "epoch: 12 | ent loss 0.0480 | rel loss 0.0554 | total loss 0.1034\n",
      "          | val ent loss 0.0708 | val rel loss 0.0406\n"
     ]
    },
    {
     "name": "stderr",
     "output_type": "stream",
     "text": [
      "\n",
      " 65%|██████▌   | 13/20 [05:57<03:12, 27.50s/it]\u001b[A"
     ]
    },
    {
     "name": "stdout",
     "output_type": "stream",
     "text": [
      "epoch: 13 | ent loss 0.0406 | rel loss 0.0478 | total loss 0.0884\n",
      "          | val ent loss 0.0318 | val rel loss 0.0417\n"
     ]
    },
    {
     "name": "stderr",
     "output_type": "stream",
     "text": [
      "\n",
      " 70%|███████   | 14/20 [06:27<02:45, 27.65s/it]\u001b[A"
     ]
    },
    {
     "name": "stdout",
     "output_type": "stream",
     "text": [
      "epoch: 14 | ent loss 0.0759 | rel loss 0.1532 | total loss 0.2292\n",
      "          | val ent loss 0.0405 | val rel loss 0.0160\n"
     ]
    },
    {
     "name": "stderr",
     "output_type": "stream",
     "text": [
      "\n",
      " 75%|███████▌  | 15/20 [06:56<02:18, 27.79s/it]\u001b[A"
     ]
    },
    {
     "name": "stdout",
     "output_type": "stream",
     "text": [
      "epoch: 15 | ent loss 0.0720 | rel loss 0.0999 | total loss 0.1719\n",
      "          | val ent loss 0.0294 | val rel loss 0.0235\n"
     ]
    },
    {
     "name": "stderr",
     "output_type": "stream",
     "text": [
      "\n",
      " 80%|████████  | 16/20 [07:28<01:52, 28.01s/it]\u001b[A"
     ]
    },
    {
     "name": "stdout",
     "output_type": "stream",
     "text": [
      "epoch: 16 | ent loss 0.0397 | rel loss 0.0618 | total loss 0.1015\n",
      "          | val ent loss 0.0161 | val rel loss 0.0041\n"
     ]
    },
    {
     "name": "stderr",
     "output_type": "stream",
     "text": [
      "\n",
      " 85%|████████▌ | 17/20 [07:59<01:24, 28.19s/it]\u001b[A"
     ]
    },
    {
     "name": "stdout",
     "output_type": "stream",
     "text": [
      "epoch: 17 | ent loss 0.0402 | rel loss 0.0736 | total loss 0.1138\n",
      "          | val ent loss 0.0339 | val rel loss 0.0244\n"
     ]
    },
    {
     "name": "stderr",
     "output_type": "stream",
     "text": [
      "\n",
      " 90%|█████████ | 18/20 [08:28<00:56, 28.26s/it]\u001b[A"
     ]
    },
    {
     "name": "stdout",
     "output_type": "stream",
     "text": [
      "epoch: 18 | ent loss 0.0437 | rel loss 0.0648 | total loss 0.1084\n",
      "          | val ent loss 0.0539 | val rel loss 0.0642\n"
     ]
    },
    {
     "name": "stderr",
     "output_type": "stream",
     "text": [
      "\n",
      " 95%|█████████▌| 19/20 [08:59<00:28, 28.39s/it]\u001b[A"
     ]
    },
    {
     "name": "stdout",
     "output_type": "stream",
     "text": [
      "epoch: 19 | ent loss 0.0390 | rel loss 0.1172 | total loss 0.1562\n",
      "          | val ent loss 0.0372 | val rel loss 0.0124\n"
     ]
    },
    {
     "name": "stderr",
     "output_type": "stream",
     "text": [
      "\n",
      "100%|██████████| 20/20 [09:28<00:00, 28.45s/it]\u001b[A\n",
      "\u001b[A"
     ]
    },
    {
     "name": "stdout",
     "output_type": "stream",
     "text": [
      "epoch: 20 | ent loss 0.0591 | rel loss 0.0724 | total loss 0.1316\n",
      "          | val ent loss 0.0406 | val rel loss 0.0133\n",
      "\n",
      "Entity detection score\n",
      "precision  \t recall  \t fbeta_score\n",
      "0.916 \t\t 0.919 \t\t 0.917 \t\n",
      "Entity+Relation detection score \n",
      "precision  \t recall  \t fbeta_score  \t\n",
      "0.802 \t\t 0.53 \t\t 0.638 \t\n",
      "confusion matrix \n",
      "TP  \t fp  \t tn  \t fn\n",
      "194 \t 48 \t 0 \t 172 \t\n",
      "\n",
      "Relation error count: 35\n"
     ]
    },
    {
     "name": "stderr",
     "output_type": "stream",
     "text": [
      " 50%|█████     | 5/10 [47:49<47:49, 573.88s/it]\n",
      "  0%|          | 0/20 [00:00<?, ?it/s]\u001b[A"
     ]
    },
    {
     "name": "stdout",
     "output_type": "stream",
     "text": [
      "======================================================\n",
      "Relation type 0\n",
      "precision  \t recall  \t fbeta_score  \t\n",
      "0.719 \t\t 0.575 \t\t 0.639 \t\n",
      "\n",
      "======================================================\n",
      "Relation type 1\n",
      "precision  \t recall  \t fbeta_score  \t\n",
      "0.736 \t\t 0.650 \t\t 0.690 \t\n",
      "\n",
      "======================================================\n",
      "Relation type 2\n",
      "precision  \t recall  \t fbeta_score  \t\n",
      "0.888 \t\t 0.632 \t\t 0.738 \t\n",
      "\n",
      "======================================================\n",
      "Relation type 3\n",
      "precision  \t recall  \t fbeta_score  \t\n",
      "0.762 \t\t 0.604 \t\t 0.674 \t\n",
      "\n",
      "======================================================\n",
      "Relation type 4\n",
      "precision  \t recall  \t fbeta_score  \t\n",
      "0.808 \t\t 0.239 \t\t 0.368 \t\n",
      "\n"
     ]
    },
    {
     "name": "stderr",
     "output_type": "stream",
     "text": [
      "\n",
      "  5%|▌         | 1/20 [00:29<09:23, 29.66s/it]\u001b[A"
     ]
    },
    {
     "name": "stdout",
     "output_type": "stream",
     "text": [
      "epoch: 1 | ent loss 0.7321 | rel loss 0.8502 | total loss 1.5823\n",
      "         | val ent loss 0.4781 | val rel loss 0.2789\n"
     ]
    },
    {
     "name": "stderr",
     "output_type": "stream",
     "text": [
      "\n",
      " 10%|█         | 2/20 [00:57<08:33, 28.51s/it]\u001b[A"
     ]
    },
    {
     "name": "stdout",
     "output_type": "stream",
     "text": [
      "epoch: 2 | ent loss 0.4073 | rel loss 0.4951 | total loss 0.9024\n",
      "         | val ent loss 0.3022 | val rel loss 0.1363\n"
     ]
    },
    {
     "name": "stderr",
     "output_type": "stream",
     "text": [
      "\n",
      " 15%|█▌        | 3/20 [01:23<07:53, 27.85s/it]\u001b[A"
     ]
    },
    {
     "name": "stdout",
     "output_type": "stream",
     "text": [
      "epoch: 3 | ent loss 0.3020 | rel loss 0.3561 | total loss 0.6581\n",
      "         | val ent loss 0.2610 | val rel loss 0.1463\n"
     ]
    },
    {
     "name": "stderr",
     "output_type": "stream",
     "text": [
      "\n",
      " 20%|██        | 4/20 [01:52<07:29, 28.07s/it]\u001b[A"
     ]
    },
    {
     "name": "stdout",
     "output_type": "stream",
     "text": [
      "epoch: 4 | ent loss 0.1458 | rel loss 0.2490 | total loss 0.3948\n",
      "         | val ent loss 0.1197 | val rel loss 0.0639\n"
     ]
    },
    {
     "name": "stderr",
     "output_type": "stream",
     "text": [
      "\n",
      " 25%|██▌       | 5/20 [02:22<07:06, 28.46s/it]\u001b[A"
     ]
    },
    {
     "name": "stdout",
     "output_type": "stream",
     "text": [
      "epoch: 5 | ent loss 0.0859 | rel loss 0.2817 | total loss 0.3677\n",
      "         | val ent loss 0.1107 | val rel loss 0.0906\n"
     ]
    },
    {
     "name": "stderr",
     "output_type": "stream",
     "text": [
      "\n",
      " 30%|███       | 6/20 [02:53<06:44, 28.86s/it]\u001b[A"
     ]
    },
    {
     "name": "stdout",
     "output_type": "stream",
     "text": [
      "epoch: 6 | ent loss 0.0749 | rel loss 0.1700 | total loss 0.2450\n",
      "         | val ent loss 0.0627 | val rel loss 0.0321\n"
     ]
    },
    {
     "name": "stderr",
     "output_type": "stream",
     "text": [
      "\n",
      " 35%|███▌      | 7/20 [03:21<06:13, 28.76s/it]\u001b[A"
     ]
    },
    {
     "name": "stdout",
     "output_type": "stream",
     "text": [
      "epoch: 7 | ent loss 0.0941 | rel loss 0.1367 | total loss 0.2308\n",
      "         | val ent loss 0.0619 | val rel loss 0.0170\n"
     ]
    },
    {
     "name": "stderr",
     "output_type": "stream",
     "text": [
      "\n",
      " 40%|████      | 8/20 [03:49<05:43, 28.64s/it]\u001b[A"
     ]
    },
    {
     "name": "stdout",
     "output_type": "stream",
     "text": [
      "epoch: 8 | ent loss 0.0601 | rel loss 0.1238 | total loss 0.1838\n",
      "         | val ent loss 0.0681 | val rel loss 0.0530\n"
     ]
    },
    {
     "name": "stderr",
     "output_type": "stream",
     "text": [
      "\n",
      " 45%|████▌     | 9/20 [04:16<05:14, 28.55s/it]\u001b[A"
     ]
    },
    {
     "name": "stdout",
     "output_type": "stream",
     "text": [
      "epoch: 9 | ent loss 0.0732 | rel loss 0.1084 | total loss 0.1816\n",
      "         | val ent loss 0.0509 | val rel loss 0.0082\n"
     ]
    },
    {
     "name": "stderr",
     "output_type": "stream",
     "text": [
      "\n",
      " 50%|█████     | 10/20 [04:43<04:43, 28.40s/it]\u001b[A"
     ]
    },
    {
     "name": "stdout",
     "output_type": "stream",
     "text": [
      "epoch: 10 | ent loss 0.0649 | rel loss 0.0921 | total loss 0.1569\n",
      "          | val ent loss 0.0895 | val rel loss 0.0117\n"
     ]
    },
    {
     "name": "stderr",
     "output_type": "stream",
     "text": [
      "\n",
      " 55%|█████▌    | 11/20 [05:11<04:15, 28.34s/it]\u001b[A"
     ]
    },
    {
     "name": "stdout",
     "output_type": "stream",
     "text": [
      "epoch: 11 | ent loss 0.0795 | rel loss 0.1201 | total loss 0.1997\n",
      "          | val ent loss 0.0431 | val rel loss 0.0086\n"
     ]
    },
    {
     "name": "stderr",
     "output_type": "stream",
     "text": [
      "\n",
      " 60%|██████    | 12/20 [05:41<03:47, 28.48s/it]\u001b[A"
     ]
    },
    {
     "name": "stdout",
     "output_type": "stream",
     "text": [
      "epoch: 12 | ent loss 0.0675 | rel loss 0.0987 | total loss 0.1662\n",
      "          | val ent loss 0.0307 | val rel loss 0.0888\n"
     ]
    },
    {
     "name": "stderr",
     "output_type": "stream",
     "text": [
      "\n",
      " 65%|██████▌   | 13/20 [06:09<03:18, 28.39s/it]\u001b[A"
     ]
    },
    {
     "name": "stdout",
     "output_type": "stream",
     "text": [
      "epoch: 13 | ent loss 0.1093 | rel loss 0.0797 | total loss 0.1890\n",
      "          | val ent loss 0.0560 | val rel loss 0.1384\n"
     ]
    },
    {
     "name": "stderr",
     "output_type": "stream",
     "text": [
      "\n",
      " 70%|███████   | 14/20 [06:34<02:49, 28.20s/it]\u001b[A"
     ]
    },
    {
     "name": "stdout",
     "output_type": "stream",
     "text": [
      "epoch: 14 | ent loss 0.0390 | rel loss 0.0675 | total loss 0.1065\n",
      "          | val ent loss 0.0638 | val rel loss 0.1131\n"
     ]
    },
    {
     "name": "stderr",
     "output_type": "stream",
     "text": [
      "\n",
      " 75%|███████▌  | 15/20 [07:00<02:20, 28.01s/it]\u001b[A"
     ]
    },
    {
     "name": "stdout",
     "output_type": "stream",
     "text": [
      "epoch: 15 | ent loss 0.0530 | rel loss 0.0438 | total loss 0.0969\n",
      "          | val ent loss 0.0449 | val rel loss 0.0056\n"
     ]
    },
    {
     "name": "stderr",
     "output_type": "stream",
     "text": [
      "\n",
      " 80%|████████  | 16/20 [07:26<01:51, 27.89s/it]\u001b[A"
     ]
    },
    {
     "name": "stdout",
     "output_type": "stream",
     "text": [
      "epoch: 16 | ent loss 0.0585 | rel loss 0.0261 | total loss 0.0846\n",
      "          | val ent loss 0.0431 | val rel loss 0.0689\n"
     ]
    },
    {
     "name": "stderr",
     "output_type": "stream",
     "text": [
      "\n",
      " 85%|████████▌ | 17/20 [07:52<01:23, 27.82s/it]\u001b[A"
     ]
    },
    {
     "name": "stdout",
     "output_type": "stream",
     "text": [
      "epoch: 17 | ent loss nan | rel loss nan | total loss nan\n",
      "          | val ent loss nan | val rel loss nan\n"
     ]
    },
    {
     "name": "stderr",
     "output_type": "stream",
     "text": [
      "\n",
      " 90%|█████████ | 18/20 [08:20<00:55, 27.78s/it]\u001b[A"
     ]
    },
    {
     "name": "stdout",
     "output_type": "stream",
     "text": [
      "epoch: 18 | ent loss nan | rel loss nan | total loss nan\n",
      "          | val ent loss nan | val rel loss nan\n"
     ]
    },
    {
     "name": "stderr",
     "output_type": "stream",
     "text": [
      "\n",
      " 95%|█████████▌| 19/20 [08:47<00:27, 27.78s/it]\u001b[A"
     ]
    },
    {
     "name": "stdout",
     "output_type": "stream",
     "text": [
      "epoch: 19 | ent loss nan | rel loss nan | total loss nan\n",
      "          | val ent loss nan | val rel loss nan\n"
     ]
    },
    {
     "name": "stderr",
     "output_type": "stream",
     "text": [
      "\n",
      "100%|██████████| 20/20 [09:14<00:00, 27.72s/it]\u001b[A\n",
      "\u001b[A"
     ]
    },
    {
     "name": "stdout",
     "output_type": "stream",
     "text": [
      "epoch: 20 | ent loss nan | rel loss nan | total loss nan\n",
      "          | val ent loss nan | val rel loss nan\n",
      "\n",
      "Entity detection score\n",
      "precision  \t recall  \t fbeta_score\n",
      "0.000 \t\t 0.000 \t\t 0.000 \t\n",
      "Entity+Relation detection score \n",
      "precision  \t recall  \t fbeta_score  \t\n",
      "0.0 \t\t 0.0 \t\t 0.0 \t\n",
      "confusion matrix \n",
      "TP  \t fp  \t tn  \t fn\n",
      "0 \t 0 \t 0 \t 366 \t\n",
      "\n",
      "Relation error count: 481\n"
     ]
    },
    {
     "name": "stderr",
     "output_type": "stream",
     "text": [
      " 60%|██████    | 6/10 [57:22<38:15, 573.81s/it]\n",
      "  0%|          | 0/20 [00:00<?, ?it/s]\u001b[A"
     ]
    },
    {
     "name": "stdout",
     "output_type": "stream",
     "text": [
      "======================================================\n",
      "Relation type 0\n",
      "precision  \t recall  \t fbeta_score  \t\n",
      "0.000 \t\t 0.000 \t\t 0.000 \t\n",
      "\n",
      "======================================================\n",
      "Relation type 1\n",
      "precision  \t recall  \t fbeta_score  \t\n",
      "0.000 \t\t 0.000 \t\t 0.000 \t\n",
      "\n",
      "======================================================\n",
      "Relation type 2\n",
      "precision  \t recall  \t fbeta_score  \t\n",
      "0.000 \t\t 0.000 \t\t 0.000 \t\n",
      "\n",
      "======================================================\n",
      "Relation type 3\n",
      "precision  \t recall  \t fbeta_score  \t\n",
      "0.000 \t\t 0.000 \t\t 0.000 \t\n",
      "\n",
      "======================================================\n",
      "Relation type 4\n",
      "precision  \t recall  \t fbeta_score  \t\n",
      "0.000 \t\t 0.000 \t\t 0.000 \t\n",
      "\n"
     ]
    },
    {
     "name": "stderr",
     "output_type": "stream",
     "text": [
      "\n",
      "  5%|▌         | 1/20 [00:29<09:26, 29.82s/it]\u001b[A"
     ]
    },
    {
     "name": "stdout",
     "output_type": "stream",
     "text": [
      "epoch: 1 | ent loss 0.6726 | rel loss 0.7223 | total loss 1.3949\n",
      "         | val ent loss 0.5932 | val rel loss 0.2502\n"
     ]
    },
    {
     "name": "stderr",
     "output_type": "stream",
     "text": [
      "\n",
      " 10%|█         | 2/20 [00:57<08:37, 28.76s/it]\u001b[A"
     ]
    },
    {
     "name": "stdout",
     "output_type": "stream",
     "text": [
      "epoch: 2 | ent loss 0.4292 | rel loss 0.5238 | total loss 0.9530\n",
      "         | val ent loss 0.4199 | val rel loss 0.2705\n"
     ]
    },
    {
     "name": "stderr",
     "output_type": "stream",
     "text": [
      "\n",
      " 15%|█▌        | 3/20 [01:25<08:06, 28.59s/it]\u001b[A"
     ]
    },
    {
     "name": "stdout",
     "output_type": "stream",
     "text": [
      "epoch: 3 | ent loss 0.2410 | rel loss 0.4008 | total loss 0.6418\n",
      "         | val ent loss 0.1909 | val rel loss 0.1401\n"
     ]
    },
    {
     "name": "stderr",
     "output_type": "stream",
     "text": [
      "\n",
      " 20%|██        | 4/20 [01:55<07:42, 28.93s/it]\u001b[A"
     ]
    },
    {
     "name": "stdout",
     "output_type": "stream",
     "text": [
      "epoch: 4 | ent loss 0.1266 | rel loss 0.2677 | total loss 0.3944\n",
      "         | val ent loss 0.1357 | val rel loss 0.0936\n"
     ]
    },
    {
     "name": "stderr",
     "output_type": "stream",
     "text": [
      "\n",
      " 25%|██▌       | 5/20 [02:25<07:16, 29.11s/it]\u001b[A"
     ]
    },
    {
     "name": "stdout",
     "output_type": "stream",
     "text": [
      "epoch: 5 | ent loss 0.0688 | rel loss 0.1803 | total loss 0.2491\n",
      "         | val ent loss 0.1849 | val rel loss 0.1931\n"
     ]
    },
    {
     "name": "stderr",
     "output_type": "stream",
     "text": [
      "\n",
      " 30%|███       | 6/20 [02:55<06:49, 29.28s/it]\u001b[A"
     ]
    },
    {
     "name": "stdout",
     "output_type": "stream",
     "text": [
      "epoch: 6 | ent loss 0.1225 | rel loss 0.1534 | total loss 0.2759\n",
      "         | val ent loss 0.1294 | val rel loss 0.1006\n"
     ]
    },
    {
     "name": "stderr",
     "output_type": "stream",
     "text": [
      "\n",
      " 35%|███▌      | 7/20 [03:25<06:21, 29.37s/it]\u001b[A"
     ]
    },
    {
     "name": "stdout",
     "output_type": "stream",
     "text": [
      "epoch: 7 | ent loss 0.0810 | rel loss 0.1616 | total loss 0.2426\n",
      "         | val ent loss 0.1273 | val rel loss 0.0932\n"
     ]
    },
    {
     "name": "stderr",
     "output_type": "stream",
     "text": [
      "\n",
      " 40%|████      | 8/20 [03:55<05:52, 29.38s/it]\u001b[A"
     ]
    },
    {
     "name": "stdout",
     "output_type": "stream",
     "text": [
      "epoch: 8 | ent loss 0.0446 | rel loss 0.1100 | total loss 0.1546\n",
      "         | val ent loss 0.0354 | val rel loss 0.0590\n"
     ]
    },
    {
     "name": "stderr",
     "output_type": "stream",
     "text": [
      "\n",
      " 45%|████▌     | 9/20 [04:24<05:23, 29.37s/it]\u001b[A"
     ]
    },
    {
     "name": "stdout",
     "output_type": "stream",
     "text": [
      "epoch: 9 | ent loss 0.0601 | rel loss 0.1157 | total loss 0.1758\n",
      "         | val ent loss 0.0966 | val rel loss 0.0393\n"
     ]
    },
    {
     "name": "stderr",
     "output_type": "stream",
     "text": [
      "\n",
      " 50%|█████     | 10/20 [04:54<04:54, 29.49s/it]\u001b[A"
     ]
    },
    {
     "name": "stdout",
     "output_type": "stream",
     "text": [
      "epoch: 10 | ent loss 0.1049 | rel loss 0.1425 | total loss 0.2474\n",
      "          | val ent loss 0.0690 | val rel loss 0.0328\n"
     ]
    },
    {
     "name": "stderr",
     "output_type": "stream",
     "text": [
      "\n",
      " 55%|█████▌    | 11/20 [05:24<04:25, 29.50s/it]\u001b[A"
     ]
    },
    {
     "name": "stdout",
     "output_type": "stream",
     "text": [
      "epoch: 11 | ent loss 0.0478 | rel loss 0.0965 | total loss 0.1444\n",
      "          | val ent loss 0.1852 | val rel loss 0.0818\n"
     ]
    },
    {
     "name": "stderr",
     "output_type": "stream",
     "text": [
      "\n",
      " 60%|██████    | 12/20 [05:55<03:56, 29.59s/it]\u001b[A"
     ]
    },
    {
     "name": "stdout",
     "output_type": "stream",
     "text": [
      "epoch: 12 | ent loss 0.0445 | rel loss 0.0932 | total loss 0.1377\n",
      "          | val ent loss 0.1096 | val rel loss 0.0811\n"
     ]
    },
    {
     "name": "stderr",
     "output_type": "stream",
     "text": [
      "\n",
      " 65%|██████▌   | 13/20 [06:24<03:27, 29.60s/it]\u001b[A"
     ]
    },
    {
     "name": "stdout",
     "output_type": "stream",
     "text": [
      "epoch: 13 | ent loss 0.0601 | rel loss 0.1134 | total loss 0.1736\n",
      "          | val ent loss 0.0863 | val rel loss 0.0753\n"
     ]
    },
    {
     "name": "stderr",
     "output_type": "stream",
     "text": [
      "\n",
      " 70%|███████   | 14/20 [06:54<02:57, 29.62s/it]\u001b[A"
     ]
    },
    {
     "name": "stdout",
     "output_type": "stream",
     "text": [
      "epoch: 14 | ent loss 0.0391 | rel loss 0.1079 | total loss 0.1470\n",
      "          | val ent loss 0.0630 | val rel loss 0.0110\n"
     ]
    },
    {
     "name": "stderr",
     "output_type": "stream",
     "text": [
      "\n",
      " 75%|███████▌  | 15/20 [07:24<02:28, 29.61s/it]\u001b[A"
     ]
    },
    {
     "name": "stdout",
     "output_type": "stream",
     "text": [
      "epoch: 15 | ent loss 0.0369 | rel loss 0.0637 | total loss 0.1007\n",
      "          | val ent loss 0.0486 | val rel loss 0.0198\n"
     ]
    },
    {
     "name": "stderr",
     "output_type": "stream",
     "text": [
      "\n",
      " 80%|████████  | 16/20 [07:54<01:58, 29.64s/it]\u001b[A"
     ]
    },
    {
     "name": "stdout",
     "output_type": "stream",
     "text": [
      "epoch: 16 | ent loss 0.0617 | rel loss 0.0667 | total loss 0.1284\n",
      "          | val ent loss 0.0667 | val rel loss 0.0628\n"
     ]
    },
    {
     "name": "stderr",
     "output_type": "stream",
     "text": [
      "\n",
      " 85%|████████▌ | 17/20 [08:25<01:29, 29.71s/it]\u001b[A"
     ]
    },
    {
     "name": "stdout",
     "output_type": "stream",
     "text": [
      "epoch: 17 | ent loss 0.0628 | rel loss 0.1597 | total loss 0.2225\n",
      "          | val ent loss 0.0459 | val rel loss 0.0204\n"
     ]
    },
    {
     "name": "stderr",
     "output_type": "stream",
     "text": [
      "\n",
      " 90%|█████████ | 18/20 [08:55<00:59, 29.75s/it]\u001b[A"
     ]
    },
    {
     "name": "stdout",
     "output_type": "stream",
     "text": [
      "epoch: 18 | ent loss 0.0746 | rel loss 0.0969 | total loss 0.1715\n",
      "          | val ent loss 0.0375 | val rel loss 0.0094\n"
     ]
    },
    {
     "name": "stderr",
     "output_type": "stream",
     "text": [
      "\n",
      " 95%|█████████▌| 19/20 [09:26<00:29, 29.80s/it]\u001b[A"
     ]
    },
    {
     "name": "stdout",
     "output_type": "stream",
     "text": [
      "epoch: 19 | ent loss 0.0417 | rel loss 0.0593 | total loss 0.1010\n",
      "          | val ent loss 0.0385 | val rel loss 0.0311\n"
     ]
    },
    {
     "name": "stderr",
     "output_type": "stream",
     "text": [
      "\n",
      "100%|██████████| 20/20 [09:56<00:00, 29.81s/it]\u001b[A\n",
      "\u001b[A"
     ]
    },
    {
     "name": "stdout",
     "output_type": "stream",
     "text": [
      "epoch: 20 | ent loss 0.0672 | rel loss 0.0563 | total loss 0.1236\n",
      "          | val ent loss 0.0575 | val rel loss 0.0796\n",
      "\n",
      "Entity detection score\n",
      "precision  \t recall  \t fbeta_score\n",
      "0.906 \t\t 0.909 \t\t 0.907 \t\n",
      "Entity+Relation detection score \n",
      "precision  \t recall  \t fbeta_score  \t\n",
      "0.812 \t\t 0.484 \t\t 0.606 \t\n",
      "confusion matrix \n",
      "TP  \t fp  \t tn  \t fn\n",
      "177 \t 41 \t 0 \t 189 \t\n",
      "\n",
      "Relation error count: 37\n"
     ]
    },
    {
     "name": "stderr",
     "output_type": "stream",
     "text": [
      " 70%|███████   | 7/10 [1:07:52<29:05, 581.73s/it]\n",
      "  0%|          | 0/20 [00:00<?, ?it/s]\u001b[A"
     ]
    },
    {
     "name": "stdout",
     "output_type": "stream",
     "text": [
      "======================================================\n",
      "Relation type 0\n",
      "precision  \t recall  \t fbeta_score  \t\n",
      "0.636 \t\t 0.350 \t\t 0.452 \t\n",
      "\n",
      "======================================================\n",
      "Relation type 1\n",
      "precision  \t recall  \t fbeta_score  \t\n",
      "0.725 \t\t 0.617 \t\t 0.667 \t\n",
      "\n",
      "======================================================\n",
      "Relation type 2\n",
      "precision  \t recall  \t fbeta_score  \t\n",
      "0.879 \t\t 0.696 \t\t 0.777 \t\n",
      "\n",
      "======================================================\n",
      "Relation type 3\n",
      "precision  \t recall  \t fbeta_score  \t\n",
      "0.829 \t\t 0.642 \t\t 0.723 \t\n",
      "\n",
      "======================================================\n",
      "Relation type 4\n",
      "precision  \t recall  \t fbeta_score  \t\n",
      "1.000 \t\t 0.057 \t\t 0.108 \t\n",
      "\n"
     ]
    },
    {
     "name": "stderr",
     "output_type": "stream",
     "text": [
      "\n",
      "  5%|▌         | 1/20 [00:29<09:23, 29.66s/it]\u001b[A"
     ]
    },
    {
     "name": "stdout",
     "output_type": "stream",
     "text": [
      "epoch: 1 | ent loss 0.7220 | rel loss 0.6245 | total loss 1.3465\n",
      "         | val ent loss 0.4632 | val rel loss 0.2815\n"
     ]
    },
    {
     "name": "stderr",
     "output_type": "stream",
     "text": [
      "\n",
      " 10%|█         | 2/20 [01:00<09:04, 30.25s/it]\u001b[A"
     ]
    },
    {
     "name": "stdout",
     "output_type": "stream",
     "text": [
      "epoch: 2 | ent loss 0.3144 | rel loss 0.4865 | total loss 0.8009\n",
      "         | val ent loss 0.2908 | val rel loss 0.1435\n"
     ]
    },
    {
     "name": "stderr",
     "output_type": "stream",
     "text": [
      "\n",
      " 15%|█▌        | 3/20 [01:29<08:29, 29.98s/it]\u001b[A"
     ]
    },
    {
     "name": "stdout",
     "output_type": "stream",
     "text": [
      "epoch: 3 | ent loss 0.1844 | rel loss 0.3644 | total loss 0.5488\n",
      "         | val ent loss 0.2121 | val rel loss 0.0921\n"
     ]
    },
    {
     "name": "stderr",
     "output_type": "stream",
     "text": [
      "\n",
      " 20%|██        | 4/20 [01:59<07:59, 29.96s/it]\u001b[A"
     ]
    },
    {
     "name": "stdout",
     "output_type": "stream",
     "text": [
      "epoch: 4 | ent loss 0.1317 | rel loss 0.2589 | total loss 0.3906\n",
      "         | val ent loss 0.1079 | val rel loss 0.0859\n"
     ]
    },
    {
     "name": "stderr",
     "output_type": "stream",
     "text": [
      "\n",
      " 25%|██▌       | 5/20 [02:27<07:23, 29.56s/it]\u001b[A"
     ]
    },
    {
     "name": "stdout",
     "output_type": "stream",
     "text": [
      "epoch: 5 | ent loss 0.1112 | rel loss 0.2093 | total loss 0.3204\n",
      "         | val ent loss 0.1188 | val rel loss 0.0350\n"
     ]
    },
    {
     "name": "stderr",
     "output_type": "stream",
     "text": [
      "\n",
      " 30%|███       | 6/20 [02:57<06:53, 29.52s/it]\u001b[A"
     ]
    },
    {
     "name": "stdout",
     "output_type": "stream",
     "text": [
      "epoch: 6 | ent loss 0.0565 | rel loss 0.1261 | total loss 0.1826\n",
      "         | val ent loss 0.1054 | val rel loss 0.0308\n"
     ]
    },
    {
     "name": "stderr",
     "output_type": "stream",
     "text": [
      "\n",
      " 35%|███▌      | 7/20 [03:25<06:21, 29.36s/it]\u001b[A"
     ]
    },
    {
     "name": "stdout",
     "output_type": "stream",
     "text": [
      "epoch: 7 | ent loss 0.0596 | rel loss 0.1621 | total loss 0.2217\n",
      "         | val ent loss 0.1155 | val rel loss 0.0704\n"
     ]
    },
    {
     "name": "stderr",
     "output_type": "stream",
     "text": [
      "\n",
      " 40%|████      | 8/20 [03:53<05:50, 29.18s/it]\u001b[A"
     ]
    },
    {
     "name": "stdout",
     "output_type": "stream",
     "text": [
      "epoch: 8 | ent loss 0.0859 | rel loss 0.2031 | total loss 0.2890\n",
      "         | val ent loss 0.0871 | val rel loss 0.0728\n"
     ]
    },
    {
     "name": "stderr",
     "output_type": "stream",
     "text": [
      "\n",
      " 45%|████▌     | 9/20 [04:20<05:18, 28.98s/it]\u001b[A"
     ]
    },
    {
     "name": "stdout",
     "output_type": "stream",
     "text": [
      "epoch: 9 | ent loss 0.0450 | rel loss 0.1109 | total loss 0.1559\n",
      "         | val ent loss 0.0910 | val rel loss 0.0202\n"
     ]
    },
    {
     "name": "stderr",
     "output_type": "stream",
     "text": [
      "\n",
      " 50%|█████     | 10/20 [04:47<04:47, 28.78s/it]\u001b[A"
     ]
    },
    {
     "name": "stdout",
     "output_type": "stream",
     "text": [
      "epoch: 10 | ent loss 0.0496 | rel loss 0.0946 | total loss 0.1441\n",
      "          | val ent loss 0.0527 | val rel loss 0.0219\n"
     ]
    },
    {
     "name": "stderr",
     "output_type": "stream",
     "text": [
      "\n",
      " 55%|█████▌    | 11/20 [05:15<04:17, 28.65s/it]\u001b[A"
     ]
    },
    {
     "name": "stdout",
     "output_type": "stream",
     "text": [
      "epoch: 11 | ent loss 0.0619 | rel loss 0.1327 | total loss 0.1946\n",
      "          | val ent loss 0.0591 | val rel loss 0.0628\n"
     ]
    },
    {
     "name": "stderr",
     "output_type": "stream",
     "text": [
      "\n",
      " 60%|██████    | 12/20 [05:42<03:48, 28.51s/it]\u001b[A"
     ]
    },
    {
     "name": "stdout",
     "output_type": "stream",
     "text": [
      "epoch: 12 | ent loss 0.0513 | rel loss 0.1067 | total loss 0.1579\n",
      "          | val ent loss 0.0503 | val rel loss 0.0497\n"
     ]
    },
    {
     "name": "stderr",
     "output_type": "stream",
     "text": [
      "\n",
      " 65%|██████▌   | 13/20 [06:09<03:19, 28.43s/it]\u001b[A"
     ]
    },
    {
     "name": "stdout",
     "output_type": "stream",
     "text": [
      "epoch: 13 | ent loss 0.0350 | rel loss 0.1615 | total loss 0.1966\n",
      "          | val ent loss 0.0408 | val rel loss 0.0058\n"
     ]
    },
    {
     "name": "stderr",
     "output_type": "stream",
     "text": [
      "\n",
      " 70%|███████   | 14/20 [06:37<02:50, 28.37s/it]\u001b[A"
     ]
    },
    {
     "name": "stdout",
     "output_type": "stream",
     "text": [
      "epoch: 14 | ent loss 0.0589 | rel loss 0.0988 | total loss 0.1577\n",
      "          | val ent loss 0.0387 | val rel loss 0.0293\n"
     ]
    },
    {
     "name": "stderr",
     "output_type": "stream",
     "text": [
      "\n",
      " 75%|███████▌  | 15/20 [07:04<02:21, 28.31s/it]\u001b[A"
     ]
    },
    {
     "name": "stdout",
     "output_type": "stream",
     "text": [
      "epoch: 15 | ent loss 0.0418 | rel loss 0.0695 | total loss 0.1113\n",
      "          | val ent loss 0.0398 | val rel loss 0.0043\n"
     ]
    },
    {
     "name": "stderr",
     "output_type": "stream",
     "text": [
      "\n",
      " 80%|████████  | 16/20 [07:31<01:52, 28.24s/it]\u001b[A"
     ]
    },
    {
     "name": "stdout",
     "output_type": "stream",
     "text": [
      "epoch: 16 | ent loss 0.0263 | rel loss 0.0681 | total loss 0.0944\n",
      "          | val ent loss 0.0207 | val rel loss 0.0079\n"
     ]
    },
    {
     "name": "stderr",
     "output_type": "stream",
     "text": [
      "\n",
      " 85%|████████▌ | 17/20 [07:58<01:24, 28.18s/it]\u001b[A"
     ]
    },
    {
     "name": "stdout",
     "output_type": "stream",
     "text": [
      "epoch: 17 | ent loss 0.0370 | rel loss 0.0954 | total loss 0.1324\n",
      "          | val ent loss 0.0262 | val rel loss 0.0053\n"
     ]
    },
    {
     "name": "stderr",
     "output_type": "stream",
     "text": [
      "\n",
      " 90%|█████████ | 18/20 [08:25<00:56, 28.10s/it]\u001b[A"
     ]
    },
    {
     "name": "stdout",
     "output_type": "stream",
     "text": [
      "epoch: 18 | ent loss 0.0400 | rel loss 0.0580 | total loss 0.0980\n",
      "          | val ent loss 0.0166 | val rel loss 0.0057\n"
     ]
    },
    {
     "name": "stderr",
     "output_type": "stream",
     "text": [
      "\n",
      " 95%|█████████▌| 19/20 [08:53<00:28, 28.06s/it]\u001b[A"
     ]
    },
    {
     "name": "stdout",
     "output_type": "stream",
     "text": [
      "epoch: 19 | ent loss 0.0732 | rel loss 0.0902 | total loss 0.1634\n",
      "          | val ent loss 0.0877 | val rel loss 0.0036\n"
     ]
    },
    {
     "name": "stderr",
     "output_type": "stream",
     "text": [
      "\n",
      "100%|██████████| 20/20 [09:19<00:00, 27.99s/it]\u001b[A\n",
      "\u001b[A"
     ]
    },
    {
     "name": "stdout",
     "output_type": "stream",
     "text": [
      "epoch: 20 | ent loss 0.0686 | rel loss 0.0959 | total loss 0.1645\n",
      "          | val ent loss 0.0229 | val rel loss 0.0053\n",
      "\n",
      "Entity detection score\n",
      "precision  \t recall  \t fbeta_score\n",
      "0.916 \t\t 0.940 \t\t 0.928 \t\n",
      "Entity+Relation detection score \n",
      "precision  \t recall  \t fbeta_score  \t\n",
      "0.769 \t\t 0.574 \t\t 0.657 \t\n",
      "confusion matrix \n",
      "TP  \t fp  \t tn  \t fn\n",
      "210 \t 63 \t 0 \t 156 \t\n",
      "\n",
      "Relation error count: 34\n"
     ]
    },
    {
     "name": "stderr",
     "output_type": "stream",
     "text": [
      " 80%|████████  | 8/10 [1:17:44<19:26, 583.08s/it]\n",
      "  0%|          | 0/20 [00:00<?, ?it/s]\u001b[A"
     ]
    },
    {
     "name": "stdout",
     "output_type": "stream",
     "text": [
      "======================================================\n",
      "Relation type 0\n",
      "precision  \t recall  \t fbeta_score  \t\n",
      "0.590 \t\t 0.575 \t\t 0.582 \t\n",
      "\n",
      "======================================================\n",
      "Relation type 1\n",
      "precision  \t recall  \t fbeta_score  \t\n",
      "0.667 \t\t 0.633 \t\t 0.650 \t\n",
      "\n",
      "======================================================\n",
      "Relation type 2\n",
      "precision  \t recall  \t fbeta_score  \t\n",
      "0.866 \t\t 0.776 \t\t 0.819 \t\n",
      "\n",
      "======================================================\n",
      "Relation type 3\n",
      "precision  \t recall  \t fbeta_score  \t\n",
      "0.837 \t\t 0.679 \t\t 0.750 \t\n",
      "\n",
      "======================================================\n",
      "Relation type 4\n",
      "precision  \t recall  \t fbeta_score  \t\n",
      "0.727 \t\t 0.182 \t\t 0.291 \t\n",
      "\n"
     ]
    },
    {
     "name": "stderr",
     "output_type": "stream",
     "text": [
      "\n",
      "  5%|▌         | 1/20 [00:27<08:42, 27.50s/it]\u001b[A"
     ]
    },
    {
     "name": "stdout",
     "output_type": "stream",
     "text": [
      "epoch: 1 | ent loss 0.7106 | rel loss 0.8514 | total loss 1.5620\n",
      "         | val ent loss 0.6687 | val rel loss 0.3245\n"
     ]
    },
    {
     "name": "stderr",
     "output_type": "stream",
     "text": [
      "\n",
      " 10%|█         | 2/20 [00:55<08:17, 27.63s/it]\u001b[A"
     ]
    },
    {
     "name": "stdout",
     "output_type": "stream",
     "text": [
      "epoch: 2 | ent loss 0.5277 | rel loss 0.4511 | total loss 0.9788\n",
      "         | val ent loss 0.4355 | val rel loss 0.1205\n"
     ]
    },
    {
     "name": "stderr",
     "output_type": "stream",
     "text": [
      "\n",
      " 15%|█▌        | 3/20 [01:23<07:50, 27.69s/it]\u001b[A"
     ]
    },
    {
     "name": "stdout",
     "output_type": "stream",
     "text": [
      "epoch: 3 | ent loss 0.3250 | rel loss 0.3336 | total loss 0.6586\n",
      "         | val ent loss 0.2433 | val rel loss 0.5516\n"
     ]
    },
    {
     "name": "stderr",
     "output_type": "stream",
     "text": [
      "\n",
      " 20%|██        | 4/20 [01:51<07:24, 27.76s/it]\u001b[A"
     ]
    },
    {
     "name": "stdout",
     "output_type": "stream",
     "text": [
      "epoch: 4 | ent loss 0.1997 | rel loss 0.1922 | total loss 0.3919\n",
      "         | val ent loss 0.1245 | val rel loss 1.3644\n"
     ]
    },
    {
     "name": "stderr",
     "output_type": "stream",
     "text": [
      "\n",
      " 25%|██▌       | 5/20 [02:18<06:56, 27.79s/it]\u001b[A"
     ]
    },
    {
     "name": "stdout",
     "output_type": "stream",
     "text": [
      "epoch: 5 | ent loss 0.1222 | rel loss 0.1797 | total loss 0.3019\n",
      "         | val ent loss 0.0931 | val rel loss 0.4757\n"
     ]
    },
    {
     "name": "stderr",
     "output_type": "stream",
     "text": [
      "\n",
      " 30%|███       | 6/20 [02:46<06:29, 27.80s/it]\u001b[A"
     ]
    },
    {
     "name": "stdout",
     "output_type": "stream",
     "text": [
      "epoch: 6 | ent loss 0.0946 | rel loss 0.1571 | total loss 0.2517\n",
      "         | val ent loss 0.0544 | val rel loss 0.0864\n"
     ]
    },
    {
     "name": "stderr",
     "output_type": "stream",
     "text": [
      "\n",
      " 35%|███▌      | 7/20 [03:14<06:01, 27.81s/it]\u001b[A"
     ]
    },
    {
     "name": "stdout",
     "output_type": "stream",
     "text": [
      "epoch: 7 | ent loss 0.0739 | rel loss 0.2314 | total loss 0.3053\n",
      "         | val ent loss 0.0586 | val rel loss 0.0645\n"
     ]
    },
    {
     "name": "stderr",
     "output_type": "stream",
     "text": [
      "\n",
      " 40%|████      | 8/20 [03:42<05:33, 27.81s/it]\u001b[A"
     ]
    },
    {
     "name": "stdout",
     "output_type": "stream",
     "text": [
      "epoch: 8 | ent loss 0.0545 | rel loss 0.1189 | total loss 0.1734\n",
      "         | val ent loss 0.0585 | val rel loss 0.0474\n"
     ]
    },
    {
     "name": "stderr",
     "output_type": "stream",
     "text": [
      "\n",
      " 45%|████▌     | 9/20 [04:10<05:05, 27.81s/it]\u001b[A"
     ]
    },
    {
     "name": "stdout",
     "output_type": "stream",
     "text": [
      "epoch: 9 | ent loss 0.0483 | rel loss 0.0845 | total loss 0.1328\n",
      "         | val ent loss 0.0595 | val rel loss 0.0789\n"
     ]
    },
    {
     "name": "stderr",
     "output_type": "stream",
     "text": [
      "\n",
      " 50%|█████     | 10/20 [04:38<04:38, 27.82s/it]\u001b[A"
     ]
    },
    {
     "name": "stdout",
     "output_type": "stream",
     "text": [
      "epoch: 10 | ent loss 0.0612 | rel loss 0.1944 | total loss 0.2556\n",
      "          | val ent loss 0.0946 | val rel loss 0.0391\n"
     ]
    },
    {
     "name": "stderr",
     "output_type": "stream",
     "text": [
      "\n",
      " 55%|█████▌    | 11/20 [05:06<04:10, 27.83s/it]\u001b[A"
     ]
    },
    {
     "name": "stdout",
     "output_type": "stream",
     "text": [
      "epoch: 11 | ent loss 0.0581 | rel loss 0.1988 | total loss 0.2569\n",
      "          | val ent loss 0.0832 | val rel loss 0.0150\n"
     ]
    },
    {
     "name": "stderr",
     "output_type": "stream",
     "text": [
      "\n",
      " 60%|██████    | 12/20 [05:34<03:42, 27.85s/it]\u001b[A"
     ]
    },
    {
     "name": "stdout",
     "output_type": "stream",
     "text": [
      "epoch: 12 | ent loss 0.0824 | rel loss 0.0961 | total loss 0.1786\n",
      "          | val ent loss 0.0725 | val rel loss 0.0185\n"
     ]
    },
    {
     "name": "stderr",
     "output_type": "stream",
     "text": [
      "\n",
      " 65%|██████▌   | 13/20 [06:01<03:14, 27.84s/it]\u001b[A"
     ]
    },
    {
     "name": "stdout",
     "output_type": "stream",
     "text": [
      "epoch: 13 | ent loss 0.0482 | rel loss 0.0781 | total loss 0.1262\n",
      "          | val ent loss 0.0557 | val rel loss 0.0208\n"
     ]
    },
    {
     "name": "stderr",
     "output_type": "stream",
     "text": [
      "\n",
      " 70%|███████   | 14/20 [06:29<02:47, 27.85s/it]\u001b[A"
     ]
    },
    {
     "name": "stdout",
     "output_type": "stream",
     "text": [
      "epoch: 14 | ent loss nan | rel loss nan | total loss nan\n",
      "          | val ent loss nan | val rel loss nan\n"
     ]
    },
    {
     "name": "stderr",
     "output_type": "stream",
     "text": [
      "\n",
      " 75%|███████▌  | 15/20 [06:57<02:19, 27.85s/it]\u001b[A"
     ]
    },
    {
     "name": "stdout",
     "output_type": "stream",
     "text": [
      "epoch: 15 | ent loss nan | rel loss nan | total loss nan\n",
      "          | val ent loss nan | val rel loss nan\n"
     ]
    },
    {
     "name": "stderr",
     "output_type": "stream",
     "text": [
      "\n",
      " 80%|████████  | 16/20 [07:25<01:51, 27.85s/it]\u001b[A"
     ]
    },
    {
     "name": "stdout",
     "output_type": "stream",
     "text": [
      "epoch: 16 | ent loss nan | rel loss nan | total loss nan\n",
      "          | val ent loss nan | val rel loss nan\n"
     ]
    },
    {
     "name": "stderr",
     "output_type": "stream",
     "text": [
      "\n",
      " 85%|████████▌ | 17/20 [07:53<01:23, 27.86s/it]\u001b[A"
     ]
    },
    {
     "name": "stdout",
     "output_type": "stream",
     "text": [
      "epoch: 17 | ent loss nan | rel loss nan | total loss nan\n",
      "          | val ent loss nan | val rel loss nan\n"
     ]
    },
    {
     "name": "stderr",
     "output_type": "stream",
     "text": [
      "\n",
      " 90%|█████████ | 18/20 [08:21<00:55, 27.86s/it]\u001b[A"
     ]
    },
    {
     "name": "stdout",
     "output_type": "stream",
     "text": [
      "epoch: 18 | ent loss nan | rel loss nan | total loss nan\n",
      "          | val ent loss nan | val rel loss nan\n"
     ]
    },
    {
     "name": "stderr",
     "output_type": "stream",
     "text": [
      "\n",
      " 95%|█████████▌| 19/20 [08:49<00:27, 27.86s/it]\u001b[A"
     ]
    },
    {
     "name": "stdout",
     "output_type": "stream",
     "text": [
      "epoch: 19 | ent loss nan | rel loss nan | total loss nan\n",
      "          | val ent loss nan | val rel loss nan\n"
     ]
    },
    {
     "name": "stderr",
     "output_type": "stream",
     "text": [
      "\n",
      "100%|██████████| 20/20 [09:17<00:00, 27.86s/it]\u001b[A\n",
      "\u001b[A"
     ]
    },
    {
     "name": "stdout",
     "output_type": "stream",
     "text": [
      "epoch: 20 | ent loss nan | rel loss nan | total loss nan\n",
      "          | val ent loss nan | val rel loss nan\n",
      "\n",
      "Entity detection score\n",
      "precision  \t recall  \t fbeta_score\n",
      "0.000 \t\t 0.000 \t\t 0.000 \t\n",
      "Entity+Relation detection score \n",
      "precision  \t recall  \t fbeta_score  \t\n",
      "0.0 \t\t 0.0 \t\t 0.0 \t\n",
      "confusion matrix \n",
      "TP  \t fp  \t tn  \t fn\n",
      "0 \t 0 \t 0 \t 366 \t\n",
      "\n",
      "Relation error count: 481\n"
     ]
    },
    {
     "name": "stderr",
     "output_type": "stream",
     "text": [
      " 90%|█████████ | 9/10 [1:27:19<09:42, 582.21s/it]\n",
      "  0%|          | 0/20 [00:00<?, ?it/s]\u001b[A"
     ]
    },
    {
     "name": "stdout",
     "output_type": "stream",
     "text": [
      "======================================================\n",
      "Relation type 0\n",
      "precision  \t recall  \t fbeta_score  \t\n",
      "0.000 \t\t 0.000 \t\t 0.000 \t\n",
      "\n",
      "======================================================\n",
      "Relation type 1\n",
      "precision  \t recall  \t fbeta_score  \t\n",
      "0.000 \t\t 0.000 \t\t 0.000 \t\n",
      "\n",
      "======================================================\n",
      "Relation type 2\n",
      "precision  \t recall  \t fbeta_score  \t\n",
      "0.000 \t\t 0.000 \t\t 0.000 \t\n",
      "\n",
      "======================================================\n",
      "Relation type 3\n",
      "precision  \t recall  \t fbeta_score  \t\n",
      "0.000 \t\t 0.000 \t\t 0.000 \t\n",
      "\n",
      "======================================================\n",
      "Relation type 4\n",
      "precision  \t recall  \t fbeta_score  \t\n",
      "0.000 \t\t 0.000 \t\t 0.000 \t\n",
      "\n"
     ]
    },
    {
     "name": "stderr",
     "output_type": "stream",
     "text": [
      "\n",
      "  5%|▌         | 1/20 [00:27<08:38, 27.26s/it]\u001b[A"
     ]
    },
    {
     "name": "stdout",
     "output_type": "stream",
     "text": [
      "epoch: 1 | ent loss 0.6484 | rel loss 0.7461 | total loss 1.3946\n",
      "         | val ent loss 0.6304 | val rel loss 0.4669\n"
     ]
    },
    {
     "name": "stderr",
     "output_type": "stream",
     "text": [
      "\n",
      " 10%|█         | 2/20 [00:54<08:14, 27.48s/it]\u001b[A"
     ]
    },
    {
     "name": "stdout",
     "output_type": "stream",
     "text": [
      "epoch: 2 | ent loss 0.4232 | rel loss 0.3272 | total loss 0.7504\n",
      "         | val ent loss 0.3479 | val rel loss 0.1085\n"
     ]
    },
    {
     "name": "stderr",
     "output_type": "stream",
     "text": [
      "\n",
      " 15%|█▌        | 3/20 [01:22<07:49, 27.59s/it]\u001b[A"
     ]
    },
    {
     "name": "stdout",
     "output_type": "stream",
     "text": [
      "epoch: 3 | ent loss 0.1784 | rel loss 0.2214 | total loss 0.3998\n",
      "         | val ent loss 0.1406 | val rel loss 0.0764\n"
     ]
    },
    {
     "name": "stderr",
     "output_type": "stream",
     "text": [
      "\n",
      " 20%|██        | 4/20 [01:50<07:22, 27.67s/it]\u001b[A"
     ]
    },
    {
     "name": "stdout",
     "output_type": "stream",
     "text": [
      "epoch: 4 | ent loss 0.0976 | rel loss 0.2547 | total loss 0.3523\n",
      "         | val ent loss 0.0894 | val rel loss 0.0815\n"
     ]
    },
    {
     "name": "stderr",
     "output_type": "stream",
     "text": [
      "\n",
      " 25%|██▌       | 5/20 [02:18<06:55, 27.70s/it]\u001b[A"
     ]
    },
    {
     "name": "stdout",
     "output_type": "stream",
     "text": [
      "epoch: 5 | ent loss 0.1145 | rel loss 0.2973 | total loss 0.4118\n",
      "         | val ent loss 0.0655 | val rel loss 0.0301\n"
     ]
    },
    {
     "name": "stderr",
     "output_type": "stream",
     "text": [
      "\n",
      " 30%|███       | 6/20 [02:46<06:28, 27.73s/it]\u001b[A"
     ]
    },
    {
     "name": "stdout",
     "output_type": "stream",
     "text": [
      "epoch: 6 | ent loss 0.0887 | rel loss 0.1241 | total loss 0.2128\n",
      "         | val ent loss 0.0486 | val rel loss 0.0166\n"
     ]
    },
    {
     "name": "stderr",
     "output_type": "stream",
     "text": [
      "\n",
      " 35%|███▌      | 7/20 [03:14<06:00, 27.75s/it]\u001b[A"
     ]
    },
    {
     "name": "stdout",
     "output_type": "stream",
     "text": [
      "epoch: 7 | ent loss 0.0818 | rel loss 0.1355 | total loss 0.2173\n",
      "         | val ent loss 0.0565 | val rel loss 0.0200\n"
     ]
    },
    {
     "name": "stderr",
     "output_type": "stream",
     "text": [
      "\n",
      " 40%|████      | 8/20 [03:42<05:33, 27.75s/it]\u001b[A"
     ]
    },
    {
     "name": "stdout",
     "output_type": "stream",
     "text": [
      "epoch: 8 | ent loss 0.0589 | rel loss 0.1574 | total loss 0.2163\n",
      "         | val ent loss 0.0402 | val rel loss 0.0225\n"
     ]
    },
    {
     "name": "stderr",
     "output_type": "stream",
     "text": [
      "\n",
      " 45%|████▌     | 9/20 [04:09<05:05, 27.76s/it]\u001b[A"
     ]
    },
    {
     "name": "stdout",
     "output_type": "stream",
     "text": [
      "epoch: 9 | ent loss 0.0675 | rel loss 0.1238 | total loss 0.1913\n",
      "         | val ent loss 0.0362 | val rel loss 0.0292\n"
     ]
    },
    {
     "name": "stderr",
     "output_type": "stream",
     "text": [
      "\n",
      " 50%|█████     | 10/20 [04:37<04:37, 27.75s/it]\u001b[A"
     ]
    },
    {
     "name": "stdout",
     "output_type": "stream",
     "text": [
      "epoch: 10 | ent loss 0.0692 | rel loss 0.0746 | total loss 0.1438\n",
      "          | val ent loss 0.0229 | val rel loss 0.0129\n"
     ]
    },
    {
     "name": "stderr",
     "output_type": "stream",
     "text": [
      "\n",
      " 55%|█████▌    | 11/20 [05:05<04:09, 27.75s/it]\u001b[A"
     ]
    },
    {
     "name": "stdout",
     "output_type": "stream",
     "text": [
      "epoch: 11 | ent loss 0.0514 | rel loss 0.1326 | total loss 0.1840\n",
      "          | val ent loss 0.0394 | val rel loss 0.0100\n"
     ]
    },
    {
     "name": "stderr",
     "output_type": "stream",
     "text": [
      "\n",
      " 60%|██████    | 12/20 [05:32<03:41, 27.75s/it]\u001b[A"
     ]
    },
    {
     "name": "stdout",
     "output_type": "stream",
     "text": [
      "epoch: 12 | ent loss 0.0641 | rel loss 0.0915 | total loss 0.1556\n",
      "          | val ent loss 0.0420 | val rel loss 0.0191\n"
     ]
    },
    {
     "name": "stderr",
     "output_type": "stream",
     "text": [
      "\n",
      " 65%|██████▌   | 13/20 [06:00<03:14, 27.76s/it]\u001b[A"
     ]
    },
    {
     "name": "stdout",
     "output_type": "stream",
     "text": [
      "epoch: 13 | ent loss 0.0391 | rel loss 0.0503 | total loss 0.0894\n",
      "          | val ent loss 0.0423 | val rel loss 0.0135\n"
     ]
    },
    {
     "name": "stderr",
     "output_type": "stream",
     "text": [
      "\n",
      " 70%|███████   | 14/20 [06:28<02:46, 27.77s/it]\u001b[A"
     ]
    },
    {
     "name": "stdout",
     "output_type": "stream",
     "text": [
      "epoch: 14 | ent loss 0.0532 | rel loss 0.1076 | total loss 0.1608\n",
      "          | val ent loss 0.1122 | val rel loss 0.0087\n"
     ]
    },
    {
     "name": "stderr",
     "output_type": "stream",
     "text": [
      "\n",
      " 75%|███████▌  | 15/20 [06:56<02:18, 27.77s/it]\u001b[A"
     ]
    },
    {
     "name": "stdout",
     "output_type": "stream",
     "text": [
      "epoch: 15 | ent loss 0.0864 | rel loss 0.1288 | total loss 0.2151\n",
      "          | val ent loss 0.0554 | val rel loss 0.0282\n"
     ]
    },
    {
     "name": "stderr",
     "output_type": "stream",
     "text": [
      "\n",
      " 80%|████████  | 16/20 [07:24<01:51, 27.79s/it]\u001b[A"
     ]
    },
    {
     "name": "stdout",
     "output_type": "stream",
     "text": [
      "epoch: 16 | ent loss 0.0607 | rel loss 0.0923 | total loss 0.1530\n",
      "          | val ent loss 0.0446 | val rel loss 0.0200\n"
     ]
    },
    {
     "name": "stderr",
     "output_type": "stream",
     "text": [
      "\n",
      " 85%|████████▌ | 17/20 [07:52<01:23, 27.78s/it]\u001b[A"
     ]
    },
    {
     "name": "stdout",
     "output_type": "stream",
     "text": [
      "epoch: 17 | ent loss 0.0667 | rel loss 0.1534 | total loss 0.2201\n",
      "          | val ent loss 0.0583 | val rel loss 0.0126\n"
     ]
    },
    {
     "name": "stderr",
     "output_type": "stream",
     "text": [
      "\n",
      " 90%|█████████ | 18/20 [08:20<00:55, 27.79s/it]\u001b[A"
     ]
    },
    {
     "name": "stdout",
     "output_type": "stream",
     "text": [
      "epoch: 18 | ent loss 0.0522 | rel loss 0.1181 | total loss 0.1703\n",
      "          | val ent loss 0.0370 | val rel loss 0.0103\n"
     ]
    },
    {
     "name": "stderr",
     "output_type": "stream",
     "text": [
      "\n",
      " 95%|█████████▌| 19/20 [08:48<00:27, 27.79s/it]\u001b[A"
     ]
    },
    {
     "name": "stdout",
     "output_type": "stream",
     "text": [
      "epoch: 19 | ent loss 0.0670 | rel loss 0.0866 | total loss 0.1536\n",
      "          | val ent loss 0.0612 | val rel loss 0.0051\n"
     ]
    },
    {
     "name": "stderr",
     "output_type": "stream",
     "text": [
      "\n",
      "100%|██████████| 20/20 [09:15<00:00, 27.80s/it]\u001b[A\n",
      "\u001b[A"
     ]
    },
    {
     "name": "stdout",
     "output_type": "stream",
     "text": [
      "epoch: 20 | ent loss 0.0395 | rel loss 0.0682 | total loss 0.1077\n",
      "          | val ent loss 0.0481 | val rel loss 0.0078\n",
      "\n",
      "Entity detection score\n",
      "precision  \t recall  \t fbeta_score\n",
      "0.909 \t\t 0.923 \t\t 0.916 \t\n",
      "Entity+Relation detection score \n",
      "precision  \t recall  \t fbeta_score  \t\n",
      "0.825 \t\t 0.464 \t\t 0.594 \t\n",
      "confusion matrix \n",
      "TP  \t fp  \t tn  \t fn\n",
      "170 \t 36 \t 0 \t 196 \t\n",
      "\n",
      "Relation error count: 23\n"
     ]
    },
    {
     "name": "stderr",
     "output_type": "stream",
     "text": [
      "\r",
      "100%|██████████| 10/10 [1:37:09<00:00, 582.94s/it]"
     ]
    },
    {
     "name": "stdout",
     "output_type": "stream",
     "text": [
      "======================================================\n",
      "Relation type 0\n",
      "precision  \t recall  \t fbeta_score  \t\n",
      "0.667 \t\t 0.500 \t\t 0.571 \t\n",
      "\n",
      "======================================================\n",
      "Relation type 1\n",
      "precision  \t recall  \t fbeta_score  \t\n",
      "0.744 \t\t 0.533 \t\t 0.621 \t\n",
      "\n",
      "======================================================\n",
      "Relation type 2\n",
      "precision  \t recall  \t fbeta_score  \t\n",
      "0.941 \t\t 0.640 \t\t 0.762 \t\n",
      "\n",
      "======================================================\n",
      "Relation type 3\n",
      "precision  \t recall  \t fbeta_score  \t\n",
      "0.778 \t\t 0.528 \t\t 0.629 \t\n",
      "\n",
      "======================================================\n",
      "Relation type 4\n",
      "precision  \t recall  \t fbeta_score  \t\n",
      "0.833 \t\t 0.114 \t\t 0.200 \t\n",
      "\n"
     ]
    },
    {
     "name": "stderr",
     "output_type": "stream",
     "text": [
      "\n"
     ]
    }
   ],
   "source": [
    "from models_v1_5 import JointERE\n",
    "\n",
    "total_exps = 10\n",
    "scores = []\n",
    "class_scores = []\n",
    "\n",
    "param_list = [loader.vocab_size, EMBEDDING_DIM, HIDDEN_DIM1, HIDDEN_DIM2, LABEL_EMBED_DIM,\n",
    "             ATTN_OUT, schema]\n",
    "\n",
    "\n",
    "for i in tqdm(range(total_exps)):\n",
    "    model = JointERE(*param_list).to(use_device)\n",
    "    model.fit(loader, dev_loader, n_iter=n_iter)\n",
    "    \n",
    "    e_score, er_score, all_er_score = model.score(test_loader, silent=True, rel_detail=True, analyze=True)\n",
    "    \n",
    "    scores.append((e_score, er_score))\n",
    "    class_scores.append(all_er_score)\n",
    "    \n",
    "    del model"
   ]
  },
  {
   "cell_type": "code",
   "execution_count": 18,
   "metadata": {},
   "outputs": [
    {
     "name": "stdout",
     "output_type": "stream",
     "text": [
      "E Statistics\n",
      "Precision: \t mean 0.908 w/std 0.006\n",
      "Recall: \t mean 0.927 w/std 0.011\n",
      "F1 score: \t mean 0.918 w/std 0.006\n"
     ]
    }
   ],
   "source": [
    "from scipy.stats import describe\n",
    "e_p = describe([s[0][0] for s in scores]) \n",
    "e_r = describe([s[0][1] for s in scores])\n",
    "e_f1 = describe([s[0][2] for s in scores])\n",
    "print(\"E Statistics\")\n",
    "print(\"Precision: \\t mean {:.3f} w/std {:.3f}\".format(e_p.mean, e_p.variance**0.5))\n",
    "print(\"Recall: \\t mean {:.3f} w/std {:.3f}\".format(e_r.mean, e_r.variance**0.5))\n",
    "print(\"F1 score: \\t mean {:.3f} w/std {:.3f}\".format(e_f1.mean, e_f1.variance**0.5))"
   ]
  },
  {
   "cell_type": "code",
   "execution_count": 19,
   "metadata": {},
   "outputs": [
    {
     "name": "stdout",
     "output_type": "stream",
     "text": [
      "E+R Statistics\n",
      "Precision: \t mean 0.777 w/std 0.037\n",
      "Recall: \t mean 0.564 w/std 0.074\n",
      "F1 score: \t mean 0.649 w/std 0.038\n"
     ]
    }
   ],
   "source": [
    "er_p = describe([s[1][0] for s in scores]) \n",
    "er_r = describe([s[1][1] for s in scores])\n",
    "er_f1 = describe([s[1][2] for s in scores])\n",
    "print(\"E+R Statistics\")\n",
    "print(\"Precision: \\t mean {:.3f} w/std {:.3f}\".format(er_p.mean, er_p.variance**0.5))\n",
    "print(\"Recall: \\t mean {:.3f} w/std {:.3f}\".format(er_r.mean, er_r.variance**0.5))\n",
    "print(\"F1 score: \\t mean {:.3f} w/std {:.3f}\".format(er_f1.mean, er_f1.variance**0.5))"
   ]
  },
  {
   "cell_type": "code",
   "execution_count": 20,
   "metadata": {},
   "outputs": [
    {
     "name": "stdout",
     "output_type": "stream",
     "text": [
      "==============================================\n",
      "E+R Statistics (ApplyTo)\n",
      "Precision: \t mean 0.613 w/std 0.070\n",
      "Recall: \t mean 0.529 w/std 0.088\n",
      "F1 score: \t mean 0.561 w/std 0.056\n",
      "==============================================\n",
      "E+R Statistics (ApplyIn)\n",
      "Precision: \t mean 0.713 w/std 0.049\n",
      "Recall: \t mean 0.645 w/std 0.098\n",
      "F1 score: \t mean 0.671 w/std 0.041\n",
      "==============================================\n",
      "E+R Statistics (Feel)\n",
      "Precision: \t mean 0.877 w/std 0.041\n",
      "Recall: \t mean 0.718 w/std 0.062\n",
      "F1 score: \t mean 0.787 w/std 0.033\n",
      "==============================================\n",
      "E+R Statistics (ApprovedOf)\n",
      "Precision: \t mean 0.772 w/std 0.050\n",
      "Recall: \t mean 0.628 w/std 0.058\n",
      "F1 score: \t mean 0.691 w/std 0.043\n",
      "==============================================\n",
      "E+R Statistics (Relieve)\n",
      "Precision: \t mean 0.790 w/std 0.104\n",
      "Recall: \t mean 0.266 w/std 0.168\n",
      "F1 score: \t mean 0.365 w/std 0.178\n"
     ]
    }
   ],
   "source": [
    "for i, rel in enumerate(schema['relation']):\n",
    "    er_p = describe([s[0][i] for s in class_scores]) \n",
    "    er_r = describe([s[1][i] for s in class_scores])\n",
    "    er_f1 = describe([s[2][i] for s in class_scores])\n",
    "    print(\"==============================================\")\n",
    "    print(\"E+R Statistics ({})\".format(schema.rid2tag[i]))\n",
    "    print(\"Precision: \\t mean {:.3f} w/std {:.3f}\".format(er_p.mean, er_p.variance**0.5))\n",
    "    print(\"Recall: \\t mean {:.3f} w/std {:.3f}\".format(er_r.mean, er_r.variance**0.5))\n",
    "    print(\"F1 score: \\t mean {:.3f} w/std {:.3f}\".format(er_f1.mean, er_f1.variance**0.5))\n"
   ]
  },
  {
   "cell_type": "code",
   "execution_count": null,
   "metadata": {},
   "outputs": [],
   "source": []
  }
 ],
 "metadata": {
  "kernelspec": {
   "display_name": "Python 3",
   "language": "python",
   "name": "python3"
  },
  "language_info": {
   "codemirror_mode": {
    "name": "ipython",
    "version": 3
   },
   "file_extension": ".py",
   "mimetype": "text/x-python",
   "name": "python",
   "nbconvert_exporter": "python",
   "pygments_lexer": "ipython3",
   "version": "3.5.2"
  }
 },
 "nbformat": 4,
 "nbformat_minor": 2
}
