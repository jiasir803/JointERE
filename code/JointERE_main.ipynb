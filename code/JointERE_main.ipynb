{
 "cells": [
  {
   "cell_type": "code",
   "execution_count": 1,
   "metadata": {},
   "outputs": [],
   "source": [
    "import torch\n",
    "from torch import optim\n",
    "from tqdm import tqdm\n",
    "\n",
    "import numpy as np\n",
    "import copy\n",
    "import json\n",
    "\n",
    "import os\n",
    "os.environ[\"CUDA_VISIBLE_DEVICES\"] = \"0\"\n",
    "USE_CUDA = True\n",
    "use_device = torch.device('cuda' if USE_CUDA else 'cpu')"
   ]
  },
  {
   "cell_type": "code",
   "execution_count": 2,
   "metadata": {},
   "outputs": [],
   "source": [
    "from data_util import Schema\n",
    "\n",
    "root = '/notebooks/sinica/dataset/'\n",
    "\n",
    "schema_root = root+'schema_mr3.txt'\n",
    "relation_data = root+'skincare_mr3.train'\n",
    "dev_data = root+'skincare_mr3.dev'\n",
    "test_data = root+'skincare_mr3.test'\n",
    "\n",
    "# relation_data = root+'facial_r3.train'\n",
    "# dev_data = root+'facial_r3.dev'\n",
    "# test_data = root+'skincare.dev'\n",
    "\n",
    "\n",
    "schema = Schema(schema_root)\n",
    "# schema.rel2ix\n",
    "# {'ApplyIn': 2, 'ApplyTo': 4, 'Feel': 3, 'Rel-None': 1, 'Rel-Pad': 0}"
   ]
  },
  {
   "cell_type": "code",
   "execution_count": 3,
   "metadata": {},
   "outputs": [],
   "source": [
    "# ========hyper-parameter-set==========\n",
    "MAX_LEN = 100\n",
    "BATCH_SIZE = 32\n",
    "\n",
    "EMBEDDING_DIM = 32\n",
    "HIDDEN_DIM1 = 20\n",
    "HIDDEN_DIM2 =  16 #16\n",
    "LABEL_EMBED_DIM = 8\n",
    "\n",
    "ATTN_OUT = 8 #8\n",
    "\n",
    "n_iter = 200\n",
    "rel_be_filtered=None\n",
    "# rel_be_filtered=['Feel']"
   ]
  },
  {
   "cell_type": "code",
   "execution_count": 4,
   "metadata": {},
   "outputs": [],
   "source": [
    "from data_util import BIOLoader\n",
    "\n",
    "loader = BIOLoader(relation_data, MAX_LEN, BATCH_SIZE, schema, rel_be_filtered=rel_be_filtered, \n",
    "                   shuffle=True, device=use_device)\n",
    "dev_loader = BIOLoader(dev_data, MAX_LEN, BATCH_SIZE, schema, rel_be_filtered=rel_be_filtered, \n",
    "                       word_to_ix=loader.word_to_ix, device=use_device)"
   ]
  },
  {
   "cell_type": "code",
   "execution_count": 5,
   "metadata": {},
   "outputs": [
    {
     "name": "stderr",
     "output_type": "stream",
     "text": [
      "  0%|          | 1/200 [00:15<52:09, 15.73s/it]"
     ]
    },
    {
     "name": "stdout",
     "output_type": "stream",
     "text": [
      "epoch: 1 | ent loss 0.7605 | rel loss 0.0192 | total loss 0.7797\n",
      "         | val ent loss 0.7191 | val rel loss 0.0218\n"
     ]
    },
    {
     "name": "stderr",
     "output_type": "stream",
     "text": [
      "\r",
      "  1%|          | 2/200 [00:31<51:54, 15.73s/it]"
     ]
    },
    {
     "name": "stdout",
     "output_type": "stream",
     "text": [
      "epoch: 2 | ent loss 0.8879 | rel loss 0.0253 | total loss 0.9132\n",
      "         | val ent loss 0.4750 | val rel loss 0.0166\n"
     ]
    },
    {
     "name": "stderr",
     "output_type": "stream",
     "text": [
      "\r",
      "  2%|▏         | 3/200 [00:47<51:49, 15.78s/it]"
     ]
    },
    {
     "name": "stdout",
     "output_type": "stream",
     "text": [
      "epoch: 3 | ent loss 0.4678 | rel loss 0.0353 | total loss 0.5031\n",
      "         | val ent loss 0.2503 | val rel loss 0.0196\n"
     ]
    },
    {
     "name": "stderr",
     "output_type": "stream",
     "text": [
      "\r",
      "  2%|▏         | 4/200 [01:02<51:17, 15.70s/it]"
     ]
    },
    {
     "name": "stdout",
     "output_type": "stream",
     "text": [
      "epoch: 4 | ent loss 0.4932 | rel loss 0.0111 | total loss 0.5043\n",
      "         | val ent loss 0.1608 | val rel loss 0.0351\n"
     ]
    },
    {
     "name": "stderr",
     "output_type": "stream",
     "text": [
      "\r",
      "  2%|▎         | 5/200 [01:18<50:52, 15.65s/it]"
     ]
    },
    {
     "name": "stdout",
     "output_type": "stream",
     "text": [
      "epoch: 5 | ent loss 0.2505 | rel loss 0.0150 | total loss 0.2655\n",
      "         | val ent loss 0.1038 | val rel loss 0.0211\n"
     ]
    },
    {
     "name": "stderr",
     "output_type": "stream",
     "text": [
      "\r",
      "  3%|▎         | 6/200 [01:33<50:19, 15.56s/it]"
     ]
    },
    {
     "name": "stdout",
     "output_type": "stream",
     "text": [
      "epoch: 6 | ent loss 0.1664 | rel loss 0.0071 | total loss 0.1735\n",
      "         | val ent loss 0.1126 | val rel loss 0.0265\n"
     ]
    },
    {
     "name": "stderr",
     "output_type": "stream",
     "text": [
      "\r",
      "  4%|▎         | 7/200 [01:48<49:53, 15.51s/it]"
     ]
    },
    {
     "name": "stdout",
     "output_type": "stream",
     "text": [
      "epoch: 7 | ent loss 0.0928 | rel loss 0.0070 | total loss 0.0998\n",
      "         | val ent loss 0.0708 | val rel loss 0.0222\n"
     ]
    },
    {
     "name": "stderr",
     "output_type": "stream",
     "text": [
      "\r",
      "  4%|▍         | 8/200 [02:04<49:36, 15.50s/it]"
     ]
    },
    {
     "name": "stdout",
     "output_type": "stream",
     "text": [
      "epoch: 8 | ent loss 0.0839 | rel loss 0.0105 | total loss 0.0944\n",
      "         | val ent loss 0.0775 | val rel loss 0.0151\n"
     ]
    },
    {
     "name": "stderr",
     "output_type": "stream",
     "text": [
      "\r",
      "  4%|▍         | 9/200 [02:19<49:22, 15.51s/it]"
     ]
    },
    {
     "name": "stdout",
     "output_type": "stream",
     "text": [
      "epoch: 9 | ent loss 0.0443 | rel loss 0.0125 | total loss 0.0568\n",
      "         | val ent loss 0.0692 | val rel loss 0.0142\n"
     ]
    },
    {
     "name": "stderr",
     "output_type": "stream",
     "text": [
      "\r",
      "  5%|▌         | 10/200 [02:34<49:04, 15.50s/it]"
     ]
    },
    {
     "name": "stdout",
     "output_type": "stream",
     "text": [
      "epoch: 10 | ent loss 0.0974 | rel loss 0.0133 | total loss 0.1108\n",
      "          | val ent loss 0.0893 | val rel loss 0.0108\n"
     ]
    },
    {
     "name": "stderr",
     "output_type": "stream",
     "text": [
      "\r",
      "  6%|▌         | 11/200 [02:50<48:51, 15.51s/it]"
     ]
    },
    {
     "name": "stdout",
     "output_type": "stream",
     "text": [
      "epoch: 11 | ent loss 0.0304 | rel loss 0.0035 | total loss 0.0340\n",
      "          | val ent loss 0.0678 | val rel loss 0.0202\n"
     ]
    },
    {
     "name": "stderr",
     "output_type": "stream",
     "text": [
      "\r",
      "  6%|▌         | 12/200 [03:06<48:34, 15.50s/it]"
     ]
    },
    {
     "name": "stdout",
     "output_type": "stream",
     "text": [
      "epoch: 12 | ent loss 0.1632 | rel loss 0.0108 | total loss 0.1740\n",
      "          | val ent loss 0.0642 | val rel loss 0.0092\n"
     ]
    },
    {
     "name": "stderr",
     "output_type": "stream",
     "text": [
      "\r",
      "  6%|▋         | 13/200 [03:21<48:20, 15.51s/it]"
     ]
    },
    {
     "name": "stdout",
     "output_type": "stream",
     "text": [
      "epoch: 13 | ent loss 0.1822 | rel loss 0.0086 | total loss 0.1908\n",
      "          | val ent loss 0.0745 | val rel loss 0.0100\n"
     ]
    },
    {
     "name": "stderr",
     "output_type": "stream",
     "text": [
      "\r",
      "  7%|▋         | 14/200 [03:37<48:03, 15.51s/it]"
     ]
    },
    {
     "name": "stdout",
     "output_type": "stream",
     "text": [
      "epoch: 14 | ent loss 0.0116 | rel loss 0.0025 | total loss 0.0141\n",
      "          | val ent loss 0.0858 | val rel loss 0.0149\n"
     ]
    },
    {
     "name": "stderr",
     "output_type": "stream",
     "text": [
      "\r",
      "  8%|▊         | 15/200 [03:52<47:43, 15.48s/it]"
     ]
    },
    {
     "name": "stdout",
     "output_type": "stream",
     "text": [
      "epoch: 15 | ent loss 0.0581 | rel loss 0.0118 | total loss 0.0699\n",
      "          | val ent loss 0.0909 | val rel loss 0.0077\n"
     ]
    },
    {
     "name": "stderr",
     "output_type": "stream",
     "text": [
      "\r",
      "  8%|▊         | 16/200 [04:07<47:26, 15.47s/it]"
     ]
    },
    {
     "name": "stdout",
     "output_type": "stream",
     "text": [
      "epoch: 16 | ent loss 0.0449 | rel loss 0.0051 | total loss 0.0500\n",
      "          | val ent loss 0.0755 | val rel loss 0.0086\n"
     ]
    },
    {
     "name": "stderr",
     "output_type": "stream",
     "text": [
      "\r",
      "  8%|▊         | 17/200 [04:22<47:09, 15.46s/it]"
     ]
    },
    {
     "name": "stdout",
     "output_type": "stream",
     "text": [
      "epoch: 17 | ent loss 0.0255 | rel loss 0.0037 | total loss 0.0292\n",
      "          | val ent loss 0.1043 | val rel loss 0.0100\n"
     ]
    },
    {
     "name": "stderr",
     "output_type": "stream",
     "text": [
      "\r",
      "  9%|▉         | 18/200 [04:38<46:52, 15.45s/it]"
     ]
    },
    {
     "name": "stdout",
     "output_type": "stream",
     "text": [
      "epoch: 18 | ent loss 0.0575 | rel loss 0.0048 | total loss 0.0623\n",
      "          | val ent loss 0.0658 | val rel loss 0.0073\n"
     ]
    },
    {
     "name": "stderr",
     "output_type": "stream",
     "text": [
      "\r",
      " 10%|▉         | 19/200 [04:53<46:33, 15.44s/it]"
     ]
    },
    {
     "name": "stdout",
     "output_type": "stream",
     "text": [
      "epoch: 19 | ent loss 0.0089 | rel loss 0.0025 | total loss 0.0114\n",
      "          | val ent loss 0.0710 | val rel loss 0.0167\n"
     ]
    },
    {
     "name": "stderr",
     "output_type": "stream",
     "text": [
      "\r",
      " 10%|█         | 20/200 [05:08<46:16, 15.42s/it]"
     ]
    },
    {
     "name": "stdout",
     "output_type": "stream",
     "text": [
      "epoch: 20 | ent loss 0.1481 | rel loss 0.0067 | total loss 0.1548\n",
      "          | val ent loss 0.0786 | val rel loss 0.0077\n"
     ]
    },
    {
     "name": "stderr",
     "output_type": "stream",
     "text": [
      "\r",
      " 10%|█         | 21/200 [05:23<46:00, 15.42s/it]"
     ]
    },
    {
     "name": "stdout",
     "output_type": "stream",
     "text": [
      "epoch: 21 | ent loss 0.0139 | rel loss 0.0039 | total loss 0.0178\n",
      "          | val ent loss 0.0857 | val rel loss 0.0106\n"
     ]
    },
    {
     "name": "stderr",
     "output_type": "stream",
     "text": [
      "\r",
      " 11%|█         | 22/200 [05:39<45:43, 15.41s/it]"
     ]
    },
    {
     "name": "stdout",
     "output_type": "stream",
     "text": [
      "epoch: 22 | ent loss 0.0303 | rel loss 0.0096 | total loss 0.0399\n",
      "          | val ent loss 0.0641 | val rel loss 0.0072\n"
     ]
    },
    {
     "name": "stderr",
     "output_type": "stream",
     "text": [
      "\r",
      " 12%|█▏        | 23/200 [05:54<45:26, 15.40s/it]"
     ]
    },
    {
     "name": "stdout",
     "output_type": "stream",
     "text": [
      "epoch: 23 | ent loss 0.1301 | rel loss 0.0059 | total loss 0.1360\n",
      "          | val ent loss 0.0628 | val rel loss 0.0385\n"
     ]
    },
    {
     "name": "stderr",
     "output_type": "stream",
     "text": [
      "\r",
      " 12%|█▏        | 24/200 [06:09<45:12, 15.41s/it]"
     ]
    },
    {
     "name": "stdout",
     "output_type": "stream",
     "text": [
      "epoch: 24 | ent loss 0.0259 | rel loss 0.0054 | total loss 0.0313\n",
      "          | val ent loss 0.0785 | val rel loss 0.0046\n"
     ]
    },
    {
     "name": "stderr",
     "output_type": "stream",
     "text": [
      "\r",
      " 12%|█▎        | 25/200 [06:25<44:56, 15.41s/it]"
     ]
    },
    {
     "name": "stdout",
     "output_type": "stream",
     "text": [
      "epoch: 25 | ent loss 0.1112 | rel loss 0.0036 | total loss 0.1148\n",
      "          | val ent loss 0.0617 | val rel loss 0.0106\n"
     ]
    },
    {
     "name": "stderr",
     "output_type": "stream",
     "text": [
      "\r",
      " 13%|█▎        | 26/200 [06:40<44:40, 15.41s/it]"
     ]
    },
    {
     "name": "stdout",
     "output_type": "stream",
     "text": [
      "epoch: 26 | ent loss 0.0483 | rel loss 0.0069 | total loss 0.0552\n",
      "          | val ent loss 0.0523 | val rel loss 0.0058\n"
     ]
    },
    {
     "name": "stderr",
     "output_type": "stream",
     "text": [
      "\r",
      " 14%|█▎        | 27/200 [06:55<44:24, 15.40s/it]"
     ]
    },
    {
     "name": "stdout",
     "output_type": "stream",
     "text": [
      "epoch: 27 | ent loss 0.0358 | rel loss 0.0033 | total loss 0.0391\n",
      "          | val ent loss 0.0723 | val rel loss 0.0521\n"
     ]
    },
    {
     "name": "stderr",
     "output_type": "stream",
     "text": [
      "\r",
      " 14%|█▍        | 28/200 [07:11<44:09, 15.40s/it]"
     ]
    },
    {
     "name": "stdout",
     "output_type": "stream",
     "text": [
      "epoch: 28 | ent loss 0.0112 | rel loss 0.0032 | total loss 0.0144\n",
      "          | val ent loss 0.0637 | val rel loss 0.0277\n"
     ]
    },
    {
     "name": "stderr",
     "output_type": "stream",
     "text": [
      "\r",
      " 14%|█▍        | 29/200 [07:26<43:51, 15.39s/it]"
     ]
    },
    {
     "name": "stdout",
     "output_type": "stream",
     "text": [
      "epoch: 29 | ent loss 0.0387 | rel loss 0.0066 | total loss 0.0453\n",
      "          | val ent loss 0.0777 | val rel loss 0.0168\n"
     ]
    },
    {
     "name": "stderr",
     "output_type": "stream",
     "text": [
      "\r",
      " 15%|█▌        | 30/200 [07:41<43:35, 15.38s/it]"
     ]
    },
    {
     "name": "stdout",
     "output_type": "stream",
     "text": [
      "epoch: 30 | ent loss 0.0424 | rel loss 0.0047 | total loss 0.0471\n",
      "          | val ent loss 0.0749 | val rel loss 0.0220\n"
     ]
    },
    {
     "name": "stderr",
     "output_type": "stream",
     "text": [
      "\r",
      " 16%|█▌        | 31/200 [07:56<43:18, 15.38s/it]"
     ]
    },
    {
     "name": "stdout",
     "output_type": "stream",
     "text": [
      "epoch: 31 | ent loss 0.0438 | rel loss 0.0025 | total loss 0.0463\n",
      "          | val ent loss 0.0935 | val rel loss 0.0351\n"
     ]
    },
    {
     "name": "stderr",
     "output_type": "stream",
     "text": [
      "\r",
      " 16%|█▌        | 32/200 [08:11<43:02, 15.37s/it]"
     ]
    },
    {
     "name": "stdout",
     "output_type": "stream",
     "text": [
      "epoch: 32 | ent loss 0.0322 | rel loss 0.0073 | total loss 0.0395\n",
      "          | val ent loss 0.0541 | val rel loss 0.0842\n"
     ]
    },
    {
     "name": "stderr",
     "output_type": "stream",
     "text": [
      "\r",
      " 16%|█▋        | 33/200 [08:26<42:45, 15.36s/it]"
     ]
    },
    {
     "name": "stdout",
     "output_type": "stream",
     "text": [
      "epoch: 33 | ent loss 0.0114 | rel loss 0.0032 | total loss 0.0146\n",
      "          | val ent loss 0.0669 | val rel loss 0.0243\n"
     ]
    },
    {
     "name": "stderr",
     "output_type": "stream",
     "text": [
      "\r",
      " 17%|█▋        | 34/200 [08:42<42:28, 15.35s/it]"
     ]
    },
    {
     "name": "stdout",
     "output_type": "stream",
     "text": [
      "epoch: 34 | ent loss 0.0234 | rel loss 0.0090 | total loss 0.0324\n",
      "          | val ent loss 0.0766 | val rel loss 0.0404\n"
     ]
    },
    {
     "name": "stderr",
     "output_type": "stream",
     "text": [
      "\r",
      " 18%|█▊        | 35/200 [08:56<42:11, 15.34s/it]"
     ]
    },
    {
     "name": "stdout",
     "output_type": "stream",
     "text": [
      "epoch: 35 | ent loss 0.0372 | rel loss 0.0072 | total loss 0.0444\n",
      "          | val ent loss 0.0797 | val rel loss 0.0819\n"
     ]
    },
    {
     "name": "stderr",
     "output_type": "stream",
     "text": [
      "\r",
      " 18%|█▊        | 36/200 [09:11<41:54, 15.33s/it]"
     ]
    },
    {
     "name": "stdout",
     "output_type": "stream",
     "text": [
      "epoch: 36 | ent loss 0.0709 | rel loss 0.0035 | total loss 0.0743\n",
      "          | val ent loss 0.0839 | val rel loss 0.0905\n"
     ]
    },
    {
     "name": "stderr",
     "output_type": "stream",
     "text": [
      "\r",
      " 18%|█▊        | 37/200 [09:26<41:37, 15.32s/it]"
     ]
    },
    {
     "name": "stdout",
     "output_type": "stream",
     "text": [
      "epoch: 37 | ent loss 0.0208 | rel loss 0.0021 | total loss 0.0229\n",
      "          | val ent loss 0.0853 | val rel loss 0.1448\n"
     ]
    },
    {
     "name": "stderr",
     "output_type": "stream",
     "text": [
      "\r",
      " 19%|█▉        | 38/200 [09:42<41:22, 15.32s/it]"
     ]
    },
    {
     "name": "stdout",
     "output_type": "stream",
     "text": [
      "epoch: 38 | ent loss 0.0099 | rel loss 0.0056 | total loss 0.0155\n",
      "          | val ent loss 0.0850 | val rel loss 0.0331\n"
     ]
    },
    {
     "name": "stderr",
     "output_type": "stream",
     "text": [
      "\r",
      " 20%|█▉        | 39/200 [09:57<41:06, 15.32s/it]"
     ]
    },
    {
     "name": "stdout",
     "output_type": "stream",
     "text": [
      "epoch: 39 | ent loss 0.0274 | rel loss 0.0060 | total loss 0.0333\n",
      "          | val ent loss 0.1154 | val rel loss 0.0445\n"
     ]
    },
    {
     "name": "stderr",
     "output_type": "stream",
     "text": [
      "\r",
      " 20%|██        | 40/200 [10:12<40:51, 15.32s/it]"
     ]
    },
    {
     "name": "stdout",
     "output_type": "stream",
     "text": [
      "epoch: 40 | ent loss 0.0896 | rel loss 0.0022 | total loss 0.0918\n",
      "          | val ent loss 0.0948 | val rel loss 0.0480\n"
     ]
    },
    {
     "name": "stderr",
     "output_type": "stream",
     "text": [
      "\r",
      " 20%|██        | 41/200 [10:27<40:34, 15.31s/it]"
     ]
    },
    {
     "name": "stdout",
     "output_type": "stream",
     "text": [
      "epoch: 41 | ent loss 0.0598 | rel loss 0.0045 | total loss 0.0643\n",
      "          | val ent loss 0.0905 | val rel loss 0.0275\n"
     ]
    },
    {
     "name": "stderr",
     "output_type": "stream",
     "text": [
      "\r",
      " 21%|██        | 42/200 [10:42<40:18, 15.31s/it]"
     ]
    },
    {
     "name": "stdout",
     "output_type": "stream",
     "text": [
      "epoch: 42 | ent loss 0.1034 | rel loss 0.0034 | total loss 0.1068\n",
      "          | val ent loss 0.0959 | val rel loss 0.0696\n"
     ]
    },
    {
     "name": "stderr",
     "output_type": "stream",
     "text": [
      "\r",
      " 22%|██▏       | 43/200 [10:58<40:02, 15.30s/it]"
     ]
    },
    {
     "name": "stdout",
     "output_type": "stream",
     "text": [
      "epoch: 43 | ent loss 0.0338 | rel loss 0.0020 | total loss 0.0358\n",
      "          | val ent loss 0.0838 | val rel loss 0.0077\n"
     ]
    },
    {
     "name": "stderr",
     "output_type": "stream",
     "text": [
      "\r",
      " 22%|██▏       | 44/200 [11:13<39:46, 15.30s/it]"
     ]
    },
    {
     "name": "stdout",
     "output_type": "stream",
     "text": [
      "epoch: 44 | ent loss 0.0098 | rel loss 0.0029 | total loss 0.0127\n",
      "          | val ent loss 0.0967 | val rel loss 0.1583\n"
     ]
    },
    {
     "name": "stderr",
     "output_type": "stream",
     "text": [
      "\r",
      " 22%|██▎       | 45/200 [11:28<39:29, 15.29s/it]"
     ]
    },
    {
     "name": "stdout",
     "output_type": "stream",
     "text": [
      "epoch: 45 | ent loss 0.0166 | rel loss 0.0044 | total loss 0.0210\n",
      "          | val ent loss 0.0912 | val rel loss 0.0870\n"
     ]
    },
    {
     "name": "stderr",
     "output_type": "stream",
     "text": [
      "\r",
      " 23%|██▎       | 46/200 [11:43<39:13, 15.28s/it]"
     ]
    },
    {
     "name": "stdout",
     "output_type": "stream",
     "text": [
      "epoch: 46 | ent loss 0.0119 | rel loss 0.0015 | total loss 0.0133\n",
      "          | val ent loss 0.1047 | val rel loss 0.1516\n"
     ]
    },
    {
     "name": "stderr",
     "output_type": "stream",
     "text": [
      "\r",
      " 24%|██▎       | 47/200 [11:58<38:58, 15.29s/it]"
     ]
    },
    {
     "name": "stdout",
     "output_type": "stream",
     "text": [
      "epoch: 47 | ent loss 0.0325 | rel loss 0.0028 | total loss 0.0352\n",
      "          | val ent loss 0.1132 | val rel loss 0.0805\n"
     ]
    },
    {
     "name": "stderr",
     "output_type": "stream",
     "text": [
      "\r",
      " 24%|██▍       | 48/200 [12:13<38:43, 15.28s/it]"
     ]
    },
    {
     "name": "stdout",
     "output_type": "stream",
     "text": [
      "epoch: 48 | ent loss 0.0251 | rel loss 0.0020 | total loss 0.0271\n",
      "          | val ent loss 0.1091 | val rel loss 0.1999\n"
     ]
    },
    {
     "name": "stderr",
     "output_type": "stream",
     "text": [
      "\r",
      " 24%|██▍       | 49/200 [12:28<38:27, 15.28s/it]"
     ]
    },
    {
     "name": "stdout",
     "output_type": "stream",
     "text": [
      "epoch: 49 | ent loss 0.0275 | rel loss 0.0016 | total loss 0.0291\n",
      "          | val ent loss 0.0967 | val rel loss 0.2318\n"
     ]
    },
    {
     "name": "stderr",
     "output_type": "stream",
     "text": [
      "\r",
      " 25%|██▌       | 50/200 [12:44<38:12, 15.29s/it]"
     ]
    },
    {
     "name": "stdout",
     "output_type": "stream",
     "text": [
      "epoch: 50 | ent loss 0.0105 | rel loss 0.0022 | total loss 0.0127\n",
      "          | val ent loss 0.0856 | val rel loss 0.0730\n"
     ]
    },
    {
     "name": "stderr",
     "output_type": "stream",
     "text": [
      "\r",
      " 26%|██▌       | 51/200 [12:59<37:58, 15.29s/it]"
     ]
    },
    {
     "name": "stdout",
     "output_type": "stream",
     "text": [
      "epoch: 51 | ent loss 0.0304 | rel loss 0.0037 | total loss 0.0341\n",
      "          | val ent loss 0.0929 | val rel loss 0.1642\n"
     ]
    },
    {
     "name": "stderr",
     "output_type": "stream",
     "text": [
      "\r",
      " 26%|██▌       | 52/200 [13:15<37:43, 15.29s/it]"
     ]
    },
    {
     "name": "stdout",
     "output_type": "stream",
     "text": [
      "epoch: 52 | ent loss 0.0301 | rel loss 0.0038 | total loss 0.0339\n",
      "          | val ent loss 0.0920 | val rel loss 0.1022\n"
     ]
    },
    {
     "name": "stderr",
     "output_type": "stream",
     "text": [
      "\r",
      " 26%|██▋       | 53/200 [13:30<37:27, 15.29s/it]"
     ]
    },
    {
     "name": "stdout",
     "output_type": "stream",
     "text": [
      "epoch: 53 | ent loss 0.0356 | rel loss 0.0053 | total loss 0.0409\n",
      "          | val ent loss 0.0885 | val rel loss 0.0986\n"
     ]
    },
    {
     "name": "stderr",
     "output_type": "stream",
     "text": [
      "\r",
      " 27%|██▋       | 54/200 [13:45<37:12, 15.29s/it]"
     ]
    },
    {
     "name": "stdout",
     "output_type": "stream",
     "text": [
      "epoch: 54 | ent loss 0.0158 | rel loss 0.0024 | total loss 0.0182\n",
      "          | val ent loss 0.0894 | val rel loss 0.1059\n"
     ]
    },
    {
     "name": "stderr",
     "output_type": "stream",
     "text": [
      "\r",
      " 28%|██▊       | 55/200 [14:01<36:57, 15.29s/it]"
     ]
    },
    {
     "name": "stdout",
     "output_type": "stream",
     "text": [
      "epoch: 55 | ent loss 0.0143 | rel loss 0.0015 | total loss 0.0158\n",
      "          | val ent loss 0.0801 | val rel loss 0.0889\n"
     ]
    },
    {
     "name": "stderr",
     "output_type": "stream",
     "text": [
      "\r",
      " 28%|██▊       | 56/200 [14:16<36:41, 15.29s/it]"
     ]
    },
    {
     "name": "stdout",
     "output_type": "stream",
     "text": [
      "epoch: 56 | ent loss 0.0186 | rel loss 0.0046 | total loss 0.0232\n",
      "          | val ent loss 0.0844 | val rel loss 0.0358\n"
     ]
    },
    {
     "name": "stderr",
     "output_type": "stream",
     "text": [
      "\r",
      " 28%|██▊       | 57/200 [14:31<36:26, 15.29s/it]"
     ]
    },
    {
     "name": "stdout",
     "output_type": "stream",
     "text": [
      "epoch: 57 | ent loss 0.1551 | rel loss 0.0051 | total loss 0.1601\n",
      "          | val ent loss 0.0871 | val rel loss 0.0570\n"
     ]
    },
    {
     "name": "stderr",
     "output_type": "stream",
     "text": [
      "\r",
      " 29%|██▉       | 58/200 [14:46<36:10, 15.29s/it]"
     ]
    },
    {
     "name": "stdout",
     "output_type": "stream",
     "text": [
      "epoch: 58 | ent loss 0.0138 | rel loss 0.0044 | total loss 0.0182\n",
      "          | val ent loss 0.0930 | val rel loss 0.0508\n"
     ]
    },
    {
     "name": "stderr",
     "output_type": "stream",
     "text": [
      "\r",
      " 30%|██▉       | 59/200 [15:01<35:55, 15.29s/it]"
     ]
    },
    {
     "name": "stdout",
     "output_type": "stream",
     "text": [
      "epoch: 59 | ent loss 0.0041 | rel loss 0.0028 | total loss 0.0069\n",
      "          | val ent loss 0.0849 | val rel loss 0.1389\n"
     ]
    },
    {
     "name": "stderr",
     "output_type": "stream",
     "text": [
      "\r",
      " 30%|███       | 60/200 [15:17<35:40, 15.29s/it]"
     ]
    },
    {
     "name": "stdout",
     "output_type": "stream",
     "text": [
      "epoch: 60 | ent loss 0.0070 | rel loss 0.0036 | total loss 0.0107\n",
      "          | val ent loss 0.1040 | val rel loss 0.0883\n"
     ]
    },
    {
     "name": "stderr",
     "output_type": "stream",
     "text": [
      "\r",
      " 30%|███       | 61/200 [15:32<35:25, 15.29s/it]"
     ]
    },
    {
     "name": "stdout",
     "output_type": "stream",
     "text": [
      "epoch: 61 | ent loss 0.0350 | rel loss 0.0022 | total loss 0.0372\n",
      "          | val ent loss 0.0869 | val rel loss 0.2530\n"
     ]
    },
    {
     "name": "stderr",
     "output_type": "stream",
     "text": [
      "\r",
      " 31%|███       | 62/200 [15:48<35:10, 15.29s/it]"
     ]
    },
    {
     "name": "stdout",
     "output_type": "stream",
     "text": [
      "epoch: 62 | ent loss 0.0294 | rel loss 0.0025 | total loss 0.0319\n",
      "          | val ent loss 0.0940 | val rel loss 0.0838\n"
     ]
    },
    {
     "name": "stderr",
     "output_type": "stream",
     "text": [
      "\r",
      " 32%|███▏      | 63/200 [16:03<34:55, 15.29s/it]"
     ]
    },
    {
     "name": "stdout",
     "output_type": "stream",
     "text": [
      "epoch: 63 | ent loss 0.0529 | rel loss 0.0010 | total loss 0.0538\n",
      "          | val ent loss 0.0859 | val rel loss 0.0734\n"
     ]
    },
    {
     "name": "stderr",
     "output_type": "stream",
     "text": [
      "\r",
      " 32%|███▏      | 64/200 [16:18<34:39, 15.29s/it]"
     ]
    },
    {
     "name": "stdout",
     "output_type": "stream",
     "text": [
      "epoch: 64 | ent loss 0.0142 | rel loss 0.0019 | total loss 0.0161\n",
      "          | val ent loss 0.0895 | val rel loss 0.0071\n"
     ]
    },
    {
     "name": "stderr",
     "output_type": "stream",
     "text": [
      "\r",
      " 32%|███▎      | 65/200 [16:34<34:24, 15.29s/it]"
     ]
    },
    {
     "name": "stdout",
     "output_type": "stream",
     "text": [
      "epoch: 65 | ent loss 0.0264 | rel loss 0.0086 | total loss 0.0350\n",
      "          | val ent loss 0.0919 | val rel loss 0.0809\n"
     ]
    },
    {
     "name": "stderr",
     "output_type": "stream",
     "text": [
      "\r",
      " 33%|███▎      | 66/200 [16:49<34:09, 15.30s/it]"
     ]
    },
    {
     "name": "stdout",
     "output_type": "stream",
     "text": [
      "epoch: 66 | ent loss 0.0042 | rel loss 0.0009 | total loss 0.0051\n",
      "          | val ent loss 0.0854 | val rel loss 0.0075\n"
     ]
    },
    {
     "name": "stderr",
     "output_type": "stream",
     "text": [
      "\r",
      " 34%|███▎      | 67/200 [17:04<33:54, 15.30s/it]"
     ]
    },
    {
     "name": "stdout",
     "output_type": "stream",
     "text": [
      "epoch: 67 | ent loss 0.0225 | rel loss 0.0038 | total loss 0.0263\n",
      "          | val ent loss 0.1150 | val rel loss 0.0272\n"
     ]
    },
    {
     "name": "stderr",
     "output_type": "stream",
     "text": [
      "\r",
      " 34%|███▍      | 68/200 [17:20<33:38, 15.30s/it]"
     ]
    },
    {
     "name": "stdout",
     "output_type": "stream",
     "text": [
      "epoch: 68 | ent loss 0.0610 | rel loss 0.0050 | total loss 0.0661\n",
      "          | val ent loss 0.0774 | val rel loss 0.0242\n"
     ]
    },
    {
     "name": "stderr",
     "output_type": "stream",
     "text": [
      "\r",
      " 34%|███▍      | 69/200 [17:35<33:23, 15.29s/it]"
     ]
    },
    {
     "name": "stdout",
     "output_type": "stream",
     "text": [
      "epoch: 69 | ent loss 0.0484 | rel loss 0.0077 | total loss 0.0560\n",
      "          | val ent loss 0.0695 | val rel loss 0.0341\n"
     ]
    },
    {
     "name": "stderr",
     "output_type": "stream",
     "text": [
      "\r",
      " 35%|███▌      | 70/200 [17:50<33:08, 15.29s/it]"
     ]
    },
    {
     "name": "stdout",
     "output_type": "stream",
     "text": [
      "epoch: 70 | ent loss 0.0311 | rel loss 0.0024 | total loss 0.0336\n",
      "          | val ent loss 0.0735 | val rel loss 0.0245\n"
     ]
    },
    {
     "name": "stderr",
     "output_type": "stream",
     "text": [
      "\r",
      " 36%|███▌      | 71/200 [18:05<32:52, 15.29s/it]"
     ]
    },
    {
     "name": "stdout",
     "output_type": "stream",
     "text": [
      "epoch: 71 | ent loss 0.0104 | rel loss 0.0023 | total loss 0.0127\n",
      "          | val ent loss 0.0800 | val rel loss 0.0445\n"
     ]
    },
    {
     "name": "stderr",
     "output_type": "stream",
     "text": [
      "\r",
      " 36%|███▌      | 72/200 [18:21<32:37, 15.29s/it]"
     ]
    },
    {
     "name": "stdout",
     "output_type": "stream",
     "text": [
      "epoch: 72 | ent loss 0.0496 | rel loss 0.0026 | total loss 0.0523\n",
      "          | val ent loss 0.0792 | val rel loss 0.0420\n"
     ]
    },
    {
     "name": "stderr",
     "output_type": "stream",
     "text": [
      "\r",
      " 36%|███▋      | 73/200 [18:36<32:21, 15.29s/it]"
     ]
    },
    {
     "name": "stdout",
     "output_type": "stream",
     "text": [
      "epoch: 73 | ent loss 0.0044 | rel loss 0.0021 | total loss 0.0065\n",
      "          | val ent loss 0.0776 | val rel loss 0.0320\n"
     ]
    },
    {
     "name": "stderr",
     "output_type": "stream",
     "text": [
      "\r",
      " 37%|███▋      | 74/200 [18:51<32:06, 15.29s/it]"
     ]
    },
    {
     "name": "stdout",
     "output_type": "stream",
     "text": [
      "epoch: 74 | ent loss 0.0237 | rel loss 0.0036 | total loss 0.0273\n",
      "          | val ent loss 0.0896 | val rel loss 0.0259\n"
     ]
    },
    {
     "name": "stderr",
     "output_type": "stream",
     "text": [
      "\r",
      " 38%|███▊      | 75/200 [19:06<31:50, 15.29s/it]"
     ]
    },
    {
     "name": "stdout",
     "output_type": "stream",
     "text": [
      "epoch: 75 | ent loss 0.0180 | rel loss 0.0032 | total loss 0.0212\n",
      "          | val ent loss 0.0840 | val rel loss 0.0477\n"
     ]
    },
    {
     "name": "stderr",
     "output_type": "stream",
     "text": [
      "\r",
      " 38%|███▊      | 76/200 [19:21<31:35, 15.28s/it]"
     ]
    },
    {
     "name": "stdout",
     "output_type": "stream",
     "text": [
      "epoch: 76 | ent loss 0.1794 | rel loss 0.0176 | total loss 0.1970\n",
      "          | val ent loss 0.0920 | val rel loss 0.0026\n"
     ]
    },
    {
     "name": "stderr",
     "output_type": "stream",
     "text": [
      "\r",
      " 38%|███▊      | 77/200 [19:36<31:19, 15.28s/it]"
     ]
    },
    {
     "name": "stdout",
     "output_type": "stream",
     "text": [
      "epoch: 77 | ent loss 0.0064 | rel loss 0.0025 | total loss 0.0089\n",
      "          | val ent loss 0.0767 | val rel loss 0.0054\n"
     ]
    },
    {
     "name": "stderr",
     "output_type": "stream",
     "text": [
      "\r",
      " 39%|███▉      | 78/200 [19:51<31:04, 15.28s/it]"
     ]
    },
    {
     "name": "stdout",
     "output_type": "stream",
     "text": [
      "epoch: 78 | ent loss 0.0821 | rel loss 0.0048 | total loss 0.0869\n",
      "          | val ent loss 0.0726 | val rel loss 0.0055\n"
     ]
    },
    {
     "name": "stderr",
     "output_type": "stream",
     "text": [
      "\r",
      " 40%|███▉      | 79/200 [20:07<30:48, 15.28s/it]"
     ]
    },
    {
     "name": "stdout",
     "output_type": "stream",
     "text": [
      "epoch: 79 | ent loss 0.0181 | rel loss 0.0030 | total loss 0.0211\n",
      "          | val ent loss 0.1017 | val rel loss 0.0369\n"
     ]
    },
    {
     "name": "stderr",
     "output_type": "stream",
     "text": [
      "\r",
      " 40%|████      | 80/200 [20:22<30:33, 15.28s/it]"
     ]
    },
    {
     "name": "stdout",
     "output_type": "stream",
     "text": [
      "epoch: 80 | ent loss 0.0187 | rel loss 0.0037 | total loss 0.0224\n",
      "          | val ent loss 0.0999 | val rel loss 0.0501\n"
     ]
    },
    {
     "name": "stderr",
     "output_type": "stream",
     "text": [
      "\r",
      " 40%|████      | 81/200 [20:37<30:18, 15.28s/it]"
     ]
    },
    {
     "name": "stdout",
     "output_type": "stream",
     "text": [
      "epoch: 81 | ent loss 0.0388 | rel loss 0.0038 | total loss 0.0426\n",
      "          | val ent loss 0.0900 | val rel loss 0.1301\n"
     ]
    },
    {
     "name": "stderr",
     "output_type": "stream",
     "text": [
      "\r",
      " 41%|████      | 82/200 [20:53<30:03, 15.28s/it]"
     ]
    },
    {
     "name": "stdout",
     "output_type": "stream",
     "text": [
      "epoch: 82 | ent loss 0.0295 | rel loss 0.0026 | total loss 0.0321\n",
      "          | val ent loss 0.0780 | val rel loss 0.1637\n"
     ]
    },
    {
     "name": "stderr",
     "output_type": "stream",
     "text": [
      "\r",
      " 42%|████▏     | 83/200 [21:08<29:47, 15.28s/it]"
     ]
    },
    {
     "name": "stdout",
     "output_type": "stream",
     "text": [
      "epoch: 83 | ent loss 0.0257 | rel loss 0.0026 | total loss 0.0283\n",
      "          | val ent loss 0.0965 | val rel loss 0.0089\n"
     ]
    },
    {
     "name": "stderr",
     "output_type": "stream",
     "text": [
      "\r",
      " 42%|████▏     | 84/200 [21:23<29:32, 15.28s/it]"
     ]
    },
    {
     "name": "stdout",
     "output_type": "stream",
     "text": [
      "epoch: 84 | ent loss 0.0142 | rel loss 0.0012 | total loss 0.0154\n",
      "          | val ent loss 0.0847 | val rel loss 0.0232\n"
     ]
    },
    {
     "name": "stderr",
     "output_type": "stream",
     "text": [
      "\r",
      " 42%|████▎     | 85/200 [21:38<29:16, 15.28s/it]"
     ]
    },
    {
     "name": "stdout",
     "output_type": "stream",
     "text": [
      "epoch: 85 | ent loss 0.0153 | rel loss 0.0030 | total loss 0.0183\n",
      "          | val ent loss 0.0932 | val rel loss 0.0034\n"
     ]
    },
    {
     "name": "stderr",
     "output_type": "stream",
     "text": [
      "\r",
      " 43%|████▎     | 86/200 [21:53<29:01, 15.28s/it]"
     ]
    },
    {
     "name": "stdout",
     "output_type": "stream",
     "text": [
      "epoch: 86 | ent loss 0.0213 | rel loss 0.0011 | total loss 0.0224\n",
      "          | val ent loss 0.0771 | val rel loss 0.0070\n"
     ]
    },
    {
     "name": "stderr",
     "output_type": "stream",
     "text": [
      "\r",
      " 44%|████▎     | 87/200 [22:08<28:46, 15.28s/it]"
     ]
    },
    {
     "name": "stdout",
     "output_type": "stream",
     "text": [
      "epoch: 87 | ent loss 0.0822 | rel loss 0.0044 | total loss 0.0866\n",
      "          | val ent loss 0.1105 | val rel loss 0.0176\n"
     ]
    },
    {
     "name": "stderr",
     "output_type": "stream",
     "text": [
      "\r",
      " 44%|████▍     | 88/200 [22:24<28:30, 15.28s/it]"
     ]
    },
    {
     "name": "stdout",
     "output_type": "stream",
     "text": [
      "epoch: 88 | ent loss 0.0110 | rel loss 0.0016 | total loss 0.0126\n",
      "          | val ent loss 0.1020 | val rel loss 0.0139\n"
     ]
    },
    {
     "name": "stderr",
     "output_type": "stream",
     "text": [
      "\r",
      " 44%|████▍     | 89/200 [22:39<28:15, 15.28s/it]"
     ]
    },
    {
     "name": "stdout",
     "output_type": "stream",
     "text": [
      "epoch: 89 | ent loss 0.0050 | rel loss 0.0015 | total loss 0.0065\n",
      "          | val ent loss 0.0928 | val rel loss 0.0055\n"
     ]
    },
    {
     "name": "stderr",
     "output_type": "stream",
     "text": [
      "\r",
      " 45%|████▌     | 90/200 [22:54<27:59, 15.27s/it]"
     ]
    },
    {
     "name": "stdout",
     "output_type": "stream",
     "text": [
      "epoch: 90 | ent loss 0.0149 | rel loss 0.0021 | total loss 0.0170\n",
      "          | val ent loss 0.1056 | val rel loss 0.0328\n"
     ]
    },
    {
     "name": "stderr",
     "output_type": "stream",
     "text": [
      "\r",
      " 46%|████▌     | 91/200 [23:09<27:44, 15.27s/it]"
     ]
    },
    {
     "name": "stdout",
     "output_type": "stream",
     "text": [
      "epoch: 91 | ent loss 0.0026 | rel loss 0.0013 | total loss 0.0039\n",
      "          | val ent loss 0.0881 | val rel loss 0.0048\n"
     ]
    },
    {
     "name": "stderr",
     "output_type": "stream",
     "text": [
      "\r",
      " 46%|████▌     | 92/200 [23:25<27:29, 15.28s/it]"
     ]
    },
    {
     "name": "stdout",
     "output_type": "stream",
     "text": [
      "epoch: 92 | ent loss 0.0165 | rel loss 0.0046 | total loss 0.0211\n",
      "          | val ent loss 0.1174 | val rel loss 0.0094\n"
     ]
    },
    {
     "name": "stderr",
     "output_type": "stream",
     "text": [
      "\r",
      " 46%|████▋     | 93/200 [23:40<27:14, 15.28s/it]"
     ]
    },
    {
     "name": "stdout",
     "output_type": "stream",
     "text": [
      "epoch: 93 | ent loss 0.0071 | rel loss 0.0011 | total loss 0.0082\n",
      "          | val ent loss 0.0882 | val rel loss 0.0031\n"
     ]
    },
    {
     "name": "stderr",
     "output_type": "stream",
     "text": [
      "\r",
      " 47%|████▋     | 94/200 [23:56<26:59, 15.28s/it]"
     ]
    },
    {
     "name": "stdout",
     "output_type": "stream",
     "text": [
      "epoch: 94 | ent loss 0.0024 | rel loss 0.0013 | total loss 0.0038\n",
      "          | val ent loss 0.0900 | val rel loss 0.0034\n"
     ]
    },
    {
     "name": "stderr",
     "output_type": "stream",
     "text": [
      "\r",
      " 48%|████▊     | 95/200 [24:11<26:43, 15.28s/it]"
     ]
    },
    {
     "name": "stdout",
     "output_type": "stream",
     "text": [
      "epoch: 95 | ent loss 0.0066 | rel loss 0.0036 | total loss 0.0101\n",
      "          | val ent loss 0.1076 | val rel loss 0.0047\n"
     ]
    },
    {
     "name": "stderr",
     "output_type": "stream",
     "text": [
      "\r",
      " 48%|████▊     | 96/200 [24:26<26:28, 15.28s/it]"
     ]
    },
    {
     "name": "stdout",
     "output_type": "stream",
     "text": [
      "epoch: 96 | ent loss 0.0134 | rel loss 0.0017 | total loss 0.0152\n",
      "          | val ent loss 0.1218 | val rel loss 0.0443\n"
     ]
    },
    {
     "name": "stderr",
     "output_type": "stream",
     "text": [
      "\r",
      " 48%|████▊     | 97/200 [24:41<26:13, 15.28s/it]"
     ]
    },
    {
     "name": "stdout",
     "output_type": "stream",
     "text": [
      "epoch: 97 | ent loss 0.0128 | rel loss 0.0010 | total loss 0.0138\n",
      "          | val ent loss 0.1083 | val rel loss 0.0088\n"
     ]
    },
    {
     "name": "stderr",
     "output_type": "stream",
     "text": [
      "\r",
      " 49%|████▉     | 98/200 [24:57<25:58, 15.28s/it]"
     ]
    },
    {
     "name": "stdout",
     "output_type": "stream",
     "text": [
      "epoch: 98 | ent loss 0.0326 | rel loss 0.0106 | total loss 0.0432\n",
      "          | val ent loss 0.1088 | val rel loss 0.0117\n"
     ]
    },
    {
     "name": "stderr",
     "output_type": "stream",
     "text": [
      "\r",
      " 50%|████▉     | 99/200 [25:12<25:43, 15.28s/it]"
     ]
    },
    {
     "name": "stdout",
     "output_type": "stream",
     "text": [
      "epoch: 99 | ent loss 0.0033 | rel loss 0.0032 | total loss 0.0064\n",
      "          | val ent loss 0.0933 | val rel loss 0.0037\n"
     ]
    },
    {
     "name": "stderr",
     "output_type": "stream",
     "text": [
      "\r",
      " 50%|█████     | 100/200 [25:27<25:27, 15.28s/it]"
     ]
    },
    {
     "name": "stdout",
     "output_type": "stream",
     "text": [
      "epoch: 100 | ent loss 0.0249 | rel loss 0.0036 | total loss 0.0285\n",
      "           | val ent loss 0.1140 | val rel loss 0.0131\n"
     ]
    },
    {
     "name": "stderr",
     "output_type": "stream",
     "text": [
      "\r",
      " 50%|█████     | 101/200 [25:43<25:12, 15.28s/it]"
     ]
    },
    {
     "name": "stdout",
     "output_type": "stream",
     "text": [
      "epoch: 101 | ent loss 0.0203 | rel loss 0.0028 | total loss 0.0231\n",
      "           | val ent loss 0.1003 | val rel loss 0.0689\n"
     ]
    },
    {
     "name": "stderr",
     "output_type": "stream",
     "text": [
      "\r",
      " 51%|█████     | 102/200 [25:58<24:57, 15.28s/it]"
     ]
    },
    {
     "name": "stdout",
     "output_type": "stream",
     "text": [
      "epoch: 102 | ent loss 0.0302 | rel loss 0.0030 | total loss 0.0332\n",
      "           | val ent loss 0.0817 | val rel loss 0.0566\n"
     ]
    },
    {
     "name": "stderr",
     "output_type": "stream",
     "text": [
      "\r",
      " 52%|█████▏    | 103/200 [26:14<24:42, 15.29s/it]"
     ]
    },
    {
     "name": "stdout",
     "output_type": "stream",
     "text": [
      "epoch: 103 | ent loss 0.0177 | rel loss 0.0018 | total loss 0.0196\n",
      "           | val ent loss 0.0903 | val rel loss 0.0068\n"
     ]
    },
    {
     "name": "stderr",
     "output_type": "stream",
     "text": [
      "\r",
      " 52%|█████▏    | 104/200 [26:29<24:27, 15.29s/it]"
     ]
    },
    {
     "name": "stdout",
     "output_type": "stream",
     "text": [
      "epoch: 104 | ent loss 0.0052 | rel loss 0.0013 | total loss 0.0065\n",
      "           | val ent loss 0.0913 | val rel loss 0.0081\n"
     ]
    },
    {
     "name": "stderr",
     "output_type": "stream",
     "text": [
      "\r",
      " 52%|█████▎    | 105/200 [26:45<24:12, 15.29s/it]"
     ]
    },
    {
     "name": "stdout",
     "output_type": "stream",
     "text": [
      "epoch: 105 | ent loss 0.0843 | rel loss 0.0078 | total loss 0.0921\n",
      "           | val ent loss 0.1038 | val rel loss 0.0112\n"
     ]
    },
    {
     "name": "stderr",
     "output_type": "stream",
     "text": [
      "\r",
      " 53%|█████▎    | 106/200 [27:00<23:57, 15.29s/it]"
     ]
    },
    {
     "name": "stdout",
     "output_type": "stream",
     "text": [
      "epoch: 106 | ent loss 0.0511 | rel loss 0.0024 | total loss 0.0535\n",
      "           | val ent loss 0.0806 | val rel loss 0.0027\n"
     ]
    },
    {
     "name": "stderr",
     "output_type": "stream",
     "text": [
      "\r",
      " 54%|█████▎    | 107/200 [27:16<23:42, 15.29s/it]"
     ]
    },
    {
     "name": "stdout",
     "output_type": "stream",
     "text": [
      "epoch: 107 | ent loss 0.0022 | rel loss 0.0008 | total loss 0.0030\n",
      "           | val ent loss 0.0813 | val rel loss 0.0088\n"
     ]
    },
    {
     "name": "stderr",
     "output_type": "stream",
     "text": [
      "\r",
      " 54%|█████▍    | 108/200 [27:31<23:27, 15.29s/it]"
     ]
    },
    {
     "name": "stdout",
     "output_type": "stream",
     "text": [
      "epoch: 108 | ent loss 0.0049 | rel loss 0.0017 | total loss 0.0066\n",
      "           | val ent loss 0.0749 | val rel loss 0.0060\n"
     ]
    },
    {
     "name": "stderr",
     "output_type": "stream",
     "text": [
      "\r",
      " 55%|█████▍    | 109/200 [27:47<23:11, 15.30s/it]"
     ]
    },
    {
     "name": "stdout",
     "output_type": "stream",
     "text": [
      "epoch: 109 | ent loss 0.0174 | rel loss 0.0033 | total loss 0.0207\n",
      "           | val ent loss 0.0898 | val rel loss 0.0025\n"
     ]
    },
    {
     "name": "stderr",
     "output_type": "stream",
     "text": [
      "\r",
      " 55%|█████▌    | 110/200 [28:02<22:56, 15.30s/it]"
     ]
    },
    {
     "name": "stdout",
     "output_type": "stream",
     "text": [
      "epoch: 110 | ent loss 0.0068 | rel loss 0.0012 | total loss 0.0080\n",
      "           | val ent loss 0.1093 | val rel loss 0.0052\n"
     ]
    },
    {
     "name": "stderr",
     "output_type": "stream",
     "text": [
      "\r",
      " 56%|█████▌    | 111/200 [28:17<22:41, 15.30s/it]"
     ]
    },
    {
     "name": "stdout",
     "output_type": "stream",
     "text": [
      "epoch: 111 | ent loss 0.0185 | rel loss 0.0020 | total loss 0.0205\n",
      "           | val ent loss 0.0879 | val rel loss 0.0027\n"
     ]
    },
    {
     "name": "stderr",
     "output_type": "stream",
     "text": [
      "\r",
      " 56%|█████▌    | 112/200 [28:33<22:26, 15.30s/it]"
     ]
    },
    {
     "name": "stdout",
     "output_type": "stream",
     "text": [
      "epoch: 112 | ent loss 0.0077 | rel loss 0.0021 | total loss 0.0097\n",
      "           | val ent loss 0.0906 | val rel loss 0.0032\n"
     ]
    },
    {
     "name": "stderr",
     "output_type": "stream",
     "text": [
      "\r",
      " 56%|█████▋    | 113/200 [28:48<22:10, 15.30s/it]"
     ]
    },
    {
     "name": "stdout",
     "output_type": "stream",
     "text": [
      "epoch: 113 | ent loss 0.0329 | rel loss 0.0069 | total loss 0.0398\n",
      "           | val ent loss 0.1025 | val rel loss 0.0136\n"
     ]
    },
    {
     "name": "stderr",
     "output_type": "stream",
     "text": [
      "\r",
      " 57%|█████▋    | 114/200 [29:03<21:55, 15.30s/it]"
     ]
    },
    {
     "name": "stdout",
     "output_type": "stream",
     "text": [
      "epoch: 114 | ent loss 0.0041 | rel loss 0.0027 | total loss 0.0068\n",
      "           | val ent loss 0.1042 | val rel loss 0.0399\n"
     ]
    },
    {
     "name": "stderr",
     "output_type": "stream",
     "text": [
      "\r",
      " 57%|█████▊    | 115/200 [29:19<21:40, 15.30s/it]"
     ]
    },
    {
     "name": "stdout",
     "output_type": "stream",
     "text": [
      "epoch: 115 | ent loss 0.0094 | rel loss 0.0044 | total loss 0.0138\n",
      "           | val ent loss 0.1012 | val rel loss 0.0040\n"
     ]
    },
    {
     "name": "stderr",
     "output_type": "stream",
     "text": [
      "\r",
      " 58%|█████▊    | 116/200 [29:34<21:24, 15.30s/it]"
     ]
    },
    {
     "name": "stdout",
     "output_type": "stream",
     "text": [
      "epoch: 116 | ent loss 0.0077 | rel loss 0.0016 | total loss 0.0094\n",
      "           | val ent loss 0.1068 | val rel loss 0.0040\n"
     ]
    },
    {
     "name": "stderr",
     "output_type": "stream",
     "text": [
      "\r",
      " 58%|█████▊    | 117/200 [29:49<21:09, 15.30s/it]"
     ]
    },
    {
     "name": "stdout",
     "output_type": "stream",
     "text": [
      "epoch: 117 | ent loss 0.0059 | rel loss 0.0029 | total loss 0.0088\n",
      "           | val ent loss 0.1127 | val rel loss 0.0034\n"
     ]
    },
    {
     "name": "stderr",
     "output_type": "stream",
     "text": [
      "\r",
      " 59%|█████▉    | 118/200 [30:04<20:54, 15.29s/it]"
     ]
    },
    {
     "name": "stdout",
     "output_type": "stream",
     "text": [
      "epoch: 118 | ent loss 0.0905 | rel loss 0.0097 | total loss 0.1002\n",
      "           | val ent loss 0.1039 | val rel loss 0.0031\n"
     ]
    },
    {
     "name": "stderr",
     "output_type": "stream",
     "text": [
      "\r",
      " 60%|█████▉    | 119/200 [30:19<20:38, 15.29s/it]"
     ]
    },
    {
     "name": "stdout",
     "output_type": "stream",
     "text": [
      "epoch: 119 | ent loss 0.0611 | rel loss 0.0022 | total loss 0.0633\n",
      "           | val ent loss 0.1045 | val rel loss 0.0028\n"
     ]
    },
    {
     "name": "stderr",
     "output_type": "stream",
     "text": [
      "\r",
      " 60%|██████    | 120/200 [30:35<20:23, 15.29s/it]"
     ]
    },
    {
     "name": "stdout",
     "output_type": "stream",
     "text": [
      "epoch: 120 | ent loss 0.1468 | rel loss 0.0088 | total loss 0.1556\n",
      "           | val ent loss 0.0968 | val rel loss 0.0031\n"
     ]
    },
    {
     "name": "stderr",
     "output_type": "stream",
     "text": [
      "\r",
      " 60%|██████    | 121/200 [30:50<20:07, 15.29s/it]"
     ]
    },
    {
     "name": "stdout",
     "output_type": "stream",
     "text": [
      "epoch: 121 | ent loss 0.0238 | rel loss 0.0054 | total loss 0.0292\n",
      "           | val ent loss 0.1015 | val rel loss 0.0040\n"
     ]
    },
    {
     "name": "stderr",
     "output_type": "stream",
     "text": [
      "\r",
      " 61%|██████    | 122/200 [31:05<19:52, 15.29s/it]"
     ]
    },
    {
     "name": "stdout",
     "output_type": "stream",
     "text": [
      "epoch: 122 | ent loss 0.0036 | rel loss 0.0008 | total loss 0.0043\n",
      "           | val ent loss 0.0863 | val rel loss 0.0103\n"
     ]
    },
    {
     "name": "stderr",
     "output_type": "stream",
     "text": [
      "\r",
      " 62%|██████▏   | 123/200 [31:19<19:36, 15.28s/it]"
     ]
    },
    {
     "name": "stdout",
     "output_type": "stream",
     "text": [
      "epoch: 123 | ent loss 0.0232 | rel loss 0.0079 | total loss 0.0311\n",
      "           | val ent loss 0.1085 | val rel loss 0.0035\n"
     ]
    },
    {
     "name": "stderr",
     "output_type": "stream",
     "text": [
      "\r",
      " 62%|██████▏   | 124/200 [31:34<19:21, 15.28s/it]"
     ]
    },
    {
     "name": "stdout",
     "output_type": "stream",
     "text": [
      "epoch: 124 | ent loss 0.0637 | rel loss 0.0046 | total loss 0.0684\n",
      "           | val ent loss 0.1055 | val rel loss 0.0036\n"
     ]
    },
    {
     "name": "stderr",
     "output_type": "stream",
     "text": [
      "\r",
      " 62%|██████▎   | 125/200 [31:49<19:05, 15.28s/it]"
     ]
    },
    {
     "name": "stdout",
     "output_type": "stream",
     "text": [
      "epoch: 125 | ent loss 0.0567 | rel loss 0.0015 | total loss 0.0582\n",
      "           | val ent loss 0.0937 | val rel loss 0.0028\n"
     ]
    },
    {
     "name": "stderr",
     "output_type": "stream",
     "text": [
      "\r",
      " 63%|██████▎   | 126/200 [32:04<18:50, 15.28s/it]"
     ]
    },
    {
     "name": "stdout",
     "output_type": "stream",
     "text": [
      "epoch: 126 | ent loss 0.0273 | rel loss 0.0018 | total loss 0.0291\n",
      "           | val ent loss 0.0920 | val rel loss 0.0025\n"
     ]
    },
    {
     "name": "stderr",
     "output_type": "stream",
     "text": [
      "\r",
      " 64%|██████▎   | 127/200 [32:19<18:34, 15.27s/it]"
     ]
    },
    {
     "name": "stdout",
     "output_type": "stream",
     "text": [
      "epoch: 127 | ent loss 0.0608 | rel loss 0.0015 | total loss 0.0623\n",
      "           | val ent loss 0.0952 | val rel loss 0.0073\n"
     ]
    },
    {
     "name": "stderr",
     "output_type": "stream",
     "text": [
      "\r",
      " 64%|██████▍   | 128/200 [32:34<18:19, 15.27s/it]"
     ]
    },
    {
     "name": "stdout",
     "output_type": "stream",
     "text": [
      "epoch: 128 | ent loss 0.1685 | rel loss 0.0037 | total loss 0.1722\n",
      "           | val ent loss 0.1040 | val rel loss 0.0055\n"
     ]
    },
    {
     "name": "stderr",
     "output_type": "stream",
     "text": [
      "\r",
      " 64%|██████▍   | 129/200 [32:49<18:04, 15.27s/it]"
     ]
    },
    {
     "name": "stdout",
     "output_type": "stream",
     "text": [
      "epoch: 129 | ent loss 0.1609 | rel loss 0.0034 | total loss 0.1644\n",
      "           | val ent loss 0.1041 | val rel loss 0.0062\n"
     ]
    },
    {
     "name": "stderr",
     "output_type": "stream",
     "text": [
      "\r",
      " 65%|██████▌   | 130/200 [33:05<17:48, 15.27s/it]"
     ]
    },
    {
     "name": "stdout",
     "output_type": "stream",
     "text": [
      "epoch: 130 | ent loss 0.0133 | rel loss 0.0020 | total loss 0.0153\n",
      "           | val ent loss 0.0792 | val rel loss 0.0036\n"
     ]
    },
    {
     "name": "stderr",
     "output_type": "stream",
     "text": [
      "\r",
      " 66%|██████▌   | 131/200 [33:20<17:33, 15.27s/it]"
     ]
    },
    {
     "name": "stdout",
     "output_type": "stream",
     "text": [
      "epoch: 131 | ent loss 0.0171 | rel loss 0.0046 | total loss 0.0218\n",
      "           | val ent loss 0.1086 | val rel loss 0.0028\n"
     ]
    },
    {
     "name": "stderr",
     "output_type": "stream",
     "text": [
      "\r",
      " 66%|██████▌   | 132/200 [33:35<17:18, 15.27s/it]"
     ]
    },
    {
     "name": "stdout",
     "output_type": "stream",
     "text": [
      "epoch: 132 | ent loss 0.0399 | rel loss 0.0086 | total loss 0.0486\n",
      "           | val ent loss 0.1182 | val rel loss 0.0036\n"
     ]
    },
    {
     "name": "stderr",
     "output_type": "stream",
     "text": [
      "\r",
      " 66%|██████▋   | 133/200 [33:50<17:02, 15.27s/it]"
     ]
    },
    {
     "name": "stdout",
     "output_type": "stream",
     "text": [
      "epoch: 133 | ent loss 0.0741 | rel loss 0.0044 | total loss 0.0786\n",
      "           | val ent loss 0.1227 | val rel loss 0.0032\n"
     ]
    },
    {
     "name": "stderr",
     "output_type": "stream",
     "text": [
      "\r",
      " 67%|██████▋   | 134/200 [34:05<16:47, 15.27s/it]"
     ]
    },
    {
     "name": "stdout",
     "output_type": "stream",
     "text": [
      "epoch: 134 | ent loss 0.0114 | rel loss 0.0031 | total loss 0.0145\n",
      "           | val ent loss 0.0723 | val rel loss 0.0042\n"
     ]
    },
    {
     "name": "stderr",
     "output_type": "stream",
     "text": [
      "\r",
      " 68%|██████▊   | 135/200 [34:20<16:32, 15.26s/it]"
     ]
    },
    {
     "name": "stdout",
     "output_type": "stream",
     "text": [
      "epoch: 135 | ent loss 0.2763 | rel loss 0.0021 | total loss 0.2784\n",
      "           | val ent loss 0.1008 | val rel loss 0.0023\n"
     ]
    },
    {
     "name": "stderr",
     "output_type": "stream",
     "text": [
      "\r",
      " 68%|██████▊   | 136/200 [34:35<16:16, 15.26s/it]"
     ]
    },
    {
     "name": "stdout",
     "output_type": "stream",
     "text": [
      "epoch: 136 | ent loss 0.0184 | rel loss 0.0020 | total loss 0.0204\n",
      "           | val ent loss 0.0826 | val rel loss 0.0036\n"
     ]
    },
    {
     "name": "stderr",
     "output_type": "stream",
     "text": [
      "\r",
      " 68%|██████▊   | 137/200 [34:51<16:01, 15.26s/it]"
     ]
    },
    {
     "name": "stdout",
     "output_type": "stream",
     "text": [
      "epoch: 137 | ent loss 0.0122 | rel loss 0.0028 | total loss 0.0149\n",
      "           | val ent loss 0.0841 | val rel loss 0.0033\n"
     ]
    },
    {
     "name": "stderr",
     "output_type": "stream",
     "text": [
      "\r",
      " 69%|██████▉   | 138/200 [35:06<15:46, 15.26s/it]"
     ]
    },
    {
     "name": "stdout",
     "output_type": "stream",
     "text": [
      "epoch: 138 | ent loss 0.0056 | rel loss 0.0014 | total loss 0.0071\n",
      "           | val ent loss 0.0960 | val rel loss 0.0024\n"
     ]
    },
    {
     "name": "stderr",
     "output_type": "stream",
     "text": [
      "\r",
      " 70%|██████▉   | 139/200 [35:21<15:31, 15.26s/it]"
     ]
    },
    {
     "name": "stdout",
     "output_type": "stream",
     "text": [
      "epoch: 139 | ent loss 0.0125 | rel loss 0.0019 | total loss 0.0145\n",
      "           | val ent loss 0.0970 | val rel loss 0.0027\n"
     ]
    },
    {
     "name": "stderr",
     "output_type": "stream",
     "text": [
      "\r",
      " 70%|███████   | 140/200 [35:37<15:15, 15.26s/it]"
     ]
    },
    {
     "name": "stdout",
     "output_type": "stream",
     "text": [
      "epoch: 140 | ent loss 0.0231 | rel loss 0.0008 | total loss 0.0239\n",
      "           | val ent loss 0.0890 | val rel loss 0.0026\n"
     ]
    },
    {
     "name": "stderr",
     "output_type": "stream",
     "text": [
      "\r",
      " 70%|███████   | 141/200 [35:52<15:00, 15.27s/it]"
     ]
    },
    {
     "name": "stdout",
     "output_type": "stream",
     "text": [
      "epoch: 141 | ent loss 0.0056 | rel loss 0.0033 | total loss 0.0089\n",
      "           | val ent loss 0.0724 | val rel loss 0.0029\n"
     ]
    },
    {
     "name": "stderr",
     "output_type": "stream",
     "text": [
      "\r",
      " 71%|███████   | 142/200 [36:07<14:45, 15.27s/it]"
     ]
    },
    {
     "name": "stdout",
     "output_type": "stream",
     "text": [
      "epoch: 142 | ent loss 0.0138 | rel loss 0.0033 | total loss 0.0170\n",
      "           | val ent loss 0.0990 | val rel loss 0.0030\n"
     ]
    },
    {
     "name": "stderr",
     "output_type": "stream",
     "text": [
      "\r",
      " 72%|███████▏  | 143/200 [36:22<14:30, 15.26s/it]"
     ]
    },
    {
     "name": "stdout",
     "output_type": "stream",
     "text": [
      "epoch: 143 | ent loss 0.0018 | rel loss 0.0010 | total loss 0.0028\n",
      "           | val ent loss 0.0900 | val rel loss 0.0023\n"
     ]
    },
    {
     "name": "stderr",
     "output_type": "stream",
     "text": [
      "\r",
      " 72%|███████▏  | 144/200 [36:37<14:14, 15.26s/it]"
     ]
    },
    {
     "name": "stdout",
     "output_type": "stream",
     "text": [
      "epoch: 144 | ent loss 0.0697 | rel loss 0.0044 | total loss 0.0742\n",
      "           | val ent loss 0.1003 | val rel loss 0.0034\n"
     ]
    },
    {
     "name": "stderr",
     "output_type": "stream",
     "text": [
      "\r",
      " 72%|███████▎  | 145/200 [36:53<13:59, 15.26s/it]"
     ]
    },
    {
     "name": "stdout",
     "output_type": "stream",
     "text": [
      "epoch: 145 | ent loss 0.0147 | rel loss 0.0030 | total loss 0.0176\n",
      "           | val ent loss 0.0906 | val rel loss 0.0042\n"
     ]
    },
    {
     "name": "stderr",
     "output_type": "stream",
     "text": [
      "\r",
      " 73%|███████▎  | 146/200 [37:08<13:44, 15.26s/it]"
     ]
    },
    {
     "name": "stdout",
     "output_type": "stream",
     "text": [
      "epoch: 146 | ent loss 0.0409 | rel loss 0.0035 | total loss 0.0444\n",
      "           | val ent loss 0.0987 | val rel loss 0.0028\n"
     ]
    },
    {
     "name": "stderr",
     "output_type": "stream",
     "text": [
      "\r",
      " 74%|███████▎  | 147/200 [37:23<13:28, 15.26s/it]"
     ]
    },
    {
     "name": "stdout",
     "output_type": "stream",
     "text": [
      "epoch: 147 | ent loss 0.0217 | rel loss 0.0030 | total loss 0.0247\n",
      "           | val ent loss 0.0973 | val rel loss 0.0027\n"
     ]
    },
    {
     "name": "stderr",
     "output_type": "stream",
     "text": [
      "\r",
      " 74%|███████▍  | 148/200 [37:39<13:13, 15.26s/it]"
     ]
    },
    {
     "name": "stdout",
     "output_type": "stream",
     "text": [
      "epoch: 148 | ent loss 0.0025 | rel loss 0.0018 | total loss 0.0043\n",
      "           | val ent loss 0.0793 | val rel loss 0.0036\n"
     ]
    },
    {
     "name": "stderr",
     "output_type": "stream",
     "text": [
      "\r",
      " 74%|███████▍  | 149/200 [37:54<12:58, 15.27s/it]"
     ]
    },
    {
     "name": "stdout",
     "output_type": "stream",
     "text": [
      "epoch: 149 | ent loss 0.0045 | rel loss 0.0017 | total loss 0.0062\n",
      "           | val ent loss 0.0681 | val rel loss 0.0023\n"
     ]
    },
    {
     "name": "stderr",
     "output_type": "stream",
     "text": [
      "\r",
      " 75%|███████▌  | 150/200 [38:10<12:43, 15.27s/it]"
     ]
    },
    {
     "name": "stdout",
     "output_type": "stream",
     "text": [
      "epoch: 150 | ent loss 0.0198 | rel loss 0.0020 | total loss 0.0218\n",
      "           | val ent loss 0.0745 | val rel loss 0.0031\n"
     ]
    },
    {
     "name": "stderr",
     "output_type": "stream",
     "text": [
      "\r",
      " 76%|███████▌  | 151/200 [38:25<12:28, 15.27s/it]"
     ]
    },
    {
     "name": "stdout",
     "output_type": "stream",
     "text": [
      "epoch: 151 | ent loss 0.0269 | rel loss 0.0066 | total loss 0.0335\n",
      "           | val ent loss 0.0823 | val rel loss 0.0046\n"
     ]
    },
    {
     "name": "stderr",
     "output_type": "stream",
     "text": [
      "\r",
      " 76%|███████▌  | 152/200 [38:41<12:12, 15.27s/it]"
     ]
    },
    {
     "name": "stdout",
     "output_type": "stream",
     "text": [
      "epoch: 152 | ent loss 0.0046 | rel loss 0.0017 | total loss 0.0063\n",
      "           | val ent loss 0.0769 | val rel loss 0.0031\n"
     ]
    },
    {
     "name": "stderr",
     "output_type": "stream",
     "text": [
      "\r",
      " 76%|███████▋  | 153/200 [38:56<11:57, 15.27s/it]"
     ]
    },
    {
     "name": "stdout",
     "output_type": "stream",
     "text": [
      "epoch: 153 | ent loss 0.0021 | rel loss 0.0017 | total loss 0.0037\n",
      "           | val ent loss 0.1059 | val rel loss 0.0035\n"
     ]
    },
    {
     "name": "stderr",
     "output_type": "stream",
     "text": [
      "\r",
      " 77%|███████▋  | 154/200 [39:11<11:42, 15.27s/it]"
     ]
    },
    {
     "name": "stdout",
     "output_type": "stream",
     "text": [
      "epoch: 154 | ent loss 0.0587 | rel loss 0.0030 | total loss 0.0616\n",
      "           | val ent loss 0.1087 | val rel loss 0.0027\n"
     ]
    },
    {
     "name": "stderr",
     "output_type": "stream",
     "text": [
      "\r",
      " 78%|███████▊  | 155/200 [39:27<11:27, 15.27s/it]"
     ]
    },
    {
     "name": "stdout",
     "output_type": "stream",
     "text": [
      "epoch: 155 | ent loss 0.0216 | rel loss 0.0038 | total loss 0.0254\n",
      "           | val ent loss 0.0856 | val rel loss 0.0024\n"
     ]
    },
    {
     "name": "stderr",
     "output_type": "stream",
     "text": [
      "\r",
      " 78%|███████▊  | 156/200 [39:42<11:11, 15.27s/it]"
     ]
    },
    {
     "name": "stdout",
     "output_type": "stream",
     "text": [
      "epoch: 156 | ent loss 0.0024 | rel loss 0.0017 | total loss 0.0041\n",
      "           | val ent loss 0.1072 | val rel loss 0.0027\n"
     ]
    },
    {
     "name": "stderr",
     "output_type": "stream",
     "text": [
      "\r",
      " 78%|███████▊  | 157/200 [39:57<10:56, 15.27s/it]"
     ]
    },
    {
     "name": "stdout",
     "output_type": "stream",
     "text": [
      "epoch: 157 | ent loss 0.0059 | rel loss 0.0020 | total loss 0.0079\n",
      "           | val ent loss 0.0815 | val rel loss 0.0025\n"
     ]
    },
    {
     "name": "stderr",
     "output_type": "stream",
     "text": [
      "\r",
      " 79%|███████▉  | 158/200 [40:12<10:41, 15.27s/it]"
     ]
    },
    {
     "name": "stdout",
     "output_type": "stream",
     "text": [
      "epoch: 158 | ent loss 0.0276 | rel loss 0.0032 | total loss 0.0308\n",
      "           | val ent loss 0.0904 | val rel loss 0.0025\n"
     ]
    },
    {
     "name": "stderr",
     "output_type": "stream",
     "text": [
      "\r",
      " 80%|███████▉  | 159/200 [40:27<10:26, 15.27s/it]"
     ]
    },
    {
     "name": "stdout",
     "output_type": "stream",
     "text": [
      "epoch: 159 | ent loss 0.0045 | rel loss 0.0029 | total loss 0.0074\n",
      "           | val ent loss 0.0913 | val rel loss 0.0023\n"
     ]
    },
    {
     "name": "stderr",
     "output_type": "stream",
     "text": [
      "\r",
      " 80%|████████  | 160/200 [40:43<10:10, 15.27s/it]"
     ]
    },
    {
     "name": "stdout",
     "output_type": "stream",
     "text": [
      "epoch: 160 | ent loss 0.0056 | rel loss 0.0012 | total loss 0.0067\n",
      "           | val ent loss 0.0759 | val rel loss 0.0028\n"
     ]
    },
    {
     "name": "stderr",
     "output_type": "stream",
     "text": [
      "\r",
      " 80%|████████  | 161/200 [40:58<09:55, 15.27s/it]"
     ]
    },
    {
     "name": "stdout",
     "output_type": "stream",
     "text": [
      "epoch: 161 | ent loss 0.0032 | rel loss 0.0069 | total loss 0.0101\n",
      "           | val ent loss 0.0956 | val rel loss 0.0028\n"
     ]
    },
    {
     "name": "stderr",
     "output_type": "stream",
     "text": [
      "\r",
      " 81%|████████  | 162/200 [41:13<09:40, 15.27s/it]"
     ]
    },
    {
     "name": "stdout",
     "output_type": "stream",
     "text": [
      "epoch: 162 | ent loss 0.0020 | rel loss 0.0016 | total loss 0.0036\n",
      "           | val ent loss 0.0989 | val rel loss 0.0028\n"
     ]
    },
    {
     "name": "stderr",
     "output_type": "stream",
     "text": [
      "\r",
      " 82%|████████▏ | 163/200 [41:27<09:24, 15.26s/it]"
     ]
    },
    {
     "name": "stdout",
     "output_type": "stream",
     "text": [
      "epoch: 163 | ent loss 0.0148 | rel loss 0.0056 | total loss 0.0204\n",
      "           | val ent loss 0.1089 | val rel loss 0.0025\n"
     ]
    },
    {
     "name": "stderr",
     "output_type": "stream",
     "text": [
      "\r",
      " 82%|████████▏ | 164/200 [41:43<09:09, 15.26s/it]"
     ]
    },
    {
     "name": "stdout",
     "output_type": "stream",
     "text": [
      "epoch: 164 | ent loss 0.0407 | rel loss 0.0029 | total loss 0.0436\n",
      "           | val ent loss 0.1139 | val rel loss 0.0031\n"
     ]
    },
    {
     "name": "stderr",
     "output_type": "stream",
     "text": [
      "\r",
      " 82%|████████▎ | 165/200 [41:58<08:54, 15.26s/it]"
     ]
    },
    {
     "name": "stdout",
     "output_type": "stream",
     "text": [
      "epoch: 165 | ent loss 0.0028 | rel loss 0.0015 | total loss 0.0044\n",
      "           | val ent loss 0.1147 | val rel loss 0.0030\n"
     ]
    },
    {
     "name": "stderr",
     "output_type": "stream",
     "text": [
      "\r",
      " 83%|████████▎ | 166/200 [42:13<08:38, 15.26s/it]"
     ]
    },
    {
     "name": "stdout",
     "output_type": "stream",
     "text": [
      "epoch: 166 | ent loss 0.0260 | rel loss 0.0031 | total loss 0.0291\n",
      "           | val ent loss 0.0823 | val rel loss 0.0026\n"
     ]
    },
    {
     "name": "stderr",
     "output_type": "stream",
     "text": [
      "\r",
      " 84%|████████▎ | 167/200 [42:29<08:23, 15.26s/it]"
     ]
    },
    {
     "name": "stdout",
     "output_type": "stream",
     "text": [
      "epoch: 167 | ent loss 0.0024 | rel loss 0.0027 | total loss 0.0050\n",
      "           | val ent loss 0.0992 | val rel loss 0.0022\n"
     ]
    },
    {
     "name": "stderr",
     "output_type": "stream",
     "text": [
      "\r",
      " 84%|████████▍ | 168/200 [42:44<08:08, 15.26s/it]"
     ]
    },
    {
     "name": "stdout",
     "output_type": "stream",
     "text": [
      "epoch: 168 | ent loss 0.0111 | rel loss 0.0025 | total loss 0.0136\n",
      "           | val ent loss 0.0916 | val rel loss 0.0027\n"
     ]
    },
    {
     "name": "stderr",
     "output_type": "stream",
     "text": [
      "\r",
      " 84%|████████▍ | 169/200 [43:00<07:53, 15.27s/it]"
     ]
    },
    {
     "name": "stdout",
     "output_type": "stream",
     "text": [
      "epoch: 169 | ent loss 0.0094 | rel loss 0.0009 | total loss 0.0102\n",
      "           | val ent loss 0.0901 | val rel loss 0.0033\n"
     ]
    },
    {
     "name": "stderr",
     "output_type": "stream",
     "text": [
      "\r",
      " 85%|████████▌ | 170/200 [43:15<07:38, 15.27s/it]"
     ]
    },
    {
     "name": "stdout",
     "output_type": "stream",
     "text": [
      "epoch: 170 | ent loss 0.0039 | rel loss 0.0037 | total loss 0.0077\n",
      "           | val ent loss 0.1094 | val rel loss 0.0023\n"
     ]
    },
    {
     "name": "stderr",
     "output_type": "stream",
     "text": [
      "\r",
      " 86%|████████▌ | 171/200 [43:30<07:22, 15.27s/it]"
     ]
    },
    {
     "name": "stdout",
     "output_type": "stream",
     "text": [
      "epoch: 171 | ent loss 0.0048 | rel loss 0.0005 | total loss 0.0053\n",
      "           | val ent loss 0.0839 | val rel loss 0.0023\n"
     ]
    },
    {
     "name": "stderr",
     "output_type": "stream",
     "text": [
      "\r",
      " 86%|████████▌ | 172/200 [43:45<07:07, 15.27s/it]"
     ]
    },
    {
     "name": "stdout",
     "output_type": "stream",
     "text": [
      "epoch: 172 | ent loss 0.0070 | rel loss 0.0022 | total loss 0.0092\n",
      "           | val ent loss 0.1104 | val rel loss 0.0024\n"
     ]
    },
    {
     "name": "stderr",
     "output_type": "stream",
     "text": [
      "\r",
      " 86%|████████▋ | 173/200 [44:01<06:52, 15.27s/it]"
     ]
    },
    {
     "name": "stdout",
     "output_type": "stream",
     "text": [
      "epoch: 173 | ent loss 0.0139 | rel loss 0.0054 | total loss 0.0193\n",
      "           | val ent loss 0.1225 | val rel loss 0.0025\n"
     ]
    },
    {
     "name": "stderr",
     "output_type": "stream",
     "text": [
      "\r",
      " 87%|████████▋ | 174/200 [44:17<06:37, 15.27s/it]"
     ]
    },
    {
     "name": "stdout",
     "output_type": "stream",
     "text": [
      "epoch: 174 | ent loss 0.0335 | rel loss 0.0109 | total loss 0.0445\n",
      "           | val ent loss 0.1036 | val rel loss 0.0027\n"
     ]
    },
    {
     "name": "stderr",
     "output_type": "stream",
     "text": [
      "\r",
      " 88%|████████▊ | 175/200 [44:32<06:21, 15.27s/it]"
     ]
    },
    {
     "name": "stdout",
     "output_type": "stream",
     "text": [
      "epoch: 175 | ent loss 0.0074 | rel loss 0.0039 | total loss 0.0113\n",
      "           | val ent loss 0.1020 | val rel loss 0.0023\n"
     ]
    },
    {
     "name": "stderr",
     "output_type": "stream",
     "text": [
      "\r",
      " 88%|████████▊ | 176/200 [44:48<06:06, 15.27s/it]"
     ]
    },
    {
     "name": "stdout",
     "output_type": "stream",
     "text": [
      "epoch: 176 | ent loss 0.0104 | rel loss 0.0026 | total loss 0.0131\n",
      "           | val ent loss 0.0822 | val rel loss 0.0065\n"
     ]
    },
    {
     "name": "stderr",
     "output_type": "stream",
     "text": [
      "\r",
      " 88%|████████▊ | 177/200 [45:03<05:51, 15.27s/it]"
     ]
    },
    {
     "name": "stdout",
     "output_type": "stream",
     "text": [
      "epoch: 177 | ent loss 0.0044 | rel loss 0.0025 | total loss 0.0069\n",
      "           | val ent loss 0.1030 | val rel loss 0.0024\n"
     ]
    },
    {
     "name": "stderr",
     "output_type": "stream",
     "text": [
      "\r",
      " 89%|████████▉ | 178/200 [45:18<05:36, 15.27s/it]"
     ]
    },
    {
     "name": "stdout",
     "output_type": "stream",
     "text": [
      "epoch: 178 | ent loss 0.0072 | rel loss 0.0002 | total loss 0.0074\n",
      "           | val ent loss 0.0885 | val rel loss 0.0030\n"
     ]
    },
    {
     "name": "stderr",
     "output_type": "stream",
     "text": [
      "\r",
      " 90%|████████▉ | 179/200 [45:33<05:20, 15.27s/it]"
     ]
    },
    {
     "name": "stdout",
     "output_type": "stream",
     "text": [
      "epoch: 179 | ent loss 0.0104 | rel loss 0.0014 | total loss 0.0118\n",
      "           | val ent loss 0.1071 | val rel loss 0.0024\n"
     ]
    },
    {
     "name": "stderr",
     "output_type": "stream",
     "text": [
      "\r",
      " 90%|█████████ | 180/200 [45:49<05:05, 15.27s/it]"
     ]
    },
    {
     "name": "stdout",
     "output_type": "stream",
     "text": [
      "epoch: 180 | ent loss 0.0058 | rel loss 0.0021 | total loss 0.0079\n",
      "           | val ent loss 0.1176 | val rel loss 0.0037\n"
     ]
    },
    {
     "name": "stderr",
     "output_type": "stream",
     "text": [
      "\r",
      " 90%|█████████ | 181/200 [46:05<04:50, 15.28s/it]"
     ]
    },
    {
     "name": "stdout",
     "output_type": "stream",
     "text": [
      "epoch: 181 | ent loss 0.0042 | rel loss 0.0019 | total loss 0.0061\n",
      "           | val ent loss 0.1131 | val rel loss 0.0026\n"
     ]
    },
    {
     "name": "stderr",
     "output_type": "stream",
     "text": [
      "\r",
      " 91%|█████████ | 182/200 [46:19<04:34, 15.27s/it]"
     ]
    },
    {
     "name": "stdout",
     "output_type": "stream",
     "text": [
      "epoch: 182 | ent loss 0.0390 | rel loss 0.0074 | total loss 0.0465\n",
      "           | val ent loss 0.1375 | val rel loss 0.0026\n"
     ]
    },
    {
     "name": "stderr",
     "output_type": "stream",
     "text": [
      "\r",
      " 92%|█████████▏| 183/200 [46:35<04:19, 15.27s/it]"
     ]
    },
    {
     "name": "stdout",
     "output_type": "stream",
     "text": [
      "epoch: 183 | ent loss 0.0160 | rel loss 0.0010 | total loss 0.0170\n",
      "           | val ent loss 0.1139 | val rel loss 0.0032\n"
     ]
    },
    {
     "name": "stderr",
     "output_type": "stream",
     "text": [
      "\r",
      " 92%|█████████▏| 184/200 [46:50<04:04, 15.27s/it]"
     ]
    },
    {
     "name": "stdout",
     "output_type": "stream",
     "text": [
      "epoch: 184 | ent loss 0.0024 | rel loss 0.0014 | total loss 0.0038\n",
      "           | val ent loss 0.1219 | val rel loss 0.0036\n"
     ]
    },
    {
     "name": "stderr",
     "output_type": "stream",
     "text": [
      "\r",
      " 92%|█████████▎| 185/200 [47:05<03:49, 15.27s/it]"
     ]
    },
    {
     "name": "stdout",
     "output_type": "stream",
     "text": [
      "epoch: 185 | ent loss 0.0013 | rel loss 0.0015 | total loss 0.0028\n",
      "           | val ent loss 0.1005 | val rel loss 0.0028\n"
     ]
    },
    {
     "name": "stderr",
     "output_type": "stream",
     "text": [
      "\r",
      " 93%|█████████▎| 186/200 [47:21<03:33, 15.28s/it]"
     ]
    },
    {
     "name": "stdout",
     "output_type": "stream",
     "text": [
      "epoch: 186 | ent loss 0.0023 | rel loss 0.0026 | total loss 0.0049\n",
      "           | val ent loss 0.1145 | val rel loss 0.0064\n"
     ]
    },
    {
     "name": "stderr",
     "output_type": "stream",
     "text": [
      "\r",
      " 94%|█████████▎| 187/200 [47:36<03:18, 15.28s/it]"
     ]
    },
    {
     "name": "stdout",
     "output_type": "stream",
     "text": [
      "epoch: 187 | ent loss 0.0295 | rel loss 0.0019 | total loss 0.0314\n",
      "           | val ent loss 0.1080 | val rel loss 0.0034\n"
     ]
    },
    {
     "name": "stderr",
     "output_type": "stream",
     "text": [
      "\r",
      " 94%|█████████▍| 188/200 [47:51<03:03, 15.28s/it]"
     ]
    },
    {
     "name": "stdout",
     "output_type": "stream",
     "text": [
      "epoch: 188 | ent loss 0.0240 | rel loss 0.0030 | total loss 0.0269\n",
      "           | val ent loss 0.0774 | val rel loss 0.0026\n"
     ]
    },
    {
     "name": "stderr",
     "output_type": "stream",
     "text": [
      "\r",
      " 94%|█████████▍| 189/200 [48:07<02:48, 15.28s/it]"
     ]
    },
    {
     "name": "stdout",
     "output_type": "stream",
     "text": [
      "epoch: 189 | ent loss 0.0371 | rel loss 0.0034 | total loss 0.0406\n",
      "           | val ent loss 0.0968 | val rel loss 0.0023\n"
     ]
    },
    {
     "name": "stderr",
     "output_type": "stream",
     "text": [
      "\r",
      " 95%|█████████▌| 190/200 [48:22<02:32, 15.28s/it]"
     ]
    },
    {
     "name": "stdout",
     "output_type": "stream",
     "text": [
      "epoch: 190 | ent loss 0.0178 | rel loss 0.0014 | total loss 0.0192\n",
      "           | val ent loss 0.0834 | val rel loss 0.0041\n"
     ]
    },
    {
     "name": "stderr",
     "output_type": "stream",
     "text": [
      "\r",
      " 96%|█████████▌| 191/200 [48:38<02:17, 15.28s/it]"
     ]
    },
    {
     "name": "stdout",
     "output_type": "stream",
     "text": [
      "epoch: 191 | ent loss 0.0669 | rel loss 0.0036 | total loss 0.0705\n",
      "           | val ent loss 0.1065 | val rel loss 0.0118\n"
     ]
    },
    {
     "name": "stderr",
     "output_type": "stream",
     "text": [
      "\r",
      " 96%|█████████▌| 192/200 [48:53<02:02, 15.28s/it]"
     ]
    },
    {
     "name": "stdout",
     "output_type": "stream",
     "text": [
      "epoch: 192 | ent loss 0.0040 | rel loss 0.0018 | total loss 0.0058\n",
      "           | val ent loss 0.0953 | val rel loss 0.0027\n"
     ]
    },
    {
     "name": "stderr",
     "output_type": "stream",
     "text": [
      "\r",
      " 96%|█████████▋| 193/200 [49:08<01:46, 15.28s/it]"
     ]
    },
    {
     "name": "stdout",
     "output_type": "stream",
     "text": [
      "epoch: 193 | ent loss 0.0018 | rel loss 0.0016 | total loss 0.0034\n",
      "           | val ent loss 0.0962 | val rel loss 0.0026\n"
     ]
    },
    {
     "name": "stderr",
     "output_type": "stream",
     "text": [
      "\r",
      " 97%|█████████▋| 194/200 [49:23<01:31, 15.28s/it]"
     ]
    },
    {
     "name": "stdout",
     "output_type": "stream",
     "text": [
      "epoch: 194 | ent loss 0.0029 | rel loss 0.0019 | total loss 0.0048\n",
      "           | val ent loss 0.1218 | val rel loss 0.0030\n"
     ]
    },
    {
     "name": "stderr",
     "output_type": "stream",
     "text": [
      "\r",
      " 98%|█████████▊| 195/200 [49:39<01:16, 15.28s/it]"
     ]
    },
    {
     "name": "stdout",
     "output_type": "stream",
     "text": [
      "epoch: 195 | ent loss 0.0022 | rel loss 0.0022 | total loss 0.0043\n",
      "           | val ent loss 0.1224 | val rel loss 0.0034\n"
     ]
    },
    {
     "name": "stderr",
     "output_type": "stream",
     "text": [
      "\r",
      " 98%|█████████▊| 196/200 [49:54<01:01, 15.28s/it]"
     ]
    },
    {
     "name": "stdout",
     "output_type": "stream",
     "text": [
      "epoch: 196 | ent loss 0.0036 | rel loss 0.0034 | total loss 0.0070\n",
      "           | val ent loss 0.1152 | val rel loss 0.0025\n"
     ]
    },
    {
     "name": "stderr",
     "output_type": "stream",
     "text": [
      "\r",
      " 98%|█████████▊| 197/200 [50:09<00:45, 15.28s/it]"
     ]
    },
    {
     "name": "stdout",
     "output_type": "stream",
     "text": [
      "epoch: 197 | ent loss 0.0053 | rel loss 0.0008 | total loss 0.0061\n",
      "           | val ent loss 0.1171 | val rel loss 0.0028\n"
     ]
    },
    {
     "name": "stderr",
     "output_type": "stream",
     "text": [
      "\r",
      " 99%|█████████▉| 198/200 [50:24<00:30, 15.28s/it]"
     ]
    },
    {
     "name": "stdout",
     "output_type": "stream",
     "text": [
      "epoch: 198 | ent loss 0.0267 | rel loss 0.0038 | total loss 0.0306\n",
      "           | val ent loss 0.1075 | val rel loss 0.0037\n"
     ]
    },
    {
     "name": "stderr",
     "output_type": "stream",
     "text": [
      "\r",
      "100%|█████████▉| 199/200 [50:39<00:15, 15.27s/it]"
     ]
    },
    {
     "name": "stdout",
     "output_type": "stream",
     "text": [
      "epoch: 199 | ent loss 0.0356 | rel loss 0.0035 | total loss 0.0392\n",
      "           | val ent loss 0.1199 | val rel loss 0.0028\n"
     ]
    },
    {
     "name": "stderr",
     "output_type": "stream",
     "text": [
      "\r",
      "100%|██████████| 200/200 [50:54<00:00, 15.27s/it]"
     ]
    },
    {
     "name": "stdout",
     "output_type": "stream",
     "text": [
      "epoch: 200 | ent loss 0.0017 | rel loss 0.0002 | total loss 0.0019\n",
      "           | val ent loss 0.1126 | val rel loss 0.0030\n"
     ]
    },
    {
     "name": "stderr",
     "output_type": "stream",
     "text": [
      "\n"
     ]
    },
    {
     "data": {
      "text/plain": [
       "JointERE(\n",
       "  (bn): BatchNorm1d(20, eps=1e-05, momentum=0.5, affine=False, track_running_stats=True)\n",
       "  (word_embeds): Embedding(1700, 32)\n",
       "  (bilstm): GRU(32, 10, num_layers=2, batch_first=True, dropout=0.2, bidirectional=True)\n",
       "  (top_hidden): LSTMCell(28, 16)\n",
       "  (hidden2tag): Linear(in_features=16, out_features=13, bias=True)\n",
       "  (softmax): LogSoftmax()\n",
       "  (label_embed): Linear(in_features=13, out_features=8, bias=False)\n",
       "  (attn): Attn(\n",
       "    (w1): Linear(in_features=24, out_features=8, bias=False)\n",
       "    (w2): Linear(in_features=24, out_features=8, bias=False)\n",
       "    (tanh): Tanh()\n",
       "    (v): Linear(in_features=8, out_features=5, bias=False)\n",
       "    (softmax): LogSoftmax()\n",
       "  )\n",
       ")"
      ]
     },
     "execution_count": 5,
     "metadata": {},
     "output_type": "execute_result"
    }
   ],
   "source": [
    "from models import JointERE\n",
    "\n",
    "\n",
    "param_list = [loader.vocab_size, EMBEDDING_DIM, HIDDEN_DIM1, HIDDEN_DIM2, LABEL_EMBED_DIM,\n",
    "             ATTN_OUT, schema]\n",
    "\n",
    "\n",
    "model = JointERE(*param_list).to(use_device)\n",
    "model.fit(loader, dev_loader, n_iter=n_iter)\n"
   ]
  },
  {
   "cell_type": "code",
   "execution_count": 6,
   "metadata": {},
   "outputs": [],
   "source": [
    "torch.save(model.state_dict(), 'relation_extraction_1_new.pth')\n",
    "# model.load_state_dict(torch.load('relation_extraction_1_new.pth'))"
   ]
  },
  {
   "cell_type": "code",
   "execution_count": 7,
   "metadata": {},
   "outputs": [
    {
     "name": "stdout",
     "output_type": "stream",
     "text": [
      "['質', '地', '略', '帶', '黏', '稠', ',', '但', '很', '好', '推', '開', ',', '所', '以', '反', '而', '一', '開', '始', '會', '有', '點', '擔', '心', '在', '冷', '冽', '的', '冬', '天', '會', '不', '夠', '滋', '潤', '保', '濕']\n",
      "['B-SENS', 'I-SENS', 'O', 'O', 'B-PERC', 'I-PERC', 'O', 'O', 'O', 'B-PERC', 'I-PERC', 'I-PERC', 'O', 'O', 'O', 'O', 'O', 'O', 'O', 'O', 'O', 'O', 'O', 'O', 'O', 'O', 'O', 'O', 'O', 'B-SEAS', 'I-SEAS', 'O', 'O', 'O', 'O', 'O', 'B-FUNC', 'I-FUNC']\n",
      "[['Feel-1-A', 'Feel-0-A'], ['Feel-1-A', 'Feel-0-A'], '', '', ['Feel-0-B'], ['Feel-0-B'], '', '', '', ['Feel-1-B'], ['Feel-1-B'], ['Feel-1-B'], '', '', '', '', '', '', '', '', '', '', '', '', '', '', '', '', '', [], [], '', '', '', '', '', [], []]\n",
      "\n",
      "Predict output\n",
      "['B-SENS', 'I-SENS', 'O', 'O', 'B-PERC', 'I-PERC', 'O', 'O', 'O', 'O', 'O', 'O', 'O', 'O', 'O', 'O', 'O', 'O', 'O', 'O', 'O', 'O', 'O', 'O', 'O', 'O', 'O', 'O', 'O', 'B-SEAS', 'I-SEAS', 'O', 'O', 'O', 'O', 'O', 'O', 'O']\n",
      "[['Feel-0-A'], ['Feel-0-A'], '', '', ['Feel-0-B'], ['Feel-0-B'], '', '', '', '', '', '', '', '', '', '', '', '', '', '', '', '', '', '', '', '', '', '', '', [], [], '', '', '', '', '', '', '']\n",
      "\n",
      "True\n",
      "[(0, 1, 2), (4, 5, 4), (9, 11, 4), (29, 30, 3), (36, 37, 1)]\n",
      "[((0, 1, 2), (4, 5, 4), 2), ((0, 1, 2), (9, 11, 4), 2)]\n",
      "predict\n",
      "[(0, 1, 2), (4, 5, 4), (29, 30, 3)]\n",
      "[((0, 1, 2), (4, 5, 4), 2)]\n",
      "=====================================\n",
      "['擦', '上', '後', ',', '肌', '膚', '馬', '上', '可', '以', '立', '即', '感', '受', '到', '很', '水', '潤', '、', '保', '濕', '的', '觸', '感', ';', '又', '有', '玫', '瑰', '果', '油', '、', '接', '骨', '木', '油', '給', '予', '肌', '膚', '滋', '潤', ',', '讓', '皮', '膚', '乾', '燥', '缺', '水', '的', '狀', '況', '可', '以', '改', '善']\n",
      "['O', 'O', 'O', 'O', 'O', 'O', 'O', 'O', 'O', 'O', 'O', 'O', 'O', 'O', 'O', 'O', 'B-PERC', 'I-PERC', 'O', 'B-FUNC', 'I-FUNC', 'O', 'B-SENS', 'I-SENS', 'O', 'O', 'O', 'O', 'O', 'O', 'O', 'O', 'O', 'O', 'O', 'O', 'O', 'O', 'O', 'O', 'O', 'O', 'O', 'O', 'B-STAT', 'I-STAT', 'I-STAT', 'I-STAT', 'O', 'O', 'O', 'O', 'O', 'O', 'O', 'O', 'O']\n",
      "['', '', '', '', '', '', '', '', '', '', '', '', '', '', '', '', ['Feel-0-B'], ['Feel-0-B'], '', ['ApplyTo-1-A'], ['ApplyTo-1-A'], '', ['Feel-0-A'], ['Feel-0-A'], '', '', '', '', '', '', '', '', '', '', '', '', '', '', '', '', '', '', '', '', ['ApplyTo-1-B'], ['ApplyTo-1-B'], ['ApplyTo-1-B'], ['ApplyTo-1-B'], '', '', '', '', '', '', '', '', '']\n",
      "\n",
      "Predict output\n",
      "['O', 'O', 'O', 'O', 'O', 'O', 'O', 'O', 'O', 'O', 'O', 'O', 'O', 'O', 'O', 'O', 'O', 'O', 'O', 'B-FUNC', 'I-FUNC', 'O', 'B-SENS', 'I-SENS', 'O', 'O', 'O', 'O', 'O', 'O', 'O', 'O', 'O', 'O', 'O', 'O', 'O', 'O', 'O', 'O', 'O', 'O', 'O', 'O', 'B-STAT', 'I-STAT', 'I-STAT', 'I-STAT', 'O', 'O', 'O', 'O', 'O', 'O', 'O', 'O', 'O']\n",
      "['', '', '', '', '', '', '', '', '', '', '', '', '', '', '', '', '', '', '', [], [], '', [], [], '', '', '', '', '', '', '', '', '', '', '', '', '', '', '', '', '', '', '', '', [], [], [], [], '', '', '', '', '', '', '', '', '']\n",
      "\n",
      "True\n",
      "[(16, 17, 4), (19, 20, 1), (22, 23, 2), (44, 47, 0)]\n",
      "[((16, 17, 4), (22, 23, 2), 2), ((19, 20, 1), (44, 47, 0), 0)]\n",
      "predict\n",
      "[(19, 20, 1), (22, 23, 2), (44, 47, 0)]\n",
      "[]\n",
      "=====================================\n",
      "['保', '濕', '商', '品', '一', '向', '是', '我', '最', '最', '注', '重', '的', '臉', '部', '保', '養', '商', '品', '之', '一', ',', '因', '為', '屬', '於', '極', '敏', '感', '性', '且', '偏', '乾', '的', '膚', '質', ',', '保', '濕', '是', '非', '常', '重', '要', '的', ',', '尤', '其', '是', '在', '冬', '天', ',', '加', '強', '保', '濕', '更', '是', '重', '要', '的', '一', '環']\n",
      "['O', 'O', 'O', 'O', 'O', 'O', 'O', 'O', 'O', 'O', 'O', 'O', 'O', 'O', 'O', 'O', 'O', 'O', 'O', 'O', 'O', 'O', 'O', 'O', 'O', 'O', 'O', 'O', 'O', 'O', 'O', 'O', 'O', 'O', 'O', 'O', 'O', 'O', 'O', 'O', 'O', 'O', 'O', 'O', 'O', 'O', 'O', 'O', 'O', 'O', 'B-SEAS', 'I-SEAS', 'O', 'O', 'O', 'O', 'O', 'O', 'O', 'O', 'O', 'O', 'O', 'O']\n",
      "['', '', '', '', '', '', '', '', '', '', '', '', '', '', '', '', '', '', '', '', '', '', '', '', '', '', '', '', '', '', '', '', '', '', '', '', '', '', '', '', '', '', '', '', '', '', '', '', '', '', [], [], '', '', '', '', '', '', '', '', '', '', '', '']\n",
      "\n",
      "Predict output\n",
      "['B-FUNC', 'I-FUNC', 'O', 'O', 'O', 'O', 'O', 'O', 'O', 'O', 'O', 'O', 'O', 'O', 'O', 'O', 'O', 'O', 'O', 'O', 'O', 'O', 'O', 'O', 'O', 'O', 'O', 'O', 'O', 'O', 'O', 'O', 'O', 'O', 'O', 'O', 'O', 'O', 'O', 'O', 'O', 'O', 'O', 'O', 'O', 'O', 'O', 'O', 'O', 'O', 'B-SEAS', 'I-SEAS', 'O', 'O', 'O', 'O', 'O', 'O', 'O', 'O', 'O', 'O', 'O', 'O']\n",
      "[[], [], '', '', '', '', '', '', '', '', '', '', '', '', '', '', '', '', '', '', '', '', '', '', '', '', '', '', '', '', '', '', '', '', '', '', '', '', '', '', '', '', '', '', '', '', '', '', '', '', [], [], '', '', '', '', '', '', '', '', '', '', '', '']\n",
      "\n",
      "True\n",
      "[(50, 51, 3)]\n",
      "[]\n",
      "predict\n",
      "[(0, 1, 1), (50, 51, 3)]\n",
      "[]\n",
      "=====================================\n",
      "['保', '濕', '效', '果', '還', '不', '錯', ',', '但', '無', '法', '持', '續', '很', '久', ',', '現', '在', '秋', '天', '使', '用', '還', '可', '以', '持', '續', '到', '隔', '天', '早', '上', ',', '等', '到', '冬', '天', '我', '的', '皮', '膚', '比', '較', '乾', '燥', '時', '就', '會', '稍', '嫌', '不', '足', '了', '吧']\n",
      "['B-FUNC', 'I-FUNC', 'O', 'O', 'O', 'O', 'O', 'O', 'O', 'O', 'O', 'O', 'O', 'O', 'O', 'O', 'O', 'O', 'B-SEAS', 'I-SEAS', 'O', 'O', 'O', 'O', 'O', 'O', 'O', 'O', 'O', 'O', 'O', 'O', 'O', 'O', 'O', 'B-SEAS', 'I-SEAS', 'O', 'O', 'O', 'O', 'O', 'O', 'O', 'O', 'O', 'O', 'O', 'O', 'O', 'O', 'O', 'O', 'O']\n",
      "[['ApplyIn-0-A'], ['ApplyIn-0-A'], '', '', '', '', '', '', '', '', '', '', '', '', '', '', '', '', ['ApplyIn-0-B'], ['ApplyIn-0-B'], '', '', '', '', '', '', '', '', '', '', '', '', '', '', '', [], [], '', '', '', '', '', '', '', '', '', '', '', '', '', '', '', '', '']\n",
      "\n",
      "Predict output\n",
      "['B-FUNC', 'I-FUNC', 'O', 'O', 'O', 'O', 'O', 'O', 'O', 'O', 'O', 'O', 'O', 'O', 'O', 'O', 'O', 'O', 'B-SEAS', 'I-SEAS', 'O', 'O', 'O', 'O', 'O', 'O', 'O', 'O', 'O', 'O', 'O', 'O', 'O', 'O', 'O', 'B-SEAS', 'I-SEAS', 'O', 'O', 'O', 'O', 'O', 'O', 'O', 'O', 'O', 'O', 'O', 'O', 'O', 'O', 'O', 'O', 'O']\n",
      "[['ApplyIn-1-A', 'ApplyIn-0-A'], ['ApplyIn-1-A', 'ApplyIn-0-A'], '', '', '', '', '', '', '', '', '', '', '', '', '', '', '', '', ['ApplyIn-0-B'], ['ApplyIn-0-B'], '', '', '', '', '', '', '', '', '', '', '', '', '', '', '', ['ApplyIn-1-B'], ['ApplyIn-1-B'], '', '', '', '', '', '', '', '', '', '', '', '', '', '', '', '', '']\n",
      "\n",
      "True\n",
      "[(0, 1, 1), (18, 19, 3), (35, 36, 3)]\n",
      "[((0, 1, 1), (18, 19, 3), 1)]\n",
      "predict\n",
      "[(0, 1, 1), (18, 19, 3), (35, 36, 3)]\n",
      "[((0, 1, 1), (18, 19, 3), 1), ((0, 1, 1), (35, 36, 3), 1)]\n",
      "=====================================\n",
      "['經', '過', '一', '段', '時', '間', '的', '使', '用', '下', '來', ',', '覺', '得', '這', '款', '凍', '膜', '基', '本', '的', '保', '濕', '效', '果', '還', '可', '以', ',', '對', '於', '敏', '感', '肌', '膚', '也', '不', '刺', '激']\n",
      "['O', 'O', 'O', 'O', 'O', 'O', 'O', 'O', 'O', 'O', 'O', 'O', 'O', 'O', 'O', 'O', 'O', 'O', 'O', 'O', 'O', 'B-FUNC', 'I-FUNC', 'O', 'O', 'O', 'O', 'O', 'O', 'O', 'O', 'B-STAT', 'I-STAT', 'I-STAT', 'I-STAT', 'O', 'O', 'O', 'O']\n",
      "['', '', '', '', '', '', '', '', '', '', '', '', '', '', '', '', '', '', '', '', '', ['ApplyTo-0-A'], ['ApplyTo-0-A'], '', '', '', '', '', '', '', '', ['ApplyTo-0-B'], ['ApplyTo-0-B'], ['ApplyTo-0-B'], ['ApplyTo-0-B'], '', '', '', '']\n",
      "\n",
      "Predict output\n",
      "['O', 'O', 'O', 'O', 'O', 'O', 'O', 'O', 'O', 'O', 'O', 'O', 'O', 'O', 'O', 'O', 'O', 'O', 'O', 'O', 'O', 'B-FUNC', 'I-FUNC', 'O', 'O', 'O', 'O', 'O', 'O', 'O', 'O', 'B-STAT', 'I-STAT', 'I-STAT', 'I-STAT', 'O', 'O', 'O', 'O']\n",
      "['', '', '', '', '', '', '', '', '', '', '', '', '', '', '', '', '', '', '', '', '', [], [], '', '', '', '', '', '', '', '', [], [], [], [], '', '', '', '']\n",
      "\n",
      "True\n",
      "[(21, 22, 1), (31, 34, 0)]\n",
      "[((21, 22, 1), (31, 34, 0), 0)]\n",
      "predict\n",
      "[(21, 22, 1), (31, 34, 0)]\n",
      "[]\n",
      "=====================================\n",
      "['淡', '的', '香', '味', '…', '.', '.']\n",
      "['B-PERC', 'O', 'B-SENS', 'I-SENS', 'O', 'O', 'O']\n",
      "[['Feel-0-B'], '', ['Feel-0-A'], ['Feel-0-A'], '', '', '']\n",
      "\n",
      "Predict output\n",
      "['O', 'O', 'B-SENS', 'I-SENS', 'O', 'O', 'O']\n",
      "['', '', [], [], '', '', '']\n",
      "\n",
      "True\n",
      "[(0, 0, 4), (2, 3, 2)]\n",
      "[((0, 0, 4), (2, 3, 2), 2)]\n",
      "predict\n",
      "[(2, 3, 2)]\n",
      "[]\n",
      "=====================================\n",
      "['化', '妝', '水', '的', '質', '地', '擠', '出', '來', '就', '跟', '在', '瓶', '外', '看', '到', '的', '一', '樣', '.', '無', '色', '無', '味', '.', '是', '呈', '水', '狀', '液', '態']\n",
      "['O', 'O', 'O', 'O', 'B-SENS', 'I-SENS', 'O', 'O', 'O', 'O', 'O', 'O', 'O', 'O', 'O', 'O', 'O', 'O', 'O', 'O', 'O', 'O', 'O', 'O', 'O', 'O', 'O', 'B-PERC', 'I-PERC', 'O', 'O']\n",
      "['', '', '', '', ['Feel-0-A'], ['Feel-0-A'], '', '', '', '', '', '', '', '', '', '', '', '', '', '', '', '', '', '', '', '', '', ['Feel-0-B'], ['Feel-0-B'], '', '']\n",
      "\n",
      "Predict output\n",
      "['O', 'O', 'O', 'O', 'B-SENS', 'I-SENS', 'O', 'O', 'O', 'O', 'O', 'O', 'O', 'O', 'O', 'O', 'O', 'O', 'O', 'O', 'O', 'O', 'B-SENS', 'I-SENS', 'O', 'O', 'O', 'B-PERC', 'I-PERC', 'O', 'O']\n",
      "['', '', '', '', ['Feel-0-A'], ['Feel-0-A'], '', '', '', '', '', '', '', '', '', '', '', '', '', '', '', '', [], [], '', '', '', '', '', '', '']\n",
      "\n",
      "True\n",
      "[(4, 5, 2), (27, 28, 4)]\n",
      "[((4, 5, 2), (27, 28, 4), 2)]\n",
      "predict\n",
      "[(4, 5, 2), (22, 23, 2), (27, 28, 4)]\n",
      "[]\n",
      "=====================================\n",
      "['到', '出', '來', '的', '質', '地', '的', '確', '非', '常', '水', '潤', ',', '完', '全', '不', '油', '膩']\n",
      "['O', 'O', 'O', 'O', 'B-SENS', 'I-SENS', 'O', 'O', 'O', 'O', 'B-PERC', 'I-PERC', 'O', 'O', 'O', 'O', 'O', 'O']\n",
      "['', '', '', '', ['Feel-0-A'], ['Feel-0-A'], '', '', '', '', ['Feel-0-B'], ['Feel-0-B'], '', '', '', '', '', '']\n",
      "\n",
      "Predict output\n",
      "['O', 'O', 'O', 'O', 'B-SENS', 'I-SENS', 'O', 'O', 'O', 'O', 'B-PERC', 'I-PERC', 'O', 'O', 'O', 'O', 'O', 'O']\n",
      "['', '', '', '', ['Feel-0-A'], ['Feel-0-A'], '', '', '', '', ['Feel-0-B'], ['Feel-0-B'], '', '', '', '', '', '']\n",
      "\n",
      "True\n",
      "[(4, 5, 2), (10, 11, 4)]\n",
      "[((4, 5, 2), (10, 11, 4), 2)]\n",
      "predict\n",
      "[(4, 5, 2), (10, 11, 4)]\n",
      "[((4, 5, 2), (10, 11, 4), 2)]\n",
      "=====================================\n"
     ]
    },
    {
     "name": "stdout",
     "output_type": "stream",
     "text": [
      "['只', '是', '如', '果', '本', '身', '皮', '膚', '比', '較', '乾', '的', '時', '候', '會', '有', '白', '白', '的', '粉', '卡', '在', '肌', '膚', '乾', '燥', '紋', '路', '裡', ',', '不', '美', '觀', ',', '所', '以', '要', '先', '做', '好', '基', '本', '保', '濕']\n",
      "['O', 'O', 'O', 'O', 'O', 'O', 'O', 'O', 'O', 'O', 'O', 'O', 'O', 'O', 'O', 'O', 'O', 'O', 'O', 'O', 'O', 'O', 'B-STAT', 'I-STAT', 'I-STAT', 'I-STAT', 'O', 'O', 'O', 'O', 'O', 'O', 'O', 'O', 'O', 'O', 'O', 'O', 'O', 'O', 'O', 'O', 'O', 'O']\n",
      "['', '', '', '', '', '', '', '', '', '', '', '', '', '', '', '', '', '', '', '', '', '', [], [], [], [], '', '', '', '', '', '', '', '', '', '', '', '', '', '', '', '', '', '']\n",
      "\n",
      "Predict output\n",
      "['O', 'O', 'O', 'O', 'O', 'O', 'O', 'O', 'O', 'O', 'O', 'O', 'O', 'O', 'O', 'O', 'O', 'O', 'O', 'O', 'O', 'O', 'B-STAT', 'I-STAT', 'I-STAT', 'I-STAT', 'O', 'O', 'O', 'O', 'O', 'O', 'O', 'O', 'O', 'O', 'O', 'O', 'O', 'O', 'O', 'O', 'O', 'O']\n",
      "['', '', '', '', '', '', '', '', '', '', '', '', '', '', '', '', '', '', '', '', '', '', [], [], [], [], '', '', '', '', '', '', '', '', '', '', '', '', '', '', '', '', '', '']\n",
      "\n",
      "True\n",
      "[(22, 25, 0)]\n",
      "[]\n",
      "predict\n",
      "[(22, 25, 0)]\n",
      "[]\n",
      "=====================================\n",
      "['屬', '於', '水', '狀', '液', '體', ',', '有', '種', '香', '香', '的', '氣', '味', ',', '很', '好', '聞', '不', '會', '剌', '鼻', '濃']\n",
      "['O', 'O', 'O', 'O', 'O', 'O', 'O', 'O', 'O', 'O', 'O', 'O', 'B-SENS', 'I-SENS', 'O', 'O', 'B-PERC', 'I-PERC', 'O', 'O', 'O', 'O', 'B-PERC']\n",
      "['', '', '', '', '', '', '', '', '', '', '', '', ['Feel-0-A'], ['Feel-0-A'], '', '', ['Feel-0-B'], ['Feel-0-B'], '', '', '', '', []]\n",
      "\n",
      "Predict output\n",
      "['O', 'O', 'B-PERC', 'I-PERC', 'O', 'O', 'O', 'O', 'O', 'B-PERC', 'I-PERC', 'O', 'B-SENS', 'I-SENS', 'O', 'O', 'B-PERC', 'I-PERC', 'O', 'O', 'O', 'O', 'B-PERC']\n",
      "['', '', ['Feel-0-B'], ['Feel-0-B'], '', '', '', '', '', [], [], '', ['Feel-1-A', 'Feel-2-A'], ['Feel-1-A', 'Feel-2-A'], '', '', ['Feel-1-B'], [], '', '', '', '', ['Feel-2-B']]\n",
      "\n",
      "True\n",
      "[(12, 13, 2), (16, 17, 4), (22, 22, 4)]\n",
      "[((12, 13, 2), (16, 17, 4), 2)]\n",
      "predict\n",
      "[(2, 3, 4), (9, 10, 4), (12, 13, 2), (16, 17, 4), (22, 22, 4)]\n",
      "[((12, 13, 2), (22, 22, 4), 2)]\n",
      "=====================================\n",
      "['他', '不', '像', '一', '般', '化', '妝', '水', '是', '稀', '稀', '的', '水', '狀', ',', '而', '是', '比', '較', '濃', '稠', '的', '水', '狀', ',', '像', '精', '華', '液', '的', '質', '地']\n",
      "['O', 'O', 'O', 'O', 'O', 'O', 'O', 'O', 'O', 'O', 'O', 'O', 'B-PERC', 'I-PERC', 'O', 'O', 'O', 'O', 'O', 'B-PERC', 'I-PERC', 'O', 'B-PERC', 'I-PERC', 'O', 'O', 'O', 'O', 'O', 'O', 'B-SENS', 'I-SENS']\n",
      "['', '', '', '', '', '', '', '', '', '', '', '', [], [], '', '', '', '', '', ['Feel-0-B'], ['Feel-0-B'], '', [], [], '', '', '', '', '', '', '', '']\n",
      "\n",
      "Predict output\n",
      "['O', 'O', 'O', 'O', 'O', 'O', 'O', 'O', 'O', 'O', 'O', 'O', 'B-PERC', 'I-PERC', 'O', 'O', 'O', 'O', 'O', 'B-PERC', 'I-PERC', 'O', 'B-PERC', 'I-PERC', 'O', 'O', 'O', 'O', 'O', 'O', 'B-SENS', 'I-SENS']\n",
      "['', '', '', '', '', '', '', '', '', '', '', '', ['Feel-0-B'], ['Feel-0-B'], '', '', '', '', '', [], [], '', [], [], '', '', '', '', '', '', '', '']\n",
      "\n",
      "True\n",
      "[(12, 13, 4), (19, 20, 4), (22, 23, 4), (30, 31, 2)]\n",
      "[]\n",
      "predict\n",
      "[(12, 13, 4), (19, 20, 4), (22, 23, 4), (30, 31, 2)]\n",
      "[]\n",
      "=====================================\n",
      "['用', '了', '本', '產', '品', '臉', '上', '的', '保', '濕', '度', '很', '夠', ',', '不', '會', '有', '乾', '燥', '緊', '繃', '的', '感', '覺', ',', '而', '我', '本', '身', '是', '油', '性', '肌', '膚', ',', '用', '了', '它', '不', '會', '覺', '得', '油', ',', '反', '而', '有', '乾', '爽', '的', '感', '覺', ',', '也', '因', '為', '不', '含', '酒', '精', '成', '酸', '類', '成', '分', ',', '所', '以', '就', '算', '臉', '上', '有', '小', '傷', '口', ',', '也', '不', '會', '有', '刺', '激', '感', ',', '很', '讚']\n",
      "['O', 'O', 'O', 'O', 'O', 'O', 'O', 'O', 'B-FUNC', 'I-FUNC', 'I-FUNC', 'O', 'O', 'O', 'O', 'O', 'O', 'O', 'O', 'O', 'O', 'O', 'O', 'O', 'O', 'O', 'O', 'O', 'O', 'O', 'B-STAT', 'I-STAT', 'I-STAT', 'I-STAT', 'O', 'O', 'O', 'O', 'O', 'O', 'O', 'O', 'O', 'O', 'O', 'O', 'O', 'O', 'O', 'O', 'O', 'O', 'O', 'O', 'O', 'O', 'O', 'O', 'O', 'O', 'O', 'O', 'O', 'O', 'O', 'O', 'O', 'O', 'O', 'O', 'O', 'O', 'O', 'O', 'O', 'O', 'O', 'O', 'O', 'O', 'O', 'O', 'O', 'O', 'O', 'O', 'O']\n",
      "['', '', '', '', '', '', '', '', ['ApplyTo-0-A'], ['ApplyTo-0-A'], ['ApplyTo-0-A'], '', '', '', '', '', '', '', '', '', '', '', '', '', '', '', '', '', '', '', ['ApplyTo-0-B'], ['ApplyTo-0-B'], ['ApplyTo-0-B'], ['ApplyTo-0-B'], '', '', '', '', '', '', '', '', '', '', '', '', '', '', '', '', '', '', '', '', '', '', '', '', '', '', '', '', '', '', '', '', '', '', '', '', '', '', '', '', '', '', '', '', '', '', '', '', '', '', '', '', '']\n",
      "\n",
      "Predict output\n",
      "['O', 'O', 'O', 'O', 'O', 'O', 'O', 'O', 'B-FUNC', 'I-FUNC', 'I-FUNC', 'O', 'O', 'O', 'O', 'O', 'O', 'O', 'O', 'O', 'O', 'O', 'O', 'O', 'O', 'O', 'O', 'O', 'O', 'O', 'B-STAT', 'I-STAT', 'I-STAT', 'I-STAT', 'O', 'O', 'O', 'O', 'O', 'O', 'O', 'O', 'O', 'O', 'O', 'O', 'O', 'O', 'O', 'O', 'O', 'O', 'O', 'O', 'O', 'O', 'O', 'O', 'O', 'O', 'O', 'O', 'O', 'O', 'O', 'O', 'O', 'O', 'O', 'O', 'O', 'O', 'O', 'O', 'O', 'O', 'O', 'O', 'O', 'O', 'O', 'O', 'O', 'O', 'O', 'O', 'O']\n",
      "['', '', '', '', '', '', '', '', [], [], [], '', '', '', '', '', '', '', '', '', '', '', '', '', '', '', '', '', '', '', [], [], [], [], '', '', '', '', '', '', '', '', '', '', '', '', '', '', '', '', '', '', '', '', '', '', '', '', '', '', '', '', '', '', '', '', '', '', '', '', '', '', '', '', '', '', '', '', '', '', '', '', '', '', '', '', '']\n",
      "\n",
      "True\n",
      "[(8, 10, 1), (30, 33, 0)]\n",
      "[((8, 10, 1), (30, 33, 0), 0)]\n",
      "predict\n",
      "[(8, 10, 1), (30, 33, 0)]\n",
      "[]\n",
      "=====================================\n",
      "['保', '濕', '功', '能', '對', '於', '我', '這', '種', '冬', '天', '擦', '保', '濕', '乳', '霜', ',', '但', '是', '夏', '天', '卻', '屬', '於', '會', '出', '油', '的', '膚', '質', '而', '言', ',', '在', '寒', '流', '來', '的', '乾', '燥', '冬', '天', '是', '相', '當', '足', '夠', '的']\n",
      "['B-FUNC', 'I-FUNC', 'O', 'O', 'O', 'O', 'O', 'O', 'O', 'B-SEAS', 'I-SEAS', 'O', 'O', 'O', 'O', 'O', 'O', 'O', 'O', 'B-SEAS', 'I-SEAS', 'O', 'O', 'O', 'O', 'B-STAT', 'I-STAT', 'I-STAT', 'I-STAT', 'I-STAT', 'O', 'O', 'O', 'O', 'O', 'O', 'O', 'O', 'O', 'O', 'B-SEAS', 'I-SEAS', 'O', 'O', 'O', 'O', 'O', 'O']\n",
      "[['ApplyIn-1-A', 'ApplyIn-0-A'], ['ApplyIn-1-A', 'ApplyIn-0-A'], '', '', '', '', '', '', '', ['ApplyIn-0-B'], ['ApplyIn-0-B'], '', '', '', '', '', '', '', '', [], [], '', '', '', '', [], [], [], [], [], '', '', '', '', '', '', '', '', '', '', ['ApplyIn-1-B'], ['ApplyIn-1-B'], '', '', '', '', '', '']\n",
      "\n",
      "Predict output\n",
      "['B-FUNC', 'I-FUNC', 'O', 'O', 'O', 'O', 'O', 'O', 'O', 'B-SEAS', 'I-SEAS', 'O', 'O', 'O', 'O', 'O', 'O', 'O', 'O', 'B-SEAS', 'I-SEAS', 'O', 'O', 'O', 'O', 'O', 'O', 'O', 'O', 'O', 'O', 'O', 'O', 'O', 'O', 'O', 'O', 'O', 'O', 'O', 'B-SEAS', 'I-SEAS', 'O', 'O', 'O', 'O', 'O', 'O']\n",
      "[['ApplyIn-0-A'], ['ApplyIn-0-A'], '', '', '', '', '', '', '', ['ApplyIn-0-B'], [], '', '', '', '', '', '', '', '', [], [], '', '', '', '', '', '', '', '', '', '', '', '', '', '', '', '', '', '', '', [], [], '', '', '', '', '', '']\n",
      "\n",
      "True\n",
      "[(0, 1, 1), (9, 10, 3), (19, 20, 3), (25, 29, 0), (40, 41, 3)]\n",
      "[((0, 1, 1), (9, 10, 3), 1), ((0, 1, 1), (40, 41, 3), 1)]\n",
      "predict\n",
      "[(0, 1, 1), (9, 10, 3), (19, 20, 3), (40, 41, 3)]\n",
      "[]\n",
      "=====================================\n",
      "['待', '在', '冷', '氣', '房', '的', 'O', 'L', '都', '知', '道', '即', '使', '夏', '天', '油', '水', '更', '不', '平', '衡', '所', '以', '臉', '部', '的', '乾', '感', '會', '更', '明', '顯', ',', '油', '感', '也', '會', '更', '凸', '顯', ',', '用', '了', '這', 'S', 'U', 'R', 'P', 'U', 'R', '後', '混', '和', '肌', '的', 'T', '字', '油', '感', '與', '雙', '頰', '乾', '感', '舒', '緩', '很', '多', ',', '滿', '威', '的']\n",
      "['O', 'O', 'O', 'O', 'O', 'O', 'O', 'O', 'O', 'O', 'O', 'O', 'O', 'B-SEAS', 'I-SEAS', 'O', 'O', 'O', 'O', 'O', 'O', 'O', 'O', 'O', 'O', 'O', 'O', 'O', 'O', 'O', 'O', 'O', 'O', 'O', 'O', 'O', 'O', 'O', 'O', 'O', 'O', 'O', 'O', 'O', 'O', 'O', 'O', 'O', 'O', 'O', 'O', 'O', 'O', 'O', 'O', 'O', 'O', 'O', 'O', 'O', 'O', 'O', 'O', 'O', 'B-FUNC', 'I-FUNC', 'O', 'O', 'O', 'O', 'O', 'O']\n",
      "['', '', '', '', '', '', '', '', '', '', '', '', '', ['ApplyIn-0-B'], ['ApplyIn-0-B'], '', '', '', '', '', '', '', '', '', '', '', '', '', '', '', '', '', '', '', '', '', '', '', '', '', '', '', '', '', '', '', '', '', '', '', '', '', '', '', '', '', '', '', '', '', '', '', '', '', ['ApplyIn-0-A'], ['ApplyIn-0-A'], '', '', '', '', '', '']\n",
      "\n",
      "Predict output\n",
      "['O', 'O', 'O', 'O', 'O', 'O', 'O', 'O', 'O', 'O', 'O', 'O', 'O', 'B-SEAS', 'I-SEAS', 'O', 'O', 'O', 'O', 'O', 'O', 'O', 'O', 'O', 'O', 'O', 'O', 'O', 'O', 'O', 'O', 'O', 'O', 'O', 'O', 'O', 'O', 'O', 'O', 'O', 'O', 'O', 'O', 'O', 'O', 'O', 'O', 'O', 'O', 'O', 'O', 'O', 'O', 'O', 'O', 'O', 'O', 'O', 'O', 'O', 'O', 'O', 'O', 'O', 'B-FUNC', 'I-FUNC', 'O', 'O', 'O', 'O', 'O', 'O']\n",
      "['', '', '', '', '', '', '', '', '', '', '', '', '', [], [], '', '', '', '', '', '', '', '', '', '', '', '', '', '', '', '', '', '', '', '', '', '', '', '', '', '', '', '', '', '', '', '', '', '', '', '', '', '', '', '', '', '', '', '', '', '', '', '', '', [], [], '', '', '', '', '', '']\n",
      "\n",
      "True\n",
      "[(13, 14, 3), (64, 65, 1)]\n",
      "[((13, 14, 3), (64, 65, 1), 1)]\n",
      "predict\n",
      "[(13, 14, 3), (64, 65, 1)]\n",
      "[]\n",
      "=====================================\n"
     ]
    },
    {
     "name": "stdout",
     "output_type": "stream",
     "text": [
      "['瓶', '身', '與', '壓', '頭', '大', '小', '剛', '好', '合', '適', '一', '手', '拿', '握', '.', '好', '拿', '好', '握', '且', '方', '便', '食', '指', '按', '壓', '壓', '頭', '.', '按', '壓', '適', '量', '於', '手', '心', '.', '質', '地', '是', '透', '明', '無', '色', '具', '流', '動', '性', '的', '輕', '油', '水', '狀', '.', '帶', '有', '淡', '淡', '的', '清', '心', '花', '香', '味', '道', '.', '香', '味', '清', '新', '淡', '雅', '.', '令', '人', '有', '舒', '緩', '放', '鬆', '的', '感', '覺', '.']\n",
      "['O', 'O', 'O', 'O', 'O', 'O', 'O', 'O', 'O', 'O', 'O', 'O', 'O', 'O', 'O', 'O', 'O', 'O', 'O', 'O', 'O', 'O', 'O', 'O', 'O', 'O', 'O', 'O', 'O', 'O', 'O', 'O', 'O', 'O', 'O', 'O', 'O', 'O', 'B-SENS', 'I-SENS', 'O', 'O', 'O', 'O', 'O', 'O', 'O', 'O', 'O', 'O', 'O', 'O', 'B-PERC', 'I-PERC', 'O', 'O', 'O', 'O', 'O', 'O', 'O', 'O', 'O', 'O', 'B-SENS', 'I-SENS', 'O', 'B-SENS', 'I-SENS', 'B-PERC', 'I-PERC', 'B-PERC', 'I-PERC', 'O', 'O', 'O', 'O', 'O', 'O', 'O', 'O', 'O', 'O', 'O', 'O']\n",
      "['', '', '', '', '', '', '', '', '', '', '', '', '', '', '', '', '', '', '', '', '', '', '', '', '', '', '', '', '', '', '', '', '', '', '', '', '', '', ['Feel-0-A'], ['Feel-0-A'], '', '', '', '', '', '', '', '', '', '', '', '', ['Feel-0-B'], ['Feel-0-B'], '', '', '', '', '', '', '', '', '', '', ['Feel-1-A', 'Feel-2-A'], ['Feel-1-A', 'Feel-2-A'], '', [], [], [], [], [], [], '', '', '', '', '', '', '', '', '', '', '', '']\n",
      "\n",
      "Predict output\n",
      "['O', 'O', 'O', 'O', 'O', 'O', 'O', 'O', 'O', 'O', 'O', 'O', 'O', 'O', 'O', 'O', 'O', 'O', 'O', 'O', 'O', 'O', 'O', 'O', 'O', 'O', 'O', 'O', 'O', 'O', 'O', 'O', 'O', 'O', 'O', 'O', 'O', 'O', 'B-SENS', 'I-SENS', 'O', 'O', 'O', 'O', 'O', 'O', 'O', 'O', 'O', 'O', 'O', 'O', 'B-PERC', 'I-PERC', 'O', 'O', 'O', 'O', 'O', 'O', 'O', 'O', 'O', 'O', 'B-SENS', 'I-SENS', 'O', 'B-SENS', 'I-SENS', 'B-PERC', 'I-PERC', 'B-PERC', 'I-PERC', 'O', 'O', 'O', 'O', 'B-FUNC', 'I-FUNC', 'O', 'O', 'O', 'O', 'O', 'O']\n",
      "['', '', '', '', '', '', '', '', '', '', '', '', '', '', '', '', '', '', '', '', '', '', '', '', '', '', '', '', '', '', '', '', '', '', '', '', '', '', ['Feel-0-A', 'Feel-3-A', 'Feel-4-A'], ['Feel-0-A', 'Feel-3-A', 'Feel-4-A'], '', '', '', '', '', '', '', '', '', '', '', '', ['Feel-2-B', 'Feel-0-B', 'Feel-1-B'], ['Feel-2-B', 'Feel-0-B', 'Feel-1-B'], '', '', '', '', '', '', '', '', '', '', ['Feel-1-A'], ['Feel-1-A'], '', ['Feel-2-A'], ['Feel-2-A'], ['Feel-2-A'], ['Feel-2-A'], ['Feel-2-A'], ['Feel-2-A'], '', '', '', '', [], [], '', '', '', '', '', '']\n",
      "\n",
      "True\n",
      "[(38, 39, 2), (52, 53, 4), (64, 65, 2), (67, 68, 2), (69, 70, 4), (71, 72, 4)]\n",
      "[((38, 39, 2), (52, 53, 4), 2)]\n",
      "predict\n",
      "[(38, 39, 2), (52, 53, 4), (64, 65, 2), (67, 68, 2), (69, 70, 4), (71, 72, 4), (77, 78, 1)]\n",
      "[((38, 39, 2), (52, 53, 4), 2), ((52, 53, 4), (64, 65, 2), 2), ((52, 53, 4), (67, 68, 2), 2), ((67, 68, 2), (69, 70, 4), 2), ((67, 68, 2), (71, 72, 4), 2)]\n",
      "=====================================\n",
      "['質', '地', '是', '偏', '稀', '式', '的', '白', '色', '乳', '液', '狀']\n",
      "['B-SENS', 'I-SENS', 'O', 'O', 'O', 'O', 'O', 'O', 'O', 'B-PERC', 'I-PERC', 'I-PERC']\n",
      "[['Feel-0-A'], ['Feel-0-A'], '', '', '', '', '', '', '', ['Feel-0-B'], ['Feel-0-B'], ['Feel-0-B']]\n",
      "\n",
      "Predict output\n",
      "['B-SENS', 'I-SENS', 'O', 'O', 'O', 'O', 'O', 'O', 'O', 'B-PERC', 'I-PERC', 'I-PERC']\n",
      "[['Feel-0-A'], ['Feel-0-A'], '', '', '', '', '', '', '', ['Feel-0-B'], ['Feel-0-B'], ['Feel-0-B']]\n",
      "\n",
      "True\n",
      "[(0, 1, 2), (9, 11, 4)]\n",
      "[((0, 1, 2), (9, 11, 4), 2)]\n",
      "predict\n",
      "[(0, 1, 2), (9, 11, 4)]\n",
      "[((0, 1, 2), (9, 11, 4), 2)]\n",
      "=====================================\n",
      "['再', '加', '上', '它', '的', '保', '濕', '效', '果', '很', '讓', '我', '滿', '意', ',', '我', '是', '乾', '性', '肌', '膚', ',', '用', '起', '來', '蠻', '夠', '保', '濕', '的', ',']\n",
      "['O', 'O', 'O', 'O', 'O', 'B-FUNC', 'I-FUNC', 'O', 'O', 'O', 'O', 'O', 'O', 'O', 'O', 'O', 'O', 'B-STAT', 'I-STAT', 'I-STAT', 'I-STAT', 'O', 'O', 'O', 'O', 'O', 'O', 'B-FUNC', 'I-FUNC', 'O', 'O']\n",
      "['', '', '', '', '', ['ApplyTo-0-A'], ['ApplyTo-0-A'], '', '', '', '', '', '', '', '', '', '', ['ApplyTo-1-B', 'ApplyTo-0-B'], ['ApplyTo-1-B', 'ApplyTo-0-B'], ['ApplyTo-1-B', 'ApplyTo-0-B'], ['ApplyTo-1-B', 'ApplyTo-0-B'], '', '', '', '', '', '', ['ApplyTo-1-A'], ['ApplyTo-1-A'], '', '']\n",
      "\n",
      "Predict output\n",
      "['O', 'O', 'O', 'O', 'O', 'B-FUNC', 'I-FUNC', 'O', 'O', 'O', 'O', 'O', 'O', 'O', 'O', 'O', 'O', 'B-STAT', 'I-STAT', 'I-STAT', 'I-STAT', 'O', 'O', 'O', 'O', 'O', 'O', 'B-FUNC', 'I-FUNC', 'O', 'O']\n",
      "['', '', '', '', '', [], [], '', '', '', '', '', '', '', '', '', '', [], [], [], [], '', '', '', '', '', '', [], [], '', '']\n",
      "\n",
      "True\n",
      "[(5, 6, 1), (17, 20, 0), (27, 28, 1)]\n",
      "[((5, 6, 1), (17, 20, 0), 0), ((17, 20, 0), (27, 28, 1), 0)]\n",
      "predict\n",
      "[(5, 6, 1), (17, 20, 0), (27, 28, 1)]\n",
      "[]\n",
      "=====================================\n",
      "['整', '個', '使', '用', '起', '來', '的', '效', '果', '很', '不', '錯', ',', '質', '地', '很', '細', '緻', ',', '很', '服', '貼', ',', '很', '好', '刷', '勻', ',', '只', '是', '到', '了', '晚', '上', '會', '覺', '得', '有', '點', '小', '脫', '妝', '而', '已', ',', '顯', '色', '度', '很', '好', ',', '很', '容', '易', '上', '色', ',', '使', '用', '後', '整', '個', '臉', '頰', '看', '起', '來', '粉', '嫩', '透', '紅', '很', '自', '然']\n",
      "['O', 'O', 'O', 'O', 'O', 'O', 'O', 'O', 'O', 'O', 'O', 'O', 'O', 'B-SENS', 'I-SENS', 'O', 'B-PERC', 'I-PERC', 'O', 'O', 'O', 'O', 'O', 'O', 'O', 'O', 'O', 'O', 'O', 'O', 'O', 'O', 'O', 'O', 'O', 'O', 'O', 'O', 'O', 'O', 'O', 'O', 'O', 'O', 'O', 'O', 'O', 'O', 'O', 'O', 'O', 'O', 'O', 'O', 'O', 'O', 'O', 'O', 'O', 'O', 'O', 'O', 'O', 'O', 'O', 'O', 'O', 'O', 'O', 'O', 'O', 'O', 'O', 'O']\n",
      "['', '', '', '', '', '', '', '', '', '', '', '', '', ['Feel-0-A'], ['Feel-0-A'], '', ['Feel-0-B'], ['Feel-0-B'], '', '', '', '', '', '', '', '', '', '', '', '', '', '', '', '', '', '', '', '', '', '', '', '', '', '', '', '', '', '', '', '', '', '', '', '', '', '', '', '', '', '', '', '', '', '', '', '', '', '', '', '', '', '', '', '']\n",
      "\n",
      "Predict output\n",
      "['O', 'O', 'O', 'O', 'O', 'O', 'O', 'O', 'O', 'O', 'O', 'O', 'O', 'B-SENS', 'I-SENS', 'O', 'B-PERC', 'I-PERC', 'O', 'O', 'O', 'O', 'O', 'O', 'O', 'O', 'O', 'O', 'O', 'O', 'O', 'O', 'O', 'O', 'O', 'O', 'O', 'O', 'O', 'O', 'O', 'O', 'O', 'O', 'O', 'O', 'O', 'O', 'O', 'O', 'O', 'O', 'O', 'O', 'O', 'O', 'O', 'O', 'O', 'O', 'O', 'O', 'O', 'O', 'O', 'O', 'O', 'O', 'O', 'O', 'O', 'O', 'O', 'O']\n",
      "['', '', '', '', '', '', '', '', '', '', '', '', '', ['Feel-0-A'], ['Feel-0-A'], '', ['Feel-0-B'], ['Feel-0-B'], '', '', '', '', '', '', '', '', '', '', '', '', '', '', '', '', '', '', '', '', '', '', '', '', '', '', '', '', '', '', '', '', '', '', '', '', '', '', '', '', '', '', '', '', '', '', '', '', '', '', '', '', '', '', '', '']\n",
      "\n",
      "True\n",
      "[(13, 14, 2), (16, 17, 4)]\n",
      "[((13, 14, 2), (16, 17, 4), 2)]\n",
      "predict\n",
      "[(13, 14, 2), (16, 17, 4)]\n",
      "[((13, 14, 2), (16, 17, 4), 2)]\n",
      "=====================================\n",
      "['質', '地', '相', '當', '細', '緻']\n",
      "['B-SENS', 'I-SENS', 'O', 'O', 'B-PERC', 'I-PERC']\n",
      "[['Feel-0-A'], ['Feel-0-A'], '', '', ['Feel-0-B'], ['Feel-0-B']]\n",
      "\n",
      "Predict output\n",
      "['B-SENS', 'I-SENS', 'O', 'O', 'B-PERC', 'I-PERC']\n",
      "[['Feel-0-A'], ['Feel-0-A'], '', '', ['Feel-0-B'], ['Feel-0-B']]\n",
      "\n",
      "True\n",
      "[(0, 1, 2), (4, 5, 4)]\n",
      "[((0, 1, 2), (4, 5, 4), 2)]\n",
      "predict\n",
      "[(0, 1, 2), (4, 5, 4)]\n",
      "[((0, 1, 2), (4, 5, 4), 2)]\n",
      "=====================================\n",
      "['但', '是', '如', '果', '在', '冬', '天', '使', '用', '的', '話', '是', '否', '也', '這', '麼', '保', '濕', '就', '要', '再', '觀', '察', '看', '看', '了']\n",
      "['O', 'O', 'O', 'O', 'O', 'B-SEAS', 'I-SEAS', 'O', 'O', 'O', 'O', 'O', 'O', 'O', 'O', 'O', 'B-FUNC', 'I-FUNC', 'O', 'O', 'O', 'O', 'O', 'O', 'O', 'O']\n",
      "['', '', '', '', '', [], [], '', '', '', '', '', '', '', '', '', [], [], '', '', '', '', '', '', '', '']\n",
      "\n",
      "Predict output\n",
      "['O', 'O', 'O', 'O', 'O', 'B-SEAS', 'I-SEAS', 'O', 'O', 'O', 'O', 'O', 'O', 'O', 'O', 'O', 'B-FUNC', 'I-FUNC', 'O', 'O', 'O', 'O', 'O', 'O', 'O', 'O']\n",
      "['', '', '', '', '', ['ApplyIn-0-B'], ['ApplyIn-0-B'], '', '', '', '', '', '', '', '', '', ['ApplyIn-0-A'], [], '', '', '', '', '', '', '', '']\n",
      "\n",
      "True\n",
      "[(5, 6, 3), (16, 17, 1)]\n",
      "[]\n",
      "predict\n",
      "[(5, 6, 3), (16, 17, 1)]\n",
      "[]\n",
      "=====================================\n",
      "['這', '陣', '子', '試', '用', '下', '來', ',', '保', '濕', '效', '果', '很', '好', ',', '即', '使', '在', '這', '麼', '冷', '的', '冬', '天', '也', '很', '夠', '力', '~', '~']\n",
      "['O', 'O', 'O', 'O', 'O', 'O', 'O', 'O', 'B-FUNC', 'I-FUNC', 'O', 'O', 'O', 'O', 'O', 'O', 'O', 'O', 'O', 'O', 'O', 'O', 'B-SEAS', 'I-SEAS', 'O', 'O', 'O', 'O', 'O', 'O']\n",
      "['', '', '', '', '', '', '', '', ['ApplyIn-0-A'], ['ApplyIn-0-A'], '', '', '', '', '', '', '', '', '', '', '', '', ['ApplyIn-0-B'], ['ApplyIn-0-B'], '', '', '', '', '', '']\n",
      "\n",
      "Predict output\n",
      "['O', 'O', 'O', 'O', 'O', 'O', 'O', 'O', 'B-FUNC', 'I-FUNC', 'O', 'O', 'O', 'O', 'O', 'O', 'O', 'O', 'O', 'O', 'O', 'O', 'B-SEAS', 'I-SEAS', 'O', 'O', 'O', 'O', 'O', 'O']\n",
      "['', '', '', '', '', '', '', '', ['ApplyIn-0-A'], ['ApplyIn-0-A'], '', '', '', '', '', '', '', '', '', '', '', '', ['ApplyIn-0-B'], ['ApplyIn-0-B'], '', '', '', '', '', '']\n",
      "\n",
      "True\n",
      "[(8, 9, 1), (22, 23, 3)]\n",
      "[((8, 9, 1), (22, 23, 3), 1)]\n",
      "predict\n",
      "[(8, 9, 1), (22, 23, 3)]\n",
      "[((8, 9, 1), (22, 23, 3), 1)]\n",
      "=====================================\n"
     ]
    },
    {
     "name": "stdout",
     "output_type": "stream",
     "text": [
      "['因', '我', '冬', '天', '的', '肌', '膚', '非', '常', '的', '乾', '燥', '所', '以', '冬', '天', '使', '用', '保', '濕', '度', '就', '真', '的', '很', '不', '夠']\n",
      "['O', 'O', 'B-SEAS', 'I-SEAS', 'O', 'O', 'O', 'O', 'O', 'O', 'O', 'O', 'O', 'O', 'B-SEAS', 'I-SEAS', 'O', 'O', 'B-FUNC', 'I-FUNC', 'I-FUNC', 'O', 'O', 'O', 'O', 'O', 'O']\n",
      "['', '', [], [], '', '', '', '', '', '', '', '', '', '', [], [], '', '', [], [], [], '', '', '', '', '', '']\n",
      "\n",
      "Predict output\n",
      "['O', 'O', 'B-SEAS', 'I-SEAS', 'O', 'O', 'O', 'O', 'O', 'O', 'O', 'O', 'O', 'O', 'B-SEAS', 'I-SEAS', 'O', 'O', 'B-FUNC', 'I-FUNC', 'I-FUNC', 'O', 'O', 'O', 'O', 'O', 'O']\n",
      "['', '', ['ApplyIn-0-B'], ['ApplyIn-0-B'], '', '', '', '', '', '', '', '', '', '', [], [], '', '', '', '', [], '', '', '', '', '', '']\n",
      "\n",
      "True\n",
      "[(2, 3, 3), (14, 15, 3), (18, 20, 1)]\n",
      "[]\n",
      "predict\n",
      "[(2, 3, 3), (14, 15, 3), (18, 20, 1)]\n",
      "[]\n",
      "=====================================\n",
      "['質', '地', '很', '滑', '潤', '~', '不', '黏', '稠']\n",
      "['B-SENS', 'I-SENS', 'O', 'O', 'O', 'O', 'O', 'B-PERC', 'I-PERC']\n",
      "[[], [], '', '', '', '', '', [], []]\n",
      "\n",
      "Predict output\n",
      "['B-SENS', 'I-SENS', 'O', 'B-PERC', 'I-PERC', 'O', 'O', 'B-PERC', 'I-PERC']\n",
      "[['Feel-1-A', 'Feel-0-A'], ['Feel-1-A', 'Feel-0-A'], '', ['Feel-0-B'], ['Feel-0-B'], '', '', ['Feel-1-B'], ['Feel-1-B']]\n",
      "\n",
      "True\n",
      "[(0, 1, 2), (7, 8, 4)]\n",
      "[]\n",
      "predict\n",
      "[(0, 1, 2), (3, 4, 4), (7, 8, 4)]\n",
      "[((0, 1, 2), (3, 4, 4), 2), ((0, 1, 2), (7, 8, 4), 2)]\n",
      "=====================================\n",
      "['超', '適', '合', '夏', '天', '美', '白', '用', ',', '以', '前', '夏', '天', '白', '天', '擦', '美', '白', '精', '華', '都', '怕', '會', '太', '滋', '潤', '太', '黏', '膩', ',', '所', '以', '都', '沒', '有', '認', '真', '美', '白', ',', '現', '在', '我', '終', '於', '可', '以', '在', '夏', '天', '認', '真', '美', '白', '了']\n",
      "['O', 'O', 'O', 'B-SEAS', 'I-SEAS', 'B-FUNC', 'I-FUNC', 'O', 'O', 'O', 'O', 'B-SEAS', 'I-SEAS', 'O', 'O', 'O', 'O', 'O', 'O', 'O', 'O', 'O', 'O', 'O', 'O', 'O', 'O', 'O', 'O', 'O', 'O', 'O', 'O', 'O', 'O', 'O', 'O', 'O', 'O', 'O', 'O', 'O', 'O', 'O', 'O', 'O', 'O', 'O', 'B-SEAS', 'I-SEAS', 'O', 'O', 'O', 'O', 'O']\n",
      "['', '', '', ['ApplyIn-0-B'], ['ApplyIn-0-B'], ['ApplyIn-0-A'], ['ApplyIn-0-A'], '', '', '', '', [], [], '', '', '', '', '', '', '', '', '', '', '', '', '', '', '', '', '', '', '', '', '', '', '', '', '', '', '', '', '', '', '', '', '', '', '', [], [], '', '', '', '', '']\n",
      "\n",
      "Predict output\n",
      "['O', 'O', 'O', 'B-SEAS', 'I-SEAS', 'B-FUNC', 'I-FUNC', 'O', 'O', 'O', 'O', 'B-SEAS', 'I-SEAS', 'O', 'O', 'O', 'O', 'O', 'O', 'O', 'O', 'O', 'O', 'O', 'O', 'O', 'O', 'O', 'O', 'O', 'O', 'O', 'O', 'O', 'O', 'O', 'O', 'B-FUNC', 'I-FUNC', 'O', 'O', 'O', 'O', 'O', 'O', 'O', 'O', 'O', 'B-SEAS', 'I-SEAS', 'O', 'O', 'O', 'O', 'O']\n",
      "['', '', '', [], [], [], [], '', '', '', '', [], [], '', '', '', '', '', '', '', '', '', '', '', '', '', '', '', '', '', '', '', '', '', '', '', '', [], [], '', '', '', '', '', '', '', '', '', [], [], '', '', '', '', '']\n",
      "\n",
      "True\n",
      "[(3, 4, 3), (5, 6, 1), (11, 12, 3), (48, 49, 3)]\n",
      "[((3, 4, 3), (5, 6, 1), 1)]\n",
      "predict\n",
      "[(3, 4, 3), (5, 6, 1), (11, 12, 3), (37, 38, 1), (48, 49, 3)]\n",
      "[]\n",
      "=====================================\n",
      "['我', '臉', '部', '是', '痘', '痘', '肌', ',', '所', '以', '對', '清', '潔', '面', '膜', '非', '常', '的', '喜', '歡', '使', '用', ',', '以', '往', '都', '是', '使', '用', '泥', '狀', '的', ',', '這', '次', '是', '收', '到', '凍', '膜', '狀', '的', '質', '地', ',', '有', '點', '懷', '疑', '可', '以', '深', '層', '清', '潔', '嘛']\n",
      "['O', 'O', 'O', 'O', 'O', 'O', 'O', 'O', 'O', 'O', 'O', 'O', 'O', 'O', 'O', 'O', 'O', 'O', 'O', 'O', 'O', 'O', 'O', 'O', 'O', 'O', 'O', 'O', 'O', 'B-PERC', 'I-PERC', 'O', 'O', 'O', 'O', 'O', 'O', 'O', 'O', 'O', 'O', 'O', 'B-SENS', 'I-SENS', 'O', 'O', 'O', 'O', 'O', 'O', 'O', 'O', 'O', 'O', 'O', 'O']\n",
      "['', '', '', '', '', '', '', '', '', '', '', '', '', '', '', '', '', '', '', '', '', '', '', '', '', '', '', '', '', [], [], '', '', '', '', '', '', '', '', '', '', '', [], [], '', '', '', '', '', '', '', '', '', '', '', '']\n",
      "\n",
      "Predict output\n",
      "['O', 'O', 'O', 'O', 'O', 'O', 'O', 'O', 'O', 'O', 'O', 'O', 'O', 'O', 'O', 'O', 'O', 'O', 'O', 'O', 'O', 'O', 'O', 'O', 'O', 'O', 'O', 'O', 'O', 'O', 'O', 'O', 'O', 'O', 'O', 'O', 'O', 'O', 'O', 'B-PERC', 'I-PERC', 'O', 'B-SENS', 'I-SENS', 'O', 'O', 'O', 'O', 'O', 'O', 'O', 'O', 'O', 'O', 'O', 'O']\n",
      "['', '', '', '', '', '', '', '', '', '', '', '', '', '', '', '', '', '', '', '', '', '', '', '', '', '', '', '', '', '', '', '', '', '', '', '', '', '', '', [], [], '', [], [], '', '', '', '', '', '', '', '', '', '', '', '']\n",
      "\n",
      "True\n",
      "[(29, 30, 4), (42, 43, 2)]\n",
      "[]\n",
      "predict\n",
      "[(39, 40, 4), (42, 43, 2)]\n",
      "[]\n",
      "=====================================\n",
      "['D', 'R', '.', 'W', 'U', '玻', '尿', '酸', '保', '濕', '精', '華', '霜', '絕', '對', '是', '乾', '妹', '妹', '冬', '天', '一', '定', '要', '入', '手', '的', '好', '貨', '喔', '~', '~']\n",
      "['O', 'O', 'O', 'O', 'O', 'O', 'O', 'O', 'O', 'O', 'O', 'O', 'O', 'O', 'O', 'O', 'O', 'O', 'O', 'B-SEAS', 'I-SEAS', 'O', 'O', 'O', 'O', 'O', 'O', 'O', 'O', 'O', 'O', 'O']\n",
      "['', '', '', '', '', '', '', '', '', '', '', '', '', '', '', '', '', '', '', [], [], '', '', '', '', '', '', '', '', '', '', '']\n",
      "\n",
      "Predict output\n",
      "['O', 'O', 'O', 'O', 'O', 'O', 'O', 'O', 'O', 'O', 'O', 'O', 'O', 'O', 'O', 'O', 'O', 'O', 'O', 'B-SEAS', 'I-SEAS', 'O', 'O', 'O', 'O', 'O', 'O', 'O', 'O', 'O', 'O', 'O']\n",
      "['', '', '', '', '', '', '', '', '', '', '', '', '', '', '', '', '', '', '', [], [], '', '', '', '', '', '', '', '', '', '', '']\n",
      "\n",
      "True\n",
      "[(19, 20, 3)]\n",
      "[]\n",
      "predict\n",
      "[(19, 20, 3)]\n",
      "[]\n",
      "=====================================\n",
      "['無', '味', ',', '質', '地', '為', '稍', '濃', '稠', '乳', '霜', '狀', ',', '需', '要', '推', '比', '較', '久', '才', '會', '吸', '收', ',', '且', '吸', '收', '後', '還', '是', '稍', '感', '厚', '重', ',', '如', '果', '在', '天', '氣', '較', '冷', '的', '冬', '天', '使', '用', '可', '能', '會', '比', '較', '舒', '服', ',', '但', '吸', '收', '後', '隔', '天', '皮', '膚', '算', '是', '很', '保', '濕']\n",
      "['O', 'O', 'O', 'B-SENS', 'I-SENS', 'O', 'O', 'B-PERC', 'I-PERC', 'O', 'O', 'O', 'O', 'O', 'O', 'O', 'O', 'O', 'O', 'O', 'O', 'O', 'O', 'O', 'O', 'O', 'O', 'O', 'O', 'O', 'O', 'O', 'O', 'O', 'O', 'O', 'O', 'O', 'O', 'O', 'O', 'O', 'O', 'B-SEAS', 'I-SEAS', 'O', 'O', 'O', 'O', 'O', 'O', 'O', 'O', 'O', 'O', 'O', 'O', 'O', 'O', 'O', 'O', 'O', 'O', 'O', 'O', 'O', 'B-FUNC', 'I-FUNC']\n",
      "['', '', '', ['Feel-0-A'], ['Feel-0-A'], '', '', ['Feel-0-B'], ['Feel-0-B'], '', '', '', '', '', '', '', '', '', '', '', '', '', '', '', '', '', '', '', '', '', '', '', '', '', '', '', '', '', '', '', '', '', '', ['ApplyIn-1-B'], ['ApplyIn-1-B'], '', '', '', '', '', '', '', '', '', '', '', '', '', '', '', '', '', '', '', '', '', ['ApplyIn-1-A'], ['ApplyIn-1-A']]\n",
      "\n",
      "Predict output\n",
      "['O', 'O', 'O', 'B-SENS', 'I-SENS', 'O', 'O', 'B-PERC', 'I-PERC', 'O', 'O', 'O', 'O', 'O', 'O', 'O', 'O', 'O', 'O', 'O', 'O', 'O', 'O', 'O', 'O', 'O', 'O', 'O', 'O', 'O', 'O', 'O', 'O', 'O', 'O', 'O', 'O', 'O', 'O', 'O', 'O', 'O', 'O', 'B-SEAS', 'I-SEAS', 'O', 'O', 'O', 'O', 'O', 'O', 'O', 'O', 'O', 'O', 'O', 'O', 'O', 'O', 'O', 'O', 'O', 'O', 'O', 'O', 'O', 'B-FUNC', 'I-FUNC']\n",
      "['', '', '', ['Feel-0-A'], ['Feel-0-A'], '', '', ['Feel-0-B'], ['Feel-0-B'], '', '', '', '', '', '', '', '', '', '', '', '', '', '', '', '', '', '', '', '', '', '', '', '', '', '', '', '', '', '', '', '', '', '', [], [], '', '', '', '', '', '', '', '', '', '', '', '', '', '', '', '', '', '', '', '', '', [], []]\n",
      "\n",
      "True\n",
      "[(3, 4, 2), (7, 8, 4), (43, 44, 3), (66, 67, 1)]\n",
      "[((3, 4, 2), (7, 8, 4), 2), ((43, 44, 3), (66, 67, 1), 1)]\n",
      "predict\n",
      "[(3, 4, 2), (7, 8, 4), (43, 44, 3), (66, 67, 1)]\n",
      "[((3, 4, 2), (7, 8, 4), 2)]\n",
      "=====================================\n",
      "['乾', '性', '肌', '膚', '可', '能', '需', '要', '多', '一', '層', '保', '濕', '的', '化', '妝', '水', '會', '比', '較', '好', '囉', '^', '^']\n",
      "['B-STAT', 'I-STAT', 'I-STAT', 'I-STAT', 'O', 'O', 'O', 'O', 'O', 'O', 'O', 'O', 'O', 'O', 'O', 'O', 'O', 'O', 'O', 'O', 'O', 'O', 'O', 'O']\n",
      "[[], [], [], [], '', '', '', '', '', '', '', '', '', '', '', '', '', '', '', '', '', '', '', '']\n",
      "\n",
      "Predict output\n",
      "['B-STAT', 'I-STAT', 'I-STAT', 'I-STAT', 'O', 'O', 'O', 'O', 'O', 'O', 'O', 'B-FUNC', 'I-FUNC', 'O', 'O', 'O', 'O', 'O', 'O', 'O', 'O', 'O', 'O', 'O']\n",
      "[[], [], [], [], '', '', '', '', '', '', '', [], [], '', '', '', '', '', '', '', '', '', '', '']\n",
      "\n",
      "True\n",
      "[(0, 3, 0)]\n",
      "[]\n",
      "predict\n",
      "[(0, 3, 0), (11, 12, 1)]\n",
      "[]\n",
      "=====================================\n",
      "['雖', '說', '質', '地', '是', '白', '色', '乳', '狀']\n",
      "['O', 'O', 'B-SENS', 'I-SENS', 'O', 'O', 'O', 'B-PERC', 'I-PERC']\n",
      "['', '', ['Feel-0-A'], ['Feel-0-A'], '', '', '', ['Feel-0-B'], ['Feel-0-B']]\n",
      "\n",
      "Predict output\n",
      "['O', 'O', 'B-SENS', 'I-SENS', 'O', 'O', 'O', 'B-PERC', 'I-PERC']\n",
      "['', '', ['Feel-0-A'], ['Feel-0-A'], '', '', '', ['Feel-0-B'], ['Feel-0-B']]\n",
      "\n",
      "True\n",
      "[(2, 3, 2), (7, 8, 4)]\n",
      "[((2, 3, 2), (7, 8, 4), 2)]\n",
      "predict\n",
      "[(2, 3, 2), (7, 8, 4)]\n",
      "[((2, 3, 2), (7, 8, 4), 2)]\n",
      "=====================================\n"
     ]
    },
    {
     "name": "stdout",
     "output_type": "stream",
     "text": [
      "['至', '於', '夏', '天', '最', '在', '乎', '的', '控', '油', '持', '妝', '度']\n",
      "['O', 'O', 'B-SEAS', 'I-SEAS', 'O', 'O', 'O', 'O', 'B-FUNC', 'I-FUNC', 'O', 'O', 'O']\n",
      "['', '', [], [], '', '', '', '', [], [], '', '', '']\n",
      "\n",
      "Predict output\n",
      "['O', 'O', 'B-SEAS', 'I-SEAS', 'O', 'O', 'O', 'O', 'B-FUNC', 'I-FUNC', 'O', 'O', 'O']\n",
      "['', '', ['ApplyIn-0-B'], ['ApplyIn-0-B'], '', '', '', '', ['ApplyIn-0-A'], [], '', '', '']\n",
      "\n",
      "True\n",
      "[(2, 3, 3), (8, 9, 1)]\n",
      "[]\n",
      "predict\n",
      "[(2, 3, 3), (8, 9, 1)]\n",
      "[]\n",
      "=====================================\n",
      "['夏', '天', '到', '來', '控', '油', '和', '持', '久', '度', '是', '最', '重', '要', '的', '事', '情']\n",
      "['B-SEAS', 'I-SEAS', 'O', 'O', 'B-FUNC', 'I-FUNC', 'O', 'O', 'O', 'O', 'O', 'O', 'O', 'O', 'O', 'O', 'O']\n",
      "[[], [], '', '', [], [], '', '', '', '', '', '', '', '', '', '', '']\n",
      "\n",
      "Predict output\n",
      "['B-SEAS', 'I-SEAS', 'O', 'O', 'O', 'O', 'O', 'O', 'O', 'O', 'O', 'O', 'O', 'O', 'O', 'O', 'O']\n",
      "[[], [], '', '', '', '', '', '', '', '', '', '', '', '', '', '', '']\n",
      "\n",
      "True\n",
      "[(0, 1, 3), (4, 5, 1)]\n",
      "[]\n",
      "predict\n",
      "[(0, 1, 3)]\n",
      "[]\n",
      "=====================================\n",
      "['用', '了', '2', '週', '週', '左', '右', '後', '效', '果', '並', '沒', '有', '很', '明', '顯', ',', '個', '人', '是', '覺', '得', '有', '可', '能', '是', '因', '為', '冬', '天', '太', '乾', '了', '所', '以', '保', '濕', '程', '度', '有', '限', ',']\n",
      "['O', 'O', 'O', 'O', 'O', 'O', 'O', 'O', 'O', 'O', 'O', 'O', 'O', 'O', 'O', 'O', 'O', 'O', 'O', 'O', 'O', 'O', 'O', 'O', 'O', 'O', 'O', 'O', 'B-SEAS', 'I-SEAS', 'O', 'O', 'O', 'O', 'O', 'B-FUNC', 'I-FUNC', 'O', 'O', 'O', 'O', 'O']\n",
      "['', '', '', '', '', '', '', '', '', '', '', '', '', '', '', '', '', '', '', '', '', '', '', '', '', '', '', '', [], [], '', '', '', '', '', [], [], '', '', '', '', '']\n",
      "\n",
      "Predict output\n",
      "['O', 'O', 'O', 'O', 'O', 'O', 'O', 'O', 'O', 'O', 'O', 'O', 'O', 'O', 'O', 'O', 'O', 'O', 'O', 'O', 'O', 'O', 'O', 'O', 'O', 'O', 'O', 'O', 'B-SEAS', 'I-SEAS', 'O', 'O', 'O', 'O', 'O', 'B-FUNC', 'I-FUNC', 'O', 'O', 'O', 'O', 'O']\n",
      "['', '', '', '', '', '', '', '', '', '', '', '', '', '', '', '', '', '', '', '', '', '', '', '', '', '', '', '', [], [], '', '', '', '', '', [], [], '', '', '', '', '']\n",
      "\n",
      "True\n",
      "[(28, 29, 3), (35, 36, 1)]\n",
      "[]\n",
      "predict\n",
      "[(28, 29, 3), (35, 36, 1)]\n",
      "[]\n",
      "=====================================\n",
      "Batch entity score\n",
      "precision  \t recall  \t fbeta_score  \t\n",
      "(0.8928571428571429, 0.9146341463414634, 0.9036144578313253, None)\n",
      "\n",
      "Batch relation score\n",
      "precision  \t recall  \t fbeta_score  \t\n",
      "(0.5555555555555556, 0.4, 0.46511627906976744, None)\n",
      "\n",
      "p_r_fscore\n",
      "precision  \t recall  \t fbeta_score  \t\n",
      "(0.5555555552469136, 0.39999999984, 0.46511627398593836) 10 8 0 15\n",
      "===========================================\n",
      "['因', '為', '我', '是', '混', '合', '性', '乾', '肌', ',', '後', '面', '還', '會', '接', '續', '使', '用', '乳', '液', ',', '如', '果', '覺', '得', '太', '厚', '重', ',', '化', '妝', '水', '後', '也', '可', '以', '直', '接', '接', '這', '款', '淨', '斑', '精', '華', ',', '因', '為', '乳', '液', '狀', '的', '特', '性', '使', '用', '起', '來', '也', '很', '保', '濕']\n",
      "['O', 'O', 'O', 'O', 'B-STAT', 'I-STAT', 'I-STAT', 'I-STAT', 'I-STAT', 'O', 'O', 'O', 'O', 'O', 'O', 'O', 'O', 'O', 'O', 'O', 'O', 'O', 'O', 'O', 'O', 'O', 'O', 'O', 'O', 'O', 'O', 'O', 'O', 'O', 'O', 'O', 'O', 'O', 'O', 'O', 'O', 'O', 'O', 'O', 'O', 'O', 'O', 'O', 'O', 'O', 'O', 'O', 'O', 'O', 'O', 'O', 'O', 'O', 'O', 'O', 'B-FUNC', 'I-FUNC']\n",
      "['', '', '', '', ['ApplyTo-0-B'], ['ApplyTo-0-B'], ['ApplyTo-0-B'], ['ApplyTo-0-B'], ['ApplyTo-0-B'], '', '', '', '', '', '', '', '', '', '', '', '', '', '', '', '', '', '', '', '', '', '', '', '', '', '', '', '', '', '', '', '', '', '', '', '', '', '', '', '', '', '', '', '', '', '', '', '', '', '', '', ['ApplyTo-0-A'], ['ApplyTo-0-A']]\n",
      "\n",
      "Predict output\n",
      "['O', 'O', 'O', 'O', 'O', 'O', 'O', 'O', 'O', 'O', 'O', 'O', 'O', 'O', 'O', 'O', 'O', 'O', 'O', 'O', 'O', 'O', 'O', 'O', 'O', 'O', 'O', 'O', 'O', 'O', 'O', 'O', 'O', 'O', 'O', 'O', 'O', 'O', 'O', 'O', 'O', 'O', 'O', 'O', 'O', 'O', 'O', 'O', 'O', 'O', 'O', 'O', 'O', 'O', 'O', 'O', 'O', 'O', 'O', 'O', 'B-FUNC', 'I-FUNC']\n",
      "['', '', '', '', '', '', '', '', '', '', '', '', '', '', '', '', '', '', '', '', '', '', '', '', '', '', '', '', '', '', '', '', '', '', '', '', '', '', '', '', '', '', '', '', '', '', '', '', '', '', '', '', '', '', '', '', '', '', '', '', [], []]\n",
      "\n",
      "True\n",
      "[(4, 8, 0), (60, 61, 1)]\n",
      "[((4, 8, 0), (60, 61, 1), 0)]\n",
      "predict\n",
      "[(60, 61, 1)]\n",
      "[]\n",
      "=====================================\n",
      "['我', '有', '時', '懶', ',', '就', '只', '有', '單', '擦', '青', '春', '露', ',', '在', '夏', '天', '來', '說', ',', '保', '濕', '度', '還', '可', '以', '∼']\n",
      "['O', 'O', 'O', 'O', 'O', 'O', 'O', 'O', 'O', 'O', 'O', 'O', 'O', 'O', 'O', 'B-SEAS', 'I-SEAS', 'O', 'O', 'O', 'B-FUNC', 'I-FUNC', 'I-FUNC', 'O', 'O', 'O', 'O']\n",
      "['', '', '', '', '', '', '', '', '', '', '', '', '', '', '', ['ApplyIn-0-B'], ['ApplyIn-0-B'], '', '', '', ['ApplyIn-0-A'], ['ApplyIn-0-A'], ['ApplyIn-0-A'], '', '', '', '']\n",
      "\n",
      "Predict output\n",
      "['O', 'O', 'O', 'O', 'O', 'O', 'O', 'O', 'O', 'O', 'O', 'O', 'O', 'O', 'O', 'B-SEAS', 'I-SEAS', 'O', 'O', 'O', 'B-FUNC', 'I-FUNC', 'I-FUNC', 'O', 'O', 'O', 'O']\n",
      "['', '', '', '', '', '', '', '', '', '', '', '', '', '', '', ['ApplyIn-0-B'], ['ApplyIn-0-B'], '', '', '', ['ApplyIn-0-A'], ['ApplyIn-0-A'], [], '', '', '', '']\n",
      "\n",
      "True\n",
      "[(15, 16, 3), (20, 22, 1)]\n",
      "[((15, 16, 3), (20, 22, 1), 1)]\n",
      "predict\n",
      "[(15, 16, 3), (20, 22, 1)]\n",
      "[]\n",
      "=====================================\n",
      "['質', '地', '清', '爽', '不', '黏', '膩']\n",
      "['B-SENS', 'I-SENS', 'B-PERC', 'I-PERC', 'O', 'B-PERC', 'I-PERC']\n",
      "[['Feel-0-A'], ['Feel-0-A'], ['Feel-0-B'], ['Feel-0-B'], '', [], []]\n",
      "\n",
      "Predict output\n",
      "['B-SENS', 'I-SENS', 'B-PERC', 'I-PERC', 'O', 'B-PERC', 'I-PERC']\n",
      "[['Feel-1-A', 'Feel-0-A'], ['Feel-1-A', 'Feel-0-A'], ['Feel-0-B'], ['Feel-0-B'], '', ['Feel-1-B'], ['Feel-1-B']]\n",
      "\n",
      "True\n",
      "[(0, 1, 2), (2, 3, 4), (5, 6, 4)]\n",
      "[((0, 1, 2), (2, 3, 4), 2)]\n",
      "predict\n",
      "[(0, 1, 2), (2, 3, 4), (5, 6, 4)]\n",
      "[((0, 1, 2), (2, 3, 4), 2), ((0, 1, 2), (5, 6, 4), 2)]\n",
      "=====================================\n",
      "['覺', '得', '是', '很', '適', '合', '油', '性', '肌', '在', '冬', '天', '使', '用', '的', '一', '款', '美', '白', '精', '華', '乳']\n",
      "['O', 'O', 'O', 'O', 'O', 'O', 'B-STAT', 'I-STAT', 'I-STAT', 'O', 'B-SEAS', 'I-SEAS', 'O', 'O', 'O', 'O', 'O', 'B-FUNC', 'I-FUNC', 'O', 'O', 'O']\n",
      "['', '', '', '', '', '', ['ApplyTo-0-B'], ['ApplyTo-0-B'], ['ApplyTo-0-B'], '', [], [], '', '', '', '', '', '', '', '', '', '']\n",
      "\n",
      "Predict output\n",
      "['O', 'O', 'O', 'O', 'O', 'O', 'B-STAT', 'I-STAT', 'I-STAT', 'O', 'B-SEAS', 'I-SEAS', 'O', 'O', 'O', 'O', 'O', 'O', 'O', 'O', 'O', 'O']\n",
      "['', '', '', '', '', '', [], [], [], '', [], [], '', '', '', '', '', '', '', '', '', '']\n",
      "\n",
      "True\n",
      "[(6, 8, 0), (10, 11, 3), (17, 18, 1)]\n",
      "[]\n",
      "predict\n",
      "[(6, 8, 0), (10, 11, 3)]\n",
      "[]\n",
      "=====================================\n",
      "['夏', '天', '用', '太', '黏', '膩', '~', '冬', '天', '的', '話', '會', '不', '夠', '保', '濕', '~', '我', '會', '放', '在', '秋', '天', '當', '保', '濕', '精', '華', '用']\n",
      "['B-SEAS', 'I-SEAS', 'O', 'O', 'O', 'O', 'O', 'B-SEAS', 'I-SEAS', 'O', 'O', 'O', 'O', 'O', 'B-FUNC', 'I-FUNC', 'O', 'O', 'O', 'O', 'O', 'B-SEAS', 'I-SEAS', 'O', 'B-FUNC', 'I-FUNC', 'O', 'O', 'O']\n",
      "[[], [], '', '', '', '', '', [], [], '', '', '', '', '', [], [], '', '', '', '', '', ['ApplyIn-0-B'], ['ApplyIn-0-B'], '', ['ApplyIn-0-A'], ['ApplyIn-0-A'], '', '', '']\n",
      "\n",
      "Predict output\n",
      "['B-SEAS', 'I-SEAS', 'O', 'O', 'O', 'O', 'O', 'B-SEAS', 'I-SEAS', 'O', 'O', 'O', 'O', 'O', 'B-FUNC', 'I-FUNC', 'O', 'O', 'O', 'O', 'O', 'B-SEAS', 'I-SEAS', 'O', 'B-FUNC', 'I-FUNC', 'O', 'O', 'O']\n",
      "[['ApplyIn-1-B', 'ApplyIn-0-B'], ['ApplyIn-1-B', 'ApplyIn-0-B'], '', '', '', '', '', [], [], '', '', '', '', '', ['ApplyIn-0-A'], [], '', '', '', '', '', [], [], '', ['ApplyIn-1-A'], [], '', '', '']\n",
      "\n",
      "True\n",
      "[(0, 1, 3), (7, 8, 3), (14, 15, 1), (21, 22, 3), (24, 25, 1)]\n",
      "[((21, 22, 3), (24, 25, 1), 1)]\n",
      "predict\n",
      "[(0, 1, 3), (7, 8, 3), (14, 15, 1), (21, 22, 3), (24, 25, 1)]\n",
      "[]\n",
      "=====================================\n",
      "['控', '油', '效', '果', '還', '不', '錯', ',', '但', '因', '為', '還', '沒', '到', '夏', '天', '出', '油', '嚴', '重', '的', '時', '後']\n",
      "['B-FUNC', 'I-FUNC', 'O', 'O', 'O', 'O', 'O', 'O', 'O', 'O', 'O', 'O', 'O', 'O', 'B-SEAS', 'I-SEAS', 'O', 'O', 'O', 'O', 'O', 'O', 'O']\n",
      "[[], [], '', '', '', '', '', '', '', '', '', '', '', '', [], [], '', '', '', '', '', '', '']\n",
      "\n",
      "Predict output\n",
      "['B-FUNC', 'I-FUNC', 'O', 'O', 'O', 'O', 'O', 'O', 'O', 'O', 'O', 'O', 'O', 'O', 'B-SEAS', 'I-SEAS', 'O', 'O', 'O', 'O', 'O', 'O', 'O']\n",
      "[[], [], '', '', '', '', '', '', '', '', '', '', '', '', [], [], '', '', '', '', '', '', '']\n",
      "\n",
      "True\n",
      "[(0, 1, 1), (14, 15, 3)]\n",
      "[]\n",
      "predict\n",
      "[(0, 1, 1), (14, 15, 3)]\n",
      "[]\n",
      "=====================================\n"
     ]
    },
    {
     "name": "stdout",
     "output_type": "stream",
     "text": [
      "['保', '濕', '的', '部', '份', '倒', '是', '覺', '得', '還', '可', '以', ',', '是', '有', '感', '覺', '比', '較', 'Q', '彈', '一', '點', ',', '夏', '天', '裡', '開', '冷', '氣', '常', '會', '讓', '皮', '膚', '太', '乾', ',', '但', '擦', '了', '這', '款', '乳', '液', '之', '後', '是', '有', '感', '覺', '皮', '膚', '在', '冷', '氣', '室', '裡', '沒', '那', '麼', '乾']\n",
      "['B-FUNC', 'I-FUNC', 'O', 'O', 'O', 'O', 'O', 'O', 'O', 'O', 'O', 'O', 'O', 'O', 'O', 'O', 'O', 'O', 'O', 'O', 'O', 'O', 'O', 'O', 'B-SEAS', 'I-SEAS', 'O', 'O', 'O', 'O', 'O', 'O', 'O', 'O', 'O', 'O', 'O', 'O', 'O', 'O', 'O', 'O', 'O', 'O', 'O', 'O', 'O', 'O', 'O', 'O', 'O', 'O', 'O', 'O', 'O', 'O', 'O', 'O', 'O', 'O', 'O', 'O']\n",
      "[['ApplyIn-0-A'], ['ApplyIn-0-A'], '', '', '', '', '', '', '', '', '', '', '', '', '', '', '', '', '', '', '', '', '', '', ['ApplyIn-0-B'], ['ApplyIn-0-B'], '', '', '', '', '', '', '', '', '', '', '', '', '', '', '', '', '', '', '', '', '', '', '', '', '', '', '', '', '', '', '', '', '', '', '', '']\n",
      "\n",
      "Predict output\n",
      "['B-FUNC', 'I-FUNC', 'O', 'O', 'O', 'O', 'O', 'O', 'O', 'O', 'O', 'O', 'O', 'O', 'O', 'O', 'O', 'O', 'O', 'O', 'O', 'O', 'O', 'O', 'B-SEAS', 'I-SEAS', 'O', 'O', 'O', 'O', 'O', 'O', 'O', 'O', 'O', 'O', 'O', 'O', 'O', 'O', 'O', 'O', 'O', 'O', 'O', 'O', 'O', 'O', 'O', 'O', 'O', 'O', 'O', 'O', 'O', 'O', 'O', 'O', 'O', 'O', 'O', 'O']\n",
      "[['ApplyIn-0-A'], ['ApplyIn-0-A'], '', '', '', '', '', '', '', '', '', '', '', '', '', '', '', '', '', '', '', '', '', '', ['ApplyIn-0-B'], ['ApplyIn-0-B'], '', '', '', '', '', '', '', '', '', '', '', '', '', '', '', '', '', '', '', '', '', '', '', '', '', '', '', '', '', '', '', '', '', '', '', '']\n",
      "\n",
      "True\n",
      "[(0, 1, 1), (24, 25, 3)]\n",
      "[((0, 1, 1), (24, 25, 3), 1)]\n",
      "predict\n",
      "[(0, 1, 1), (24, 25, 3)]\n",
      "[((0, 1, 1), (24, 25, 3), 1)]\n",
      "=====================================\n",
      "['產', '品', '延', '展', '度', '也', '不', '錯', ',', '雖', '然', '質', '地', '有', '點', '濃', '稠', ',', '但', '不', '會', '不', '好', '推', '開', '的', '情', '形']\n",
      "['O', 'O', 'O', 'O', 'O', 'O', 'O', 'O', 'O', 'O', 'O', 'B-SENS', 'I-SENS', 'O', 'O', 'B-PERC', 'I-PERC', 'O', 'O', 'O', 'O', 'O', 'B-PERC', 'I-PERC', 'I-PERC', 'O', 'O', 'O']\n",
      "['', '', '', '', '', '', '', '', '', '', '', ['Feel-1-A', 'Feel-0-A'], ['Feel-1-A', 'Feel-0-A'], '', '', ['Feel-0-B'], ['Feel-0-B'], '', '', '', '', '', ['Feel-1-B'], ['Feel-1-B'], ['Feel-1-B'], '', '', '']\n",
      "\n",
      "Predict output\n",
      "['O', 'O', 'O', 'O', 'O', 'O', 'O', 'O', 'O', 'O', 'O', 'B-SENS', 'I-SENS', 'O', 'O', 'B-PERC', 'I-PERC', 'O', 'O', 'O', 'O', 'O', 'B-PERC', 'I-PERC', 'I-PERC', 'O', 'O', 'O']\n",
      "['', '', '', '', '', '', '', '', '', '', '', ['Feel-1-A', 'Feel-0-A'], ['Feel-1-A', 'Feel-0-A'], '', '', ['Feel-0-B'], ['Feel-0-B'], '', '', '', '', '', ['Feel-1-B'], ['Feel-1-B'], ['Feel-1-B'], '', '', '']\n",
      "\n",
      "True\n",
      "[(11, 12, 2), (15, 16, 4), (22, 24, 4)]\n",
      "[((11, 12, 2), (15, 16, 4), 2), ((11, 12, 2), (22, 24, 4), 2)]\n",
      "predict\n",
      "[(11, 12, 2), (15, 16, 4), (22, 24, 4)]\n",
      "[((11, 12, 2), (15, 16, 4), 2), ((11, 12, 2), (22, 24, 4), 2)]\n",
      "=====================================\n",
      "['使', '用', '三', '周', '後', ',', '觸', '覺', '可', '以', '感', '受', '到', '肌', '膚', '更', '加', '平', '滑', '有', '彈', '性', ',', '保', '濕', '度', '提', '升', '了', ',', '像', '之', '前', '季', '節', '替', '換', '(', '夏', '轉', '秋', ')', '的', '皮', '膚', '敏', '感', '問', '題', '不', '再', ',', '肌', '膚', '乾', '燥', ',', '兩', '頰', ',', '額', '頭', '脫', '屑', '的', '困', '擾', ',', '也', '獲', '得', '了', '改', '善']\n",
      "['O', 'O', 'O', 'O', 'O', 'O', 'O', 'O', 'O', 'O', 'O', 'O', 'O', 'O', 'O', 'O', 'O', 'O', 'O', 'O', 'O', 'O', 'O', 'B-FUNC', 'I-FUNC', 'I-FUNC', 'O', 'O', 'O', 'O', 'O', 'O', 'O', 'O', 'O', 'O', 'O', 'O', 'O', 'O', 'O', 'O', 'O', 'B-STAT', 'I-STAT', 'I-STAT', 'I-STAT', 'O', 'O', 'O', 'O', 'O', 'B-STAT', 'I-STAT', 'I-STAT', 'I-STAT', 'O', 'O', 'O', 'O', 'O', 'O', 'O', 'O', 'O', 'O', 'O', 'O', 'O', 'O', 'O', 'O', 'O', 'O']\n",
      "['', '', '', '', '', '', '', '', '', '', '', '', '', '', '', '', '', '', '', '', '', '', '', ['ApplyTo-0-A', 'ApplyTo-1-A'], ['ApplyTo-0-A', 'ApplyTo-1-A'], ['ApplyTo-0-A', 'ApplyTo-1-A'], '', '', '', '', '', '', '', '', '', '', '', '', '', '', '', '', '', ['ApplyTo-0-B'], ['ApplyTo-0-B'], ['ApplyTo-0-B'], ['ApplyTo-0-B'], '', '', '', '', '', ['ApplyTo-1-B'], ['ApplyTo-1-B'], ['ApplyTo-1-B'], ['ApplyTo-1-B'], '', '', '', '', '', '', '', '', '', '', '', '', '', '', '', '', '', '']\n",
      "\n",
      "Predict output\n",
      "['O', 'O', 'O', 'O', 'O', 'O', 'O', 'O', 'O', 'O', 'O', 'O', 'O', 'O', 'O', 'O', 'O', 'O', 'O', 'O', 'O', 'O', 'O', 'O', 'O', 'O', 'O', 'O', 'O', 'O', 'O', 'O', 'O', 'O', 'O', 'O', 'O', 'O', 'O', 'O', 'O', 'O', 'O', 'O', 'O', 'O', 'O', 'O', 'O', 'O', 'O', 'O', 'B-STAT', 'I-STAT', 'I-STAT', 'I-STAT', 'O', 'O', 'O', 'O', 'O', 'O', 'O', 'O', 'O', 'O', 'O', 'O', 'O', 'O', 'O', 'O', 'O', 'O']\n",
      "['', '', '', '', '', '', '', '', '', '', '', '', '', '', '', '', '', '', '', '', '', '', '', '', '', '', '', '', '', '', '', '', '', '', '', '', '', '', '', '', '', '', '', '', '', '', '', '', '', '', '', '', [], [], [], [], '', '', '', '', '', '', '', '', '', '', '', '', '', '', '', '', '', '']\n",
      "\n",
      "True\n",
      "[(23, 25, 1), (43, 46, 0), (52, 55, 0)]\n",
      "[((23, 25, 1), (43, 46, 0), 0), ((23, 25, 1), (52, 55, 0), 0)]\n",
      "predict\n",
      "[(52, 55, 0)]\n",
      "[]\n",
      "=====================================\n",
      "['這', '次', '收', '到', '的', '試', '用', '產', '品', '是', 'S', 'O', 'F', 'I', 'N', 'A', 'b', 'e', 'a', 'u', 't', 'e', '芯', '美', '顏', '美', '白', '瀅', '潤', '滲', '透', '乳', '升', '級', '版', ',', '清', '爽', '型', ',', '夏', '天', '到', '了', ',', '乳', '液', '也', '該', '換', '季', '囉', ',', '馬', '上', '來', '試', '用', '看', '看', 'S', 'O', 'F', 'I', 'N', 'A', 'b', 'e', 'a', 'u', 't', 'e', '芯', '美', '顏', '美', '白', '瀅', '潤', '滲', '透', '乳', '升', '級', '版', ',', '清', '爽', '型', '吧']\n",
      "['O', 'O', 'O', 'O', 'O', 'O', 'O', 'O', 'O', 'O', 'O', 'O', 'O', 'O', 'O', 'O', 'O', 'O', 'O', 'O', 'O', 'O', 'O', 'O', 'O', 'O', 'O', 'O', 'O', 'O', 'O', 'O', 'O', 'O', 'O', 'O', 'O', 'O', 'O', 'O', 'B-SEAS', 'I-SEAS', 'O', 'O', 'O', 'O', 'O', 'O', 'O', 'O', 'O', 'O', 'O', 'O', 'O', 'O', 'O', 'O', 'O', 'O', 'O', 'O', 'O', 'O', 'O', 'O', 'O', 'O', 'O', 'O', 'O', 'O', 'O', 'O', 'O', 'O', 'O', 'O', 'O', 'O', 'O', 'O', 'O', 'O', 'O', 'O', 'O', 'O', 'O', 'O']\n",
      "['', '', '', '', '', '', '', '', '', '', '', '', '', '', '', '', '', '', '', '', '', '', '', '', '', '', '', '', '', '', '', '', '', '', '', '', '', '', '', '', [], [], '', '', '', '', '', '', '', '', '', '', '', '', '', '', '', '', '', '', '', '', '', '', '', '', '', '', '', '', '', '', '', '', '', '', '', '', '', '', '', '', '', '', '', '', '', '', '', '']\n",
      "\n",
      "Predict output\n",
      "['O', 'O', 'O', 'O', 'O', 'O', 'O', 'O', 'O', 'O', 'O', 'O', 'O', 'O', 'O', 'O', 'O', 'O', 'O', 'O', 'O', 'O', 'O', 'O', 'O', 'O', 'O', 'O', 'O', 'O', 'O', 'O', 'O', 'O', 'O', 'O', 'O', 'O', 'O', 'O', 'B-SEAS', 'I-SEAS', 'O', 'O', 'O', 'O', 'O', 'O', 'O', 'O', 'O', 'O', 'O', 'O', 'O', 'O', 'O', 'O', 'O', 'O', 'O', 'O', 'O', 'O', 'O', 'O', 'O', 'O', 'O', 'O', 'O', 'O', 'O', 'O', 'O', 'O', 'O', 'O', 'O', 'O', 'O', 'O', 'O', 'O', 'O', 'O', 'O', 'O', 'O', 'O']\n",
      "['', '', '', '', '', '', '', '', '', '', '', '', '', '', '', '', '', '', '', '', '', '', '', '', '', '', '', '', '', '', '', '', '', '', '', '', '', '', '', '', [], [], '', '', '', '', '', '', '', '', '', '', '', '', '', '', '', '', '', '', '', '', '', '', '', '', '', '', '', '', '', '', '', '', '', '', '', '', '', '', '', '', '', '', '', '', '', '', '', '']\n",
      "\n",
      "True\n",
      "[(40, 41, 3)]\n",
      "[]\n",
      "predict\n",
      "[(40, 41, 3)]\n",
      "[]\n",
      "=====================================\n",
      "['細', '緻', '泡', '沫', '塗', '抹', '於', '全', '臉', '後', '清', '洗', ',', '因', '為', '我', '使', '用', '洗', '臉', '機', '清', '洗', ',', '洗', '臉', '機', '的', '刷', '毛', '讓', '細', '緻', '的', '泡', '沫', '在', '臉', '上', '很', '輕', '易', '劃', '開', '且', '很', '舒', '服', ',', '用', '洗', '臉', '機', '洗', '時', '泡', '沫', '也', '一', '直', '不', '斷', '的', '濃', '密', '湧', '現', '出', '許', '多', '搭', '配', '著', '洗', '臉', '機', '適', '度', '的', '臉', '部', '按', '摩', '時', '泡', '沫', '的', '觸', '感', '很', '滑', '溜', '好', '推', '勻']\n",
      "['B-PERC', 'I-PERC', 'O', 'O', 'O', 'O', 'O', 'O', 'O', 'O', 'O', 'O', 'O', 'O', 'O', 'O', 'O', 'O', 'O', 'O', 'O', 'O', 'O', 'O', 'O', 'O', 'O', 'O', 'O', 'O', 'O', 'B-PERC', 'I-PERC', 'O', 'O', 'O', 'O', 'O', 'O', 'O', 'O', 'O', 'O', 'O', 'O', 'O', 'O', 'O', 'O', 'O', 'O', 'O', 'O', 'O', 'O', 'O', 'O', 'O', 'O', 'O', 'O', 'O', 'O', 'O', 'O', 'O', 'O', 'O', 'O', 'O', 'O', 'O', 'O', 'O', 'O', 'O', 'O', 'O', 'O', 'O', 'O', 'O', 'O', 'O', 'O', 'O', 'O', 'B-SENS', 'I-SENS', 'O', 'O', 'O', 'B-PERC', 'I-PERC', 'I-PERC']\n",
      "[[], [], '', '', '', '', '', '', '', '', '', '', '', '', '', '', '', '', '', '', '', '', '', '', '', '', '', '', '', '', '', [], [], '', '', '', '', '', '', '', '', '', '', '', '', '', '', '', '', '', '', '', '', '', '', '', '', '', '', '', '', '', '', '', '', '', '', '', '', '', '', '', '', '', '', '', '', '', '', '', '', '', '', '', '', '', '', ['Feel-0-A'], ['Feel-0-A'], '', '', '', ['Feel-0-B'], ['Feel-0-B'], ['Feel-0-B']]\n",
      "\n",
      "Predict output\n",
      "['O', 'O', 'O', 'O', 'O', 'O', 'O', 'O', 'O', 'O', 'O', 'O', 'O', 'O', 'O', 'O', 'O', 'O', 'O', 'O', 'O', 'O', 'O', 'O', 'O', 'O', 'O', 'O', 'O', 'O', 'O', 'O', 'O', 'O', 'O', 'O', 'O', 'O', 'O', 'O', 'O', 'O', 'O', 'O', 'O', 'O', 'O', 'O', 'O', 'O', 'O', 'O', 'O', 'O', 'O', 'O', 'O', 'O', 'O', 'O', 'O', 'O', 'O', 'O', 'O', 'O', 'O', 'O', 'O', 'O', 'O', 'O', 'O', 'O', 'O', 'O', 'O', 'O', 'O', 'O', 'O', 'O', 'O', 'O', 'O', 'O', 'O', 'B-SENS', 'I-SENS', 'O', 'O', 'O', 'B-PERC', 'I-PERC', 'I-PERC']\n",
      "['', '', '', '', '', '', '', '', '', '', '', '', '', '', '', '', '', '', '', '', '', '', '', '', '', '', '', '', '', '', '', '', '', '', '', '', '', '', '', '', '', '', '', '', '', '', '', '', '', '', '', '', '', '', '', '', '', '', '', '', '', '', '', '', '', '', '', '', '', '', '', '', '', '', '', '', '', '', '', '', '', '', '', '', '', '', '', ['Feel-0-A'], ['Feel-0-A'], '', '', '', ['Feel-0-B'], ['Feel-0-B'], ['Feel-0-B']]\n",
      "\n",
      "True\n",
      "[(0, 1, 4), (31, 32, 4), (87, 88, 2), (92, 94, 4)]\n",
      "[((87, 88, 2), (92, 94, 4), 2)]\n",
      "predict\n",
      "[(87, 88, 2), (92, 94, 4)]\n",
      "[((87, 88, 2), (92, 94, 4), 2)]\n",
      "=====================================\n",
      "['夏', '天', '最', '需', '要', '的', '除', '了', '防', '曬', '莫', '過', '於', '一', '支', '有', '用', '的', '美', '白', '精', '華', '液']\n",
      "['B-SEAS', 'I-SEAS', 'O', 'O', 'O', 'O', 'O', 'O', 'O', 'O', 'O', 'O', 'O', 'O', 'O', 'O', 'O', 'O', 'O', 'O', 'O', 'O', 'O']\n",
      "[[], [], '', '', '', '', '', '', '', '', '', '', '', '', '', '', '', '', '', '', '', '', '']\n",
      "\n",
      "Predict output\n",
      "['B-SEAS', 'I-SEAS', 'O', 'O', 'O', 'O', 'O', 'O', 'O', 'O', 'O', 'O', 'O', 'O', 'O', 'O', 'O', 'O', 'O', 'O', 'O', 'O', 'O']\n",
      "[[], [], '', '', '', '', '', '', '', '', '', '', '', '', '', '', '', '', '', '', '', '', '']\n",
      "\n",
      "True\n",
      "[(0, 1, 3)]\n",
      "[]\n",
      "predict\n",
      "[(0, 1, 3)]\n",
      "[]\n",
      "=====================================\n"
     ]
    },
    {
     "name": "stdout",
     "output_type": "stream",
     "text": [
      "['溫', '和', '不', '刺', '激', ' ', ' ', '敏', '感', '肌', '的', '我', '使', '用', '都', '沒', '問', '題', ' ', ' ', '只', '是', '不', '知', '道', '是', '我', '的', '底', '妝', '問', '題', ' ', '早', '上', '使', '用', '上', '妝', '會', '有', '削', '削', ' ', ' ', '保', '濕', '度', '不', '錯', ' ', '皮', '膚', '不', '會', '乾', '燥', ' ', ' ', '不', '油', '膩', '是', '和', '夏', '天', '使', '用']\n",
      "['O', 'O', 'O', 'O', 'O', 'O', 'O', 'B-STAT', 'I-STAT', 'I-STAT', 'O', 'O', 'O', 'O', 'O', 'O', 'O', 'O', 'O', 'O', 'O', 'O', 'O', 'O', 'O', 'O', 'O', 'O', 'O', 'O', 'O', 'O', 'O', 'O', 'O', 'O', 'O', 'O', 'O', 'O', 'O', 'O', 'O', 'O', 'O', 'B-FUNC', 'I-FUNC', 'I-FUNC', 'O', 'O', 'O', 'O', 'O', 'O', 'O', 'O', 'O', 'O', 'O', 'O', 'O', 'O', 'O', 'O', 'B-SEAS', 'I-SEAS', 'O', 'O']\n",
      "['', '', '', '', '', '', '', ['ApplyTo-0-B'], ['ApplyTo-0-B'], ['ApplyTo-0-B'], '', '', '', '', '', '', '', '', '', '', '', '', '', '', '', '', '', '', '', '', '', '', '', '', '', '', '', '', '', '', '', '', '', '', '', ['ApplyTo-0-A', 'ApplyIn-1-A'], ['ApplyTo-0-A', 'ApplyIn-1-A'], ['ApplyTo-0-A', 'ApplyIn-1-A'], '', '', '', '', '', '', '', '', '', '', '', '', '', '', '', '', ['ApplyIn-1-B'], ['ApplyIn-1-B'], '', '']\n",
      "\n",
      "Predict output\n",
      "['O', 'O', 'O', 'O', 'O', 'O', 'O', 'B-STAT', 'I-STAT', 'I-STAT', 'O', 'O', 'O', 'O', 'O', 'O', 'O', 'O', 'O', 'O', 'O', 'O', 'O', 'O', 'O', 'O', 'O', 'O', 'O', 'O', 'O', 'O', 'O', 'O', 'O', 'O', 'O', 'O', 'O', 'O', 'O', 'O', 'O', 'O', 'O', 'O', 'O', 'O', 'O', 'O', 'O', 'O', 'O', 'O', 'O', 'O', 'O', 'O', 'O', 'O', 'O', 'O', 'O', 'O', 'B-SEAS', 'I-SEAS', 'O', 'O']\n",
      "['', '', '', '', '', '', '', [], [], [], '', '', '', '', '', '', '', '', '', '', '', '', '', '', '', '', '', '', '', '', '', '', '', '', '', '', '', '', '', '', '', '', '', '', '', '', '', '', '', '', '', '', '', '', '', '', '', '', '', '', '', '', '', '', [], [], '', '']\n",
      "\n",
      "True\n",
      "[(7, 9, 0), (45, 47, 1), (64, 65, 3)]\n",
      "[((7, 9, 0), (45, 47, 1), 0), ((45, 47, 1), (64, 65, 3), 1)]\n",
      "predict\n",
      "[(7, 9, 0), (64, 65, 3)]\n",
      "[]\n",
      "=====================================\n",
      "['總', '結', '就', '是', '.', '我', '覺', '得', '對', '乾', '肌', '來', '說', '.', '.', '保', '濕', '度', '很', '好', '.', '修', '護', '效', '果', '也', '很', '明', '顯', '的', '產', '品', '.', '.']\n",
      "['O', 'O', 'O', 'O', 'O', 'O', 'O', 'O', 'O', 'B-STAT', 'I-STAT', 'O', 'O', 'O', 'O', 'B-FUNC', 'I-FUNC', 'I-FUNC', 'O', 'O', 'O', 'O', 'O', 'O', 'O', 'O', 'O', 'O', 'O', 'O', 'O', 'O', 'O', 'O']\n",
      "['', '', '', '', '', '', '', '', '', ['ApplyTo-0-B'], ['ApplyTo-0-B'], '', '', '', '', ['ApplyTo-0-A'], ['ApplyTo-0-A'], ['ApplyTo-0-A'], '', '', '', '', '', '', '', '', '', '', '', '', '', '', '', '']\n",
      "\n",
      "Predict output\n",
      "['O', 'O', 'O', 'O', 'O', 'O', 'O', 'O', 'O', 'B-STAT', 'I-STAT', 'O', 'O', 'O', 'O', 'B-FUNC', 'I-FUNC', 'I-FUNC', 'O', 'O', 'O', 'O', 'O', 'O', 'O', 'O', 'O', 'O', 'O', 'O', 'O', 'O', 'O', 'O']\n",
      "['', '', '', '', '', '', '', '', '', [], [], '', '', '', '', [], [], [], '', '', '', '', '', '', '', '', '', '', '', '', '', '', '', '']\n",
      "\n",
      "True\n",
      "[(9, 10, 0), (15, 17, 1)]\n",
      "[((9, 10, 0), (15, 17, 1), 0)]\n",
      "predict\n",
      "[(9, 10, 0), (15, 17, 1)]\n",
      "[]\n",
      "=====================================\n",
      "['不', '過', '冬', '天', '可', '能', '需', '要', '搭', '配', '保', '溼', '的', '菁', '華', '液', '加', '強', '這', '樣']\n",
      "['O', 'O', 'B-SEAS', 'I-SEAS', 'O', 'O', 'O', 'O', 'O', 'O', 'B-FUNC', 'I-FUNC', 'O', 'O', 'O', 'O', 'O', 'O', 'O', 'O']\n",
      "['', '', [], [], '', '', '', '', '', '', [], [], '', '', '', '', '', '', '', '']\n",
      "\n",
      "Predict output\n",
      "['O', 'O', 'B-SEAS', 'I-SEAS', 'O', 'O', 'O', 'O', 'O', 'O', 'B-FUNC', 'I-FUNC', 'O', 'O', 'O', 'O', 'O', 'O', 'O', 'O']\n",
      "['', '', [], [], '', '', '', '', '', '', [], [], '', '', '', '', '', '', '', '']\n",
      "\n",
      "True\n",
      "[(2, 3, 3), (10, 11, 1)]\n",
      "[]\n",
      "predict\n",
      "[(2, 3, 3), (10, 11, 1)]\n",
      "[]\n",
      "=====================================\n",
      "['這', '款', '美', '白', '精', '華', '液', ',', '一', '打', '開', '後', '沒', '有', '可', '怕', '的', '香', '精', '味', ',', '是', '舒', '服', '淡', '雅', '的', '香', '味', ',', '讓', '我', '聞', '起', '來', '不', '會', '覺', '得', '嫌', '惡', ',', '而', '且', '塗', '抹', '後', '很', '好', '吸', '收', ',', '沒', '有', '其', '他', '精', '華', '液', '會', '有', '的', '黏', '膩', '感', '覺', ',', '很', '清', '爽', '不', '黏', '膩', ',', '而', '且', '用', '量', '很', '省', ',', '一', '點', '點', '就', '可', '以', '塗', '滿', '全', '臉']\n",
      "['O', 'O', 'O', 'O', 'O', 'O', 'O', 'O', 'O', 'O', 'O', 'O', 'O', 'O', 'O', 'O', 'O', 'B-PERC', 'I-PERC', 'I-PERC', 'O', 'O', 'O', 'O', 'B-PERC', 'I-PERC', 'O', 'B-SENS', 'I-SENS', 'O', 'O', 'O', 'O', 'O', 'O', 'O', 'O', 'O', 'O', 'O', 'O', 'O', 'O', 'O', 'O', 'O', 'O', 'O', 'O', 'O', 'O', 'O', 'O', 'O', 'O', 'O', 'O', 'O', 'O', 'O', 'O', 'O', 'O', 'O', 'O', 'O', 'O', 'O', 'O', 'O', 'O', 'O', 'O', 'O', 'O', 'O', 'O', 'O', 'O', 'O', 'O', 'O', 'O', 'O', 'O', 'O', 'O', 'O', 'O', 'O', 'O']\n",
      "['', '', '', '', '', '', '', '', '', '', '', '', '', '', '', '', '', [], [], [], '', '', '', '', ['Feel-0-B'], ['Feel-0-B'], '', ['Feel-0-A'], ['Feel-0-A'], '', '', '', '', '', '', '', '', '', '', '', '', '', '', '', '', '', '', '', '', '', '', '', '', '', '', '', '', '', '', '', '', '', '', '', '', '', '', '', '', '', '', '', '', '', '', '', '', '', '', '', '', '', '', '', '', '', '', '', '', '', '']\n",
      "\n",
      "Predict output\n",
      "['O', 'O', 'O', 'O', 'O', 'O', 'O', 'O', 'O', 'O', 'O', 'O', 'O', 'O', 'O', 'O', 'O', 'B-PERC', 'I-PERC', 'I-SENS', 'O', 'O', 'O', 'O', 'B-PERC', 'I-PERC', 'O', 'B-SENS', 'I-SENS', 'O', 'O', 'O', 'O', 'O', 'O', 'O', 'O', 'O', 'O', 'O', 'O', 'O', 'O', 'O', 'O', 'O', 'O', 'O', 'O', 'O', 'O', 'O', 'O', 'O', 'O', 'O', 'O', 'O', 'O', 'O', 'O', 'O', 'B-PERC', 'I-PERC', 'O', 'O', 'O', 'O', 'B-PERC', 'I-PERC', 'O', 'B-PERC', 'I-PERC', 'O', 'O', 'O', 'O', 'O', 'O', 'O', 'O', 'O', 'O', 'O', 'O', 'O', 'O', 'O', 'O', 'O', 'O']\n",
      "['', '', '', '', '', '', '', '', '', '', '', '', '', '', '', '', '', [], [], [], '', '', '', '', [], [], '', [], [], '', '', '', '', '', '', '', '', '', '', '', '', '', '', '', '', '', '', '', '', '', '', '', '', '', '', '', '', '', '', '', '', '', [], [], '', '', '', '', [], [], '', [], [], '', '', '', '', '', '', '', '', '', '', '', '', '', '', '', '', '', '']\n",
      "\n",
      "True\n",
      "[(17, 19, 4), (24, 25, 4), (27, 28, 2)]\n",
      "[((24, 25, 4), (27, 28, 2), 2)]\n",
      "predict\n",
      "[(17, 18, 4), (24, 25, 4), (27, 28, 2), (62, 63, 4), (68, 69, 4), (71, 72, 4)]\n",
      "[]\n",
      "=====================================\n",
      "['按', '壓', '出', '來', '的', '質', '地', '是', '乳', '白', '色', '的', '乳', '液', '狀', ',', '不', '偏', '濃', '不', '偏', '淡']\n",
      "['O', 'O', 'O', 'O', 'O', 'B-SENS', 'I-SENS', 'O', 'O', 'O', 'O', 'O', 'B-PERC', 'I-PERC', 'I-PERC', 'O', 'O', 'O', 'O', 'O', 'O', 'O']\n",
      "['', '', '', '', '', ['Feel-0-A'], ['Feel-0-A'], '', '', '', '', '', ['Feel-0-B'], ['Feel-0-B'], ['Feel-0-B'], '', '', '', '', '', '', '']\n",
      "\n",
      "Predict output\n",
      "['O', 'O', 'O', 'O', 'O', 'B-SENS', 'I-SENS', 'O', 'O', 'O', 'O', 'O', 'B-PERC', 'I-PERC', 'I-PERC', 'O', 'O', 'O', 'O', 'O', 'O', 'O']\n",
      "['', '', '', '', '', ['Feel-0-A'], ['Feel-0-A'], '', '', '', '', '', ['Feel-0-B'], ['Feel-0-B'], ['Feel-0-B'], '', '', '', '', '', '', '']\n",
      "\n",
      "True\n",
      "[(5, 6, 2), (12, 14, 4)]\n",
      "[((5, 6, 2), (12, 14, 4), 2)]\n",
      "predict\n",
      "[(5, 6, 2), (12, 14, 4)]\n",
      "[((5, 6, 2), (12, 14, 4), 2)]\n",
      "=====================================\n",
      "['因', '為', '夏', '天', '一', '直', '使', '用', '美', '白', '產', '品', '的', '我', ',', '在', '步', '入', '秋', '天', '之', '際', ',', '正', '打', '算', '購', '入', '一', '瓶', '抗', '皺', '霜', '或', '乳', '液', '~']\n",
      "['O', 'O', 'B-SEAS', 'I-SEAS', 'O', 'O', 'O', 'O', 'O', 'O', 'O', 'O', 'O', 'O', 'O', 'O', 'O', 'O', 'B-SEAS', 'I-SEAS', 'O', 'O', 'O', 'O', 'O', 'O', 'O', 'O', 'O', 'O', 'O', 'O', 'O', 'O', 'O', 'O', 'O']\n",
      "['', '', [], [], '', '', '', '', '', '', '', '', '', '', '', '', '', '', [], [], '', '', '', '', '', '', '', '', '', '', '', '', '', '', '', '', '']\n",
      "\n",
      "Predict output\n",
      "['O', 'O', 'B-SEAS', 'I-SEAS', 'O', 'O', 'O', 'O', 'O', 'O', 'O', 'O', 'O', 'O', 'O', 'O', 'O', 'O', 'B-SEAS', 'I-SEAS', 'O', 'O', 'O', 'O', 'O', 'O', 'O', 'O', 'O', 'O', 'O', 'O', 'O', 'O', 'O', 'O', 'O']\n",
      "['', '', [], [], '', '', '', '', '', '', '', '', '', '', '', '', '', '', [], [], '', '', '', '', '', '', '', '', '', '', '', '', '', '', '', '', '']\n",
      "\n",
      "True\n",
      "[(2, 3, 3), (18, 19, 3)]\n",
      "[]\n",
      "predict\n",
      "[(2, 3, 3), (18, 19, 3)]\n",
      "[]\n",
      "=====================================\n",
      "['沒', '有', '什', '麼', '別', '的', '香', '精', '味', '道', ',', '聞', '起', '來', '非', '常', '的', '乾', '淨', ',', '清', '爽', ',', '自', '然', ',']\n",
      "['O', 'O', 'O', 'O', 'O', 'O', 'B-PERC', 'I-PERC', 'B-SENS', 'I-SENS', 'O', 'O', 'O', 'O', 'O', 'O', 'O', 'O', 'O', 'O', 'O', 'O', 'O', 'O', 'O', 'O']\n",
      "['', '', '', '', '', '', [], [], [], [], '', '', '', '', '', '', '', '', '', '', '', '', '', '', '', '']\n",
      "\n",
      "Predict output\n",
      "['O', 'O', 'O', 'O', 'O', 'O', 'B-PERC', 'I-PERC', 'B-SENS', 'I-SENS', 'O', 'O', 'O', 'O', 'O', 'O', 'O', 'O', 'O', 'O', 'O', 'O', 'O', 'O', 'O', 'O']\n",
      "['', '', '', '', '', '', ['Feel-0-B'], ['Feel-0-B'], ['Feel-0-A'], ['Feel-0-A'], '', '', '', '', '', '', '', '', '', '', '', '', '', '', '', '']\n",
      "\n",
      "True\n",
      "[(6, 7, 4), (8, 9, 2)]\n",
      "[]\n",
      "predict\n",
      "[(6, 7, 4), (8, 9, 2)]\n",
      "[((6, 7, 4), (8, 9, 2), 2)]\n",
      "=====================================\n",
      "['但', '保', '濕', '和', '控', '油', '都', '兼', '具', ',', '所', '以', '特', '別', '推', '薦', '混', '合', '肌', '使', '用', '喔']\n",
      "['O', 'B-FUNC', 'I-FUNC', 'O', 'O', 'O', 'O', 'O', 'O', 'O', 'O', 'O', 'O', 'O', 'O', 'O', 'B-STAT', 'I-STAT', 'I-STAT', 'O', 'O', 'O']\n",
      "['', ['ApplyTo-0-A'], ['ApplyTo-0-A'], '', '', '', '', '', '', '', '', '', '', '', '', '', ['ApplyTo-0-B'], ['ApplyTo-0-B'], ['ApplyTo-0-B'], '', '', '']\n",
      "\n",
      "Predict output\n",
      "['O', 'B-FUNC', 'I-FUNC', 'O', 'B-FUNC', 'I-FUNC', 'O', 'O', 'O', 'O', 'O', 'O', 'O', 'O', 'O', 'O', 'B-STAT', 'I-STAT', 'I-STAT', 'O', 'O', 'O']\n",
      "['', [], [], '', [], [], '', '', '', '', '', '', '', '', '', '', [], [], [], '', '', '']\n",
      "\n",
      "True\n",
      "[(1, 2, 1), (16, 18, 0)]\n",
      "[((1, 2, 1), (16, 18, 0), 0)]\n",
      "predict\n",
      "[(1, 2, 1), (4, 5, 1), (16, 18, 0)]\n",
      "[]\n",
      "=====================================\n",
      "['就', '是', '有', '點', '花', '草', '般', '清', '新', '的', '香', '味']\n",
      "['O', 'O', 'O', 'O', 'O', 'O', 'O', 'B-PERC', 'I-PERC', 'O', 'B-SENS', 'I-SENS']\n",
      "['', '', '', '', '', '', '', ['Feel-0-B'], ['Feel-0-B'], '', ['Feel-0-A'], ['Feel-0-A']]\n",
      "\n",
      "Predict output\n",
      "['O', 'O', 'O', 'O', 'O', 'O', 'O', 'B-PERC', 'I-PERC', 'O', 'B-SENS', 'I-SENS']\n",
      "['', '', '', '', '', '', '', ['Feel-0-B'], ['Feel-0-B'], '', ['Feel-0-A'], ['Feel-0-A']]\n",
      "\n",
      "True\n",
      "[(7, 8, 4), (10, 11, 2)]\n",
      "[((7, 8, 4), (10, 11, 2), 2)]\n",
      "predict\n",
      "[(7, 8, 4), (10, 11, 2)]\n",
      "[((7, 8, 4), (10, 11, 2), 2)]\n",
      "=====================================\n"
     ]
    },
    {
     "name": "stdout",
     "output_type": "stream",
     "text": [
      "['使', '用', '後', '相', '當', '保', '濕', ',', '冬', '天', '使', '用', '剛', '好', '提', '高', '保', '水', '度', ',']\n",
      "['O', 'O', 'O', 'O', 'O', 'B-FUNC', 'I-FUNC', 'O', 'B-SEAS', 'I-SEAS', 'O', 'O', 'O', 'O', 'O', 'O', 'O', 'O', 'O', 'O']\n",
      "['', '', '', '', '', ['ApplyIn-0-A'], ['ApplyIn-0-A'], '', ['ApplyIn-0-B'], ['ApplyIn-0-B'], '', '', '', '', '', '', '', '', '', '']\n",
      "\n",
      "Predict output\n",
      "['O', 'O', 'O', 'O', 'O', 'B-FUNC', 'I-FUNC', 'O', 'B-SEAS', 'I-SEAS', 'O', 'O', 'O', 'O', 'O', 'O', 'O', 'O', 'O', 'O']\n",
      "['', '', '', '', '', ['ApplyIn-0-A'], ['ApplyIn-0-A'], '', ['ApplyIn-0-B'], ['ApplyIn-0-B'], '', '', '', '', '', '', '', '', '', '']\n",
      "\n",
      "True\n",
      "[(5, 6, 1), (8, 9, 3)]\n",
      "[((5, 6, 1), (8, 9, 3), 1)]\n",
      "predict\n",
      "[(5, 6, 1), (8, 9, 3)]\n",
      "[((5, 6, 1), (8, 9, 3), 1)]\n",
      "=====================================\n",
      "['還', '蠻', '放', '鬆', '的', '清', '香', '味', '道']\n",
      "['O', 'O', 'O', 'O', 'O', 'B-PERC', 'I-PERC', 'B-SENS', 'I-SENS']\n",
      "['', '', '', '', '', ['Feel-0-B'], ['Feel-0-B'], ['Feel-0-A'], ['Feel-0-A']]\n",
      "\n",
      "Predict output\n",
      "['O', 'O', 'O', 'O', 'O', 'B-PERC', 'I-PERC', 'B-SENS', 'I-SENS']\n",
      "['', '', '', '', '', ['Feel-0-B'], ['Feel-0-B'], ['Feel-0-A'], ['Feel-0-A']]\n",
      "\n",
      "True\n",
      "[(5, 6, 4), (7, 8, 2)]\n",
      "[((5, 6, 4), (7, 8, 2), 2)]\n",
      "predict\n",
      "[(5, 6, 4), (7, 8, 2)]\n",
      "[((5, 6, 4), (7, 8, 2), 2)]\n",
      "=====================================\n",
      "['艾', '草', '能', '舒', '緩', '因', '乾', '燥', '所', '引', '起', '的', '皮', '膚', '癢', ',', '所', '以', '在', '這', '個', '乾', '冷', '的', '冬', '天', '試', '用', ',', '應', '該', '是', '滿', '好', '的', '時', '機']\n",
      "['O', 'O', 'O', 'B-FUNC', 'I-FUNC', 'O', 'O', 'O', 'O', 'O', 'O', 'O', 'O', 'O', 'O', 'O', 'O', 'O', 'O', 'O', 'O', 'O', 'O', 'O', 'B-SEAS', 'I-SEAS', 'O', 'O', 'O', 'O', 'O', 'O', 'O', 'O', 'O', 'O', 'O']\n",
      "['', '', '', [], [], '', '', '', '', '', '', '', '', '', '', '', '', '', '', '', '', '', '', '', [], [], '', '', '', '', '', '', '', '', '', '', '']\n",
      "\n",
      "Predict output\n",
      "['O', 'O', 'O', 'B-FUNC', 'I-FUNC', 'O', 'O', 'O', 'O', 'O', 'O', 'O', 'O', 'O', 'O', 'O', 'O', 'O', 'O', 'O', 'O', 'O', 'O', 'O', 'B-SEAS', 'I-SEAS', 'O', 'O', 'O', 'O', 'O', 'O', 'O', 'O', 'O', 'O', 'O']\n",
      "['', '', '', [], [], '', '', '', '', '', '', '', '', '', '', '', '', '', '', '', '', '', '', '', [], [], '', '', '', '', '', '', '', '', '', '', '']\n",
      "\n",
      "True\n",
      "[(3, 4, 1), (24, 25, 3)]\n",
      "[]\n",
      "predict\n",
      "[(3, 4, 1), (24, 25, 3)]\n",
      "[]\n",
      "=====================================\n",
      "['淡', '褐', '色', '的', '精', '華', '液', '味', '道', '好', '香', '唷', ',', '濃', '郁', '的', '香', '氣', '好', '好', '聞', ',']\n",
      "['O', 'O', 'O', 'O', 'O', 'O', 'O', 'B-SENS', 'I-SENS', 'O', 'O', 'O', 'O', 'B-PERC', 'I-PERC', 'O', 'O', 'O', 'O', 'O', 'O', 'O']\n",
      "['', '', '', '', '', '', '', ['Feel-0-A'], ['Feel-0-A'], '', '', '', '', ['Feel-0-B'], ['Feel-0-B'], '', '', '', '', '', '', '']\n",
      "\n",
      "Predict output\n",
      "['O', 'O', 'O', 'O', 'O', 'O', 'O', 'B-SENS', 'I-SENS', 'B-PERC', 'I-PERC', 'O', 'O', 'B-PERC', 'I-PERC', 'O', 'O', 'O', 'O', 'B-PERC', 'I-PERC', 'O']\n",
      "['', '', '', '', '', '', '', ['Feel-1-A', 'Feel-0-A', 'Feel-2-A'], ['Feel-1-A', 'Feel-0-A', 'Feel-2-A'], ['Feel-0-B'], [], '', '', ['Feel-1-B'], ['Feel-1-B'], '', '', '', '', ['Feel-2-B'], ['Feel-2-B'], '']\n",
      "\n",
      "True\n",
      "[(7, 8, 2), (13, 14, 4)]\n",
      "[((7, 8, 2), (13, 14, 4), 2)]\n",
      "predict\n",
      "[(7, 8, 2), (9, 10, 4), (13, 14, 4), (19, 20, 4)]\n",
      "[((7, 8, 2), (13, 14, 4), 2), ((7, 8, 2), (19, 20, 4), 2)]\n",
      "=====================================\n",
      "['我', '最', '後', '一', '道', '保', '養', '品', '是', 'K', 'i', 'e', 'h', 'l', '`', 's', '冰', '河', '醣', '蛋', '白', '保', '溼', '霜', '(', '冬', '天', '偷', '懶', '沒', '擦', '防', '曬', ')']\n",
      "['O', 'O', 'O', 'O', 'O', 'O', 'O', 'O', 'O', 'O', 'O', 'O', 'O', 'O', 'O', 'O', 'O', 'O', 'O', 'O', 'O', 'O', 'O', 'O', 'O', 'B-SEAS', 'I-SEAS', 'O', 'O', 'O', 'O', 'O', 'O', 'O']\n",
      "['', '', '', '', '', '', '', '', '', '', '', '', '', '', '', '', '', '', '', '', '', '', '', '', '', [], [], '', '', '', '', '', '', '']\n",
      "\n",
      "Predict output\n",
      "['O', 'O', 'O', 'O', 'O', 'O', 'O', 'O', 'O', 'O', 'O', 'O', 'O', 'O', 'O', 'O', 'O', 'O', 'O', 'O', 'O', 'B-FUNC', 'I-FUNC', 'O', 'O', 'B-SEAS', 'I-SEAS', 'O', 'O', 'O', 'O', 'O', 'O', 'O']\n",
      "['', '', '', '', '', '', '', '', '', '', '', '', '', '', '', '', '', '', '', '', '', [], [], '', '', [], [], '', '', '', '', '', '', '']\n",
      "\n",
      "True\n",
      "[(25, 26, 3)]\n",
      "[]\n",
      "predict\n",
      "[(21, 22, 1), (25, 26, 3)]\n",
      "[]\n",
      "=====================================\n",
      "['整', '體', '感', '覺', ':', '對', '我', '而', '言', ',', '冬', '天', '使', '用', '可', '能', '保', '濕', '度', '稍', '不', '足', ',', '誘', '發', '一', '點', '點', '冬', '季', '過', '敏', '的', '粉', '刺', ',', '但', '是', '不', '多', ',', '有', '機', '會', '可', '以', '試', '試', '春', '天', '或', '秋', '天', '使', '用']\n",
      "['O', 'O', 'O', 'O', 'O', 'O', 'O', 'O', 'O', 'O', 'B-SEAS', 'I-SEAS', 'O', 'O', 'O', 'O', 'B-FUNC', 'I-FUNC', 'I-FUNC', 'O', 'O', 'O', 'O', 'O', 'O', 'O', 'O', 'O', 'B-SEAS', 'I-SEAS', 'O', 'O', 'O', 'O', 'O', 'O', 'O', 'O', 'O', 'O', 'O', 'O', 'O', 'O', 'O', 'O', 'O', 'O', 'B-SEAS', 'I-SEAS', 'O', 'B-SEAS', 'I-SEAS', 'O', 'O']\n",
      "['', '', '', '', '', '', '', '', '', '', [], [], '', '', '', '', [], [], [], '', '', '', '', '', '', '', '', '', [], [], '', '', '', '', '', '', '', '', '', '', '', '', '', '', '', '', '', '', [], [], '', [], [], '', '']\n",
      "\n",
      "Predict output\n",
      "['O', 'O', 'O', 'O', 'O', 'O', 'O', 'O', 'O', 'O', 'B-SEAS', 'I-SEAS', 'O', 'O', 'O', 'O', 'B-FUNC', 'I-FUNC', 'I-FUNC', 'O', 'O', 'O', 'O', 'O', 'O', 'O', 'O', 'O', 'B-SEAS', 'I-SEAS', 'O', 'O', 'O', 'O', 'O', 'O', 'O', 'O', 'O', 'O', 'O', 'O', 'O', 'O', 'O', 'O', 'O', 'O', 'B-SEAS', 'I-SEAS', 'O', 'B-SEAS', 'I-SEAS', 'O', 'O']\n",
      "['', '', '', '', '', '', '', '', '', '', [], [], '', '', '', '', [], [], [], '', '', '', '', '', '', '', '', '', [], [], '', '', '', '', '', '', '', '', '', '', '', '', '', '', '', '', '', '', [], [], '', [], [], '', '']\n",
      "\n",
      "True\n",
      "[(10, 11, 3), (16, 18, 1), (28, 29, 3), (48, 49, 3), (51, 52, 3)]\n",
      "[]\n",
      "predict\n",
      "[(10, 11, 3), (16, 18, 1), (28, 29, 3), (48, 49, 3), (51, 52, 3)]\n",
      "[]\n",
      "=====================================\n",
      "['整', '體', '而', '言', ',', '個', '人', '對', '此', '款', '隔', '離', '霜', '會', '期', '望', '保', '濕', '效', '果', '好', '一', '點', ',', '雖', '它', '的', '質', '感', '真', '的', '狠', '清', '透', ',', '皮', '膚', '不', '會', '感', '到', '負', '擔', ',', '很', '適', '合', '夏', '天', '使', '用']\n",
      "['O', 'O', 'O', 'O', 'O', 'O', 'O', 'O', 'O', 'O', 'O', 'O', 'O', 'O', 'O', 'O', 'B-FUNC', 'I-FUNC', 'O', 'O', 'O', 'O', 'O', 'O', 'O', 'O', 'O', 'O', 'O', 'O', 'O', 'O', 'O', 'O', 'O', 'O', 'O', 'O', 'O', 'O', 'O', 'O', 'O', 'O', 'O', 'O', 'O', 'B-SEAS', 'I-SEAS', 'O', 'O']\n",
      "['', '', '', '', '', '', '', '', '', '', '', '', '', '', '', '', ['ApplyIn-0-A'], ['ApplyIn-0-A'], '', '', '', '', '', '', '', '', '', '', '', '', '', '', '', '', '', '', '', '', '', '', '', '', '', '', '', '', '', ['ApplyIn-0-B'], ['ApplyIn-0-B'], '', '']\n",
      "\n",
      "Predict output\n",
      "['O', 'O', 'O', 'O', 'O', 'O', 'O', 'O', 'O', 'O', 'O', 'O', 'O', 'O', 'O', 'O', 'B-FUNC', 'I-FUNC', 'O', 'O', 'O', 'O', 'O', 'O', 'O', 'O', 'O', 'O', 'O', 'O', 'O', 'O', 'O', 'O', 'O', 'O', 'O', 'O', 'O', 'O', 'O', 'O', 'O', 'O', 'O', 'O', 'O', 'B-SEAS', 'I-SEAS', 'O', 'O']\n",
      "['', '', '', '', '', '', '', '', '', '', '', '', '', '', '', '', ['ApplyIn-0-A'], ['ApplyIn-0-A'], '', '', '', '', '', '', '', '', '', '', '', '', '', '', '', '', '', '', '', '', '', '', '', '', '', '', '', '', '', ['ApplyIn-0-B'], ['ApplyIn-0-B'], '', '']\n",
      "\n",
      "True\n",
      "[(16, 17, 1), (47, 48, 3)]\n",
      "[((16, 17, 1), (47, 48, 3), 1)]\n",
      "predict\n",
      "[(16, 17, 1), (47, 48, 3)]\n",
      "[((16, 17, 1), (47, 48, 3), 1)]\n",
      "=====================================\n",
      "['如', '果', '不', '保', '濕', ',', '依', '這', '種', '膏', '狀', '的', '質', '地', ',', '應', '該', '不', '好', '推', '勻', '吧']\n",
      "['O', 'O', 'O', 'O', 'O', 'O', 'O', 'O', 'O', 'B-PERC', 'I-PERC', 'O', 'B-SENS', 'I-SENS', 'O', 'O', 'O', 'O', 'B-PERC', 'I-PERC', 'I-PERC', 'O']\n",
      "['', '', '', '', '', '', '', '', '', ['Feel-0-B'], ['Feel-0-B'], '', ['Feel-0-A'], ['Feel-0-A'], '', '', '', '', [], [], [], '']\n",
      "\n",
      "Predict output\n",
      "['O', 'O', 'O', 'B-FUNC', 'O', 'O', 'O', 'O', 'O', 'B-PERC', 'I-PERC', 'O', 'B-SENS', 'I-SENS', 'O', 'O', 'O', 'O', 'B-PERC', 'I-PERC', 'I-PERC', 'O']\n",
      "['', '', '', [], '', '', '', '', '', ['Feel-0-B'], ['Feel-0-B'], '', ['Feel-1-A', 'Feel-0-A'], ['Feel-1-A', 'Feel-0-A'], '', '', '', '', ['Feel-1-B'], ['Feel-1-B'], ['Feel-1-B'], '']\n",
      "\n",
      "True\n",
      "[(9, 10, 4), (12, 13, 2), (18, 20, 4)]\n",
      "[((9, 10, 4), (12, 13, 2), 2)]\n",
      "predict\n",
      "[(3, 3, 1), (9, 10, 4), (12, 13, 2), (18, 20, 4)]\n",
      "[((9, 10, 4), (12, 13, 2), 2), ((12, 13, 2), (18, 20, 4), 2)]\n",
      "=====================================\n",
      "['吸', '收', '粉', '快', '.', '.', '質', '地', '也', '很', '輕', '爽', '.', '適', '合', '夏', '季', '使', '用', '但', '冬', '季', '時', '可', '能', '會', '不', '夠', '保', '濕', '對', '於', '常', '在', '冷', '氣', '房', '的', '美', '女', '來', '說', '.', '應', '是', '不', '錯', '的', '保', '養', '品', '.']\n",
      "['O', 'O', 'O', 'O', 'O', 'O', 'O', 'O', 'O', 'O', 'O', 'O', 'O', 'O', 'O', 'B-SEAS', 'I-SEAS', 'O', 'O', 'O', 'B-SEAS', 'I-SEAS', 'O', 'O', 'O', 'O', 'O', 'O', 'B-FUNC', 'I-FUNC', 'O', 'O', 'O', 'O', 'O', 'O', 'O', 'O', 'O', 'O', 'O', 'O', 'O', 'O', 'O', 'O', 'O', 'O', 'O', 'O', 'O', 'O']\n",
      "['', '', '', '', '', '', '', '', '', '', '', '', '', '', '', ['ApplyIn-0-B'], ['ApplyIn-0-B'], '', '', '', [], [], '', '', '', '', '', '', ['ApplyIn-0-A'], ['ApplyIn-0-A'], '', '', '', '', '', '', '', '', '', '', '', '', '', '', '', '', '', '', '', '', '', '']\n",
      "\n",
      "Predict output\n",
      "['O', 'O', 'O', 'O', 'O', 'O', 'B-SENS', 'I-SENS', 'O', 'O', 'O', 'O', 'O', 'O', 'O', 'B-SEAS', 'I-SEAS', 'O', 'O', 'O', 'B-SEAS', 'I-SEAS', 'O', 'O', 'O', 'O', 'O', 'O', 'B-FUNC', 'I-FUNC', 'O', 'O', 'O', 'O', 'O', 'O', 'O', 'O', 'O', 'O', 'O', 'O', 'O', 'O', 'O', 'O', 'O', 'O', 'O', 'O', 'O', 'O']\n",
      "['', '', '', '', '', '', [], [], '', '', '', '', '', '', '', [], [], '', '', '', [], [], '', '', '', '', '', '', [], [], '', '', '', '', '', '', '', '', '', '', '', '', '', '', '', '', '', '', '', '', '', '']\n",
      "\n",
      "True\n",
      "[(15, 16, 3), (20, 21, 3), (28, 29, 1)]\n",
      "[((15, 16, 3), (28, 29, 1), 1)]\n",
      "predict\n",
      "[(6, 7, 2), (15, 16, 3), (20, 21, 3), (28, 29, 1)]\n",
      "[]\n",
      "=====================================\n"
     ]
    },
    {
     "name": "stdout",
     "output_type": "stream",
     "text": [
      "['我', '是', '混', '合', '肌', '.', '.', '.', '最', '怕', '使', '用', '保', '濕', '的', '東', '西', '.', '.', '油', '油', '又', '黏', '黏', '的', '.', '.']\n",
      "['O', 'O', 'B-STAT', 'I-STAT', 'I-STAT', 'O', 'O', 'O', 'O', 'O', 'O', 'O', 'O', 'O', 'O', 'O', 'O', 'O', 'O', 'O', 'O', 'O', 'O', 'O', 'O', 'O', 'O']\n",
      "['', '', [], [], [], '', '', '', '', '', '', '', '', '', '', '', '', '', '', '', '', '', '', '', '', '', '']\n",
      "\n",
      "Predict output\n",
      "['O', 'O', 'B-STAT', 'I-STAT', 'I-STAT', 'O', 'O', 'O', 'O', 'O', 'O', 'O', 'O', 'O', 'O', 'O', 'O', 'O', 'O', 'O', 'O', 'O', 'O', 'O', 'O', 'O', 'O']\n",
      "['', '', [], [], [], '', '', '', '', '', '', '', '', '', '', '', '', '', '', '', '', '', '', '', '', '', '']\n",
      "\n",
      "True\n",
      "[(2, 4, 0)]\n",
      "[]\n",
      "predict\n",
      "[(2, 4, 0)]\n",
      "[]\n",
      "=====================================\n",
      "['對', '乾', '性', '肌', '最', '在', '乎', '的', '水', '感', '保', '濕', '來', '說', ',', '也', '算', '表', '現', '不', '錯', ';', '持', '久', '度', '以', '最', '近', '的', '氣', '候', '來', '說', '表', '現', '還', '算', '好', ',', '使', '用', '期', '間', '僅', '有', '額', '頭', '鼻', '翼', '會', '小', '脫', '妝', ',', '但', '這', '樣', '的', '持', '妝', '續', '航', '力', '對', '接', '下', '來', '的', '炎', '熱', '夏', '天', '夠', '不', '夠', ',', '就', '還', '需', '要', '再', '試', '驗', '看', '看']\n",
      "['O', 'B-STAT', 'I-STAT', 'I-STAT', 'O', 'O', 'O', 'O', 'O', 'O', 'B-FUNC', 'I-FUNC', 'O', 'O', 'O', 'O', 'O', 'O', 'O', 'O', 'O', 'O', 'O', 'O', 'O', 'O', 'O', 'O', 'O', 'O', 'O', 'O', 'O', 'O', 'O', 'O', 'O', 'O', 'O', 'O', 'O', 'O', 'O', 'O', 'O', 'O', 'O', 'O', 'O', 'O', 'O', 'O', 'O', 'O', 'O', 'O', 'O', 'O', 'O', 'O', 'O', 'O', 'O', 'O', 'O', 'O', 'O', 'O', 'O', 'O', 'B-SEAS', 'I-SEAS', 'O', 'O', 'O', 'O', 'O', 'O', 'O', 'O', 'O', 'O', 'O', 'O', 'O']\n",
      "['', ['ApplyTo-0-B'], ['ApplyTo-0-B'], ['ApplyTo-0-B'], '', '', '', '', '', '', ['ApplyTo-0-A'], ['ApplyTo-0-A'], '', '', '', '', '', '', '', '', '', '', '', '', '', '', '', '', '', '', '', '', '', '', '', '', '', '', '', '', '', '', '', '', '', '', '', '', '', '', '', '', '', '', '', '', '', '', '', '', '', '', '', '', '', '', '', '', '', '', [], [], '', '', '', '', '', '', '', '', '', '', '', '', '']\n",
      "\n",
      "Predict output\n",
      "['O', 'B-STAT', 'I-STAT', 'I-STAT', 'O', 'O', 'O', 'O', 'O', 'O', 'B-FUNC', 'I-FUNC', 'O', 'O', 'O', 'O', 'O', 'O', 'O', 'O', 'O', 'O', 'O', 'O', 'O', 'O', 'O', 'O', 'O', 'O', 'O', 'O', 'O', 'O', 'O', 'O', 'O', 'O', 'O', 'O', 'O', 'O', 'O', 'O', 'O', 'O', 'O', 'O', 'O', 'O', 'O', 'O', 'O', 'O', 'O', 'O', 'O', 'O', 'O', 'O', 'O', 'O', 'O', 'O', 'O', 'O', 'O', 'O', 'O', 'O', 'B-SEAS', 'I-SEAS', 'O', 'O', 'O', 'O', 'O', 'O', 'O', 'O', 'O', 'O', 'O', 'O', 'O']\n",
      "['', [], [], [], '', '', '', '', '', '', [], [], '', '', '', '', '', '', '', '', '', '', '', '', '', '', '', '', '', '', '', '', '', '', '', '', '', '', '', '', '', '', '', '', '', '', '', '', '', '', '', '', '', '', '', '', '', '', '', '', '', '', '', '', '', '', '', '', '', '', [], [], '', '', '', '', '', '', '', '', '', '', '', '', '']\n",
      "\n",
      "True\n",
      "[(1, 3, 0), (10, 11, 1), (70, 71, 3)]\n",
      "[((1, 3, 0), (10, 11, 1), 0)]\n",
      "predict\n",
      "[(1, 3, 0), (10, 11, 1), (70, 71, 3)]\n",
      "[]\n",
      "=====================================\n",
      "Batch entity score\n",
      "precision  \t recall  \t fbeta_score  \t\n",
      "(0.8734177215189873, 0.8961038961038961, 0.8846153846153846, None)\n",
      "\n",
      "Batch relation score\n",
      "precision  \t recall  \t fbeta_score  \t\n",
      "(0.75, 0.5, 0.6, None)\n",
      "\n",
      "p_r_fscore\n",
      "precision  \t recall  \t fbeta_score  \t\n",
      "(0.74999999953125, 0.49999999979166665, 0.5999999949) 12 4 0 12\n",
      "===========================================\n",
      "['質', '地', '清', '爽', '不', '黏', '膩']\n",
      "['B-SENS', 'I-SENS', 'B-PERC', 'I-PERC', 'O', 'B-PERC', 'I-PERC']\n",
      "[['Feel-0-A'], ['Feel-0-A'], ['Feel-0-B'], ['Feel-0-B'], '', [], []]\n",
      "\n",
      "Predict output\n",
      "['B-SENS', 'I-SENS', 'B-PERC', 'I-PERC', 'O', 'B-PERC', 'I-PERC']\n",
      "[['Feel-1-A', 'Feel-0-A'], ['Feel-1-A', 'Feel-0-A'], ['Feel-0-B'], ['Feel-0-B'], '', ['Feel-1-B'], ['Feel-1-B']]\n",
      "\n",
      "True\n",
      "[(0, 1, 2), (2, 3, 4), (5, 6, 4)]\n",
      "[((0, 1, 2), (2, 3, 4), 2)]\n",
      "predict\n",
      "[(0, 1, 2), (2, 3, 4), (5, 6, 4)]\n",
      "[((0, 1, 2), (2, 3, 4), 2), ((0, 1, 2), (5, 6, 4), 2)]\n",
      "=====================================\n",
      "['白', ',', '白', ',', '白', '.', '夏', '天', '就', '是', '要', '白', ',', '才', '會', '漂', '亮', '.', '今', '天', '很', '開', '心', '能', '試', '用', '到', '\"', 'f', 'u', 'n', 'c', 'a', 'r', 'e', '船', '井', '生', '醫', 'A', 'C', '-', '1', '1', '超', '光', '速', '美', '白', '精', '華', '\"']\n",
      "['O', 'O', 'O', 'O', 'O', 'O', 'B-SEAS', 'I-SEAS', 'O', 'O', 'O', 'O', 'O', 'O', 'O', 'O', 'O', 'O', 'O', 'O', 'O', 'O', 'O', 'O', 'O', 'O', 'O', 'O', 'O', 'O', 'O', 'O', 'O', 'O', 'O', 'O', 'O', 'O', 'O', 'O', 'O', 'O', 'O', 'O', 'O', 'O', 'O', 'O', 'O', 'O', 'O', 'O']\n",
      "['', '', '', '', '', '', [], [], '', '', '', '', '', '', '', '', '', '', '', '', '', '', '', '', '', '', '', '', '', '', '', '', '', '', '', '', '', '', '', '', '', '', '', '', '', '', '', '', '', '', '', '']\n",
      "\n",
      "Predict output\n",
      "['O', 'O', 'O', 'O', 'O', 'O', 'B-SEAS', 'I-SEAS', 'O', 'O', 'O', 'O', 'O', 'O', 'O', 'O', 'O', 'O', 'O', 'O', 'O', 'O', 'O', 'O', 'O', 'O', 'O', 'O', 'O', 'O', 'O', 'O', 'O', 'O', 'O', 'O', 'O', 'O', 'O', 'O', 'O', 'O', 'O', 'O', 'O', 'O', 'O', 'O', 'O', 'O', 'O', 'O']\n",
      "['', '', '', '', '', '', [], [], '', '', '', '', '', '', '', '', '', '', '', '', '', '', '', '', '', '', '', '', '', '', '', '', '', '', '', '', '', '', '', '', '', '', '', '', '', '', '', '', '', '', '', '']\n",
      "\n",
      "True\n",
      "[(6, 7, 3)]\n",
      "[]\n",
      "predict\n",
      "[(6, 7, 3)]\n",
      "[]\n",
      "=====================================\n",
      "['在', '夏', '天', '紫', '外', '線', '很', '強', ',', '皮', '膚', '很', '容', '易', '曬', '黑', '、', '曬', '傷', ',', '曬', '黑', '了', '還', '能', '慢', '慢', '白', '回', '來', ',', '曬', '出', '斑', '來', '就', '難', '搞', ',', '除', '了', '多', '吃', '含', '維', '他', '命', 'C', '的', '食', '物', ',', '凱', '薩', '琳', '也', '會', '訴', '求', '美', '白', '保', '養', '品', ',', '希', '望', '能', '夠', '加', '快', '白', '回', '來', '的', '速', '度']\n",
      "['O', 'B-SEAS', 'I-SEAS', 'O', 'O', 'O', 'O', 'O', 'O', 'O', 'O', 'O', 'O', 'O', 'O', 'O', 'O', 'O', 'O', 'O', 'O', 'O', 'O', 'O', 'O', 'O', 'O', 'O', 'O', 'O', 'O', 'O', 'O', 'O', 'O', 'O', 'O', 'O', 'O', 'O', 'O', 'O', 'O', 'O', 'O', 'O', 'O', 'O', 'O', 'O', 'O', 'O', 'O', 'O', 'O', 'O', 'O', 'O', 'O', 'O', 'O', 'O', 'O', 'O', 'O', 'O', 'O', 'O', 'O', 'O', 'O', 'O', 'O', 'O', 'O', 'O', 'O']\n",
      "['', [], [], '', '', '', '', '', '', '', '', '', '', '', '', '', '', '', '', '', '', '', '', '', '', '', '', '', '', '', '', '', '', '', '', '', '', '', '', '', '', '', '', '', '', '', '', '', '', '', '', '', '', '', '', '', '', '', '', '', '', '', '', '', '', '', '', '', '', '', '', '', '', '', '', '', '']\n",
      "\n",
      "Predict output\n",
      "['O', 'B-SEAS', 'I-SEAS', 'O', 'O', 'O', 'O', 'O', 'O', 'O', 'O', 'O', 'O', 'O', 'O', 'O', 'O', 'O', 'O', 'O', 'O', 'O', 'O', 'O', 'O', 'O', 'O', 'O', 'O', 'O', 'O', 'O', 'O', 'O', 'O', 'O', 'O', 'O', 'O', 'O', 'O', 'O', 'O', 'O', 'O', 'O', 'O', 'O', 'O', 'O', 'O', 'O', 'O', 'O', 'O', 'O', 'O', 'O', 'O', 'O', 'O', 'O', 'O', 'O', 'O', 'O', 'O', 'O', 'O', 'O', 'O', 'O', 'O', 'O', 'O', 'O', 'O']\n",
      "['', [], [], '', '', '', '', '', '', '', '', '', '', '', '', '', '', '', '', '', '', '', '', '', '', '', '', '', '', '', '', '', '', '', '', '', '', '', '', '', '', '', '', '', '', '', '', '', '', '', '', '', '', '', '', '', '', '', '', '', '', '', '', '', '', '', '', '', '', '', '', '', '', '', '', '', '']\n",
      "\n",
      "True\n",
      "[(1, 2, 3)]\n",
      "[]\n",
      "predict\n",
      "[(1, 2, 3)]\n",
      "[]\n",
      "=====================================\n",
      "['而', '且', '很', '清', '爽', ',', '臉', '上', '超', '舒', '服', '的', ',', '如', '果', '當', '成', '冬', '天', '保', '養', '可', '能', '會', '顯', '得', '不', '夠', ',', '可', '以', '再', '加', '上', '滋', '潤', '點', '的', '產', '品', ',', '畢', '竟', '冬', '天', '皮', '膚', '最', '怕', '太', '乾', '燥']\n",
      "['O', 'O', 'O', 'O', 'O', 'O', 'O', 'O', 'O', 'O', 'O', 'O', 'O', 'O', 'O', 'O', 'O', 'B-SEAS', 'I-SEAS', 'B-FUNC', 'I-FUNC', 'O', 'O', 'O', 'O', 'O', 'O', 'O', 'O', 'O', 'O', 'O', 'O', 'O', 'O', 'O', 'O', 'O', 'O', 'O', 'O', 'O', 'O', 'B-SEAS', 'I-SEAS', 'O', 'O', 'O', 'O', 'O', 'O', 'O']\n",
      "['', '', '', '', '', '', '', '', '', '', '', '', '', '', '', '', '', [], [], [], [], '', '', '', '', '', '', '', '', '', '', '', '', '', '', '', '', '', '', '', '', '', '', [], [], '', '', '', '', '', '', '']\n",
      "\n",
      "Predict output\n",
      "['O', 'O', 'O', 'O', 'O', 'O', 'O', 'O', 'O', 'O', 'O', 'O', 'O', 'O', 'O', 'O', 'O', 'B-SEAS', 'I-SEAS', 'B-FUNC', 'I-FUNC', 'O', 'O', 'O', 'O', 'O', 'O', 'O', 'O', 'O', 'O', 'O', 'O', 'O', 'O', 'O', 'O', 'O', 'O', 'O', 'O', 'O', 'O', 'B-SEAS', 'I-SEAS', 'O', 'O', 'O', 'O', 'O', 'O', 'O']\n",
      "['', '', '', '', '', '', '', '', '', '', '', '', '', '', '', '', '', [], [], [], [], '', '', '', '', '', '', '', '', '', '', '', '', '', '', '', '', '', '', '', '', '', '', [], [], '', '', '', '', '', '', '']\n",
      "\n",
      "True\n",
      "[(17, 18, 3), (19, 20, 1), (43, 44, 3)]\n",
      "[]\n",
      "predict\n",
      "[(17, 18, 3), (19, 20, 1), (43, 44, 3)]\n",
      "[]\n",
      "=====================================\n",
      "['產', '品', '用', '起', '來', '十', '分', '保', '濕', ',', '原', '本', '冬', '天', '都', '非', '常', '乾', '燥', '需', '要', '大', '量', '水', '分', '及', '護', '唇', '膏', '的', '嘴', '唇', ',', '也', '脫', '離', '須', '隨', '身', '攜', '帶', '的', '麻', '煩', '了']\n",
      "['O', 'O', 'O', 'O', 'O', 'O', 'O', 'B-FUNC', 'I-FUNC', 'O', 'O', 'O', 'B-SEAS', 'I-SEAS', 'O', 'O', 'O', 'O', 'O', 'O', 'O', 'O', 'O', 'O', 'O', 'O', 'O', 'O', 'O', 'O', 'O', 'O', 'O', 'O', 'O', 'O', 'O', 'O', 'O', 'O', 'O', 'O', 'O', 'O', 'O']\n",
      "['', '', '', '', '', '', '', ['ApplyIn-0-A'], ['ApplyIn-0-A'], '', '', '', ['ApplyIn-0-B'], ['ApplyIn-0-B'], '', '', '', '', '', '', '', '', '', '', '', '', '', '', '', '', '', '', '', '', '', '', '', '', '', '', '', '', '', '', '']\n",
      "\n",
      "Predict output\n",
      "['O', 'O', 'O', 'O', 'O', 'O', 'O', 'B-FUNC', 'I-FUNC', 'O', 'O', 'O', 'B-SEAS', 'I-SEAS', 'O', 'O', 'O', 'O', 'O', 'O', 'O', 'O', 'O', 'O', 'O', 'O', 'O', 'O', 'O', 'O', 'O', 'O', 'O', 'O', 'O', 'O', 'O', 'O', 'O', 'O', 'O', 'O', 'O', 'O', 'O']\n",
      "['', '', '', '', '', '', '', [], [], '', '', '', [], [], '', '', '', '', '', '', '', '', '', '', '', '', '', '', '', '', '', '', '', '', '', '', '', '', '', '', '', '', '', '', '']\n",
      "\n",
      "True\n",
      "[(7, 8, 1), (12, 13, 3)]\n",
      "[((7, 8, 1), (12, 13, 3), 1)]\n",
      "predict\n",
      "[(7, 8, 1), (12, 13, 3)]\n",
      "[]\n",
      "=====================================\n"
     ]
    },
    {
     "name": "stdout",
     "output_type": "stream",
     "text": [
      "['擠', '出', '來', '時', '是', '像', '乳', '液', '般', '的', '質', '地', ',', '稍', '稍', '推', '開', '還', '滿', '好', '推', '的', ',', '有', '種', '滑', '順', '的', '感', '覺']\n",
      "['O', 'O', 'O', 'O', 'O', 'O', 'O', 'O', 'O', 'O', 'B-SENS', 'I-SENS', 'O', 'O', 'O', 'O', 'O', 'O', 'O', 'B-PERC', 'I-PERC', 'O', 'O', 'O', 'O', 'B-PERC', 'I-PERC', 'O', 'O', 'O']\n",
      "['', '', '', '', '', '', '', '', '', '', ['Feel-1-A', 'Feel-0-A'], ['Feel-1-A', 'Feel-0-A'], '', '', '', '', '', '', '', ['Feel-0-B'], ['Feel-0-B'], '', '', '', '', ['Feel-1-B'], ['Feel-1-B'], '', '', '']\n",
      "\n",
      "Predict output\n",
      "['O', 'O', 'O', 'O', 'O', 'O', 'O', 'O', 'O', 'O', 'B-SENS', 'I-SENS', 'O', 'O', 'O', 'O', 'O', 'O', 'O', 'B-PERC', 'I-PERC', 'O', 'O', 'O', 'O', 'B-PERC', 'I-PERC', 'O', 'O', 'O']\n",
      "['', '', '', '', '', '', '', '', '', '', ['Feel-1-A', 'Feel-0-A'], ['Feel-1-A', 'Feel-0-A'], '', '', '', '', '', '', '', ['Feel-0-B'], ['Feel-0-B'], '', '', '', '', ['Feel-1-B'], ['Feel-1-B'], '', '', '']\n",
      "\n",
      "True\n",
      "[(10, 11, 2), (19, 20, 4), (25, 26, 4)]\n",
      "[((10, 11, 2), (19, 20, 4), 2), ((10, 11, 2), (25, 26, 4), 2)]\n",
      "predict\n",
      "[(10, 11, 2), (19, 20, 4), (25, 26, 4)]\n",
      "[((10, 11, 2), (19, 20, 4), 2), ((10, 11, 2), (25, 26, 4), 2)]\n",
      "=====================================\n",
      "['•', '保', '濕', '精', '華', ',', '滑', '順', '水', '潤', '觸', '感']\n",
      "['O', 'O', 'O', 'O', 'O', 'O', 'B-PERC', 'I-PERC', 'B-PERC', 'I-PERC', 'B-SENS', 'I-SENS']\n",
      "['', '', '', '', '', '', ['Feel-0-B'], ['Feel-0-B'], [], [], [], []]\n",
      "\n",
      "Predict output\n",
      "['O', 'B-FUNC', 'I-FUNC', 'O', 'O', 'O', 'B-PERC', 'I-PERC', 'B-PERC', 'I-PERC', 'B-SENS', 'I-SENS']\n",
      "['', [], [], '', '', '', ['Feel-0-B'], ['Feel-0-B'], [], [], [], []]\n",
      "\n",
      "True\n",
      "[(6, 7, 4), (8, 9, 4), (10, 11, 2)]\n",
      "[]\n",
      "predict\n",
      "[(1, 2, 1), (6, 7, 4), (8, 9, 4), (10, 11, 2)]\n",
      "[]\n",
      "=====================================\n",
      "['因', '為', '是', '精', '華', '露', '狀', '的', '保', '濕', '露', ',', '所', '以', '在', '這', '種', '炎', '熱', '的', '夏', '天', '使', '用', '起', '來', '完', '全', '不', '會', '有', '黏', '膩', '的', '感', '覺', ',', '也', '讓', '我', '的', '臉', '部', '肌', '膚', '油', '水', '達', '到', '平', '衡', ',', '不', '會', '有', '油', '光', '的', '黏', '膩', '感']\n",
      "['O', 'O', 'O', 'O', 'O', 'O', 'O', 'O', 'B-FUNC', 'I-FUNC', 'O', 'O', 'O', 'O', 'O', 'O', 'O', 'O', 'O', 'O', 'B-SEAS', 'I-SEAS', 'O', 'O', 'O', 'O', 'O', 'O', 'O', 'O', 'O', 'O', 'O', 'O', 'O', 'O', 'O', 'O', 'O', 'O', 'O', 'O', 'O', 'O', 'O', 'O', 'O', 'O', 'O', 'O', 'O', 'O', 'O', 'O', 'O', 'O', 'O', 'O', 'O', 'O', 'O']\n",
      "['', '', '', '', '', '', '', '', ['ApplyIn-0-A'], ['ApplyIn-0-A'], '', '', '', '', '', '', '', '', '', '', ['ApplyIn-0-B'], ['ApplyIn-0-B'], '', '', '', '', '', '', '', '', '', '', '', '', '', '', '', '', '', '', '', '', '', '', '', '', '', '', '', '', '', '', '', '', '', '', '', '', '', '', '']\n",
      "\n",
      "Predict output\n",
      "['O', 'O', 'O', 'O', 'O', 'O', 'O', 'O', 'O', 'O', 'O', 'O', 'O', 'O', 'O', 'O', 'O', 'O', 'O', 'O', 'B-SEAS', 'I-SEAS', 'O', 'O', 'O', 'O', 'O', 'O', 'O', 'O', 'O', 'O', 'O', 'O', 'O', 'O', 'O', 'O', 'O', 'O', 'O', 'O', 'O', 'O', 'O', 'O', 'O', 'O', 'O', 'O', 'O', 'O', 'O', 'O', 'O', 'O', 'O', 'O', 'O', 'O', 'O']\n",
      "['', '', '', '', '', '', '', '', '', '', '', '', '', '', '', '', '', '', '', '', [], [], '', '', '', '', '', '', '', '', '', '', '', '', '', '', '', '', '', '', '', '', '', '', '', '', '', '', '', '', '', '', '', '', '', '', '', '', '', '', '']\n",
      "\n",
      "True\n",
      "[(8, 9, 1), (20, 21, 3)]\n",
      "[((8, 9, 1), (20, 21, 3), 1)]\n",
      "predict\n",
      "[(20, 21, 3)]\n",
      "[]\n",
      "=====================================\n",
      "['質', '地', '上', '有', '點', '像', '果', '凍', '般', '凝', '露', '狀', ',', '可', '是', '卻', '一', '點', '也', '不', '濃', '稠', ',', '流', '動', '性', '很', '好', ',', '很', '輕', '盈', '水', '感', '的', '質', '地']\n",
      "['B-SENS', 'I-SENS', 'O', 'O', 'O', 'O', 'O', 'O', 'O', 'B-PERC', 'I-PERC', 'I-PERC', 'O', 'O', 'O', 'O', 'O', 'O', 'O', 'O', 'B-PERC', 'I-PERC', 'O', 'O', 'O', 'O', 'O', 'O', 'O', 'O', 'O', 'O', 'O', 'O', 'O', 'B-SENS', 'I-SENS']\n",
      "[['Feel-0-A'], ['Feel-0-A'], '', '', '', '', '', '', '', ['Feel-0-B'], ['Feel-0-B'], ['Feel-0-B'], '', '', '', '', '', '', '', '', [], [], '', '', '', '', '', '', '', '', '', '', '', '', '', [], []]\n",
      "\n",
      "Predict output\n",
      "['B-SENS', 'I-SENS', 'O', 'O', 'O', 'O', 'O', 'O', 'O', 'B-PERC', 'I-PERC', 'I-PERC', 'O', 'O', 'O', 'O', 'O', 'O', 'O', 'O', 'B-PERC', 'I-PERC', 'O', 'O', 'O', 'O', 'O', 'O', 'O', 'O', 'O', 'O', 'O', 'O', 'O', 'B-SENS', 'I-SENS']\n",
      "[['Feel-1-A', 'Feel-0-A'], ['Feel-1-A', 'Feel-0-A'], '', '', '', '', '', '', '', ['Feel-0-B'], ['Feel-0-B'], ['Feel-0-B'], '', '', '', '', '', '', '', '', ['Feel-1-B'], ['Feel-1-B'], '', '', '', '', '', '', '', '', '', '', '', '', '', [], []]\n",
      "\n",
      "True\n",
      "[(0, 1, 2), (9, 11, 4), (20, 21, 4), (35, 36, 2)]\n",
      "[((0, 1, 2), (9, 11, 4), 2)]\n",
      "predict\n",
      "[(0, 1, 2), (9, 11, 4), (20, 21, 4), (35, 36, 2)]\n",
      "[((0, 1, 2), (9, 11, 4), 2), ((0, 1, 2), (20, 21, 4), 2)]\n",
      "=====================================\n",
      "['我', '想', '.', '.', '.', '這', '款', '應', '該', '是', '適', '合', '油', '性', '肌', '的', '人', ',', '對', '我', '而', '且', '保', '濕', '度', '真', '的', '是', '很', '不', '夠', ',']\n",
      "['O', 'O', 'O', 'O', 'O', 'O', 'O', 'O', 'O', 'O', 'O', 'O', 'B-STAT', 'I-STAT', 'I-STAT', 'O', 'O', 'O', 'O', 'O', 'O', 'O', 'B-FUNC', 'I-FUNC', 'I-FUNC', 'O', 'O', 'O', 'O', 'O', 'O', 'O']\n",
      "['', '', '', '', '', '', '', '', '', '', '', '', ['ApplyTo-0-B'], ['ApplyTo-0-B'], ['ApplyTo-0-B'], '', '', '', '', '', '', '', ['ApplyTo-0-A'], ['ApplyTo-0-A'], ['ApplyTo-0-A'], '', '', '', '', '', '', '']\n",
      "\n",
      "Predict output\n",
      "['O', 'O', 'O', 'O', 'O', 'O', 'O', 'O', 'O', 'O', 'O', 'O', 'B-STAT', 'I-STAT', 'I-STAT', 'O', 'O', 'O', 'O', 'O', 'O', 'O', 'B-FUNC', 'I-FUNC', 'I-FUNC', 'O', 'O', 'O', 'O', 'O', 'O', 'O']\n",
      "['', '', '', '', '', '', '', '', '', '', '', '', [], [], [], '', '', '', '', '', '', '', [], [], [], '', '', '', '', '', '', '']\n",
      "\n",
      "True\n",
      "[(12, 14, 0), (22, 24, 1)]\n",
      "[((12, 14, 0), (22, 24, 1), 0)]\n",
      "predict\n",
      "[(12, 14, 0), (22, 24, 1)]\n",
      "[]\n",
      "=====================================\n",
      "['在', '冬', '天', ',', '保', '濕', '度', '也', '還', '不', '錯', ',', '肌', '膚', '也', '感', '覺', '有', '變', '水', '嫩', ',']\n",
      "['O', 'B-SEAS', 'I-SEAS', 'O', 'B-FUNC', 'I-FUNC', 'I-FUNC', 'O', 'O', 'O', 'O', 'O', 'O', 'O', 'O', 'O', 'O', 'O', 'O', 'O', 'O', 'O']\n",
      "['', ['ApplyIn-0-B'], ['ApplyIn-0-B'], '', ['ApplyIn-0-A'], ['ApplyIn-0-A'], ['ApplyIn-0-A'], '', '', '', '', '', '', '', '', '', '', '', '', '', '', '']\n",
      "\n",
      "Predict output\n",
      "['O', 'B-SEAS', 'I-SEAS', 'O', 'B-FUNC', 'I-FUNC', 'I-FUNC', 'O', 'O', 'O', 'O', 'O', 'O', 'O', 'O', 'O', 'O', 'O', 'O', 'O', 'O', 'O']\n",
      "['', ['ApplyIn-0-B'], ['ApplyIn-0-B'], '', ['ApplyIn-0-A'], ['ApplyIn-0-A'], [], '', '', '', '', '', '', '', '', '', '', '', '', '', '', '']\n",
      "\n",
      "True\n",
      "[(1, 2, 3), (4, 6, 1)]\n",
      "[((1, 2, 3), (4, 6, 1), 1)]\n",
      "predict\n",
      "[(1, 2, 3), (4, 6, 1)]\n",
      "[]\n",
      "=====================================\n",
      "['一', '直', '就', '得', '那', '個', '味', '道', '很', '嗆', '雖', '然', '它', '敷', '起', '來', '冰', '冰', '涼', '涼', '的', '夏', '天', '很', '舒', '服']\n",
      "['O', 'O', 'O', 'O', 'O', 'O', 'B-SENS', 'I-SENS', 'O', 'B-PERC', 'O', 'O', 'O', 'O', 'O', 'O', 'O', 'O', 'O', 'O', 'O', 'B-SEAS', 'I-SEAS', 'O', 'O', 'O']\n",
      "['', '', '', '', '', '', ['Feel-0-A'], ['Feel-0-A'], '', ['Feel-0-B'], '', '', '', '', '', '', '', '', '', '', '', [], [], '', '', '']\n",
      "\n",
      "Predict output\n",
      "['O', 'O', 'O', 'O', 'O', 'O', 'O', 'O', 'O', 'O', 'O', 'O', 'O', 'O', 'O', 'O', 'O', 'O', 'O', 'O', 'O', 'B-SEAS', 'I-SEAS', 'O', 'O', 'O']\n",
      "['', '', '', '', '', '', '', '', '', '', '', '', '', '', '', '', '', '', '', '', '', [], [], '', '', '']\n",
      "\n",
      "True\n",
      "[(6, 7, 2), (9, 9, 4), (21, 22, 3)]\n",
      "[((6, 7, 2), (9, 9, 4), 2)]\n",
      "predict\n",
      "[(21, 22, 3)]\n",
      "[]\n",
      "=====================================\n",
      "['保', '濕', '程', '度', '在', '夏', '天', '來', '說', '足', '夠', ',', '雖', '然', '無', '法', '淡', '掉', '已', '有', '的', '班', '點', ',', '但', '是', '覺', '得', '裡', '面', '含', '的', '眾', '多', '的', '美', '白', '成', '分', '(', '傳', '明', '酸', '、', '麴', '酸', '、', '熊', '果', '素', ')', ',', '至', '少', '能', '讓', '斑', '點', '不', '再', '生', '成']\n",
      "['B-FUNC', 'I-FUNC', 'O', 'O', 'O', 'B-SEAS', 'I-SEAS', 'O', 'O', 'O', 'O', 'O', 'O', 'O', 'O', 'O', 'O', 'O', 'O', 'O', 'O', 'O', 'O', 'O', 'O', 'O', 'O', 'O', 'O', 'O', 'O', 'O', 'O', 'O', 'O', 'O', 'O', 'O', 'O', 'O', 'O', 'O', 'O', 'O', 'O', 'O', 'O', 'O', 'O', 'O', 'O', 'O', 'O', 'O', 'O', 'O', 'O', 'O', 'O', 'O', 'O', 'O']\n",
      "[['ApplyIn-0-A'], ['ApplyIn-0-A'], '', '', '', ['ApplyIn-0-B'], ['ApplyIn-0-B'], '', '', '', '', '', '', '', '', '', '', '', '', '', '', '', '', '', '', '', '', '', '', '', '', '', '', '', '', '', '', '', '', '', '', '', '', '', '', '', '', '', '', '', '', '', '', '', '', '', '', '', '', '', '', '']\n",
      "\n",
      "Predict output\n",
      "['B-FUNC', 'I-FUNC', 'O', 'O', 'O', 'B-SEAS', 'I-SEAS', 'O', 'O', 'O', 'O', 'O', 'O', 'O', 'O', 'O', 'O', 'O', 'O', 'O', 'O', 'O', 'O', 'O', 'O', 'O', 'O', 'O', 'O', 'O', 'O', 'O', 'O', 'O', 'O', 'B-FUNC', 'I-FUNC', 'O', 'O', 'O', 'O', 'O', 'O', 'O', 'O', 'O', 'O', 'O', 'O', 'O', 'O', 'O', 'O', 'O', 'O', 'O', 'O', 'O', 'O', 'O', 'O', 'O']\n",
      "[['ApplyIn-0-A'], ['ApplyIn-0-A'], '', '', '', ['ApplyIn-0-B'], ['ApplyIn-0-B'], '', '', '', '', '', '', '', '', '', '', '', '', '', '', '', '', '', '', '', '', '', '', '', '', '', '', '', '', [], [], '', '', '', '', '', '', '', '', '', '', '', '', '', '', '', '', '', '', '', '', '', '', '', '', '']\n",
      "\n",
      "True\n",
      "[(0, 1, 1), (5, 6, 3)]\n",
      "[((0, 1, 1), (5, 6, 3), 1)]\n",
      "predict\n",
      "[(0, 1, 1), (5, 6, 3), (35, 36, 1)]\n",
      "[((0, 1, 1), (5, 6, 3), 1)]\n",
      "=====================================\n"
     ]
    },
    {
     "name": "stdout",
     "output_type": "stream",
     "text": [
      "['夏', '季', '時', '兩', '頰', '略', '乾', 'T', '字', '極', '油', ',', '不', '認', '真', '做', '好', '保', '濕', '的', '話', '常', '常', '晚', '上', '妝', '都', '浮', '到', '細', '毛', '上', '了']\n",
      "['B-SEAS', 'I-SEAS', 'O', 'O', 'O', 'O', 'O', 'O', 'O', 'O', 'O', 'O', 'O', 'O', 'O', 'O', 'O', 'O', 'O', 'O', 'O', 'O', 'O', 'O', 'O', 'O', 'O', 'O', 'O', 'O', 'O', 'O', 'O']\n",
      "[[], [], '', '', '', '', '', '', '', '', '', '', '', '', '', '', '', '', '', '', '', '', '', '', '', '', '', '', '', '', '', '', '']\n",
      "\n",
      "Predict output\n",
      "['B-SEAS', 'I-SEAS', 'O', 'O', 'O', 'O', 'O', 'O', 'O', 'O', 'O', 'O', 'O', 'O', 'O', 'O', 'O', 'O', 'O', 'O', 'O', 'O', 'O', 'O', 'O', 'O', 'O', 'O', 'O', 'O', 'O', 'O', 'O']\n",
      "[[], [], '', '', '', '', '', '', '', '', '', '', '', '', '', '', '', '', '', '', '', '', '', '', '', '', '', '', '', '', '', '', '']\n",
      "\n",
      "True\n",
      "[(0, 1, 3)]\n",
      "[]\n",
      "predict\n",
      "[(0, 1, 3)]\n",
      "[]\n",
      "=====================================\n",
      "['保', '濕', '度', '普', '通', ',', '對', '於', '個', '人', '的', '乾', '性', '皮', '膚', '並', '沒', '有', '感', '覺', '較', '保', '濕']\n",
      "['B-FUNC', 'I-FUNC', 'I-FUNC', 'O', 'O', 'O', 'O', 'O', 'O', 'O', 'O', 'B-STAT', 'I-STAT', 'I-STAT', 'I-STAT', 'O', 'O', 'O', 'O', 'O', 'O', 'B-FUNC', 'I-FUNC']\n",
      "[[], [], [], '', '', '', '', '', '', '', '', [], [], [], [], '', '', '', '', '', '', [], []]\n",
      "\n",
      "Predict output\n",
      "['B-FUNC', 'I-FUNC', 'I-FUNC', 'O', 'O', 'O', 'O', 'O', 'O', 'O', 'O', 'B-STAT', 'I-STAT', 'I-STAT', 'I-STAT', 'O', 'O', 'O', 'O', 'O', 'O', 'B-FUNC', 'I-FUNC']\n",
      "[[], [], [], '', '', '', '', '', '', '', '', [], [], [], [], '', '', '', '', '', '', [], []]\n",
      "\n",
      "True\n",
      "[(0, 2, 1), (11, 14, 0), (21, 22, 1)]\n",
      "[]\n",
      "predict\n",
      "[(0, 2, 1), (11, 14, 0), (21, 22, 1)]\n",
      "[]\n",
      "=====================================\n",
      "['所', '以', '如', '果', '喜', '歡', '粉', '餅', '系', '的', '水', '水', ',', '或', '是', '容', '易', '出', '油', '的', '人', ',', '這', '款', '真', '的', '不', '錯', ',', '而', '且', '夏', '天', '使', '用', '會', '更', '有', '感', '覺', ',', '因', '為', '它', '有', '控', '油', '的', '效', '果']\n",
      "['O', 'O', 'O', 'O', 'O', 'O', 'O', 'O', 'O', 'O', 'O', 'O', 'O', 'O', 'O', 'O', 'O', 'O', 'O', 'O', 'O', 'O', 'O', 'O', 'O', 'O', 'O', 'O', 'O', 'O', 'O', 'B-SEAS', 'I-SEAS', 'O', 'O', 'O', 'O', 'O', 'O', 'O', 'O', 'O', 'O', 'O', 'O', 'B-FUNC', 'I-FUNC', 'O', 'O', 'O']\n",
      "['', '', '', '', '', '', '', '', '', '', '', '', '', '', '', '', '', '', '', '', '', '', '', '', '', '', '', '', '', '', '', ['ApplyIn-0-B'], ['ApplyIn-0-B'], '', '', '', '', '', '', '', '', '', '', '', '', ['ApplyIn-0-A'], ['ApplyIn-0-A'], '', '', '']\n",
      "\n",
      "Predict output\n",
      "['O', 'O', 'O', 'O', 'O', 'O', 'O', 'O', 'O', 'O', 'O', 'O', 'O', 'O', 'O', 'O', 'O', 'O', 'O', 'O', 'O', 'O', 'O', 'O', 'O', 'O', 'O', 'O', 'O', 'O', 'O', 'B-SEAS', 'I-SEAS', 'O', 'O', 'O', 'O', 'O', 'O', 'O', 'O', 'O', 'O', 'O', 'O', 'B-FUNC', 'I-FUNC', 'O', 'O', 'O']\n",
      "['', '', '', '', '', '', '', '', '', '', '', '', '', '', '', '', '', '', '', '', '', '', '', '', '', '', '', '', '', '', '', [], [], '', '', '', '', '', '', '', '', '', '', '', '', [], [], '', '', '']\n",
      "\n",
      "True\n",
      "[(31, 32, 3), (45, 46, 1)]\n",
      "[((31, 32, 3), (45, 46, 1), 1)]\n",
      "predict\n",
      "[(31, 32, 3), (45, 46, 1)]\n",
      "[]\n",
      "=====================================\n",
      "['雖', '然', '有', '保', '濕', '效', '果', ',', '但', '是', '對', '過', '敏', '膚', '質', '並', '沒', '有', '任', '何', '幫', '助']\n",
      "['O', 'O', 'O', 'B-FUNC', 'I-FUNC', 'O', 'O', 'O', 'O', 'O', 'O', 'B-STAT', 'I-STAT', 'I-STAT', 'I-STAT', 'O', 'O', 'O', 'O', 'O', 'O', 'O']\n",
      "['', '', '', [], [], '', '', '', '', '', '', [], [], [], [], '', '', '', '', '', '', '']\n",
      "\n",
      "Predict output\n",
      "['O', 'O', 'O', 'B-FUNC', 'I-FUNC', 'O', 'O', 'O', 'O', 'O', 'O', 'B-STAT', 'I-STAT', 'I-STAT', 'I-STAT', 'O', 'O', 'O', 'O', 'O', 'O', 'O']\n",
      "['', '', '', [], [], '', '', '', '', '', '', [], [], [], [], '', '', '', '', '', '', '']\n",
      "\n",
      "True\n",
      "[(3, 4, 1), (11, 14, 0)]\n",
      "[]\n",
      "predict\n",
      "[(3, 4, 1), (11, 14, 0)]\n",
      "[]\n",
      "=====================================\n",
      "['我', '覺', '得', '它', '很', '好', '用', ',', '而', '且', '價', '格', '不', '貴', ',', '夏', '天', '要', '來', '了', ',', '擦', '在', '身', '上', '可', '美', '白', '又', '保', '濕', ',', '是', '一', '個', '很', '好', '的', '產', '品']\n",
      "['O', 'O', 'O', 'O', 'O', 'O', 'O', 'O', 'O', 'O', 'O', 'O', 'O', 'O', 'O', 'B-SEAS', 'I-SEAS', 'O', 'O', 'O', 'O', 'O', 'O', 'O', 'O', 'O', 'B-FUNC', 'I-FUNC', 'O', 'B-FUNC', 'I-FUNC', 'O', 'O', 'O', 'O', 'O', 'O', 'O', 'O', 'O']\n",
      "['', '', '', '', '', '', '', '', '', '', '', '', '', '', '', ['ApplyIn-1-B', 'ApplyIn-0-B'], ['ApplyIn-1-B', 'ApplyIn-0-B'], '', '', '', '', '', '', '', '', '', ['ApplyIn-0-A'], ['ApplyIn-0-A'], '', ['ApplyIn-1-A'], ['ApplyIn-1-A'], '', '', '', '', '', '', '', '', '']\n",
      "\n",
      "Predict output\n",
      "['O', 'O', 'O', 'O', 'O', 'O', 'O', 'O', 'O', 'O', 'O', 'O', 'O', 'O', 'O', 'B-SEAS', 'I-SEAS', 'O', 'O', 'O', 'O', 'O', 'O', 'O', 'O', 'O', 'B-FUNC', 'I-FUNC', 'O', 'B-FUNC', 'I-FUNC', 'O', 'O', 'O', 'O', 'O', 'O', 'O', 'O', 'O']\n",
      "['', '', '', '', '', '', '', '', '', '', '', '', '', '', '', ['ApplyIn-0-B'], ['ApplyIn-0-B'], '', '', '', '', '', '', '', '', '', [], [], '', ['ApplyIn-0-A'], ['ApplyIn-0-A'], '', '', '', '', '', '', '', '', '']\n",
      "\n",
      "True\n",
      "[(15, 16, 3), (26, 27, 1), (29, 30, 1)]\n",
      "[((15, 16, 3), (26, 27, 1), 1), ((15, 16, 3), (29, 30, 1), 1)]\n",
      "predict\n",
      "[(15, 16, 3), (26, 27, 1), (29, 30, 1)]\n",
      "[((15, 16, 3), (29, 30, 1), 1)]\n",
      "=====================================\n",
      "['這', '次', '試', '用', '的', '是', 'K', 'a', 'n', 'e', 'b', 'o', '的', 'd', 'e', 'w', 's', 'u', 'p', 'e', 'r', 'i', 'o', 'r', '潤', '活', '精', '純', '乳', ',', '剛', '好', '我', '正', '在', '找', '冬', '天', '日', '間', '用', '的', '乳', '液', ',', '這', '款', '真', '的', '蠻', '保', '濕', '的']\n",
      "['O', 'O', 'O', 'O', 'O', 'O', 'O', 'O', 'O', 'O', 'O', 'O', 'O', 'O', 'O', 'O', 'O', 'O', 'O', 'O', 'O', 'O', 'O', 'O', 'O', 'O', 'O', 'O', 'O', 'O', 'O', 'O', 'O', 'O', 'O', 'O', 'B-SEAS', 'I-SEAS', 'O', 'O', 'O', 'O', 'O', 'O', 'O', 'O', 'O', 'O', 'O', 'O', 'B-FUNC', 'I-FUNC', 'O']\n",
      "['', '', '', '', '', '', '', '', '', '', '', '', '', '', '', '', '', '', '', '', '', '', '', '', '', '', '', '', '', '', '', '', '', '', '', '', ['ApplyIn-0-B'], ['ApplyIn-0-B'], '', '', '', '', '', '', '', '', '', '', '', '', ['ApplyIn-0-A'], ['ApplyIn-0-A'], '']\n",
      "\n",
      "Predict output\n",
      "['O', 'O', 'O', 'O', 'O', 'O', 'O', 'O', 'O', 'O', 'O', 'O', 'O', 'O', 'O', 'O', 'O', 'O', 'O', 'O', 'O', 'O', 'O', 'O', 'O', 'O', 'O', 'O', 'O', 'O', 'O', 'O', 'O', 'O', 'O', 'O', 'B-SEAS', 'I-SEAS', 'O', 'O', 'O', 'O', 'O', 'O', 'O', 'O', 'O', 'O', 'O', 'O', 'B-FUNC', 'I-FUNC', 'O']\n",
      "['', '', '', '', '', '', '', '', '', '', '', '', '', '', '', '', '', '', '', '', '', '', '', '', '', '', '', '', '', '', '', '', '', '', '', '', ['ApplyIn-0-B'], ['ApplyIn-0-B'], '', '', '', '', '', '', '', '', '', '', '', '', ['ApplyIn-0-A'], ['ApplyIn-0-A'], '']\n",
      "\n",
      "True\n",
      "[(36, 37, 3), (50, 51, 1)]\n",
      "[((36, 37, 3), (50, 51, 1), 1)]\n",
      "predict\n",
      "[(36, 37, 3), (50, 51, 1)]\n",
      "[((36, 37, 3), (50, 51, 1), 1)]\n",
      "=====================================\n",
      "['這', '瓶', '還', '蠻', '適', '合', '乾', '肌', '的', '人', '使', '用', ',', '夠', '保', '濕', '哦']\n",
      "['O', 'O', 'O', 'O', 'O', 'O', 'B-STAT', 'I-STAT', 'O', 'O', 'O', 'O', 'O', 'O', 'B-FUNC', 'I-FUNC', 'O']\n",
      "['', '', '', '', '', '', ['ApplyTo-0-B'], ['ApplyTo-0-B'], '', '', '', '', '', '', ['ApplyTo-0-A'], ['ApplyTo-0-A'], '']\n",
      "\n",
      "Predict output\n",
      "['O', 'O', 'O', 'O', 'O', 'O', 'B-STAT', 'I-STAT', 'O', 'O', 'O', 'O', 'O', 'O', 'B-FUNC', 'I-FUNC', 'O']\n",
      "['', '', '', '', '', '', [], [], '', '', '', '', '', '', [], [], '']\n",
      "\n",
      "True\n",
      "[(6, 7, 0), (14, 15, 1)]\n",
      "[((6, 7, 0), (14, 15, 1), 0)]\n",
      "predict\n",
      "[(6, 7, 0), (14, 15, 1)]\n",
      "[]\n",
      "=====================================\n",
      "['她', '的', '保', '濕', '程', '度', '讓', '我', '有', '點', '吃', '驚', ',', '尤', '其', '在', '冬', '天', ',', '只', '要', '一', '上', '妝', ',', '眼', '周', '跟', '嘴', '角', '容', '易', '有', '裂', '紋', '的', '情', '況', ',']\n",
      "['O', 'O', 'B-FUNC', 'I-FUNC', 'O', 'O', 'O', 'O', 'O', 'O', 'O', 'O', 'O', 'O', 'O', 'O', 'B-SEAS', 'I-SEAS', 'O', 'O', 'O', 'O', 'O', 'O', 'O', 'O', 'O', 'O', 'O', 'O', 'O', 'O', 'O', 'O', 'O', 'O', 'O', 'O', 'O']\n",
      "['', '', ['ApplyIn-0-A'], ['ApplyIn-0-A'], '', '', '', '', '', '', '', '', '', '', '', '', ['ApplyIn-0-B'], ['ApplyIn-0-B'], '', '', '', '', '', '', '', '', '', '', '', '', '', '', '', '', '', '', '', '', '']\n",
      "\n",
      "Predict output\n",
      "['O', 'O', 'B-FUNC', 'I-FUNC', 'O', 'O', 'O', 'O', 'O', 'O', 'O', 'O', 'O', 'O', 'O', 'O', 'B-SEAS', 'I-SEAS', 'O', 'O', 'O', 'O', 'O', 'O', 'O', 'O', 'O', 'O', 'O', 'O', 'O', 'O', 'O', 'O', 'O', 'O', 'O', 'O', 'O']\n",
      "['', '', ['ApplyIn-0-A'], ['ApplyIn-0-A'], '', '', '', '', '', '', '', '', '', '', '', '', ['ApplyIn-0-B'], ['ApplyIn-0-B'], '', '', '', '', '', '', '', '', '', '', '', '', '', '', '', '', '', '', '', '', '']\n",
      "\n",
      "True\n",
      "[(2, 3, 1), (16, 17, 3)]\n",
      "[((2, 3, 1), (16, 17, 3), 1)]\n",
      "predict\n",
      "[(2, 3, 1), (16, 17, 3)]\n",
      "[((2, 3, 1), (16, 17, 3), 1)]\n",
      "=====================================\n",
      "['延', '展', '性', '佳', ',', '質', '地', '相', '當', '好', '推', '勻']\n",
      "['O', 'O', 'O', 'O', 'O', 'B-SENS', 'I-SENS', 'O', 'O', 'B-PERC', 'I-PERC', 'I-PERC']\n",
      "['', '', '', '', '', ['Feel-0-A'], ['Feel-0-A'], '', '', ['Feel-0-B'], ['Feel-0-B'], ['Feel-0-B']]\n",
      "\n",
      "Predict output\n",
      "['O', 'O', 'O', 'O', 'O', 'B-SENS', 'I-SENS', 'O', 'O', 'B-PERC', 'I-PERC', 'I-PERC']\n",
      "['', '', '', '', '', ['Feel-0-A'], ['Feel-0-A'], '', '', ['Feel-0-B'], ['Feel-0-B'], ['Feel-0-B']]\n",
      "\n",
      "True\n",
      "[(5, 6, 2), (9, 11, 4)]\n",
      "[((5, 6, 2), (9, 11, 4), 2)]\n",
      "predict\n",
      "[(5, 6, 2), (9, 11, 4)]\n",
      "[((5, 6, 2), (9, 11, 4), 2)]\n",
      "=====================================\n"
     ]
    },
    {
     "name": "stdout",
     "output_type": "stream",
     "text": [
      "['產', '品', '質', '地', '是', '透', '明', '水', '狀', ',']\n",
      "['O', 'O', 'B-SENS', 'I-SENS', 'O', 'O', 'O', 'B-PERC', 'I-PERC', 'O']\n",
      "['', '', ['Feel-0-A'], ['Feel-0-A'], '', '', '', ['Feel-0-B'], ['Feel-0-B'], '']\n",
      "\n",
      "Predict output\n",
      "['O', 'O', 'B-SENS', 'I-SENS', 'O', 'O', 'O', 'B-PERC', 'I-PERC', 'O']\n",
      "['', '', ['Feel-0-A'], ['Feel-0-A'], '', '', '', ['Feel-0-B'], ['Feel-0-B'], '']\n",
      "\n",
      "True\n",
      "[(2, 3, 2), (7, 8, 4)]\n",
      "[((2, 3, 2), (7, 8, 4), 2)]\n",
      "predict\n",
      "[(2, 3, 2), (7, 8, 4)]\n",
      "[((2, 3, 2), (7, 8, 4), 2)]\n",
      "=====================================\n",
      "['此', '款', '日', '間', '保', '濕', '防', '護', '乳', '很', '適', '合', '混', '合', '性', '肌', '膚', '的', '人', '(', '乾', '性', '的', '人', '因', '該', '也', 'O', 'K', ')', ',', '不', '乾', '不', '油', '保', '濕', '度', '足', '夠', ',', '且', '此', '款', '還', '有', '保', '養', '的', '作', '用', ',', '減', '緩', '初', '期', '老', '化', '現', '象', ',', '真', '的', '太', '吸', '引', '人', '了']\n",
      "['O', 'O', 'O', 'O', 'B-FUNC', 'I-FUNC', 'O', 'O', 'O', 'O', 'O', 'O', 'B-STAT', 'I-STAT', 'I-STAT', 'I-STAT', 'I-STAT', 'O', 'O', 'O', 'O', 'O', 'O', 'O', 'O', 'O', 'O', 'O', 'O', 'O', 'O', 'O', 'O', 'O', 'O', 'B-FUNC', 'I-FUNC', 'I-FUNC', 'O', 'O', 'O', 'O', 'O', 'O', 'O', 'O', 'B-FUNC', 'I-FUNC', 'O', 'O', 'O', 'O', 'O', 'O', 'O', 'O', 'O', 'O', 'O', 'O', 'O', 'O', 'O', 'O', 'O', 'O', 'O', 'O']\n",
      "['', '', '', '', ['ApplyTo-0-A'], ['ApplyTo-0-A'], '', '', '', '', '', '', ['ApplyTo-2-B', 'ApplyTo-1-B', 'ApplyTo-0-B'], ['ApplyTo-2-B', 'ApplyTo-1-B', 'ApplyTo-0-B'], ['ApplyTo-2-B', 'ApplyTo-1-B', 'ApplyTo-0-B'], ['ApplyTo-2-B', 'ApplyTo-1-B', 'ApplyTo-0-B'], ['ApplyTo-2-B', 'ApplyTo-1-B', 'ApplyTo-0-B'], '', '', '', '', '', '', '', '', '', '', '', '', '', '', '', '', '', '', ['ApplyTo-1-A'], ['ApplyTo-1-A'], ['ApplyTo-1-A'], '', '', '', '', '', '', '', '', ['ApplyTo-2-A'], ['ApplyTo-2-A'], '', '', '', '', '', '', '', '', '', '', '', '', '', '', '', '', '', '', '', '']\n",
      "\n",
      "Predict output\n",
      "['O', 'O', 'O', 'O', 'O', 'O', 'O', 'O', 'O', 'O', 'O', 'O', 'B-STAT', 'I-STAT', 'I-STAT', 'I-STAT', 'I-STAT', 'O', 'O', 'O', 'O', 'O', 'O', 'O', 'O', 'O', 'O', 'O', 'O', 'O', 'O', 'O', 'O', 'O', 'O', 'B-FUNC', 'I-FUNC', 'I-FUNC', 'O', 'O', 'O', 'O', 'O', 'O', 'O', 'O', 'B-FUNC', 'I-FUNC', 'O', 'O', 'O', 'O', 'O', 'O', 'O', 'O', 'O', 'O', 'O', 'O', 'O', 'O', 'O', 'O', 'O', 'O', 'O', 'O']\n",
      "['', '', '', '', '', '', '', '', '', '', '', '', [], [], [], [], [], '', '', '', '', '', '', '', '', '', '', '', '', '', '', '', '', '', '', [], [], [], '', '', '', '', '', '', '', '', [], [], '', '', '', '', '', '', '', '', '', '', '', '', '', '', '', '', '', '', '', '']\n",
      "\n",
      "True\n",
      "[(4, 5, 1), (12, 16, 0), (35, 37, 1), (46, 47, 1)]\n",
      "[((4, 5, 1), (12, 16, 0), 0), ((12, 16, 0), (35, 37, 1), 0), ((12, 16, 0), (46, 47, 1), 0)]\n",
      "predict\n",
      "[(12, 16, 0), (35, 37, 1), (46, 47, 1)]\n",
      "[]\n",
      "=====================================\n",
      "['這', '款', '精', '華', '是', '比', '較', '像', '乳', '液', '的', '質', '地', ',', '白', '色', '乳', '狀', '擦', '起', '來', '很', '容', '易', '吸', '收', ',', '多', '加', '按', '摩', '一', '次', '幾', '乎', '都', '滲', '透', '進', '去', ',', '吸', '收', '度', '很', '好', ',', '有', '滋', '潤', '感', '卻', '不', '會', '有', '黏', '膩', '感', '哦', ',', '不', '黏', '不', '膩', '很', '舒', '服']\n",
      "['O', 'O', 'O', 'O', 'O', 'O', 'O', 'O', 'O', 'O', 'O', 'B-SENS', 'I-SENS', 'O', 'O', 'O', 'B-PERC', 'I-PERC', 'O', 'O', 'O', 'O', 'O', 'O', 'O', 'O', 'O', 'O', 'O', 'O', 'O', 'O', 'O', 'O', 'O', 'O', 'O', 'O', 'O', 'O', 'O', 'O', 'O', 'O', 'O', 'O', 'O', 'O', 'O', 'O', 'O', 'O', 'O', 'O', 'O', 'O', 'O', 'O', 'O', 'O', 'O', 'O', 'O', 'O', 'O', 'O', 'O']\n",
      "['', '', '', '', '', '', '', '', '', '', '', ['Feel-0-A'], ['Feel-0-A'], '', '', '', ['Feel-0-B'], ['Feel-0-B'], '', '', '', '', '', '', '', '', '', '', '', '', '', '', '', '', '', '', '', '', '', '', '', '', '', '', '', '', '', '', '', '', '', '', '', '', '', '', '', '', '', '', '', '', '', '', '', '', '']\n",
      "\n",
      "Predict output\n",
      "['O', 'O', 'O', 'O', 'O', 'O', 'O', 'O', 'O', 'O', 'O', 'B-SENS', 'I-SENS', 'O', 'O', 'O', 'B-PERC', 'I-PERC', 'O', 'O', 'O', 'O', 'O', 'O', 'O', 'O', 'O', 'O', 'O', 'O', 'O', 'O', 'O', 'O', 'O', 'O', 'O', 'O', 'O', 'O', 'O', 'O', 'O', 'O', 'O', 'O', 'O', 'O', 'O', 'O', 'O', 'O', 'O', 'O', 'O', 'O', 'O', 'O', 'O', 'O', 'O', 'B-PERC', 'O', 'O', 'O', 'O', 'O']\n",
      "['', '', '', '', '', '', '', '', '', '', '', ['Feel-1-A', 'Feel-0-A'], ['Feel-1-A', 'Feel-0-A'], '', '', '', ['Feel-0-B'], ['Feel-0-B'], '', '', '', '', '', '', '', '', '', '', '', '', '', '', '', '', '', '', '', '', '', '', '', '', '', '', '', '', '', '', '', '', '', '', '', '', '', '', '', '', '', '', '', ['Feel-1-B'], '', '', '', '', '']\n",
      "\n",
      "True\n",
      "[(11, 12, 2), (16, 17, 4)]\n",
      "[((11, 12, 2), (16, 17, 4), 2)]\n",
      "predict\n",
      "[(11, 12, 2), (16, 17, 4), (61, 61, 4)]\n",
      "[((11, 12, 2), (16, 17, 4), 2), ((11, 12, 2), (61, 61, 4), 2)]\n",
      "=====================================\n",
      "['C', 'L', 'A', 'R', 'I', 'N', 'S', '克', '蘭', '詩', '煥', '顏', '緊', '緻', '彈', '力', '精', '華', '露', '很', '適', '合', '在', '熱', '死', '人', '的', '夏', '天', '使', '用', ',', '質', '地', '清', '爽', '不', '負', '擔', '又', '蠻', '保', '濕', '的', '是', '很', '值', '得', '推', '薦', '的', '產', '品']\n",
      "['O', 'O', 'O', 'O', 'O', 'O', 'O', 'O', 'O', 'O', 'O', 'O', 'O', 'O', 'O', 'O', 'O', 'O', 'O', 'O', 'O', 'O', 'O', 'O', 'O', 'O', 'O', 'B-SEAS', 'I-SEAS', 'O', 'O', 'O', 'B-SENS', 'I-SENS', 'B-PERC', 'I-PERC', 'O', 'O', 'O', 'O', 'O', 'B-FUNC', 'I-FUNC', 'O', 'O', 'O', 'O', 'O', 'O', 'O', 'O', 'O', 'O']\n",
      "['', '', '', '', '', '', '', '', '', '', '', '', '', '', '', '', '', '', '', '', '', '', '', '', '', '', '', ['ApplyIn-1-B'], ['ApplyIn-1-B'], '', '', '', ['Feel-0-A'], ['Feel-0-A'], ['Feel-0-B'], ['Feel-0-B'], '', '', '', '', '', ['ApplyIn-1-A'], ['ApplyIn-1-A'], '', '', '', '', '', '', '', '', '', '']\n",
      "\n",
      "Predict output\n",
      "['O', 'O', 'O', 'O', 'O', 'O', 'O', 'O', 'O', 'O', 'O', 'O', 'O', 'O', 'O', 'O', 'O', 'O', 'O', 'O', 'O', 'O', 'O', 'O', 'O', 'O', 'O', 'O', 'O', 'O', 'O', 'O', 'B-SENS', 'I-SENS', 'B-PERC', 'I-PERC', 'O', 'O', 'O', 'O', 'O', 'B-FUNC', 'I-FUNC', 'O', 'O', 'O', 'O', 'O', 'O', 'O', 'O', 'O', 'O']\n",
      "['', '', '', '', '', '', '', '', '', '', '', '', '', '', '', '', '', '', '', '', '', '', '', '', '', '', '', '', '', '', '', '', ['Feel-0-A'], ['Feel-0-A'], ['Feel-0-B'], ['Feel-0-B'], '', '', '', '', '', [], [], '', '', '', '', '', '', '', '', '', '']\n",
      "\n",
      "True\n",
      "[(27, 28, 3), (32, 33, 2), (34, 35, 4), (41, 42, 1)]\n",
      "[((32, 33, 2), (34, 35, 4), 2), ((27, 28, 3), (41, 42, 1), 1)]\n",
      "predict\n",
      "[(32, 33, 2), (34, 35, 4), (41, 42, 1)]\n",
      "[((32, 33, 2), (34, 35, 4), 2)]\n",
      "=====================================\n",
      "['保', '濕', '度', '、', '維', '持', '度', ':', '此', '產', '品', '的', '保', '濕', '效', '果', '還', '蠻', '不', '錯', '的', ',', '使', '用', '一', '陣', '子', '後', ',', '臉', '部', '肌', '膚', '光', '澤', '感', '提', '高', '了', ',', '不', '過', '晚', '上', '擦', '過', '1', '-', '2', '小', '時', '後', ',', '感', '覺', '臉', '部', '肌', '膚', '又', '開', '始', '出', '油', '(', '氣', '溫', '大', '約', '在', '2', '2', '-', '2', '6', '度', '上', '下', ')', ',', '對', '油', '性', '肌', '膚', '而', '言', ',', '清', '爽', '度', '稍', '嫌', '不', '足']\n",
      "['B-FUNC', 'I-FUNC', 'I-FUNC', 'O', 'O', 'O', 'O', 'O', 'O', 'O', 'O', 'O', 'B-FUNC', 'I-FUNC', 'O', 'O', 'O', 'O', 'O', 'O', 'O', 'O', 'O', 'O', 'O', 'O', 'O', 'O', 'O', 'O', 'O', 'O', 'O', 'O', 'O', 'O', 'O', 'O', 'O', 'O', 'O', 'O', 'O', 'O', 'O', 'O', 'O', 'O', 'O', 'O', 'O', 'O', 'O', 'O', 'O', 'O', 'O', 'O', 'O', 'O', 'O', 'O', 'O', 'O', 'O', 'O', 'O', 'O', 'O', 'O', 'O', 'O', 'O', 'O', 'O', 'O', 'O', 'O', 'O', 'O', 'O', 'B-STAT', 'I-STAT', 'I-STAT', 'I-STAT', 'O', 'O', 'O', 'O', 'O', 'O', 'O', 'O', 'O', 'O']\n",
      "[[], [], [], '', '', '', '', '', '', '', '', '', [], [], '', '', '', '', '', '', '', '', '', '', '', '', '', '', '', '', '', '', '', '', '', '', '', '', '', '', '', '', '', '', '', '', '', '', '', '', '', '', '', '', '', '', '', '', '', '', '', '', '', '', '', '', '', '', '', '', '', '', '', '', '', '', '', '', '', '', '', [], [], [], [], '', '', '', '', '', '', '', '', '', '']\n",
      "\n",
      "Predict output\n",
      "['B-FUNC', 'I-FUNC', 'I-FUNC', 'O', 'O', 'O', 'O', 'O', 'O', 'O', 'O', 'O', 'B-FUNC', 'I-FUNC', 'O', 'O', 'O', 'O', 'O', 'O', 'O', 'O', 'O', 'O', 'O', 'O', 'O', 'O', 'O', 'O', 'O', 'O', 'O', 'O', 'O', 'O', 'O', 'O', 'O', 'O', 'O', 'O', 'O', 'O', 'O', 'O', 'O', 'O', 'O', 'O', 'O', 'O', 'O', 'O', 'O', 'O', 'O', 'O', 'O', 'O', 'O', 'O', 'O', 'O', 'O', 'O', 'O', 'O', 'O', 'O', 'O', 'O', 'O', 'O', 'O', 'O', 'O', 'O', 'O', 'O', 'O', 'B-STAT', 'I-STAT', 'I-STAT', 'I-STAT', 'O', 'O', 'O', 'O', 'O', 'O', 'O', 'O', 'O', 'O']\n",
      "[[], [], [], '', '', '', '', '', '', '', '', '', [], [], '', '', '', '', '', '', '', '', '', '', '', '', '', '', '', '', '', '', '', '', '', '', '', '', '', '', '', '', '', '', '', '', '', '', '', '', '', '', '', '', '', '', '', '', '', '', '', '', '', '', '', '', '', '', '', '', '', '', '', '', '', '', '', '', '', '', '', [], [], [], [], '', '', '', '', '', '', '', '', '', '']\n",
      "\n",
      "True\n",
      "[(0, 2, 1), (12, 13, 1), (81, 84, 0)]\n",
      "[]\n",
      "predict\n",
      "[(0, 2, 1), (12, 13, 1), (81, 84, 0)]\n",
      "[]\n",
      "=====================================\n"
     ]
    },
    {
     "name": "stdout",
     "output_type": "stream",
     "text": [
      "['此', '款', 'B', 'B', '霜', '質', '地', '比', '一', '般', 'B', 'B', '霜', '較', '為', '濃', '稠', ',', '不', '過', '延', '展', '性', '算', '滿', '夠', '的', ',']\n",
      "['O', 'O', 'O', 'O', 'O', 'B-SENS', 'I-SENS', 'O', 'O', 'O', 'O', 'O', 'O', 'O', 'O', 'B-PERC', 'I-PERC', 'O', 'O', 'O', 'O', 'O', 'O', 'O', 'O', 'O', 'O', 'O']\n",
      "['', '', '', '', '', ['Feel-0-A'], ['Feel-0-A'], '', '', '', '', '', '', '', '', ['Feel-0-B'], ['Feel-0-B'], '', '', '', '', '', '', '', '', '', '', '']\n",
      "\n",
      "Predict output\n",
      "['O', 'O', 'O', 'O', 'O', 'B-SENS', 'I-SENS', 'O', 'O', 'O', 'O', 'O', 'O', 'O', 'O', 'B-PERC', 'I-PERC', 'O', 'O', 'O', 'O', 'O', 'O', 'O', 'O', 'O', 'O', 'O']\n",
      "['', '', '', '', '', ['Feel-0-A'], ['Feel-0-A'], '', '', '', '', '', '', '', '', ['Feel-0-B'], ['Feel-0-B'], '', '', '', '', '', '', '', '', '', '', '']\n",
      "\n",
      "True\n",
      "[(5, 6, 2), (15, 16, 4)]\n",
      "[((5, 6, 2), (15, 16, 4), 2)]\n",
      "predict\n",
      "[(5, 6, 2), (15, 16, 4)]\n",
      "[((5, 6, 2), (15, 16, 4), 2)]\n",
      "=====================================\n",
      "['清', '爽', '質', '地', ',', '吸', '收', '力', '快', ',', '更', '有', '『', '平', '價', 'S', 'K', 'I', 'I', '』', '的', '美', '名']\n",
      "['B-PERC', 'I-PERC', 'B-SENS', 'I-SENS', 'O', 'O', 'O', 'O', 'O', 'O', 'O', 'O', 'O', 'O', 'O', 'O', 'O', 'O', 'O', 'O', 'O', 'O', 'O']\n",
      "[['Feel-0-B'], ['Feel-0-B'], ['Feel-0-A'], ['Feel-0-A'], '', '', '', '', '', '', '', '', '', '', '', '', '', '', '', '', '', '', '']\n",
      "\n",
      "Predict output\n",
      "['B-PERC', 'I-PERC', 'B-SENS', 'I-SENS', 'O', 'O', 'O', 'O', 'O', 'O', 'O', 'O', 'O', 'O', 'O', 'O', 'O', 'O', 'O', 'O', 'O', 'O', 'O']\n",
      "[['Feel-0-B'], ['Feel-0-B'], ['Feel-0-A'], ['Feel-0-A'], '', '', '', '', '', '', '', '', '', '', '', '', '', '', '', '', '', '', '']\n",
      "\n",
      "True\n",
      "[(0, 1, 4), (2, 3, 2)]\n",
      "[((0, 1, 4), (2, 3, 2), 2)]\n",
      "predict\n",
      "[(0, 1, 4), (2, 3, 2)]\n",
      "[((0, 1, 4), (2, 3, 2), 2)]\n",
      "=====================================\n",
      "['我', '覺', '得', '這', '瓶', '保', '溼', '噴', '霧', '是', '夏', '天', '出', '遊', '或', '辦', '公', '室', '必', '備', '的', '好', '東', '西', ',', '推', '薦', '給', '大', '家']\n",
      "['O', 'O', 'O', 'O', 'O', 'B-FUNC', 'I-FUNC', 'O', 'O', 'O', 'B-SEAS', 'I-SEAS', 'O', 'O', 'O', 'O', 'O', 'O', 'O', 'O', 'O', 'O', 'O', 'O', 'O', 'O', 'O', 'O', 'O', 'O']\n",
      "['', '', '', '', '', ['ApplyIn-0-A'], ['ApplyIn-0-A'], '', '', '', ['ApplyIn-0-B'], ['ApplyIn-0-B'], '', '', '', '', '', '', '', '', '', '', '', '', '', '', '', '', '', '']\n",
      "\n",
      "Predict output\n",
      "['O', 'O', 'O', 'O', 'O', 'B-FUNC', 'I-FUNC', 'O', 'O', 'O', 'B-SEAS', 'I-SEAS', 'O', 'O', 'O', 'O', 'O', 'O', 'O', 'O', 'O', 'O', 'O', 'O', 'O', 'O', 'O', 'O', 'O', 'O']\n",
      "['', '', '', '', '', [], [], '', '', '', [], [], '', '', '', '', '', '', '', '', '', '', '', '', '', '', '', '', '', '']\n",
      "\n",
      "True\n",
      "[(5, 6, 1), (10, 11, 3)]\n",
      "[((5, 6, 1), (10, 11, 3), 1)]\n",
      "predict\n",
      "[(5, 6, 1), (10, 11, 3)]\n",
      "[]\n",
      "=====================================\n",
      "['整', '體', '來', '說', '我', '覺', '得', '以', '秋', '天', '來', '說', '是', '還', '算', '不', '錯', '的', '保', '濕', '產', '品', '喔']\n",
      "['O', 'O', 'O', 'O', 'O', 'O', 'O', 'O', 'B-SEAS', 'I-SEAS', 'O', 'O', 'O', 'O', 'O', 'O', 'O', 'O', 'B-FUNC', 'I-FUNC', 'O', 'O', 'O']\n",
      "['', '', '', '', '', '', '', '', ['ApplyIn-0-B'], ['ApplyIn-0-B'], '', '', '', '', '', '', '', '', ['ApplyIn-0-A'], ['ApplyIn-0-A'], '', '', '']\n",
      "\n",
      "Predict output\n",
      "['O', 'O', 'O', 'O', 'O', 'O', 'O', 'O', 'B-SEAS', 'I-SEAS', 'O', 'O', 'O', 'O', 'O', 'O', 'O', 'O', 'B-FUNC', 'I-FUNC', 'O', 'O', 'O']\n",
      "['', '', '', '', '', '', '', '', [], [], '', '', '', '', '', '', '', '', [], [], '', '', '']\n",
      "\n",
      "True\n",
      "[(8, 9, 3), (18, 19, 1)]\n",
      "[((8, 9, 3), (18, 19, 1), 1)]\n",
      "predict\n",
      "[(8, 9, 3), (18, 19, 1)]\n",
      "[]\n",
      "=====================================\n",
      "['使', '用', '後', '很', '快', '就', '吸', '收', '了', ',', '清', '爽', '不', '黏', '膩', ',', '使', '用', '後', '肌', '膚', '柔', '滑', '有', '光', '澤', ',', '保', '濕', '度', '很', '持', '久', ',', '有', '淡', '淡', '的', '香', '氣', '我', '喜', '歡', ',', '大', '致', '上', '來', '說', '是', '不', '錯', '用', '的', '商', '品', ',', '敏', '感', '肌', '也', '適', '用', '喔']\n",
      "['O', 'O', 'O', 'O', 'O', 'O', 'O', 'O', 'O', 'O', 'O', 'O', 'O', 'O', 'O', 'O', 'O', 'O', 'O', 'O', 'O', 'O', 'O', 'O', 'O', 'O', 'O', 'B-FUNC', 'I-FUNC', 'I-FUNC', 'O', 'O', 'O', 'O', 'O', 'O', 'O', 'O', 'O', 'O', 'O', 'O', 'O', 'O', 'O', 'O', 'O', 'O', 'O', 'O', 'O', 'O', 'O', 'O', 'O', 'O', 'O', 'B-STAT', 'I-STAT', 'I-STAT', 'O', 'O', 'O', 'O']\n",
      "['', '', '', '', '', '', '', '', '', '', '', '', '', '', '', '', '', '', '', '', '', '', '', '', '', '', '', ['ApplyTo-0-A'], ['ApplyTo-0-A'], ['ApplyTo-0-A'], '', '', '', '', '', '', '', '', '', '', '', '', '', '', '', '', '', '', '', '', '', '', '', '', '', '', '', ['ApplyTo-0-B'], ['ApplyTo-0-B'], ['ApplyTo-0-B'], '', '', '', '']\n",
      "\n",
      "Predict output\n",
      "['O', 'O', 'O', 'O', 'O', 'O', 'O', 'O', 'O', 'O', 'O', 'O', 'O', 'O', 'O', 'O', 'O', 'O', 'O', 'O', 'O', 'O', 'O', 'O', 'O', 'O', 'O', 'B-FUNC', 'I-FUNC', 'I-FUNC', 'O', 'O', 'O', 'O', 'O', 'O', 'O', 'O', 'O', 'O', 'O', 'O', 'O', 'O', 'O', 'O', 'O', 'O', 'O', 'O', 'O', 'O', 'O', 'O', 'O', 'O', 'O', 'B-STAT', 'I-STAT', 'I-STAT', 'O', 'O', 'O', 'O']\n",
      "['', '', '', '', '', '', '', '', '', '', '', '', '', '', '', '', '', '', '', '', '', '', '', '', '', '', '', [], [], [], '', '', '', '', '', '', '', '', '', '', '', '', '', '', '', '', '', '', '', '', '', '', '', '', '', '', '', [], [], [], '', '', '', '']\n",
      "\n",
      "True\n",
      "[(27, 29, 1), (57, 59, 0)]\n",
      "[((27, 29, 1), (57, 59, 0), 0)]\n",
      "predict\n",
      "[(27, 29, 1), (57, 59, 0)]\n",
      "[]\n",
      "=====================================\n",
      "Batch entity score\n",
      "precision  \t recall  \t fbeta_score  \t\n",
      "(0.958904109589041, 0.9333333333333333, 0.9459459459459458, None)\n",
      "\n",
      "Batch relation score\n",
      "precision  \t recall  \t fbeta_score  \t\n",
      "(0.8235294117647058, 0.4827586206896552, 0.608695652173913, None)\n",
      "\n",
      "p_r_fscore\n",
      "precision  \t recall  \t fbeta_score  \t\n",
      "(0.8235294112802768, 0.4827586205231867, 0.6086956472495275) 14 3 0 15\n",
      "===========================================\n",
      "['使', '用', '後', '不', '僅', '不', '會', '產', '生', '不', '適', ',', '更', '能', '達', '到', '保', '濕', '、', '鎖', '水', '、', '修', '護', '的', '效', '果', '.', '.', '.', '這', '產', '品', '~', '~', '~', '我', '真', '的', '要', '推', '薦', '給', '所', '有', '的', '敏', '感', '肌', '朋', '友']\n",
      "['O', 'O', 'O', 'O', 'O', 'O', 'O', 'O', 'O', 'O', 'O', 'O', 'O', 'O', 'O', 'O', 'B-FUNC', 'I-FUNC', 'O', 'O', 'O', 'O', 'O', 'O', 'O', 'O', 'O', 'O', 'O', 'O', 'O', 'O', 'O', 'O', 'O', 'O', 'O', 'O', 'O', 'O', 'O', 'O', 'O', 'O', 'O', 'O', 'B-STAT', 'I-STAT', 'I-STAT', 'O', 'O']\n",
      "['', '', '', '', '', '', '', '', '', '', '', '', '', '', '', '', ['ApplyTo-0-A'], ['ApplyTo-0-A'], '', '', '', '', '', '', '', '', '', '', '', '', '', '', '', '', '', '', '', '', '', '', '', '', '', '', '', '', ['ApplyTo-0-B'], ['ApplyTo-0-B'], ['ApplyTo-0-B'], '', '']\n",
      "\n",
      "Predict output\n",
      "['O', 'O', 'O', 'O', 'O', 'O', 'O', 'O', 'O', 'O', 'O', 'O', 'O', 'O', 'O', 'O', 'O', 'O', 'O', 'O', 'O', 'O', 'O', 'O', 'O', 'O', 'O', 'O', 'O', 'O', 'O', 'O', 'O', 'O', 'O', 'O', 'O', 'O', 'O', 'O', 'O', 'O', 'O', 'O', 'O', 'O', 'B-STAT', 'I-STAT', 'I-STAT', 'O', 'O']\n",
      "['', '', '', '', '', '', '', '', '', '', '', '', '', '', '', '', '', '', '', '', '', '', '', '', '', '', '', '', '', '', '', '', '', '', '', '', '', '', '', '', '', '', '', '', '', '', [], [], [], '', '']\n",
      "\n",
      "True\n",
      "[(16, 17, 1), (46, 48, 0)]\n",
      "[((16, 17, 1), (46, 48, 0), 0)]\n",
      "predict\n",
      "[(46, 48, 0)]\n",
      "[]\n",
      "=====================================\n",
      "['只', '是', '覺', '得', '在', '冬', '天', ',', '對', '於', '熟', '齡', '肌', '膚', ',', '光', '擦', '這', '乳', '液', '還', '是', '不', '夠', '滋', '潤', ',', '之', '後', '還', '是', '要', '再', '上', '乳', '霜', '才', '夠', '滋', '潤', ',', '覺', '得', '這', '應', '該', '是', '在', '夏', '天', '可', '以', '單', '擦', '的', ',', '可', '以', '長', '時', '間', '維', '持', '保', '濕', '度', '的', '乳', '液']\n",
      "['O', 'O', 'O', 'O', 'O', 'B-SEAS', 'I-SEAS', 'O', 'O', 'O', 'O', 'O', 'O', 'O', 'O', 'O', 'O', 'O', 'O', 'O', 'O', 'O', 'O', 'O', 'O', 'O', 'O', 'O', 'O', 'O', 'O', 'O', 'O', 'O', 'O', 'O', 'O', 'O', 'O', 'O', 'O', 'O', 'O', 'O', 'O', 'O', 'O', 'O', 'B-SEAS', 'I-SEAS', 'O', 'O', 'O', 'O', 'O', 'O', 'O', 'O', 'O', 'O', 'O', 'O', 'O', 'B-FUNC', 'I-FUNC', 'I-FUNC', 'O', 'O', 'O']\n",
      "['', '', '', '', '', [], [], '', '', '', '', '', '', '', '', '', '', '', '', '', '', '', '', '', '', '', '', '', '', '', '', '', '', '', '', '', '', '', '', '', '', '', '', '', '', '', '', '', ['ApplyIn-0-B'], ['ApplyIn-0-B'], '', '', '', '', '', '', '', '', '', '', '', '', '', ['ApplyIn-0-A'], ['ApplyIn-0-A'], ['ApplyIn-0-A'], '', '', '']\n",
      "\n",
      "Predict output\n",
      "['O', 'O', 'O', 'O', 'O', 'B-SEAS', 'I-SEAS', 'O', 'O', 'O', 'O', 'O', 'O', 'O', 'O', 'O', 'O', 'O', 'O', 'O', 'O', 'O', 'O', 'O', 'O', 'O', 'O', 'O', 'O', 'O', 'O', 'O', 'O', 'O', 'O', 'O', 'O', 'O', 'O', 'O', 'O', 'O', 'O', 'O', 'O', 'O', 'O', 'O', 'B-SEAS', 'I-SEAS', 'O', 'O', 'O', 'O', 'O', 'O', 'O', 'O', 'O', 'O', 'O', 'O', 'O', 'B-FUNC', 'I-FUNC', 'I-FUNC', 'O', 'O', 'O']\n",
      "['', '', '', '', '', [], [], '', '', '', '', '', '', '', '', '', '', '', '', '', '', '', '', '', '', '', '', '', '', '', '', '', '', '', '', '', '', '', '', '', '', '', '', '', '', '', '', '', [], [], '', '', '', '', '', '', '', '', '', '', '', '', '', [], [], [], '', '', '']\n",
      "\n",
      "True\n",
      "[(5, 6, 3), (48, 49, 3), (63, 65, 1)]\n",
      "[((48, 49, 3), (63, 65, 1), 1)]\n",
      "predict\n",
      "[(5, 6, 3), (48, 49, 3), (63, 65, 1)]\n",
      "[]\n",
      "=====================================\n",
      "['面', '膜', '精', '華', '液', '質', '地', '非', '常', '清', '爽', ',', '沒', '有', '明', '顯', '香', '味', ',', '精', '華', '液', '質', '地', '保', '濕', '滑', '順', '容', '易', '吸', '收', ',', '敷', '上', '後', '完', '全', '不', '會', '刺', '激', '曬', '後', '敏', '感', '肌', '膚', ',']\n",
      "['O', 'O', 'O', 'O', 'O', 'B-SENS', 'I-SENS', 'O', 'O', 'B-PERC', 'I-PERC', 'O', 'O', 'O', 'O', 'O', 'O', 'O', 'O', 'O', 'O', 'O', 'B-SENS', 'I-SENS', 'B-FUNC', 'I-FUNC', 'B-PERC', 'I-PERC', 'O', 'O', 'O', 'O', 'O', 'O', 'O', 'O', 'O', 'O', 'O', 'O', 'O', 'O', 'O', 'O', 'B-STAT', 'I-STAT', 'I-STAT', 'I-STAT', 'O']\n",
      "['', '', '', '', '', ['Feel-0-A'], ['Feel-0-A'], '', '', ['Feel-0-B'], ['Feel-0-B'], '', '', '', '', '', '', '', '', '', '', '', ['Feel-1-A'], ['Feel-1-A'], ['ApplyTo-2-A'], ['ApplyTo-2-A'], ['Feel-1-B'], ['Feel-1-B'], '', '', '', '', '', '', '', '', '', '', '', '', '', '', '', '', ['ApplyTo-2-B'], ['ApplyTo-2-B'], ['ApplyTo-2-B'], ['ApplyTo-2-B'], '']\n",
      "\n",
      "Predict output\n",
      "['O', 'O', 'O', 'O', 'O', 'B-SENS', 'I-SENS', 'O', 'O', 'B-PERC', 'I-PERC', 'O', 'O', 'O', 'O', 'O', 'O', 'O', 'O', 'O', 'O', 'O', 'O', 'O', 'B-FUNC', 'I-FUNC', 'B-PERC', 'I-PERC', 'O', 'O', 'O', 'O', 'O', 'O', 'O', 'O', 'O', 'O', 'O', 'O', 'O', 'O', 'O', 'O', 'B-STAT', 'I-STAT', 'I-STAT', 'I-STAT', 'O']\n",
      "['', '', '', '', '', ['Feel-0-A'], ['Feel-0-A'], '', '', ['Feel-0-B'], ['Feel-0-B'], '', '', '', '', '', '', '', '', '', '', '', '', '', [], [], [], [], '', '', '', '', '', '', '', '', '', '', '', '', '', '', '', '', [], [], [], [], '']\n",
      "\n",
      "True\n",
      "[(5, 6, 2), (9, 10, 4), (22, 23, 2), (24, 25, 1), (26, 27, 4), (44, 47, 0)]\n",
      "[((5, 6, 2), (9, 10, 4), 2), ((22, 23, 2), (26, 27, 4), 2), ((24, 25, 1), (44, 47, 0), 0)]\n",
      "predict\n",
      "[(5, 6, 2), (9, 10, 4), (24, 25, 1), (26, 27, 4), (44, 47, 0)]\n",
      "[((5, 6, 2), (9, 10, 4), 2)]\n",
      "=====================================\n",
      "['攜', '帶', '.', '.', '使', '用', '起', '來', '質', '地', '也', '很', '滑', '順', '容', '易', '塗', '抹', '.', '.', '且', '是', '一', '使', '用', '馬', '上', '達']\n",
      "['O', 'O', 'O', 'O', 'O', 'O', 'O', 'O', 'B-SENS', 'I-SENS', 'O', 'O', 'B-PERC', 'I-PERC', 'O', 'O', 'O', 'O', 'O', 'O', 'O', 'O', 'O', 'O', 'O', 'O', 'O', 'O']\n",
      "['', '', '', '', '', '', '', '', ['Feel-0-A'], ['Feel-0-A'], '', '', ['Feel-0-B'], ['Feel-0-B'], '', '', '', '', '', '', '', '', '', '', '', '', '', '']\n",
      "\n",
      "Predict output\n",
      "['O', 'O', 'O', 'O', 'O', 'O', 'O', 'O', 'B-SENS', 'I-SENS', 'O', 'O', 'B-PERC', 'I-PERC', 'O', 'O', 'O', 'O', 'O', 'O', 'O', 'O', 'O', 'O', 'O', 'O', 'O', 'O']\n",
      "['', '', '', '', '', '', '', '', ['Feel-0-A'], ['Feel-0-A'], '', '', ['Feel-0-B'], ['Feel-0-B'], '', '', '', '', '', '', '', '', '', '', '', '', '', '']\n",
      "\n",
      "True\n",
      "[(8, 9, 2), (12, 13, 4)]\n",
      "[((8, 9, 2), (12, 13, 4), 2)]\n",
      "predict\n",
      "[(8, 9, 2), (12, 13, 4)]\n",
      "[((8, 9, 2), (12, 13, 4), 2)]\n",
      "=====================================\n"
     ]
    },
    {
     "name": "stdout",
     "output_type": "stream",
     "text": [
      "['皮', '膚', '的', '保', '濕', '度', '維', '持', '的', '還', '不', '錯', ',', '不', '會', '因', '為', '夏', '天', '用', '控', '油', '型', '的', '彩', '妝', '品', '而', '覺', '得', '臉', '乾']\n",
      "['O', 'O', 'O', 'B-FUNC', 'I-FUNC', 'I-FUNC', 'O', 'O', 'O', 'O', 'O', 'O', 'O', 'O', 'O', 'O', 'O', 'B-SEAS', 'I-SEAS', 'O', 'O', 'O', 'O', 'O', 'O', 'O', 'O', 'O', 'O', 'O', 'O', 'O']\n",
      "['', '', '', ['ApplyIn-0-A'], ['ApplyIn-0-A'], ['ApplyIn-0-A'], '', '', '', '', '', '', '', '', '', '', '', ['ApplyIn-0-B'], ['ApplyIn-0-B'], '', '', '', '', '', '', '', '', '', '', '', '', '']\n",
      "\n",
      "Predict output\n",
      "['O', 'O', 'O', 'B-FUNC', 'I-FUNC', 'I-FUNC', 'O', 'O', 'O', 'O', 'O', 'O', 'O', 'O', 'O', 'O', 'O', 'B-SEAS', 'I-SEAS', 'O', 'B-FUNC', 'I-FUNC', 'O', 'O', 'O', 'O', 'O', 'O', 'O', 'O', 'O', 'O']\n",
      "['', '', '', ['ApplyIn-0-A'], ['ApplyIn-0-A'], ['ApplyIn-0-A'], '', '', '', '', '', '', '', '', '', '', '', ['ApplyIn-0-B'], ['ApplyIn-0-B'], '', [], [], '', '', '', '', '', '', '', '', '', '']\n",
      "\n",
      "True\n",
      "[(3, 5, 1), (17, 18, 3)]\n",
      "[((3, 5, 1), (17, 18, 3), 1)]\n",
      "predict\n",
      "[(3, 5, 1), (17, 18, 3), (20, 21, 1)]\n",
      "[((3, 5, 1), (17, 18, 3), 1)]\n",
      "=====================================\n",
      "['保', '濕', '程', '度', ':', '冬', '天', '使', '用', '夠', '保', '濕', ',', '一', '覺', '到', '天', '亮', '覺', '得', '肌', '膚', '柔', '嫩']\n",
      "['B-FUNC', 'I-FUNC', 'O', 'O', 'O', 'B-SEAS', 'I-SEAS', 'O', 'O', 'O', 'B-FUNC', 'I-FUNC', 'O', 'O', 'O', 'O', 'O', 'O', 'O', 'O', 'O', 'O', 'B-FUNC', 'I-FUNC']\n",
      "[['ApplyIn-0-A'], ['ApplyIn-0-A'], '', '', '', ['ApplyIn-1-B', 'ApplyIn-2-B', 'ApplyIn-0-B'], ['ApplyIn-1-B', 'ApplyIn-2-B', 'ApplyIn-0-B'], '', '', '', ['ApplyIn-1-A'], ['ApplyIn-1-A'], '', '', '', '', '', '', '', '', '', '', ['ApplyIn-2-A'], ['ApplyIn-2-A']]\n",
      "\n",
      "Predict output\n",
      "['B-FUNC', 'I-FUNC', 'O', 'O', 'O', 'B-SEAS', 'I-SEAS', 'O', 'O', 'O', 'B-FUNC', 'I-FUNC', 'O', 'O', 'O', 'O', 'O', 'O', 'O', 'O', 'O', 'O', 'O', 'I-FUNC']\n",
      "[['ApplyIn-0-A'], ['ApplyIn-0-A'], '', '', '', ['ApplyIn-0-B'], ['ApplyIn-0-B'], '', '', '', [], [], '', '', '', '', '', '', '', '', '', '', '', []]\n",
      "\n",
      "True\n",
      "[(0, 1, 1), (5, 6, 3), (10, 11, 1), (22, 23, 1)]\n",
      "[((0, 1, 1), (5, 6, 3), 1), ((5, 6, 3), (10, 11, 1), 1), ((5, 6, 3), (22, 23, 1), 1)]\n",
      "predict\n",
      "[(0, 1, 1), (5, 6, 3), (10, 11, 1)]\n",
      "[((0, 1, 1), (5, 6, 3), 1)]\n",
      "=====================================\n",
      "['倒', '是', '有', '感', '受', '到', '肌', '膚', '保', '濕', '度', ',', '現', '在', '是', '冬', '天', ',', '塗', '過', '本', '產', '品', '後', ',', '上', '妝', '確', '實', '較', '容', '易', '.', '至', '於', '透', '亮', '的', '效', '果', '.', '.', '.', '嗯', '.', '.', '因', '為', '我', '皮', '膚', '蠻', '黝', '黑', '的', ',', '所', '以', '.', '.', '.', '實', '在', '無', '法', '區', '分', '透', '亮', '感', '.', ' ', '吸', '收', '度', '不', '錯', '喔']\n",
      "['O', 'O', 'O', 'O', 'O', 'O', 'O', 'O', 'B-FUNC', 'I-FUNC', 'I-FUNC', 'O', 'O', 'O', 'O', 'B-SEAS', 'I-SEAS', 'O', 'O', 'O', 'O', 'O', 'O', 'O', 'O', 'O', 'O', 'O', 'O', 'O', 'O', 'O', 'O', 'O', 'O', 'O', 'O', 'O', 'O', 'O', 'O', 'O', 'O', 'O', 'O', 'O', 'O', 'O', 'O', 'O', 'O', 'O', 'O', 'O', 'O', 'O', 'O', 'O', 'O', 'O', 'O', 'O', 'O', 'O', 'O', 'O', 'O', 'O', 'O', 'O', 'O', 'O', 'O', 'O', 'O', 'O', 'O', 'O']\n",
      "['', '', '', '', '', '', '', '', ['ApplyIn-0-A'], ['ApplyIn-0-A'], ['ApplyIn-0-A'], '', '', '', '', ['ApplyIn-0-B'], ['ApplyIn-0-B'], '', '', '', '', '', '', '', '', '', '', '', '', '', '', '', '', '', '', '', '', '', '', '', '', '', '', '', '', '', '', '', '', '', '', '', '', '', '', '', '', '', '', '', '', '', '', '', '', '', '', '', '', '', '', '', '', '', '', '', '', '']\n",
      "\n",
      "Predict output\n",
      "['O', 'O', 'O', 'O', 'O', 'O', 'O', 'O', 'B-FUNC', 'I-FUNC', 'I-FUNC', 'O', 'O', 'O', 'O', 'B-SEAS', 'I-SEAS', 'O', 'O', 'O', 'O', 'O', 'O', 'O', 'O', 'O', 'O', 'O', 'O', 'O', 'O', 'O', 'O', 'O', 'O', 'O', 'O', 'O', 'O', 'O', 'O', 'O', 'O', 'O', 'O', 'O', 'O', 'O', 'O', 'O', 'O', 'O', 'O', 'O', 'O', 'O', 'O', 'O', 'O', 'O', 'O', 'O', 'O', 'O', 'O', 'O', 'O', 'O', 'O', 'O', 'O', 'O', 'O', 'O', 'O', 'O', 'O', 'O']\n",
      "['', '', '', '', '', '', '', '', ['ApplyIn-0-A'], ['ApplyIn-0-A'], ['ApplyIn-0-A'], '', '', '', '', ['ApplyIn-0-B'], ['ApplyIn-0-B'], '', '', '', '', '', '', '', '', '', '', '', '', '', '', '', '', '', '', '', '', '', '', '', '', '', '', '', '', '', '', '', '', '', '', '', '', '', '', '', '', '', '', '', '', '', '', '', '', '', '', '', '', '', '', '', '', '', '', '', '', '']\n",
      "\n",
      "True\n",
      "[(8, 10, 1), (15, 16, 3)]\n",
      "[((8, 10, 1), (15, 16, 3), 1)]\n",
      "predict\n",
      "[(8, 10, 1), (15, 16, 3)]\n",
      "[((8, 10, 1), (15, 16, 3), 1)]\n",
      "=====================================\n",
      "['雖', '然', '夏', '天', '到', '了', ',', '但', '保', '濕', '工', '作', '還', '是', '不', '可', '以', '輕', '忽']\n",
      "['O', 'O', 'B-SEAS', 'I-SEAS', 'O', 'O', 'O', 'O', 'O', 'O', 'O', 'O', 'O', 'O', 'O', 'O', 'O', 'O', 'O']\n",
      "['', '', [], [], '', '', '', '', '', '', '', '', '', '', '', '', '', '', '']\n",
      "\n",
      "Predict output\n",
      "['O', 'O', 'B-SEAS', 'I-SEAS', 'O', 'O', 'O', 'O', 'O', 'O', 'O', 'O', 'O', 'O', 'O', 'O', 'O', 'O', 'O']\n",
      "['', '', [], [], '', '', '', '', '', '', '', '', '', '', '', '', '', '', '']\n",
      "\n",
      "True\n",
      "[(2, 3, 3)]\n",
      "[]\n",
      "predict\n",
      "[(2, 3, 3)]\n",
      "[]\n",
      "=====================================\n",
      "['乾', '肌', '我', '本', '人', ',', '在', '化', '妝', '水', '+', '乳', '霜', '晨', '間', '保', '養', '完', '後', ',', '直', '接', '塗', '抹', '這', '瓶', '防', '曬', '乳', '當', '作', '妝', '前', '飾', '底', '乳']\n",
      "['B-STAT', 'I-STAT', 'O', 'O', 'O', 'O', 'O', 'O', 'O', 'O', 'O', 'O', 'O', 'O', 'O', 'O', 'O', 'O', 'O', 'O', 'O', 'O', 'O', 'O', 'O', 'O', 'O', 'O', 'O', 'O', 'O', 'O', 'O', 'O', 'O', 'O']\n",
      "[[], [], '', '', '', '', '', '', '', '', '', '', '', '', '', '', '', '', '', '', '', '', '', '', '', '', '', '', '', '', '', '', '', '', '', '']\n",
      "\n",
      "Predict output\n",
      "['B-STAT', 'I-STAT', 'O', 'O', 'O', 'O', 'O', 'O', 'O', 'O', 'O', 'O', 'O', 'O', 'O', 'O', 'O', 'O', 'O', 'O', 'O', 'O', 'O', 'O', 'O', 'O', 'O', 'O', 'O', 'O', 'O', 'O', 'O', 'O', 'O', 'O']\n",
      "[[], [], '', '', '', '', '', '', '', '', '', '', '', '', '', '', '', '', '', '', '', '', '', '', '', '', '', '', '', '', '', '', '', '', '', '']\n",
      "\n",
      "True\n",
      "[(0, 1, 0)]\n",
      "[]\n",
      "predict\n",
      "[(0, 1, 0)]\n",
      "[]\n",
      "=====================================\n",
      "['乳', '液', '質', '地', '偏', '稠', ',', '不', '是', '很', '稀', '的', '水', '狀', '乳', '液', ',', '不', '過', '蠻', '好', '推', ',', '一', '點', '點', '就', '可', '以', '推', '全', '臉', ',']\n",
      "['O', 'O', 'B-SENS', 'I-SENS', 'O', 'O', 'O', 'O', 'O', 'O', 'O', 'O', 'B-PERC', 'I-PERC', 'O', 'O', 'O', 'O', 'O', 'O', 'O', 'O', 'O', 'O', 'O', 'O', 'O', 'O', 'O', 'O', 'O', 'O', 'O']\n",
      "['', '', ['Feel-0-A'], ['Feel-0-A'], '', '', '', '', '', '', '', '', ['Feel-0-B'], ['Feel-0-B'], '', '', '', '', '', '', '', '', '', '', '', '', '', '', '', '', '', '', '']\n",
      "\n",
      "Predict output\n",
      "['O', 'O', 'B-SENS', 'I-SENS', 'O', 'B-PERC', 'O', 'O', 'O', 'O', 'O', 'O', 'O', 'O', 'O', 'O', 'O', 'O', 'O', 'O', 'O', 'O', 'O', 'O', 'O', 'O', 'O', 'O', 'O', 'O', 'O', 'O', 'O']\n",
      "['', '', ['Feel-0-A'], ['Feel-0-A'], '', ['Feel-0-B'], '', '', '', '', '', '', '', '', '', '', '', '', '', '', '', '', '', '', '', '', '', '', '', '', '', '', '']\n",
      "\n",
      "True\n",
      "[(2, 3, 2), (12, 13, 4)]\n",
      "[((2, 3, 2), (12, 13, 4), 2)]\n",
      "predict\n",
      "[(2, 3, 2), (5, 5, 4)]\n",
      "[((2, 3, 2), (5, 5, 4), 2)]\n",
      "=====================================\n",
      "['保', '濕', '度', '非', '常', '夠', ',', '很', '適', '合', '冬', '天', '使', '用']\n",
      "['B-FUNC', 'I-FUNC', 'I-FUNC', 'O', 'O', 'O', 'O', 'O', 'O', 'O', 'B-SEAS', 'I-SEAS', 'O', 'O']\n",
      "[['ApplyIn-0-A'], ['ApplyIn-0-A'], ['ApplyIn-0-A'], '', '', '', '', '', '', '', ['ApplyIn-0-B'], ['ApplyIn-0-B'], '', '']\n",
      "\n",
      "Predict output\n",
      "['B-FUNC', 'I-FUNC', 'I-FUNC', 'O', 'O', 'O', 'O', 'O', 'O', 'O', 'B-SEAS', 'I-SEAS', 'O', 'O']\n",
      "[['ApplyIn-0-A'], ['ApplyIn-0-A'], ['ApplyIn-0-A'], '', '', '', '', '', '', '', ['ApplyIn-0-B'], ['ApplyIn-0-B'], '', '']\n",
      "\n",
      "True\n",
      "[(0, 2, 1), (10, 11, 3)]\n",
      "[((0, 2, 1), (10, 11, 3), 1)]\n",
      "predict\n",
      "[(0, 2, 1), (10, 11, 3)]\n",
      "[((0, 2, 1), (10, 11, 3), 1)]\n",
      "=====================================\n",
      "['基', '本', '上', '如', '果', '不', '在', '乎', '它', '的', '味', '道', '比', '較', '不', '那', '麼', '好', '聞', ',', '是', '可', '以', '持', '續', '使', '用', '的', '產', '品', '.', '.']\n",
      "['O', 'O', 'O', 'O', 'O', 'O', 'O', 'O', 'O', 'O', 'B-SENS', 'I-SENS', 'O', 'O', 'O', 'O', 'O', 'B-PERC', 'I-PERC', 'O', 'O', 'O', 'O', 'O', 'O', 'O', 'O', 'O', 'O', 'O', 'O', 'O']\n",
      "['', '', '', '', '', '', '', '', '', '', [], [], '', '', '', '', '', [], [], '', '', '', '', '', '', '', '', '', '', '', '', '']\n",
      "\n",
      "Predict output\n",
      "['O', 'O', 'O', 'O', 'O', 'O', 'O', 'O', 'O', 'O', 'B-SENS', 'I-SENS', 'O', 'O', 'O', 'O', 'O', 'B-PERC', 'I-PERC', 'O', 'O', 'O', 'O', 'O', 'O', 'O', 'O', 'O', 'O', 'O', 'O', 'O']\n",
      "['', '', '', '', '', '', '', '', '', '', ['Feel-0-A'], ['Feel-0-A'], '', '', '', '', '', ['Feel-0-B'], ['Feel-0-B'], '', '', '', '', '', '', '', '', '', '', '', '', '']\n",
      "\n",
      "True\n",
      "[(10, 11, 2), (17, 18, 4)]\n",
      "[]\n",
      "predict\n",
      "[(10, 11, 2), (17, 18, 4)]\n",
      "[((10, 11, 2), (17, 18, 4), 2)]\n",
      "=====================================\n"
     ]
    },
    {
     "name": "stdout",
     "output_type": "stream",
     "text": [
      "['雖', '然', '質', '地', '很', '清', '爽', ',']\n",
      "['O', 'O', 'B-SENS', 'I-SENS', 'O', 'B-PERC', 'I-PERC', 'O']\n",
      "['', '', ['Feel-0-A'], ['Feel-0-A'], '', ['Feel-0-B'], ['Feel-0-B'], '']\n",
      "\n",
      "Predict output\n",
      "['O', 'O', 'B-SENS', 'I-SENS', 'O', 'B-PERC', 'I-PERC', 'O']\n",
      "['', '', ['Feel-0-A'], ['Feel-0-A'], '', ['Feel-0-B'], ['Feel-0-B'], '']\n",
      "\n",
      "True\n",
      "[(2, 3, 2), (5, 6, 4)]\n",
      "[((2, 3, 2), (5, 6, 4), 2)]\n",
      "predict\n",
      "[(2, 3, 2), (5, 6, 4)]\n",
      "[((2, 3, 2), (5, 6, 4), 2)]\n",
      "=====================================\n",
      "['淡', '淡', '的', '香', '味', '很', '舒', '服', '質', '地', '延', '展', '性', '不', '錯', '也', '不', '會', '太', '黏', '膩', '不', '過', '保', '溼', '度', '來', '說', '適', '合', '冬', '天', '的', '早', '上', '保', '養', '晚', '上', '可', '能', '不', '夠', '保', '濕', '用', '了', '一', '個', '月', '覺', '得', '膚', '色', '滿', '明', '亮', '的']\n",
      "['O', 'O', 'O', 'O', 'O', 'O', 'O', 'O', 'B-SENS', 'I-SENS', 'O', 'O', 'O', 'O', 'O', 'O', 'O', 'O', 'O', 'B-PERC', 'I-PERC', 'O', 'O', 'B-FUNC', 'I-FUNC', 'O', 'O', 'O', 'O', 'O', 'B-SEAS', 'I-SEAS', 'O', 'O', 'O', 'O', 'O', 'O', 'O', 'O', 'O', 'O', 'O', 'B-FUNC', 'I-FUNC', 'O', 'O', 'O', 'O', 'O', 'O', 'O', 'O', 'O', 'O', 'O', 'O', 'O']\n",
      "['', '', '', '', '', '', '', '', [], [], '', '', '', '', '', '', '', '', '', [], [], '', '', ['ApplyIn-0-A'], ['ApplyIn-0-A'], '', '', '', '', '', ['ApplyIn-0-B'], ['ApplyIn-0-B'], '', '', '', '', '', '', '', '', '', '', '', [], [], '', '', '', '', '', '', '', '', '', '', '', '', '']\n",
      "\n",
      "Predict output\n",
      "['O', 'O', 'O', 'O', 'O', 'O', 'O', 'O', 'B-SENS', 'I-SENS', 'O', 'O', 'O', 'O', 'O', 'O', 'O', 'O', 'O', 'B-PERC', 'I-PERC', 'O', 'O', 'B-FUNC', 'I-FUNC', 'O', 'O', 'O', 'O', 'O', 'B-SEAS', 'I-SEAS', 'O', 'O', 'O', 'O', 'O', 'O', 'O', 'O', 'O', 'O', 'O', 'B-FUNC', 'I-FUNC', 'O', 'O', 'O', 'O', 'O', 'O', 'O', 'O', 'O', 'O', 'O', 'O', 'O']\n",
      "['', '', '', '', '', '', '', '', ['Feel-0-A'], ['Feel-0-A'], '', '', '', '', '', '', '', '', '', ['Feel-0-B'], [], '', '', [], [], '', '', '', '', '', [], [], '', '', '', '', '', '', '', '', '', '', '', [], [], '', '', '', '', '', '', '', '', '', '', '', '', '']\n",
      "\n",
      "True\n",
      "[(8, 9, 2), (19, 20, 4), (23, 24, 1), (30, 31, 3), (43, 44, 1)]\n",
      "[((23, 24, 1), (30, 31, 3), 1)]\n",
      "predict\n",
      "[(8, 9, 2), (19, 20, 4), (23, 24, 1), (30, 31, 3), (43, 44, 1)]\n",
      "[]\n",
      "=====================================\n",
      "['潔', '顏', '霜', '的', '質', '地', '有', '點', '比', '較', '硬', ',', '要', '擠', '出', '來', '跟', '加', '水', '乳', '化', '的', '時', '候', '要', '稍', '稍', '用', '一', '點', '力', '氣', ',', '不', '過', '泡', '沫', '算', '柔', '細', ',', '香', '味', '也', '很', '宜', '人', ',', '洗', '後', '香', '味', '不', '會', '殘', '留', ',', '很', '棒']\n",
      "['O', 'O', 'O', 'O', 'O', 'O', 'O', 'O', 'O', 'O', 'O', 'O', 'O', 'O', 'O', 'O', 'O', 'O', 'O', 'O', 'O', 'O', 'O', 'O', 'O', 'O', 'O', 'O', 'O', 'O', 'O', 'O', 'O', 'O', 'O', 'O', 'O', 'O', 'O', 'O', 'O', 'B-SENS', 'I-SENS', 'O', 'O', 'B-PERC', 'I-PERC', 'O', 'O', 'O', 'B-SENS', 'I-SENS', 'O', 'O', 'O', 'O', 'O', 'O', 'O']\n",
      "['', '', '', '', '', '', '', '', '', '', '', '', '', '', '', '', '', '', '', '', '', '', '', '', '', '', '', '', '', '', '', '', '', '', '', '', '', '', '', '', '', ['Feel-0-A'], ['Feel-0-A'], '', '', ['Feel-0-B'], ['Feel-0-B'], '', '', '', [], [], '', '', '', '', '', '', '']\n",
      "\n",
      "Predict output\n",
      "['O', 'O', 'O', 'O', 'B-SENS', 'I-SENS', 'O', 'O', 'O', 'O', 'O', 'O', 'O', 'O', 'O', 'O', 'O', 'O', 'O', 'O', 'O', 'O', 'O', 'O', 'O', 'O', 'O', 'O', 'O', 'O', 'O', 'O', 'O', 'O', 'O', 'O', 'O', 'O', 'O', 'O', 'O', 'B-SENS', 'I-SENS', 'O', 'O', 'B-PERC', 'I-PERC', 'O', 'O', 'O', 'B-SENS', 'I-SENS', 'O', 'O', 'O', 'O', 'O', 'O', 'O']\n",
      "['', '', '', '', ['Feel-0-A'], ['Feel-0-A'], '', '', '', '', '', '', '', '', '', '', '', '', '', '', '', '', '', '', '', '', '', '', '', '', '', '', '', '', '', '', '', '', '', '', '', [], [], '', '', '', '', '', '', '', [], [], '', '', '', '', '', '', '']\n",
      "\n",
      "True\n",
      "[(41, 42, 2), (45, 46, 4), (50, 51, 2)]\n",
      "[((41, 42, 2), (45, 46, 4), 2)]\n",
      "predict\n",
      "[(4, 5, 2), (41, 42, 2), (45, 46, 4), (50, 51, 2)]\n",
      "[]\n",
      "=====================================\n",
      "['香', '味', '清', '淡', ',', '使', '用', '起', '來', '很', '水', '潤', ',', '又', '不', '黏', '膩', ',', '比', '一', '般', '保', '濕', '化', '妝', '水', '保', '濕', ',', '卻', '又', '不', '會', '使', '皮', '膚', '出', '油', ',', '很', '好', '用']\n",
      "['O', 'O', 'O', 'O', 'O', 'O', 'O', 'O', 'O', 'O', 'O', 'O', 'O', 'O', 'O', 'O', 'O', 'O', 'O', 'O', 'O', 'O', 'O', 'O', 'O', 'O', 'O', 'O', 'O', 'O', 'O', 'O', 'O', 'O', 'B-STAT', 'I-STAT', 'I-STAT', 'I-STAT', 'O', 'O', 'O', 'O']\n",
      "['', '', '', '', '', '', '', '', '', '', '', '', '', '', '', '', '', '', '', '', '', '', '', '', '', '', '', '', '', '', '', '', '', '', [], [], [], [], '', '', '', '']\n",
      "\n",
      "Predict output\n",
      "['B-SENS', 'I-SENS', 'O', 'O', 'O', 'O', 'O', 'O', 'O', 'O', 'B-PERC', 'I-PERC', 'O', 'O', 'O', 'B-PERC', 'I-PERC', 'O', 'O', 'O', 'O', 'B-FUNC', 'I-FUNC', 'O', 'O', 'O', 'B-FUNC', 'I-FUNC', 'O', 'O', 'O', 'O', 'O', 'O', 'B-STAT', 'I-STAT', 'I-STAT', 'I-STAT', 'O', 'O', 'O', 'O']\n",
      "[['Feel-0-A'], ['Feel-0-A'], '', '', '', '', '', '', '', '', ['Feel-0-B'], ['Feel-0-B'], '', '', '', [], [], '', '', '', '', [], [], '', '', '', [], [], '', '', '', '', '', '', [], [], [], [], '', '', '', '']\n",
      "\n",
      "True\n",
      "[(34, 37, 0)]\n",
      "[]\n",
      "predict\n",
      "[(0, 1, 2), (10, 11, 4), (15, 16, 4), (21, 22, 1), (26, 27, 1), (34, 37, 0)]\n",
      "[((0, 1, 2), (10, 11, 4), 2)]\n",
      "=====================================\n",
      "['想', '說', '對', '於', '我', '冬', '天', '超', '級', '乾', '的', '臉', '保', '濕', '效', '果', '真', '的', '足', '夠', '嗎']\n",
      "['O', 'O', 'O', 'O', 'O', 'B-SEAS', 'I-SEAS', 'O', 'O', 'O', 'O', 'O', 'B-FUNC', 'I-FUNC', 'O', 'O', 'O', 'O', 'O', 'O', 'O']\n",
      "['', '', '', '', '', [], [], '', '', '', '', '', [], [], '', '', '', '', '', '', '']\n",
      "\n",
      "Predict output\n",
      "['O', 'O', 'O', 'O', 'O', 'B-SEAS', 'I-SEAS', 'O', 'O', 'O', 'O', 'O', 'B-FUNC', 'I-FUNC', 'O', 'O', 'O', 'O', 'O', 'O', 'O']\n",
      "['', '', '', '', '', ['ApplyIn-0-B'], ['ApplyIn-0-B'], '', '', '', '', '', ['ApplyIn-0-A'], [], '', '', '', '', '', '', '']\n",
      "\n",
      "True\n",
      "[(5, 6, 3), (12, 13, 1)]\n",
      "[]\n",
      "predict\n",
      "[(5, 6, 3), (12, 13, 1)]\n",
      "[]\n",
      "=====================================\n",
      "['實', '際', '塗', '抹', '於', '唇', '上', '發', '現', '塗', '抹', '時', '的', '觸', '感', '很', '滑', '順']\n",
      "['O', 'O', 'O', 'O', 'O', 'O', 'O', 'O', 'O', 'O', 'O', 'O', 'O', 'B-SENS', 'I-SENS', 'O', 'B-PERC', 'I-PERC']\n",
      "['', '', '', '', '', '', '', '', '', '', '', '', '', ['Feel-0-A'], ['Feel-0-A'], '', ['Feel-0-B'], ['Feel-0-B']]\n",
      "\n",
      "Predict output\n",
      "['O', 'O', 'O', 'O', 'O', 'O', 'O', 'O', 'O', 'O', 'O', 'O', 'O', 'B-SENS', 'I-SENS', 'O', 'B-PERC', 'I-PERC']\n",
      "['', '', '', '', '', '', '', '', '', '', '', '', '', ['Feel-0-A'], ['Feel-0-A'], '', ['Feel-0-B'], ['Feel-0-B']]\n",
      "\n",
      "True\n",
      "[(13, 14, 2), (16, 17, 4)]\n",
      "[((13, 14, 2), (16, 17, 4), 2)]\n",
      "predict\n",
      "[(13, 14, 2), (16, 17, 4)]\n",
      "[((13, 14, 2), (16, 17, 4), 2)]\n",
      "=====================================\n",
      "['所', '以', '夏', '天', '除', '了', '控', '油', '外', '也', '需', '要', '保', '濕', '.', '.', '.']\n",
      "['O', 'O', 'B-SEAS', 'I-SEAS', 'O', 'O', 'O', 'O', 'O', 'O', 'O', 'O', 'O', 'O', 'O', 'O', 'O']\n",
      "['', '', [], [], '', '', '', '', '', '', '', '', '', '', '', '', '']\n",
      "\n",
      "Predict output\n",
      "['O', 'O', 'B-SEAS', 'I-SEAS', 'O', 'O', 'B-FUNC', 'I-FUNC', 'O', 'O', 'O', 'O', 'B-FUNC', 'I-FUNC', 'O', 'O', 'O']\n",
      "['', '', [], [], '', '', [], [], '', '', '', '', [], [], '', '', '']\n",
      "\n",
      "True\n",
      "[(2, 3, 3)]\n",
      "[]\n",
      "predict\n",
      "[(2, 3, 3), (6, 7, 1), (12, 13, 1)]\n",
      "[]\n",
      "=====================================\n",
      "['凍', '膜', '的', '質', '地', '很', '濃', '稠', ',']\n",
      "['O', 'O', 'O', 'B-SENS', 'I-SENS', 'O', 'B-PERC', 'I-PERC', 'O']\n",
      "['', '', '', ['Feel-0-A'], ['Feel-0-A'], '', ['Feel-0-B'], ['Feel-0-B'], '']\n",
      "\n",
      "Predict output\n",
      "['O', 'O', 'O', 'B-SENS', 'I-SENS', 'O', 'B-PERC', 'I-PERC', 'O']\n",
      "['', '', '', ['Feel-0-A'], ['Feel-0-A'], '', ['Feel-0-B'], ['Feel-0-B'], '']\n",
      "\n",
      "True\n",
      "[(3, 4, 2), (6, 7, 4)]\n",
      "[((3, 4, 2), (6, 7, 4), 2)]\n",
      "predict\n",
      "[(3, 4, 2), (6, 7, 4)]\n",
      "[((3, 4, 2), (6, 7, 4), 2)]\n",
      "=====================================\n",
      "['冬', '天', '使', '用', '這', '瓶', '剛', '剛', '好', ',', '很', '好', '吸', '收', ',', '保', '溼', '度', '還', '可', '以', ',', '也', '不', '會', '油', '油', '的']\n",
      "['B-SEAS', 'I-SEAS', 'O', 'O', 'O', 'O', 'O', 'O', 'O', 'O', 'O', 'O', 'O', 'O', 'O', 'B-FUNC', 'I-FUNC', 'O', 'O', 'O', 'O', 'O', 'O', 'O', 'O', 'O', 'O', 'O']\n",
      "[['ApplyIn-0-B'], ['ApplyIn-0-B'], '', '', '', '', '', '', '', '', '', '', '', '', '', ['ApplyIn-0-A'], ['ApplyIn-0-A'], '', '', '', '', '', '', '', '', '', '', '']\n",
      "\n",
      "Predict output\n",
      "['B-SEAS', 'I-SEAS', 'O', 'O', 'O', 'O', 'O', 'O', 'O', 'O', 'O', 'O', 'O', 'O', 'O', 'B-FUNC', 'I-FUNC', 'O', 'O', 'O', 'O', 'O', 'O', 'O', 'O', 'O', 'O', 'O']\n",
      "[['ApplyIn-0-B'], ['ApplyIn-0-B'], '', '', '', '', '', '', '', '', '', '', '', '', '', ['ApplyIn-0-A'], ['ApplyIn-0-A'], '', '', '', '', '', '', '', '', '', '', '']\n",
      "\n",
      "True\n",
      "[(0, 1, 3), (15, 16, 1)]\n",
      "[((0, 1, 3), (15, 16, 1), 1)]\n",
      "predict\n",
      "[(0, 1, 3), (15, 16, 1)]\n",
      "[((0, 1, 3), (15, 16, 1), 1)]\n",
      "=====================================\n",
      "['氣', '味', '方', '面', ',', '這', '款', '時', '光', '無', '痕', '緊', '緻', '精', '粹', '剛', '擠', '出', '來', '猛', '然', '一', '聞', '我', '以', '為', '是', '甜', '美', '的', '果', '香', ',', '不', '過', '細', '聞', '發', '現', '有', '點', '像', '麝', '香', '之', '類', '比', '較', '強', '的', '氣', '味', ',', '雖', '然', '不', '是', '我', '個', '人', '特', '別', '偏', '好', '的', '味', '道', ',', '不', '過', '並', '不', '是', '嗆', '人', '的', '濃', '香', ',', '在', '塗', '抹', '時', '味', '道', '不', '會', '太', '濃', ',', '所', '以', '還', 'O', 'K', '啦']\n",
      "['B-SENS', 'I-SENS', 'O', 'O', 'O', 'O', 'O', 'O', 'O', 'O', 'O', 'O', 'O', 'O', 'O', 'O', 'O', 'O', 'O', 'O', 'O', 'O', 'O', 'O', 'O', 'O', 'O', 'O', 'O', 'O', 'B-PERC', 'I-PERC', 'O', 'O', 'O', 'O', 'O', 'O', 'O', 'O', 'O', 'O', 'B-PERC', 'I-PERC', 'O', 'O', 'O', 'O', 'O', 'O', 'B-SENS', 'I-SENS', 'O', 'O', 'O', 'O', 'O', 'O', 'O', 'O', 'O', 'O', 'O', 'O', 'O', 'B-SENS', 'I-SENS', 'O', 'O', 'O', 'O', 'O', 'O', 'B-PERC', 'O', 'O', 'O', 'O', 'O', 'O', 'O', 'O', 'O', 'B-SENS', 'I-SENS', 'O', 'O', 'O', 'B-PERC', 'O', 'O', 'O', 'O', 'O', 'O', 'O']\n",
      "[[], [], '', '', '', '', '', '', '', '', '', '', '', '', '', '', '', '', '', '', '', '', '', '', '', '', '', '', '', '', [], [], '', '', '', '', '', '', '', '', '', '', ['Feel-0-B'], ['Feel-0-B'], '', '', '', '', '', '', ['Feel-0-A'], ['Feel-0-A'], '', '', '', '', '', '', '', '', '', '', '', '', '', [], [], '', '', '', '', '', '', [], '', '', '', '', '', '', '', '', '', [], [], '', '', '', [], '', '', '', '', '', '', '']\n",
      "\n",
      "Predict output\n",
      "['B-SENS', 'I-SENS', 'O', 'O', 'O', 'O', 'O', 'O', 'O', 'O', 'O', 'B-FUNC', 'I-FUNC', 'O', 'O', 'O', 'O', 'O', 'O', 'O', 'O', 'O', 'O', 'O', 'O', 'O', 'O', 'O', 'O', 'O', 'O', 'O', 'O', 'O', 'O', 'B-PERC', 'I-PERC', 'O', 'O', 'O', 'O', 'O', 'O', 'O', 'O', 'O', 'O', 'O', 'O', 'O', 'B-SENS', 'I-SENS', 'O', 'O', 'O', 'O', 'O', 'O', 'O', 'O', 'O', 'O', 'O', 'O', 'O', 'B-SENS', 'I-SENS', 'O', 'O', 'O', 'O', 'O', 'O', 'B-PERC', 'I-PERC', 'O', 'B-PERC', 'I-PERC', 'O', 'O', 'O', 'O', 'O', 'B-SENS', 'I-SENS', 'O', 'O', 'O', 'B-PERC', 'O', 'O', 'O', 'O', 'O', 'O', 'O']\n",
      "[['Feel-1-A', 'Feel-0-A'], ['Feel-1-A', 'Feel-0-A'], '', '', '', '', '', '', '', '', '', [], [], '', '', '', '', '', '', '', '', '', '', '', '', '', '', '', '', '', '', '', '', '', '', [], [], '', '', '', '', '', '', '', '', '', '', '', '', '', [], [], '', '', '', '', '', '', '', '', '', '', '', '', '', [], [], '', '', '', '', '', '', '', '', '', ['Feel-1-B'], ['Feel-1-B'], '', '', '', '', '', [], [], '', '', '', [], '', '', '', '', '', '', '']\n",
      "\n",
      "True\n",
      "[(0, 1, 2), (30, 31, 4), (42, 43, 4), (50, 51, 2), (65, 66, 2), (73, 73, 4), (83, 84, 2), (88, 88, 4)]\n",
      "[((42, 43, 4), (50, 51, 2), 2)]\n",
      "predict\n",
      "[(0, 1, 2), (11, 12, 1), (35, 36, 4), (50, 51, 2), (65, 66, 2), (73, 74, 4), (76, 77, 4), (83, 84, 2), (88, 88, 4)]\n",
      "[((0, 1, 2), (76, 77, 4), 2)]\n",
      "=====================================\n"
     ]
    },
    {
     "name": "stdout",
     "output_type": "stream",
     "text": [
      "['質', '地', ':', '液', '狀']\n",
      "['B-SENS', 'I-SENS', 'O', 'B-PERC', 'I-PERC']\n",
      "[['Feel-0-A'], ['Feel-0-A'], '', ['Feel-0-B'], ['Feel-0-B']]\n",
      "\n",
      "Predict output\n",
      "['B-SENS', 'I-SENS', 'O', 'B-PERC', 'I-PERC']\n",
      "[['Feel-0-A'], ['Feel-0-A'], '', ['Feel-0-B'], ['Feel-0-B']]\n",
      "\n",
      "True\n",
      "[(0, 1, 2), (3, 4, 4)]\n",
      "[((0, 1, 2), (3, 4, 4), 2)]\n",
      "predict\n",
      "[(0, 1, 2), (3, 4, 4)]\n",
      "[((0, 1, 2), (3, 4, 4), 2)]\n",
      "=====================================\n",
      "['擦', '在', '臉', '上', '只', '有', '感', '覺', '到', '舒', '服', ',', '真', '的', '是', '一', '款', '春', '夏', '換', '季', '及', '夏', '天', '冷', '氣', '房', '中', '不', '可', '或', '缺', '的', '保', '濕', '產', '品']\n",
      "['O', 'O', 'O', 'O', 'O', 'O', 'O', 'O', 'O', 'O', 'O', 'O', 'O', 'O', 'O', 'O', 'O', 'O', 'O', 'O', 'O', 'O', 'B-SEAS', 'I-SEAS', 'O', 'O', 'O', 'O', 'O', 'O', 'O', 'O', 'O', 'B-FUNC', 'I-FUNC', 'O', 'O']\n",
      "['', '', '', '', '', '', '', '', '', '', '', '', '', '', '', '', '', '', '', '', '', '', ['ApplyIn-0-B'], ['ApplyIn-0-B'], '', '', '', '', '', '', '', '', '', ['ApplyIn-0-A'], ['ApplyIn-0-A'], '', '']\n",
      "\n",
      "Predict output\n",
      "['O', 'O', 'O', 'O', 'O', 'O', 'O', 'O', 'O', 'O', 'O', 'O', 'O', 'O', 'O', 'O', 'O', 'O', 'O', 'O', 'O', 'O', 'B-SEAS', 'I-SEAS', 'O', 'O', 'O', 'O', 'O', 'O', 'O', 'O', 'O', 'B-FUNC', 'I-FUNC', 'O', 'O']\n",
      "['', '', '', '', '', '', '', '', '', '', '', '', '', '', '', '', '', '', '', '', '', '', [], [], '', '', '', '', '', '', '', '', '', [], [], '', '']\n",
      "\n",
      "True\n",
      "[(22, 23, 3), (33, 34, 1)]\n",
      "[((22, 23, 3), (33, 34, 1), 1)]\n",
      "predict\n",
      "[(22, 23, 3), (33, 34, 1)]\n",
      "[]\n",
      "=====================================\n",
      "['倒', '出', '來', '後', ',', '為', '透', '明', '質', '地', ',', '偏', '稠', '精', '華', '液', '狀']\n",
      "['O', 'O', 'O', 'O', 'O', 'O', 'O', 'O', 'B-SENS', 'I-SENS', 'O', 'O', 'O', 'B-PERC', 'I-PERC', 'I-PERC', 'I-PERC']\n",
      "['', '', '', '', '', '', '', '', ['Feel-0-A'], ['Feel-0-A'], '', '', '', ['Feel-0-B'], ['Feel-0-B'], ['Feel-0-B'], ['Feel-0-B']]\n",
      "\n",
      "Predict output\n",
      "['O', 'O', 'O', 'O', 'O', 'O', 'O', 'O', 'B-SENS', 'I-SENS', 'O', 'O', 'B-PERC', 'I-PERC', 'O', 'B-PERC', 'I-PERC']\n",
      "['', '', '', '', '', '', '', '', ['Feel-1-A', 'Feel-0-A'], ['Feel-1-A', 'Feel-0-A'], '', '', ['Feel-0-B'], [], '', ['Feel-1-B'], ['Feel-1-B']]\n",
      "\n",
      "True\n",
      "[(8, 9, 2), (13, 16, 4)]\n",
      "[((8, 9, 2), (13, 16, 4), 2)]\n",
      "predict\n",
      "[(8, 9, 2), (12, 13, 4), (15, 16, 4)]\n",
      "[((8, 9, 2), (15, 16, 4), 2)]\n",
      "=====================================\n",
      "['第', '二', '天', '清', '晨', ',', '我', '還', '刻', '意', '照', '鏡', '子', ',', '覺', '得', '臉', '比', '較', '亮', '了', '我', '想', '這', '是', '夏', '天', '的', '一', '項', '保', '養', '必', '備', '品', '會', '考', '慮', '去', '買', '正', '品', '使', '用']\n",
      "['O', 'O', 'O', 'O', 'O', 'O', 'O', 'O', 'O', 'O', 'O', 'O', 'O', 'O', 'O', 'O', 'O', 'O', 'O', 'O', 'O', 'O', 'O', 'O', 'O', 'B-SEAS', 'I-SEAS', 'O', 'O', 'O', 'O', 'O', 'O', 'O', 'O', 'O', 'O', 'O', 'O', 'O', 'O', 'O', 'O', 'O']\n",
      "['', '', '', '', '', '', '', '', '', '', '', '', '', '', '', '', '', '', '', '', '', '', '', '', '', [], [], '', '', '', '', '', '', '', '', '', '', '', '', '', '', '', '', '']\n",
      "\n",
      "Predict output\n",
      "['O', 'O', 'O', 'O', 'O', 'O', 'O', 'O', 'O', 'O', 'O', 'O', 'O', 'O', 'O', 'O', 'O', 'O', 'O', 'O', 'O', 'O', 'O', 'O', 'O', 'B-SEAS', 'I-SEAS', 'O', 'O', 'O', 'O', 'O', 'O', 'O', 'O', 'O', 'O', 'O', 'O', 'O', 'O', 'O', 'O', 'O']\n",
      "['', '', '', '', '', '', '', '', '', '', '', '', '', '', '', '', '', '', '', '', '', '', '', '', '', [], [], '', '', '', '', '', '', '', '', '', '', '', '', '', '', '', '', '']\n",
      "\n",
      "True\n",
      "[(25, 26, 3)]\n",
      "[]\n",
      "predict\n",
      "[(25, 26, 3)]\n",
      "[]\n",
      "=====================================\n",
      "['使', '用', '起', '來', '感', '覺', '蠻', '保', '濕', '滋', '潤', '的', ',', '對', '於', '現', '在', '秋', '天', '季', '節', ',']\n",
      "['O', 'O', 'O', 'O', 'O', 'O', 'O', 'B-FUNC', 'I-FUNC', 'O', 'O', 'O', 'O', 'O', 'O', 'O', 'O', 'B-SEAS', 'I-SEAS', 'O', 'O', 'O']\n",
      "['', '', '', '', '', '', '', ['ApplyIn-0-A'], ['ApplyIn-0-A'], '', '', '', '', '', '', '', '', ['ApplyIn-0-B'], ['ApplyIn-0-B'], '', '', '']\n",
      "\n",
      "Predict output\n",
      "['O', 'O', 'O', 'O', 'O', 'O', 'O', 'B-FUNC', 'I-FUNC', 'O', 'O', 'O', 'O', 'O', 'O', 'O', 'O', 'B-SEAS', 'I-SEAS', 'O', 'O', 'O']\n",
      "['', '', '', '', '', '', '', ['ApplyIn-0-A'], ['ApplyIn-0-A'], '', '', '', '', '', '', '', '', ['ApplyIn-0-B'], ['ApplyIn-0-B'], '', '', '']\n",
      "\n",
      "True\n",
      "[(7, 8, 1), (17, 18, 3)]\n",
      "[((7, 8, 1), (17, 18, 3), 1)]\n",
      "predict\n",
      "[(7, 8, 1), (17, 18, 3)]\n",
      "[((7, 8, 1), (17, 18, 3), 1)]\n",
      "=====================================\n",
      "['臉', '的', '光', '澤', '很', '好', ',', '彈', '力', '也', '不', '錯', ',', '而', '且', '即', '將', '邁', '入', '冬', '季', '的', '氣', '溫', ',', '已', '經', '需', '要', '做', '多', '一', '些', '滋', '潤', '臉', '部', '的', '保', '養', '手', '續']\n",
      "['O', 'O', 'O', 'O', 'O', 'O', 'O', 'O', 'O', 'O', 'O', 'O', 'O', 'O', 'O', 'O', 'O', 'O', 'O', 'B-SEAS', 'I-SEAS', 'O', 'O', 'O', 'O', 'O', 'O', 'O', 'O', 'O', 'O', 'O', 'O', 'O', 'O', 'O', 'O', 'O', 'O', 'O', 'O', 'O']\n",
      "['', '', '', '', '', '', '', '', '', '', '', '', '', '', '', '', '', '', '', [], [], '', '', '', '', '', '', '', '', '', '', '', '', '', '', '', '', '', '', '', '', '']\n",
      "\n",
      "Predict output\n",
      "['O', 'O', 'O', 'O', 'O', 'O', 'O', 'O', 'O', 'O', 'O', 'O', 'O', 'O', 'O', 'O', 'O', 'O', 'O', 'B-SEAS', 'I-SEAS', 'O', 'O', 'O', 'O', 'O', 'O', 'O', 'O', 'O', 'O', 'O', 'O', 'O', 'O', 'O', 'O', 'O', 'B-FUNC', 'I-FUNC', 'O', 'O']\n",
      "['', '', '', '', '', '', '', '', '', '', '', '', '', '', '', '', '', '', '', [], [], '', '', '', '', '', '', '', '', '', '', '', '', '', '', '', '', '', [], [], '', '']\n",
      "\n",
      "True\n",
      "[(19, 20, 3)]\n",
      "[]\n",
      "predict\n",
      "[(19, 20, 3), (38, 39, 1)]\n",
      "[]\n",
      "=====================================\n",
      "['質', '地', '也', '不', '會', '太', '黏', '.', '.', '.', '至', '少', '出', '門', '不', '會', '沾', '的', '嘴', '唇', '都', '是', '砂', '子', '.', '.', '.']\n",
      "['B-SENS', 'I-SENS', 'O', 'O', 'O', 'O', 'B-PERC', 'O', 'O', 'O', 'O', 'O', 'O', 'O', 'O', 'O', 'O', 'O', 'O', 'O', 'O', 'O', 'O', 'O', 'O', 'O', 'O']\n",
      "[[], [], '', '', '', '', [], '', '', '', '', '', '', '', '', '', '', '', '', '', '', '', '', '', '', '', '']\n",
      "\n",
      "Predict output\n",
      "['B-SENS', 'I-SENS', 'O', 'O', 'O', 'O', 'B-PERC', 'I-PERC', 'O', 'O', 'O', 'O', 'O', 'O', 'O', 'O', 'O', 'O', 'O', 'O', 'O', 'O', 'O', 'O', 'O', 'O', 'O']\n",
      "[['Feel-0-A'], ['Feel-0-A'], '', '', '', '', ['Feel-0-B'], [], '', '', '', '', '', '', '', '', '', '', '', '', '', '', '', '', '', '', '']\n",
      "\n",
      "True\n",
      "[(0, 1, 2), (6, 6, 4)]\n",
      "[]\n",
      "predict\n",
      "[(0, 1, 2), (6, 7, 4)]\n",
      "[]\n",
      "=====================================\n",
      "['香', '味', '很', '濃', '郁']\n",
      "['B-SENS', 'I-SENS', 'O', 'B-PERC', 'I-PERC']\n",
      "[['Feel-0-A'], ['Feel-0-A'], '', ['Feel-0-B'], ['Feel-0-B']]\n",
      "\n",
      "Predict output\n",
      "['B-SENS', 'I-SENS', 'O', 'B-PERC', 'I-PERC']\n",
      "[['Feel-0-A'], ['Feel-0-A'], '', ['Feel-0-B'], ['Feel-0-B']]\n",
      "\n",
      "True\n",
      "[(0, 1, 2), (3, 4, 4)]\n",
      "[((0, 1, 2), (3, 4, 4), 2)]\n",
      "predict\n",
      "[(0, 1, 2), (3, 4, 4)]\n",
      "[((0, 1, 2), (3, 4, 4), 2)]\n",
      "=====================================\n",
      "['使', '用', '感', '吸', '收', '度', '佳', ',', '好', '推', '展', '均', '勻', ',', '用', '量', '省', ',', '質', '地', '觸', '感', ',', '不', '油', '膩', ',', '不', '黏', '膩', ',', '細', '膩', '滑', '順', ',']\n",
      "['O', 'O', 'O', 'O', 'O', 'O', 'O', 'O', 'O', 'O', 'O', 'O', 'O', 'O', 'O', 'O', 'O', 'O', 'B-SENS', 'I-SENS', 'B-SENS', 'I-SENS', 'O', 'O', 'O', 'O', 'O', 'O', 'B-PERC', 'I-PERC', 'O', 'B-PERC', 'I-PERC', 'B-PERC', 'I-PERC', 'O']\n",
      "['', '', '', '', '', '', '', '', '', '', '', '', '', '', '', '', '', '', ['Feel-1-A', 'Feel-0-A'], ['Feel-1-A', 'Feel-0-A'], [], [], '', '', '', '', '', '', [], [], '', '', '', '', '', '']\n",
      "\n",
      "Predict output\n",
      "['O', 'O', 'O', 'O', 'O', 'O', 'O', 'O', 'O', 'O', 'O', 'O', 'O', 'O', 'O', 'O', 'O', 'O', 'B-SENS', 'I-SENS', 'B-SENS', 'I-SENS', 'O', 'O', 'O', 'O', 'O', 'O', 'B-PERC', 'I-PERC', 'O', 'B-PERC', 'I-PERC', 'B-PERC', 'I-PERC', 'O']\n",
      "['', '', '', '', '', '', '', '', '', '', '', '', '', '', '', '', '', '', ['Feel-1-A', 'Feel-0-A'], ['Feel-1-A', 'Feel-0-A'], [], [], '', '', '', '', '', '', '', '', '', [], [], [], [], '']\n",
      "\n",
      "True\n",
      "[(18, 19, 2), (20, 21, 2), (28, 29, 4), (31, 32, 4), (33, 34, 4)]\n",
      "[]\n",
      "predict\n",
      "[(18, 19, 2), (20, 21, 2), (28, 29, 4), (31, 32, 4), (33, 34, 4)]\n",
      "[]\n",
      "=====================================\n",
      "['混', '合', '性', '膚', '質', '的', '我', '洗', '完', '很', '保', '濕', '清', '爽', '不', '油', '膩']\n",
      "['B-STAT', 'I-STAT', 'I-STAT', 'I-STAT', 'I-STAT', 'O', 'O', 'O', 'O', 'O', 'B-FUNC', 'I-FUNC', 'O', 'O', 'O', 'O', 'O']\n",
      "[['ApplyTo-0-B'], ['ApplyTo-0-B'], ['ApplyTo-0-B'], ['ApplyTo-0-B'], ['ApplyTo-0-B'], '', '', '', '', '', ['ApplyTo-0-A'], ['ApplyTo-0-A'], '', '', '', '', '']\n",
      "\n",
      "Predict output\n",
      "['B-STAT', 'I-STAT', 'I-STAT', 'I-STAT', 'I-STAT', 'O', 'O', 'O', 'O', 'O', 'B-FUNC', 'I-FUNC', 'B-FUNC', 'I-PERC', 'O', 'O', 'O']\n",
      "[['ApplyTo-0-B'], ['ApplyTo-0-B'], ['ApplyTo-0-B'], ['ApplyTo-0-B'], ['ApplyTo-0-B'], '', '', '', '', '', ['ApplyTo-0-A'], ['ApplyTo-0-A'], ['ApplyTo-0-A'], [], '', '', '']\n",
      "\n",
      "True\n",
      "[(0, 4, 0), (10, 11, 1)]\n",
      "[((0, 4, 0), (10, 11, 1), 0)]\n",
      "predict\n",
      "[(0, 4, 0), (10, 11, 1), (12, 12, 1)]\n",
      "[((0, 4, 0), (10, 11, 1), 0), ((0, 4, 0), (12, 12, 1), 0)]\n",
      "=====================================\n",
      "Batch entity score\n",
      "precision  \t recall  \t fbeta_score  \t\n",
      "(0.7840909090909091, 0.8846153846153846, 0.8313253012048192, None)\n",
      "\n",
      "Batch relation score\n",
      "precision  \t recall  \t fbeta_score  \t\n",
      "(0.7, 0.5384615384615384, 0.608695652173913, None)\n",
      "\n",
      "p_r_fscore\n",
      "precision  \t recall  \t fbeta_score  \t\n",
      "(0.6999999996499999, 0.5384615382544379, 0.6086956469943289) 14 6 0 12\n",
      "===========================================\n"
     ]
    },
    {
     "name": "stdout",
     "output_type": "stream",
     "text": [
      "['玫', '瑰', '修', '護', '霜', '的', '質', '感', '是', '比', '較', '濃', '稠', '細', '緻', '水', '嫩', '質', '地', ',', '擦', '在', '手', '上', '不', '會', '有', '水', '水', '也', '不', '會', '滴', '落', ',', '味', '道', '很', '清', '爽', '的', '花', '香', '味', ',', '很', '讓', '人', '喜', '歡', ',', '也', '相', '當', '好', '推', '勻', ',', '而', '且', '很', '快', '就', '吸', '收', ',']\n",
      "['O', 'O', 'O', 'O', 'O', 'O', 'O', 'O', 'O', 'O', 'O', 'B-PERC', 'I-PERC', 'B-PERC', 'I-PERC', 'O', 'O', 'B-SENS', 'I-SENS', 'O', 'O', 'O', 'O', 'O', 'O', 'O', 'O', 'O', 'O', 'O', 'O', 'O', 'O', 'O', 'O', 'O', 'O', 'O', 'O', 'O', 'O', 'O', 'O', 'O', 'O', 'O', 'O', 'O', 'O', 'O', 'O', 'O', 'O', 'O', 'B-PERC', 'I-PERC', 'I-PERC', 'O', 'O', 'O', 'O', 'O', 'O', 'O', 'O', 'O']\n",
      "['', '', '', '', '', '', '', '', '', '', '', ['Feel-0-B'], ['Feel-0-B'], [], [], '', '', ['Feel-1-A'], ['Feel-1-A'], '', '', '', '', '', '', '', '', '', '', '', '', '', '', '', '', '', '', '', '', '', '', '', '', '', '', '', '', '', '', '', '', '', '', '', ['Feel-1-B'], ['Feel-1-B'], ['Feel-1-B'], '', '', '', '', '', '', '', '', '']\n",
      "\n",
      "Predict output\n",
      "['O', 'O', 'O', 'O', 'O', 'O', 'B-SENS', 'I-SENS', 'O', 'O', 'O', 'B-PERC', 'I-PERC', 'B-PERC', 'I-PERC', 'B-PERC', 'I-PERC', 'B-SENS', 'I-SENS', 'O', 'O', 'O', 'O', 'O', 'O', 'O', 'O', 'O', 'O', 'O', 'O', 'O', 'O', 'O', 'O', 'O', 'O', 'O', 'B-PERC', 'I-PERC', 'O', 'O', 'B-SENS', 'I-SENS', 'O', 'O', 'O', 'O', 'O', 'O', 'O', 'O', 'O', 'O', 'B-PERC', 'I-PERC', 'I-PERC', 'O', 'O', 'O', 'O', 'O', 'O', 'O', 'O', 'O']\n",
      "['', '', '', '', '', '', ['Feel-0-A', 'Feel-2-A'], ['Feel-0-A', 'Feel-2-A'], '', '', '', ['Feel-3-B', 'Feel-0-B', 'Feel-1-B'], ['Feel-3-B', 'Feel-0-B', 'Feel-1-B'], [], [], [], ['Feel-4-A'], ['Feel-4-A'], ['Feel-4-A'], '', '', '', '', '', '', '', '', '', '', '', '', '', '', '', '', '', '', '', '', '', '', '', '', '', '', '', '', '', '', '', '', '', '', '', '', '', '', '', '', '', '', '', '', '', '', '']\n",
      "\n",
      "True\n",
      "[(11, 12, 4), (13, 14, 4), (17, 18, 2), (54, 56, 4)]\n",
      "[((17, 18, 2), (54, 56, 4), 2)]\n",
      "predict\n",
      "[(6, 7, 2), (11, 12, 4), (13, 14, 4), (15, 16, 4), (17, 18, 2), (38, 39, 4), (42, 43, 2), (54, 56, 4)]\n",
      "[((6, 7, 2), (11, 12, 4), 2)]\n",
      "=====================================\n",
      "['精', '華', '液', '的', '質', '地', '很', '清', '爽', ',', '很', '快', '就', '吸', '收', '進', '去', '了', ',']\n",
      "['O', 'O', 'O', 'O', 'B-SENS', 'I-SENS', 'O', 'B-PERC', 'I-PERC', 'O', 'O', 'O', 'O', 'O', 'O', 'O', 'O', 'O', 'O']\n",
      "['', '', '', '', ['Feel-0-A'], ['Feel-0-A'], '', ['Feel-0-B'], ['Feel-0-B'], '', '', '', '', '', '', '', '', '', '']\n",
      "\n",
      "Predict output\n",
      "['O', 'O', 'O', 'O', 'B-SENS', 'I-SENS', 'O', 'B-PERC', 'I-PERC', 'O', 'O', 'O', 'O', 'O', 'O', 'O', 'O', 'O', 'O']\n",
      "['', '', '', '', ['Feel-0-A'], ['Feel-0-A'], '', ['Feel-0-B'], ['Feel-0-B'], '', '', '', '', '', '', '', '', '', '']\n",
      "\n",
      "True\n",
      "[(4, 5, 2), (7, 8, 4)]\n",
      "[((4, 5, 2), (7, 8, 4), 2)]\n",
      "predict\n",
      "[(4, 5, 2), (7, 8, 4)]\n",
      "[((4, 5, 2), (7, 8, 4), 2)]\n",
      "=====================================\n",
      "['雖', '然', '稱', '是', '化', '妝', '水', ',', '但', '是', '質', '地', '是', '有', '點', '水', '乳', '狀', ',', '是', '完', '全', '透', '明', '狀']\n",
      "['O', 'O', 'O', 'O', 'O', 'O', 'O', 'O', 'O', 'O', 'B-SENS', 'I-SENS', 'O', 'O', 'O', 'O', 'B-PERC', 'I-PERC', 'O', 'O', 'O', 'O', 'O', 'O', 'O']\n",
      "['', '', '', '', '', '', '', '', '', '', ['Feel-0-A'], ['Feel-0-A'], '', '', '', '', ['Feel-0-B'], ['Feel-0-B'], '', '', '', '', '', '', '']\n",
      "\n",
      "Predict output\n",
      "['O', 'O', 'O', 'O', 'O', 'O', 'O', 'O', 'O', 'O', 'B-SENS', 'I-SENS', 'O', 'O', 'O', 'O', 'B-PERC', 'I-PERC', 'O', 'O', 'O', 'O', 'O', 'O', 'O']\n",
      "['', '', '', '', '', '', '', '', '', '', [], [], '', '', '', '', [], [], '', '', '', '', '', '', '']\n",
      "\n",
      "True\n",
      "[(10, 11, 2), (16, 17, 4)]\n",
      "[((10, 11, 2), (16, 17, 4), 2)]\n",
      "predict\n",
      "[(10, 11, 2), (16, 17, 4)]\n",
      "[]\n",
      "=====================================\n",
      "['試', '用', '在', '手', '上', ',', '明', '顯', '感', '受', '到', '水', '感', '提', '升', ',', '肌', '膚', '也', '有', '一', '層', '水', '潤', '的', '光', '澤', ',', '偏', '水', '的', '質', '地', ',', '很', '容', '易', '就', '被', '肌', '膚', '吸', '收']\n",
      "['O', 'O', 'O', 'O', 'O', 'O', 'O', 'O', 'O', 'O', 'O', 'O', 'O', 'O', 'O', 'O', 'O', 'O', 'O', 'O', 'O', 'O', 'O', 'O', 'O', 'O', 'O', 'O', 'O', 'O', 'O', 'B-SENS', 'I-SENS', 'O', 'O', 'O', 'O', 'O', 'O', 'O', 'O', 'O', 'O']\n",
      "['', '', '', '', '', '', '', '', '', '', '', '', '', '', '', '', '', '', '', '', '', '', '', '', '', '', '', '', '', '', '', [], [], '', '', '', '', '', '', '', '', '', '']\n",
      "\n",
      "Predict output\n",
      "['O', 'O', 'O', 'O', 'O', 'O', 'O', 'O', 'O', 'O', 'O', 'O', 'O', 'O', 'O', 'O', 'O', 'O', 'O', 'O', 'O', 'O', 'B-PERC', 'I-PERC', 'O', 'O', 'O', 'O', 'O', 'O', 'O', 'B-SENS', 'I-SENS', 'O', 'O', 'O', 'O', 'O', 'O', 'O', 'O', 'O', 'O']\n",
      "['', '', '', '', '', '', '', '', '', '', '', '', '', '', '', '', '', '', '', '', '', '', ['Feel-0-B'], ['Feel-0-B'], '', '', '', '', '', '', '', ['Feel-0-A'], ['Feel-0-A'], '', '', '', '', '', '', '', '', '', '']\n",
      "\n",
      "True\n",
      "[(31, 32, 2)]\n",
      "[]\n",
      "predict\n",
      "[(22, 23, 4), (31, 32, 2)]\n",
      "[((22, 23, 4), (31, 32, 2), 2)]\n",
      "=====================================\n",
      "['不', '過', '對', '於', '冬', '天', '的', '眼', '周', '肌', '膚', '似', '乎', '不', '夠', '保', '濕']\n",
      "['O', 'O', 'O', 'O', 'B-SEAS', 'I-SEAS', 'O', 'O', 'O', 'O', 'O', 'O', 'O', 'O', 'O', 'B-FUNC', 'I-FUNC']\n",
      "['', '', '', '', [], [], '', '', '', '', '', '', '', '', '', [], []]\n",
      "\n",
      "Predict output\n",
      "['O', 'O', 'O', 'O', 'B-SEAS', 'I-SEAS', 'O', 'O', 'O', 'O', 'O', 'O', 'O', 'O', 'O', 'B-FUNC', 'I-FUNC']\n",
      "['', '', '', '', ['ApplyIn-0-B'], ['ApplyIn-0-B'], '', '', '', '', '', '', '', '', '', ['ApplyIn-0-A'], ['ApplyIn-0-A']]\n",
      "\n",
      "True\n",
      "[(4, 5, 3), (15, 16, 1)]\n",
      "[]\n",
      "predict\n",
      "[(4, 5, 3), (15, 16, 1)]\n",
      "[((4, 5, 3), (15, 16, 1), 1)]\n",
      "=====================================\n",
      "['我', '想', '這', '個', '冬', '天', '會', '使', '用', '這', '瓶', '來', '加', '強', '保', '濕', ',', '而', '且', '效', '果', '也', '不', '錯', ',', '也', '會', '買', '一', '瓶', '給', '媽', '媽', ',', '因', '為', '她', '更', '需', '要']\n",
      "['O', 'O', 'O', 'O', 'B-SEAS', 'I-SEAS', 'O', 'O', 'O', 'O', 'O', 'O', 'O', 'O', 'B-FUNC', 'I-FUNC', 'O', 'O', 'O', 'O', 'O', 'O', 'O', 'O', 'O', 'O', 'O', 'O', 'O', 'O', 'O', 'O', 'O', 'O', 'O', 'O', 'O', 'O', 'O', 'O']\n",
      "['', '', '', '', ['ApplyIn-0-B'], ['ApplyIn-0-B'], '', '', '', '', '', '', '', '', ['ApplyIn-0-A'], ['ApplyIn-0-A'], '', '', '', '', '', '', '', '', '', '', '', '', '', '', '', '', '', '', '', '', '', '', '', '']\n",
      "\n",
      "Predict output\n",
      "['O', 'O', 'O', 'O', 'B-SEAS', 'I-SEAS', 'O', 'O', 'O', 'O', 'O', 'O', 'O', 'O', 'B-FUNC', 'I-FUNC', 'O', 'O', 'O', 'O', 'O', 'O', 'O', 'O', 'O', 'O', 'O', 'O', 'O', 'O', 'O', 'O', 'O', 'O', 'O', 'O', 'O', 'O', 'O', 'O']\n",
      "['', '', '', '', [], [], '', '', '', '', '', '', '', '', [], [], '', '', '', '', '', '', '', '', '', '', '', '', '', '', '', '', '', '', '', '', '', '', '', '']\n",
      "\n",
      "True\n",
      "[(4, 5, 3), (14, 15, 1)]\n",
      "[((4, 5, 3), (14, 15, 1), 1)]\n",
      "predict\n",
      "[(4, 5, 3), (14, 15, 1)]\n",
      "[]\n",
      "=====================================\n",
      "['保', '溼', '度', '很', '強', ',', '很', '適', '合', '肌', '膚', '容', '易', '出', '油', '和', '吹', '冷', '氣', '過', '度', '導', '致', '皮', '膚', '乾', '燥', '的', '夏', '天']\n",
      "['B-FUNC', 'I-FUNC', 'O', 'O', 'O', 'O', 'O', 'O', 'O', 'O', 'O', 'O', 'O', 'O', 'O', 'O', 'O', 'O', 'O', 'O', 'O', 'O', 'O', 'O', 'O', 'O', 'O', 'O', 'B-SEAS', 'I-SEAS']\n",
      "[['ApplyIn-0-A'], ['ApplyIn-0-A'], '', '', '', '', '', '', '', '', '', '', '', '', '', '', '', '', '', '', '', '', '', '', '', '', '', '', ['ApplyIn-0-B'], ['ApplyIn-0-B']]\n",
      "\n",
      "Predict output\n",
      "['B-FUNC', 'I-FUNC', 'O', 'O', 'O', 'O', 'O', 'O', 'O', 'O', 'O', 'O', 'O', 'O', 'O', 'O', 'O', 'O', 'O', 'O', 'O', 'O', 'O', 'B-STAT', 'I-STAT', 'I-STAT', 'I-STAT', 'O', 'B-SEAS', 'I-SEAS']\n",
      "[[], [], '', '', '', '', '', '', '', '', '', '', '', '', '', '', '', '', '', '', '', '', '', [], [], [], [], '', [], []]\n",
      "\n",
      "True\n",
      "[(0, 1, 1), (28, 29, 3)]\n",
      "[((0, 1, 1), (28, 29, 3), 1)]\n",
      "predict\n",
      "[(0, 1, 1), (23, 26, 0), (28, 29, 3)]\n",
      "[]\n",
      "=====================================\n",
      "['使', '用', '皇', '家', '蜂', '王', '乳', '修', '護', '精', '華', '期', '間', ',', '早', '晚', '各', '一', '次', '使', '用', ',', '肌', '膚', '一', '切', '正', '常', ',', '完', '完', '全', '全', '沒', '有', '過', '敏', '現', '象', '~', '不', '但', '沒', '有', '過', '敏', ',', '還', '有', '舒', '緩', '的', '感', '覺', '~', '敏', '感', '肌', '的', '水', '水', '放', '心', '吧', '^', '_', '^']\n",
      "['O', 'O', 'O', 'O', 'O', 'O', 'O', 'O', 'O', 'O', 'O', 'O', 'O', 'O', 'O', 'O', 'O', 'O', 'O', 'O', 'O', 'O', 'O', 'O', 'O', 'O', 'O', 'O', 'O', 'O', 'O', 'O', 'O', 'O', 'O', 'O', 'O', 'O', 'O', 'O', 'O', 'O', 'O', 'O', 'O', 'O', 'O', 'O', 'O', 'B-FUNC', 'I-FUNC', 'O', 'O', 'O', 'O', 'B-STAT', 'I-STAT', 'I-STAT', 'O', 'O', 'O', 'O', 'O', 'O', 'O', 'O', 'O']\n",
      "['', '', '', '', '', '', '', '', '', '', '', '', '', '', '', '', '', '', '', '', '', '', '', '', '', '', '', '', '', '', '', '', '', '', '', '', '', '', '', '', '', '', '', '', '', '', '', '', '', ['ApplyTo-0-A'], ['ApplyTo-0-A'], '', '', '', '', ['ApplyTo-0-B'], ['ApplyTo-0-B'], ['ApplyTo-0-B'], '', '', '', '', '', '', '', '', '']\n",
      "\n",
      "Predict output\n",
      "['O', 'O', 'O', 'O', 'O', 'O', 'O', 'O', 'O', 'O', 'O', 'O', 'O', 'O', 'O', 'O', 'O', 'O', 'O', 'O', 'O', 'O', 'O', 'O', 'O', 'O', 'O', 'O', 'O', 'O', 'O', 'O', 'O', 'O', 'O', 'O', 'O', 'O', 'O', 'O', 'O', 'O', 'O', 'O', 'O', 'O', 'O', 'O', 'O', 'B-FUNC', 'I-FUNC', 'O', 'O', 'O', 'O', 'O', 'I-STAT', 'I-STAT', 'O', 'O', 'O', 'O', 'O', 'O', 'O', 'O', 'O']\n",
      "['', '', '', '', '', '', '', '', '', '', '', '', '', '', '', '', '', '', '', '', '', '', '', '', '', '', '', '', '', '', '', '', '', '', '', '', '', '', '', '', '', '', '', '', '', '', '', '', '', [], [], '', '', '', '', '', [], [], '', '', '', '', '', '', '', '', '']\n",
      "\n",
      "True\n",
      "[(49, 50, 1), (55, 57, 0)]\n",
      "[((49, 50, 1), (55, 57, 0), 0)]\n",
      "predict\n",
      "[(49, 50, 1)]\n",
      "[]\n",
      "=====================================\n"
     ]
    },
    {
     "name": "stdout",
     "output_type": "stream",
     "text": [
      "['雖', '然', '是', '夏', '天', ',', '但', '幾', '乎', '的', '透', '亮', '度', '也', '有', '明', '顯', '的', '感', '覺', '(', '不', '是', '美', '白', '的', '那', '種', '白', '透', ')', ',']\n",
      "['O', 'O', 'O', 'B-SEAS', 'I-SEAS', 'O', 'O', 'O', 'O', 'O', 'O', 'O', 'O', 'O', 'O', 'O', 'O', 'O', 'O', 'O', 'O', 'O', 'O', 'O', 'O', 'O', 'O', 'O', 'O', 'O', 'O', 'O']\n",
      "['', '', '', [], [], '', '', '', '', '', '', '', '', '', '', '', '', '', '', '', '', '', '', '', '', '', '', '', '', '', '', '']\n",
      "\n",
      "Predict output\n",
      "['O', 'O', 'O', 'B-SEAS', 'I-SEAS', 'O', 'O', 'O', 'O', 'O', 'O', 'O', 'O', 'O', 'O', 'O', 'O', 'O', 'O', 'O', 'O', 'O', 'O', 'O', 'O', 'O', 'O', 'O', 'O', 'O', 'O', 'O']\n",
      "['', '', '', [], [], '', '', '', '', '', '', '', '', '', '', '', '', '', '', '', '', '', '', '', '', '', '', '', '', '', '', '']\n",
      "\n",
      "True\n",
      "[(3, 4, 3)]\n",
      "[]\n",
      "predict\n",
      "[(3, 4, 3)]\n",
      "[]\n",
      "=====================================\n",
      "['不', '過', ',', '基', '本', '的', '保', '濕', '度', '是', '有', '的', ',', '可', '能', '比', '較', '適', '合', '我', '夏', '天', '使', '用', '吧']\n",
      "['O', 'O', 'O', 'O', 'O', 'O', 'B-FUNC', 'I-FUNC', 'I-FUNC', 'O', 'O', 'O', 'O', 'O', 'O', 'O', 'O', 'O', 'O', 'O', 'B-SEAS', 'I-SEAS', 'O', 'O', 'O']\n",
      "['', '', '', '', '', '', ['ApplyIn-0-A'], ['ApplyIn-0-A'], ['ApplyIn-0-A'], '', '', '', '', '', '', '', '', '', '', '', ['ApplyIn-0-B'], ['ApplyIn-0-B'], '', '', '']\n",
      "\n",
      "Predict output\n",
      "['O', 'O', 'O', 'O', 'O', 'O', 'B-FUNC', 'I-FUNC', 'I-FUNC', 'O', 'O', 'O', 'O', 'O', 'O', 'O', 'O', 'O', 'O', 'O', 'B-SEAS', 'I-SEAS', 'O', 'O', 'O']\n",
      "['', '', '', '', '', '', ['ApplyIn-0-A'], ['ApplyIn-0-A'], ['ApplyIn-0-A'], '', '', '', '', '', '', '', '', '', '', '', ['ApplyIn-0-B'], ['ApplyIn-0-B'], '', '', '']\n",
      "\n",
      "True\n",
      "[(6, 8, 1), (20, 21, 3)]\n",
      "[((6, 8, 1), (20, 21, 3), 1)]\n",
      "predict\n",
      "[(6, 8, 1), (20, 21, 3)]\n",
      "[((6, 8, 1), (20, 21, 3), 1)]\n",
      "=====================================\n",
      "['3', '、', '秋', '天', '的', '太', '陽', '並', '沒', '有', '比', '夏', '天', '客', '氣', ',', '一', '樣', '熱', '得', '讓', '人', '溶', '妝', ',', '因', '此', '在', '粉', '餅', '的', '選', '擇', '上', '控', '油', '、', '抗', '汗', '、', '抗', '暗', '沈', '等', '高', '持', '妝', '力', '訴', '求', '是', '最', '重', '要', '的']\n",
      "['O', 'O', 'B-SEAS', 'I-SEAS', 'O', 'O', 'O', 'O', 'O', 'O', 'O', 'B-SEAS', 'I-SEAS', 'O', 'O', 'O', 'O', 'O', 'O', 'O', 'O', 'O', 'O', 'O', 'O', 'O', 'O', 'O', 'O', 'O', 'O', 'O', 'O', 'O', 'O', 'O', 'O', 'O', 'O', 'O', 'O', 'O', 'O', 'O', 'O', 'O', 'O', 'O', 'O', 'O', 'O', 'O', 'O', 'O', 'O']\n",
      "['', '', [], [], '', '', '', '', '', '', '', [], [], '', '', '', '', '', '', '', '', '', '', '', '', '', '', '', '', '', '', '', '', '', '', '', '', '', '', '', '', '', '', '', '', '', '', '', '', '', '', '', '', '', '']\n",
      "\n",
      "Predict output\n",
      "['O', 'O', 'B-SEAS', 'I-SEAS', 'O', 'O', 'O', 'O', 'O', 'O', 'O', 'B-SEAS', 'I-SEAS', 'O', 'O', 'O', 'O', 'O', 'O', 'O', 'O', 'O', 'O', 'O', 'O', 'O', 'O', 'O', 'O', 'O', 'O', 'O', 'O', 'O', 'O', 'O', 'O', 'O', 'O', 'O', 'O', 'O', 'O', 'O', 'O', 'O', 'O', 'O', 'O', 'O', 'O', 'O', 'O', 'O', 'O']\n",
      "['', '', [], [], '', '', '', '', '', '', '', [], [], '', '', '', '', '', '', '', '', '', '', '', '', '', '', '', '', '', '', '', '', '', '', '', '', '', '', '', '', '', '', '', '', '', '', '', '', '', '', '', '', '', '']\n",
      "\n",
      "True\n",
      "[(2, 3, 3), (11, 12, 3)]\n",
      "[]\n",
      "predict\n",
      "[(2, 3, 3), (11, 12, 3)]\n",
      "[]\n",
      "=====================================\n",
      "['我', '的', '敏', '感', '肌', '碰', '到', '大', '部', '分', '的', '美', '白', '產', '品', '都', '會', '產', '生', '過', '敏', '現', '象', ',', '但', '還', '是', '不', '能', '消', '除', '我', '想', '要', '美', '白', '的', '慾', '望', ',']\n",
      "['O', 'O', 'B-STAT', 'I-STAT', 'I-STAT', 'O', 'O', 'O', 'O', 'O', 'O', 'O', 'O', 'O', 'O', 'O', 'O', 'O', 'O', 'O', 'O', 'O', 'O', 'O', 'O', 'O', 'O', 'O', 'O', 'O', 'O', 'O', 'O', 'O', 'O', 'O', 'O', 'O', 'O', 'O']\n",
      "['', '', [], [], [], '', '', '', '', '', '', '', '', '', '', '', '', '', '', '', '', '', '', '', '', '', '', '', '', '', '', '', '', '', '', '', '', '', '', '']\n",
      "\n",
      "Predict output\n",
      "['O', 'O', 'B-STAT', 'I-STAT', 'I-STAT', 'O', 'O', 'O', 'O', 'O', 'O', 'O', 'O', 'O', 'O', 'O', 'O', 'O', 'O', 'O', 'O', 'O', 'O', 'O', 'O', 'O', 'O', 'O', 'O', 'O', 'O', 'O', 'O', 'O', 'O', 'O', 'O', 'O', 'O', 'O']\n",
      "['', '', [], [], [], '', '', '', '', '', '', '', '', '', '', '', '', '', '', '', '', '', '', '', '', '', '', '', '', '', '', '', '', '', '', '', '', '', '', '']\n",
      "\n",
      "True\n",
      "[(2, 4, 0)]\n",
      "[]\n",
      "predict\n",
      "[(2, 4, 0)]\n",
      "[]\n",
      "=====================================\n",
      "['保', '濕', '度', '很', '不', '錯', ',', '一', '般', '冬', '天', '我', '都', '要', '加', '乳', '霜', '保', '濕', ',']\n",
      "['B-FUNC', 'I-FUNC', 'I-FUNC', 'O', 'O', 'O', 'O', 'O', 'O', 'B-SEAS', 'I-SEAS', 'O', 'O', 'O', 'O', 'O', 'O', 'B-FUNC', 'I-FUNC', 'O']\n",
      "[['ApplyIn-0-A'], ['ApplyIn-0-A'], ['ApplyIn-0-A'], '', '', '', '', '', '', ['ApplyIn-0-B'], ['ApplyIn-0-B'], '', '', '', '', '', '', [], [], '']\n",
      "\n",
      "Predict output\n",
      "['B-FUNC', 'I-FUNC', 'I-FUNC', 'O', 'O', 'O', 'O', 'O', 'O', 'B-SEAS', 'I-SEAS', 'O', 'O', 'O', 'O', 'O', 'O', 'O', 'O', 'O']\n",
      "[['ApplyIn-0-A'], ['ApplyIn-0-A'], ['ApplyIn-0-A'], '', '', '', '', '', '', ['ApplyIn-0-B'], ['ApplyIn-0-B'], '', '', '', '', '', '', '', '', '']\n",
      "\n",
      "True\n",
      "[(0, 2, 1), (9, 10, 3), (17, 18, 1)]\n",
      "[((0, 2, 1), (9, 10, 3), 1)]\n",
      "predict\n",
      "[(0, 2, 1), (9, 10, 3)]\n",
      "[((0, 2, 1), (9, 10, 3), 1)]\n",
      "=====================================\n",
      "['嫩', '肌', '精', '的', '質', '地', '是', '介', '於', '化', '妝', '水', '跟', '精', '華', '液', '之', '間', ',', '有', '點', '濃', '稠', '又', '不', '會', '太', '濃', '稠']\n",
      "['O', 'O', 'O', 'O', 'B-SENS', 'I-SENS', 'O', 'O', 'O', 'O', 'O', 'O', 'O', 'O', 'O', 'O', 'O', 'O', 'O', 'O', 'O', 'B-PERC', 'I-PERC', 'O', 'O', 'O', 'O', 'B-PERC', 'I-PERC']\n",
      "['', '', '', '', ['Feel-0-A'], ['Feel-0-A'], '', '', '', '', '', '', '', '', '', '', '', '', '', '', '', ['Feel-0-B'], ['Feel-0-B'], '', '', '', '', [], []]\n",
      "\n",
      "Predict output\n",
      "['O', 'O', 'O', 'O', 'B-SENS', 'I-SENS', 'O', 'O', 'O', 'O', 'O', 'O', 'O', 'O', 'O', 'O', 'O', 'O', 'O', 'O', 'O', 'B-PERC', 'I-PERC', 'O', 'O', 'O', 'O', 'B-PERC', 'I-PERC']\n",
      "['', '', '', '', ['Feel-1-A', 'Feel-0-A'], ['Feel-1-A', 'Feel-0-A'], '', '', '', '', '', '', '', '', '', '', '', '', '', '', '', ['Feel-0-B'], ['Feel-0-B'], '', '', '', '', ['Feel-1-B'], ['Feel-1-B']]\n",
      "\n",
      "True\n",
      "[(4, 5, 2), (21, 22, 4), (27, 28, 4)]\n",
      "[((4, 5, 2), (21, 22, 4), 2)]\n",
      "predict\n",
      "[(4, 5, 2), (21, 22, 4), (27, 28, 4)]\n",
      "[((4, 5, 2), (21, 22, 4), 2), ((4, 5, 2), (27, 28, 4), 2)]\n",
      "=====================================\n",
      "['眼', '霜', '的', '質', '地', '算', '濃', '稠', ',', '原', '本', '以', '為', '會', '很', '油', ',', '但', '是', '其', '實', '很', '快', '就', '吸', '收', '了', ',', '吸', '收', '度', '很', '好', ',', '其', '實', '還', '算', '清', '爽']\n",
      "['O', 'O', 'O', 'B-SENS', 'I-SENS', 'O', 'B-PERC', 'I-PERC', 'O', 'O', 'O', 'O', 'O', 'O', 'O', 'O', 'O', 'O', 'O', 'O', 'O', 'O', 'O', 'O', 'O', 'O', 'O', 'O', 'O', 'O', 'O', 'O', 'O', 'O', 'O', 'O', 'O', 'O', 'O', 'O']\n",
      "['', '', '', ['Feel-0-A'], ['Feel-0-A'], '', ['Feel-0-B'], ['Feel-0-B'], '', '', '', '', '', '', '', '', '', '', '', '', '', '', '', '', '', '', '', '', '', '', '', '', '', '', '', '', '', '', '', '']\n",
      "\n",
      "Predict output\n",
      "['O', 'O', 'O', 'B-SENS', 'I-SENS', 'O', 'B-PERC', 'I-PERC', 'O', 'O', 'O', 'O', 'O', 'O', 'O', 'O', 'O', 'O', 'O', 'O', 'O', 'O', 'O', 'O', 'O', 'O', 'O', 'O', 'O', 'O', 'O', 'O', 'O', 'O', 'O', 'O', 'O', 'O', 'B-PERC', 'I-PERC']\n",
      "['', '', '', ['Feel-1-A', 'Feel-0-A'], ['Feel-1-A', 'Feel-0-A'], '', ['Feel-0-B'], ['Feel-0-B'], '', '', '', '', '', '', '', '', '', '', '', '', '', '', '', '', '', '', '', '', '', '', '', '', '', '', '', '', '', '', ['Feel-1-B'], ['Feel-1-B']]\n",
      "\n",
      "True\n",
      "[(3, 4, 2), (6, 7, 4)]\n",
      "[((3, 4, 2), (6, 7, 4), 2)]\n",
      "predict\n",
      "[(3, 4, 2), (6, 7, 4), (38, 39, 4)]\n",
      "[((3, 4, 2), (6, 7, 4), 2), ((3, 4, 2), (38, 39, 4), 2)]\n",
      "=====================================\n",
      "['個', '人', '有', '特', '別', '只', '單', '一', '用', '這', '一', '罐', '凝', '膠', ',', '確', '實', '滿', '保', '濕', '的', '(', '本', '人', '的', '臉', '是', '混', '合', '肌', ',', '兩', '頰', '很', '容', '易', '因', '為', '保', '濕', '不', '夠', '而', '感', '到', '緊', '繃', ',', '如', '下', '圖', '有', '手', '部', '測', '試', '圖', ')', ',', '上', '妝', '的', '時', '候', '有', '比', '使', '用', '前', '來', '的', '不', '易', '脫', '妝', ',', '感', '覺', '還', '不', '錯']\n",
      "['O', 'O', 'O', 'O', 'O', 'O', 'O', 'O', 'O', 'O', 'O', 'O', 'O', 'O', 'O', 'O', 'O', 'O', 'O', 'O', 'O', 'O', 'O', 'O', 'O', 'O', 'O', 'B-STAT', 'I-STAT', 'I-STAT', 'O', 'O', 'O', 'O', 'O', 'O', 'O', 'O', 'O', 'O', 'O', 'O', 'O', 'O', 'O', 'O', 'O', 'O', 'O', 'O', 'O', 'O', 'O', 'O', 'O', 'O', 'O', 'O', 'O', 'O', 'O', 'O', 'O', 'O', 'O', 'O', 'O', 'O', 'O', 'O', 'O', 'O', 'O', 'O', 'O', 'O', 'O', 'O', 'O', 'O', 'O']\n",
      "['', '', '', '', '', '', '', '', '', '', '', '', '', '', '', '', '', '', '', '', '', '', '', '', '', '', '', [], [], [], '', '', '', '', '', '', '', '', '', '', '', '', '', '', '', '', '', '', '', '', '', '', '', '', '', '', '', '', '', '', '', '', '', '', '', '', '', '', '', '', '', '', '', '', '', '', '', '', '', '', '']\n",
      "\n",
      "Predict output\n",
      "['O', 'O', 'O', 'O', 'O', 'O', 'O', 'O', 'O', 'O', 'O', 'O', 'O', 'O', 'O', 'O', 'O', 'O', 'B-FUNC', 'I-FUNC', 'O', 'O', 'O', 'O', 'O', 'O', 'O', 'B-STAT', 'I-STAT', 'I-STAT', 'O', 'O', 'O', 'O', 'O', 'O', 'O', 'O', 'B-FUNC', 'I-FUNC', 'O', 'O', 'O', 'O', 'O', 'O', 'O', 'O', 'O', 'O', 'O', 'O', 'O', 'O', 'O', 'O', 'O', 'O', 'O', 'O', 'O', 'O', 'O', 'O', 'O', 'O', 'O', 'O', 'O', 'O', 'O', 'O', 'O', 'O', 'O', 'O', 'O', 'O', 'O', 'O', 'O']\n",
      "['', '', '', '', '', '', '', '', '', '', '', '', '', '', '', '', '', '', [], [], '', '', '', '', '', '', '', [], [], [], '', '', '', '', '', '', '', '', [], [], '', '', '', '', '', '', '', '', '', '', '', '', '', '', '', '', '', '', '', '', '', '', '', '', '', '', '', '', '', '', '', '', '', '', '', '', '', '', '', '', '']\n",
      "\n",
      "True\n",
      "[(27, 29, 0)]\n",
      "[]\n",
      "predict\n",
      "[(18, 19, 1), (27, 29, 0), (38, 39, 1)]\n",
      "[]\n",
      "=====================================\n",
      "['可', '是', '沒', '有', '覺', '得', '特', '別', '保', '濕', ',', '但', '夏', '天', '用', '應', '該', '是', '足', '夠']\n",
      "['O', 'O', 'O', 'O', 'O', 'O', 'O', 'O', 'B-FUNC', 'I-FUNC', 'O', 'O', 'B-SEAS', 'I-SEAS', 'O', 'O', 'O', 'O', 'O', 'O']\n",
      "['', '', '', '', '', '', '', '', ['ApplyIn-0-A'], ['ApplyIn-0-A'], '', '', ['ApplyIn-0-B'], ['ApplyIn-0-B'], '', '', '', '', '', '']\n",
      "\n",
      "Predict output\n",
      "['O', 'O', 'O', 'O', 'O', 'O', 'O', 'O', 'B-FUNC', 'I-FUNC', 'O', 'O', 'B-SEAS', 'I-SEAS', 'O', 'O', 'O', 'O', 'O', 'O']\n",
      "['', '', '', '', '', '', '', '', ['ApplyIn-0-A'], ['ApplyIn-0-A'], '', '', ['ApplyIn-0-B'], ['ApplyIn-0-B'], '', '', '', '', '', '']\n",
      "\n",
      "True\n",
      "[(8, 9, 1), (12, 13, 3)]\n",
      "[((8, 9, 1), (12, 13, 3), 1)]\n",
      "predict\n",
      "[(8, 9, 1), (12, 13, 3)]\n",
      "[((8, 9, 1), (12, 13, 3), 1)]\n",
      "=====================================\n"
     ]
    },
    {
     "name": "stdout",
     "output_type": "stream",
     "text": [
      "['味', '道', '很', '天', '然', ';', '無', '添', '加', '的', '很', '清', '新', '自', '然', ',', '聞', '起', '來', '很', '舒', '服', ';', '不', '刺', '鼻']\n",
      "['B-SENS', 'I-SENS', 'O', 'O', 'O', 'O', 'O', 'O', 'O', 'O', 'O', 'B-PERC', 'I-PERC', 'O', 'O', 'O', 'O', 'O', 'O', 'O', 'O', 'O', 'O', 'O', 'O', 'O']\n",
      "[['Feel-0-A'], ['Feel-0-A'], '', '', '', '', '', '', '', '', '', ['Feel-0-B'], ['Feel-0-B'], '', '', '', '', '', '', '', '', '', '', '', '', '']\n",
      "\n",
      "Predict output\n",
      "['B-SENS', 'I-SENS', 'O', 'O', 'O', 'O', 'O', 'O', 'O', 'O', 'O', 'O', 'O', 'O', 'O', 'O', 'O', 'O', 'O', 'O', 'O', 'O', 'O', 'O', 'O', 'O']\n",
      "[[], [], '', '', '', '', '', '', '', '', '', '', '', '', '', '', '', '', '', '', '', '', '', '', '', '']\n",
      "\n",
      "True\n",
      "[(0, 1, 2), (11, 12, 4)]\n",
      "[((0, 1, 2), (11, 12, 4), 2)]\n",
      "predict\n",
      "[(0, 1, 2)]\n",
      "[]\n",
      "=====================================\n",
      "['這', '瓶', '凝', '露', '具', '有', '6', '2', '種', '高', '效', '保', '濕', '美', '肌', '成', '分', ',', '是', 'M', 'e', 'd', 'i', 'p', 'l', 'u', 's', '社', '長', '自', '行', '開', '發', '過', '敏', '性', '肌', '膚', '也', '能', '使', '用', '的', '保', '養', '品']\n",
      "['O', 'O', 'O', 'O', 'O', 'O', 'O', 'O', 'O', 'O', 'O', 'O', 'O', 'O', 'O', 'O', 'O', 'O', 'O', 'O', 'O', 'O', 'O', 'O', 'O', 'O', 'O', 'O', 'O', 'O', 'O', 'O', 'O', 'B-STAT', 'I-STAT', 'I-STAT', 'I-STAT', 'I-STAT', 'O', 'O', 'O', 'O', 'O', 'O', 'O', 'O']\n",
      "['', '', '', '', '', '', '', '', '', '', '', '', '', '', '', '', '', '', '', '', '', '', '', '', '', '', '', '', '', '', '', '', '', [], [], [], [], [], '', '', '', '', '', '', '', '']\n",
      "\n",
      "Predict output\n",
      "['O', 'O', 'O', 'O', 'O', 'O', 'O', 'O', 'O', 'O', 'O', 'O', 'O', 'O', 'O', 'O', 'O', 'O', 'O', 'O', 'O', 'O', 'O', 'O', 'O', 'O', 'O', 'O', 'O', 'O', 'O', 'O', 'O', 'O', 'B-STAT', 'I-STAT', 'I-STAT', 'I-STAT', 'O', 'O', 'O', 'O', 'O', 'O', 'O', 'O']\n",
      "['', '', '', '', '', '', '', '', '', '', '', '', '', '', '', '', '', '', '', '', '', '', '', '', '', '', '', '', '', '', '', '', '', '', [], [], [], [], '', '', '', '', '', '', '', '']\n",
      "\n",
      "True\n",
      "[(33, 37, 0)]\n",
      "[]\n",
      "predict\n",
      "[(34, 37, 0)]\n",
      "[]\n",
      "=====================================\n",
      "['一', '由', '於', '季', '節', '的', '變', '化', ',', '在', '這', '種', '時', '期', '混', '合', '性', '又', '敏', '感', '肌', '膚', '最', '需', '要', '好', '好', '保', '濕', ',']\n",
      "['O', 'O', 'O', 'O', 'O', 'O', 'O', 'O', 'O', 'O', 'O', 'O', 'O', 'O', 'O', 'O', 'O', 'O', 'B-STAT', 'I-STAT', 'I-STAT', 'I-STAT', 'O', 'O', 'O', 'O', 'O', 'O', 'O', 'O']\n",
      "['', '', '', '', '', '', '', '', '', '', '', '', '', '', '', '', '', '', [], [], [], [], '', '', '', '', '', '', '', '']\n",
      "\n",
      "Predict output\n",
      "['O', 'O', 'O', 'O', 'O', 'O', 'O', 'O', 'O', 'O', 'O', 'O', 'O', 'O', 'O', 'O', 'O', 'O', 'B-STAT', 'I-STAT', 'I-STAT', 'I-STAT', 'O', 'O', 'O', 'O', 'O', 'O', 'O', 'O']\n",
      "['', '', '', '', '', '', '', '', '', '', '', '', '', '', '', '', '', '', [], [], [], [], '', '', '', '', '', '', '', '']\n",
      "\n",
      "True\n",
      "[(18, 21, 0)]\n",
      "[]\n",
      "predict\n",
      "[(18, 21, 0)]\n",
      "[]\n",
      "=====================================\n",
      "Batch entity score\n",
      "precision  \t recall  \t fbeta_score  \t\n",
      "(0.7727272727272727, 0.8947368421052632, 0.8292682926829269, None)\n",
      "\n",
      "Batch relation score\n",
      "precision  \t recall  \t fbeta_score  \t\n",
      "(0.5454545454545454, 0.5, 0.5217391304347826, None)\n",
      "\n",
      "p_r_fscore\n",
      "precision  \t recall  \t fbeta_score  \t\n",
      "(0.5454545449586776, 0.4999999995833333, 0.5217391249905482) 6 5 0 6\n",
      "===========================================\n",
      "\n",
      "Entity detection score\n",
      "precision  \t recall  \t fbeta_score\n",
      "0.861 \t\t 0.906 \t\t 0.883 \t\n",
      "Entity+Relation detection score \n",
      "precision  \t recall  \t fbeta_score  \t\n",
      "0.683 \t\t 0.483 \t\t 0.566 \t\n",
      "confusion matrix \n",
      "TP  \t fp  \t tn  \t fn\n",
      "56 \t 26 \t 0 \t 60 \t\n",
      "\n",
      "======================================================\n",
      "Relation type 0\n",
      "precision  \t recall  \t fbeta_score  \t\n",
      "0.500 \t\t 0.045 \t\t 0.083 \t\n",
      "\n",
      "\n",
      "======================================================\n",
      "Relation type 1\n",
      "precision  \t recall  \t fbeta_score  \t\n",
      "0.900 \t\t 0.429 \t\t 0.581 \t\n",
      "\n",
      "\n",
      "======================================================\n",
      "Relation type 2\n",
      "precision  \t recall  \t fbeta_score  \t\n",
      "0.617 \t\t 0.712 \t\t 0.661 \t\n",
      "\n",
      "--test--\n",
      "(array([0.5       , 0.9       , 0.61666667]), array([0.04545455, 0.42857143, 0.71153846]), array([0.08333333, 0.58064516, 0.66071429]))\n",
      "\n"
     ]
    }
   ],
   "source": [
    "from models import JointERE\n",
    "e_score, er_score = model.score(dev_loader, rel_detail=True)"
   ]
  },
  {
   "cell_type": "code",
   "execution_count": 8,
   "metadata": {},
   "outputs": [
    {
     "name": "stdout",
     "output_type": "stream",
     "text": [
      "\n",
      "Entity detection score\n",
      "precision  \t recall  \t fbeta_score\n",
      "0.868 \t\t 0.926 \t\t 0.896 \t\n",
      "Entity+Relation detection score \n",
      "precision  \t recall  \t fbeta_score  \t\n",
      "0.732 \t\t 0.533 \t\t 0.617 \t\n",
      "confusion matrix \n",
      "TP  \t fp  \t tn  \t fn\n",
      "112 \t 41 \t 0 \t 98 \t\n",
      "\n",
      "======================================================\n",
      "Relation type 0\n",
      "precision  \t recall  \t fbeta_score  \t\n",
      "1.000 \t\t 0.050 \t\t 0.095 \t\n",
      "\n",
      "\n",
      "======================================================\n",
      "Relation type 1\n",
      "precision  \t recall  \t fbeta_score  \t\n",
      "0.731 \t\t 0.333 \t\t 0.458 \t\n",
      "\n",
      "\n",
      "======================================================\n",
      "Relation type 2\n",
      "precision  \t recall  \t fbeta_score  \t\n",
      "0.728 \t\t 0.805 \t\t 0.765 \t\n",
      "\n",
      "--test--\n",
      "(array([1.        , 0.73076923, 0.728     ]), array([0.05      , 0.33333333, 0.80530973]), array([0.0952381 , 0.45783133, 0.76470588]))\n",
      "\n"
     ]
    }
   ],
   "source": [
    "test_loader = BIOLoader(test_data, MAX_LEN, BATCH_SIZE, schema, rel_be_filtered=rel_be_filtered, \n",
    "                        word_to_ix=loader.word_to_ix, device=use_device)\n",
    "\n",
    "e_score, er_score = model.score(test_loader, silent=True, rel_detail=True)"
   ]
  },
  {
   "cell_type": "code",
   "execution_count": 9,
   "metadata": {},
   "outputs": [
    {
     "name": "stdout",
     "output_type": "stream",
     "text": [
      "['質', '地', '略', '帶', '黏', '稠', ',', '但', '很', '好', '推', '開', ',', '所', '以', '反', '而', '一', '開', '始', '會', '有', '點', '擔', '心', '在', '冷', '冽', '的', '冬', '天', '會', '不', '夠', '滋', '潤', '保', '濕']\n",
      "['B-SENS', 'I-SENS', 'O', 'O', 'B-PERC', 'I-PERC', 'O', 'O', 'O', 'B-PERC', 'I-PERC', 'I-PERC', 'O', 'O', 'O', 'O', 'O', 'O', 'O', 'O', 'O', 'O', 'O', 'O', 'O', 'O', 'O', 'O', 'O', 'B-SEAS', 'I-SEAS', 'O', 'O', 'O', 'O', 'O', 'B-FUNC', 'I-FUNC']\n",
      "[['Feel-1-A', 'Feel-0-A'], ['Feel-1-A', 'Feel-0-A'], '', '', ['Feel-0-B'], ['Feel-0-B'], '', '', '', ['Feel-1-B'], ['Feel-1-B'], ['Feel-1-B'], '', '', '', '', '', '', '', '', '', '', '', '', '', '', '', '', '', [], [], '', '', '', '', '', [], []]\n",
      "\n",
      "Predict output\n",
      "['B-SENS', 'I-SENS', 'O', 'O', 'B-PERC', 'I-PERC', 'O', 'O', 'O', 'O', 'O', 'O', 'O', 'O', 'O', 'O', 'O', 'O', 'O', 'O', 'O', 'O', 'O', 'O', 'O', 'O', 'O', 'O', 'O', 'B-SEAS', 'I-SEAS', 'O', 'O', 'O', 'O', 'O', 'O', 'O']\n",
      "[['Feel-0-A'], ['Feel-0-A'], '', '', ['Feel-0-B'], ['Feel-0-B'], '', '', '', '', '', '', '', '', '', '', '', '', '', '', '', '', '', '', '', '', '', '', '', [], [], '', '', '', '', '', '', '']\n",
      "\n",
      "True\n",
      "[(0, 1, 2), (4, 5, 4), (9, 11, 4), (29, 30, 3), (36, 37, 1)]\n",
      "[((0, 1, 2), (4, 5, 4), 2), ((0, 1, 2), (9, 11, 4), 2)]\n",
      "predict\n",
      "[(0, 1, 2), (4, 5, 4), (29, 30, 3)]\n",
      "[((0, 1, 2), (4, 5, 4), 2)]\n",
      "=====================================\n",
      "['擦', '上', '後', ',', '肌', '膚', '馬', '上', '可', '以', '立', '即', '感', '受', '到', '很', '水', '潤', '、', '保', '濕', '的', '觸', '感', ';', '又', '有', '玫', '瑰', '果', '油', '、', '接', '骨', '木', '油', '給', '予', '肌', '膚', '滋', '潤', ',', '讓', '皮', '膚', '乾', '燥', '缺', '水', '的', '狀', '況', '可', '以', '改', '善']\n",
      "['O', 'O', 'O', 'O', 'O', 'O', 'O', 'O', 'O', 'O', 'O', 'O', 'O', 'O', 'O', 'O', 'B-PERC', 'I-PERC', 'O', 'B-FUNC', 'I-FUNC', 'O', 'B-SENS', 'I-SENS', 'O', 'O', 'O', 'O', 'O', 'O', 'O', 'O', 'O', 'O', 'O', 'O', 'O', 'O', 'O', 'O', 'O', 'O', 'O', 'O', 'B-STAT', 'I-STAT', 'I-STAT', 'I-STAT', 'O', 'O', 'O', 'O', 'O', 'O', 'O', 'O', 'O']\n",
      "['', '', '', '', '', '', '', '', '', '', '', '', '', '', '', '', ['Feel-0-B'], ['Feel-0-B'], '', ['ApplyTo-1-A'], ['ApplyTo-1-A'], '', ['Feel-0-A'], ['Feel-0-A'], '', '', '', '', '', '', '', '', '', '', '', '', '', '', '', '', '', '', '', '', ['ApplyTo-1-B'], ['ApplyTo-1-B'], ['ApplyTo-1-B'], ['ApplyTo-1-B'], '', '', '', '', '', '', '', '', '']\n",
      "\n",
      "Predict output\n",
      "['O', 'O', 'O', 'O', 'O', 'O', 'O', 'O', 'O', 'O', 'O', 'O', 'O', 'O', 'O', 'O', 'O', 'O', 'O', 'B-FUNC', 'I-FUNC', 'O', 'B-SENS', 'I-SENS', 'O', 'O', 'O', 'O', 'O', 'O', 'O', 'O', 'O', 'O', 'O', 'O', 'O', 'O', 'O', 'O', 'O', 'O', 'O', 'O', 'B-STAT', 'I-STAT', 'I-STAT', 'I-STAT', 'O', 'O', 'O', 'O', 'O', 'O', 'O', 'O', 'O']\n",
      "['', '', '', '', '', '', '', '', '', '', '', '', '', '', '', '', '', '', '', [], [], '', [], [], '', '', '', '', '', '', '', '', '', '', '', '', '', '', '', '', '', '', '', '', [], [], [], [], '', '', '', '', '', '', '', '', '']\n",
      "\n",
      "True\n",
      "[(16, 17, 4), (19, 20, 1), (22, 23, 2), (44, 47, 0)]\n",
      "[((16, 17, 4), (22, 23, 2), 2), ((19, 20, 1), (44, 47, 0), 0)]\n",
      "predict\n",
      "[(19, 20, 1), (22, 23, 2), (44, 47, 0)]\n",
      "[]\n",
      "=====================================\n",
      "['保', '濕', '商', '品', '一', '向', '是', '我', '最', '最', '注', '重', '的', '臉', '部', '保', '養', '商', '品', '之', '一', ',', '因', '為', '屬', '於', '極', '敏', '感', '性', '且', '偏', '乾', '的', '膚', '質', ',', '保', '濕', '是', '非', '常', '重', '要', '的', ',', '尤', '其', '是', '在', '冬', '天', ',', '加', '強', '保', '濕', '更', '是', '重', '要', '的', '一', '環']\n",
      "['O', 'O', 'O', 'O', 'O', 'O', 'O', 'O', 'O', 'O', 'O', 'O', 'O', 'O', 'O', 'O', 'O', 'O', 'O', 'O', 'O', 'O', 'O', 'O', 'O', 'O', 'O', 'O', 'O', 'O', 'O', 'O', 'O', 'O', 'O', 'O', 'O', 'O', 'O', 'O', 'O', 'O', 'O', 'O', 'O', 'O', 'O', 'O', 'O', 'O', 'B-SEAS', 'I-SEAS', 'O', 'O', 'O', 'O', 'O', 'O', 'O', 'O', 'O', 'O', 'O', 'O']\n",
      "['', '', '', '', '', '', '', '', '', '', '', '', '', '', '', '', '', '', '', '', '', '', '', '', '', '', '', '', '', '', '', '', '', '', '', '', '', '', '', '', '', '', '', '', '', '', '', '', '', '', [], [], '', '', '', '', '', '', '', '', '', '', '', '']\n",
      "\n",
      "Predict output\n",
      "['B-FUNC', 'I-FUNC', 'O', 'O', 'O', 'O', 'O', 'O', 'O', 'O', 'O', 'O', 'O', 'O', 'O', 'O', 'O', 'O', 'O', 'O', 'O', 'O', 'O', 'O', 'O', 'O', 'O', 'O', 'O', 'O', 'O', 'O', 'O', 'O', 'O', 'O', 'O', 'O', 'O', 'O', 'O', 'O', 'O', 'O', 'O', 'O', 'O', 'O', 'O', 'O', 'B-SEAS', 'I-SEAS', 'O', 'O', 'O', 'O', 'O', 'O', 'O', 'O', 'O', 'O', 'O', 'O']\n",
      "[[], [], '', '', '', '', '', '', '', '', '', '', '', '', '', '', '', '', '', '', '', '', '', '', '', '', '', '', '', '', '', '', '', '', '', '', '', '', '', '', '', '', '', '', '', '', '', '', '', '', [], [], '', '', '', '', '', '', '', '', '', '', '', '']\n",
      "\n",
      "True\n",
      "[(50, 51, 3)]\n",
      "[]\n",
      "predict\n",
      "[(0, 1, 1), (50, 51, 3)]\n",
      "[]\n",
      "=====================================\n",
      "['保', '濕', '效', '果', '還', '不', '錯', ',', '但', '無', '法', '持', '續', '很', '久', ',', '現', '在', '秋', '天', '使', '用', '還', '可', '以', '持', '續', '到', '隔', '天', '早', '上', ',', '等', '到', '冬', '天', '我', '的', '皮', '膚', '比', '較', '乾', '燥', '時', '就', '會', '稍', '嫌', '不', '足', '了', '吧']\n",
      "['B-FUNC', 'I-FUNC', 'O', 'O', 'O', 'O', 'O', 'O', 'O', 'O', 'O', 'O', 'O', 'O', 'O', 'O', 'O', 'O', 'B-SEAS', 'I-SEAS', 'O', 'O', 'O', 'O', 'O', 'O', 'O', 'O', 'O', 'O', 'O', 'O', 'O', 'O', 'O', 'B-SEAS', 'I-SEAS', 'O', 'O', 'O', 'O', 'O', 'O', 'O', 'O', 'O', 'O', 'O', 'O', 'O', 'O', 'O', 'O', 'O']\n",
      "[['ApplyIn-0-A'], ['ApplyIn-0-A'], '', '', '', '', '', '', '', '', '', '', '', '', '', '', '', '', ['ApplyIn-0-B'], ['ApplyIn-0-B'], '', '', '', '', '', '', '', '', '', '', '', '', '', '', '', [], [], '', '', '', '', '', '', '', '', '', '', '', '', '', '', '', '', '']\n",
      "\n",
      "Predict output\n",
      "['B-FUNC', 'I-FUNC', 'O', 'O', 'O', 'O', 'O', 'O', 'O', 'O', 'O', 'O', 'O', 'O', 'O', 'O', 'O', 'O', 'B-SEAS', 'I-SEAS', 'O', 'O', 'O', 'O', 'O', 'O', 'O', 'O', 'O', 'O', 'O', 'O', 'O', 'O', 'O', 'B-SEAS', 'I-SEAS', 'O', 'O', 'O', 'O', 'O', 'O', 'O', 'O', 'O', 'O', 'O', 'O', 'O', 'O', 'O', 'O', 'O']\n",
      "[['ApplyIn-1-A', 'ApplyIn-0-A'], ['ApplyIn-1-A', 'ApplyIn-0-A'], '', '', '', '', '', '', '', '', '', '', '', '', '', '', '', '', ['ApplyIn-0-B'], [], '', '', '', '', '', '', '', '', '', '', '', '', '', '', '', ['ApplyIn-1-B'], ['ApplyIn-1-B'], '', '', '', '', '', '', '', '', '', '', '', '', '', '', '', '', '']\n",
      "\n",
      "True\n",
      "[(0, 1, 1), (18, 19, 3), (35, 36, 3)]\n",
      "[((0, 1, 1), (18, 19, 3), 1)]\n",
      "predict\n",
      "[(0, 1, 1), (18, 19, 3), (35, 36, 3)]\n",
      "[((0, 1, 1), (35, 36, 3), 1)]\n",
      "=====================================\n",
      "['經', '過', '一', '段', '時', '間', '的', '使', '用', '下', '來', ',', '覺', '得', '這', '款', '凍', '膜', '基', '本', '的', '保', '濕', '效', '果', '還', '可', '以', ',', '對', '於', '敏', '感', '肌', '膚', '也', '不', '刺', '激']\n",
      "['O', 'O', 'O', 'O', 'O', 'O', 'O', 'O', 'O', 'O', 'O', 'O', 'O', 'O', 'O', 'O', 'O', 'O', 'O', 'O', 'O', 'B-FUNC', 'I-FUNC', 'O', 'O', 'O', 'O', 'O', 'O', 'O', 'O', 'B-STAT', 'I-STAT', 'I-STAT', 'I-STAT', 'O', 'O', 'O', 'O']\n",
      "['', '', '', '', '', '', '', '', '', '', '', '', '', '', '', '', '', '', '', '', '', ['ApplyTo-0-A'], ['ApplyTo-0-A'], '', '', '', '', '', '', '', '', ['ApplyTo-0-B'], ['ApplyTo-0-B'], ['ApplyTo-0-B'], ['ApplyTo-0-B'], '', '', '', '']\n",
      "\n",
      "Predict output\n",
      "['O', 'O', 'O', 'O', 'O', 'O', 'O', 'O', 'O', 'O', 'O', 'O', 'O', 'O', 'O', 'O', 'O', 'O', 'O', 'O', 'O', 'B-FUNC', 'I-FUNC', 'O', 'O', 'O', 'O', 'O', 'O', 'O', 'O', 'B-STAT', 'I-STAT', 'I-STAT', 'I-STAT', 'O', 'O', 'O', 'O']\n",
      "['', '', '', '', '', '', '', '', '', '', '', '', '', '', '', '', '', '', '', '', '', [], [], '', '', '', '', '', '', '', '', [], [], [], [], '', '', '', '']\n",
      "\n",
      "True\n",
      "[(21, 22, 1), (31, 34, 0)]\n",
      "[((21, 22, 1), (31, 34, 0), 0)]\n",
      "predict\n",
      "[(21, 22, 1), (31, 34, 0)]\n",
      "[]\n",
      "=====================================\n",
      "['淡', '的', '香', '味', '…', '.', '.']\n",
      "['B-PERC', 'O', 'B-SENS', 'I-SENS', 'O', 'O', 'O']\n",
      "[['Feel-0-B'], '', ['Feel-0-A'], ['Feel-0-A'], '', '', '']\n",
      "\n",
      "Predict output\n",
      "['O', 'O', 'B-SENS', 'I-SENS', 'O', 'O', 'O']\n",
      "['', '', [], [], '', '', '']\n",
      "\n",
      "True\n",
      "[(0, 0, 4), (2, 3, 2)]\n",
      "[((0, 0, 4), (2, 3, 2), 2)]\n",
      "predict\n",
      "[(2, 3, 2)]\n",
      "[]\n",
      "=====================================\n",
      "['化', '妝', '水', '的', '質', '地', '擠', '出', '來', '就', '跟', '在', '瓶', '外', '看', '到', '的', '一', '樣', '.', '無', '色', '無', '味', '.', '是', '呈', '水', '狀', '液', '態']\n",
      "['O', 'O', 'O', 'O', 'B-SENS', 'I-SENS', 'O', 'O', 'O', 'O', 'O', 'O', 'O', 'O', 'O', 'O', 'O', 'O', 'O', 'O', 'O', 'O', 'O', 'O', 'O', 'O', 'O', 'B-PERC', 'I-PERC', 'O', 'O']\n",
      "['', '', '', '', ['Feel-0-A'], ['Feel-0-A'], '', '', '', '', '', '', '', '', '', '', '', '', '', '', '', '', '', '', '', '', '', ['Feel-0-B'], ['Feel-0-B'], '', '']\n",
      "\n",
      "Predict output\n",
      "['O', 'O', 'O', 'O', 'B-SENS', 'I-SENS', 'O', 'O', 'O', 'O', 'O', 'O', 'O', 'O', 'O', 'O', 'O', 'O', 'O', 'O', 'O', 'O', 'B-SENS', 'I-SENS', 'O', 'O', 'O', 'B-PERC', 'I-PERC', 'O', 'O']\n",
      "['', '', '', '', ['Feel-0-A'], ['Feel-0-A'], '', '', '', '', '', '', '', '', '', '', '', '', '', '', '', '', [], [], '', '', '', ['Feel-0-B'], ['Feel-0-B'], '', '']\n",
      "\n",
      "True\n",
      "[(4, 5, 2), (27, 28, 4)]\n",
      "[((4, 5, 2), (27, 28, 4), 2)]\n",
      "predict\n",
      "[(4, 5, 2), (22, 23, 2), (27, 28, 4)]\n",
      "[((4, 5, 2), (27, 28, 4), 2)]\n",
      "=====================================\n",
      "['到', '出', '來', '的', '質', '地', '的', '確', '非', '常', '水', '潤', ',', '完', '全', '不', '油', '膩']\n",
      "['O', 'O', 'O', 'O', 'B-SENS', 'I-SENS', 'O', 'O', 'O', 'O', 'B-PERC', 'I-PERC', 'O', 'O', 'O', 'O', 'O', 'O']\n",
      "['', '', '', '', ['Feel-0-A'], ['Feel-0-A'], '', '', '', '', ['Feel-0-B'], ['Feel-0-B'], '', '', '', '', '', '']\n",
      "\n",
      "Predict output\n",
      "['O', 'O', 'O', 'O', 'B-SENS', 'I-SENS', 'O', 'O', 'O', 'O', 'B-PERC', 'I-PERC', 'O', 'O', 'O', 'O', 'O', 'O']\n",
      "['', '', '', '', ['Feel-0-A'], ['Feel-0-A'], '', '', '', '', ['Feel-0-B'], ['Feel-0-B'], '', '', '', '', '', '']\n",
      "\n",
      "True\n",
      "[(4, 5, 2), (10, 11, 4)]\n",
      "[((4, 5, 2), (10, 11, 4), 2)]\n",
      "predict\n",
      "[(4, 5, 2), (10, 11, 4)]\n",
      "[((4, 5, 2), (10, 11, 4), 2)]\n",
      "=====================================\n"
     ]
    },
    {
     "name": "stdout",
     "output_type": "stream",
     "text": [
      "['只', '是', '如', '果', '本', '身', '皮', '膚', '比', '較', '乾', '的', '時', '候', '會', '有', '白', '白', '的', '粉', '卡', '在', '肌', '膚', '乾', '燥', '紋', '路', '裡', ',', '不', '美', '觀', ',', '所', '以', '要', '先', '做', '好', '基', '本', '保', '濕']\n",
      "['O', 'O', 'O', 'O', 'O', 'O', 'O', 'O', 'O', 'O', 'O', 'O', 'O', 'O', 'O', 'O', 'O', 'O', 'O', 'O', 'O', 'O', 'B-STAT', 'I-STAT', 'I-STAT', 'I-STAT', 'O', 'O', 'O', 'O', 'O', 'O', 'O', 'O', 'O', 'O', 'O', 'O', 'O', 'O', 'O', 'O', 'O', 'O']\n",
      "['', '', '', '', '', '', '', '', '', '', '', '', '', '', '', '', '', '', '', '', '', '', [], [], [], [], '', '', '', '', '', '', '', '', '', '', '', '', '', '', '', '', '', '']\n",
      "\n",
      "Predict output\n",
      "['O', 'O', 'O', 'O', 'O', 'O', 'O', 'O', 'O', 'O', 'O', 'O', 'O', 'O', 'O', 'O', 'O', 'O', 'O', 'O', 'O', 'O', 'B-STAT', 'I-STAT', 'I-STAT', 'I-STAT', 'O', 'O', 'O', 'O', 'O', 'O', 'O', 'O', 'O', 'O', 'O', 'O', 'O', 'O', 'O', 'O', 'O', 'O']\n",
      "['', '', '', '', '', '', '', '', '', '', '', '', '', '', '', '', '', '', '', '', '', '', [], [], [], [], '', '', '', '', '', '', '', '', '', '', '', '', '', '', '', '', '', '']\n",
      "\n",
      "True\n",
      "[(22, 25, 0)]\n",
      "[]\n",
      "predict\n",
      "[(22, 25, 0)]\n",
      "[]\n",
      "=====================================\n",
      "['屬', '於', '水', '狀', '液', '體', ',', '有', '種', '香', '香', '的', '氣', '味', ',', '很', '好', '聞', '不', '會', '剌', '鼻', '濃']\n",
      "['O', 'O', 'O', 'O', 'O', 'O', 'O', 'O', 'O', 'O', 'O', 'O', 'B-SENS', 'I-SENS', 'O', 'O', 'B-PERC', 'I-PERC', 'O', 'O', 'O', 'O', 'B-PERC']\n",
      "['', '', '', '', '', '', '', '', '', '', '', '', ['Feel-0-A'], ['Feel-0-A'], '', '', ['Feel-0-B'], ['Feel-0-B'], '', '', '', '', []]\n",
      "\n",
      "Predict output\n",
      "['O', 'O', 'B-PERC', 'I-PERC', 'O', 'O', 'O', 'O', 'O', 'B-PERC', 'I-PERC', 'O', 'B-SENS', 'I-SENS', 'O', 'O', 'B-PERC', 'I-PERC', 'O', 'O', 'O', 'O', 'B-PERC']\n",
      "['', '', [], [], '', '', '', '', '', [], [], '', [], [], '', '', [], [], '', '', '', '', []]\n",
      "\n",
      "True\n",
      "[(12, 13, 2), (16, 17, 4), (22, 22, 4)]\n",
      "[((12, 13, 2), (16, 17, 4), 2)]\n",
      "predict\n",
      "[(2, 3, 4), (9, 10, 4), (12, 13, 2), (16, 17, 4), (22, 22, 4)]\n",
      "[]\n",
      "=====================================\n",
      "['他', '不', '像', '一', '般', '化', '妝', '水', '是', '稀', '稀', '的', '水', '狀', ',', '而', '是', '比', '較', '濃', '稠', '的', '水', '狀', ',', '像', '精', '華', '液', '的', '質', '地']\n",
      "['O', 'O', 'O', 'O', 'O', 'O', 'O', 'O', 'O', 'O', 'O', 'O', 'B-PERC', 'I-PERC', 'O', 'O', 'O', 'O', 'O', 'B-PERC', 'I-PERC', 'O', 'B-PERC', 'I-PERC', 'O', 'O', 'O', 'O', 'O', 'O', 'B-SENS', 'I-SENS']\n",
      "['', '', '', '', '', '', '', '', '', '', '', '', [], [], '', '', '', '', '', ['Feel-0-B'], ['Feel-0-B'], '', [], [], '', '', '', '', '', '', '', '']\n",
      "\n",
      "Predict output\n",
      "['O', 'O', 'O', 'O', 'O', 'O', 'O', 'O', 'O', 'O', 'O', 'O', 'B-PERC', 'I-PERC', 'O', 'O', 'O', 'O', 'O', 'B-PERC', 'I-PERC', 'O', 'B-PERC', 'I-PERC', 'O', 'O', 'O', 'O', 'O', 'O', 'B-SENS', 'I-SENS']\n",
      "['', '', '', '', '', '', '', '', '', '', '', '', ['Feel-0-B'], ['Feel-0-B'], '', '', '', '', '', [], [], '', [], [], '', '', '', '', '', '', '', '']\n",
      "\n",
      "True\n",
      "[(12, 13, 4), (19, 20, 4), (22, 23, 4), (30, 31, 2)]\n",
      "[]\n",
      "predict\n",
      "[(12, 13, 4), (19, 20, 4), (22, 23, 4), (30, 31, 2)]\n",
      "[]\n",
      "=====================================\n",
      "['用', '了', '本', '產', '品', '臉', '上', '的', '保', '濕', '度', '很', '夠', ',', '不', '會', '有', '乾', '燥', '緊', '繃', '的', '感', '覺', ',', '而', '我', '本', '身', '是', '油', '性', '肌', '膚', ',', '用', '了', '它', '不', '會', '覺', '得', '油', ',', '反', '而', '有', '乾', '爽', '的', '感', '覺', ',', '也', '因', '為', '不', '含', '酒', '精', '成', '酸', '類', '成', '分', ',', '所', '以', '就', '算', '臉', '上', '有', '小', '傷', '口', ',', '也', '不', '會', '有', '刺', '激', '感', ',', '很', '讚']\n",
      "['O', 'O', 'O', 'O', 'O', 'O', 'O', 'O', 'B-FUNC', 'I-FUNC', 'I-FUNC', 'O', 'O', 'O', 'O', 'O', 'O', 'O', 'O', 'O', 'O', 'O', 'O', 'O', 'O', 'O', 'O', 'O', 'O', 'O', 'B-STAT', 'I-STAT', 'I-STAT', 'I-STAT', 'O', 'O', 'O', 'O', 'O', 'O', 'O', 'O', 'O', 'O', 'O', 'O', 'O', 'O', 'O', 'O', 'O', 'O', 'O', 'O', 'O', 'O', 'O', 'O', 'O', 'O', 'O', 'O', 'O', 'O', 'O', 'O', 'O', 'O', 'O', 'O', 'O', 'O', 'O', 'O', 'O', 'O', 'O', 'O', 'O', 'O', 'O', 'O', 'O', 'O', 'O', 'O', 'O']\n",
      "['', '', '', '', '', '', '', '', ['ApplyTo-0-A'], ['ApplyTo-0-A'], ['ApplyTo-0-A'], '', '', '', '', '', '', '', '', '', '', '', '', '', '', '', '', '', '', '', ['ApplyTo-0-B'], ['ApplyTo-0-B'], ['ApplyTo-0-B'], ['ApplyTo-0-B'], '', '', '', '', '', '', '', '', '', '', '', '', '', '', '', '', '', '', '', '', '', '', '', '', '', '', '', '', '', '', '', '', '', '', '', '', '', '', '', '', '', '', '', '', '', '', '', '', '', '', '', '', '']\n",
      "\n",
      "Predict output\n",
      "['O', 'O', 'O', 'O', 'O', 'O', 'O', 'O', 'B-FUNC', 'I-FUNC', 'I-FUNC', 'O', 'O', 'O', 'O', 'O', 'O', 'O', 'O', 'O', 'O', 'O', 'O', 'O', 'O', 'O', 'O', 'O', 'O', 'O', 'B-STAT', 'I-STAT', 'I-STAT', 'I-STAT', 'O', 'O', 'O', 'O', 'O', 'O', 'O', 'O', 'O', 'O', 'O', 'O', 'O', 'O', 'O', 'O', 'O', 'O', 'O', 'O', 'O', 'O', 'O', 'O', 'O', 'O', 'O', 'O', 'O', 'O', 'O', 'O', 'O', 'O', 'O', 'O', 'O', 'O', 'O', 'O', 'O', 'O', 'O', 'O', 'O', 'O', 'O', 'O', 'O', 'O', 'O', 'O', 'O']\n",
      "['', '', '', '', '', '', '', '', [], [], [], '', '', '', '', '', '', '', '', '', '', '', '', '', '', '', '', '', '', '', [], [], [], [], '', '', '', '', '', '', '', '', '', '', '', '', '', '', '', '', '', '', '', '', '', '', '', '', '', '', '', '', '', '', '', '', '', '', '', '', '', '', '', '', '', '', '', '', '', '', '', '', '', '', '', '', '']\n",
      "\n",
      "True\n",
      "[(8, 10, 1), (30, 33, 0)]\n",
      "[((8, 10, 1), (30, 33, 0), 0)]\n",
      "predict\n",
      "[(8, 10, 1), (30, 33, 0)]\n",
      "[]\n",
      "=====================================\n",
      "['保', '濕', '功', '能', '對', '於', '我', '這', '種', '冬', '天', '擦', '保', '濕', '乳', '霜', ',', '但', '是', '夏', '天', '卻', '屬', '於', '會', '出', '油', '的', '膚', '質', '而', '言', ',', '在', '寒', '流', '來', '的', '乾', '燥', '冬', '天', '是', '相', '當', '足', '夠', '的']\n",
      "['B-FUNC', 'I-FUNC', 'O', 'O', 'O', 'O', 'O', 'O', 'O', 'B-SEAS', 'I-SEAS', 'O', 'O', 'O', 'O', 'O', 'O', 'O', 'O', 'B-SEAS', 'I-SEAS', 'O', 'O', 'O', 'O', 'B-STAT', 'I-STAT', 'I-STAT', 'I-STAT', 'I-STAT', 'O', 'O', 'O', 'O', 'O', 'O', 'O', 'O', 'O', 'O', 'B-SEAS', 'I-SEAS', 'O', 'O', 'O', 'O', 'O', 'O']\n",
      "[['ApplyIn-1-A', 'ApplyIn-0-A'], ['ApplyIn-1-A', 'ApplyIn-0-A'], '', '', '', '', '', '', '', ['ApplyIn-0-B'], ['ApplyIn-0-B'], '', '', '', '', '', '', '', '', [], [], '', '', '', '', [], [], [], [], [], '', '', '', '', '', '', '', '', '', '', ['ApplyIn-1-B'], ['ApplyIn-1-B'], '', '', '', '', '', '']\n",
      "\n",
      "Predict output\n",
      "['B-FUNC', 'I-FUNC', 'O', 'O', 'O', 'O', 'O', 'O', 'O', 'B-SEAS', 'I-SEAS', 'O', 'O', 'O', 'O', 'O', 'O', 'O', 'O', 'B-SEAS', 'I-SEAS', 'O', 'O', 'O', 'O', 'O', 'B-STAT', 'O', 'O', 'O', 'O', 'O', 'O', 'O', 'O', 'O', 'O', 'O', 'O', 'O', 'B-SEAS', 'I-SEAS', 'O', 'O', 'O', 'O', 'O', 'O']\n",
      "[['ApplyIn-2-A', 'ApplyIn-1-A', 'ApplyIn-0-A'], ['ApplyIn-2-A', 'ApplyIn-1-A', 'ApplyIn-0-A'], '', '', '', '', '', '', '', ['ApplyIn-0-B'], [], '', '', '', '', '', '', '', '', ['ApplyIn-1-B'], [], '', '', '', '', '', [], '', '', '', '', '', '', '', '', '', '', '', '', '', ['ApplyIn-2-B'], ['ApplyIn-2-B'], '', '', '', '', '', '']\n",
      "\n",
      "True\n",
      "[(0, 1, 1), (9, 10, 3), (19, 20, 3), (25, 29, 0), (40, 41, 3)]\n",
      "[((0, 1, 1), (9, 10, 3), 1), ((0, 1, 1), (40, 41, 3), 1)]\n",
      "predict\n",
      "[(0, 1, 1), (9, 10, 3), (19, 20, 3), (26, 26, 0), (40, 41, 3)]\n",
      "[((0, 1, 1), (40, 41, 3), 1)]\n",
      "=====================================\n",
      "['待', '在', '冷', '氣', '房', '的', 'O', 'L', '都', '知', '道', '即', '使', '夏', '天', '油', '水', '更', '不', '平', '衡', '所', '以', '臉', '部', '的', '乾', '感', '會', '更', '明', '顯', ',', '油', '感', '也', '會', '更', '凸', '顯', ',', '用', '了', '這', 'S', 'U', 'R', 'P', 'U', 'R', '後', '混', '和', '肌', '的', 'T', '字', '油', '感', '與', '雙', '頰', '乾', '感', '舒', '緩', '很', '多', ',', '滿', '威', '的']\n",
      "['O', 'O', 'O', 'O', 'O', 'O', 'O', 'O', 'O', 'O', 'O', 'O', 'O', 'B-SEAS', 'I-SEAS', 'O', 'O', 'O', 'O', 'O', 'O', 'O', 'O', 'O', 'O', 'O', 'O', 'O', 'O', 'O', 'O', 'O', 'O', 'O', 'O', 'O', 'O', 'O', 'O', 'O', 'O', 'O', 'O', 'O', 'O', 'O', 'O', 'O', 'O', 'O', 'O', 'O', 'O', 'O', 'O', 'O', 'O', 'O', 'O', 'O', 'O', 'O', 'O', 'O', 'B-FUNC', 'I-FUNC', 'O', 'O', 'O', 'O', 'O', 'O']\n",
      "['', '', '', '', '', '', '', '', '', '', '', '', '', ['ApplyIn-0-B'], ['ApplyIn-0-B'], '', '', '', '', '', '', '', '', '', '', '', '', '', '', '', '', '', '', '', '', '', '', '', '', '', '', '', '', '', '', '', '', '', '', '', '', '', '', '', '', '', '', '', '', '', '', '', '', '', ['ApplyIn-0-A'], ['ApplyIn-0-A'], '', '', '', '', '', '']\n",
      "\n",
      "Predict output\n",
      "['O', 'O', 'O', 'O', 'O', 'O', 'O', 'O', 'O', 'O', 'O', 'O', 'O', 'B-SEAS', 'I-SEAS', 'O', 'O', 'O', 'O', 'O', 'O', 'O', 'O', 'O', 'O', 'O', 'O', 'O', 'O', 'O', 'O', 'O', 'O', 'O', 'O', 'O', 'O', 'O', 'O', 'O', 'O', 'O', 'O', 'O', 'O', 'O', 'O', 'O', 'O', 'O', 'O', 'O', 'O', 'O', 'O', 'O', 'O', 'O', 'O', 'O', 'O', 'O', 'O', 'O', 'B-FUNC', 'I-FUNC', 'O', 'O', 'O', 'O', 'O', 'O']\n",
      "['', '', '', '', '', '', '', '', '', '', '', '', '', [], [], '', '', '', '', '', '', '', '', '', '', '', '', '', '', '', '', '', '', '', '', '', '', '', '', '', '', '', '', '', '', '', '', '', '', '', '', '', '', '', '', '', '', '', '', '', '', '', '', '', [], [], '', '', '', '', '', '']\n",
      "\n",
      "True\n",
      "[(13, 14, 3), (64, 65, 1)]\n",
      "[((13, 14, 3), (64, 65, 1), 1)]\n",
      "predict\n",
      "[(13, 14, 3), (64, 65, 1)]\n",
      "[]\n",
      "=====================================\n",
      "['瓶', '身', '與', '壓', '頭', '大', '小', '剛', '好', '合', '適', '一', '手', '拿', '握', '.', '好', '拿', '好', '握', '且', '方', '便', '食', '指', '按', '壓', '壓', '頭', '.', '按', '壓', '適', '量', '於', '手', '心', '.', '質', '地', '是', '透', '明', '無', '色', '具', '流', '動', '性', '的', '輕', '油', '水', '狀', '.', '帶', '有', '淡', '淡', '的', '清', '心', '花', '香', '味', '道', '.', '香', '味', '清', '新', '淡', '雅', '.', '令', '人', '有', '舒', '緩', '放', '鬆', '的', '感', '覺', '.']\n",
      "['O', 'O', 'O', 'O', 'O', 'O', 'O', 'O', 'O', 'O', 'O', 'O', 'O', 'O', 'O', 'O', 'O', 'O', 'O', 'O', 'O', 'O', 'O', 'O', 'O', 'O', 'O', 'O', 'O', 'O', 'O', 'O', 'O', 'O', 'O', 'O', 'O', 'O', 'B-SENS', 'I-SENS', 'O', 'O', 'O', 'O', 'O', 'O', 'O', 'O', 'O', 'O', 'O', 'O', 'B-PERC', 'I-PERC', 'O', 'O', 'O', 'O', 'O', 'O', 'O', 'O', 'O', 'O', 'B-SENS', 'I-SENS', 'O', 'B-SENS', 'I-SENS', 'B-PERC', 'I-PERC', 'B-PERC', 'I-PERC', 'O', 'O', 'O', 'O', 'O', 'O', 'O', 'O', 'O', 'O', 'O', 'O']\n",
      "['', '', '', '', '', '', '', '', '', '', '', '', '', '', '', '', '', '', '', '', '', '', '', '', '', '', '', '', '', '', '', '', '', '', '', '', '', '', ['Feel-0-A'], ['Feel-0-A'], '', '', '', '', '', '', '', '', '', '', '', '', ['Feel-0-B'], ['Feel-0-B'], '', '', '', '', '', '', '', '', '', '', ['Feel-1-A', 'Feel-2-A'], ['Feel-1-A', 'Feel-2-A'], '', [], [], [], [], [], [], '', '', '', '', '', '', '', '', '', '', '', '']\n",
      "\n",
      "Predict output\n",
      "['O', 'O', 'O', 'O', 'O', 'O', 'O', 'O', 'O', 'O', 'O', 'O', 'O', 'O', 'O', 'O', 'O', 'O', 'O', 'O', 'O', 'O', 'O', 'O', 'O', 'O', 'O', 'O', 'O', 'O', 'O', 'O', 'O', 'O', 'O', 'O', 'O', 'O', 'B-SENS', 'I-SENS', 'O', 'O', 'O', 'O', 'O', 'O', 'O', 'O', 'O', 'O', 'O', 'O', 'B-PERC', 'I-PERC', 'O', 'O', 'O', 'O', 'O', 'O', 'O', 'O', 'O', 'O', 'B-SENS', 'I-SENS', 'O', 'B-SENS', 'I-SENS', 'B-PERC', 'I-PERC', 'B-PERC', 'I-PERC', 'O', 'O', 'O', 'O', 'B-FUNC', 'I-FUNC', 'O', 'O', 'O', 'O', 'O', 'O']\n",
      "['', '', '', '', '', '', '', '', '', '', '', '', '', '', '', '', '', '', '', '', '', '', '', '', '', '', '', '', '', '', '', '', '', '', '', '', '', '', ['Feel-0-A', 'Feel-3-A', 'Feel-4-A'], ['Feel-0-A', 'Feel-3-A', 'Feel-4-A'], '', '', '', '', '', '', '', '', '', '', '', '', ['Feel-2-B', 'Feel-0-B', 'Feel-1-B'], ['Feel-2-B', 'Feel-0-B', 'Feel-1-B'], '', '', '', '', '', '', '', '', '', '', ['Feel-1-A'], ['Feel-1-A'], '', ['Feel-2-A'], ['Feel-2-A'], ['Feel-2-A'], ['Feel-2-A'], ['Feel-2-A'], ['Feel-2-A'], '', '', '', '', [], [], '', '', '', '', '', '']\n",
      "\n",
      "True\n",
      "[(38, 39, 2), (52, 53, 4), (64, 65, 2), (67, 68, 2), (69, 70, 4), (71, 72, 4)]\n",
      "[((38, 39, 2), (52, 53, 4), 2)]\n",
      "predict\n",
      "[(38, 39, 2), (52, 53, 4), (64, 65, 2), (67, 68, 2), (69, 70, 4), (71, 72, 4), (77, 78, 1)]\n",
      "[((38, 39, 2), (52, 53, 4), 2), ((52, 53, 4), (64, 65, 2), 2), ((52, 53, 4), (67, 68, 2), 2), ((67, 68, 2), (69, 70, 4), 2), ((67, 68, 2), (71, 72, 4), 2)]\n",
      "=====================================\n"
     ]
    },
    {
     "name": "stdout",
     "output_type": "stream",
     "text": [
      "['質', '地', '是', '偏', '稀', '式', '的', '白', '色', '乳', '液', '狀']\n",
      "['B-SENS', 'I-SENS', 'O', 'O', 'O', 'O', 'O', 'O', 'O', 'B-PERC', 'I-PERC', 'I-PERC']\n",
      "[['Feel-0-A'], ['Feel-0-A'], '', '', '', '', '', '', '', ['Feel-0-B'], ['Feel-0-B'], ['Feel-0-B']]\n",
      "\n",
      "Predict output\n",
      "['B-SENS', 'I-SENS', 'O', 'O', 'O', 'O', 'O', 'O', 'O', 'B-PERC', 'I-PERC', 'I-PERC']\n",
      "[['Feel-0-A'], ['Feel-0-A'], '', '', '', '', '', '', '', ['Feel-0-B'], ['Feel-0-B'], ['Feel-0-B']]\n",
      "\n",
      "True\n",
      "[(0, 1, 2), (9, 11, 4)]\n",
      "[((0, 1, 2), (9, 11, 4), 2)]\n",
      "predict\n",
      "[(0, 1, 2), (9, 11, 4)]\n",
      "[((0, 1, 2), (9, 11, 4), 2)]\n",
      "=====================================\n",
      "['再', '加', '上', '它', '的', '保', '濕', '效', '果', '很', '讓', '我', '滿', '意', ',', '我', '是', '乾', '性', '肌', '膚', ',', '用', '起', '來', '蠻', '夠', '保', '濕', '的', ',']\n",
      "['O', 'O', 'O', 'O', 'O', 'B-FUNC', 'I-FUNC', 'O', 'O', 'O', 'O', 'O', 'O', 'O', 'O', 'O', 'O', 'B-STAT', 'I-STAT', 'I-STAT', 'I-STAT', 'O', 'O', 'O', 'O', 'O', 'O', 'B-FUNC', 'I-FUNC', 'O', 'O']\n",
      "['', '', '', '', '', ['ApplyTo-0-A'], ['ApplyTo-0-A'], '', '', '', '', '', '', '', '', '', '', ['ApplyTo-1-B', 'ApplyTo-0-B'], ['ApplyTo-1-B', 'ApplyTo-0-B'], ['ApplyTo-1-B', 'ApplyTo-0-B'], ['ApplyTo-1-B', 'ApplyTo-0-B'], '', '', '', '', '', '', ['ApplyTo-1-A'], ['ApplyTo-1-A'], '', '']\n",
      "\n",
      "Predict output\n",
      "['O', 'O', 'O', 'O', 'O', 'B-FUNC', 'I-FUNC', 'O', 'O', 'O', 'O', 'O', 'O', 'O', 'O', 'O', 'O', 'B-STAT', 'I-STAT', 'I-STAT', 'I-STAT', 'O', 'O', 'O', 'O', 'O', 'O', 'B-FUNC', 'I-FUNC', 'O', 'O']\n",
      "['', '', '', '', '', [], [], '', '', '', '', '', '', '', '', '', '', [], [], [], [], '', '', '', '', '', '', [], [], '', '']\n",
      "\n",
      "True\n",
      "[(5, 6, 1), (17, 20, 0), (27, 28, 1)]\n",
      "[((5, 6, 1), (17, 20, 0), 0), ((17, 20, 0), (27, 28, 1), 0)]\n",
      "predict\n",
      "[(5, 6, 1), (17, 20, 0), (27, 28, 1)]\n",
      "[]\n",
      "=====================================\n",
      "['整', '個', '使', '用', '起', '來', '的', '效', '果', '很', '不', '錯', ',', '質', '地', '很', '細', '緻', ',', '很', '服', '貼', ',', '很', '好', '刷', '勻', ',', '只', '是', '到', '了', '晚', '上', '會', '覺', '得', '有', '點', '小', '脫', '妝', '而', '已', ',', '顯', '色', '度', '很', '好', ',', '很', '容', '易', '上', '色', ',', '使', '用', '後', '整', '個', '臉', '頰', '看', '起', '來', '粉', '嫩', '透', '紅', '很', '自', '然']\n",
      "['O', 'O', 'O', 'O', 'O', 'O', 'O', 'O', 'O', 'O', 'O', 'O', 'O', 'B-SENS', 'I-SENS', 'O', 'B-PERC', 'I-PERC', 'O', 'O', 'O', 'O', 'O', 'O', 'O', 'O', 'O', 'O', 'O', 'O', 'O', 'O', 'O', 'O', 'O', 'O', 'O', 'O', 'O', 'O', 'O', 'O', 'O', 'O', 'O', 'O', 'O', 'O', 'O', 'O', 'O', 'O', 'O', 'O', 'O', 'O', 'O', 'O', 'O', 'O', 'O', 'O', 'O', 'O', 'O', 'O', 'O', 'O', 'O', 'O', 'O', 'O', 'O', 'O']\n",
      "['', '', '', '', '', '', '', '', '', '', '', '', '', ['Feel-0-A'], ['Feel-0-A'], '', ['Feel-0-B'], ['Feel-0-B'], '', '', '', '', '', '', '', '', '', '', '', '', '', '', '', '', '', '', '', '', '', '', '', '', '', '', '', '', '', '', '', '', '', '', '', '', '', '', '', '', '', '', '', '', '', '', '', '', '', '', '', '', '', '', '', '']\n",
      "\n",
      "Predict output\n",
      "['O', 'O', 'O', 'O', 'O', 'O', 'O', 'O', 'O', 'O', 'O', 'O', 'O', 'B-SENS', 'I-SENS', 'O', 'B-PERC', 'I-PERC', 'O', 'O', 'O', 'O', 'O', 'O', 'O', 'O', 'O', 'O', 'O', 'O', 'O', 'O', 'O', 'O', 'O', 'O', 'O', 'O', 'O', 'O', 'O', 'O', 'O', 'O', 'O', 'O', 'O', 'O', 'O', 'O', 'O', 'O', 'O', 'O', 'O', 'O', 'O', 'O', 'O', 'O', 'O', 'O', 'O', 'O', 'O', 'O', 'O', 'O', 'O', 'O', 'O', 'O', 'O', 'O']\n",
      "['', '', '', '', '', '', '', '', '', '', '', '', '', ['Feel-0-A'], ['Feel-0-A'], '', ['Feel-0-B'], ['Feel-0-B'], '', '', '', '', '', '', '', '', '', '', '', '', '', '', '', '', '', '', '', '', '', '', '', '', '', '', '', '', '', '', '', '', '', '', '', '', '', '', '', '', '', '', '', '', '', '', '', '', '', '', '', '', '', '', '', '']\n",
      "\n",
      "True\n",
      "[(13, 14, 2), (16, 17, 4)]\n",
      "[((13, 14, 2), (16, 17, 4), 2)]\n",
      "predict\n",
      "[(13, 14, 2), (16, 17, 4)]\n",
      "[((13, 14, 2), (16, 17, 4), 2)]\n",
      "=====================================\n",
      "['質', '地', '相', '當', '細', '緻']\n",
      "['B-SENS', 'I-SENS', 'O', 'O', 'B-PERC', 'I-PERC']\n",
      "[['Feel-0-A'], ['Feel-0-A'], '', '', ['Feel-0-B'], ['Feel-0-B']]\n",
      "\n",
      "Predict output\n",
      "['B-SENS', 'I-SENS', 'O', 'O', 'B-PERC', 'I-PERC']\n",
      "[['Feel-0-A'], ['Feel-0-A'], '', '', ['Feel-0-B'], ['Feel-0-B']]\n",
      "\n",
      "True\n",
      "[(0, 1, 2), (4, 5, 4)]\n",
      "[((0, 1, 2), (4, 5, 4), 2)]\n",
      "predict\n",
      "[(0, 1, 2), (4, 5, 4)]\n",
      "[((0, 1, 2), (4, 5, 4), 2)]\n",
      "=====================================\n",
      "['但', '是', '如', '果', '在', '冬', '天', '使', '用', '的', '話', '是', '否', '也', '這', '麼', '保', '濕', '就', '要', '再', '觀', '察', '看', '看', '了']\n",
      "['O', 'O', 'O', 'O', 'O', 'B-SEAS', 'I-SEAS', 'O', 'O', 'O', 'O', 'O', 'O', 'O', 'O', 'O', 'B-FUNC', 'I-FUNC', 'O', 'O', 'O', 'O', 'O', 'O', 'O', 'O']\n",
      "['', '', '', '', '', [], [], '', '', '', '', '', '', '', '', '', [], [], '', '', '', '', '', '', '', '']\n",
      "\n",
      "Predict output\n",
      "['O', 'O', 'O', 'O', 'O', 'B-SEAS', 'I-SEAS', 'O', 'O', 'O', 'O', 'O', 'O', 'O', 'O', 'O', 'B-FUNC', 'I-FUNC', 'O', 'O', 'O', 'O', 'O', 'O', 'O', 'O']\n",
      "['', '', '', '', '', ['ApplyIn-0-B'], ['ApplyIn-0-B'], '', '', '', '', '', '', '', '', '', ['ApplyIn-0-A'], [], '', '', '', '', '', '', '', '']\n",
      "\n",
      "True\n",
      "[(5, 6, 3), (16, 17, 1)]\n",
      "[]\n",
      "predict\n",
      "[(5, 6, 3), (16, 17, 1)]\n",
      "[]\n",
      "=====================================\n",
      "['這', '陣', '子', '試', '用', '下', '來', ',', '保', '濕', '效', '果', '很', '好', ',', '即', '使', '在', '這', '麼', '冷', '的', '冬', '天', '也', '很', '夠', '力', '~', '~']\n",
      "['O', 'O', 'O', 'O', 'O', 'O', 'O', 'O', 'B-FUNC', 'I-FUNC', 'O', 'O', 'O', 'O', 'O', 'O', 'O', 'O', 'O', 'O', 'O', 'O', 'B-SEAS', 'I-SEAS', 'O', 'O', 'O', 'O', 'O', 'O']\n",
      "['', '', '', '', '', '', '', '', ['ApplyIn-0-A'], ['ApplyIn-0-A'], '', '', '', '', '', '', '', '', '', '', '', '', ['ApplyIn-0-B'], ['ApplyIn-0-B'], '', '', '', '', '', '']\n",
      "\n",
      "Predict output\n",
      "['O', 'O', 'O', 'O', 'O', 'O', 'O', 'O', 'B-FUNC', 'I-FUNC', 'O', 'O', 'O', 'O', 'O', 'O', 'O', 'O', 'O', 'O', 'O', 'O', 'B-SEAS', 'I-SEAS', 'O', 'O', 'O', 'O', 'O', 'O']\n",
      "['', '', '', '', '', '', '', '', ['ApplyIn-0-A'], ['ApplyIn-0-A'], '', '', '', '', '', '', '', '', '', '', '', '', ['ApplyIn-0-B'], ['ApplyIn-0-B'], '', '', '', '', '', '']\n",
      "\n",
      "True\n",
      "[(8, 9, 1), (22, 23, 3)]\n",
      "[((8, 9, 1), (22, 23, 3), 1)]\n",
      "predict\n",
      "[(8, 9, 1), (22, 23, 3)]\n",
      "[((8, 9, 1), (22, 23, 3), 1)]\n",
      "=====================================\n",
      "['因', '我', '冬', '天', '的', '肌', '膚', '非', '常', '的', '乾', '燥', '所', '以', '冬', '天', '使', '用', '保', '濕', '度', '就', '真', '的', '很', '不', '夠']\n",
      "['O', 'O', 'B-SEAS', 'I-SEAS', 'O', 'O', 'O', 'O', 'O', 'O', 'O', 'O', 'O', 'O', 'B-SEAS', 'I-SEAS', 'O', 'O', 'B-FUNC', 'I-FUNC', 'I-FUNC', 'O', 'O', 'O', 'O', 'O', 'O']\n",
      "['', '', [], [], '', '', '', '', '', '', '', '', '', '', [], [], '', '', [], [], [], '', '', '', '', '', '']\n",
      "\n",
      "Predict output\n",
      "['O', 'O', 'B-SEAS', 'I-SEAS', 'O', 'O', 'O', 'O', 'O', 'O', 'O', 'O', 'O', 'O', 'B-SEAS', 'I-SEAS', 'O', 'O', 'B-FUNC', 'I-FUNC', 'I-FUNC', 'O', 'O', 'O', 'O', 'O', 'O']\n",
      "['', '', ['ApplyIn-0-B'], ['ApplyIn-0-B'], '', '', '', '', '', '', '', '', '', '', [], [], '', '', '', '', [], '', '', '', '', '', '']\n",
      "\n",
      "True\n",
      "[(2, 3, 3), (14, 15, 3), (18, 20, 1)]\n",
      "[]\n",
      "predict\n",
      "[(2, 3, 3), (14, 15, 3), (18, 20, 1)]\n",
      "[]\n",
      "=====================================\n",
      "['質', '地', '很', '滑', '潤', '~', '不', '黏', '稠']\n",
      "['B-SENS', 'I-SENS', 'O', 'O', 'O', 'O', 'O', 'B-PERC', 'I-PERC']\n",
      "[[], [], '', '', '', '', '', [], []]\n",
      "\n",
      "Predict output\n",
      "['B-SENS', 'I-SENS', 'O', 'B-PERC', 'I-PERC', 'O', 'O', 'B-PERC', 'I-PERC']\n",
      "[['Feel-1-A', 'Feel-0-A'], ['Feel-1-A', 'Feel-0-A'], '', ['Feel-0-B'], ['Feel-0-B'], '', '', ['Feel-1-B'], ['Feel-1-B']]\n",
      "\n",
      "True\n",
      "[(0, 1, 2), (7, 8, 4)]\n",
      "[]\n",
      "predict\n",
      "[(0, 1, 2), (3, 4, 4), (7, 8, 4)]\n",
      "[((0, 1, 2), (3, 4, 4), 2), ((0, 1, 2), (7, 8, 4), 2)]\n",
      "=====================================\n",
      "['超', '適', '合', '夏', '天', '美', '白', '用', ',', '以', '前', '夏', '天', '白', '天', '擦', '美', '白', '精', '華', '都', '怕', '會', '太', '滋', '潤', '太', '黏', '膩', ',', '所', '以', '都', '沒', '有', '認', '真', '美', '白', ',', '現', '在', '我', '終', '於', '可', '以', '在', '夏', '天', '認', '真', '美', '白', '了']\n",
      "['O', 'O', 'O', 'B-SEAS', 'I-SEAS', 'B-FUNC', 'I-FUNC', 'O', 'O', 'O', 'O', 'B-SEAS', 'I-SEAS', 'O', 'O', 'O', 'O', 'O', 'O', 'O', 'O', 'O', 'O', 'O', 'O', 'O', 'O', 'O', 'O', 'O', 'O', 'O', 'O', 'O', 'O', 'O', 'O', 'O', 'O', 'O', 'O', 'O', 'O', 'O', 'O', 'O', 'O', 'O', 'B-SEAS', 'I-SEAS', 'O', 'O', 'O', 'O', 'O']\n",
      "['', '', '', ['ApplyIn-0-B'], ['ApplyIn-0-B'], ['ApplyIn-0-A'], ['ApplyIn-0-A'], '', '', '', '', [], [], '', '', '', '', '', '', '', '', '', '', '', '', '', '', '', '', '', '', '', '', '', '', '', '', '', '', '', '', '', '', '', '', '', '', '', [], [], '', '', '', '', '']\n",
      "\n",
      "Predict output\n",
      "['O', 'O', 'O', 'B-SEAS', 'I-SEAS', 'B-FUNC', 'I-FUNC', 'O', 'O', 'O', 'O', 'B-SEAS', 'I-SEAS', 'O', 'O', 'O', 'O', 'O', 'O', 'O', 'O', 'O', 'O', 'O', 'O', 'O', 'O', 'O', 'O', 'O', 'O', 'O', 'O', 'O', 'O', 'O', 'O', 'B-FUNC', 'I-FUNC', 'O', 'O', 'O', 'O', 'O', 'O', 'O', 'O', 'O', 'B-SEAS', 'I-SEAS', 'O', 'O', 'O', 'O', 'O']\n",
      "['', '', '', [], [], [], [], '', '', '', '', [], [], '', '', '', '', '', '', '', '', '', '', '', '', '', '', '', '', '', '', '', '', '', '', '', '', [], [], '', '', '', '', '', '', '', '', '', [], [], '', '', '', '', '']\n",
      "\n",
      "True\n",
      "[(3, 4, 3), (5, 6, 1), (11, 12, 3), (48, 49, 3)]\n",
      "[((3, 4, 3), (5, 6, 1), 1)]\n",
      "predict\n",
      "[(3, 4, 3), (5, 6, 1), (11, 12, 3), (37, 38, 1), (48, 49, 3)]\n",
      "[]\n",
      "=====================================\n"
     ]
    },
    {
     "name": "stdout",
     "output_type": "stream",
     "text": [
      "['D', 'R', '.', 'W', 'U', '玻', '尿', '酸', '保', '濕', '精', '華', '霜', '絕', '對', '是', '乾', '妹', '妹', '冬', '天', '一', '定', '要', '入', '手', '的', '好', '貨', '喔', '~', '~']\n",
      "['O', 'O', 'O', 'O', 'O', 'O', 'O', 'O', 'O', 'O', 'O', 'O', 'O', 'O', 'O', 'O', 'O', 'O', 'O', 'B-SEAS', 'I-SEAS', 'O', 'O', 'O', 'O', 'O', 'O', 'O', 'O', 'O', 'O', 'O']\n",
      "['', '', '', '', '', '', '', '', '', '', '', '', '', '', '', '', '', '', '', [], [], '', '', '', '', '', '', '', '', '', '', '']\n",
      "\n",
      "Predict output\n",
      "['O', 'O', 'O', 'O', 'O', 'O', 'O', 'O', 'O', 'O', 'O', 'O', 'O', 'O', 'O', 'O', 'O', 'O', 'O', 'B-SEAS', 'I-SEAS', 'O', 'O', 'O', 'O', 'O', 'O', 'O', 'O', 'O', 'O', 'O']\n",
      "['', '', '', '', '', '', '', '', '', '', '', '', '', '', '', '', '', '', '', [], [], '', '', '', '', '', '', '', '', '', '', '']\n",
      "\n",
      "True\n",
      "[(19, 20, 3)]\n",
      "[]\n",
      "predict\n",
      "[(19, 20, 3)]\n",
      "[]\n",
      "=====================================\n",
      "['無', '味', ',', '質', '地', '為', '稍', '濃', '稠', '乳', '霜', '狀', ',', '需', '要', '推', '比', '較', '久', '才', '會', '吸', '收', ',', '且', '吸', '收', '後', '還', '是', '稍', '感', '厚', '重', ',', '如', '果', '在', '天', '氣', '較', '冷', '的', '冬', '天', '使', '用', '可', '能', '會', '比', '較', '舒', '服', ',', '但', '吸', '收', '後', '隔', '天', '皮', '膚', '算', '是', '很', '保', '濕']\n",
      "['O', 'O', 'O', 'B-SENS', 'I-SENS', 'O', 'O', 'B-PERC', 'I-PERC', 'O', 'O', 'O', 'O', 'O', 'O', 'O', 'O', 'O', 'O', 'O', 'O', 'O', 'O', 'O', 'O', 'O', 'O', 'O', 'O', 'O', 'O', 'O', 'O', 'O', 'O', 'O', 'O', 'O', 'O', 'O', 'O', 'O', 'O', 'B-SEAS', 'I-SEAS', 'O', 'O', 'O', 'O', 'O', 'O', 'O', 'O', 'O', 'O', 'O', 'O', 'O', 'O', 'O', 'O', 'O', 'O', 'O', 'O', 'O', 'B-FUNC', 'I-FUNC']\n",
      "['', '', '', ['Feel-0-A'], ['Feel-0-A'], '', '', ['Feel-0-B'], ['Feel-0-B'], '', '', '', '', '', '', '', '', '', '', '', '', '', '', '', '', '', '', '', '', '', '', '', '', '', '', '', '', '', '', '', '', '', '', ['ApplyIn-1-B'], ['ApplyIn-1-B'], '', '', '', '', '', '', '', '', '', '', '', '', '', '', '', '', '', '', '', '', '', ['ApplyIn-1-A'], ['ApplyIn-1-A']]\n",
      "\n",
      "Predict output\n",
      "['O', 'O', 'O', 'B-SENS', 'I-SENS', 'O', 'O', 'B-PERC', 'I-PERC', 'O', 'O', 'O', 'O', 'O', 'O', 'O', 'O', 'O', 'O', 'O', 'O', 'O', 'O', 'O', 'O', 'O', 'O', 'O', 'O', 'O', 'O', 'O', 'O', 'O', 'O', 'O', 'O', 'O', 'O', 'O', 'O', 'O', 'O', 'B-SEAS', 'I-SEAS', 'O', 'O', 'O', 'O', 'O', 'O', 'O', 'O', 'O', 'O', 'O', 'O', 'O', 'O', 'O', 'O', 'O', 'O', 'O', 'O', 'O', 'B-FUNC', 'I-FUNC']\n",
      "['', '', '', ['Feel-0-A'], ['Feel-0-A'], '', '', ['Feel-0-B'], ['Feel-0-B'], '', '', '', '', '', '', '', '', '', '', '', '', '', '', '', '', '', '', '', '', '', '', '', '', '', '', '', '', '', '', '', '', '', '', [], [], '', '', '', '', '', '', '', '', '', '', '', '', '', '', '', '', '', '', '', '', '', [], []]\n",
      "\n",
      "True\n",
      "[(3, 4, 2), (7, 8, 4), (43, 44, 3), (66, 67, 1)]\n",
      "[((3, 4, 2), (7, 8, 4), 2), ((43, 44, 3), (66, 67, 1), 1)]\n",
      "predict\n",
      "[(3, 4, 2), (7, 8, 4), (43, 44, 3), (66, 67, 1)]\n",
      "[((3, 4, 2), (7, 8, 4), 2)]\n",
      "=====================================\n",
      "['乾', '性', '肌', '膚', '可', '能', '需', '要', '多', '一', '層', '保', '濕', '的', '化', '妝', '水', '會', '比', '較', '好', '囉', '^', '^']\n",
      "['B-STAT', 'I-STAT', 'I-STAT', 'I-STAT', 'O', 'O', 'O', 'O', 'O', 'O', 'O', 'O', 'O', 'O', 'O', 'O', 'O', 'O', 'O', 'O', 'O', 'O', 'O', 'O']\n",
      "[[], [], [], [], '', '', '', '', '', '', '', '', '', '', '', '', '', '', '', '', '', '', '', '']\n",
      "\n",
      "Predict output\n",
      "['B-STAT', 'I-STAT', 'I-STAT', 'I-STAT', 'O', 'O', 'O', 'O', 'O', 'O', 'O', 'B-FUNC', 'I-FUNC', 'O', 'O', 'O', 'O', 'O', 'O', 'O', 'O', 'O', 'O', 'O']\n",
      "[[], [], [], [], '', '', '', '', '', '', '', [], [], '', '', '', '', '', '', '', '', '', '', '']\n",
      "\n",
      "True\n",
      "[(0, 3, 0)]\n",
      "[]\n",
      "predict\n",
      "[(0, 3, 0), (11, 12, 1)]\n",
      "[]\n",
      "=====================================\n",
      "['雖', '說', '質', '地', '是', '白', '色', '乳', '狀']\n",
      "['O', 'O', 'B-SENS', 'I-SENS', 'O', 'O', 'O', 'B-PERC', 'I-PERC']\n",
      "['', '', ['Feel-0-A'], ['Feel-0-A'], '', '', '', ['Feel-0-B'], ['Feel-0-B']]\n",
      "\n",
      "Predict output\n",
      "['O', 'O', 'B-SENS', 'I-SENS', 'O', 'O', 'O', 'B-PERC', 'I-PERC']\n",
      "['', '', ['Feel-0-A'], ['Feel-0-A'], '', '', '', ['Feel-0-B'], ['Feel-0-B']]\n",
      "\n",
      "True\n",
      "[(2, 3, 2), (7, 8, 4)]\n",
      "[((2, 3, 2), (7, 8, 4), 2)]\n",
      "predict\n",
      "[(2, 3, 2), (7, 8, 4)]\n",
      "[((2, 3, 2), (7, 8, 4), 2)]\n",
      "=====================================\n",
      "['至', '於', '夏', '天', '最', '在', '乎', '的', '控', '油', '持', '妝', '度']\n",
      "['O', 'O', 'B-SEAS', 'I-SEAS', 'O', 'O', 'O', 'O', 'B-FUNC', 'I-FUNC', 'O', 'O', 'O']\n",
      "['', '', [], [], '', '', '', '', [], [], '', '', '']\n",
      "\n",
      "Predict output\n",
      "['O', 'O', 'B-SEAS', 'I-SEAS', 'O', 'O', 'O', 'O', 'B-FUNC', 'I-FUNC', 'O', 'O', 'O']\n",
      "['', '', ['ApplyIn-0-B'], ['ApplyIn-0-B'], '', '', '', '', ['ApplyIn-0-A'], [], '', '', '']\n",
      "\n",
      "True\n",
      "[(2, 3, 3), (8, 9, 1)]\n",
      "[]\n",
      "predict\n",
      "[(2, 3, 3), (8, 9, 1)]\n",
      "[]\n",
      "=====================================\n",
      "['夏', '天', '到', '來', '控', '油', '和', '持', '久', '度', '是', '最', '重', '要', '的', '事', '情']\n",
      "['B-SEAS', 'I-SEAS', 'O', 'O', 'B-FUNC', 'I-FUNC', 'O', 'O', 'O', 'O', 'O', 'O', 'O', 'O', 'O', 'O', 'O']\n",
      "[[], [], '', '', [], [], '', '', '', '', '', '', '', '', '', '', '']\n",
      "\n",
      "Predict output\n",
      "['B-SEAS', 'I-SEAS', 'O', 'O', 'O', 'O', 'O', 'O', 'O', 'O', 'O', 'O', 'O', 'O', 'O', 'O', 'O']\n",
      "[[], [], '', '', '', '', '', '', '', '', '', '', '', '', '', '', '']\n",
      "\n",
      "True\n",
      "[(0, 1, 3), (4, 5, 1)]\n",
      "[]\n",
      "predict\n",
      "[(0, 1, 3)]\n",
      "[]\n",
      "=====================================\n",
      "['用', '了', '2', '週', '週', '左', '右', '後', '效', '果', '並', '沒', '有', '很', '明', '顯', ',', '個', '人', '是', '覺', '得', '有', '可', '能', '是', '因', '為', '冬', '天', '太', '乾', '了', '所', '以', '保', '濕', '程', '度', '有', '限', ',']\n",
      "['O', 'O', 'O', 'O', 'O', 'O', 'O', 'O', 'O', 'O', 'O', 'O', 'O', 'O', 'O', 'O', 'O', 'O', 'O', 'O', 'O', 'O', 'O', 'O', 'O', 'O', 'O', 'O', 'B-SEAS', 'I-SEAS', 'O', 'O', 'O', 'O', 'O', 'B-FUNC', 'I-FUNC', 'O', 'O', 'O', 'O', 'O']\n",
      "['', '', '', '', '', '', '', '', '', '', '', '', '', '', '', '', '', '', '', '', '', '', '', '', '', '', '', '', [], [], '', '', '', '', '', [], [], '', '', '', '', '']\n",
      "\n",
      "Predict output\n",
      "['O', 'O', 'O', 'O', 'O', 'O', 'O', 'O', 'O', 'O', 'O', 'O', 'O', 'O', 'O', 'O', 'O', 'O', 'O', 'O', 'O', 'O', 'O', 'O', 'O', 'O', 'O', 'O', 'B-SEAS', 'I-SEAS', 'O', 'O', 'O', 'O', 'O', 'B-FUNC', 'I-FUNC', 'O', 'O', 'O', 'O', 'O']\n",
      "['', '', '', '', '', '', '', '', '', '', '', '', '', '', '', '', '', '', '', '', '', '', '', '', '', '', '', '', [], [], '', '', '', '', '', [], [], '', '', '', '', '']\n",
      "\n",
      "True\n",
      "[(28, 29, 3), (35, 36, 1)]\n",
      "[]\n",
      "predict\n",
      "[(28, 29, 3), (35, 36, 1)]\n",
      "[]\n",
      "=====================================\n",
      "Batch entity score\n",
      "precision  \t recall  \t fbeta_score  \t\n",
      "(0.891566265060241, 0.925, 0.9079754601226994, None)\n",
      "\n",
      "Batch relation score\n",
      "precision  \t recall  \t fbeta_score  \t\n",
      "(0.6111111111111112, 0.44, 0.5116279069767442, None)\n",
      "\n",
      "p_r_fscore\n",
      "precision  \t recall  \t fbeta_score  \t\n",
      "(0.611111110771605, 0.439999999824, 0.5116279018712818) 11 7 0 14\n",
      "===========================================\n",
      "['因', '為', '我', '是', '混', '合', '性', '乾', '肌', ',', '後', '面', '還', '會', '接', '續', '使', '用', '乳', '液', ',', '如', '果', '覺', '得', '太', '厚', '重', ',', '化', '妝', '水', '後', '也', '可', '以', '直', '接', '接', '這', '款', '淨', '斑', '精', '華', ',', '因', '為', '乳', '液', '狀', '的', '特', '性', '使', '用', '起', '來', '也', '很', '保', '濕']\n",
      "['O', 'O', 'O', 'O', 'B-STAT', 'I-STAT', 'I-STAT', 'I-STAT', 'I-STAT', 'O', 'O', 'O', 'O', 'O', 'O', 'O', 'O', 'O', 'O', 'O', 'O', 'O', 'O', 'O', 'O', 'O', 'O', 'O', 'O', 'O', 'O', 'O', 'O', 'O', 'O', 'O', 'O', 'O', 'O', 'O', 'O', 'O', 'O', 'O', 'O', 'O', 'O', 'O', 'O', 'O', 'O', 'O', 'O', 'O', 'O', 'O', 'O', 'O', 'O', 'O', 'B-FUNC', 'I-FUNC']\n",
      "['', '', '', '', ['ApplyTo-0-B'], ['ApplyTo-0-B'], ['ApplyTo-0-B'], ['ApplyTo-0-B'], ['ApplyTo-0-B'], '', '', '', '', '', '', '', '', '', '', '', '', '', '', '', '', '', '', '', '', '', '', '', '', '', '', '', '', '', '', '', '', '', '', '', '', '', '', '', '', '', '', '', '', '', '', '', '', '', '', '', ['ApplyTo-0-A'], ['ApplyTo-0-A']]\n",
      "\n",
      "Predict output\n",
      "['O', 'O', 'O', 'O', 'O', 'O', 'O', 'O', 'O', 'O', 'O', 'O', 'O', 'O', 'O', 'O', 'O', 'O', 'O', 'O', 'O', 'O', 'O', 'O', 'O', 'O', 'O', 'O', 'O', 'O', 'O', 'O', 'O', 'O', 'O', 'O', 'O', 'O', 'O', 'O', 'O', 'O', 'O', 'O', 'O', 'O', 'O', 'O', 'O', 'O', 'O', 'O', 'O', 'O', 'O', 'O', 'O', 'O', 'O', 'O', 'B-FUNC', 'I-FUNC']\n",
      "['', '', '', '', '', '', '', '', '', '', '', '', '', '', '', '', '', '', '', '', '', '', '', '', '', '', '', '', '', '', '', '', '', '', '', '', '', '', '', '', '', '', '', '', '', '', '', '', '', '', '', '', '', '', '', '', '', '', '', '', [], []]\n",
      "\n",
      "True\n",
      "[(4, 8, 0), (60, 61, 1)]\n",
      "[((4, 8, 0), (60, 61, 1), 0)]\n",
      "predict\n",
      "[(60, 61, 1)]\n",
      "[]\n",
      "=====================================\n",
      "['我', '有', '時', '懶', ',', '就', '只', '有', '單', '擦', '青', '春', '露', ',', '在', '夏', '天', '來', '說', ',', '保', '濕', '度', '還', '可', '以', '∼']\n",
      "['O', 'O', 'O', 'O', 'O', 'O', 'O', 'O', 'O', 'O', 'O', 'O', 'O', 'O', 'O', 'B-SEAS', 'I-SEAS', 'O', 'O', 'O', 'B-FUNC', 'I-FUNC', 'I-FUNC', 'O', 'O', 'O', 'O']\n",
      "['', '', '', '', '', '', '', '', '', '', '', '', '', '', '', ['ApplyIn-0-B'], ['ApplyIn-0-B'], '', '', '', ['ApplyIn-0-A'], ['ApplyIn-0-A'], ['ApplyIn-0-A'], '', '', '', '']\n",
      "\n",
      "Predict output\n",
      "['O', 'O', 'O', 'O', 'O', 'O', 'O', 'O', 'O', 'O', 'O', 'O', 'O', 'O', 'O', 'B-SEAS', 'I-SEAS', 'O', 'O', 'O', 'B-FUNC', 'I-FUNC', 'I-FUNC', 'O', 'O', 'O', 'O']\n",
      "['', '', '', '', '', '', '', '', '', '', '', '', '', '', '', ['ApplyIn-0-B'], ['ApplyIn-0-B'], '', '', '', ['ApplyIn-0-A'], ['ApplyIn-0-A'], [], '', '', '', '']\n",
      "\n",
      "True\n",
      "[(15, 16, 3), (20, 22, 1)]\n",
      "[((15, 16, 3), (20, 22, 1), 1)]\n",
      "predict\n",
      "[(15, 16, 3), (20, 22, 1)]\n",
      "[]\n",
      "=====================================\n"
     ]
    },
    {
     "name": "stdout",
     "output_type": "stream",
     "text": [
      "['質', '地', '清', '爽', '不', '黏', '膩']\n",
      "['B-SENS', 'I-SENS', 'B-PERC', 'I-PERC', 'O', 'B-PERC', 'I-PERC']\n",
      "[['Feel-0-A'], ['Feel-0-A'], ['Feel-0-B'], ['Feel-0-B'], '', [], []]\n",
      "\n",
      "Predict output\n",
      "['B-SENS', 'I-SENS', 'B-PERC', 'I-PERC', 'O', 'B-PERC', 'I-PERC']\n",
      "[['Feel-1-A', 'Feel-0-A'], ['Feel-1-A', 'Feel-0-A'], ['Feel-0-B'], ['Feel-0-B'], '', ['Feel-1-B'], ['Feel-1-B']]\n",
      "\n",
      "True\n",
      "[(0, 1, 2), (2, 3, 4), (5, 6, 4)]\n",
      "[((0, 1, 2), (2, 3, 4), 2)]\n",
      "predict\n",
      "[(0, 1, 2), (2, 3, 4), (5, 6, 4)]\n",
      "[((0, 1, 2), (2, 3, 4), 2), ((0, 1, 2), (5, 6, 4), 2)]\n",
      "=====================================\n",
      "['覺', '得', '是', '很', '適', '合', '油', '性', '肌', '在', '冬', '天', '使', '用', '的', '一', '款', '美', '白', '精', '華', '乳']\n",
      "['O', 'O', 'O', 'O', 'O', 'O', 'B-STAT', 'I-STAT', 'I-STAT', 'O', 'B-SEAS', 'I-SEAS', 'O', 'O', 'O', 'O', 'O', 'B-FUNC', 'I-FUNC', 'O', 'O', 'O']\n",
      "['', '', '', '', '', '', ['ApplyTo-0-B'], ['ApplyTo-0-B'], ['ApplyTo-0-B'], '', [], [], '', '', '', '', '', '', '', '', '', '']\n",
      "\n",
      "Predict output\n",
      "['O', 'O', 'O', 'O', 'O', 'O', 'B-STAT', 'I-STAT', 'I-STAT', 'O', 'B-SEAS', 'I-SEAS', 'O', 'O', 'O', 'O', 'O', 'O', 'O', 'O', 'O', 'O']\n",
      "['', '', '', '', '', '', [], [], [], '', [], [], '', '', '', '', '', '', '', '', '', '']\n",
      "\n",
      "True\n",
      "[(6, 8, 0), (10, 11, 3), (17, 18, 1)]\n",
      "[]\n",
      "predict\n",
      "[(6, 8, 0), (10, 11, 3)]\n",
      "[]\n",
      "=====================================\n",
      "['夏', '天', '用', '太', '黏', '膩', '~', '冬', '天', '的', '話', '會', '不', '夠', '保', '濕', '~', '我', '會', '放', '在', '秋', '天', '當', '保', '濕', '精', '華', '用']\n",
      "['B-SEAS', 'I-SEAS', 'O', 'O', 'O', 'O', 'O', 'B-SEAS', 'I-SEAS', 'O', 'O', 'O', 'O', 'O', 'B-FUNC', 'I-FUNC', 'O', 'O', 'O', 'O', 'O', 'B-SEAS', 'I-SEAS', 'O', 'B-FUNC', 'I-FUNC', 'O', 'O', 'O']\n",
      "[[], [], '', '', '', '', '', [], [], '', '', '', '', '', [], [], '', '', '', '', '', ['ApplyIn-0-B'], ['ApplyIn-0-B'], '', ['ApplyIn-0-A'], ['ApplyIn-0-A'], '', '', '']\n",
      "\n",
      "Predict output\n",
      "['B-SEAS', 'I-SEAS', 'O', 'O', 'O', 'O', 'O', 'B-SEAS', 'I-SEAS', 'O', 'O', 'O', 'O', 'O', 'B-FUNC', 'I-FUNC', 'O', 'O', 'O', 'O', 'O', 'B-SEAS', 'I-SEAS', 'O', 'B-FUNC', 'I-FUNC', 'O', 'O', 'O']\n",
      "[['ApplyIn-1-B', 'ApplyIn-0-B'], ['ApplyIn-1-B', 'ApplyIn-0-B'], '', '', '', '', '', [], [], '', '', '', '', '', ['ApplyIn-0-A'], ['ApplyIn-0-A'], '', '', '', '', '', [], [], '', ['ApplyIn-1-A'], [], '', '', '']\n",
      "\n",
      "True\n",
      "[(0, 1, 3), (7, 8, 3), (14, 15, 1), (21, 22, 3), (24, 25, 1)]\n",
      "[((21, 22, 3), (24, 25, 1), 1)]\n",
      "predict\n",
      "[(0, 1, 3), (7, 8, 3), (14, 15, 1), (21, 22, 3), (24, 25, 1)]\n",
      "[((0, 1, 3), (14, 15, 1), 1)]\n",
      "=====================================\n",
      "['控', '油', '效', '果', '還', '不', '錯', ',', '但', '因', '為', '還', '沒', '到', '夏', '天', '出', '油', '嚴', '重', '的', '時', '後']\n",
      "['B-FUNC', 'I-FUNC', 'O', 'O', 'O', 'O', 'O', 'O', 'O', 'O', 'O', 'O', 'O', 'O', 'B-SEAS', 'I-SEAS', 'O', 'O', 'O', 'O', 'O', 'O', 'O']\n",
      "[[], [], '', '', '', '', '', '', '', '', '', '', '', '', [], [], '', '', '', '', '', '', '']\n",
      "\n",
      "Predict output\n",
      "['B-FUNC', 'I-FUNC', 'O', 'O', 'O', 'O', 'O', 'O', 'O', 'O', 'O', 'O', 'O', 'O', 'B-SEAS', 'I-SEAS', 'O', 'O', 'O', 'O', 'O', 'O', 'O']\n",
      "[[], [], '', '', '', '', '', '', '', '', '', '', '', '', [], [], '', '', '', '', '', '', '']\n",
      "\n",
      "True\n",
      "[(0, 1, 1), (14, 15, 3)]\n",
      "[]\n",
      "predict\n",
      "[(0, 1, 1), (14, 15, 3)]\n",
      "[]\n",
      "=====================================\n",
      "['保', '濕', '的', '部', '份', '倒', '是', '覺', '得', '還', '可', '以', ',', '是', '有', '感', '覺', '比', '較', 'Q', '彈', '一', '點', ',', '夏', '天', '裡', '開', '冷', '氣', '常', '會', '讓', '皮', '膚', '太', '乾', ',', '但', '擦', '了', '這', '款', '乳', '液', '之', '後', '是', '有', '感', '覺', '皮', '膚', '在', '冷', '氣', '室', '裡', '沒', '那', '麼', '乾']\n",
      "['B-FUNC', 'I-FUNC', 'O', 'O', 'O', 'O', 'O', 'O', 'O', 'O', 'O', 'O', 'O', 'O', 'O', 'O', 'O', 'O', 'O', 'O', 'O', 'O', 'O', 'O', 'B-SEAS', 'I-SEAS', 'O', 'O', 'O', 'O', 'O', 'O', 'O', 'O', 'O', 'O', 'O', 'O', 'O', 'O', 'O', 'O', 'O', 'O', 'O', 'O', 'O', 'O', 'O', 'O', 'O', 'O', 'O', 'O', 'O', 'O', 'O', 'O', 'O', 'O', 'O', 'O']\n",
      "[['ApplyIn-0-A'], ['ApplyIn-0-A'], '', '', '', '', '', '', '', '', '', '', '', '', '', '', '', '', '', '', '', '', '', '', ['ApplyIn-0-B'], ['ApplyIn-0-B'], '', '', '', '', '', '', '', '', '', '', '', '', '', '', '', '', '', '', '', '', '', '', '', '', '', '', '', '', '', '', '', '', '', '', '', '']\n",
      "\n",
      "Predict output\n",
      "['B-FUNC', 'I-FUNC', 'O', 'O', 'O', 'O', 'O', 'O', 'O', 'O', 'O', 'O', 'O', 'O', 'O', 'O', 'O', 'O', 'O', 'O', 'O', 'O', 'O', 'O', 'B-SEAS', 'I-SEAS', 'O', 'O', 'O', 'O', 'O', 'O', 'O', 'O', 'O', 'O', 'O', 'O', 'O', 'O', 'O', 'O', 'O', 'O', 'O', 'O', 'O', 'O', 'O', 'O', 'O', 'O', 'O', 'O', 'O', 'O', 'O', 'O', 'O', 'O', 'O', 'O']\n",
      "[[], [], '', '', '', '', '', '', '', '', '', '', '', '', '', '', '', '', '', '', '', '', '', '', [], [], '', '', '', '', '', '', '', '', '', '', '', '', '', '', '', '', '', '', '', '', '', '', '', '', '', '', '', '', '', '', '', '', '', '', '', '']\n",
      "\n",
      "True\n",
      "[(0, 1, 1), (24, 25, 3)]\n",
      "[((0, 1, 1), (24, 25, 3), 1)]\n",
      "predict\n",
      "[(0, 1, 1), (24, 25, 3)]\n",
      "[]\n",
      "=====================================\n",
      "['產', '品', '延', '展', '度', '也', '不', '錯', ',', '雖', '然', '質', '地', '有', '點', '濃', '稠', ',', '但', '不', '會', '不', '好', '推', '開', '的', '情', '形']\n",
      "['O', 'O', 'O', 'O', 'O', 'O', 'O', 'O', 'O', 'O', 'O', 'B-SENS', 'I-SENS', 'O', 'O', 'B-PERC', 'I-PERC', 'O', 'O', 'O', 'O', 'O', 'B-PERC', 'I-PERC', 'I-PERC', 'O', 'O', 'O']\n",
      "['', '', '', '', '', '', '', '', '', '', '', ['Feel-1-A', 'Feel-0-A'], ['Feel-1-A', 'Feel-0-A'], '', '', ['Feel-0-B'], ['Feel-0-B'], '', '', '', '', '', ['Feel-1-B'], ['Feel-1-B'], ['Feel-1-B'], '', '', '']\n",
      "\n",
      "Predict output\n",
      "['O', 'O', 'O', 'O', 'O', 'O', 'O', 'O', 'O', 'O', 'O', 'B-SENS', 'I-SENS', 'O', 'O', 'B-PERC', 'I-PERC', 'O', 'O', 'O', 'O', 'O', 'B-PERC', 'I-PERC', 'I-PERC', 'O', 'O', 'O']\n",
      "['', '', '', '', '', '', '', '', '', '', '', ['Feel-1-A', 'Feel-0-A'], ['Feel-1-A', 'Feel-0-A'], '', '', ['Feel-0-B'], ['Feel-0-B'], '', '', '', '', '', ['Feel-1-B'], ['Feel-1-B'], ['Feel-1-B'], '', '', '']\n",
      "\n",
      "True\n",
      "[(11, 12, 2), (15, 16, 4), (22, 24, 4)]\n",
      "[((11, 12, 2), (15, 16, 4), 2), ((11, 12, 2), (22, 24, 4), 2)]\n",
      "predict\n",
      "[(11, 12, 2), (15, 16, 4), (22, 24, 4)]\n",
      "[((11, 12, 2), (15, 16, 4), 2), ((11, 12, 2), (22, 24, 4), 2)]\n",
      "=====================================\n",
      "['使', '用', '三', '周', '後', ',', '觸', '覺', '可', '以', '感', '受', '到', '肌', '膚', '更', '加', '平', '滑', '有', '彈', '性', ',', '保', '濕', '度', '提', '升', '了', ',', '像', '之', '前', '季', '節', '替', '換', '(', '夏', '轉', '秋', ')', '的', '皮', '膚', '敏', '感', '問', '題', '不', '再', ',', '肌', '膚', '乾', '燥', ',', '兩', '頰', ',', '額', '頭', '脫', '屑', '的', '困', '擾', ',', '也', '獲', '得', '了', '改', '善']\n",
      "['O', 'O', 'O', 'O', 'O', 'O', 'O', 'O', 'O', 'O', 'O', 'O', 'O', 'O', 'O', 'O', 'O', 'O', 'O', 'O', 'O', 'O', 'O', 'B-FUNC', 'I-FUNC', 'I-FUNC', 'O', 'O', 'O', 'O', 'O', 'O', 'O', 'O', 'O', 'O', 'O', 'O', 'O', 'O', 'O', 'O', 'O', 'B-STAT', 'I-STAT', 'I-STAT', 'I-STAT', 'O', 'O', 'O', 'O', 'O', 'B-STAT', 'I-STAT', 'I-STAT', 'I-STAT', 'O', 'O', 'O', 'O', 'O', 'O', 'O', 'O', 'O', 'O', 'O', 'O', 'O', 'O', 'O', 'O', 'O', 'O']\n",
      "['', '', '', '', '', '', '', '', '', '', '', '', '', '', '', '', '', '', '', '', '', '', '', ['ApplyTo-0-A', 'ApplyTo-1-A'], ['ApplyTo-0-A', 'ApplyTo-1-A'], ['ApplyTo-0-A', 'ApplyTo-1-A'], '', '', '', '', '', '', '', '', '', '', '', '', '', '', '', '', '', ['ApplyTo-0-B'], ['ApplyTo-0-B'], ['ApplyTo-0-B'], ['ApplyTo-0-B'], '', '', '', '', '', ['ApplyTo-1-B'], ['ApplyTo-1-B'], ['ApplyTo-1-B'], ['ApplyTo-1-B'], '', '', '', '', '', '', '', '', '', '', '', '', '', '', '', '', '', '']\n",
      "\n",
      "Predict output\n",
      "['O', 'O', 'O', 'O', 'O', 'O', 'O', 'O', 'O', 'O', 'O', 'O', 'O', 'O', 'O', 'O', 'O', 'O', 'O', 'O', 'O', 'O', 'O', 'O', 'O', 'O', 'O', 'O', 'O', 'O', 'O', 'O', 'O', 'O', 'O', 'O', 'O', 'O', 'O', 'O', 'O', 'O', 'O', 'O', 'O', 'O', 'O', 'O', 'O', 'O', 'O', 'O', 'B-STAT', 'I-STAT', 'I-STAT', 'I-STAT', 'O', 'O', 'O', 'O', 'O', 'O', 'O', 'O', 'O', 'O', 'O', 'O', 'O', 'O', 'O', 'O', 'O', 'O']\n",
      "['', '', '', '', '', '', '', '', '', '', '', '', '', '', '', '', '', '', '', '', '', '', '', '', '', '', '', '', '', '', '', '', '', '', '', '', '', '', '', '', '', '', '', '', '', '', '', '', '', '', '', '', [], [], [], [], '', '', '', '', '', '', '', '', '', '', '', '', '', '', '', '', '', '']\n",
      "\n",
      "True\n",
      "[(23, 25, 1), (43, 46, 0), (52, 55, 0)]\n",
      "[((23, 25, 1), (43, 46, 0), 0), ((23, 25, 1), (52, 55, 0), 0)]\n",
      "predict\n",
      "[(52, 55, 0)]\n",
      "[]\n",
      "=====================================\n",
      "['這', '次', '收', '到', '的', '試', '用', '產', '品', '是', 'S', 'O', 'F', 'I', 'N', 'A', 'b', 'e', 'a', 'u', 't', 'e', '芯', '美', '顏', '美', '白', '瀅', '潤', '滲', '透', '乳', '升', '級', '版', ',', '清', '爽', '型', ',', '夏', '天', '到', '了', ',', '乳', '液', '也', '該', '換', '季', '囉', ',', '馬', '上', '來', '試', '用', '看', '看', 'S', 'O', 'F', 'I', 'N', 'A', 'b', 'e', 'a', 'u', 't', 'e', '芯', '美', '顏', '美', '白', '瀅', '潤', '滲', '透', '乳', '升', '級', '版', ',', '清', '爽', '型', '吧']\n",
      "['O', 'O', 'O', 'O', 'O', 'O', 'O', 'O', 'O', 'O', 'O', 'O', 'O', 'O', 'O', 'O', 'O', 'O', 'O', 'O', 'O', 'O', 'O', 'O', 'O', 'O', 'O', 'O', 'O', 'O', 'O', 'O', 'O', 'O', 'O', 'O', 'O', 'O', 'O', 'O', 'B-SEAS', 'I-SEAS', 'O', 'O', 'O', 'O', 'O', 'O', 'O', 'O', 'O', 'O', 'O', 'O', 'O', 'O', 'O', 'O', 'O', 'O', 'O', 'O', 'O', 'O', 'O', 'O', 'O', 'O', 'O', 'O', 'O', 'O', 'O', 'O', 'O', 'O', 'O', 'O', 'O', 'O', 'O', 'O', 'O', 'O', 'O', 'O', 'O', 'O', 'O', 'O']\n",
      "['', '', '', '', '', '', '', '', '', '', '', '', '', '', '', '', '', '', '', '', '', '', '', '', '', '', '', '', '', '', '', '', '', '', '', '', '', '', '', '', [], [], '', '', '', '', '', '', '', '', '', '', '', '', '', '', '', '', '', '', '', '', '', '', '', '', '', '', '', '', '', '', '', '', '', '', '', '', '', '', '', '', '', '', '', '', '', '', '', '']\n",
      "\n",
      "Predict output\n",
      "['O', 'O', 'O', 'O', 'O', 'O', 'O', 'O', 'O', 'O', 'O', 'O', 'O', 'O', 'O', 'O', 'O', 'O', 'O', 'O', 'O', 'O', 'O', 'O', 'O', 'O', 'O', 'O', 'O', 'O', 'O', 'O', 'O', 'O', 'O', 'O', 'O', 'O', 'O', 'O', 'B-SEAS', 'I-SEAS', 'O', 'O', 'O', 'O', 'O', 'O', 'O', 'O', 'O', 'O', 'O', 'O', 'O', 'O', 'O', 'O', 'O', 'O', 'O', 'O', 'O', 'O', 'O', 'O', 'O', 'O', 'O', 'O', 'O', 'O', 'O', 'O', 'O', 'O', 'O', 'O', 'O', 'O', 'O', 'O', 'O', 'O', 'O', 'O', 'O', 'O', 'O', 'O']\n",
      "['', '', '', '', '', '', '', '', '', '', '', '', '', '', '', '', '', '', '', '', '', '', '', '', '', '', '', '', '', '', '', '', '', '', '', '', '', '', '', '', [], [], '', '', '', '', '', '', '', '', '', '', '', '', '', '', '', '', '', '', '', '', '', '', '', '', '', '', '', '', '', '', '', '', '', '', '', '', '', '', '', '', '', '', '', '', '', '', '', '']\n",
      "\n",
      "True\n",
      "[(40, 41, 3)]\n",
      "[]\n",
      "predict\n",
      "[(40, 41, 3)]\n",
      "[]\n",
      "=====================================\n",
      "['細', '緻', '泡', '沫', '塗', '抹', '於', '全', '臉', '後', '清', '洗', ',', '因', '為', '我', '使', '用', '洗', '臉', '機', '清', '洗', ',', '洗', '臉', '機', '的', '刷', '毛', '讓', '細', '緻', '的', '泡', '沫', '在', '臉', '上', '很', '輕', '易', '劃', '開', '且', '很', '舒', '服', ',', '用', '洗', '臉', '機', '洗', '時', '泡', '沫', '也', '一', '直', '不', '斷', '的', '濃', '密', '湧', '現', '出', '許', '多', '搭', '配', '著', '洗', '臉', '機', '適', '度', '的', '臉', '部', '按', '摩', '時', '泡', '沫', '的', '觸', '感', '很', '滑', '溜', '好', '推', '勻']\n",
      "['B-PERC', 'I-PERC', 'O', 'O', 'O', 'O', 'O', 'O', 'O', 'O', 'O', 'O', 'O', 'O', 'O', 'O', 'O', 'O', 'O', 'O', 'O', 'O', 'O', 'O', 'O', 'O', 'O', 'O', 'O', 'O', 'O', 'B-PERC', 'I-PERC', 'O', 'O', 'O', 'O', 'O', 'O', 'O', 'O', 'O', 'O', 'O', 'O', 'O', 'O', 'O', 'O', 'O', 'O', 'O', 'O', 'O', 'O', 'O', 'O', 'O', 'O', 'O', 'O', 'O', 'O', 'O', 'O', 'O', 'O', 'O', 'O', 'O', 'O', 'O', 'O', 'O', 'O', 'O', 'O', 'O', 'O', 'O', 'O', 'O', 'O', 'O', 'O', 'O', 'O', 'B-SENS', 'I-SENS', 'O', 'O', 'O', 'B-PERC', 'I-PERC', 'I-PERC']\n",
      "[[], [], '', '', '', '', '', '', '', '', '', '', '', '', '', '', '', '', '', '', '', '', '', '', '', '', '', '', '', '', '', [], [], '', '', '', '', '', '', '', '', '', '', '', '', '', '', '', '', '', '', '', '', '', '', '', '', '', '', '', '', '', '', '', '', '', '', '', '', '', '', '', '', '', '', '', '', '', '', '', '', '', '', '', '', '', '', ['Feel-0-A'], ['Feel-0-A'], '', '', '', ['Feel-0-B'], ['Feel-0-B'], ['Feel-0-B']]\n",
      "\n",
      "Predict output\n",
      "['O', 'O', 'O', 'O', 'O', 'O', 'O', 'O', 'O', 'O', 'O', 'O', 'O', 'O', 'O', 'O', 'O', 'O', 'O', 'O', 'O', 'O', 'O', 'O', 'O', 'O', 'O', 'O', 'O', 'O', 'O', 'O', 'O', 'O', 'O', 'O', 'O', 'O', 'O', 'O', 'O', 'O', 'O', 'O', 'O', 'O', 'O', 'O', 'O', 'O', 'O', 'O', 'O', 'O', 'O', 'O', 'O', 'O', 'O', 'O', 'O', 'O', 'O', 'O', 'O', 'O', 'O', 'O', 'O', 'O', 'O', 'O', 'O', 'O', 'O', 'O', 'O', 'O', 'O', 'O', 'O', 'O', 'O', 'O', 'O', 'O', 'O', 'B-SENS', 'I-SENS', 'O', 'O', 'O', 'B-PERC', 'I-PERC', 'I-PERC']\n",
      "['', '', '', '', '', '', '', '', '', '', '', '', '', '', '', '', '', '', '', '', '', '', '', '', '', '', '', '', '', '', '', '', '', '', '', '', '', '', '', '', '', '', '', '', '', '', '', '', '', '', '', '', '', '', '', '', '', '', '', '', '', '', '', '', '', '', '', '', '', '', '', '', '', '', '', '', '', '', '', '', '', '', '', '', '', '', '', ['Feel-0-A'], ['Feel-0-A'], '', '', '', ['Feel-0-B'], ['Feel-0-B'], ['Feel-0-B']]\n",
      "\n",
      "True\n",
      "[(0, 1, 4), (31, 32, 4), (87, 88, 2), (92, 94, 4)]\n",
      "[((87, 88, 2), (92, 94, 4), 2)]\n",
      "predict\n",
      "[(87, 88, 2), (92, 94, 4)]\n",
      "[((87, 88, 2), (92, 94, 4), 2)]\n",
      "=====================================\n"
     ]
    },
    {
     "name": "stdout",
     "output_type": "stream",
     "text": [
      "['夏', '天', '最', '需', '要', '的', '除', '了', '防', '曬', '莫', '過', '於', '一', '支', '有', '用', '的', '美', '白', '精', '華', '液']\n",
      "['B-SEAS', 'I-SEAS', 'O', 'O', 'O', 'O', 'O', 'O', 'O', 'O', 'O', 'O', 'O', 'O', 'O', 'O', 'O', 'O', 'O', 'O', 'O', 'O', 'O']\n",
      "[[], [], '', '', '', '', '', '', '', '', '', '', '', '', '', '', '', '', '', '', '', '', '']\n",
      "\n",
      "Predict output\n",
      "['B-SEAS', 'I-SEAS', 'O', 'O', 'O', 'O', 'O', 'O', 'O', 'O', 'O', 'O', 'O', 'O', 'O', 'O', 'O', 'O', 'O', 'O', 'O', 'O', 'O']\n",
      "[[], [], '', '', '', '', '', '', '', '', '', '', '', '', '', '', '', '', '', '', '', '', '']\n",
      "\n",
      "True\n",
      "[(0, 1, 3)]\n",
      "[]\n",
      "predict\n",
      "[(0, 1, 3)]\n",
      "[]\n",
      "=====================================\n",
      "['溫', '和', '不', '刺', '激', ' ', ' ', '敏', '感', '肌', '的', '我', '使', '用', '都', '沒', '問', '題', ' ', ' ', '只', '是', '不', '知', '道', '是', '我', '的', '底', '妝', '問', '題', ' ', '早', '上', '使', '用', '上', '妝', '會', '有', '削', '削', ' ', ' ', '保', '濕', '度', '不', '錯', ' ', '皮', '膚', '不', '會', '乾', '燥', ' ', ' ', '不', '油', '膩', '是', '和', '夏', '天', '使', '用']\n",
      "['O', 'O', 'O', 'O', 'O', 'O', 'O', 'B-STAT', 'I-STAT', 'I-STAT', 'O', 'O', 'O', 'O', 'O', 'O', 'O', 'O', 'O', 'O', 'O', 'O', 'O', 'O', 'O', 'O', 'O', 'O', 'O', 'O', 'O', 'O', 'O', 'O', 'O', 'O', 'O', 'O', 'O', 'O', 'O', 'O', 'O', 'O', 'O', 'B-FUNC', 'I-FUNC', 'I-FUNC', 'O', 'O', 'O', 'O', 'O', 'O', 'O', 'O', 'O', 'O', 'O', 'O', 'O', 'O', 'O', 'O', 'B-SEAS', 'I-SEAS', 'O', 'O']\n",
      "['', '', '', '', '', '', '', ['ApplyTo-0-B'], ['ApplyTo-0-B'], ['ApplyTo-0-B'], '', '', '', '', '', '', '', '', '', '', '', '', '', '', '', '', '', '', '', '', '', '', '', '', '', '', '', '', '', '', '', '', '', '', '', ['ApplyTo-0-A', 'ApplyIn-1-A'], ['ApplyTo-0-A', 'ApplyIn-1-A'], ['ApplyTo-0-A', 'ApplyIn-1-A'], '', '', '', '', '', '', '', '', '', '', '', '', '', '', '', '', ['ApplyIn-1-B'], ['ApplyIn-1-B'], '', '']\n",
      "\n",
      "Predict output\n",
      "['O', 'O', 'O', 'O', 'O', 'O', 'O', 'B-STAT', 'I-STAT', 'I-STAT', 'O', 'O', 'O', 'O', 'O', 'O', 'O', 'O', 'O', 'O', 'O', 'O', 'O', 'O', 'O', 'O', 'O', 'O', 'O', 'O', 'O', 'O', 'O', 'O', 'O', 'O', 'O', 'O', 'O', 'O', 'O', 'O', 'O', 'O', 'O', 'O', 'O', 'O', 'O', 'O', 'O', 'O', 'O', 'O', 'O', 'O', 'O', 'O', 'O', 'O', 'O', 'O', 'O', 'O', 'B-SEAS', 'I-SEAS', 'O', 'O']\n",
      "['', '', '', '', '', '', '', [], [], [], '', '', '', '', '', '', '', '', '', '', '', '', '', '', '', '', '', '', '', '', '', '', '', '', '', '', '', '', '', '', '', '', '', '', '', '', '', '', '', '', '', '', '', '', '', '', '', '', '', '', '', '', '', '', [], [], '', '']\n",
      "\n",
      "True\n",
      "[(7, 9, 0), (45, 47, 1), (64, 65, 3)]\n",
      "[((7, 9, 0), (45, 47, 1), 0), ((45, 47, 1), (64, 65, 3), 1)]\n",
      "predict\n",
      "[(7, 9, 0), (64, 65, 3)]\n",
      "[]\n",
      "=====================================\n",
      "['總', '結', '就', '是', '.', '我', '覺', '得', '對', '乾', '肌', '來', '說', '.', '.', '保', '濕', '度', '很', '好', '.', '修', '護', '效', '果', '也', '很', '明', '顯', '的', '產', '品', '.', '.']\n",
      "['O', 'O', 'O', 'O', 'O', 'O', 'O', 'O', 'O', 'B-STAT', 'I-STAT', 'O', 'O', 'O', 'O', 'B-FUNC', 'I-FUNC', 'I-FUNC', 'O', 'O', 'O', 'O', 'O', 'O', 'O', 'O', 'O', 'O', 'O', 'O', 'O', 'O', 'O', 'O']\n",
      "['', '', '', '', '', '', '', '', '', ['ApplyTo-0-B'], ['ApplyTo-0-B'], '', '', '', '', ['ApplyTo-0-A'], ['ApplyTo-0-A'], ['ApplyTo-0-A'], '', '', '', '', '', '', '', '', '', '', '', '', '', '', '', '']\n",
      "\n",
      "Predict output\n",
      "['O', 'O', 'O', 'O', 'O', 'O', 'O', 'O', 'O', 'B-STAT', 'I-STAT', 'O', 'O', 'O', 'O', 'B-FUNC', 'I-FUNC', 'I-FUNC', 'O', 'O', 'O', 'O', 'O', 'O', 'O', 'O', 'O', 'O', 'O', 'O', 'O', 'O', 'O', 'O']\n",
      "['', '', '', '', '', '', '', '', '', [], [], '', '', '', '', [], [], [], '', '', '', '', '', '', '', '', '', '', '', '', '', '', '', '']\n",
      "\n",
      "True\n",
      "[(9, 10, 0), (15, 17, 1)]\n",
      "[((9, 10, 0), (15, 17, 1), 0)]\n",
      "predict\n",
      "[(9, 10, 0), (15, 17, 1)]\n",
      "[]\n",
      "=====================================\n",
      "['不', '過', '冬', '天', '可', '能', '需', '要', '搭', '配', '保', '溼', '的', '菁', '華', '液', '加', '強', '這', '樣']\n",
      "['O', 'O', 'B-SEAS', 'I-SEAS', 'O', 'O', 'O', 'O', 'O', 'O', 'B-FUNC', 'I-FUNC', 'O', 'O', 'O', 'O', 'O', 'O', 'O', 'O']\n",
      "['', '', [], [], '', '', '', '', '', '', [], [], '', '', '', '', '', '', '', '']\n",
      "\n",
      "Predict output\n",
      "['O', 'O', 'B-SEAS', 'I-SEAS', 'O', 'O', 'O', 'O', 'O', 'O', 'B-FUNC', 'I-FUNC', 'O', 'O', 'O', 'O', 'O', 'O', 'O', 'O']\n",
      "['', '', [], [], '', '', '', '', '', '', [], [], '', '', '', '', '', '', '', '']\n",
      "\n",
      "True\n",
      "[(2, 3, 3), (10, 11, 1)]\n",
      "[]\n",
      "predict\n",
      "[(2, 3, 3), (10, 11, 1)]\n",
      "[]\n",
      "=====================================\n",
      "['這', '款', '美', '白', '精', '華', '液', ',', '一', '打', '開', '後', '沒', '有', '可', '怕', '的', '香', '精', '味', ',', '是', '舒', '服', '淡', '雅', '的', '香', '味', ',', '讓', '我', '聞', '起', '來', '不', '會', '覺', '得', '嫌', '惡', ',', '而', '且', '塗', '抹', '後', '很', '好', '吸', '收', ',', '沒', '有', '其', '他', '精', '華', '液', '會', '有', '的', '黏', '膩', '感', '覺', ',', '很', '清', '爽', '不', '黏', '膩', ',', '而', '且', '用', '量', '很', '省', ',', '一', '點', '點', '就', '可', '以', '塗', '滿', '全', '臉']\n",
      "['O', 'O', 'O', 'O', 'O', 'O', 'O', 'O', 'O', 'O', 'O', 'O', 'O', 'O', 'O', 'O', 'O', 'B-PERC', 'I-PERC', 'I-PERC', 'O', 'O', 'O', 'O', 'B-PERC', 'I-PERC', 'O', 'B-SENS', 'I-SENS', 'O', 'O', 'O', 'O', 'O', 'O', 'O', 'O', 'O', 'O', 'O', 'O', 'O', 'O', 'O', 'O', 'O', 'O', 'O', 'O', 'O', 'O', 'O', 'O', 'O', 'O', 'O', 'O', 'O', 'O', 'O', 'O', 'O', 'O', 'O', 'O', 'O', 'O', 'O', 'O', 'O', 'O', 'O', 'O', 'O', 'O', 'O', 'O', 'O', 'O', 'O', 'O', 'O', 'O', 'O', 'O', 'O', 'O', 'O', 'O', 'O', 'O']\n",
      "['', '', '', '', '', '', '', '', '', '', '', '', '', '', '', '', '', [], [], [], '', '', '', '', ['Feel-0-B'], ['Feel-0-B'], '', ['Feel-0-A'], ['Feel-0-A'], '', '', '', '', '', '', '', '', '', '', '', '', '', '', '', '', '', '', '', '', '', '', '', '', '', '', '', '', '', '', '', '', '', '', '', '', '', '', '', '', '', '', '', '', '', '', '', '', '', '', '', '', '', '', '', '', '', '', '', '', '', '']\n",
      "\n",
      "Predict output\n",
      "['O', 'O', 'O', 'O', 'O', 'O', 'O', 'O', 'O', 'O', 'O', 'O', 'O', 'O', 'O', 'O', 'O', 'B-PERC', 'I-PERC', 'I-SENS', 'O', 'O', 'O', 'O', 'B-PERC', 'I-PERC', 'O', 'B-SENS', 'I-SENS', 'O', 'O', 'O', 'O', 'O', 'O', 'O', 'O', 'O', 'O', 'O', 'O', 'O', 'O', 'O', 'O', 'O', 'O', 'O', 'O', 'O', 'O', 'O', 'O', 'O', 'O', 'O', 'O', 'O', 'O', 'O', 'O', 'O', 'B-PERC', 'I-PERC', 'O', 'O', 'O', 'O', 'B-PERC', 'I-PERC', 'O', 'B-PERC', 'I-PERC', 'O', 'O', 'O', 'O', 'O', 'O', 'O', 'O', 'O', 'O', 'O', 'O', 'O', 'O', 'O', 'O', 'O', 'O']\n",
      "['', '', '', '', '', '', '', '', '', '', '', '', '', '', '', '', '', [], [], [], '', '', '', '', ['Feel-0-B'], ['Feel-0-B'], '', ['Feel-0-A'], ['Feel-0-A'], '', '', '', '', '', '', '', '', '', '', '', '', '', '', '', '', '', '', '', '', '', '', '', '', '', '', '', '', '', '', '', '', '', [], [], '', '', '', '', [], [], '', [], [], '', '', '', '', '', '', '', '', '', '', '', '', '', '', '', '', '', '']\n",
      "\n",
      "True\n",
      "[(17, 19, 4), (24, 25, 4), (27, 28, 2)]\n",
      "[((24, 25, 4), (27, 28, 2), 2)]\n",
      "predict\n",
      "[(17, 18, 4), (24, 25, 4), (27, 28, 2), (62, 63, 4), (68, 69, 4), (71, 72, 4)]\n",
      "[((24, 25, 4), (27, 28, 2), 2)]\n",
      "=====================================\n",
      "['按', '壓', '出', '來', '的', '質', '地', '是', '乳', '白', '色', '的', '乳', '液', '狀', ',', '不', '偏', '濃', '不', '偏', '淡']\n",
      "['O', 'O', 'O', 'O', 'O', 'B-SENS', 'I-SENS', 'O', 'O', 'O', 'O', 'O', 'B-PERC', 'I-PERC', 'I-PERC', 'O', 'O', 'O', 'O', 'O', 'O', 'O']\n",
      "['', '', '', '', '', ['Feel-0-A'], ['Feel-0-A'], '', '', '', '', '', ['Feel-0-B'], ['Feel-0-B'], ['Feel-0-B'], '', '', '', '', '', '', '']\n",
      "\n",
      "Predict output\n",
      "['O', 'O', 'O', 'O', 'O', 'B-SENS', 'I-SENS', 'O', 'O', 'O', 'O', 'O', 'B-PERC', 'I-PERC', 'I-PERC', 'O', 'O', 'O', 'O', 'O', 'O', 'O']\n",
      "['', '', '', '', '', ['Feel-0-A'], ['Feel-0-A'], '', '', '', '', '', ['Feel-0-B'], ['Feel-0-B'], ['Feel-0-B'], '', '', '', '', '', '', '']\n",
      "\n",
      "True\n",
      "[(5, 6, 2), (12, 14, 4)]\n",
      "[((5, 6, 2), (12, 14, 4), 2)]\n",
      "predict\n",
      "[(5, 6, 2), (12, 14, 4)]\n",
      "[((5, 6, 2), (12, 14, 4), 2)]\n",
      "=====================================\n",
      "['因', '為', '夏', '天', '一', '直', '使', '用', '美', '白', '產', '品', '的', '我', ',', '在', '步', '入', '秋', '天', '之', '際', ',', '正', '打', '算', '購', '入', '一', '瓶', '抗', '皺', '霜', '或', '乳', '液', '~']\n",
      "['O', 'O', 'B-SEAS', 'I-SEAS', 'O', 'O', 'O', 'O', 'O', 'O', 'O', 'O', 'O', 'O', 'O', 'O', 'O', 'O', 'B-SEAS', 'I-SEAS', 'O', 'O', 'O', 'O', 'O', 'O', 'O', 'O', 'O', 'O', 'O', 'O', 'O', 'O', 'O', 'O', 'O']\n",
      "['', '', [], [], '', '', '', '', '', '', '', '', '', '', '', '', '', '', [], [], '', '', '', '', '', '', '', '', '', '', '', '', '', '', '', '', '']\n",
      "\n",
      "Predict output\n",
      "['O', 'O', 'B-SEAS', 'I-SEAS', 'O', 'O', 'O', 'O', 'O', 'O', 'O', 'O', 'O', 'O', 'O', 'O', 'O', 'O', 'B-SEAS', 'I-SEAS', 'O', 'O', 'O', 'O', 'O', 'O', 'O', 'O', 'O', 'O', 'O', 'O', 'O', 'O', 'O', 'O', 'O']\n",
      "['', '', [], [], '', '', '', '', '', '', '', '', '', '', '', '', '', '', [], [], '', '', '', '', '', '', '', '', '', '', '', '', '', '', '', '', '']\n",
      "\n",
      "True\n",
      "[(2, 3, 3), (18, 19, 3)]\n",
      "[]\n",
      "predict\n",
      "[(2, 3, 3), (18, 19, 3)]\n",
      "[]\n",
      "=====================================\n",
      "['沒', '有', '什', '麼', '別', '的', '香', '精', '味', '道', ',', '聞', '起', '來', '非', '常', '的', '乾', '淨', ',', '清', '爽', ',', '自', '然', ',']\n",
      "['O', 'O', 'O', 'O', 'O', 'O', 'B-PERC', 'I-PERC', 'B-SENS', 'I-SENS', 'O', 'O', 'O', 'O', 'O', 'O', 'O', 'O', 'O', 'O', 'O', 'O', 'O', 'O', 'O', 'O']\n",
      "['', '', '', '', '', '', [], [], [], [], '', '', '', '', '', '', '', '', '', '', '', '', '', '', '', '']\n",
      "\n",
      "Predict output\n",
      "['O', 'O', 'O', 'O', 'O', 'O', 'B-PERC', 'I-PERC', 'B-SENS', 'I-SENS', 'O', 'O', 'O', 'O', 'O', 'O', 'O', 'O', 'O', 'O', 'O', 'O', 'O', 'O', 'O', 'O']\n",
      "['', '', '', '', '', '', ['Feel-0-B'], ['Feel-0-B'], ['Feel-0-A'], ['Feel-0-A'], '', '', '', '', '', '', '', '', '', '', '', '', '', '', '', '']\n",
      "\n",
      "True\n",
      "[(6, 7, 4), (8, 9, 2)]\n",
      "[]\n",
      "predict\n",
      "[(6, 7, 4), (8, 9, 2)]\n",
      "[((6, 7, 4), (8, 9, 2), 2)]\n",
      "=====================================\n"
     ]
    },
    {
     "name": "stdout",
     "output_type": "stream",
     "text": [
      "['但', '保', '濕', '和', '控', '油', '都', '兼', '具', ',', '所', '以', '特', '別', '推', '薦', '混', '合', '肌', '使', '用', '喔']\n",
      "['O', 'B-FUNC', 'I-FUNC', 'O', 'O', 'O', 'O', 'O', 'O', 'O', 'O', 'O', 'O', 'O', 'O', 'O', 'B-STAT', 'I-STAT', 'I-STAT', 'O', 'O', 'O']\n",
      "['', ['ApplyTo-0-A'], ['ApplyTo-0-A'], '', '', '', '', '', '', '', '', '', '', '', '', '', ['ApplyTo-0-B'], ['ApplyTo-0-B'], ['ApplyTo-0-B'], '', '', '']\n",
      "\n",
      "Predict output\n",
      "['O', 'B-FUNC', 'I-FUNC', 'O', 'B-FUNC', 'I-FUNC', 'O', 'O', 'O', 'O', 'O', 'O', 'O', 'O', 'O', 'O', 'B-STAT', 'I-STAT', 'I-STAT', 'O', 'O', 'O']\n",
      "['', [], [], '', [], [], '', '', '', '', '', '', '', '', '', '', [], [], [], '', '', '']\n",
      "\n",
      "True\n",
      "[(1, 2, 1), (16, 18, 0)]\n",
      "[((1, 2, 1), (16, 18, 0), 0)]\n",
      "predict\n",
      "[(1, 2, 1), (4, 5, 1), (16, 18, 0)]\n",
      "[]\n",
      "=====================================\n",
      "['就', '是', '有', '點', '花', '草', '般', '清', '新', '的', '香', '味']\n",
      "['O', 'O', 'O', 'O', 'O', 'O', 'O', 'B-PERC', 'I-PERC', 'O', 'B-SENS', 'I-SENS']\n",
      "['', '', '', '', '', '', '', ['Feel-0-B'], ['Feel-0-B'], '', ['Feel-0-A'], ['Feel-0-A']]\n",
      "\n",
      "Predict output\n",
      "['O', 'O', 'O', 'O', 'O', 'O', 'O', 'B-PERC', 'I-PERC', 'O', 'B-SENS', 'I-SENS']\n",
      "['', '', '', '', '', '', '', ['Feel-0-B'], ['Feel-0-B'], '', ['Feel-0-A'], ['Feel-0-A']]\n",
      "\n",
      "True\n",
      "[(7, 8, 4), (10, 11, 2)]\n",
      "[((7, 8, 4), (10, 11, 2), 2)]\n",
      "predict\n",
      "[(7, 8, 4), (10, 11, 2)]\n",
      "[((7, 8, 4), (10, 11, 2), 2)]\n",
      "=====================================\n",
      "['使', '用', '後', '相', '當', '保', '濕', ',', '冬', '天', '使', '用', '剛', '好', '提', '高', '保', '水', '度', ',']\n",
      "['O', 'O', 'O', 'O', 'O', 'B-FUNC', 'I-FUNC', 'O', 'B-SEAS', 'I-SEAS', 'O', 'O', 'O', 'O', 'O', 'O', 'O', 'O', 'O', 'O']\n",
      "['', '', '', '', '', ['ApplyIn-0-A'], ['ApplyIn-0-A'], '', ['ApplyIn-0-B'], ['ApplyIn-0-B'], '', '', '', '', '', '', '', '', '', '']\n",
      "\n",
      "Predict output\n",
      "['O', 'O', 'O', 'O', 'O', 'B-FUNC', 'I-FUNC', 'O', 'B-SEAS', 'I-SEAS', 'O', 'O', 'O', 'O', 'O', 'O', 'O', 'O', 'O', 'O']\n",
      "['', '', '', '', '', ['ApplyIn-0-A'], ['ApplyIn-0-A'], '', ['ApplyIn-0-B'], ['ApplyIn-0-B'], '', '', '', '', '', '', '', '', '', '']\n",
      "\n",
      "True\n",
      "[(5, 6, 1), (8, 9, 3)]\n",
      "[((5, 6, 1), (8, 9, 3), 1)]\n",
      "predict\n",
      "[(5, 6, 1), (8, 9, 3)]\n",
      "[((5, 6, 1), (8, 9, 3), 1)]\n",
      "=====================================\n",
      "['還', '蠻', '放', '鬆', '的', '清', '香', '味', '道']\n",
      "['O', 'O', 'O', 'O', 'O', 'B-PERC', 'I-PERC', 'B-SENS', 'I-SENS']\n",
      "['', '', '', '', '', ['Feel-0-B'], ['Feel-0-B'], ['Feel-0-A'], ['Feel-0-A']]\n",
      "\n",
      "Predict output\n",
      "['O', 'O', 'O', 'O', 'O', 'B-PERC', 'I-PERC', 'B-SENS', 'I-SENS']\n",
      "['', '', '', '', '', ['Feel-0-B'], ['Feel-0-B'], ['Feel-0-A'], ['Feel-0-A']]\n",
      "\n",
      "True\n",
      "[(5, 6, 4), (7, 8, 2)]\n",
      "[((5, 6, 4), (7, 8, 2), 2)]\n",
      "predict\n",
      "[(5, 6, 4), (7, 8, 2)]\n",
      "[((5, 6, 4), (7, 8, 2), 2)]\n",
      "=====================================\n",
      "['艾', '草', '能', '舒', '緩', '因', '乾', '燥', '所', '引', '起', '的', '皮', '膚', '癢', ',', '所', '以', '在', '這', '個', '乾', '冷', '的', '冬', '天', '試', '用', ',', '應', '該', '是', '滿', '好', '的', '時', '機']\n",
      "['O', 'O', 'O', 'B-FUNC', 'I-FUNC', 'O', 'O', 'O', 'O', 'O', 'O', 'O', 'O', 'O', 'O', 'O', 'O', 'O', 'O', 'O', 'O', 'O', 'O', 'O', 'B-SEAS', 'I-SEAS', 'O', 'O', 'O', 'O', 'O', 'O', 'O', 'O', 'O', 'O', 'O']\n",
      "['', '', '', [], [], '', '', '', '', '', '', '', '', '', '', '', '', '', '', '', '', '', '', '', [], [], '', '', '', '', '', '', '', '', '', '', '']\n",
      "\n",
      "Predict output\n",
      "['O', 'O', 'O', 'B-FUNC', 'I-FUNC', 'O', 'O', 'O', 'O', 'O', 'O', 'O', 'O', 'O', 'O', 'O', 'O', 'O', 'O', 'O', 'O', 'O', 'O', 'O', 'B-SEAS', 'I-SEAS', 'O', 'O', 'O', 'O', 'O', 'O', 'O', 'O', 'O', 'O', 'O']\n",
      "['', '', '', ['ApplyIn-0-A'], ['ApplyIn-0-A'], '', '', '', '', '', '', '', '', '', '', '', '', '', '', '', '', '', '', '', ['ApplyIn-0-B'], [], '', '', '', '', '', '', '', '', '', '', '']\n",
      "\n",
      "True\n",
      "[(3, 4, 1), (24, 25, 3)]\n",
      "[]\n",
      "predict\n",
      "[(3, 4, 1), (24, 25, 3)]\n",
      "[]\n",
      "=====================================\n",
      "['淡', '褐', '色', '的', '精', '華', '液', '味', '道', '好', '香', '唷', ',', '濃', '郁', '的', '香', '氣', '好', '好', '聞', ',']\n",
      "['O', 'O', 'O', 'O', 'O', 'O', 'O', 'B-SENS', 'I-SENS', 'O', 'O', 'O', 'O', 'B-PERC', 'I-PERC', 'O', 'O', 'O', 'O', 'O', 'O', 'O']\n",
      "['', '', '', '', '', '', '', ['Feel-0-A'], ['Feel-0-A'], '', '', '', '', ['Feel-0-B'], ['Feel-0-B'], '', '', '', '', '', '', '']\n",
      "\n",
      "Predict output\n",
      "['O', 'O', 'O', 'O', 'O', 'O', 'O', 'B-SENS', 'I-SENS', 'B-PERC', 'I-PERC', 'O', 'O', 'B-PERC', 'I-PERC', 'O', 'O', 'O', 'O', 'B-PERC', 'I-PERC', 'O']\n",
      "['', '', '', '', '', '', '', ['Feel-1-A', 'Feel-0-A'], ['Feel-1-A', 'Feel-0-A'], [], [], '', '', ['Feel-0-B'], ['Feel-0-B'], '', '', '', '', ['Feel-1-B'], [], '']\n",
      "\n",
      "True\n",
      "[(7, 8, 2), (13, 14, 4)]\n",
      "[((7, 8, 2), (13, 14, 4), 2)]\n",
      "predict\n",
      "[(7, 8, 2), (9, 10, 4), (13, 14, 4), (19, 20, 4)]\n",
      "[((7, 8, 2), (13, 14, 4), 2)]\n",
      "=====================================\n",
      "['我', '最', '後', '一', '道', '保', '養', '品', '是', 'K', 'i', 'e', 'h', 'l', '`', 's', '冰', '河', '醣', '蛋', '白', '保', '溼', '霜', '(', '冬', '天', '偷', '懶', '沒', '擦', '防', '曬', ')']\n",
      "['O', 'O', 'O', 'O', 'O', 'O', 'O', 'O', 'O', 'O', 'O', 'O', 'O', 'O', 'O', 'O', 'O', 'O', 'O', 'O', 'O', 'O', 'O', 'O', 'O', 'B-SEAS', 'I-SEAS', 'O', 'O', 'O', 'O', 'O', 'O', 'O']\n",
      "['', '', '', '', '', '', '', '', '', '', '', '', '', '', '', '', '', '', '', '', '', '', '', '', '', [], [], '', '', '', '', '', '', '']\n",
      "\n",
      "Predict output\n",
      "['O', 'O', 'O', 'O', 'O', 'O', 'O', 'O', 'O', 'O', 'O', 'O', 'O', 'O', 'O', 'O', 'O', 'O', 'O', 'O', 'O', 'B-FUNC', 'I-FUNC', 'O', 'O', 'B-SEAS', 'I-SEAS', 'O', 'O', 'O', 'O', 'O', 'O', 'O']\n",
      "['', '', '', '', '', '', '', '', '', '', '', '', '', '', '', '', '', '', '', '', '', [], [], '', '', [], [], '', '', '', '', '', '', '']\n",
      "\n",
      "True\n",
      "[(25, 26, 3)]\n",
      "[]\n",
      "predict\n",
      "[(21, 22, 1), (25, 26, 3)]\n",
      "[]\n",
      "=====================================\n",
      "['整', '體', '感', '覺', ':', '對', '我', '而', '言', ',', '冬', '天', '使', '用', '可', '能', '保', '濕', '度', '稍', '不', '足', ',', '誘', '發', '一', '點', '點', '冬', '季', '過', '敏', '的', '粉', '刺', ',', '但', '是', '不', '多', ',', '有', '機', '會', '可', '以', '試', '試', '春', '天', '或', '秋', '天', '使', '用']\n",
      "['O', 'O', 'O', 'O', 'O', 'O', 'O', 'O', 'O', 'O', 'B-SEAS', 'I-SEAS', 'O', 'O', 'O', 'O', 'B-FUNC', 'I-FUNC', 'I-FUNC', 'O', 'O', 'O', 'O', 'O', 'O', 'O', 'O', 'O', 'B-SEAS', 'I-SEAS', 'O', 'O', 'O', 'O', 'O', 'O', 'O', 'O', 'O', 'O', 'O', 'O', 'O', 'O', 'O', 'O', 'O', 'O', 'B-SEAS', 'I-SEAS', 'O', 'B-SEAS', 'I-SEAS', 'O', 'O']\n",
      "['', '', '', '', '', '', '', '', '', '', [], [], '', '', '', '', [], [], [], '', '', '', '', '', '', '', '', '', [], [], '', '', '', '', '', '', '', '', '', '', '', '', '', '', '', '', '', '', [], [], '', [], [], '', '']\n",
      "\n",
      "Predict output\n",
      "['O', 'O', 'O', 'O', 'O', 'O', 'O', 'O', 'O', 'O', 'B-SEAS', 'I-SEAS', 'O', 'O', 'O', 'O', 'B-FUNC', 'I-FUNC', 'I-FUNC', 'O', 'O', 'O', 'O', 'O', 'O', 'O', 'O', 'O', 'B-SEAS', 'I-SEAS', 'O', 'O', 'O', 'O', 'O', 'O', 'O', 'O', 'O', 'O', 'O', 'O', 'O', 'O', 'O', 'O', 'O', 'O', 'B-SEAS', 'I-SEAS', 'O', 'B-SEAS', 'I-SEAS', 'O', 'O']\n",
      "['', '', '', '', '', '', '', '', '', '', [], [], '', '', '', '', [], [], [], '', '', '', '', '', '', '', '', '', [], [], '', '', '', '', '', '', '', '', '', '', '', '', '', '', '', '', '', '', [], [], '', [], [], '', '']\n",
      "\n",
      "True\n",
      "[(10, 11, 3), (16, 18, 1), (28, 29, 3), (48, 49, 3), (51, 52, 3)]\n",
      "[]\n",
      "predict\n",
      "[(10, 11, 3), (16, 18, 1), (28, 29, 3), (48, 49, 3), (51, 52, 3)]\n",
      "[]\n",
      "=====================================\n",
      "['整', '體', '而', '言', ',', '個', '人', '對', '此', '款', '隔', '離', '霜', '會', '期', '望', '保', '濕', '效', '果', '好', '一', '點', ',', '雖', '它', '的', '質', '感', '真', '的', '狠', '清', '透', ',', '皮', '膚', '不', '會', '感', '到', '負', '擔', ',', '很', '適', '合', '夏', '天', '使', '用']\n",
      "['O', 'O', 'O', 'O', 'O', 'O', 'O', 'O', 'O', 'O', 'O', 'O', 'O', 'O', 'O', 'O', 'B-FUNC', 'I-FUNC', 'O', 'O', 'O', 'O', 'O', 'O', 'O', 'O', 'O', 'O', 'O', 'O', 'O', 'O', 'O', 'O', 'O', 'O', 'O', 'O', 'O', 'O', 'O', 'O', 'O', 'O', 'O', 'O', 'O', 'B-SEAS', 'I-SEAS', 'O', 'O']\n",
      "['', '', '', '', '', '', '', '', '', '', '', '', '', '', '', '', ['ApplyIn-0-A'], ['ApplyIn-0-A'], '', '', '', '', '', '', '', '', '', '', '', '', '', '', '', '', '', '', '', '', '', '', '', '', '', '', '', '', '', ['ApplyIn-0-B'], ['ApplyIn-0-B'], '', '']\n",
      "\n",
      "Predict output\n",
      "['O', 'O', 'O', 'O', 'O', 'O', 'O', 'O', 'O', 'O', 'O', 'O', 'O', 'O', 'O', 'O', 'B-FUNC', 'I-FUNC', 'O', 'O', 'O', 'O', 'O', 'O', 'O', 'O', 'O', 'O', 'O', 'O', 'O', 'O', 'O', 'O', 'O', 'O', 'O', 'O', 'O', 'O', 'O', 'O', 'O', 'O', 'O', 'O', 'O', 'B-SEAS', 'I-SEAS', 'O', 'O']\n",
      "['', '', '', '', '', '', '', '', '', '', '', '', '', '', '', '', ['ApplyIn-0-A'], ['ApplyIn-0-A'], '', '', '', '', '', '', '', '', '', '', '', '', '', '', '', '', '', '', '', '', '', '', '', '', '', '', '', '', '', ['ApplyIn-0-B'], ['ApplyIn-0-B'], '', '']\n",
      "\n",
      "True\n",
      "[(16, 17, 1), (47, 48, 3)]\n",
      "[((16, 17, 1), (47, 48, 3), 1)]\n",
      "predict\n",
      "[(16, 17, 1), (47, 48, 3)]\n",
      "[((16, 17, 1), (47, 48, 3), 1)]\n",
      "=====================================\n"
     ]
    },
    {
     "name": "stdout",
     "output_type": "stream",
     "text": [
      "['如', '果', '不', '保', '濕', ',', '依', '這', '種', '膏', '狀', '的', '質', '地', ',', '應', '該', '不', '好', '推', '勻', '吧']\n",
      "['O', 'O', 'O', 'O', 'O', 'O', 'O', 'O', 'O', 'B-PERC', 'I-PERC', 'O', 'B-SENS', 'I-SENS', 'O', 'O', 'O', 'O', 'B-PERC', 'I-PERC', 'I-PERC', 'O']\n",
      "['', '', '', '', '', '', '', '', '', ['Feel-0-B'], ['Feel-0-B'], '', ['Feel-0-A'], ['Feel-0-A'], '', '', '', '', [], [], [], '']\n",
      "\n",
      "Predict output\n",
      "['O', 'O', 'O', 'B-FUNC', 'O', 'O', 'O', 'O', 'O', 'B-PERC', 'I-PERC', 'O', 'B-SENS', 'I-SENS', 'O', 'O', 'O', 'O', 'B-PERC', 'I-PERC', 'I-PERC', 'O']\n",
      "['', '', '', [], '', '', '', '', '', ['Feel-0-B'], ['Feel-0-B'], '', ['Feel-1-A', 'Feel-0-A'], ['Feel-1-A', 'Feel-0-A'], '', '', '', '', ['Feel-1-B'], ['Feel-1-B'], ['Feel-1-B'], '']\n",
      "\n",
      "True\n",
      "[(9, 10, 4), (12, 13, 2), (18, 20, 4)]\n",
      "[((9, 10, 4), (12, 13, 2), 2)]\n",
      "predict\n",
      "[(3, 3, 1), (9, 10, 4), (12, 13, 2), (18, 20, 4)]\n",
      "[((9, 10, 4), (12, 13, 2), 2), ((12, 13, 2), (18, 20, 4), 2)]\n",
      "=====================================\n",
      "['吸', '收', '粉', '快', '.', '.', '質', '地', '也', '很', '輕', '爽', '.', '適', '合', '夏', '季', '使', '用', '但', '冬', '季', '時', '可', '能', '會', '不', '夠', '保', '濕', '對', '於', '常', '在', '冷', '氣', '房', '的', '美', '女', '來', '說', '.', '應', '是', '不', '錯', '的', '保', '養', '品', '.']\n",
      "['O', 'O', 'O', 'O', 'O', 'O', 'O', 'O', 'O', 'O', 'O', 'O', 'O', 'O', 'O', 'B-SEAS', 'I-SEAS', 'O', 'O', 'O', 'B-SEAS', 'I-SEAS', 'O', 'O', 'O', 'O', 'O', 'O', 'B-FUNC', 'I-FUNC', 'O', 'O', 'O', 'O', 'O', 'O', 'O', 'O', 'O', 'O', 'O', 'O', 'O', 'O', 'O', 'O', 'O', 'O', 'O', 'O', 'O', 'O']\n",
      "['', '', '', '', '', '', '', '', '', '', '', '', '', '', '', ['ApplyIn-0-B'], ['ApplyIn-0-B'], '', '', '', [], [], '', '', '', '', '', '', ['ApplyIn-0-A'], ['ApplyIn-0-A'], '', '', '', '', '', '', '', '', '', '', '', '', '', '', '', '', '', '', '', '', '', '']\n",
      "\n",
      "Predict output\n",
      "['O', 'O', 'O', 'O', 'O', 'O', 'B-SENS', 'I-SENS', 'O', 'O', 'O', 'O', 'O', 'O', 'O', 'B-SEAS', 'I-SEAS', 'O', 'O', 'O', 'B-SEAS', 'I-SEAS', 'O', 'O', 'O', 'O', 'O', 'O', 'B-FUNC', 'I-FUNC', 'O', 'O', 'O', 'O', 'O', 'O', 'O', 'O', 'O', 'O', 'O', 'O', 'O', 'O', 'O', 'O', 'O', 'O', 'O', 'O', 'O', 'O']\n",
      "['', '', '', '', '', '', [], [], '', '', '', '', '', '', '', [], [], '', '', '', [], [], '', '', '', '', '', '', [], [], '', '', '', '', '', '', '', '', '', '', '', '', '', '', '', '', '', '', '', '', '', '']\n",
      "\n",
      "True\n",
      "[(15, 16, 3), (20, 21, 3), (28, 29, 1)]\n",
      "[((15, 16, 3), (28, 29, 1), 1)]\n",
      "predict\n",
      "[(6, 7, 2), (15, 16, 3), (20, 21, 3), (28, 29, 1)]\n",
      "[]\n",
      "=====================================\n",
      "['我', '是', '混', '合', '肌', '.', '.', '.', '最', '怕', '使', '用', '保', '濕', '的', '東', '西', '.', '.', '油', '油', '又', '黏', '黏', '的', '.', '.']\n",
      "['O', 'O', 'B-STAT', 'I-STAT', 'I-STAT', 'O', 'O', 'O', 'O', 'O', 'O', 'O', 'O', 'O', 'O', 'O', 'O', 'O', 'O', 'O', 'O', 'O', 'O', 'O', 'O', 'O', 'O']\n",
      "['', '', [], [], [], '', '', '', '', '', '', '', '', '', '', '', '', '', '', '', '', '', '', '', '', '', '']\n",
      "\n",
      "Predict output\n",
      "['O', 'O', 'B-STAT', 'I-STAT', 'I-STAT', 'O', 'O', 'O', 'O', 'O', 'O', 'O', 'O', 'O', 'O', 'O', 'O', 'O', 'O', 'O', 'O', 'O', 'O', 'O', 'O', 'O', 'O']\n",
      "['', '', [], [], [], '', '', '', '', '', '', '', '', '', '', '', '', '', '', '', '', '', '', '', '', '', '']\n",
      "\n",
      "True\n",
      "[(2, 4, 0)]\n",
      "[]\n",
      "predict\n",
      "[(2, 4, 0)]\n",
      "[]\n",
      "=====================================\n",
      "['對', '乾', '性', '肌', '最', '在', '乎', '的', '水', '感', '保', '濕', '來', '說', ',', '也', '算', '表', '現', '不', '錯', ';', '持', '久', '度', '以', '最', '近', '的', '氣', '候', '來', '說', '表', '現', '還', '算', '好', ',', '使', '用', '期', '間', '僅', '有', '額', '頭', '鼻', '翼', '會', '小', '脫', '妝', ',', '但', '這', '樣', '的', '持', '妝', '續', '航', '力', '對', '接', '下', '來', '的', '炎', '熱', '夏', '天', '夠', '不', '夠', ',', '就', '還', '需', '要', '再', '試', '驗', '看', '看']\n",
      "['O', 'B-STAT', 'I-STAT', 'I-STAT', 'O', 'O', 'O', 'O', 'O', 'O', 'B-FUNC', 'I-FUNC', 'O', 'O', 'O', 'O', 'O', 'O', 'O', 'O', 'O', 'O', 'O', 'O', 'O', 'O', 'O', 'O', 'O', 'O', 'O', 'O', 'O', 'O', 'O', 'O', 'O', 'O', 'O', 'O', 'O', 'O', 'O', 'O', 'O', 'O', 'O', 'O', 'O', 'O', 'O', 'O', 'O', 'O', 'O', 'O', 'O', 'O', 'O', 'O', 'O', 'O', 'O', 'O', 'O', 'O', 'O', 'O', 'O', 'O', 'B-SEAS', 'I-SEAS', 'O', 'O', 'O', 'O', 'O', 'O', 'O', 'O', 'O', 'O', 'O', 'O', 'O']\n",
      "['', ['ApplyTo-0-B'], ['ApplyTo-0-B'], ['ApplyTo-0-B'], '', '', '', '', '', '', ['ApplyTo-0-A'], ['ApplyTo-0-A'], '', '', '', '', '', '', '', '', '', '', '', '', '', '', '', '', '', '', '', '', '', '', '', '', '', '', '', '', '', '', '', '', '', '', '', '', '', '', '', '', '', '', '', '', '', '', '', '', '', '', '', '', '', '', '', '', '', '', [], [], '', '', '', '', '', '', '', '', '', '', '', '', '']\n",
      "\n",
      "Predict output\n",
      "['O', 'B-STAT', 'I-STAT', 'I-STAT', 'O', 'O', 'O', 'O', 'O', 'O', 'B-FUNC', 'I-FUNC', 'O', 'O', 'O', 'O', 'O', 'O', 'O', 'O', 'O', 'O', 'O', 'O', 'O', 'O', 'O', 'O', 'O', 'O', 'O', 'O', 'O', 'O', 'O', 'O', 'O', 'O', 'O', 'O', 'O', 'O', 'O', 'O', 'O', 'O', 'O', 'O', 'O', 'O', 'O', 'O', 'O', 'O', 'O', 'O', 'O', 'O', 'O', 'O', 'O', 'O', 'O', 'O', 'O', 'O', 'O', 'O', 'O', 'O', 'B-SEAS', 'I-SEAS', 'O', 'O', 'O', 'O', 'O', 'O', 'O', 'O', 'O', 'O', 'O', 'O', 'O']\n",
      "['', [], [], [], '', '', '', '', '', '', [], [], '', '', '', '', '', '', '', '', '', '', '', '', '', '', '', '', '', '', '', '', '', '', '', '', '', '', '', '', '', '', '', '', '', '', '', '', '', '', '', '', '', '', '', '', '', '', '', '', '', '', '', '', '', '', '', '', '', '', [], [], '', '', '', '', '', '', '', '', '', '', '', '', '']\n",
      "\n",
      "True\n",
      "[(1, 3, 0), (10, 11, 1), (70, 71, 3)]\n",
      "[((1, 3, 0), (10, 11, 1), 0)]\n",
      "predict\n",
      "[(1, 3, 0), (10, 11, 1), (70, 71, 3)]\n",
      "[]\n",
      "=====================================\n",
      "Batch entity score\n",
      "precision  \t recall  \t fbeta_score  \t\n",
      "(0.8734177215189873, 0.8961038961038961, 0.8846153846153846, None)\n",
      "\n",
      "Batch relation score\n",
      "precision  \t recall  \t fbeta_score  \t\n",
      "(0.75, 0.5, 0.6, None)\n",
      "\n",
      "p_r_fscore\n",
      "precision  \t recall  \t fbeta_score  \t\n",
      "(0.74999999953125, 0.49999999979166665, 0.5999999949) 12 4 0 12\n",
      "===========================================\n",
      "['質', '地', '清', '爽', '不', '黏', '膩']\n",
      "['B-SENS', 'I-SENS', 'B-PERC', 'I-PERC', 'O', 'B-PERC', 'I-PERC']\n",
      "[['Feel-0-A'], ['Feel-0-A'], ['Feel-0-B'], ['Feel-0-B'], '', [], []]\n",
      "\n",
      "Predict output\n",
      "['B-SENS', 'I-SENS', 'B-PERC', 'I-PERC', 'O', 'B-PERC', 'I-PERC']\n",
      "[['Feel-1-A', 'Feel-0-A'], ['Feel-1-A', 'Feel-0-A'], ['Feel-0-B'], ['Feel-0-B'], '', ['Feel-1-B'], ['Feel-1-B']]\n",
      "\n",
      "True\n",
      "[(0, 1, 2), (2, 3, 4), (5, 6, 4)]\n",
      "[((0, 1, 2), (2, 3, 4), 2)]\n",
      "predict\n",
      "[(0, 1, 2), (2, 3, 4), (5, 6, 4)]\n",
      "[((0, 1, 2), (2, 3, 4), 2), ((0, 1, 2), (5, 6, 4), 2)]\n",
      "=====================================\n",
      "['白', ',', '白', ',', '白', '.', '夏', '天', '就', '是', '要', '白', ',', '才', '會', '漂', '亮', '.', '今', '天', '很', '開', '心', '能', '試', '用', '到', '\"', 'f', 'u', 'n', 'c', 'a', 'r', 'e', '船', '井', '生', '醫', 'A', 'C', '-', '1', '1', '超', '光', '速', '美', '白', '精', '華', '\"']\n",
      "['O', 'O', 'O', 'O', 'O', 'O', 'B-SEAS', 'I-SEAS', 'O', 'O', 'O', 'O', 'O', 'O', 'O', 'O', 'O', 'O', 'O', 'O', 'O', 'O', 'O', 'O', 'O', 'O', 'O', 'O', 'O', 'O', 'O', 'O', 'O', 'O', 'O', 'O', 'O', 'O', 'O', 'O', 'O', 'O', 'O', 'O', 'O', 'O', 'O', 'O', 'O', 'O', 'O', 'O']\n",
      "['', '', '', '', '', '', [], [], '', '', '', '', '', '', '', '', '', '', '', '', '', '', '', '', '', '', '', '', '', '', '', '', '', '', '', '', '', '', '', '', '', '', '', '', '', '', '', '', '', '', '', '']\n",
      "\n",
      "Predict output\n",
      "['O', 'O', 'O', 'O', 'O', 'O', 'B-SEAS', 'I-SEAS', 'O', 'O', 'O', 'O', 'O', 'O', 'O', 'O', 'O', 'O', 'O', 'O', 'O', 'O', 'O', 'O', 'O', 'O', 'O', 'O', 'O', 'O', 'O', 'O', 'O', 'O', 'O', 'O', 'O', 'O', 'O', 'O', 'O', 'O', 'O', 'O', 'O', 'O', 'O', 'O', 'O', 'O', 'O', 'O']\n",
      "['', '', '', '', '', '', [], [], '', '', '', '', '', '', '', '', '', '', '', '', '', '', '', '', '', '', '', '', '', '', '', '', '', '', '', '', '', '', '', '', '', '', '', '', '', '', '', '', '', '', '', '']\n",
      "\n",
      "True\n",
      "[(6, 7, 3)]\n",
      "[]\n",
      "predict\n",
      "[(6, 7, 3)]\n",
      "[]\n",
      "=====================================\n",
      "['在', '夏', '天', '紫', '外', '線', '很', '強', ',', '皮', '膚', '很', '容', '易', '曬', '黑', '、', '曬', '傷', ',', '曬', '黑', '了', '還', '能', '慢', '慢', '白', '回', '來', ',', '曬', '出', '斑', '來', '就', '難', '搞', ',', '除', '了', '多', '吃', '含', '維', '他', '命', 'C', '的', '食', '物', ',', '凱', '薩', '琳', '也', '會', '訴', '求', '美', '白', '保', '養', '品', ',', '希', '望', '能', '夠', '加', '快', '白', '回', '來', '的', '速', '度']\n",
      "['O', 'B-SEAS', 'I-SEAS', 'O', 'O', 'O', 'O', 'O', 'O', 'O', 'O', 'O', 'O', 'O', 'O', 'O', 'O', 'O', 'O', 'O', 'O', 'O', 'O', 'O', 'O', 'O', 'O', 'O', 'O', 'O', 'O', 'O', 'O', 'O', 'O', 'O', 'O', 'O', 'O', 'O', 'O', 'O', 'O', 'O', 'O', 'O', 'O', 'O', 'O', 'O', 'O', 'O', 'O', 'O', 'O', 'O', 'O', 'O', 'O', 'O', 'O', 'O', 'O', 'O', 'O', 'O', 'O', 'O', 'O', 'O', 'O', 'O', 'O', 'O', 'O', 'O', 'O']\n",
      "['', [], [], '', '', '', '', '', '', '', '', '', '', '', '', '', '', '', '', '', '', '', '', '', '', '', '', '', '', '', '', '', '', '', '', '', '', '', '', '', '', '', '', '', '', '', '', '', '', '', '', '', '', '', '', '', '', '', '', '', '', '', '', '', '', '', '', '', '', '', '', '', '', '', '', '', '']\n",
      "\n",
      "Predict output\n",
      "['O', 'B-SEAS', 'I-SEAS', 'O', 'O', 'O', 'O', 'O', 'O', 'O', 'O', 'O', 'O', 'O', 'O', 'O', 'O', 'O', 'O', 'O', 'O', 'O', 'O', 'O', 'O', 'O', 'O', 'O', 'O', 'O', 'O', 'O', 'O', 'O', 'O', 'O', 'O', 'O', 'O', 'O', 'O', 'O', 'O', 'O', 'O', 'O', 'O', 'O', 'O', 'O', 'O', 'O', 'O', 'O', 'O', 'O', 'O', 'O', 'O', 'O', 'O', 'O', 'O', 'O', 'O', 'O', 'O', 'O', 'O', 'O', 'O', 'O', 'O', 'O', 'O', 'O', 'O']\n",
      "['', [], [], '', '', '', '', '', '', '', '', '', '', '', '', '', '', '', '', '', '', '', '', '', '', '', '', '', '', '', '', '', '', '', '', '', '', '', '', '', '', '', '', '', '', '', '', '', '', '', '', '', '', '', '', '', '', '', '', '', '', '', '', '', '', '', '', '', '', '', '', '', '', '', '', '', '']\n",
      "\n",
      "True\n",
      "[(1, 2, 3)]\n",
      "[]\n",
      "predict\n",
      "[(1, 2, 3)]\n",
      "[]\n",
      "=====================================\n",
      "['而', '且', '很', '清', '爽', ',', '臉', '上', '超', '舒', '服', '的', ',', '如', '果', '當', '成', '冬', '天', '保', '養', '可', '能', '會', '顯', '得', '不', '夠', ',', '可', '以', '再', '加', '上', '滋', '潤', '點', '的', '產', '品', ',', '畢', '竟', '冬', '天', '皮', '膚', '最', '怕', '太', '乾', '燥']\n",
      "['O', 'O', 'O', 'O', 'O', 'O', 'O', 'O', 'O', 'O', 'O', 'O', 'O', 'O', 'O', 'O', 'O', 'B-SEAS', 'I-SEAS', 'B-FUNC', 'I-FUNC', 'O', 'O', 'O', 'O', 'O', 'O', 'O', 'O', 'O', 'O', 'O', 'O', 'O', 'O', 'O', 'O', 'O', 'O', 'O', 'O', 'O', 'O', 'B-SEAS', 'I-SEAS', 'O', 'O', 'O', 'O', 'O', 'O', 'O']\n",
      "['', '', '', '', '', '', '', '', '', '', '', '', '', '', '', '', '', [], [], [], [], '', '', '', '', '', '', '', '', '', '', '', '', '', '', '', '', '', '', '', '', '', '', [], [], '', '', '', '', '', '', '']\n",
      "\n",
      "Predict output\n",
      "['O', 'O', 'O', 'O', 'O', 'O', 'O', 'O', 'O', 'O', 'O', 'O', 'O', 'O', 'O', 'O', 'O', 'B-SEAS', 'I-SEAS', 'B-FUNC', 'I-FUNC', 'O', 'O', 'O', 'O', 'O', 'O', 'O', 'O', 'O', 'O', 'O', 'O', 'O', 'O', 'O', 'O', 'O', 'O', 'O', 'O', 'O', 'O', 'B-SEAS', 'I-SEAS', 'O', 'O', 'O', 'O', 'O', 'O', 'O']\n",
      "['', '', '', '', '', '', '', '', '', '', '', '', '', '', '', '', '', [], [], [], [], '', '', '', '', '', '', '', '', '', '', '', '', '', '', '', '', '', '', '', '', '', '', [], [], '', '', '', '', '', '', '']\n",
      "\n",
      "True\n",
      "[(17, 18, 3), (19, 20, 1), (43, 44, 3)]\n",
      "[]\n",
      "predict\n",
      "[(17, 18, 3), (19, 20, 1), (43, 44, 3)]\n",
      "[]\n",
      "=====================================\n"
     ]
    },
    {
     "name": "stdout",
     "output_type": "stream",
     "text": [
      "['產', '品', '用', '起', '來', '十', '分', '保', '濕', ',', '原', '本', '冬', '天', '都', '非', '常', '乾', '燥', '需', '要', '大', '量', '水', '分', '及', '護', '唇', '膏', '的', '嘴', '唇', ',', '也', '脫', '離', '須', '隨', '身', '攜', '帶', '的', '麻', '煩', '了']\n",
      "['O', 'O', 'O', 'O', 'O', 'O', 'O', 'B-FUNC', 'I-FUNC', 'O', 'O', 'O', 'B-SEAS', 'I-SEAS', 'O', 'O', 'O', 'O', 'O', 'O', 'O', 'O', 'O', 'O', 'O', 'O', 'O', 'O', 'O', 'O', 'O', 'O', 'O', 'O', 'O', 'O', 'O', 'O', 'O', 'O', 'O', 'O', 'O', 'O', 'O']\n",
      "['', '', '', '', '', '', '', ['ApplyIn-0-A'], ['ApplyIn-0-A'], '', '', '', ['ApplyIn-0-B'], ['ApplyIn-0-B'], '', '', '', '', '', '', '', '', '', '', '', '', '', '', '', '', '', '', '', '', '', '', '', '', '', '', '', '', '', '', '']\n",
      "\n",
      "Predict output\n",
      "['O', 'O', 'O', 'O', 'O', 'O', 'O', 'B-FUNC', 'I-FUNC', 'O', 'O', 'O', 'B-SEAS', 'I-SEAS', 'O', 'O', 'O', 'O', 'O', 'O', 'O', 'O', 'O', 'O', 'O', 'O', 'O', 'O', 'O', 'O', 'O', 'O', 'O', 'O', 'O', 'O', 'O', 'O', 'O', 'O', 'O', 'O', 'O', 'O', 'O']\n",
      "['', '', '', '', '', '', '', [], [], '', '', '', [], [], '', '', '', '', '', '', '', '', '', '', '', '', '', '', '', '', '', '', '', '', '', '', '', '', '', '', '', '', '', '', '']\n",
      "\n",
      "True\n",
      "[(7, 8, 1), (12, 13, 3)]\n",
      "[((7, 8, 1), (12, 13, 3), 1)]\n",
      "predict\n",
      "[(7, 8, 1), (12, 13, 3)]\n",
      "[]\n",
      "=====================================\n",
      "['擠', '出', '來', '時', '是', '像', '乳', '液', '般', '的', '質', '地', ',', '稍', '稍', '推', '開', '還', '滿', '好', '推', '的', ',', '有', '種', '滑', '順', '的', '感', '覺']\n",
      "['O', 'O', 'O', 'O', 'O', 'O', 'O', 'O', 'O', 'O', 'B-SENS', 'I-SENS', 'O', 'O', 'O', 'O', 'O', 'O', 'O', 'B-PERC', 'I-PERC', 'O', 'O', 'O', 'O', 'B-PERC', 'I-PERC', 'O', 'O', 'O']\n",
      "['', '', '', '', '', '', '', '', '', '', ['Feel-1-A', 'Feel-0-A'], ['Feel-1-A', 'Feel-0-A'], '', '', '', '', '', '', '', ['Feel-0-B'], ['Feel-0-B'], '', '', '', '', ['Feel-1-B'], ['Feel-1-B'], '', '', '']\n",
      "\n",
      "Predict output\n",
      "['O', 'O', 'O', 'O', 'O', 'O', 'O', 'O', 'O', 'O', 'B-SENS', 'I-SENS', 'O', 'O', 'O', 'O', 'O', 'O', 'O', 'B-PERC', 'I-PERC', 'O', 'O', 'O', 'O', 'B-PERC', 'I-PERC', 'O', 'O', 'O']\n",
      "['', '', '', '', '', '', '', '', '', '', ['Feel-1-A', 'Feel-0-A'], ['Feel-1-A', 'Feel-0-A'], '', '', '', '', '', '', '', ['Feel-0-B'], ['Feel-0-B'], '', '', '', '', ['Feel-1-B'], ['Feel-1-B'], '', '', '']\n",
      "\n",
      "True\n",
      "[(10, 11, 2), (19, 20, 4), (25, 26, 4)]\n",
      "[((10, 11, 2), (19, 20, 4), 2), ((10, 11, 2), (25, 26, 4), 2)]\n",
      "predict\n",
      "[(10, 11, 2), (19, 20, 4), (25, 26, 4)]\n",
      "[((10, 11, 2), (19, 20, 4), 2), ((10, 11, 2), (25, 26, 4), 2)]\n",
      "=====================================\n",
      "['•', '保', '濕', '精', '華', ',', '滑', '順', '水', '潤', '觸', '感']\n",
      "['O', 'O', 'O', 'O', 'O', 'O', 'B-PERC', 'I-PERC', 'B-PERC', 'I-PERC', 'B-SENS', 'I-SENS']\n",
      "['', '', '', '', '', '', ['Feel-0-B'], ['Feel-0-B'], [], [], [], []]\n",
      "\n",
      "Predict output\n",
      "['O', 'B-FUNC', 'O', 'O', 'O', 'O', 'B-PERC', 'I-PERC', 'B-PERC', 'I-PERC', 'B-SENS', 'I-SENS']\n",
      "['', [], '', '', '', '', ['Feel-0-B'], ['Feel-0-B'], [], [], [], []]\n",
      "\n",
      "True\n",
      "[(6, 7, 4), (8, 9, 4), (10, 11, 2)]\n",
      "[]\n",
      "predict\n",
      "[(1, 1, 1), (6, 7, 4), (8, 9, 4), (10, 11, 2)]\n",
      "[]\n",
      "=====================================\n",
      "['因', '為', '是', '精', '華', '露', '狀', '的', '保', '濕', '露', ',', '所', '以', '在', '這', '種', '炎', '熱', '的', '夏', '天', '使', '用', '起', '來', '完', '全', '不', '會', '有', '黏', '膩', '的', '感', '覺', ',', '也', '讓', '我', '的', '臉', '部', '肌', '膚', '油', '水', '達', '到', '平', '衡', ',', '不', '會', '有', '油', '光', '的', '黏', '膩', '感']\n",
      "['O', 'O', 'O', 'O', 'O', 'O', 'O', 'O', 'B-FUNC', 'I-FUNC', 'O', 'O', 'O', 'O', 'O', 'O', 'O', 'O', 'O', 'O', 'B-SEAS', 'I-SEAS', 'O', 'O', 'O', 'O', 'O', 'O', 'O', 'O', 'O', 'O', 'O', 'O', 'O', 'O', 'O', 'O', 'O', 'O', 'O', 'O', 'O', 'O', 'O', 'O', 'O', 'O', 'O', 'O', 'O', 'O', 'O', 'O', 'O', 'O', 'O', 'O', 'O', 'O', 'O']\n",
      "['', '', '', '', '', '', '', '', ['ApplyIn-0-A'], ['ApplyIn-0-A'], '', '', '', '', '', '', '', '', '', '', ['ApplyIn-0-B'], ['ApplyIn-0-B'], '', '', '', '', '', '', '', '', '', '', '', '', '', '', '', '', '', '', '', '', '', '', '', '', '', '', '', '', '', '', '', '', '', '', '', '', '', '', '']\n",
      "\n",
      "Predict output\n",
      "['O', 'O', 'O', 'O', 'O', 'O', 'O', 'O', 'O', 'O', 'O', 'O', 'O', 'O', 'O', 'O', 'O', 'O', 'O', 'O', 'B-SEAS', 'I-SEAS', 'O', 'O', 'O', 'O', 'O', 'O', 'O', 'O', 'O', 'O', 'O', 'O', 'O', 'O', 'O', 'O', 'O', 'O', 'O', 'O', 'O', 'O', 'O', 'O', 'O', 'O', 'O', 'O', 'O', 'O', 'O', 'O', 'O', 'O', 'O', 'O', 'O', 'O', 'O']\n",
      "['', '', '', '', '', '', '', '', '', '', '', '', '', '', '', '', '', '', '', '', [], [], '', '', '', '', '', '', '', '', '', '', '', '', '', '', '', '', '', '', '', '', '', '', '', '', '', '', '', '', '', '', '', '', '', '', '', '', '', '', '']\n",
      "\n",
      "True\n",
      "[(8, 9, 1), (20, 21, 3)]\n",
      "[((8, 9, 1), (20, 21, 3), 1)]\n",
      "predict\n",
      "[(20, 21, 3)]\n",
      "[]\n",
      "=====================================\n",
      "['質', '地', '上', '有', '點', '像', '果', '凍', '般', '凝', '露', '狀', ',', '可', '是', '卻', '一', '點', '也', '不', '濃', '稠', ',', '流', '動', '性', '很', '好', ',', '很', '輕', '盈', '水', '感', '的', '質', '地']\n",
      "['B-SENS', 'I-SENS', 'O', 'O', 'O', 'O', 'O', 'O', 'O', 'B-PERC', 'I-PERC', 'I-PERC', 'O', 'O', 'O', 'O', 'O', 'O', 'O', 'O', 'B-PERC', 'I-PERC', 'O', 'O', 'O', 'O', 'O', 'O', 'O', 'O', 'O', 'O', 'O', 'O', 'O', 'B-SENS', 'I-SENS']\n",
      "[['Feel-0-A'], ['Feel-0-A'], '', '', '', '', '', '', '', ['Feel-0-B'], ['Feel-0-B'], ['Feel-0-B'], '', '', '', '', '', '', '', '', [], [], '', '', '', '', '', '', '', '', '', '', '', '', '', [], []]\n",
      "\n",
      "Predict output\n",
      "['B-SENS', 'I-SENS', 'O', 'O', 'O', 'O', 'O', 'O', 'O', 'B-PERC', 'I-PERC', 'I-PERC', 'O', 'O', 'O', 'O', 'O', 'O', 'O', 'O', 'B-PERC', 'I-PERC', 'O', 'O', 'O', 'O', 'O', 'O', 'O', 'O', 'O', 'O', 'O', 'O', 'O', 'B-SENS', 'I-SENS']\n",
      "[['Feel-1-A', 'Feel-0-A'], ['Feel-1-A', 'Feel-0-A'], '', '', '', '', '', '', '', ['Feel-0-B'], ['Feel-0-B'], ['Feel-0-B'], '', '', '', '', '', '', '', '', ['Feel-1-B'], ['Feel-1-B'], '', '', '', '', '', '', '', '', '', '', '', '', '', [], []]\n",
      "\n",
      "True\n",
      "[(0, 1, 2), (9, 11, 4), (20, 21, 4), (35, 36, 2)]\n",
      "[((0, 1, 2), (9, 11, 4), 2)]\n",
      "predict\n",
      "[(0, 1, 2), (9, 11, 4), (20, 21, 4), (35, 36, 2)]\n",
      "[((0, 1, 2), (9, 11, 4), 2), ((0, 1, 2), (20, 21, 4), 2)]\n",
      "=====================================\n",
      "['我', '想', '.', '.', '.', '這', '款', '應', '該', '是', '適', '合', '油', '性', '肌', '的', '人', ',', '對', '我', '而', '且', '保', '濕', '度', '真', '的', '是', '很', '不', '夠', ',']\n",
      "['O', 'O', 'O', 'O', 'O', 'O', 'O', 'O', 'O', 'O', 'O', 'O', 'B-STAT', 'I-STAT', 'I-STAT', 'O', 'O', 'O', 'O', 'O', 'O', 'O', 'B-FUNC', 'I-FUNC', 'I-FUNC', 'O', 'O', 'O', 'O', 'O', 'O', 'O']\n",
      "['', '', '', '', '', '', '', '', '', '', '', '', ['ApplyTo-0-B'], ['ApplyTo-0-B'], ['ApplyTo-0-B'], '', '', '', '', '', '', '', ['ApplyTo-0-A'], ['ApplyTo-0-A'], ['ApplyTo-0-A'], '', '', '', '', '', '', '']\n",
      "\n",
      "Predict output\n",
      "['O', 'O', 'O', 'O', 'O', 'O', 'O', 'O', 'O', 'O', 'O', 'O', 'B-STAT', 'I-STAT', 'I-STAT', 'O', 'O', 'O', 'O', 'O', 'O', 'O', 'B-FUNC', 'I-FUNC', 'I-FUNC', 'O', 'O', 'O', 'O', 'O', 'O', 'O']\n",
      "['', '', '', '', '', '', '', '', '', '', '', '', [], [], [], '', '', '', '', '', '', '', [], [], [], '', '', '', '', '', '', '']\n",
      "\n",
      "True\n",
      "[(12, 14, 0), (22, 24, 1)]\n",
      "[((12, 14, 0), (22, 24, 1), 0)]\n",
      "predict\n",
      "[(12, 14, 0), (22, 24, 1)]\n",
      "[]\n",
      "=====================================\n",
      "['在', '冬', '天', ',', '保', '濕', '度', '也', '還', '不', '錯', ',', '肌', '膚', '也', '感', '覺', '有', '變', '水', '嫩', ',']\n",
      "['O', 'B-SEAS', 'I-SEAS', 'O', 'B-FUNC', 'I-FUNC', 'I-FUNC', 'O', 'O', 'O', 'O', 'O', 'O', 'O', 'O', 'O', 'O', 'O', 'O', 'O', 'O', 'O']\n",
      "['', ['ApplyIn-0-B'], ['ApplyIn-0-B'], '', ['ApplyIn-0-A'], ['ApplyIn-0-A'], ['ApplyIn-0-A'], '', '', '', '', '', '', '', '', '', '', '', '', '', '', '']\n",
      "\n",
      "Predict output\n",
      "['O', 'B-SEAS', 'I-SEAS', 'O', 'B-FUNC', 'I-FUNC', 'I-FUNC', 'O', 'O', 'O', 'O', 'O', 'O', 'O', 'O', 'O', 'O', 'O', 'O', 'O', 'O', 'O']\n",
      "['', ['ApplyIn-0-B'], ['ApplyIn-0-B'], '', ['ApplyIn-0-A'], ['ApplyIn-0-A'], [], '', '', '', '', '', '', '', '', '', '', '', '', '', '', '']\n",
      "\n",
      "True\n",
      "[(1, 2, 3), (4, 6, 1)]\n",
      "[((1, 2, 3), (4, 6, 1), 1)]\n",
      "predict\n",
      "[(1, 2, 3), (4, 6, 1)]\n",
      "[]\n",
      "=====================================\n",
      "['一', '直', '就', '得', '那', '個', '味', '道', '很', '嗆', '雖', '然', '它', '敷', '起', '來', '冰', '冰', '涼', '涼', '的', '夏', '天', '很', '舒', '服']\n",
      "['O', 'O', 'O', 'O', 'O', 'O', 'B-SENS', 'I-SENS', 'O', 'B-PERC', 'O', 'O', 'O', 'O', 'O', 'O', 'O', 'O', 'O', 'O', 'O', 'B-SEAS', 'I-SEAS', 'O', 'O', 'O']\n",
      "['', '', '', '', '', '', ['Feel-0-A'], ['Feel-0-A'], '', ['Feel-0-B'], '', '', '', '', '', '', '', '', '', '', '', [], [], '', '', '']\n",
      "\n",
      "Predict output\n",
      "['O', 'O', 'O', 'O', 'O', 'O', 'O', 'O', 'O', 'O', 'O', 'O', 'O', 'O', 'O', 'O', 'O', 'O', 'O', 'O', 'O', 'B-SEAS', 'I-SEAS', 'O', 'O', 'O']\n",
      "['', '', '', '', '', '', '', '', '', '', '', '', '', '', '', '', '', '', '', '', '', [], [], '', '', '']\n",
      "\n",
      "True\n",
      "[(6, 7, 2), (9, 9, 4), (21, 22, 3)]\n",
      "[((6, 7, 2), (9, 9, 4), 2)]\n",
      "predict\n",
      "[(21, 22, 3)]\n",
      "[]\n",
      "=====================================\n",
      "['保', '濕', '程', '度', '在', '夏', '天', '來', '說', '足', '夠', ',', '雖', '然', '無', '法', '淡', '掉', '已', '有', '的', '班', '點', ',', '但', '是', '覺', '得', '裡', '面', '含', '的', '眾', '多', '的', '美', '白', '成', '分', '(', '傳', '明', '酸', '、', '麴', '酸', '、', '熊', '果', '素', ')', ',', '至', '少', '能', '讓', '斑', '點', '不', '再', '生', '成']\n",
      "['B-FUNC', 'I-FUNC', 'O', 'O', 'O', 'B-SEAS', 'I-SEAS', 'O', 'O', 'O', 'O', 'O', 'O', 'O', 'O', 'O', 'O', 'O', 'O', 'O', 'O', 'O', 'O', 'O', 'O', 'O', 'O', 'O', 'O', 'O', 'O', 'O', 'O', 'O', 'O', 'O', 'O', 'O', 'O', 'O', 'O', 'O', 'O', 'O', 'O', 'O', 'O', 'O', 'O', 'O', 'O', 'O', 'O', 'O', 'O', 'O', 'O', 'O', 'O', 'O', 'O', 'O']\n",
      "[['ApplyIn-0-A'], ['ApplyIn-0-A'], '', '', '', ['ApplyIn-0-B'], ['ApplyIn-0-B'], '', '', '', '', '', '', '', '', '', '', '', '', '', '', '', '', '', '', '', '', '', '', '', '', '', '', '', '', '', '', '', '', '', '', '', '', '', '', '', '', '', '', '', '', '', '', '', '', '', '', '', '', '', '', '']\n",
      "\n",
      "Predict output\n",
      "['B-FUNC', 'I-FUNC', 'O', 'O', 'O', 'B-SEAS', 'I-SEAS', 'O', 'O', 'O', 'O', 'O', 'O', 'O', 'O', 'O', 'O', 'O', 'O', 'O', 'O', 'O', 'O', 'O', 'O', 'O', 'O', 'O', 'O', 'O', 'O', 'O', 'O', 'O', 'O', 'B-FUNC', 'O', 'O', 'O', 'O', 'O', 'O', 'O', 'O', 'O', 'O', 'O', 'O', 'O', 'O', 'O', 'O', 'O', 'O', 'O', 'O', 'O', 'O', 'O', 'O', 'O', 'O']\n",
      "[['ApplyIn-0-A'], ['ApplyIn-0-A'], '', '', '', ['ApplyIn-0-B'], ['ApplyIn-0-B'], '', '', '', '', '', '', '', '', '', '', '', '', '', '', '', '', '', '', '', '', '', '', '', '', '', '', '', '', [], '', '', '', '', '', '', '', '', '', '', '', '', '', '', '', '', '', '', '', '', '', '', '', '', '', '']\n",
      "\n",
      "True\n",
      "[(0, 1, 1), (5, 6, 3)]\n",
      "[((0, 1, 1), (5, 6, 3), 1)]\n",
      "predict\n",
      "[(0, 1, 1), (5, 6, 3), (35, 35, 1)]\n",
      "[((0, 1, 1), (5, 6, 3), 1)]\n",
      "=====================================\n"
     ]
    },
    {
     "name": "stdout",
     "output_type": "stream",
     "text": [
      "['夏', '季', '時', '兩', '頰', '略', '乾', 'T', '字', '極', '油', ',', '不', '認', '真', '做', '好', '保', '濕', '的', '話', '常', '常', '晚', '上', '妝', '都', '浮', '到', '細', '毛', '上', '了']\n",
      "['B-SEAS', 'I-SEAS', 'O', 'O', 'O', 'O', 'O', 'O', 'O', 'O', 'O', 'O', 'O', 'O', 'O', 'O', 'O', 'O', 'O', 'O', 'O', 'O', 'O', 'O', 'O', 'O', 'O', 'O', 'O', 'O', 'O', 'O', 'O']\n",
      "[[], [], '', '', '', '', '', '', '', '', '', '', '', '', '', '', '', '', '', '', '', '', '', '', '', '', '', '', '', '', '', '', '']\n",
      "\n",
      "Predict output\n",
      "['B-SEAS', 'I-SEAS', 'O', 'O', 'O', 'O', 'O', 'O', 'O', 'O', 'O', 'O', 'O', 'O', 'O', 'O', 'O', 'O', 'O', 'O', 'O', 'O', 'O', 'O', 'O', 'O', 'O', 'O', 'O', 'O', 'O', 'O', 'O']\n",
      "[[], [], '', '', '', '', '', '', '', '', '', '', '', '', '', '', '', '', '', '', '', '', '', '', '', '', '', '', '', '', '', '', '']\n",
      "\n",
      "True\n",
      "[(0, 1, 3)]\n",
      "[]\n",
      "predict\n",
      "[(0, 1, 3)]\n",
      "[]\n",
      "=====================================\n",
      "['保', '濕', '度', '普', '通', ',', '對', '於', '個', '人', '的', '乾', '性', '皮', '膚', '並', '沒', '有', '感', '覺', '較', '保', '濕']\n",
      "['B-FUNC', 'I-FUNC', 'I-FUNC', 'O', 'O', 'O', 'O', 'O', 'O', 'O', 'O', 'B-STAT', 'I-STAT', 'I-STAT', 'I-STAT', 'O', 'O', 'O', 'O', 'O', 'O', 'B-FUNC', 'I-FUNC']\n",
      "[[], [], [], '', '', '', '', '', '', '', '', [], [], [], [], '', '', '', '', '', '', [], []]\n",
      "\n",
      "Predict output\n",
      "['B-FUNC', 'I-FUNC', 'I-FUNC', 'O', 'O', 'O', 'O', 'O', 'O', 'O', 'O', 'B-STAT', 'I-STAT', 'I-STAT', 'I-STAT', 'O', 'O', 'O', 'O', 'O', 'O', 'B-FUNC', 'I-FUNC']\n",
      "[[], [], [], '', '', '', '', '', '', '', '', [], [], [], [], '', '', '', '', '', '', [], []]\n",
      "\n",
      "True\n",
      "[(0, 2, 1), (11, 14, 0), (21, 22, 1)]\n",
      "[]\n",
      "predict\n",
      "[(0, 2, 1), (11, 14, 0), (21, 22, 1)]\n",
      "[]\n",
      "=====================================\n",
      "['所', '以', '如', '果', '喜', '歡', '粉', '餅', '系', '的', '水', '水', ',', '或', '是', '容', '易', '出', '油', '的', '人', ',', '這', '款', '真', '的', '不', '錯', ',', '而', '且', '夏', '天', '使', '用', '會', '更', '有', '感', '覺', ',', '因', '為', '它', '有', '控', '油', '的', '效', '果']\n",
      "['O', 'O', 'O', 'O', 'O', 'O', 'O', 'O', 'O', 'O', 'O', 'O', 'O', 'O', 'O', 'O', 'O', 'O', 'O', 'O', 'O', 'O', 'O', 'O', 'O', 'O', 'O', 'O', 'O', 'O', 'O', 'B-SEAS', 'I-SEAS', 'O', 'O', 'O', 'O', 'O', 'O', 'O', 'O', 'O', 'O', 'O', 'O', 'B-FUNC', 'I-FUNC', 'O', 'O', 'O']\n",
      "['', '', '', '', '', '', '', '', '', '', '', '', '', '', '', '', '', '', '', '', '', '', '', '', '', '', '', '', '', '', '', ['ApplyIn-0-B'], ['ApplyIn-0-B'], '', '', '', '', '', '', '', '', '', '', '', '', ['ApplyIn-0-A'], ['ApplyIn-0-A'], '', '', '']\n",
      "\n",
      "Predict output\n",
      "['O', 'O', 'O', 'O', 'O', 'O', 'O', 'O', 'O', 'O', 'O', 'O', 'O', 'O', 'O', 'O', 'O', 'O', 'O', 'O', 'O', 'O', 'O', 'O', 'O', 'O', 'O', 'O', 'O', 'O', 'O', 'B-SEAS', 'I-SEAS', 'O', 'O', 'O', 'O', 'O', 'O', 'O', 'O', 'O', 'O', 'O', 'O', 'B-FUNC', 'I-FUNC', 'O', 'O', 'O']\n",
      "['', '', '', '', '', '', '', '', '', '', '', '', '', '', '', '', '', '', '', '', '', '', '', '', '', '', '', '', '', '', '', [], [], '', '', '', '', '', '', '', '', '', '', '', '', [], [], '', '', '']\n",
      "\n",
      "True\n",
      "[(31, 32, 3), (45, 46, 1)]\n",
      "[((31, 32, 3), (45, 46, 1), 1)]\n",
      "predict\n",
      "[(31, 32, 3), (45, 46, 1)]\n",
      "[]\n",
      "=====================================\n",
      "['雖', '然', '有', '保', '濕', '效', '果', ',', '但', '是', '對', '過', '敏', '膚', '質', '並', '沒', '有', '任', '何', '幫', '助']\n",
      "['O', 'O', 'O', 'B-FUNC', 'I-FUNC', 'O', 'O', 'O', 'O', 'O', 'O', 'B-STAT', 'I-STAT', 'I-STAT', 'I-STAT', 'O', 'O', 'O', 'O', 'O', 'O', 'O']\n",
      "['', '', '', [], [], '', '', '', '', '', '', [], [], [], [], '', '', '', '', '', '', '']\n",
      "\n",
      "Predict output\n",
      "['O', 'O', 'O', 'B-FUNC', 'I-FUNC', 'O', 'O', 'O', 'O', 'O', 'O', 'B-STAT', 'I-STAT', 'I-STAT', 'I-STAT', 'O', 'O', 'O', 'O', 'O', 'O', 'O']\n",
      "['', '', '', [], [], '', '', '', '', '', '', [], [], [], [], '', '', '', '', '', '', '']\n",
      "\n",
      "True\n",
      "[(3, 4, 1), (11, 14, 0)]\n",
      "[]\n",
      "predict\n",
      "[(3, 4, 1), (11, 14, 0)]\n",
      "[]\n",
      "=====================================\n",
      "['我', '覺', '得', '它', '很', '好', '用', ',', '而', '且', '價', '格', '不', '貴', ',', '夏', '天', '要', '來', '了', ',', '擦', '在', '身', '上', '可', '美', '白', '又', '保', '濕', ',', '是', '一', '個', '很', '好', '的', '產', '品']\n",
      "['O', 'O', 'O', 'O', 'O', 'O', 'O', 'O', 'O', 'O', 'O', 'O', 'O', 'O', 'O', 'B-SEAS', 'I-SEAS', 'O', 'O', 'O', 'O', 'O', 'O', 'O', 'O', 'O', 'B-FUNC', 'I-FUNC', 'O', 'B-FUNC', 'I-FUNC', 'O', 'O', 'O', 'O', 'O', 'O', 'O', 'O', 'O']\n",
      "['', '', '', '', '', '', '', '', '', '', '', '', '', '', '', ['ApplyIn-1-B', 'ApplyIn-0-B'], ['ApplyIn-1-B', 'ApplyIn-0-B'], '', '', '', '', '', '', '', '', '', ['ApplyIn-0-A'], ['ApplyIn-0-A'], '', ['ApplyIn-1-A'], ['ApplyIn-1-A'], '', '', '', '', '', '', '', '', '']\n",
      "\n",
      "Predict output\n",
      "['O', 'O', 'O', 'O', 'O', 'O', 'O', 'O', 'O', 'O', 'O', 'O', 'O', 'O', 'O', 'B-SEAS', 'I-SEAS', 'O', 'O', 'O', 'O', 'O', 'O', 'O', 'O', 'O', 'B-FUNC', 'I-FUNC', 'O', 'B-FUNC', 'I-FUNC', 'O', 'O', 'O', 'O', 'O', 'O', 'O', 'O', 'O']\n",
      "['', '', '', '', '', '', '', '', '', '', '', '', '', '', '', ['ApplyIn-0-B'], ['ApplyIn-0-B'], '', '', '', '', '', '', '', '', '', [], [], '', ['ApplyIn-0-A'], ['ApplyIn-0-A'], '', '', '', '', '', '', '', '', '']\n",
      "\n",
      "True\n",
      "[(15, 16, 3), (26, 27, 1), (29, 30, 1)]\n",
      "[((15, 16, 3), (26, 27, 1), 1), ((15, 16, 3), (29, 30, 1), 1)]\n",
      "predict\n",
      "[(15, 16, 3), (26, 27, 1), (29, 30, 1)]\n",
      "[((15, 16, 3), (29, 30, 1), 1)]\n",
      "=====================================\n",
      "['這', '次', '試', '用', '的', '是', 'K', 'a', 'n', 'e', 'b', 'o', '的', 'd', 'e', 'w', 's', 'u', 'p', 'e', 'r', 'i', 'o', 'r', '潤', '活', '精', '純', '乳', ',', '剛', '好', '我', '正', '在', '找', '冬', '天', '日', '間', '用', '的', '乳', '液', ',', '這', '款', '真', '的', '蠻', '保', '濕', '的']\n",
      "['O', 'O', 'O', 'O', 'O', 'O', 'O', 'O', 'O', 'O', 'O', 'O', 'O', 'O', 'O', 'O', 'O', 'O', 'O', 'O', 'O', 'O', 'O', 'O', 'O', 'O', 'O', 'O', 'O', 'O', 'O', 'O', 'O', 'O', 'O', 'O', 'B-SEAS', 'I-SEAS', 'O', 'O', 'O', 'O', 'O', 'O', 'O', 'O', 'O', 'O', 'O', 'O', 'B-FUNC', 'I-FUNC', 'O']\n",
      "['', '', '', '', '', '', '', '', '', '', '', '', '', '', '', '', '', '', '', '', '', '', '', '', '', '', '', '', '', '', '', '', '', '', '', '', ['ApplyIn-0-B'], ['ApplyIn-0-B'], '', '', '', '', '', '', '', '', '', '', '', '', ['ApplyIn-0-A'], ['ApplyIn-0-A'], '']\n",
      "\n",
      "Predict output\n",
      "['O', 'O', 'O', 'O', 'O', 'O', 'O', 'O', 'O', 'O', 'O', 'O', 'O', 'O', 'O', 'O', 'O', 'O', 'O', 'O', 'O', 'O', 'O', 'O', 'O', 'O', 'O', 'O', 'O', 'O', 'O', 'O', 'O', 'O', 'O', 'O', 'B-SEAS', 'I-SEAS', 'O', 'O', 'O', 'O', 'O', 'O', 'O', 'O', 'O', 'O', 'O', 'O', 'B-FUNC', 'I-FUNC', 'O']\n",
      "['', '', '', '', '', '', '', '', '', '', '', '', '', '', '', '', '', '', '', '', '', '', '', '', '', '', '', '', '', '', '', '', '', '', '', '', ['ApplyIn-0-B'], ['ApplyIn-0-B'], '', '', '', '', '', '', '', '', '', '', '', '', ['ApplyIn-0-A'], ['ApplyIn-0-A'], '']\n",
      "\n",
      "True\n",
      "[(36, 37, 3), (50, 51, 1)]\n",
      "[((36, 37, 3), (50, 51, 1), 1)]\n",
      "predict\n",
      "[(36, 37, 3), (50, 51, 1)]\n",
      "[((36, 37, 3), (50, 51, 1), 1)]\n",
      "=====================================\n",
      "['這', '瓶', '還', '蠻', '適', '合', '乾', '肌', '的', '人', '使', '用', ',', '夠', '保', '濕', '哦']\n",
      "['O', 'O', 'O', 'O', 'O', 'O', 'B-STAT', 'I-STAT', 'O', 'O', 'O', 'O', 'O', 'O', 'B-FUNC', 'I-FUNC', 'O']\n",
      "['', '', '', '', '', '', ['ApplyTo-0-B'], ['ApplyTo-0-B'], '', '', '', '', '', '', ['ApplyTo-0-A'], ['ApplyTo-0-A'], '']\n",
      "\n",
      "Predict output\n",
      "['O', 'O', 'O', 'O', 'O', 'O', 'B-STAT', 'I-STAT', 'O', 'O', 'O', 'O', 'O', 'O', 'B-FUNC', 'I-FUNC', 'O']\n",
      "['', '', '', '', '', '', [], [], '', '', '', '', '', '', [], [], '']\n",
      "\n",
      "True\n",
      "[(6, 7, 0), (14, 15, 1)]\n",
      "[((6, 7, 0), (14, 15, 1), 0)]\n",
      "predict\n",
      "[(6, 7, 0), (14, 15, 1)]\n",
      "[]\n",
      "=====================================\n",
      "['她', '的', '保', '濕', '程', '度', '讓', '我', '有', '點', '吃', '驚', ',', '尤', '其', '在', '冬', '天', ',', '只', '要', '一', '上', '妝', ',', '眼', '周', '跟', '嘴', '角', '容', '易', '有', '裂', '紋', '的', '情', '況', ',']\n",
      "['O', 'O', 'B-FUNC', 'I-FUNC', 'O', 'O', 'O', 'O', 'O', 'O', 'O', 'O', 'O', 'O', 'O', 'O', 'B-SEAS', 'I-SEAS', 'O', 'O', 'O', 'O', 'O', 'O', 'O', 'O', 'O', 'O', 'O', 'O', 'O', 'O', 'O', 'O', 'O', 'O', 'O', 'O', 'O']\n",
      "['', '', ['ApplyIn-0-A'], ['ApplyIn-0-A'], '', '', '', '', '', '', '', '', '', '', '', '', ['ApplyIn-0-B'], ['ApplyIn-0-B'], '', '', '', '', '', '', '', '', '', '', '', '', '', '', '', '', '', '', '', '', '']\n",
      "\n",
      "Predict output\n",
      "['O', 'O', 'B-FUNC', 'I-FUNC', 'O', 'O', 'O', 'O', 'O', 'O', 'O', 'O', 'O', 'O', 'O', 'O', 'B-SEAS', 'I-SEAS', 'O', 'O', 'O', 'O', 'O', 'O', 'O', 'O', 'O', 'O', 'O', 'O', 'O', 'O', 'O', 'O', 'O', 'O', 'O', 'O', 'O']\n",
      "['', '', ['ApplyIn-0-A'], ['ApplyIn-0-A'], '', '', '', '', '', '', '', '', '', '', '', '', ['ApplyIn-0-B'], ['ApplyIn-0-B'], '', '', '', '', '', '', '', '', '', '', '', '', '', '', '', '', '', '', '', '', '']\n",
      "\n",
      "True\n",
      "[(2, 3, 1), (16, 17, 3)]\n",
      "[((2, 3, 1), (16, 17, 3), 1)]\n",
      "predict\n",
      "[(2, 3, 1), (16, 17, 3)]\n",
      "[((2, 3, 1), (16, 17, 3), 1)]\n",
      "=====================================\n",
      "['延', '展', '性', '佳', ',', '質', '地', '相', '當', '好', '推', '勻']\n",
      "['O', 'O', 'O', 'O', 'O', 'B-SENS', 'I-SENS', 'O', 'O', 'B-PERC', 'I-PERC', 'I-PERC']\n",
      "['', '', '', '', '', ['Feel-0-A'], ['Feel-0-A'], '', '', ['Feel-0-B'], ['Feel-0-B'], ['Feel-0-B']]\n",
      "\n",
      "Predict output\n",
      "['O', 'O', 'O', 'O', 'O', 'B-SENS', 'I-SENS', 'O', 'O', 'B-PERC', 'I-PERC', 'I-PERC']\n",
      "['', '', '', '', '', ['Feel-0-A'], ['Feel-0-A'], '', '', ['Feel-0-B'], ['Feel-0-B'], ['Feel-0-B']]\n",
      "\n",
      "True\n",
      "[(5, 6, 2), (9, 11, 4)]\n",
      "[((5, 6, 2), (9, 11, 4), 2)]\n",
      "predict\n",
      "[(5, 6, 2), (9, 11, 4)]\n",
      "[((5, 6, 2), (9, 11, 4), 2)]\n",
      "=====================================\n",
      "['產', '品', '質', '地', '是', '透', '明', '水', '狀', ',']\n",
      "['O', 'O', 'B-SENS', 'I-SENS', 'O', 'O', 'O', 'B-PERC', 'I-PERC', 'O']\n",
      "['', '', ['Feel-0-A'], ['Feel-0-A'], '', '', '', ['Feel-0-B'], ['Feel-0-B'], '']\n",
      "\n",
      "Predict output\n",
      "['O', 'O', 'B-SENS', 'I-SENS', 'O', 'O', 'O', 'B-PERC', 'I-PERC', 'O']\n",
      "['', '', ['Feel-0-A'], ['Feel-0-A'], '', '', '', ['Feel-0-B'], ['Feel-0-B'], '']\n",
      "\n",
      "True\n",
      "[(2, 3, 2), (7, 8, 4)]\n",
      "[((2, 3, 2), (7, 8, 4), 2)]\n",
      "predict\n",
      "[(2, 3, 2), (7, 8, 4)]\n",
      "[((2, 3, 2), (7, 8, 4), 2)]\n",
      "=====================================\n"
     ]
    },
    {
     "name": "stdout",
     "output_type": "stream",
     "text": [
      "['此', '款', '日', '間', '保', '濕', '防', '護', '乳', '很', '適', '合', '混', '合', '性', '肌', '膚', '的', '人', '(', '乾', '性', '的', '人', '因', '該', '也', 'O', 'K', ')', ',', '不', '乾', '不', '油', '保', '濕', '度', '足', '夠', ',', '且', '此', '款', '還', '有', '保', '養', '的', '作', '用', ',', '減', '緩', '初', '期', '老', '化', '現', '象', ',', '真', '的', '太', '吸', '引', '人', '了']\n",
      "['O', 'O', 'O', 'O', 'B-FUNC', 'I-FUNC', 'O', 'O', 'O', 'O', 'O', 'O', 'B-STAT', 'I-STAT', 'I-STAT', 'I-STAT', 'I-STAT', 'O', 'O', 'O', 'O', 'O', 'O', 'O', 'O', 'O', 'O', 'O', 'O', 'O', 'O', 'O', 'O', 'O', 'O', 'B-FUNC', 'I-FUNC', 'I-FUNC', 'O', 'O', 'O', 'O', 'O', 'O', 'O', 'O', 'B-FUNC', 'I-FUNC', 'O', 'O', 'O', 'O', 'O', 'O', 'O', 'O', 'O', 'O', 'O', 'O', 'O', 'O', 'O', 'O', 'O', 'O', 'O', 'O']\n",
      "['', '', '', '', ['ApplyTo-0-A'], ['ApplyTo-0-A'], '', '', '', '', '', '', ['ApplyTo-2-B', 'ApplyTo-1-B', 'ApplyTo-0-B'], ['ApplyTo-2-B', 'ApplyTo-1-B', 'ApplyTo-0-B'], ['ApplyTo-2-B', 'ApplyTo-1-B', 'ApplyTo-0-B'], ['ApplyTo-2-B', 'ApplyTo-1-B', 'ApplyTo-0-B'], ['ApplyTo-2-B', 'ApplyTo-1-B', 'ApplyTo-0-B'], '', '', '', '', '', '', '', '', '', '', '', '', '', '', '', '', '', '', ['ApplyTo-1-A'], ['ApplyTo-1-A'], ['ApplyTo-1-A'], '', '', '', '', '', '', '', '', ['ApplyTo-2-A'], ['ApplyTo-2-A'], '', '', '', '', '', '', '', '', '', '', '', '', '', '', '', '', '', '', '', '']\n",
      "\n",
      "Predict output\n",
      "['O', 'O', 'O', 'O', 'O', 'O', 'O', 'O', 'O', 'O', 'O', 'O', 'B-STAT', 'I-STAT', 'I-STAT', 'I-STAT', 'I-STAT', 'O', 'O', 'O', 'O', 'O', 'O', 'O', 'O', 'O', 'O', 'O', 'O', 'O', 'O', 'O', 'O', 'O', 'O', 'B-FUNC', 'I-FUNC', 'I-FUNC', 'O', 'O', 'O', 'O', 'O', 'O', 'O', 'O', 'B-FUNC', 'I-FUNC', 'O', 'O', 'O', 'O', 'O', 'O', 'O', 'O', 'O', 'O', 'O', 'O', 'O', 'O', 'O', 'O', 'O', 'O', 'O', 'O']\n",
      "['', '', '', '', '', '', '', '', '', '', '', '', [], [], [], [], [], '', '', '', '', '', '', '', '', '', '', '', '', '', '', '', '', '', '', [], [], [], '', '', '', '', '', '', '', '', [], [], '', '', '', '', '', '', '', '', '', '', '', '', '', '', '', '', '', '', '', '']\n",
      "\n",
      "True\n",
      "[(4, 5, 1), (12, 16, 0), (35, 37, 1), (46, 47, 1)]\n",
      "[((4, 5, 1), (12, 16, 0), 0), ((12, 16, 0), (35, 37, 1), 0), ((12, 16, 0), (46, 47, 1), 0)]\n",
      "predict\n",
      "[(12, 16, 0), (35, 37, 1), (46, 47, 1)]\n",
      "[]\n",
      "=====================================\n",
      "['這', '款', '精', '華', '是', '比', '較', '像', '乳', '液', '的', '質', '地', ',', '白', '色', '乳', '狀', '擦', '起', '來', '很', '容', '易', '吸', '收', ',', '多', '加', '按', '摩', '一', '次', '幾', '乎', '都', '滲', '透', '進', '去', ',', '吸', '收', '度', '很', '好', ',', '有', '滋', '潤', '感', '卻', '不', '會', '有', '黏', '膩', '感', '哦', ',', '不', '黏', '不', '膩', '很', '舒', '服']\n",
      "['O', 'O', 'O', 'O', 'O', 'O', 'O', 'O', 'O', 'O', 'O', 'B-SENS', 'I-SENS', 'O', 'O', 'O', 'B-PERC', 'I-PERC', 'O', 'O', 'O', 'O', 'O', 'O', 'O', 'O', 'O', 'O', 'O', 'O', 'O', 'O', 'O', 'O', 'O', 'O', 'O', 'O', 'O', 'O', 'O', 'O', 'O', 'O', 'O', 'O', 'O', 'O', 'O', 'O', 'O', 'O', 'O', 'O', 'O', 'O', 'O', 'O', 'O', 'O', 'O', 'O', 'O', 'O', 'O', 'O', 'O']\n",
      "['', '', '', '', '', '', '', '', '', '', '', ['Feel-0-A'], ['Feel-0-A'], '', '', '', ['Feel-0-B'], ['Feel-0-B'], '', '', '', '', '', '', '', '', '', '', '', '', '', '', '', '', '', '', '', '', '', '', '', '', '', '', '', '', '', '', '', '', '', '', '', '', '', '', '', '', '', '', '', '', '', '', '', '', '']\n",
      "\n",
      "Predict output\n",
      "['O', 'O', 'O', 'O', 'O', 'O', 'O', 'O', 'O', 'O', 'O', 'B-SENS', 'I-SENS', 'O', 'O', 'O', 'B-PERC', 'I-PERC', 'O', 'O', 'O', 'O', 'O', 'O', 'O', 'O', 'O', 'O', 'O', 'O', 'O', 'O', 'O', 'O', 'O', 'O', 'O', 'O', 'O', 'O', 'O', 'O', 'O', 'O', 'O', 'O', 'O', 'O', 'O', 'O', 'O', 'O', 'O', 'O', 'O', 'O', 'O', 'O', 'O', 'O', 'O', 'B-PERC', 'O', 'O', 'O', 'O', 'O']\n",
      "['', '', '', '', '', '', '', '', '', '', '', ['Feel-0-A'], ['Feel-0-A'], '', '', '', ['Feel-0-B'], ['Feel-0-B'], '', '', '', '', '', '', '', '', '', '', '', '', '', '', '', '', '', '', '', '', '', '', '', '', '', '', '', '', '', '', '', '', '', '', '', '', '', '', '', '', '', '', '', [], '', '', '', '', '']\n",
      "\n",
      "True\n",
      "[(11, 12, 2), (16, 17, 4)]\n",
      "[((11, 12, 2), (16, 17, 4), 2)]\n",
      "predict\n",
      "[(11, 12, 2), (16, 17, 4), (61, 61, 4)]\n",
      "[((11, 12, 2), (16, 17, 4), 2)]\n",
      "=====================================\n",
      "['C', 'L', 'A', 'R', 'I', 'N', 'S', '克', '蘭', '詩', '煥', '顏', '緊', '緻', '彈', '力', '精', '華', '露', '很', '適', '合', '在', '熱', '死', '人', '的', '夏', '天', '使', '用', ',', '質', '地', '清', '爽', '不', '負', '擔', '又', '蠻', '保', '濕', '的', '是', '很', '值', '得', '推', '薦', '的', '產', '品']\n",
      "['O', 'O', 'O', 'O', 'O', 'O', 'O', 'O', 'O', 'O', 'O', 'O', 'O', 'O', 'O', 'O', 'O', 'O', 'O', 'O', 'O', 'O', 'O', 'O', 'O', 'O', 'O', 'B-SEAS', 'I-SEAS', 'O', 'O', 'O', 'B-SENS', 'I-SENS', 'B-PERC', 'I-PERC', 'O', 'O', 'O', 'O', 'O', 'B-FUNC', 'I-FUNC', 'O', 'O', 'O', 'O', 'O', 'O', 'O', 'O', 'O', 'O']\n",
      "['', '', '', '', '', '', '', '', '', '', '', '', '', '', '', '', '', '', '', '', '', '', '', '', '', '', '', ['ApplyIn-1-B'], ['ApplyIn-1-B'], '', '', '', ['Feel-0-A'], ['Feel-0-A'], ['Feel-0-B'], ['Feel-0-B'], '', '', '', '', '', ['ApplyIn-1-A'], ['ApplyIn-1-A'], '', '', '', '', '', '', '', '', '', '']\n",
      "\n",
      "Predict output\n",
      "['O', 'O', 'O', 'O', 'O', 'O', 'O', 'O', 'O', 'O', 'O', 'O', 'O', 'O', 'O', 'O', 'O', 'O', 'O', 'O', 'O', 'O', 'O', 'O', 'O', 'O', 'O', 'O', 'O', 'O', 'O', 'O', 'B-SENS', 'I-SENS', 'B-PERC', 'I-PERC', 'O', 'O', 'O', 'O', 'O', 'B-FUNC', 'I-FUNC', 'O', 'O', 'O', 'O', 'O', 'O', 'O', 'O', 'O', 'O']\n",
      "['', '', '', '', '', '', '', '', '', '', '', '', '', '', '', '', '', '', '', '', '', '', '', '', '', '', '', '', '', '', '', '', ['Feel-0-A'], ['Feel-0-A'], ['Feel-0-B'], ['Feel-0-B'], '', '', '', '', '', [], [], '', '', '', '', '', '', '', '', '', '']\n",
      "\n",
      "True\n",
      "[(27, 28, 3), (32, 33, 2), (34, 35, 4), (41, 42, 1)]\n",
      "[((32, 33, 2), (34, 35, 4), 2), ((27, 28, 3), (41, 42, 1), 1)]\n",
      "predict\n",
      "[(32, 33, 2), (34, 35, 4), (41, 42, 1)]\n",
      "[((32, 33, 2), (34, 35, 4), 2)]\n",
      "=====================================\n",
      "['保', '濕', '度', '、', '維', '持', '度', ':', '此', '產', '品', '的', '保', '濕', '效', '果', '還', '蠻', '不', '錯', '的', ',', '使', '用', '一', '陣', '子', '後', ',', '臉', '部', '肌', '膚', '光', '澤', '感', '提', '高', '了', ',', '不', '過', '晚', '上', '擦', '過', '1', '-', '2', '小', '時', '後', ',', '感', '覺', '臉', '部', '肌', '膚', '又', '開', '始', '出', '油', '(', '氣', '溫', '大', '約', '在', '2', '2', '-', '2', '6', '度', '上', '下', ')', ',', '對', '油', '性', '肌', '膚', '而', '言', ',', '清', '爽', '度', '稍', '嫌', '不', '足']\n",
      "['B-FUNC', 'I-FUNC', 'I-FUNC', 'O', 'O', 'O', 'O', 'O', 'O', 'O', 'O', 'O', 'B-FUNC', 'I-FUNC', 'O', 'O', 'O', 'O', 'O', 'O', 'O', 'O', 'O', 'O', 'O', 'O', 'O', 'O', 'O', 'O', 'O', 'O', 'O', 'O', 'O', 'O', 'O', 'O', 'O', 'O', 'O', 'O', 'O', 'O', 'O', 'O', 'O', 'O', 'O', 'O', 'O', 'O', 'O', 'O', 'O', 'O', 'O', 'O', 'O', 'O', 'O', 'O', 'O', 'O', 'O', 'O', 'O', 'O', 'O', 'O', 'O', 'O', 'O', 'O', 'O', 'O', 'O', 'O', 'O', 'O', 'O', 'B-STAT', 'I-STAT', 'I-STAT', 'I-STAT', 'O', 'O', 'O', 'O', 'O', 'O', 'O', 'O', 'O', 'O']\n",
      "[[], [], [], '', '', '', '', '', '', '', '', '', [], [], '', '', '', '', '', '', '', '', '', '', '', '', '', '', '', '', '', '', '', '', '', '', '', '', '', '', '', '', '', '', '', '', '', '', '', '', '', '', '', '', '', '', '', '', '', '', '', '', '', '', '', '', '', '', '', '', '', '', '', '', '', '', '', '', '', '', '', [], [], [], [], '', '', '', '', '', '', '', '', '', '']\n",
      "\n",
      "Predict output\n",
      "['B-FUNC', 'I-FUNC', 'I-FUNC', 'O', 'O', 'O', 'O', 'O', 'O', 'O', 'O', 'O', 'B-FUNC', 'I-FUNC', 'O', 'O', 'O', 'O', 'O', 'O', 'O', 'O', 'O', 'O', 'O', 'O', 'O', 'O', 'O', 'O', 'O', 'O', 'O', 'O', 'O', 'O', 'O', 'O', 'O', 'O', 'O', 'O', 'O', 'O', 'O', 'O', 'O', 'O', 'O', 'O', 'O', 'O', 'O', 'O', 'O', 'O', 'O', 'O', 'O', 'O', 'O', 'O', 'O', 'O', 'O', 'O', 'O', 'O', 'O', 'O', 'O', 'O', 'O', 'O', 'O', 'O', 'O', 'O', 'O', 'O', 'O', 'B-STAT', 'I-STAT', 'I-STAT', 'I-STAT', 'O', 'O', 'O', 'O', 'O', 'O', 'O', 'O', 'O', 'O']\n",
      "[[], [], [], '', '', '', '', '', '', '', '', '', [], [], '', '', '', '', '', '', '', '', '', '', '', '', '', '', '', '', '', '', '', '', '', '', '', '', '', '', '', '', '', '', '', '', '', '', '', '', '', '', '', '', '', '', '', '', '', '', '', '', '', '', '', '', '', '', '', '', '', '', '', '', '', '', '', '', '', '', '', [], [], [], [], '', '', '', '', '', '', '', '', '', '']\n",
      "\n",
      "True\n",
      "[(0, 2, 1), (12, 13, 1), (81, 84, 0)]\n",
      "[]\n",
      "predict\n",
      "[(0, 2, 1), (12, 13, 1), (81, 84, 0)]\n",
      "[]\n",
      "=====================================\n",
      "['此', '款', 'B', 'B', '霜', '質', '地', '比', '一', '般', 'B', 'B', '霜', '較', '為', '濃', '稠', ',', '不', '過', '延', '展', '性', '算', '滿', '夠', '的', ',']\n",
      "['O', 'O', 'O', 'O', 'O', 'B-SENS', 'I-SENS', 'O', 'O', 'O', 'O', 'O', 'O', 'O', 'O', 'B-PERC', 'I-PERC', 'O', 'O', 'O', 'O', 'O', 'O', 'O', 'O', 'O', 'O', 'O']\n",
      "['', '', '', '', '', ['Feel-0-A'], ['Feel-0-A'], '', '', '', '', '', '', '', '', ['Feel-0-B'], ['Feel-0-B'], '', '', '', '', '', '', '', '', '', '', '']\n",
      "\n",
      "Predict output\n",
      "['O', 'O', 'O', 'O', 'O', 'B-SENS', 'I-SENS', 'O', 'O', 'O', 'O', 'O', 'O', 'O', 'O', 'B-PERC', 'I-PERC', 'O', 'O', 'O', 'O', 'O', 'O', 'O', 'O', 'O', 'O', 'O']\n",
      "['', '', '', '', '', ['Feel-0-A'], ['Feel-0-A'], '', '', '', '', '', '', '', '', ['Feel-0-B'], ['Feel-0-B'], '', '', '', '', '', '', '', '', '', '', '']\n",
      "\n",
      "True\n",
      "[(5, 6, 2), (15, 16, 4)]\n",
      "[((5, 6, 2), (15, 16, 4), 2)]\n",
      "predict\n",
      "[(5, 6, 2), (15, 16, 4)]\n",
      "[((5, 6, 2), (15, 16, 4), 2)]\n",
      "=====================================\n"
     ]
    },
    {
     "name": "stdout",
     "output_type": "stream",
     "text": [
      "['清', '爽', '質', '地', ',', '吸', '收', '力', '快', ',', '更', '有', '『', '平', '價', 'S', 'K', 'I', 'I', '』', '的', '美', '名']\n",
      "['B-PERC', 'I-PERC', 'B-SENS', 'I-SENS', 'O', 'O', 'O', 'O', 'O', 'O', 'O', 'O', 'O', 'O', 'O', 'O', 'O', 'O', 'O', 'O', 'O', 'O', 'O']\n",
      "[['Feel-0-B'], ['Feel-0-B'], ['Feel-0-A'], ['Feel-0-A'], '', '', '', '', '', '', '', '', '', '', '', '', '', '', '', '', '', '', '']\n",
      "\n",
      "Predict output\n",
      "['B-PERC', 'I-PERC', 'B-SENS', 'I-SENS', 'O', 'O', 'O', 'O', 'O', 'O', 'O', 'O', 'O', 'O', 'O', 'O', 'O', 'O', 'O', 'O', 'O', 'O', 'O']\n",
      "[['Feel-0-B'], ['Feel-0-B'], ['Feel-0-A'], ['Feel-0-A'], '', '', '', '', '', '', '', '', '', '', '', '', '', '', '', '', '', '', '']\n",
      "\n",
      "True\n",
      "[(0, 1, 4), (2, 3, 2)]\n",
      "[((0, 1, 4), (2, 3, 2), 2)]\n",
      "predict\n",
      "[(0, 1, 4), (2, 3, 2)]\n",
      "[((0, 1, 4), (2, 3, 2), 2)]\n",
      "=====================================\n",
      "['我', '覺', '得', '這', '瓶', '保', '溼', '噴', '霧', '是', '夏', '天', '出', '遊', '或', '辦', '公', '室', '必', '備', '的', '好', '東', '西', ',', '推', '薦', '給', '大', '家']\n",
      "['O', 'O', 'O', 'O', 'O', 'B-FUNC', 'I-FUNC', 'O', 'O', 'O', 'B-SEAS', 'I-SEAS', 'O', 'O', 'O', 'O', 'O', 'O', 'O', 'O', 'O', 'O', 'O', 'O', 'O', 'O', 'O', 'O', 'O', 'O']\n",
      "['', '', '', '', '', ['ApplyIn-0-A'], ['ApplyIn-0-A'], '', '', '', ['ApplyIn-0-B'], ['ApplyIn-0-B'], '', '', '', '', '', '', '', '', '', '', '', '', '', '', '', '', '', '']\n",
      "\n",
      "Predict output\n",
      "['O', 'O', 'O', 'O', 'O', 'B-FUNC', 'I-FUNC', 'O', 'O', 'O', 'B-SEAS', 'I-SEAS', 'O', 'O', 'O', 'O', 'O', 'O', 'O', 'O', 'O', 'O', 'O', 'O', 'O', 'O', 'O', 'O', 'O', 'O']\n",
      "['', '', '', '', '', [], [], '', '', '', [], [], '', '', '', '', '', '', '', '', '', '', '', '', '', '', '', '', '', '']\n",
      "\n",
      "True\n",
      "[(5, 6, 1), (10, 11, 3)]\n",
      "[((5, 6, 1), (10, 11, 3), 1)]\n",
      "predict\n",
      "[(5, 6, 1), (10, 11, 3)]\n",
      "[]\n",
      "=====================================\n",
      "['整', '體', '來', '說', '我', '覺', '得', '以', '秋', '天', '來', '說', '是', '還', '算', '不', '錯', '的', '保', '濕', '產', '品', '喔']\n",
      "['O', 'O', 'O', 'O', 'O', 'O', 'O', 'O', 'B-SEAS', 'I-SEAS', 'O', 'O', 'O', 'O', 'O', 'O', 'O', 'O', 'B-FUNC', 'I-FUNC', 'O', 'O', 'O']\n",
      "['', '', '', '', '', '', '', '', ['ApplyIn-0-B'], ['ApplyIn-0-B'], '', '', '', '', '', '', '', '', ['ApplyIn-0-A'], ['ApplyIn-0-A'], '', '', '']\n",
      "\n",
      "Predict output\n",
      "['O', 'O', 'O', 'O', 'O', 'O', 'O', 'O', 'B-SEAS', 'I-SEAS', 'O', 'O', 'O', 'O', 'O', 'O', 'O', 'O', 'B-FUNC', 'I-FUNC', 'O', 'O', 'O']\n",
      "['', '', '', '', '', '', '', '', [], [], '', '', '', '', '', '', '', '', [], [], '', '', '']\n",
      "\n",
      "True\n",
      "[(8, 9, 3), (18, 19, 1)]\n",
      "[((8, 9, 3), (18, 19, 1), 1)]\n",
      "predict\n",
      "[(8, 9, 3), (18, 19, 1)]\n",
      "[]\n",
      "=====================================\n",
      "['使', '用', '後', '很', '快', '就', '吸', '收', '了', ',', '清', '爽', '不', '黏', '膩', ',', '使', '用', '後', '肌', '膚', '柔', '滑', '有', '光', '澤', ',', '保', '濕', '度', '很', '持', '久', ',', '有', '淡', '淡', '的', '香', '氣', '我', '喜', '歡', ',', '大', '致', '上', '來', '說', '是', '不', '錯', '用', '的', '商', '品', ',', '敏', '感', '肌', '也', '適', '用', '喔']\n",
      "['O', 'O', 'O', 'O', 'O', 'O', 'O', 'O', 'O', 'O', 'O', 'O', 'O', 'O', 'O', 'O', 'O', 'O', 'O', 'O', 'O', 'O', 'O', 'O', 'O', 'O', 'O', 'B-FUNC', 'I-FUNC', 'I-FUNC', 'O', 'O', 'O', 'O', 'O', 'O', 'O', 'O', 'O', 'O', 'O', 'O', 'O', 'O', 'O', 'O', 'O', 'O', 'O', 'O', 'O', 'O', 'O', 'O', 'O', 'O', 'O', 'B-STAT', 'I-STAT', 'I-STAT', 'O', 'O', 'O', 'O']\n",
      "['', '', '', '', '', '', '', '', '', '', '', '', '', '', '', '', '', '', '', '', '', '', '', '', '', '', '', ['ApplyTo-0-A'], ['ApplyTo-0-A'], ['ApplyTo-0-A'], '', '', '', '', '', '', '', '', '', '', '', '', '', '', '', '', '', '', '', '', '', '', '', '', '', '', '', ['ApplyTo-0-B'], ['ApplyTo-0-B'], ['ApplyTo-0-B'], '', '', '', '']\n",
      "\n",
      "Predict output\n",
      "['O', 'O', 'O', 'O', 'O', 'O', 'O', 'O', 'O', 'O', 'O', 'O', 'O', 'O', 'O', 'O', 'O', 'O', 'O', 'O', 'O', 'O', 'O', 'O', 'O', 'O', 'O', 'B-FUNC', 'I-FUNC', 'I-FUNC', 'O', 'O', 'O', 'O', 'O', 'O', 'O', 'O', 'O', 'O', 'O', 'O', 'O', 'O', 'O', 'O', 'O', 'O', 'O', 'O', 'O', 'O', 'O', 'O', 'O', 'O', 'O', 'B-STAT', 'I-STAT', 'I-STAT', 'O', 'O', 'O', 'O']\n",
      "['', '', '', '', '', '', '', '', '', '', '', '', '', '', '', '', '', '', '', '', '', '', '', '', '', '', '', [], [], [], '', '', '', '', '', '', '', '', '', '', '', '', '', '', '', '', '', '', '', '', '', '', '', '', '', '', '', [], [], [], '', '', '', '']\n",
      "\n",
      "True\n",
      "[(27, 29, 1), (57, 59, 0)]\n",
      "[((27, 29, 1), (57, 59, 0), 0)]\n",
      "predict\n",
      "[(27, 29, 1), (57, 59, 0)]\n",
      "[]\n",
      "=====================================\n",
      "Batch entity score\n",
      "precision  \t recall  \t fbeta_score  \t\n",
      "(0.958904109589041, 0.9333333333333333, 0.9459459459459458, None)\n",
      "\n",
      "Batch relation score\n",
      "precision  \t recall  \t fbeta_score  \t\n",
      "(0.875, 0.4827586206896552, 0.6222222222222222, None)\n",
      "\n",
      "p_r_fscore\n",
      "precision  \t recall  \t fbeta_score  \t\n",
      "(0.874999999453125, 0.4827586205231867, 0.622222217362963) 14 2 0 15\n",
      "===========================================\n",
      "['使', '用', '後', '不', '僅', '不', '會', '產', '生', '不', '適', ',', '更', '能', '達', '到', '保', '濕', '、', '鎖', '水', '、', '修', '護', '的', '效', '果', '.', '.', '.', '這', '產', '品', '~', '~', '~', '我', '真', '的', '要', '推', '薦', '給', '所', '有', '的', '敏', '感', '肌', '朋', '友']\n",
      "['O', 'O', 'O', 'O', 'O', 'O', 'O', 'O', 'O', 'O', 'O', 'O', 'O', 'O', 'O', 'O', 'B-FUNC', 'I-FUNC', 'O', 'O', 'O', 'O', 'O', 'O', 'O', 'O', 'O', 'O', 'O', 'O', 'O', 'O', 'O', 'O', 'O', 'O', 'O', 'O', 'O', 'O', 'O', 'O', 'O', 'O', 'O', 'O', 'B-STAT', 'I-STAT', 'I-STAT', 'O', 'O']\n",
      "['', '', '', '', '', '', '', '', '', '', '', '', '', '', '', '', ['ApplyTo-0-A'], ['ApplyTo-0-A'], '', '', '', '', '', '', '', '', '', '', '', '', '', '', '', '', '', '', '', '', '', '', '', '', '', '', '', '', ['ApplyTo-0-B'], ['ApplyTo-0-B'], ['ApplyTo-0-B'], '', '']\n",
      "\n",
      "Predict output\n",
      "['O', 'O', 'O', 'O', 'O', 'O', 'O', 'O', 'O', 'O', 'O', 'O', 'O', 'O', 'O', 'O', 'O', 'O', 'O', 'O', 'O', 'O', 'O', 'O', 'O', 'O', 'O', 'O', 'O', 'O', 'O', 'O', 'O', 'O', 'O', 'O', 'O', 'O', 'O', 'O', 'O', 'O', 'O', 'O', 'O', 'O', 'B-STAT', 'I-STAT', 'I-STAT', 'O', 'O']\n",
      "['', '', '', '', '', '', '', '', '', '', '', '', '', '', '', '', '', '', '', '', '', '', '', '', '', '', '', '', '', '', '', '', '', '', '', '', '', '', '', '', '', '', '', '', '', '', [], [], [], '', '']\n",
      "\n",
      "True\n",
      "[(16, 17, 1), (46, 48, 0)]\n",
      "[((16, 17, 1), (46, 48, 0), 0)]\n",
      "predict\n",
      "[(46, 48, 0)]\n",
      "[]\n",
      "=====================================\n",
      "['只', '是', '覺', '得', '在', '冬', '天', ',', '對', '於', '熟', '齡', '肌', '膚', ',', '光', '擦', '這', '乳', '液', '還', '是', '不', '夠', '滋', '潤', ',', '之', '後', '還', '是', '要', '再', '上', '乳', '霜', '才', '夠', '滋', '潤', ',', '覺', '得', '這', '應', '該', '是', '在', '夏', '天', '可', '以', '單', '擦', '的', ',', '可', '以', '長', '時', '間', '維', '持', '保', '濕', '度', '的', '乳', '液']\n",
      "['O', 'O', 'O', 'O', 'O', 'B-SEAS', 'I-SEAS', 'O', 'O', 'O', 'O', 'O', 'O', 'O', 'O', 'O', 'O', 'O', 'O', 'O', 'O', 'O', 'O', 'O', 'O', 'O', 'O', 'O', 'O', 'O', 'O', 'O', 'O', 'O', 'O', 'O', 'O', 'O', 'O', 'O', 'O', 'O', 'O', 'O', 'O', 'O', 'O', 'O', 'B-SEAS', 'I-SEAS', 'O', 'O', 'O', 'O', 'O', 'O', 'O', 'O', 'O', 'O', 'O', 'O', 'O', 'B-FUNC', 'I-FUNC', 'I-FUNC', 'O', 'O', 'O']\n",
      "['', '', '', '', '', [], [], '', '', '', '', '', '', '', '', '', '', '', '', '', '', '', '', '', '', '', '', '', '', '', '', '', '', '', '', '', '', '', '', '', '', '', '', '', '', '', '', '', ['ApplyIn-0-B'], ['ApplyIn-0-B'], '', '', '', '', '', '', '', '', '', '', '', '', '', ['ApplyIn-0-A'], ['ApplyIn-0-A'], ['ApplyIn-0-A'], '', '', '']\n",
      "\n",
      "Predict output\n",
      "['O', 'O', 'O', 'O', 'O', 'B-SEAS', 'I-SEAS', 'O', 'O', 'O', 'O', 'O', 'O', 'O', 'O', 'O', 'O', 'O', 'O', 'O', 'O', 'O', 'O', 'O', 'O', 'O', 'O', 'O', 'O', 'O', 'O', 'O', 'O', 'O', 'O', 'O', 'O', 'O', 'O', 'O', 'O', 'O', 'O', 'O', 'O', 'O', 'O', 'O', 'B-SEAS', 'I-SEAS', 'O', 'O', 'O', 'O', 'O', 'O', 'O', 'O', 'O', 'O', 'O', 'O', 'O', 'B-FUNC', 'I-FUNC', 'I-FUNC', 'O', 'O', 'O']\n",
      "['', '', '', '', '', [], [], '', '', '', '', '', '', '', '', '', '', '', '', '', '', '', '', '', '', '', '', '', '', '', '', '', '', '', '', '', '', '', '', '', '', '', '', '', '', '', '', '', [], [], '', '', '', '', '', '', '', '', '', '', '', '', '', [], [], [], '', '', '']\n",
      "\n",
      "True\n",
      "[(5, 6, 3), (48, 49, 3), (63, 65, 1)]\n",
      "[((48, 49, 3), (63, 65, 1), 1)]\n",
      "predict\n",
      "[(5, 6, 3), (48, 49, 3), (63, 65, 1)]\n",
      "[]\n",
      "=====================================\n",
      "['面', '膜', '精', '華', '液', '質', '地', '非', '常', '清', '爽', ',', '沒', '有', '明', '顯', '香', '味', ',', '精', '華', '液', '質', '地', '保', '濕', '滑', '順', '容', '易', '吸', '收', ',', '敷', '上', '後', '完', '全', '不', '會', '刺', '激', '曬', '後', '敏', '感', '肌', '膚', ',']\n",
      "['O', 'O', 'O', 'O', 'O', 'B-SENS', 'I-SENS', 'O', 'O', 'B-PERC', 'I-PERC', 'O', 'O', 'O', 'O', 'O', 'O', 'O', 'O', 'O', 'O', 'O', 'B-SENS', 'I-SENS', 'B-FUNC', 'I-FUNC', 'B-PERC', 'I-PERC', 'O', 'O', 'O', 'O', 'O', 'O', 'O', 'O', 'O', 'O', 'O', 'O', 'O', 'O', 'O', 'O', 'B-STAT', 'I-STAT', 'I-STAT', 'I-STAT', 'O']\n",
      "['', '', '', '', '', ['Feel-0-A'], ['Feel-0-A'], '', '', ['Feel-0-B'], ['Feel-0-B'], '', '', '', '', '', '', '', '', '', '', '', ['Feel-1-A'], ['Feel-1-A'], ['ApplyTo-2-A'], ['ApplyTo-2-A'], ['Feel-1-B'], ['Feel-1-B'], '', '', '', '', '', '', '', '', '', '', '', '', '', '', '', '', ['ApplyTo-2-B'], ['ApplyTo-2-B'], ['ApplyTo-2-B'], ['ApplyTo-2-B'], '']\n",
      "\n",
      "Predict output\n",
      "['O', 'O', 'O', 'O', 'O', 'B-SENS', 'I-SENS', 'O', 'O', 'B-PERC', 'I-PERC', 'O', 'O', 'O', 'O', 'O', 'O', 'O', 'O', 'O', 'O', 'O', 'O', 'I-SENS', 'B-FUNC', 'I-FUNC', 'B-PERC', 'I-PERC', 'O', 'O', 'O', 'O', 'O', 'O', 'O', 'O', 'O', 'O', 'O', 'O', 'O', 'O', 'O', 'O', 'B-STAT', 'I-STAT', 'I-STAT', 'I-STAT', 'O']\n",
      "['', '', '', '', '', ['Feel-0-A'], ['Feel-0-A'], '', '', ['Feel-0-B'], ['Feel-0-B'], '', '', '', '', '', '', '', '', '', '', '', '', [], [], [], [], [], '', '', '', '', '', '', '', '', '', '', '', '', '', '', '', '', [], [], [], [], '']\n",
      "\n",
      "True\n",
      "[(5, 6, 2), (9, 10, 4), (22, 23, 2), (24, 25, 1), (26, 27, 4), (44, 47, 0)]\n",
      "[((5, 6, 2), (9, 10, 4), 2), ((22, 23, 2), (26, 27, 4), 2), ((24, 25, 1), (44, 47, 0), 0)]\n",
      "predict\n",
      "[(5, 6, 2), (9, 10, 4), (24, 25, 1), (26, 27, 4), (44, 47, 0)]\n",
      "[((5, 6, 2), (9, 10, 4), 2)]\n",
      "=====================================\n"
     ]
    },
    {
     "name": "stdout",
     "output_type": "stream",
     "text": [
      "['攜', '帶', '.', '.', '使', '用', '起', '來', '質', '地', '也', '很', '滑', '順', '容', '易', '塗', '抹', '.', '.', '且', '是', '一', '使', '用', '馬', '上', '達']\n",
      "['O', 'O', 'O', 'O', 'O', 'O', 'O', 'O', 'B-SENS', 'I-SENS', 'O', 'O', 'B-PERC', 'I-PERC', 'O', 'O', 'O', 'O', 'O', 'O', 'O', 'O', 'O', 'O', 'O', 'O', 'O', 'O']\n",
      "['', '', '', '', '', '', '', '', ['Feel-0-A'], ['Feel-0-A'], '', '', ['Feel-0-B'], ['Feel-0-B'], '', '', '', '', '', '', '', '', '', '', '', '', '', '']\n",
      "\n",
      "Predict output\n",
      "['O', 'O', 'O', 'O', 'O', 'O', 'O', 'O', 'B-SENS', 'I-SENS', 'O', 'O', 'B-PERC', 'I-PERC', 'O', 'O', 'O', 'O', 'O', 'O', 'O', 'O', 'O', 'O', 'O', 'O', 'O', 'O']\n",
      "['', '', '', '', '', '', '', '', ['Feel-0-A'], ['Feel-0-A'], '', '', ['Feel-0-B'], ['Feel-0-B'], '', '', '', '', '', '', '', '', '', '', '', '', '', '']\n",
      "\n",
      "True\n",
      "[(8, 9, 2), (12, 13, 4)]\n",
      "[((8, 9, 2), (12, 13, 4), 2)]\n",
      "predict\n",
      "[(8, 9, 2), (12, 13, 4)]\n",
      "[((8, 9, 2), (12, 13, 4), 2)]\n",
      "=====================================\n",
      "['皮', '膚', '的', '保', '濕', '度', '維', '持', '的', '還', '不', '錯', ',', '不', '會', '因', '為', '夏', '天', '用', '控', '油', '型', '的', '彩', '妝', '品', '而', '覺', '得', '臉', '乾']\n",
      "['O', 'O', 'O', 'B-FUNC', 'I-FUNC', 'I-FUNC', 'O', 'O', 'O', 'O', 'O', 'O', 'O', 'O', 'O', 'O', 'O', 'B-SEAS', 'I-SEAS', 'O', 'O', 'O', 'O', 'O', 'O', 'O', 'O', 'O', 'O', 'O', 'O', 'O']\n",
      "['', '', '', ['ApplyIn-0-A'], ['ApplyIn-0-A'], ['ApplyIn-0-A'], '', '', '', '', '', '', '', '', '', '', '', ['ApplyIn-0-B'], ['ApplyIn-0-B'], '', '', '', '', '', '', '', '', '', '', '', '', '']\n",
      "\n",
      "Predict output\n",
      "['O', 'O', 'O', 'B-FUNC', 'I-FUNC', 'I-FUNC', 'O', 'O', 'O', 'O', 'O', 'O', 'O', 'O', 'O', 'O', 'O', 'B-SEAS', 'I-SEAS', 'O', 'B-FUNC', 'I-FUNC', 'O', 'O', 'O', 'O', 'O', 'O', 'O', 'O', 'O', 'O']\n",
      "['', '', '', ['ApplyIn-0-A'], ['ApplyIn-0-A'], ['ApplyIn-0-A'], '', '', '', '', '', '', '', '', '', '', '', ['ApplyIn-0-B'], ['ApplyIn-0-B'], '', [], [], '', '', '', '', '', '', '', '', '', '']\n",
      "\n",
      "True\n",
      "[(3, 5, 1), (17, 18, 3)]\n",
      "[((3, 5, 1), (17, 18, 3), 1)]\n",
      "predict\n",
      "[(3, 5, 1), (17, 18, 3), (20, 21, 1)]\n",
      "[((3, 5, 1), (17, 18, 3), 1)]\n",
      "=====================================\n",
      "['保', '濕', '程', '度', ':', '冬', '天', '使', '用', '夠', '保', '濕', ',', '一', '覺', '到', '天', '亮', '覺', '得', '肌', '膚', '柔', '嫩']\n",
      "['B-FUNC', 'I-FUNC', 'O', 'O', 'O', 'B-SEAS', 'I-SEAS', 'O', 'O', 'O', 'B-FUNC', 'I-FUNC', 'O', 'O', 'O', 'O', 'O', 'O', 'O', 'O', 'O', 'O', 'B-FUNC', 'I-FUNC']\n",
      "[['ApplyIn-0-A'], ['ApplyIn-0-A'], '', '', '', ['ApplyIn-1-B', 'ApplyIn-2-B', 'ApplyIn-0-B'], ['ApplyIn-1-B', 'ApplyIn-2-B', 'ApplyIn-0-B'], '', '', '', ['ApplyIn-1-A'], ['ApplyIn-1-A'], '', '', '', '', '', '', '', '', '', '', ['ApplyIn-2-A'], ['ApplyIn-2-A']]\n",
      "\n",
      "Predict output\n",
      "['B-FUNC', 'I-FUNC', 'O', 'O', 'O', 'B-SEAS', 'I-SEAS', 'O', 'O', 'O', 'B-FUNC', 'I-FUNC', 'O', 'O', 'O', 'O', 'O', 'O', 'O', 'O', 'O', 'O', 'O', 'I-FUNC']\n",
      "[['ApplyIn-0-A'], ['ApplyIn-0-A'], '', '', '', ['ApplyIn-0-B'], ['ApplyIn-0-B'], '', '', '', [], [], '', '', '', '', '', '', '', '', '', '', '', []]\n",
      "\n",
      "True\n",
      "[(0, 1, 1), (5, 6, 3), (10, 11, 1), (22, 23, 1)]\n",
      "[((0, 1, 1), (5, 6, 3), 1), ((5, 6, 3), (10, 11, 1), 1), ((5, 6, 3), (22, 23, 1), 1)]\n",
      "predict\n",
      "[(0, 1, 1), (5, 6, 3), (10, 11, 1)]\n",
      "[((0, 1, 1), (5, 6, 3), 1)]\n",
      "=====================================\n",
      "['倒', '是', '有', '感', '受', '到', '肌', '膚', '保', '濕', '度', ',', '現', '在', '是', '冬', '天', ',', '塗', '過', '本', '產', '品', '後', ',', '上', '妝', '確', '實', '較', '容', '易', '.', '至', '於', '透', '亮', '的', '效', '果', '.', '.', '.', '嗯', '.', '.', '因', '為', '我', '皮', '膚', '蠻', '黝', '黑', '的', ',', '所', '以', '.', '.', '.', '實', '在', '無', '法', '區', '分', '透', '亮', '感', '.', ' ', '吸', '收', '度', '不', '錯', '喔']\n",
      "['O', 'O', 'O', 'O', 'O', 'O', 'O', 'O', 'B-FUNC', 'I-FUNC', 'I-FUNC', 'O', 'O', 'O', 'O', 'B-SEAS', 'I-SEAS', 'O', 'O', 'O', 'O', 'O', 'O', 'O', 'O', 'O', 'O', 'O', 'O', 'O', 'O', 'O', 'O', 'O', 'O', 'O', 'O', 'O', 'O', 'O', 'O', 'O', 'O', 'O', 'O', 'O', 'O', 'O', 'O', 'O', 'O', 'O', 'O', 'O', 'O', 'O', 'O', 'O', 'O', 'O', 'O', 'O', 'O', 'O', 'O', 'O', 'O', 'O', 'O', 'O', 'O', 'O', 'O', 'O', 'O', 'O', 'O', 'O']\n",
      "['', '', '', '', '', '', '', '', ['ApplyIn-0-A'], ['ApplyIn-0-A'], ['ApplyIn-0-A'], '', '', '', '', ['ApplyIn-0-B'], ['ApplyIn-0-B'], '', '', '', '', '', '', '', '', '', '', '', '', '', '', '', '', '', '', '', '', '', '', '', '', '', '', '', '', '', '', '', '', '', '', '', '', '', '', '', '', '', '', '', '', '', '', '', '', '', '', '', '', '', '', '', '', '', '', '', '', '']\n",
      "\n",
      "Predict output\n",
      "['O', 'O', 'O', 'O', 'O', 'O', 'O', 'O', 'B-FUNC', 'I-FUNC', 'I-FUNC', 'O', 'O', 'O', 'O', 'B-SEAS', 'I-SEAS', 'O', 'O', 'O', 'O', 'O', 'O', 'O', 'O', 'O', 'O', 'O', 'O', 'O', 'O', 'O', 'O', 'O', 'O', 'O', 'O', 'O', 'O', 'O', 'O', 'O', 'O', 'O', 'O', 'O', 'O', 'O', 'O', 'O', 'O', 'O', 'O', 'O', 'O', 'O', 'O', 'O', 'O', 'O', 'O', 'O', 'O', 'O', 'O', 'O', 'O', 'O', 'O', 'O', 'O', 'O', 'O', 'O', 'O', 'O', 'O', 'O']\n",
      "['', '', '', '', '', '', '', '', ['ApplyIn-0-A'], ['ApplyIn-0-A'], ['ApplyIn-0-A'], '', '', '', '', ['ApplyIn-0-B'], ['ApplyIn-0-B'], '', '', '', '', '', '', '', '', '', '', '', '', '', '', '', '', '', '', '', '', '', '', '', '', '', '', '', '', '', '', '', '', '', '', '', '', '', '', '', '', '', '', '', '', '', '', '', '', '', '', '', '', '', '', '', '', '', '', '', '', '']\n",
      "\n",
      "True\n",
      "[(8, 10, 1), (15, 16, 3)]\n",
      "[((8, 10, 1), (15, 16, 3), 1)]\n",
      "predict\n",
      "[(8, 10, 1), (15, 16, 3)]\n",
      "[((8, 10, 1), (15, 16, 3), 1)]\n",
      "=====================================\n",
      "['雖', '然', '夏', '天', '到', '了', ',', '但', '保', '濕', '工', '作', '還', '是', '不', '可', '以', '輕', '忽']\n",
      "['O', 'O', 'B-SEAS', 'I-SEAS', 'O', 'O', 'O', 'O', 'O', 'O', 'O', 'O', 'O', 'O', 'O', 'O', 'O', 'O', 'O']\n",
      "['', '', [], [], '', '', '', '', '', '', '', '', '', '', '', '', '', '', '']\n",
      "\n",
      "Predict output\n",
      "['O', 'O', 'B-SEAS', 'I-SEAS', 'O', 'O', 'O', 'O', 'O', 'O', 'O', 'O', 'O', 'O', 'O', 'O', 'O', 'O', 'O']\n",
      "['', '', [], [], '', '', '', '', '', '', '', '', '', '', '', '', '', '', '']\n",
      "\n",
      "True\n",
      "[(2, 3, 3)]\n",
      "[]\n",
      "predict\n",
      "[(2, 3, 3)]\n",
      "[]\n",
      "=====================================\n",
      "['乾', '肌', '我', '本', '人', ',', '在', '化', '妝', '水', '+', '乳', '霜', '晨', '間', '保', '養', '完', '後', ',', '直', '接', '塗', '抹', '這', '瓶', '防', '曬', '乳', '當', '作', '妝', '前', '飾', '底', '乳']\n",
      "['B-STAT', 'I-STAT', 'O', 'O', 'O', 'O', 'O', 'O', 'O', 'O', 'O', 'O', 'O', 'O', 'O', 'O', 'O', 'O', 'O', 'O', 'O', 'O', 'O', 'O', 'O', 'O', 'O', 'O', 'O', 'O', 'O', 'O', 'O', 'O', 'O', 'O']\n",
      "[[], [], '', '', '', '', '', '', '', '', '', '', '', '', '', '', '', '', '', '', '', '', '', '', '', '', '', '', '', '', '', '', '', '', '', '']\n",
      "\n",
      "Predict output\n",
      "['B-STAT', 'I-STAT', 'O', 'O', 'O', 'O', 'O', 'O', 'O', 'O', 'O', 'O', 'O', 'O', 'O', 'O', 'O', 'O', 'O', 'O', 'O', 'O', 'O', 'O', 'O', 'O', 'O', 'O', 'O', 'O', 'O', 'O', 'O', 'O', 'O', 'O']\n",
      "[[], [], '', '', '', '', '', '', '', '', '', '', '', '', '', '', '', '', '', '', '', '', '', '', '', '', '', '', '', '', '', '', '', '', '', '']\n",
      "\n",
      "True\n",
      "[(0, 1, 0)]\n",
      "[]\n",
      "predict\n",
      "[(0, 1, 0)]\n",
      "[]\n",
      "=====================================\n",
      "['乳', '液', '質', '地', '偏', '稠', ',', '不', '是', '很', '稀', '的', '水', '狀', '乳', '液', ',', '不', '過', '蠻', '好', '推', ',', '一', '點', '點', '就', '可', '以', '推', '全', '臉', ',']\n",
      "['O', 'O', 'B-SENS', 'I-SENS', 'O', 'O', 'O', 'O', 'O', 'O', 'O', 'O', 'B-PERC', 'I-PERC', 'O', 'O', 'O', 'O', 'O', 'O', 'O', 'O', 'O', 'O', 'O', 'O', 'O', 'O', 'O', 'O', 'O', 'O', 'O']\n",
      "['', '', ['Feel-0-A'], ['Feel-0-A'], '', '', '', '', '', '', '', '', ['Feel-0-B'], ['Feel-0-B'], '', '', '', '', '', '', '', '', '', '', '', '', '', '', '', '', '', '', '']\n",
      "\n",
      "Predict output\n",
      "['O', 'O', 'B-SENS', 'I-SENS', 'O', 'B-PERC', 'O', 'O', 'O', 'O', 'O', 'O', 'O', 'O', 'O', 'O', 'O', 'O', 'O', 'O', 'O', 'O', 'O', 'O', 'O', 'O', 'O', 'O', 'O', 'O', 'O', 'O', 'O']\n",
      "['', '', [], [], '', [], '', '', '', '', '', '', '', '', '', '', '', '', '', '', '', '', '', '', '', '', '', '', '', '', '', '', '']\n",
      "\n",
      "True\n",
      "[(2, 3, 2), (12, 13, 4)]\n",
      "[((2, 3, 2), (12, 13, 4), 2)]\n",
      "predict\n",
      "[(2, 3, 2), (5, 5, 4)]\n",
      "[]\n",
      "=====================================\n",
      "['保', '濕', '度', '非', '常', '夠', ',', '很', '適', '合', '冬', '天', '使', '用']\n",
      "['B-FUNC', 'I-FUNC', 'I-FUNC', 'O', 'O', 'O', 'O', 'O', 'O', 'O', 'B-SEAS', 'I-SEAS', 'O', 'O']\n",
      "[['ApplyIn-0-A'], ['ApplyIn-0-A'], ['ApplyIn-0-A'], '', '', '', '', '', '', '', ['ApplyIn-0-B'], ['ApplyIn-0-B'], '', '']\n",
      "\n",
      "Predict output\n",
      "['B-FUNC', 'I-FUNC', 'I-FUNC', 'O', 'O', 'O', 'O', 'O', 'O', 'O', 'B-SEAS', 'I-SEAS', 'O', 'O']\n",
      "[['ApplyIn-0-A'], ['ApplyIn-0-A'], ['ApplyIn-0-A'], '', '', '', '', '', '', '', ['ApplyIn-0-B'], ['ApplyIn-0-B'], '', '']\n",
      "\n",
      "True\n",
      "[(0, 2, 1), (10, 11, 3)]\n",
      "[((0, 2, 1), (10, 11, 3), 1)]\n",
      "predict\n",
      "[(0, 2, 1), (10, 11, 3)]\n",
      "[((0, 2, 1), (10, 11, 3), 1)]\n",
      "=====================================\n"
     ]
    },
    {
     "name": "stdout",
     "output_type": "stream",
     "text": [
      "['基', '本', '上', '如', '果', '不', '在', '乎', '它', '的', '味', '道', '比', '較', '不', '那', '麼', '好', '聞', ',', '是', '可', '以', '持', '續', '使', '用', '的', '產', '品', '.', '.']\n",
      "['O', 'O', 'O', 'O', 'O', 'O', 'O', 'O', 'O', 'O', 'B-SENS', 'I-SENS', 'O', 'O', 'O', 'O', 'O', 'B-PERC', 'I-PERC', 'O', 'O', 'O', 'O', 'O', 'O', 'O', 'O', 'O', 'O', 'O', 'O', 'O']\n",
      "['', '', '', '', '', '', '', '', '', '', [], [], '', '', '', '', '', [], [], '', '', '', '', '', '', '', '', '', '', '', '', '']\n",
      "\n",
      "Predict output\n",
      "['O', 'O', 'O', 'O', 'O', 'O', 'O', 'O', 'O', 'O', 'B-SENS', 'I-SENS', 'O', 'O', 'O', 'O', 'O', 'B-PERC', 'I-PERC', 'O', 'O', 'O', 'O', 'O', 'O', 'O', 'O', 'O', 'O', 'O', 'O', 'O']\n",
      "['', '', '', '', '', '', '', '', '', '', ['Feel-0-A'], ['Feel-0-A'], '', '', '', '', '', ['Feel-0-B'], ['Feel-0-B'], '', '', '', '', '', '', '', '', '', '', '', '', '']\n",
      "\n",
      "True\n",
      "[(10, 11, 2), (17, 18, 4)]\n",
      "[]\n",
      "predict\n",
      "[(10, 11, 2), (17, 18, 4)]\n",
      "[((10, 11, 2), (17, 18, 4), 2)]\n",
      "=====================================\n",
      "['雖', '然', '質', '地', '很', '清', '爽', ',']\n",
      "['O', 'O', 'B-SENS', 'I-SENS', 'O', 'B-PERC', 'I-PERC', 'O']\n",
      "['', '', ['Feel-0-A'], ['Feel-0-A'], '', ['Feel-0-B'], ['Feel-0-B'], '']\n",
      "\n",
      "Predict output\n",
      "['O', 'O', 'B-SENS', 'I-SENS', 'O', 'B-PERC', 'I-PERC', 'O']\n",
      "['', '', ['Feel-0-A'], ['Feel-0-A'], '', ['Feel-0-B'], ['Feel-0-B'], '']\n",
      "\n",
      "True\n",
      "[(2, 3, 2), (5, 6, 4)]\n",
      "[((2, 3, 2), (5, 6, 4), 2)]\n",
      "predict\n",
      "[(2, 3, 2), (5, 6, 4)]\n",
      "[((2, 3, 2), (5, 6, 4), 2)]\n",
      "=====================================\n",
      "['淡', '淡', '的', '香', '味', '很', '舒', '服', '質', '地', '延', '展', '性', '不', '錯', '也', '不', '會', '太', '黏', '膩', '不', '過', '保', '溼', '度', '來', '說', '適', '合', '冬', '天', '的', '早', '上', '保', '養', '晚', '上', '可', '能', '不', '夠', '保', '濕', '用', '了', '一', '個', '月', '覺', '得', '膚', '色', '滿', '明', '亮', '的']\n",
      "['O', 'O', 'O', 'O', 'O', 'O', 'O', 'O', 'B-SENS', 'I-SENS', 'O', 'O', 'O', 'O', 'O', 'O', 'O', 'O', 'O', 'B-PERC', 'I-PERC', 'O', 'O', 'B-FUNC', 'I-FUNC', 'O', 'O', 'O', 'O', 'O', 'B-SEAS', 'I-SEAS', 'O', 'O', 'O', 'O', 'O', 'O', 'O', 'O', 'O', 'O', 'O', 'B-FUNC', 'I-FUNC', 'O', 'O', 'O', 'O', 'O', 'O', 'O', 'O', 'O', 'O', 'O', 'O', 'O']\n",
      "['', '', '', '', '', '', '', '', [], [], '', '', '', '', '', '', '', '', '', [], [], '', '', ['ApplyIn-0-A'], ['ApplyIn-0-A'], '', '', '', '', '', ['ApplyIn-0-B'], ['ApplyIn-0-B'], '', '', '', '', '', '', '', '', '', '', '', [], [], '', '', '', '', '', '', '', '', '', '', '', '', '']\n",
      "\n",
      "Predict output\n",
      "['O', 'O', 'O', 'O', 'O', 'O', 'O', 'O', 'B-SENS', 'I-SENS', 'O', 'O', 'O', 'O', 'O', 'O', 'O', 'O', 'O', 'B-PERC', 'I-PERC', 'O', 'O', 'B-FUNC', 'I-FUNC', 'O', 'O', 'O', 'O', 'O', 'B-SEAS', 'I-SEAS', 'O', 'O', 'O', 'O', 'O', 'O', 'O', 'O', 'O', 'O', 'O', 'B-FUNC', 'I-FUNC', 'O', 'O', 'O', 'O', 'O', 'O', 'O', 'O', 'O', 'O', 'O', 'O', 'O']\n",
      "['', '', '', '', '', '', '', '', ['Feel-0-A'], ['Feel-0-A'], '', '', '', '', '', '', '', '', '', ['Feel-0-B'], [], '', '', [], [], '', '', '', '', '', [], [], '', '', '', '', '', '', '', '', '', '', '', [], [], '', '', '', '', '', '', '', '', '', '', '', '', '']\n",
      "\n",
      "True\n",
      "[(8, 9, 2), (19, 20, 4), (23, 24, 1), (30, 31, 3), (43, 44, 1)]\n",
      "[((23, 24, 1), (30, 31, 3), 1)]\n",
      "predict\n",
      "[(8, 9, 2), (19, 20, 4), (23, 24, 1), (30, 31, 3), (43, 44, 1)]\n",
      "[]\n",
      "=====================================\n",
      "['潔', '顏', '霜', '的', '質', '地', '有', '點', '比', '較', '硬', ',', '要', '擠', '出', '來', '跟', '加', '水', '乳', '化', '的', '時', '候', '要', '稍', '稍', '用', '一', '點', '力', '氣', ',', '不', '過', '泡', '沫', '算', '柔', '細', ',', '香', '味', '也', '很', '宜', '人', ',', '洗', '後', '香', '味', '不', '會', '殘', '留', ',', '很', '棒']\n",
      "['O', 'O', 'O', 'O', 'O', 'O', 'O', 'O', 'O', 'O', 'O', 'O', 'O', 'O', 'O', 'O', 'O', 'O', 'O', 'O', 'O', 'O', 'O', 'O', 'O', 'O', 'O', 'O', 'O', 'O', 'O', 'O', 'O', 'O', 'O', 'O', 'O', 'O', 'O', 'O', 'O', 'B-SENS', 'I-SENS', 'O', 'O', 'B-PERC', 'I-PERC', 'O', 'O', 'O', 'B-SENS', 'I-SENS', 'O', 'O', 'O', 'O', 'O', 'O', 'O']\n",
      "['', '', '', '', '', '', '', '', '', '', '', '', '', '', '', '', '', '', '', '', '', '', '', '', '', '', '', '', '', '', '', '', '', '', '', '', '', '', '', '', '', ['Feel-0-A'], ['Feel-0-A'], '', '', ['Feel-0-B'], ['Feel-0-B'], '', '', '', [], [], '', '', '', '', '', '', '']\n",
      "\n",
      "Predict output\n",
      "['O', 'O', 'O', 'O', 'B-SENS', 'I-SENS', 'O', 'O', 'O', 'O', 'O', 'O', 'O', 'O', 'O', 'O', 'O', 'O', 'O', 'O', 'O', 'O', 'O', 'O', 'O', 'O', 'O', 'O', 'O', 'O', 'O', 'O', 'O', 'O', 'O', 'O', 'O', 'O', 'O', 'O', 'O', 'B-SENS', 'I-SENS', 'O', 'O', 'B-PERC', 'I-PERC', 'O', 'O', 'O', 'B-SENS', 'I-SENS', 'O', 'O', 'O', 'O', 'O', 'O', 'O']\n",
      "['', '', '', '', [], [], '', '', '', '', '', '', '', '', '', '', '', '', '', '', '', '', '', '', '', '', '', '', '', '', '', '', '', '', '', '', '', '', '', '', '', ['Feel-0-A'], ['Feel-0-A'], '', '', ['Feel-0-B'], ['Feel-0-B'], '', '', '', [], [], '', '', '', '', '', '', '']\n",
      "\n",
      "True\n",
      "[(41, 42, 2), (45, 46, 4), (50, 51, 2)]\n",
      "[((41, 42, 2), (45, 46, 4), 2)]\n",
      "predict\n",
      "[(4, 5, 2), (41, 42, 2), (45, 46, 4), (50, 51, 2)]\n",
      "[((41, 42, 2), (45, 46, 4), 2)]\n",
      "=====================================\n",
      "['香', '味', '清', '淡', ',', '使', '用', '起', '來', '很', '水', '潤', ',', '又', '不', '黏', '膩', ',', '比', '一', '般', '保', '濕', '化', '妝', '水', '保', '濕', ',', '卻', '又', '不', '會', '使', '皮', '膚', '出', '油', ',', '很', '好', '用']\n",
      "['O', 'O', 'O', 'O', 'O', 'O', 'O', 'O', 'O', 'O', 'O', 'O', 'O', 'O', 'O', 'O', 'O', 'O', 'O', 'O', 'O', 'O', 'O', 'O', 'O', 'O', 'O', 'O', 'O', 'O', 'O', 'O', 'O', 'O', 'B-STAT', 'I-STAT', 'I-STAT', 'I-STAT', 'O', 'O', 'O', 'O']\n",
      "['', '', '', '', '', '', '', '', '', '', '', '', '', '', '', '', '', '', '', '', '', '', '', '', '', '', '', '', '', '', '', '', '', '', [], [], [], [], '', '', '', '']\n",
      "\n",
      "Predict output\n",
      "['B-SENS', 'I-SENS', 'O', 'O', 'O', 'O', 'O', 'O', 'O', 'O', 'B-PERC', 'I-PERC', 'O', 'O', 'O', 'B-PERC', 'I-PERC', 'O', 'O', 'O', 'O', 'B-FUNC', 'I-FUNC', 'O', 'O', 'O', 'B-FUNC', 'I-FUNC', 'O', 'O', 'O', 'O', 'O', 'O', 'B-STAT', 'I-STAT', 'I-STAT', 'I-STAT', 'O', 'O', 'O', 'O']\n",
      "[[], [], '', '', '', '', '', '', '', '', [], [], '', '', '', [], [], '', '', '', '', [], [], '', '', '', [], [], '', '', '', '', '', '', [], [], [], [], '', '', '', '']\n",
      "\n",
      "True\n",
      "[(34, 37, 0)]\n",
      "[]\n",
      "predict\n",
      "[(0, 1, 2), (10, 11, 4), (15, 16, 4), (21, 22, 1), (26, 27, 1), (34, 37, 0)]\n",
      "[]\n",
      "=====================================\n",
      "['想', '說', '對', '於', '我', '冬', '天', '超', '級', '乾', '的', '臉', '保', '濕', '效', '果', '真', '的', '足', '夠', '嗎']\n",
      "['O', 'O', 'O', 'O', 'O', 'B-SEAS', 'I-SEAS', 'O', 'O', 'O', 'O', 'O', 'B-FUNC', 'I-FUNC', 'O', 'O', 'O', 'O', 'O', 'O', 'O']\n",
      "['', '', '', '', '', [], [], '', '', '', '', '', [], [], '', '', '', '', '', '', '']\n",
      "\n",
      "Predict output\n",
      "['O', 'O', 'O', 'O', 'O', 'B-SEAS', 'I-SEAS', 'O', 'O', 'O', 'O', 'O', 'B-FUNC', 'I-FUNC', 'O', 'O', 'O', 'O', 'O', 'O', 'O']\n",
      "['', '', '', '', '', ['ApplyIn-0-B'], ['ApplyIn-0-B'], '', '', '', '', '', ['ApplyIn-0-A'], [], '', '', '', '', '', '', '']\n",
      "\n",
      "True\n",
      "[(5, 6, 3), (12, 13, 1)]\n",
      "[]\n",
      "predict\n",
      "[(5, 6, 3), (12, 13, 1)]\n",
      "[]\n",
      "=====================================\n",
      "['實', '際', '塗', '抹', '於', '唇', '上', '發', '現', '塗', '抹', '時', '的', '觸', '感', '很', '滑', '順']\n",
      "['O', 'O', 'O', 'O', 'O', 'O', 'O', 'O', 'O', 'O', 'O', 'O', 'O', 'B-SENS', 'I-SENS', 'O', 'B-PERC', 'I-PERC']\n",
      "['', '', '', '', '', '', '', '', '', '', '', '', '', ['Feel-0-A'], ['Feel-0-A'], '', ['Feel-0-B'], ['Feel-0-B']]\n",
      "\n",
      "Predict output\n",
      "['O', 'O', 'O', 'O', 'O', 'O', 'O', 'O', 'O', 'O', 'O', 'O', 'O', 'B-SENS', 'I-SENS', 'O', 'B-PERC', 'I-PERC']\n",
      "['', '', '', '', '', '', '', '', '', '', '', '', '', ['Feel-0-A'], ['Feel-0-A'], '', ['Feel-0-B'], ['Feel-0-B']]\n",
      "\n",
      "True\n",
      "[(13, 14, 2), (16, 17, 4)]\n",
      "[((13, 14, 2), (16, 17, 4), 2)]\n",
      "predict\n",
      "[(13, 14, 2), (16, 17, 4)]\n",
      "[((13, 14, 2), (16, 17, 4), 2)]\n",
      "=====================================\n",
      "['所', '以', '夏', '天', '除', '了', '控', '油', '外', '也', '需', '要', '保', '濕', '.', '.', '.']\n",
      "['O', 'O', 'B-SEAS', 'I-SEAS', 'O', 'O', 'O', 'O', 'O', 'O', 'O', 'O', 'O', 'O', 'O', 'O', 'O']\n",
      "['', '', [], [], '', '', '', '', '', '', '', '', '', '', '', '', '']\n",
      "\n",
      "Predict output\n",
      "['O', 'O', 'B-SEAS', 'I-SEAS', 'O', 'O', 'B-FUNC', 'I-FUNC', 'O', 'O', 'O', 'O', 'B-FUNC', 'I-FUNC', 'O', 'O', 'O']\n",
      "['', '', [], [], '', '', [], [], '', '', '', '', [], [], '', '', '']\n",
      "\n",
      "True\n",
      "[(2, 3, 3)]\n",
      "[]\n",
      "predict\n",
      "[(2, 3, 3), (6, 7, 1), (12, 13, 1)]\n",
      "[]\n",
      "=====================================\n",
      "['凍', '膜', '的', '質', '地', '很', '濃', '稠', ',']\n",
      "['O', 'O', 'O', 'B-SENS', 'I-SENS', 'O', 'B-PERC', 'I-PERC', 'O']\n",
      "['', '', '', ['Feel-0-A'], ['Feel-0-A'], '', ['Feel-0-B'], ['Feel-0-B'], '']\n",
      "\n",
      "Predict output\n",
      "['O', 'O', 'O', 'B-SENS', 'I-SENS', 'O', 'B-PERC', 'I-PERC', 'O']\n",
      "['', '', '', ['Feel-0-A'], ['Feel-0-A'], '', ['Feel-0-B'], ['Feel-0-B'], '']\n",
      "\n",
      "True\n",
      "[(3, 4, 2), (6, 7, 4)]\n",
      "[((3, 4, 2), (6, 7, 4), 2)]\n",
      "predict\n",
      "[(3, 4, 2), (6, 7, 4)]\n",
      "[((3, 4, 2), (6, 7, 4), 2)]\n",
      "=====================================\n",
      "['冬', '天', '使', '用', '這', '瓶', '剛', '剛', '好', ',', '很', '好', '吸', '收', ',', '保', '溼', '度', '還', '可', '以', ',', '也', '不', '會', '油', '油', '的']\n",
      "['B-SEAS', 'I-SEAS', 'O', 'O', 'O', 'O', 'O', 'O', 'O', 'O', 'O', 'O', 'O', 'O', 'O', 'B-FUNC', 'I-FUNC', 'O', 'O', 'O', 'O', 'O', 'O', 'O', 'O', 'O', 'O', 'O']\n",
      "[['ApplyIn-0-B'], ['ApplyIn-0-B'], '', '', '', '', '', '', '', '', '', '', '', '', '', ['ApplyIn-0-A'], ['ApplyIn-0-A'], '', '', '', '', '', '', '', '', '', '', '']\n",
      "\n",
      "Predict output\n",
      "['B-SEAS', 'I-SEAS', 'O', 'O', 'O', 'O', 'O', 'O', 'O', 'O', 'O', 'O', 'O', 'O', 'O', 'B-FUNC', 'I-FUNC', 'O', 'O', 'O', 'O', 'O', 'O', 'O', 'O', 'O', 'O', 'O']\n",
      "[['ApplyIn-0-B'], ['ApplyIn-0-B'], '', '', '', '', '', '', '', '', '', '', '', '', '', ['ApplyIn-0-A'], ['ApplyIn-0-A'], '', '', '', '', '', '', '', '', '', '', '']\n",
      "\n",
      "True\n",
      "[(0, 1, 3), (15, 16, 1)]\n",
      "[((0, 1, 3), (15, 16, 1), 1)]\n",
      "predict\n",
      "[(0, 1, 3), (15, 16, 1)]\n",
      "[((0, 1, 3), (15, 16, 1), 1)]\n",
      "=====================================\n"
     ]
    },
    {
     "name": "stdout",
     "output_type": "stream",
     "text": [
      "['氣', '味', '方', '面', ',', '這', '款', '時', '光', '無', '痕', '緊', '緻', '精', '粹', '剛', '擠', '出', '來', '猛', '然', '一', '聞', '我', '以', '為', '是', '甜', '美', '的', '果', '香', ',', '不', '過', '細', '聞', '發', '現', '有', '點', '像', '麝', '香', '之', '類', '比', '較', '強', '的', '氣', '味', ',', '雖', '然', '不', '是', '我', '個', '人', '特', '別', '偏', '好', '的', '味', '道', ',', '不', '過', '並', '不', '是', '嗆', '人', '的', '濃', '香', ',', '在', '塗', '抹', '時', '味', '道', '不', '會', '太', '濃', ',', '所', '以', '還', 'O', 'K', '啦']\n",
      "['B-SENS', 'I-SENS', 'O', 'O', 'O', 'O', 'O', 'O', 'O', 'O', 'O', 'O', 'O', 'O', 'O', 'O', 'O', 'O', 'O', 'O', 'O', 'O', 'O', 'O', 'O', 'O', 'O', 'O', 'O', 'O', 'B-PERC', 'I-PERC', 'O', 'O', 'O', 'O', 'O', 'O', 'O', 'O', 'O', 'O', 'B-PERC', 'I-PERC', 'O', 'O', 'O', 'O', 'O', 'O', 'B-SENS', 'I-SENS', 'O', 'O', 'O', 'O', 'O', 'O', 'O', 'O', 'O', 'O', 'O', 'O', 'O', 'B-SENS', 'I-SENS', 'O', 'O', 'O', 'O', 'O', 'O', 'B-PERC', 'O', 'O', 'O', 'O', 'O', 'O', 'O', 'O', 'O', 'B-SENS', 'I-SENS', 'O', 'O', 'O', 'B-PERC', 'O', 'O', 'O', 'O', 'O', 'O', 'O']\n",
      "[[], [], '', '', '', '', '', '', '', '', '', '', '', '', '', '', '', '', '', '', '', '', '', '', '', '', '', '', '', '', [], [], '', '', '', '', '', '', '', '', '', '', ['Feel-0-B'], ['Feel-0-B'], '', '', '', '', '', '', ['Feel-0-A'], ['Feel-0-A'], '', '', '', '', '', '', '', '', '', '', '', '', '', [], [], '', '', '', '', '', '', [], '', '', '', '', '', '', '', '', '', [], [], '', '', '', [], '', '', '', '', '', '', '']\n",
      "\n",
      "Predict output\n",
      "['B-SENS', 'I-SENS', 'O', 'O', 'O', 'O', 'O', 'O', 'O', 'O', 'O', 'B-FUNC', 'I-FUNC', 'O', 'O', 'O', 'O', 'O', 'O', 'O', 'O', 'O', 'O', 'O', 'O', 'O', 'O', 'O', 'O', 'O', 'O', 'O', 'O', 'O', 'O', 'B-PERC', 'I-PERC', 'O', 'O', 'O', 'O', 'O', 'O', 'O', 'O', 'O', 'O', 'O', 'O', 'O', 'B-SENS', 'I-SENS', 'O', 'O', 'O', 'O', 'O', 'O', 'O', 'O', 'O', 'O', 'O', 'O', 'O', 'B-SENS', 'I-SENS', 'O', 'O', 'O', 'O', 'O', 'O', 'B-PERC', 'I-PERC', 'O', 'B-PERC', 'I-PERC', 'O', 'O', 'O', 'O', 'O', 'B-SENS', 'I-SENS', 'O', 'O', 'O', 'B-PERC', 'O', 'O', 'O', 'O', 'O', 'O', 'O']\n",
      "[['Feel-1-A', 'Feel-0-A'], ['Feel-1-A', 'Feel-0-A'], '', '', '', '', '', '', '', '', '', [], [], '', '', '', '', '', '', '', '', '', '', '', '', '', '', '', '', '', '', '', '', '', '', [], [], '', '', '', '', '', '', '', '', '', '', '', '', '', [], [], '', '', '', '', '', '', '', '', '', '', '', '', '', [], [], '', '', '', '', '', '', '', '', '', [], [], '', '', '', '', '', [], [], '', '', '', '', '', '', '', '', '', '', '']\n",
      "\n",
      "True\n",
      "[(0, 1, 2), (30, 31, 4), (42, 43, 4), (50, 51, 2), (65, 66, 2), (73, 73, 4), (83, 84, 2), (88, 88, 4)]\n",
      "[((42, 43, 4), (50, 51, 2), 2)]\n",
      "predict\n",
      "[(0, 1, 2), (11, 12, 1), (35, 36, 4), (50, 51, 2), (65, 66, 2), (73, 74, 4), (76, 77, 4), (83, 84, 2), (88, 88, 4)]\n",
      "[]\n",
      "=====================================\n",
      "['質', '地', ':', '液', '狀']\n",
      "['B-SENS', 'I-SENS', 'O', 'B-PERC', 'I-PERC']\n",
      "[['Feel-0-A'], ['Feel-0-A'], '', ['Feel-0-B'], ['Feel-0-B']]\n",
      "\n",
      "Predict output\n",
      "['B-SENS', 'I-SENS', 'O', 'B-PERC', 'I-PERC']\n",
      "[['Feel-0-A'], ['Feel-0-A'], '', ['Feel-0-B'], ['Feel-0-B']]\n",
      "\n",
      "True\n",
      "[(0, 1, 2), (3, 4, 4)]\n",
      "[((0, 1, 2), (3, 4, 4), 2)]\n",
      "predict\n",
      "[(0, 1, 2), (3, 4, 4)]\n",
      "[((0, 1, 2), (3, 4, 4), 2)]\n",
      "=====================================\n",
      "['擦', '在', '臉', '上', '只', '有', '感', '覺', '到', '舒', '服', ',', '真', '的', '是', '一', '款', '春', '夏', '換', '季', '及', '夏', '天', '冷', '氣', '房', '中', '不', '可', '或', '缺', '的', '保', '濕', '產', '品']\n",
      "['O', 'O', 'O', 'O', 'O', 'O', 'O', 'O', 'O', 'O', 'O', 'O', 'O', 'O', 'O', 'O', 'O', 'O', 'O', 'O', 'O', 'O', 'B-SEAS', 'I-SEAS', 'O', 'O', 'O', 'O', 'O', 'O', 'O', 'O', 'O', 'B-FUNC', 'I-FUNC', 'O', 'O']\n",
      "['', '', '', '', '', '', '', '', '', '', '', '', '', '', '', '', '', '', '', '', '', '', ['ApplyIn-0-B'], ['ApplyIn-0-B'], '', '', '', '', '', '', '', '', '', ['ApplyIn-0-A'], ['ApplyIn-0-A'], '', '']\n",
      "\n",
      "Predict output\n",
      "['O', 'O', 'O', 'O', 'O', 'O', 'O', 'O', 'O', 'O', 'O', 'O', 'O', 'O', 'O', 'O', 'O', 'O', 'O', 'O', 'O', 'O', 'B-SEAS', 'I-SEAS', 'O', 'O', 'O', 'O', 'O', 'O', 'O', 'O', 'O', 'B-FUNC', 'I-FUNC', 'O', 'O']\n",
      "['', '', '', '', '', '', '', '', '', '', '', '', '', '', '', '', '', '', '', '', '', '', [], [], '', '', '', '', '', '', '', '', '', [], [], '', '']\n",
      "\n",
      "True\n",
      "[(22, 23, 3), (33, 34, 1)]\n",
      "[((22, 23, 3), (33, 34, 1), 1)]\n",
      "predict\n",
      "[(22, 23, 3), (33, 34, 1)]\n",
      "[]\n",
      "=====================================\n",
      "['倒', '出', '來', '後', ',', '為', '透', '明', '質', '地', ',', '偏', '稠', '精', '華', '液', '狀']\n",
      "['O', 'O', 'O', 'O', 'O', 'O', 'O', 'O', 'B-SENS', 'I-SENS', 'O', 'O', 'O', 'B-PERC', 'I-PERC', 'I-PERC', 'I-PERC']\n",
      "['', '', '', '', '', '', '', '', ['Feel-0-A'], ['Feel-0-A'], '', '', '', ['Feel-0-B'], ['Feel-0-B'], ['Feel-0-B'], ['Feel-0-B']]\n",
      "\n",
      "Predict output\n",
      "['O', 'O', 'O', 'O', 'O', 'O', 'O', 'O', 'B-SENS', 'I-SENS', 'O', 'O', 'B-PERC', 'I-PERC', 'O', 'B-PERC', 'I-PERC']\n",
      "['', '', '', '', '', '', '', '', ['Feel-1-A', 'Feel-0-A'], ['Feel-1-A', 'Feel-0-A'], '', '', ['Feel-0-B'], ['Feel-0-B'], '', ['Feel-1-B'], ['Feel-1-B']]\n",
      "\n",
      "True\n",
      "[(8, 9, 2), (13, 16, 4)]\n",
      "[((8, 9, 2), (13, 16, 4), 2)]\n",
      "predict\n",
      "[(8, 9, 2), (12, 13, 4), (15, 16, 4)]\n",
      "[((8, 9, 2), (12, 13, 4), 2), ((8, 9, 2), (15, 16, 4), 2)]\n",
      "=====================================\n",
      "['第', '二', '天', '清', '晨', ',', '我', '還', '刻', '意', '照', '鏡', '子', ',', '覺', '得', '臉', '比', '較', '亮', '了', '我', '想', '這', '是', '夏', '天', '的', '一', '項', '保', '養', '必', '備', '品', '會', '考', '慮', '去', '買', '正', '品', '使', '用']\n",
      "['O', 'O', 'O', 'O', 'O', 'O', 'O', 'O', 'O', 'O', 'O', 'O', 'O', 'O', 'O', 'O', 'O', 'O', 'O', 'O', 'O', 'O', 'O', 'O', 'O', 'B-SEAS', 'I-SEAS', 'O', 'O', 'O', 'O', 'O', 'O', 'O', 'O', 'O', 'O', 'O', 'O', 'O', 'O', 'O', 'O', 'O']\n",
      "['', '', '', '', '', '', '', '', '', '', '', '', '', '', '', '', '', '', '', '', '', '', '', '', '', [], [], '', '', '', '', '', '', '', '', '', '', '', '', '', '', '', '', '']\n",
      "\n",
      "Predict output\n",
      "['O', 'O', 'O', 'O', 'O', 'O', 'O', 'O', 'O', 'O', 'O', 'O', 'O', 'O', 'O', 'O', 'O', 'O', 'O', 'O', 'O', 'O', 'O', 'O', 'O', 'B-SEAS', 'I-SEAS', 'O', 'O', 'O', 'O', 'O', 'O', 'O', 'O', 'O', 'O', 'O', 'O', 'O', 'O', 'O', 'O', 'O']\n",
      "['', '', '', '', '', '', '', '', '', '', '', '', '', '', '', '', '', '', '', '', '', '', '', '', '', [], [], '', '', '', '', '', '', '', '', '', '', '', '', '', '', '', '', '']\n",
      "\n",
      "True\n",
      "[(25, 26, 3)]\n",
      "[]\n",
      "predict\n",
      "[(25, 26, 3)]\n",
      "[]\n",
      "=====================================\n",
      "['使', '用', '起', '來', '感', '覺', '蠻', '保', '濕', '滋', '潤', '的', ',', '對', '於', '現', '在', '秋', '天', '季', '節', ',']\n",
      "['O', 'O', 'O', 'O', 'O', 'O', 'O', 'B-FUNC', 'I-FUNC', 'O', 'O', 'O', 'O', 'O', 'O', 'O', 'O', 'B-SEAS', 'I-SEAS', 'O', 'O', 'O']\n",
      "['', '', '', '', '', '', '', ['ApplyIn-0-A'], ['ApplyIn-0-A'], '', '', '', '', '', '', '', '', ['ApplyIn-0-B'], ['ApplyIn-0-B'], '', '', '']\n",
      "\n",
      "Predict output\n",
      "['O', 'O', 'O', 'O', 'O', 'O', 'O', 'B-FUNC', 'I-FUNC', 'O', 'O', 'O', 'O', 'O', 'O', 'O', 'O', 'B-SEAS', 'I-SEAS', 'O', 'O', 'O']\n",
      "['', '', '', '', '', '', '', ['ApplyIn-0-A'], ['ApplyIn-0-A'], '', '', '', '', '', '', '', '', ['ApplyIn-0-B'], ['ApplyIn-0-B'], '', '', '']\n",
      "\n",
      "True\n",
      "[(7, 8, 1), (17, 18, 3)]\n",
      "[((7, 8, 1), (17, 18, 3), 1)]\n",
      "predict\n",
      "[(7, 8, 1), (17, 18, 3)]\n",
      "[((7, 8, 1), (17, 18, 3), 1)]\n",
      "=====================================\n",
      "['臉', '的', '光', '澤', '很', '好', ',', '彈', '力', '也', '不', '錯', ',', '而', '且', '即', '將', '邁', '入', '冬', '季', '的', '氣', '溫', ',', '已', '經', '需', '要', '做', '多', '一', '些', '滋', '潤', '臉', '部', '的', '保', '養', '手', '續']\n",
      "['O', 'O', 'O', 'O', 'O', 'O', 'O', 'O', 'O', 'O', 'O', 'O', 'O', 'O', 'O', 'O', 'O', 'O', 'O', 'B-SEAS', 'I-SEAS', 'O', 'O', 'O', 'O', 'O', 'O', 'O', 'O', 'O', 'O', 'O', 'O', 'O', 'O', 'O', 'O', 'O', 'O', 'O', 'O', 'O']\n",
      "['', '', '', '', '', '', '', '', '', '', '', '', '', '', '', '', '', '', '', [], [], '', '', '', '', '', '', '', '', '', '', '', '', '', '', '', '', '', '', '', '', '']\n",
      "\n",
      "Predict output\n",
      "['O', 'O', 'O', 'O', 'O', 'O', 'O', 'O', 'O', 'O', 'O', 'O', 'O', 'O', 'O', 'O', 'O', 'O', 'O', 'B-SEAS', 'I-SEAS', 'O', 'O', 'O', 'O', 'O', 'O', 'O', 'O', 'O', 'O', 'O', 'O', 'O', 'O', 'O', 'O', 'O', 'B-FUNC', 'I-FUNC', 'O', 'O']\n",
      "['', '', '', '', '', '', '', '', '', '', '', '', '', '', '', '', '', '', '', [], [], '', '', '', '', '', '', '', '', '', '', '', '', '', '', '', '', '', [], [], '', '']\n",
      "\n",
      "True\n",
      "[(19, 20, 3)]\n",
      "[]\n",
      "predict\n",
      "[(19, 20, 3), (38, 39, 1)]\n",
      "[]\n",
      "=====================================\n"
     ]
    },
    {
     "name": "stdout",
     "output_type": "stream",
     "text": [
      "['質', '地', '也', '不', '會', '太', '黏', '.', '.', '.', '至', '少', '出', '門', '不', '會', '沾', '的', '嘴', '唇', '都', '是', '砂', '子', '.', '.', '.']\n",
      "['B-SENS', 'I-SENS', 'O', 'O', 'O', 'O', 'B-PERC', 'O', 'O', 'O', 'O', 'O', 'O', 'O', 'O', 'O', 'O', 'O', 'O', 'O', 'O', 'O', 'O', 'O', 'O', 'O', 'O']\n",
      "[[], [], '', '', '', '', [], '', '', '', '', '', '', '', '', '', '', '', '', '', '', '', '', '', '', '', '']\n",
      "\n",
      "Predict output\n",
      "['B-SENS', 'I-SENS', 'O', 'O', 'O', 'O', 'B-PERC', 'I-PERC', 'O', 'O', 'O', 'O', 'O', 'O', 'O', 'O', 'O', 'O', 'O', 'O', 'O', 'O', 'O', 'O', 'O', 'O', 'O']\n",
      "[['Feel-0-A'], ['Feel-0-A'], '', '', '', '', ['Feel-0-B'], [], '', '', '', '', '', '', '', '', '', '', '', '', '', '', '', '', '', '', '']\n",
      "\n",
      "True\n",
      "[(0, 1, 2), (6, 6, 4)]\n",
      "[]\n",
      "predict\n",
      "[(0, 1, 2), (6, 7, 4)]\n",
      "[]\n",
      "=====================================\n",
      "['香', '味', '很', '濃', '郁']\n",
      "['B-SENS', 'I-SENS', 'O', 'B-PERC', 'I-PERC']\n",
      "[['Feel-0-A'], ['Feel-0-A'], '', ['Feel-0-B'], ['Feel-0-B']]\n",
      "\n",
      "Predict output\n",
      "['B-SENS', 'I-SENS', 'O', 'B-PERC', 'I-PERC']\n",
      "[['Feel-0-A'], ['Feel-0-A'], '', ['Feel-0-B'], ['Feel-0-B']]\n",
      "\n",
      "True\n",
      "[(0, 1, 2), (3, 4, 4)]\n",
      "[((0, 1, 2), (3, 4, 4), 2)]\n",
      "predict\n",
      "[(0, 1, 2), (3, 4, 4)]\n",
      "[((0, 1, 2), (3, 4, 4), 2)]\n",
      "=====================================\n",
      "['使', '用', '感', '吸', '收', '度', '佳', ',', '好', '推', '展', '均', '勻', ',', '用', '量', '省', ',', '質', '地', '觸', '感', ',', '不', '油', '膩', ',', '不', '黏', '膩', ',', '細', '膩', '滑', '順', ',']\n",
      "['O', 'O', 'O', 'O', 'O', 'O', 'O', 'O', 'O', 'O', 'O', 'O', 'O', 'O', 'O', 'O', 'O', 'O', 'B-SENS', 'I-SENS', 'B-SENS', 'I-SENS', 'O', 'O', 'O', 'O', 'O', 'O', 'B-PERC', 'I-PERC', 'O', 'B-PERC', 'I-PERC', 'B-PERC', 'I-PERC', 'O']\n",
      "['', '', '', '', '', '', '', '', '', '', '', '', '', '', '', '', '', '', ['Feel-1-A', 'Feel-0-A'], ['Feel-1-A', 'Feel-0-A'], [], [], '', '', '', '', '', '', [], [], '', '', '', '', '', '']\n",
      "\n",
      "Predict output\n",
      "['O', 'O', 'O', 'O', 'O', 'O', 'O', 'O', 'O', 'O', 'O', 'O', 'O', 'O', 'O', 'O', 'O', 'O', 'B-SENS', 'I-SENS', 'B-SENS', 'I-SENS', 'O', 'O', 'O', 'O', 'O', 'O', 'B-PERC', 'I-PERC', 'O', 'B-PERC', 'I-PERC', 'B-PERC', 'I-PERC', 'O']\n",
      "['', '', '', '', '', '', '', '', '', '', '', '', '', '', '', '', '', '', ['Feel-1-A', 'Feel-0-A'], ['Feel-1-A', 'Feel-0-A'], [], [], '', '', '', '', '', '', '', '', '', [], [], [], [], '']\n",
      "\n",
      "True\n",
      "[(18, 19, 2), (20, 21, 2), (28, 29, 4), (31, 32, 4), (33, 34, 4)]\n",
      "[]\n",
      "predict\n",
      "[(18, 19, 2), (20, 21, 2), (28, 29, 4), (31, 32, 4), (33, 34, 4)]\n",
      "[]\n",
      "=====================================\n",
      "['混', '合', '性', '膚', '質', '的', '我', '洗', '完', '很', '保', '濕', '清', '爽', '不', '油', '膩']\n",
      "['B-STAT', 'I-STAT', 'I-STAT', 'I-STAT', 'I-STAT', 'O', 'O', 'O', 'O', 'O', 'B-FUNC', 'I-FUNC', 'O', 'O', 'O', 'O', 'O']\n",
      "[['ApplyTo-0-B'], ['ApplyTo-0-B'], ['ApplyTo-0-B'], ['ApplyTo-0-B'], ['ApplyTo-0-B'], '', '', '', '', '', ['ApplyTo-0-A'], ['ApplyTo-0-A'], '', '', '', '', '']\n",
      "\n",
      "Predict output\n",
      "['B-STAT', 'I-STAT', 'I-STAT', 'I-STAT', 'I-STAT', 'O', 'O', 'O', 'O', 'O', 'B-FUNC', 'I-FUNC', 'B-FUNC', 'I-PERC', 'O', 'O', 'O']\n",
      "[['ApplyTo-0-B'], ['ApplyTo-0-B'], ['ApplyTo-0-B'], ['ApplyTo-0-B'], ['ApplyTo-0-B'], '', '', '', '', '', ['ApplyTo-0-A'], ['ApplyTo-0-A'], [], [], '', '', '']\n",
      "\n",
      "True\n",
      "[(0, 4, 0), (10, 11, 1)]\n",
      "[((0, 4, 0), (10, 11, 1), 0)]\n",
      "predict\n",
      "[(0, 4, 0), (10, 11, 1), (12, 12, 1)]\n",
      "[((0, 4, 0), (10, 11, 1), 0)]\n",
      "=====================================\n",
      "Batch entity score\n",
      "precision  \t recall  \t fbeta_score  \t\n",
      "(0.7840909090909091, 0.8846153846153846, 0.8313253012048192, None)\n",
      "\n",
      "Batch relation score\n",
      "precision  \t recall  \t fbeta_score  \t\n",
      "(0.8333333333333334, 0.5769230769230769, 0.6818181818181818, None)\n",
      "\n",
      "p_r_fscore\n",
      "precision  \t recall  \t fbeta_score  \t\n",
      "(0.8333333328703704, 0.5769230767011834, 0.6818181766735537) 15 3 0 11\n",
      "===========================================\n",
      "['玫', '瑰', '修', '護', '霜', '的', '質', '感', '是', '比', '較', '濃', '稠', '細', '緻', '水', '嫩', '質', '地', ',', '擦', '在', '手', '上', '不', '會', '有', '水', '水', '也', '不', '會', '滴', '落', ',', '味', '道', '很', '清', '爽', '的', '花', '香', '味', ',', '很', '讓', '人', '喜', '歡', ',', '也', '相', '當', '好', '推', '勻', ',', '而', '且', '很', '快', '就', '吸', '收', ',']\n",
      "['O', 'O', 'O', 'O', 'O', 'O', 'O', 'O', 'O', 'O', 'O', 'B-PERC', 'I-PERC', 'B-PERC', 'I-PERC', 'O', 'O', 'B-SENS', 'I-SENS', 'O', 'O', 'O', 'O', 'O', 'O', 'O', 'O', 'O', 'O', 'O', 'O', 'O', 'O', 'O', 'O', 'O', 'O', 'O', 'O', 'O', 'O', 'O', 'O', 'O', 'O', 'O', 'O', 'O', 'O', 'O', 'O', 'O', 'O', 'O', 'B-PERC', 'I-PERC', 'I-PERC', 'O', 'O', 'O', 'O', 'O', 'O', 'O', 'O', 'O']\n",
      "['', '', '', '', '', '', '', '', '', '', '', ['Feel-0-B'], ['Feel-0-B'], [], [], '', '', ['Feel-1-A'], ['Feel-1-A'], '', '', '', '', '', '', '', '', '', '', '', '', '', '', '', '', '', '', '', '', '', '', '', '', '', '', '', '', '', '', '', '', '', '', '', ['Feel-1-B'], ['Feel-1-B'], ['Feel-1-B'], '', '', '', '', '', '', '', '', '']\n",
      "\n",
      "Predict output\n",
      "['O', 'O', 'O', 'O', 'O', 'O', 'B-SENS', 'O', 'O', 'O', 'O', 'B-PERC', 'I-PERC', 'B-PERC', 'I-PERC', 'B-PERC', 'I-PERC', 'B-SENS', 'I-SENS', 'O', 'O', 'O', 'O', 'O', 'O', 'O', 'O', 'O', 'O', 'O', 'O', 'O', 'O', 'O', 'O', 'O', 'O', 'O', 'B-PERC', 'I-PERC', 'O', 'O', 'B-SENS', 'I-SENS', 'O', 'O', 'O', 'O', 'O', 'O', 'O', 'O', 'O', 'O', 'B-PERC', 'I-PERC', 'I-PERC', 'O', 'O', 'O', 'O', 'O', 'O', 'O', 'O', 'O']\n",
      "['', '', '', '', '', '', [], '', '', '', '', ['Feel-0-B'], ['Feel-0-B'], [], [], [], ['Feel-1-A', 'Feel-2-A'], ['Feel-1-A', 'Feel-2-A'], ['Feel-1-A', 'Feel-2-A'], '', '', '', '', '', '', '', '', '', '', '', '', '', '', '', '', '', '', '', ['Feel-1-B'], ['Feel-1-B'], '', '', [], [], '', '', '', '', '', '', '', '', '', '', ['Feel-2-B'], ['Feel-2-B'], ['Feel-2-B'], '', '', '', '', '', '', '', '', '']\n",
      "\n",
      "True\n",
      "[(11, 12, 4), (13, 14, 4), (17, 18, 2), (54, 56, 4)]\n",
      "[((17, 18, 2), (54, 56, 4), 2)]\n",
      "predict\n",
      "[(6, 6, 2), (11, 12, 4), (13, 14, 4), (15, 16, 4), (17, 18, 2), (38, 39, 4), (42, 43, 2), (54, 56, 4)]\n",
      "[((17, 18, 2), (38, 39, 4), 2), ((17, 18, 2), (54, 56, 4), 2)]\n",
      "=====================================\n",
      "['精', '華', '液', '的', '質', '地', '很', '清', '爽', ',', '很', '快', '就', '吸', '收', '進', '去', '了', ',']\n",
      "['O', 'O', 'O', 'O', 'B-SENS', 'I-SENS', 'O', 'B-PERC', 'I-PERC', 'O', 'O', 'O', 'O', 'O', 'O', 'O', 'O', 'O', 'O']\n",
      "['', '', '', '', ['Feel-0-A'], ['Feel-0-A'], '', ['Feel-0-B'], ['Feel-0-B'], '', '', '', '', '', '', '', '', '', '']\n",
      "\n",
      "Predict output\n",
      "['O', 'O', 'O', 'O', 'B-SENS', 'I-SENS', 'O', 'B-PERC', 'I-PERC', 'O', 'O', 'O', 'O', 'O', 'O', 'O', 'O', 'O', 'O']\n",
      "['', '', '', '', ['Feel-0-A'], ['Feel-0-A'], '', ['Feel-0-B'], ['Feel-0-B'], '', '', '', '', '', '', '', '', '', '']\n",
      "\n",
      "True\n",
      "[(4, 5, 2), (7, 8, 4)]\n",
      "[((4, 5, 2), (7, 8, 4), 2)]\n",
      "predict\n",
      "[(4, 5, 2), (7, 8, 4)]\n",
      "[((4, 5, 2), (7, 8, 4), 2)]\n",
      "=====================================\n",
      "['雖', '然', '稱', '是', '化', '妝', '水', ',', '但', '是', '質', '地', '是', '有', '點', '水', '乳', '狀', ',', '是', '完', '全', '透', '明', '狀']\n",
      "['O', 'O', 'O', 'O', 'O', 'O', 'O', 'O', 'O', 'O', 'B-SENS', 'I-SENS', 'O', 'O', 'O', 'O', 'B-PERC', 'I-PERC', 'O', 'O', 'O', 'O', 'O', 'O', 'O']\n",
      "['', '', '', '', '', '', '', '', '', '', ['Feel-0-A'], ['Feel-0-A'], '', '', '', '', ['Feel-0-B'], ['Feel-0-B'], '', '', '', '', '', '', '']\n",
      "\n",
      "Predict output\n",
      "['O', 'O', 'O', 'O', 'O', 'O', 'O', 'O', 'O', 'O', 'B-SENS', 'I-SENS', 'O', 'O', 'O', 'O', 'B-PERC', 'I-PERC', 'O', 'O', 'O', 'O', 'O', 'O', 'O']\n",
      "['', '', '', '', '', '', '', '', '', '', [], [], '', '', '', '', [], [], '', '', '', '', '', '', '']\n",
      "\n",
      "True\n",
      "[(10, 11, 2), (16, 17, 4)]\n",
      "[((10, 11, 2), (16, 17, 4), 2)]\n",
      "predict\n",
      "[(10, 11, 2), (16, 17, 4)]\n",
      "[]\n",
      "=====================================\n",
      "['試', '用', '在', '手', '上', ',', '明', '顯', '感', '受', '到', '水', '感', '提', '升', ',', '肌', '膚', '也', '有', '一', '層', '水', '潤', '的', '光', '澤', ',', '偏', '水', '的', '質', '地', ',', '很', '容', '易', '就', '被', '肌', '膚', '吸', '收']\n",
      "['O', 'O', 'O', 'O', 'O', 'O', 'O', 'O', 'O', 'O', 'O', 'O', 'O', 'O', 'O', 'O', 'O', 'O', 'O', 'O', 'O', 'O', 'O', 'O', 'O', 'O', 'O', 'O', 'O', 'O', 'O', 'B-SENS', 'I-SENS', 'O', 'O', 'O', 'O', 'O', 'O', 'O', 'O', 'O', 'O']\n",
      "['', '', '', '', '', '', '', '', '', '', '', '', '', '', '', '', '', '', '', '', '', '', '', '', '', '', '', '', '', '', '', [], [], '', '', '', '', '', '', '', '', '', '']\n",
      "\n",
      "Predict output\n",
      "['O', 'O', 'O', 'O', 'O', 'O', 'O', 'O', 'O', 'O', 'O', 'O', 'O', 'O', 'O', 'O', 'O', 'O', 'O', 'O', 'O', 'O', 'B-PERC', 'I-PERC', 'O', 'O', 'O', 'O', 'O', 'O', 'O', 'B-SENS', 'I-SENS', 'O', 'O', 'O', 'O', 'O', 'O', 'O', 'O', 'O', 'O']\n",
      "['', '', '', '', '', '', '', '', '', '', '', '', '', '', '', '', '', '', '', '', '', '', [], [], '', '', '', '', '', '', '', [], [], '', '', '', '', '', '', '', '', '', '']\n",
      "\n",
      "True\n",
      "[(31, 32, 2)]\n",
      "[]\n",
      "predict\n",
      "[(22, 23, 4), (31, 32, 2)]\n",
      "[]\n",
      "=====================================\n"
     ]
    },
    {
     "name": "stdout",
     "output_type": "stream",
     "text": [
      "['不', '過', '對', '於', '冬', '天', '的', '眼', '周', '肌', '膚', '似', '乎', '不', '夠', '保', '濕']\n",
      "['O', 'O', 'O', 'O', 'B-SEAS', 'I-SEAS', 'O', 'O', 'O', 'O', 'O', 'O', 'O', 'O', 'O', 'B-FUNC', 'I-FUNC']\n",
      "['', '', '', '', [], [], '', '', '', '', '', '', '', '', '', [], []]\n",
      "\n",
      "Predict output\n",
      "['O', 'O', 'O', 'O', 'B-SEAS', 'I-SEAS', 'O', 'O', 'O', 'O', 'O', 'O', 'O', 'O', 'O', 'B-FUNC', 'I-FUNC']\n",
      "['', '', '', '', ['ApplyIn-0-B'], ['ApplyIn-0-B'], '', '', '', '', '', '', '', '', '', ['ApplyIn-0-A'], ['ApplyIn-0-A']]\n",
      "\n",
      "True\n",
      "[(4, 5, 3), (15, 16, 1)]\n",
      "[]\n",
      "predict\n",
      "[(4, 5, 3), (15, 16, 1)]\n",
      "[((4, 5, 3), (15, 16, 1), 1)]\n",
      "=====================================\n",
      "['我', '想', '這', '個', '冬', '天', '會', '使', '用', '這', '瓶', '來', '加', '強', '保', '濕', ',', '而', '且', '效', '果', '也', '不', '錯', ',', '也', '會', '買', '一', '瓶', '給', '媽', '媽', ',', '因', '為', '她', '更', '需', '要']\n",
      "['O', 'O', 'O', 'O', 'B-SEAS', 'I-SEAS', 'O', 'O', 'O', 'O', 'O', 'O', 'O', 'O', 'B-FUNC', 'I-FUNC', 'O', 'O', 'O', 'O', 'O', 'O', 'O', 'O', 'O', 'O', 'O', 'O', 'O', 'O', 'O', 'O', 'O', 'O', 'O', 'O', 'O', 'O', 'O', 'O']\n",
      "['', '', '', '', ['ApplyIn-0-B'], ['ApplyIn-0-B'], '', '', '', '', '', '', '', '', ['ApplyIn-0-A'], ['ApplyIn-0-A'], '', '', '', '', '', '', '', '', '', '', '', '', '', '', '', '', '', '', '', '', '', '', '', '']\n",
      "\n",
      "Predict output\n",
      "['O', 'O', 'O', 'O', 'B-SEAS', 'I-SEAS', 'O', 'O', 'O', 'O', 'O', 'O', 'O', 'O', 'B-FUNC', 'I-FUNC', 'O', 'O', 'O', 'O', 'O', 'O', 'O', 'O', 'O', 'O', 'O', 'O', 'O', 'O', 'O', 'O', 'O', 'O', 'O', 'O', 'O', 'O', 'O', 'O']\n",
      "['', '', '', '', [], [], '', '', '', '', '', '', '', '', [], [], '', '', '', '', '', '', '', '', '', '', '', '', '', '', '', '', '', '', '', '', '', '', '', '']\n",
      "\n",
      "True\n",
      "[(4, 5, 3), (14, 15, 1)]\n",
      "[((4, 5, 3), (14, 15, 1), 1)]\n",
      "predict\n",
      "[(4, 5, 3), (14, 15, 1)]\n",
      "[]\n",
      "=====================================\n",
      "['保', '溼', '度', '很', '強', ',', '很', '適', '合', '肌', '膚', '容', '易', '出', '油', '和', '吹', '冷', '氣', '過', '度', '導', '致', '皮', '膚', '乾', '燥', '的', '夏', '天']\n",
      "['B-FUNC', 'I-FUNC', 'O', 'O', 'O', 'O', 'O', 'O', 'O', 'O', 'O', 'O', 'O', 'O', 'O', 'O', 'O', 'O', 'O', 'O', 'O', 'O', 'O', 'O', 'O', 'O', 'O', 'O', 'B-SEAS', 'I-SEAS']\n",
      "[['ApplyIn-0-A'], ['ApplyIn-0-A'], '', '', '', '', '', '', '', '', '', '', '', '', '', '', '', '', '', '', '', '', '', '', '', '', '', '', ['ApplyIn-0-B'], ['ApplyIn-0-B']]\n",
      "\n",
      "Predict output\n",
      "['B-FUNC', 'I-FUNC', 'O', 'O', 'O', 'O', 'O', 'O', 'O', 'O', 'O', 'O', 'O', 'O', 'O', 'O', 'O', 'O', 'O', 'O', 'O', 'O', 'O', 'B-STAT', 'I-STAT', 'I-STAT', 'I-STAT', 'O', 'B-SEAS', 'I-SEAS']\n",
      "[['ApplyIn-0-A'], ['ApplyIn-0-A'], '', '', '', '', '', '', '', '', '', '', '', '', '', '', '', '', '', '', '', '', '', [], [], [], [], '', ['ApplyIn-0-B'], ['ApplyIn-0-B']]\n",
      "\n",
      "True\n",
      "[(0, 1, 1), (28, 29, 3)]\n",
      "[((0, 1, 1), (28, 29, 3), 1)]\n",
      "predict\n",
      "[(0, 1, 1), (23, 26, 0), (28, 29, 3)]\n",
      "[((0, 1, 1), (28, 29, 3), 1)]\n",
      "=====================================\n",
      "['使', '用', '皇', '家', '蜂', '王', '乳', '修', '護', '精', '華', '期', '間', ',', '早', '晚', '各', '一', '次', '使', '用', ',', '肌', '膚', '一', '切', '正', '常', ',', '完', '完', '全', '全', '沒', '有', '過', '敏', '現', '象', '~', '不', '但', '沒', '有', '過', '敏', ',', '還', '有', '舒', '緩', '的', '感', '覺', '~', '敏', '感', '肌', '的', '水', '水', '放', '心', '吧', '^', '_', '^']\n",
      "['O', 'O', 'O', 'O', 'O', 'O', 'O', 'O', 'O', 'O', 'O', 'O', 'O', 'O', 'O', 'O', 'O', 'O', 'O', 'O', 'O', 'O', 'O', 'O', 'O', 'O', 'O', 'O', 'O', 'O', 'O', 'O', 'O', 'O', 'O', 'O', 'O', 'O', 'O', 'O', 'O', 'O', 'O', 'O', 'O', 'O', 'O', 'O', 'O', 'B-FUNC', 'I-FUNC', 'O', 'O', 'O', 'O', 'B-STAT', 'I-STAT', 'I-STAT', 'O', 'O', 'O', 'O', 'O', 'O', 'O', 'O', 'O']\n",
      "['', '', '', '', '', '', '', '', '', '', '', '', '', '', '', '', '', '', '', '', '', '', '', '', '', '', '', '', '', '', '', '', '', '', '', '', '', '', '', '', '', '', '', '', '', '', '', '', '', ['ApplyTo-0-A'], ['ApplyTo-0-A'], '', '', '', '', ['ApplyTo-0-B'], ['ApplyTo-0-B'], ['ApplyTo-0-B'], '', '', '', '', '', '', '', '', '']\n",
      "\n",
      "Predict output\n",
      "['O', 'O', 'O', 'O', 'O', 'O', 'O', 'O', 'O', 'O', 'O', 'O', 'O', 'O', 'O', 'O', 'O', 'O', 'O', 'O', 'O', 'O', 'O', 'O', 'O', 'O', 'O', 'O', 'O', 'O', 'O', 'O', 'O', 'O', 'O', 'O', 'O', 'O', 'O', 'O', 'O', 'O', 'O', 'O', 'O', 'O', 'O', 'O', 'O', 'B-FUNC', 'I-FUNC', 'O', 'O', 'O', 'O', 'O', 'I-STAT', 'I-STAT', 'O', 'O', 'O', 'O', 'O', 'O', 'O', 'O', 'O']\n",
      "['', '', '', '', '', '', '', '', '', '', '', '', '', '', '', '', '', '', '', '', '', '', '', '', '', '', '', '', '', '', '', '', '', '', '', '', '', '', '', '', '', '', '', '', '', '', '', '', '', [], [], '', '', '', '', '', [], [], '', '', '', '', '', '', '', '', '']\n",
      "\n",
      "True\n",
      "[(49, 50, 1), (55, 57, 0)]\n",
      "[((49, 50, 1), (55, 57, 0), 0)]\n",
      "predict\n",
      "[(49, 50, 1)]\n",
      "[]\n",
      "=====================================\n",
      "['雖', '然', '是', '夏', '天', ',', '但', '幾', '乎', '的', '透', '亮', '度', '也', '有', '明', '顯', '的', '感', '覺', '(', '不', '是', '美', '白', '的', '那', '種', '白', '透', ')', ',']\n",
      "['O', 'O', 'O', 'B-SEAS', 'I-SEAS', 'O', 'O', 'O', 'O', 'O', 'O', 'O', 'O', 'O', 'O', 'O', 'O', 'O', 'O', 'O', 'O', 'O', 'O', 'O', 'O', 'O', 'O', 'O', 'O', 'O', 'O', 'O']\n",
      "['', '', '', [], [], '', '', '', '', '', '', '', '', '', '', '', '', '', '', '', '', '', '', '', '', '', '', '', '', '', '', '']\n",
      "\n",
      "Predict output\n",
      "['O', 'O', 'O', 'B-SEAS', 'I-SEAS', 'O', 'O', 'O', 'O', 'O', 'O', 'O', 'O', 'O', 'O', 'O', 'O', 'O', 'O', 'O', 'O', 'O', 'O', 'O', 'O', 'O', 'O', 'O', 'O', 'O', 'O', 'O']\n",
      "['', '', '', [], [], '', '', '', '', '', '', '', '', '', '', '', '', '', '', '', '', '', '', '', '', '', '', '', '', '', '', '']\n",
      "\n",
      "True\n",
      "[(3, 4, 3)]\n",
      "[]\n",
      "predict\n",
      "[(3, 4, 3)]\n",
      "[]\n",
      "=====================================\n",
      "['不', '過', ',', '基', '本', '的', '保', '濕', '度', '是', '有', '的', ',', '可', '能', '比', '較', '適', '合', '我', '夏', '天', '使', '用', '吧']\n",
      "['O', 'O', 'O', 'O', 'O', 'O', 'B-FUNC', 'I-FUNC', 'I-FUNC', 'O', 'O', 'O', 'O', 'O', 'O', 'O', 'O', 'O', 'O', 'O', 'B-SEAS', 'I-SEAS', 'O', 'O', 'O']\n",
      "['', '', '', '', '', '', ['ApplyIn-0-A'], ['ApplyIn-0-A'], ['ApplyIn-0-A'], '', '', '', '', '', '', '', '', '', '', '', ['ApplyIn-0-B'], ['ApplyIn-0-B'], '', '', '']\n",
      "\n",
      "Predict output\n",
      "['O', 'O', 'O', 'O', 'O', 'O', 'B-FUNC', 'I-FUNC', 'I-FUNC', 'O', 'O', 'O', 'O', 'O', 'O', 'O', 'O', 'O', 'O', 'O', 'B-SEAS', 'I-SEAS', 'O', 'O', 'O']\n",
      "['', '', '', '', '', '', ['ApplyIn-0-A'], ['ApplyIn-0-A'], ['ApplyIn-0-A'], '', '', '', '', '', '', '', '', '', '', '', ['ApplyIn-0-B'], ['ApplyIn-0-B'], '', '', '']\n",
      "\n",
      "True\n",
      "[(6, 8, 1), (20, 21, 3)]\n",
      "[((6, 8, 1), (20, 21, 3), 1)]\n",
      "predict\n",
      "[(6, 8, 1), (20, 21, 3)]\n",
      "[((6, 8, 1), (20, 21, 3), 1)]\n",
      "=====================================\n",
      "['3', '、', '秋', '天', '的', '太', '陽', '並', '沒', '有', '比', '夏', '天', '客', '氣', ',', '一', '樣', '熱', '得', '讓', '人', '溶', '妝', ',', '因', '此', '在', '粉', '餅', '的', '選', '擇', '上', '控', '油', '、', '抗', '汗', '、', '抗', '暗', '沈', '等', '高', '持', '妝', '力', '訴', '求', '是', '最', '重', '要', '的']\n",
      "['O', 'O', 'B-SEAS', 'I-SEAS', 'O', 'O', 'O', 'O', 'O', 'O', 'O', 'B-SEAS', 'I-SEAS', 'O', 'O', 'O', 'O', 'O', 'O', 'O', 'O', 'O', 'O', 'O', 'O', 'O', 'O', 'O', 'O', 'O', 'O', 'O', 'O', 'O', 'O', 'O', 'O', 'O', 'O', 'O', 'O', 'O', 'O', 'O', 'O', 'O', 'O', 'O', 'O', 'O', 'O', 'O', 'O', 'O', 'O']\n",
      "['', '', [], [], '', '', '', '', '', '', '', [], [], '', '', '', '', '', '', '', '', '', '', '', '', '', '', '', '', '', '', '', '', '', '', '', '', '', '', '', '', '', '', '', '', '', '', '', '', '', '', '', '', '', '']\n",
      "\n",
      "Predict output\n",
      "['O', 'O', 'B-SEAS', 'I-SEAS', 'O', 'O', 'O', 'O', 'O', 'O', 'O', 'B-SEAS', 'I-SEAS', 'O', 'O', 'O', 'O', 'O', 'O', 'O', 'O', 'O', 'O', 'O', 'O', 'O', 'O', 'O', 'O', 'O', 'O', 'O', 'O', 'O', 'O', 'O', 'O', 'O', 'O', 'O', 'O', 'O', 'O', 'O', 'O', 'O', 'O', 'O', 'O', 'O', 'O', 'O', 'O', 'O', 'O']\n",
      "['', '', [], [], '', '', '', '', '', '', '', [], [], '', '', '', '', '', '', '', '', '', '', '', '', '', '', '', '', '', '', '', '', '', '', '', '', '', '', '', '', '', '', '', '', '', '', '', '', '', '', '', '', '', '']\n",
      "\n",
      "True\n",
      "[(2, 3, 3), (11, 12, 3)]\n",
      "[]\n",
      "predict\n",
      "[(2, 3, 3), (11, 12, 3)]\n",
      "[]\n",
      "=====================================\n",
      "['我', '的', '敏', '感', '肌', '碰', '到', '大', '部', '分', '的', '美', '白', '產', '品', '都', '會', '產', '生', '過', '敏', '現', '象', ',', '但', '還', '是', '不', '能', '消', '除', '我', '想', '要', '美', '白', '的', '慾', '望', ',']\n",
      "['O', 'O', 'B-STAT', 'I-STAT', 'I-STAT', 'O', 'O', 'O', 'O', 'O', 'O', 'O', 'O', 'O', 'O', 'O', 'O', 'O', 'O', 'O', 'O', 'O', 'O', 'O', 'O', 'O', 'O', 'O', 'O', 'O', 'O', 'O', 'O', 'O', 'O', 'O', 'O', 'O', 'O', 'O']\n",
      "['', '', [], [], [], '', '', '', '', '', '', '', '', '', '', '', '', '', '', '', '', '', '', '', '', '', '', '', '', '', '', '', '', '', '', '', '', '', '', '']\n",
      "\n",
      "Predict output\n",
      "['O', 'O', 'B-STAT', 'I-STAT', 'I-STAT', 'O', 'O', 'O', 'O', 'O', 'O', 'O', 'O', 'O', 'O', 'O', 'O', 'O', 'O', 'O', 'O', 'O', 'O', 'O', 'O', 'O', 'O', 'O', 'O', 'O', 'O', 'O', 'O', 'O', 'O', 'O', 'O', 'O', 'O', 'O']\n",
      "['', '', [], [], [], '', '', '', '', '', '', '', '', '', '', '', '', '', '', '', '', '', '', '', '', '', '', '', '', '', '', '', '', '', '', '', '', '', '', '']\n",
      "\n",
      "True\n",
      "[(2, 4, 0)]\n",
      "[]\n",
      "predict\n",
      "[(2, 4, 0)]\n",
      "[]\n",
      "=====================================\n"
     ]
    },
    {
     "name": "stdout",
     "output_type": "stream",
     "text": [
      "['保', '濕', '度', '很', '不', '錯', ',', '一', '般', '冬', '天', '我', '都', '要', '加', '乳', '霜', '保', '濕', ',']\n",
      "['B-FUNC', 'I-FUNC', 'I-FUNC', 'O', 'O', 'O', 'O', 'O', 'O', 'B-SEAS', 'I-SEAS', 'O', 'O', 'O', 'O', 'O', 'O', 'B-FUNC', 'I-FUNC', 'O']\n",
      "[['ApplyIn-0-A'], ['ApplyIn-0-A'], ['ApplyIn-0-A'], '', '', '', '', '', '', ['ApplyIn-0-B'], ['ApplyIn-0-B'], '', '', '', '', '', '', [], [], '']\n",
      "\n",
      "Predict output\n",
      "['B-FUNC', 'I-FUNC', 'I-FUNC', 'O', 'O', 'O', 'O', 'O', 'O', 'B-SEAS', 'I-SEAS', 'O', 'O', 'O', 'O', 'O', 'O', 'O', 'O', 'O']\n",
      "[['ApplyIn-0-A'], ['ApplyIn-0-A'], ['ApplyIn-0-A'], '', '', '', '', '', '', ['ApplyIn-0-B'], ['ApplyIn-0-B'], '', '', '', '', '', '', '', '', '']\n",
      "\n",
      "True\n",
      "[(0, 2, 1), (9, 10, 3), (17, 18, 1)]\n",
      "[((0, 2, 1), (9, 10, 3), 1)]\n",
      "predict\n",
      "[(0, 2, 1), (9, 10, 3)]\n",
      "[((0, 2, 1), (9, 10, 3), 1)]\n",
      "=====================================\n",
      "['嫩', '肌', '精', '的', '質', '地', '是', '介', '於', '化', '妝', '水', '跟', '精', '華', '液', '之', '間', ',', '有', '點', '濃', '稠', '又', '不', '會', '太', '濃', '稠']\n",
      "['O', 'O', 'O', 'O', 'B-SENS', 'I-SENS', 'O', 'O', 'O', 'O', 'O', 'O', 'O', 'O', 'O', 'O', 'O', 'O', 'O', 'O', 'O', 'B-PERC', 'I-PERC', 'O', 'O', 'O', 'O', 'B-PERC', 'I-PERC']\n",
      "['', '', '', '', ['Feel-0-A'], ['Feel-0-A'], '', '', '', '', '', '', '', '', '', '', '', '', '', '', '', ['Feel-0-B'], ['Feel-0-B'], '', '', '', '', [], []]\n",
      "\n",
      "Predict output\n",
      "['O', 'O', 'O', 'O', 'B-SENS', 'I-SENS', 'O', 'O', 'O', 'O', 'O', 'O', 'O', 'O', 'O', 'O', 'O', 'O', 'O', 'O', 'O', 'B-PERC', 'I-PERC', 'O', 'O', 'O', 'O', 'B-PERC', 'I-PERC']\n",
      "['', '', '', '', ['Feel-1-A', 'Feel-0-A'], ['Feel-1-A', 'Feel-0-A'], '', '', '', '', '', '', '', '', '', '', '', '', '', '', '', ['Feel-0-B'], ['Feel-0-B'], '', '', '', '', ['Feel-1-B'], ['Feel-1-B']]\n",
      "\n",
      "True\n",
      "[(4, 5, 2), (21, 22, 4), (27, 28, 4)]\n",
      "[((4, 5, 2), (21, 22, 4), 2)]\n",
      "predict\n",
      "[(4, 5, 2), (21, 22, 4), (27, 28, 4)]\n",
      "[((4, 5, 2), (21, 22, 4), 2), ((4, 5, 2), (27, 28, 4), 2)]\n",
      "=====================================\n",
      "['眼', '霜', '的', '質', '地', '算', '濃', '稠', ',', '原', '本', '以', '為', '會', '很', '油', ',', '但', '是', '其', '實', '很', '快', '就', '吸', '收', '了', ',', '吸', '收', '度', '很', '好', ',', '其', '實', '還', '算', '清', '爽']\n",
      "['O', 'O', 'O', 'B-SENS', 'I-SENS', 'O', 'B-PERC', 'I-PERC', 'O', 'O', 'O', 'O', 'O', 'O', 'O', 'O', 'O', 'O', 'O', 'O', 'O', 'O', 'O', 'O', 'O', 'O', 'O', 'O', 'O', 'O', 'O', 'O', 'O', 'O', 'O', 'O', 'O', 'O', 'O', 'O']\n",
      "['', '', '', ['Feel-0-A'], ['Feel-0-A'], '', ['Feel-0-B'], ['Feel-0-B'], '', '', '', '', '', '', '', '', '', '', '', '', '', '', '', '', '', '', '', '', '', '', '', '', '', '', '', '', '', '', '', '']\n",
      "\n",
      "Predict output\n",
      "['O', 'O', 'O', 'B-SENS', 'I-SENS', 'O', 'B-PERC', 'I-PERC', 'O', 'O', 'O', 'O', 'O', 'O', 'O', 'O', 'O', 'O', 'O', 'O', 'O', 'O', 'O', 'O', 'O', 'O', 'O', 'O', 'O', 'O', 'O', 'O', 'O', 'O', 'O', 'O', 'O', 'O', 'B-PERC', 'I-PERC']\n",
      "['', '', '', ['Feel-1-A', 'Feel-0-A'], ['Feel-1-A', 'Feel-0-A'], '', ['Feel-0-B'], ['Feel-0-B'], '', '', '', '', '', '', '', '', '', '', '', '', '', '', '', '', '', '', '', '', '', '', '', '', '', '', '', '', '', '', ['Feel-1-B'], ['Feel-1-B']]\n",
      "\n",
      "True\n",
      "[(3, 4, 2), (6, 7, 4)]\n",
      "[((3, 4, 2), (6, 7, 4), 2)]\n",
      "predict\n",
      "[(3, 4, 2), (6, 7, 4), (38, 39, 4)]\n",
      "[((3, 4, 2), (6, 7, 4), 2), ((3, 4, 2), (38, 39, 4), 2)]\n",
      "=====================================\n",
      "['個', '人', '有', '特', '別', '只', '單', '一', '用', '這', '一', '罐', '凝', '膠', ',', '確', '實', '滿', '保', '濕', '的', '(', '本', '人', '的', '臉', '是', '混', '合', '肌', ',', '兩', '頰', '很', '容', '易', '因', '為', '保', '濕', '不', '夠', '而', '感', '到', '緊', '繃', ',', '如', '下', '圖', '有', '手', '部', '測', '試', '圖', ')', ',', '上', '妝', '的', '時', '候', '有', '比', '使', '用', '前', '來', '的', '不', '易', '脫', '妝', ',', '感', '覺', '還', '不', '錯']\n",
      "['O', 'O', 'O', 'O', 'O', 'O', 'O', 'O', 'O', 'O', 'O', 'O', 'O', 'O', 'O', 'O', 'O', 'O', 'O', 'O', 'O', 'O', 'O', 'O', 'O', 'O', 'O', 'B-STAT', 'I-STAT', 'I-STAT', 'O', 'O', 'O', 'O', 'O', 'O', 'O', 'O', 'O', 'O', 'O', 'O', 'O', 'O', 'O', 'O', 'O', 'O', 'O', 'O', 'O', 'O', 'O', 'O', 'O', 'O', 'O', 'O', 'O', 'O', 'O', 'O', 'O', 'O', 'O', 'O', 'O', 'O', 'O', 'O', 'O', 'O', 'O', 'O', 'O', 'O', 'O', 'O', 'O', 'O', 'O']\n",
      "['', '', '', '', '', '', '', '', '', '', '', '', '', '', '', '', '', '', '', '', '', '', '', '', '', '', '', [], [], [], '', '', '', '', '', '', '', '', '', '', '', '', '', '', '', '', '', '', '', '', '', '', '', '', '', '', '', '', '', '', '', '', '', '', '', '', '', '', '', '', '', '', '', '', '', '', '', '', '', '', '']\n",
      "\n",
      "Predict output\n",
      "['O', 'O', 'O', 'O', 'O', 'O', 'O', 'O', 'O', 'O', 'O', 'O', 'O', 'O', 'O', 'O', 'O', 'O', 'B-FUNC', 'I-FUNC', 'O', 'O', 'O', 'O', 'O', 'O', 'O', 'B-STAT', 'I-STAT', 'I-STAT', 'O', 'O', 'O', 'O', 'O', 'O', 'O', 'O', 'B-FUNC', 'I-FUNC', 'O', 'O', 'O', 'O', 'O', 'O', 'O', 'O', 'O', 'O', 'O', 'O', 'O', 'O', 'O', 'O', 'O', 'O', 'O', 'O', 'O', 'O', 'O', 'O', 'O', 'O', 'O', 'O', 'O', 'O', 'O', 'O', 'O', 'O', 'O', 'O', 'O', 'O', 'O', 'O', 'O']\n",
      "['', '', '', '', '', '', '', '', '', '', '', '', '', '', '', '', '', '', [], [], '', '', '', '', '', '', '', [], [], [], '', '', '', '', '', '', '', '', [], [], '', '', '', '', '', '', '', '', '', '', '', '', '', '', '', '', '', '', '', '', '', '', '', '', '', '', '', '', '', '', '', '', '', '', '', '', '', '', '', '', '']\n",
      "\n",
      "True\n",
      "[(27, 29, 0)]\n",
      "[]\n",
      "predict\n",
      "[(18, 19, 1), (27, 29, 0), (38, 39, 1)]\n",
      "[]\n",
      "=====================================\n",
      "['可', '是', '沒', '有', '覺', '得', '特', '別', '保', '濕', ',', '但', '夏', '天', '用', '應', '該', '是', '足', '夠']\n",
      "['O', 'O', 'O', 'O', 'O', 'O', 'O', 'O', 'B-FUNC', 'I-FUNC', 'O', 'O', 'B-SEAS', 'I-SEAS', 'O', 'O', 'O', 'O', 'O', 'O']\n",
      "['', '', '', '', '', '', '', '', ['ApplyIn-0-A'], ['ApplyIn-0-A'], '', '', ['ApplyIn-0-B'], ['ApplyIn-0-B'], '', '', '', '', '', '']\n",
      "\n",
      "Predict output\n",
      "['O', 'O', 'O', 'O', 'O', 'O', 'O', 'O', 'B-FUNC', 'I-FUNC', 'O', 'O', 'B-SEAS', 'I-SEAS', 'O', 'O', 'O', 'O', 'O', 'O']\n",
      "['', '', '', '', '', '', '', '', ['ApplyIn-0-A'], ['ApplyIn-0-A'], '', '', ['ApplyIn-0-B'], ['ApplyIn-0-B'], '', '', '', '', '', '']\n",
      "\n",
      "True\n",
      "[(8, 9, 1), (12, 13, 3)]\n",
      "[((8, 9, 1), (12, 13, 3), 1)]\n",
      "predict\n",
      "[(8, 9, 1), (12, 13, 3)]\n",
      "[((8, 9, 1), (12, 13, 3), 1)]\n",
      "=====================================\n",
      "['味', '道', '很', '天', '然', ';', '無', '添', '加', '的', '很', '清', '新', '自', '然', ',', '聞', '起', '來', '很', '舒', '服', ';', '不', '刺', '鼻']\n",
      "['B-SENS', 'I-SENS', 'O', 'O', 'O', 'O', 'O', 'O', 'O', 'O', 'O', 'B-PERC', 'I-PERC', 'O', 'O', 'O', 'O', 'O', 'O', 'O', 'O', 'O', 'O', 'O', 'O', 'O']\n",
      "[['Feel-0-A'], ['Feel-0-A'], '', '', '', '', '', '', '', '', '', ['Feel-0-B'], ['Feel-0-B'], '', '', '', '', '', '', '', '', '', '', '', '', '']\n",
      "\n",
      "Predict output\n",
      "['B-SENS', 'I-SENS', 'O', 'O', 'O', 'O', 'O', 'O', 'O', 'O', 'O', 'O', 'O', 'O', 'O', 'O', 'O', 'O', 'O', 'O', 'O', 'O', 'O', 'O', 'O', 'O']\n",
      "[[], [], '', '', '', '', '', '', '', '', '', '', '', '', '', '', '', '', '', '', '', '', '', '', '', '']\n",
      "\n",
      "True\n",
      "[(0, 1, 2), (11, 12, 4)]\n",
      "[((0, 1, 2), (11, 12, 4), 2)]\n",
      "predict\n",
      "[(0, 1, 2)]\n",
      "[]\n",
      "=====================================\n",
      "['這', '瓶', '凝', '露', '具', '有', '6', '2', '種', '高', '效', '保', '濕', '美', '肌', '成', '分', ',', '是', 'M', 'e', 'd', 'i', 'p', 'l', 'u', 's', '社', '長', '自', '行', '開', '發', '過', '敏', '性', '肌', '膚', '也', '能', '使', '用', '的', '保', '養', '品']\n",
      "['O', 'O', 'O', 'O', 'O', 'O', 'O', 'O', 'O', 'O', 'O', 'O', 'O', 'O', 'O', 'O', 'O', 'O', 'O', 'O', 'O', 'O', 'O', 'O', 'O', 'O', 'O', 'O', 'O', 'O', 'O', 'O', 'O', 'B-STAT', 'I-STAT', 'I-STAT', 'I-STAT', 'I-STAT', 'O', 'O', 'O', 'O', 'O', 'O', 'O', 'O']\n",
      "['', '', '', '', '', '', '', '', '', '', '', '', '', '', '', '', '', '', '', '', '', '', '', '', '', '', '', '', '', '', '', '', '', [], [], [], [], [], '', '', '', '', '', '', '', '']\n",
      "\n",
      "Predict output\n",
      "['O', 'O', 'O', 'O', 'O', 'O', 'O', 'O', 'O', 'O', 'O', 'O', 'O', 'O', 'O', 'O', 'O', 'O', 'O', 'O', 'O', 'O', 'O', 'O', 'O', 'O', 'O', 'O', 'O', 'O', 'O', 'O', 'O', 'O', 'B-STAT', 'I-STAT', 'I-STAT', 'I-STAT', 'O', 'O', 'O', 'O', 'O', 'O', 'O', 'O']\n",
      "['', '', '', '', '', '', '', '', '', '', '', '', '', '', '', '', '', '', '', '', '', '', '', '', '', '', '', '', '', '', '', '', '', '', [], [], [], [], '', '', '', '', '', '', '', '']\n",
      "\n",
      "True\n",
      "[(33, 37, 0)]\n",
      "[]\n",
      "predict\n",
      "[(34, 37, 0)]\n",
      "[]\n",
      "=====================================\n",
      "['一', '由', '於', '季', '節', '的', '變', '化', ',', '在', '這', '種', '時', '期', '混', '合', '性', '又', '敏', '感', '肌', '膚', '最', '需', '要', '好', '好', '保', '濕', ',']\n",
      "['O', 'O', 'O', 'O', 'O', 'O', 'O', 'O', 'O', 'O', 'O', 'O', 'O', 'O', 'O', 'O', 'O', 'O', 'B-STAT', 'I-STAT', 'I-STAT', 'I-STAT', 'O', 'O', 'O', 'O', 'O', 'O', 'O', 'O']\n",
      "['', '', '', '', '', '', '', '', '', '', '', '', '', '', '', '', '', '', [], [], [], [], '', '', '', '', '', '', '', '']\n",
      "\n",
      "Predict output\n",
      "['O', 'O', 'O', 'O', 'O', 'O', 'O', 'O', 'O', 'O', 'O', 'O', 'O', 'O', 'O', 'O', 'O', 'O', 'B-STAT', 'I-STAT', 'I-STAT', 'I-STAT', 'O', 'O', 'O', 'O', 'O', 'O', 'O', 'O']\n",
      "['', '', '', '', '', '', '', '', '', '', '', '', '', '', '', '', '', '', [], [], [], [], '', '', '', '', '', '', '', '']\n",
      "\n",
      "True\n",
      "[(18, 21, 0)]\n",
      "[]\n",
      "predict\n",
      "[(18, 21, 0)]\n",
      "[]\n",
      "=====================================\n",
      "Batch entity score\n",
      "precision  \t recall  \t fbeta_score  \t\n",
      "(0.7727272727272727, 0.8947368421052632, 0.8292682926829269, None)\n",
      "\n",
      "Batch relation score\n",
      "precision  \t recall  \t fbeta_score  \t\n",
      "(0.6666666666666666, 0.6666666666666666, 0.6666666666666666, None)\n",
      "\n",
      "p_r_fscore\n",
      "precision  \t recall  \t fbeta_score  \t\n",
      "(0.666666666111111, 0.666666666111111, 0.6666666611111112) 8 4 0 4\n",
      "===========================================\n",
      "\n",
      "Entity detection score\n",
      "precision  \t recall  \t fbeta_score\n",
      "0.861 \t\t 0.908 \t\t 0.884 \t\n",
      "Entity+Relation detection score \n",
      "precision  \t recall  \t fbeta_score  \t\n",
      "0.75 \t\t 0.517 \t\t 0.612 \t\n",
      "confusion matrix \n",
      "TP  \t fp  \t tn  \t fn\n",
      "60 \t 20 \t 0 \t 56 \t\n",
      "\n",
      "======================================================\n",
      "Relation type 0\n",
      "precision  \t recall  \t fbeta_score  \t\n",
      "1.000 \t\t 0.045 \t\t 0.087 \t\n",
      "\n",
      "\n",
      "======================================================\n",
      "Relation type 1\n",
      "precision  \t recall  \t fbeta_score  \t\n",
      "0.857 \t\t 0.429 \t\t 0.571 \t\n",
      "\n",
      "\n",
      "======================================================\n",
      "Relation type 2\n",
      "precision  \t recall  \t fbeta_score  \t\n",
      "0.707 \t\t 0.788 \t\t 0.745 \t\n",
      "\n",
      "--test--\n",
      "(array([1.        , 0.85714286, 0.70689655]), array([0.04545455, 0.42857143, 0.78846154]), array([0.08695652, 0.57142857, 0.74545455]))\n",
      "\n"
     ]
    }
   ],
   "source": [
    "e_score, er_score = model.score(dev_loader, isTrueEnt=True, rel_detail=True)"
   ]
  },
  {
   "cell_type": "code",
   "execution_count": 10,
   "metadata": {},
   "outputs": [
    {
     "name": "stdout",
     "output_type": "stream",
     "text": [
      "\n",
      "Entity detection score\n",
      "precision  \t recall  \t fbeta_score\n",
      "0.870 \t\t 0.925 \t\t 0.897 \t\n",
      "Entity+Relation detection score \n",
      "precision  \t recall  \t fbeta_score  \t\n",
      "0.766 \t\t 0.531 \t\t 0.627 \t\n",
      "confusion matrix \n",
      "TP  \t fp  \t tn  \t fn\n",
      "111 \t 34 \t 0 \t 98 \t\n",
      "\n",
      "======================================================\n",
      "Relation type 0\n",
      "precision  \t recall  \t fbeta_score  \t\n",
      "1.000 \t\t 0.051 \t\t 0.098 \t\n",
      "\n",
      "\n",
      "======================================================\n",
      "Relation type 1\n",
      "precision  \t recall  \t fbeta_score  \t\n",
      "0.783 \t\t 0.316 \t\t 0.450 \t\n",
      "\n",
      "\n",
      "======================================================\n",
      "Relation type 2\n",
      "precision  \t recall  \t fbeta_score  \t\n",
      "0.758 \t\t 0.805 \t\t 0.781 \t\n",
      "\n",
      "--test--\n",
      "(array([1.        , 0.7826087 , 0.75833333]), array([0.05128205, 0.31578947, 0.80530973]), array([0.09756098, 0.45      , 0.78111588]))\n",
      "\n"
     ]
    }
   ],
   "source": [
    "e_score, er_score = model.score(test_loader, isTrueEnt=True, silent=True, rel_detail=True)"
   ]
  },
  {
   "cell_type": "code",
   "execution_count": null,
   "metadata": {},
   "outputs": [],
   "source": []
  }
 ],
 "metadata": {
  "kernelspec": {
   "display_name": "Python 3",
   "language": "python",
   "name": "python3"
  },
  "language_info": {
   "codemirror_mode": {
    "name": "ipython",
    "version": 3
   },
   "file_extension": ".py",
   "mimetype": "text/x-python",
   "name": "python",
   "nbconvert_exporter": "python",
   "pygments_lexer": "ipython3",
   "version": "3.5.2"
  }
 },
 "nbformat": 4,
 "nbformat_minor": 2
}
