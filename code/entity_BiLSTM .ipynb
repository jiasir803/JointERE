{
 "cells": [
  {
   "cell_type": "code",
   "execution_count": 1,
   "metadata": {},
   "outputs": [],
   "source": [
    "import torch\n",
    "from torch.autograd import Variable\n",
    "import torch.nn as nn\n",
    "import torch.optim as optim\n",
    "import torch.nn.functional as F\n",
    "import torch.utils.data as Data\n",
    "\n",
    "import numpy as np"
   ]
  },
  {
   "cell_type": "code",
   "execution_count": 2,
   "metadata": {},
   "outputs": [],
   "source": [
    "USE_CUDA = True"
   ]
  },
  {
   "cell_type": "code",
   "execution_count": 3,
   "metadata": {},
   "outputs": [],
   "source": [
    "root = '/notebooks/sinica/dataset/'\n",
    "train_data = root+'facial.train'\n",
    "dev_data = root+'facial.dev'\n",
    "test_data = root+'facial.test'\n",
    "\n",
    "START_TAG = \"<START>\"\n",
    "STOP_TAG = \"<STOP>\"\n",
    "PAD_TAG = \"<PAD>\"\n",
    "tag_to_ix = {START_TAG: 0, STOP_TAG: 1, PAD_TAG:2, \"B-Func\": 3, \"I-Func\": 4, \"O\": 5}\n",
    "\n",
    "tagset_size = len(tag_to_ix)\n",
    "MAX_LEN = 100\n",
    "BATCH_SIZE = 128\n",
    "\n",
    "EMBEDDING_DIM = 20\n",
    "HIDDEN_DIM1 = 10\n",
    "HIDDEN_DIM2 = 8\n",
    "LABEL_EMBED_DIM = 3"
   ]
  },
  {
   "cell_type": "code",
   "execution_count": 4,
   "metadata": {},
   "outputs": [],
   "source": [
    "def readfile(data):\n",
    "    with open(data, \"r\", encoding=\"utf-8\") as f:\n",
    "        content = f.read().splitlines()\n",
    "        \n",
    "    return content\n",
    "\n",
    "def get_word_and_label(_content, start_w, end_w):\n",
    "    word_list = []\n",
    "    tag_list = []\n",
    "    for word_set in _content[start_w:end_w]:\n",
    "        word_list.append(word_set[0])\n",
    "        tag_list.append(word_set[2:])\n",
    "    \n",
    "    return word_list, tag_list\n",
    "\n",
    "def split_to_list(content):\n",
    "    init = 0\n",
    "    word_list = []\n",
    "    tag_list = []\n",
    "\n",
    "    for i, c in enumerate(content):\n",
    "        if c=='':\n",
    "            words, tags = get_word_and_label(content, init, i)\n",
    "            init = i+1\n",
    "            word_list.append(words)\n",
    "            tag_list.append(tags)\n",
    "            \n",
    "    return word_list, tag_list\n",
    "    \n",
    "def prepare_sequence(seq, to_ix):\n",
    "    idxs = [to_ix[w] for w in seq]\n",
    "    return torch.tensor(idxs, dtype=torch.long)\n",
    "\n",
    "def prepare_all(seqs, to_ix):\n",
    "    seq_list = []\n",
    "    for i in range(len(seqs)):\n",
    "        seq_list.append(prepare_sequence(seqs[i], to_ix))\n",
    "        \n",
    "    seq_list = torch.stack(seq_list)\n",
    "        \n",
    "    return seq_list\n",
    "\n",
    "def word2index(word_list):\n",
    "    word_to_ix = {\"<START>\":0, \"<STOP>\":1, \"<PAD>\":2}\n",
    "    for sentence in word_list:\n",
    "        for word in sentence:\n",
    "            if word not in word_to_ix:\n",
    "                word_to_ix[word] = len(word_to_ix)\n",
    "                \n",
    "    return word_to_ix\n",
    "\n",
    "def find_max_len(word_list):\n",
    "    max_len = 0\n",
    "    for i in range(len(word_list)):\n",
    "        if max_len<len(word_list[i]):\n",
    "            max_len=len(word_list[i])\n",
    "            \n",
    "    return max_len\n",
    "\n",
    "def filter_len(word_list):\n",
    "    reserved_index = []\n",
    "    for i in range(len(word_list)):\n",
    "        if len(word_list[i])<MAX_LEN:\n",
    "            reserved_index.append(i)\n",
    "            \n",
    "    return reserved_index\n",
    "\n",
    "def filter_sentence(reserved_index, word_list, tag_list):\n",
    "    filter_word = list(word_list[i] for i in reserved_index)\n",
    "    filter_tag = list(tag_list[i] for i in reserved_index)\n",
    "    return filter_word, filter_tag\n",
    "\n",
    "def pad_seq(seq):\n",
    "    seq += [PAD_TAG for i in range(MAX_LEN-len(seq))]\n",
    "    return seq\n",
    "\n",
    "def pad_all(filter_word, filter_tag):\n",
    "    input_padded = [pad_seq(s) for s in filter_word]\n",
    "    target_padded = [pad_seq(s) for s in filter_tag]\n",
    "    \n",
    "    return input_padded, target_padded\n",
    "\n",
    "#======================================\n",
    "def dataload(input_var, target_var):\n",
    "    torch_dataset = Data.TensorDataset(input_var, target_var)\n",
    "\n",
    "    loader = Data.DataLoader(\n",
    "        dataset=torch_dataset,      # torch TensorDataset format\n",
    "        batch_size=BATCH_SIZE,      # mini batch size\n",
    "        shuffle=True,               \n",
    "        num_workers=2,       \n",
    "        drop_last=True\n",
    "    )\n",
    "    \n",
    "    return loader"
   ]
  },
  {
   "cell_type": "code",
   "execution_count": 5,
   "metadata": {},
   "outputs": [],
   "source": [
    "class BiLSTM(nn.Module):\n",
    "    def __init__(self, vocab_size, tag_to_ix, embedding_dim, hidden_dim1, hidden_dim2, \\\n",
    "                 label_embed_dim):\n",
    "        super(BiLSTM, self).__init__()\n",
    "        self.embedding_dim = embedding_dim\n",
    "        self.hidden_dim1 = hidden_dim1\n",
    "        self.hidden_dim2 = hidden_dim2\n",
    "        self.label_embed_dim = label_embed_dim\n",
    "        self.vocab_size = vocab_size\n",
    "        self.tag_to_ix = tag_to_ix\n",
    "        self.tagset_size = len(tag_to_ix)\n",
    "        \n",
    "        self.word_embeds = nn.Embedding(vocab_size, embedding_dim)\n",
    "        self.bilstm = nn.LSTM(embedding_dim, hidden_dim1 // 2,\n",
    "                            num_layers=2, bidirectional=True, batch_first=True)\n",
    "        \n",
    "        self.lstm = nn.LSTM(hidden_dim1+label_embed_dim, hidden_dim2, batch_first=True)\n",
    "\n",
    "        # Maps the output of the LSTM into tag space.\n",
    "        self.hidden2tag = nn.Linear(hidden_dim2, self.tagset_size)\n",
    "        self.softmax = nn.LogSoftmax(dim=2)\n",
    "        self.label_embed = nn.Linear(self.tagset_size, self.label_embed_dim)\n",
    "        \n",
    "        self.hidden1 = self.init_hidden1()\n",
    "        self.hidden2 = self.init_hidden2()\n",
    "        self.to_label_embed = self.init_label_embed()\n",
    "        \n",
    "        \n",
    "    def init_hidden1(self):       \n",
    "        hidden = torch.randn(2*2, BATCH_SIZE, self.hidden_dim1 // 2)   \n",
    "        hidden = Variable(hidden.data, requires_grad=True)\n",
    "\n",
    "        return (hidden.cuda(), hidden.cuda())if USE_CUDA else (hidden,hidden)\n",
    "    \n",
    "    def init_hidden2(self):       \n",
    "        hidden = torch.randn(1, BATCH_SIZE, self.hidden_dim2)        \n",
    "        hidden = Variable(hidden.data, requires_grad=True)\n",
    "\n",
    "        return (hidden.cuda(), hidden.cuda())if USE_CUDA else (hidden,hidden)\n",
    "    \n",
    "    def init_label_embed(self):\n",
    "        hidden = torch.randn(BATCH_SIZE, MAX_LEN, self.label_embed_dim)\n",
    "        return hidden.cuda()if USE_CUDA else hidden\n",
    "        \n",
    "    def forward(self, sentence):\n",
    "        self.hidden1 = self.init_hidden1()\n",
    "        self.hidden2 = self.init_hidden2()\n",
    "        embeds = self.word_embeds(sentence)\n",
    "#         print(embeds.size())\n",
    "#         print()\n",
    "        \n",
    "        bilstm_out, self.hidden1 = self.bilstm(embeds, self.hidden1)\n",
    "#         print(bilstm_out.size())\n",
    "#         print(self.hidden1[0].size())\n",
    "#         print()\n",
    "        \n",
    "        combine_lstm = torch.cat((bilstm_out, self.to_label_embed), 2)\n",
    "        \n",
    "        lstm_out, self.hidden2 = self.lstm(combine_lstm, self.hidden2)\n",
    "#         print(lstm_out.size())\n",
    "#         print(self.hidden2[0].size())\n",
    "#         print()\n",
    "        \n",
    "        to_tags = self.hidden2tag(lstm_out)\n",
    "#         print(to_tags.size())\n",
    "\n",
    "        output = self.softmax(to_tags)\n",
    "#         print(output.size())\n",
    "#         print()\n",
    "        \n",
    "        self.to_label_embed = self.label_embed(output)\n",
    "#         print(self.to_label_embed.size())\n",
    "        \n",
    "        return output.view(BATCH_SIZE, self.tagset_size, MAX_LEN)\n",
    "#         return output"
   ]
  },
  {
   "cell_type": "code",
   "execution_count": 6,
   "metadata": {},
   "outputs": [],
   "source": [
    "content = readfile(train_data)"
   ]
  },
  {
   "cell_type": "code",
   "execution_count": 7,
   "metadata": {},
   "outputs": [],
   "source": [
    "word_list, tag_list = split_to_list(content)"
   ]
  },
  {
   "cell_type": "code",
   "execution_count": 8,
   "metadata": {},
   "outputs": [],
   "source": [
    "word_to_ix = word2index(word_list)"
   ]
  },
  {
   "cell_type": "code",
   "execution_count": 9,
   "metadata": {},
   "outputs": [
    {
     "data": {
      "text/plain": [
       "tensor([  3,   4,   5,   6,   7,   8,   9,  10,  11,  12,  13,  14,\n",
       "         15,  16,  17,  18,  19,   3,   4,   5,   6,  20,   3,  21,\n",
       "         22,  23,  24,  25,  26,  27,  28,   7,  29])"
      ]
     },
     "execution_count": 9,
     "metadata": {},
     "output_type": "execute_result"
    }
   ],
   "source": [
    "prepare_sequence(word_list[0], word_to_ix)"
   ]
  },
  {
   "cell_type": "code",
   "execution_count": 10,
   "metadata": {},
   "outputs": [],
   "source": [
    "max_len = find_max_len(word_list)"
   ]
  },
  {
   "cell_type": "code",
   "execution_count": 11,
   "metadata": {},
   "outputs": [],
   "source": [
    "reserved_index = filter_len(word_list)"
   ]
  },
  {
   "cell_type": "code",
   "execution_count": 12,
   "metadata": {},
   "outputs": [],
   "source": [
    "filter_word, filter_tag = filter_sentence(reserved_index, word_list, tag_list)"
   ]
  },
  {
   "cell_type": "code",
   "execution_count": 13,
   "metadata": {},
   "outputs": [],
   "source": [
    "input_padded, target_padded = pad_all(filter_word, filter_tag)"
   ]
  },
  {
   "cell_type": "code",
   "execution_count": 14,
   "metadata": {},
   "outputs": [],
   "source": [
    "input_var = prepare_all(input_padded, word_to_ix)\n",
    "target_var = prepare_all(target_padded, tag_to_ix)"
   ]
  },
  {
   "cell_type": "code",
   "execution_count": 15,
   "metadata": {},
   "outputs": [
    {
     "data": {
      "text/plain": [
       "8917"
      ]
     },
     "execution_count": 15,
     "metadata": {},
     "output_type": "execute_result"
    }
   ],
   "source": [
    "len(input_var)"
   ]
  },
  {
   "cell_type": "code",
   "execution_count": 16,
   "metadata": {},
   "outputs": [
    {
     "data": {
      "text/plain": [
       "2516"
      ]
     },
     "execution_count": 16,
     "metadata": {},
     "output_type": "execute_result"
    }
   ],
   "source": [
    "vocab_size = len(word_to_ix)\n",
    "vocab_size"
   ]
  },
  {
   "cell_type": "code",
   "execution_count": 17,
   "metadata": {},
   "outputs": [],
   "source": [
    "loader = dataload(input_var, target_var)"
   ]
  },
  {
   "cell_type": "code",
   "execution_count": 18,
   "metadata": {},
   "outputs": [],
   "source": [
    "model = BiLSTM(vocab_size, tag_to_ix, EMBEDDING_DIM, HIDDEN_DIM1, HIDDEN_DIM2, \\\n",
    "              LABEL_EMBED_DIM).cuda()\n",
    "optimizer = optim.Adam(model.parameters(), lr=0.01, weight_decay=1e-4)\n",
    "criterion = nn.NLLLoss()"
   ]
  },
  {
   "cell_type": "code",
   "execution_count": 19,
   "metadata": {},
   "outputs": [],
   "source": [
    "import time\n",
    "import math\n",
    "\n",
    "def timeSince(since):\n",
    "    now = time.time()\n",
    "    s = now - since\n",
    "    m = math.floor(s / 60)\n",
    "    s -= m * 60\n",
    "    return '%dm %ds' % (m, s)"
   ]
  },
  {
   "cell_type": "code",
   "execution_count": null,
   "metadata": {},
   "outputs": [
    {
     "name": "stdout",
     "output_type": "stream",
     "text": [
      "1.8256| epoch: 0| step: 0| 0m 0s\n",
      "1.7922| epoch: 0| step: 10| 0m 1s\n",
      "1.7920| epoch: 0| step: 20| 0m 4s\n",
      "1.7914| epoch: 0| step: 30| 0m 9s\n",
      "1.7914| epoch: 0| step: 40| 0m 14s\n",
      "1.7915| epoch: 0| step: 50| 0m 21s\n",
      "1.7915| epoch: 0| step: 60| 0m 30s\n",
      "1.7914| epoch: 1| step: 0| 0m 39s\n",
      "1.7913| epoch: 1| step: 10| 0m 50s\n",
      "1.7913| epoch: 1| step: 20| 1m 2s\n",
      "1.7913| epoch: 1| step: 30| 1m 16s\n",
      "1.7913| epoch: 1| step: 40| 1m 32s\n",
      "1.7914| epoch: 1| step: 50| 1m 49s\n",
      "1.7915| epoch: 1| step: 60| 2m 7s\n",
      "1.7914| epoch: 2| step: 0| 2m 25s\n",
      "1.7914| epoch: 2| step: 10| 2m 46s\n",
      "1.7914| epoch: 2| step: 20| 3m 9s\n",
      "1.7913| epoch: 2| step: 30| 3m 34s\n",
      "1.7913| epoch: 2| step: 40| 4m 1s\n",
      "1.7913| epoch: 2| step: 50| 4m 29s\n",
      "1.7913| epoch: 2| step: 60| 4m 56s\n",
      "1.7915| epoch: 3| step: 0| 5m 21s\n",
      "1.7916| epoch: 3| step: 10| 5m 51s\n",
      "1.7913| epoch: 3| step: 20| 6m 22s\n",
      "1.7913| epoch: 3| step: 30| 6m 54s\n",
      "1.7914| epoch: 3| step: 40| 7m 26s\n",
      "1.7914| epoch: 3| step: 50| 8m 0s\n",
      "1.7913| epoch: 3| step: 60| 8m 36s\n",
      "1.7914| epoch: 4| step: 0| 9m 9s\n",
      "1.7916| epoch: 4| step: 10| 9m 47s\n",
      "1.7913| epoch: 4| step: 20| 10m 27s\n",
      "1.7914| epoch: 4| step: 30| 11m 7s\n",
      "1.7915| epoch: 4| step: 40| 11m 49s\n",
      "1.7914| epoch: 4| step: 50| 12m 33s\n",
      "1.7914| epoch: 4| step: 60| 13m 17s\n",
      "1.7915| epoch: 5| step: 0| 13m 59s\n",
      "1.7913| epoch: 5| step: 10| 14m 47s\n",
      "1.7913| epoch: 5| step: 20| 15m 36s\n",
      "1.7914| epoch: 5| step: 30| 16m 27s\n",
      "1.7914| epoch: 5| step: 40| 17m 18s\n",
      "1.7914| epoch: 5| step: 50| 18m 11s\n",
      "1.7913| epoch: 5| step: 60| 19m 6s\n",
      "1.7914| epoch: 6| step: 0| 19m 56s\n",
      "1.7914| epoch: 6| step: 10| 20m 53s\n",
      "1.7913| epoch: 6| step: 20| 21m 51s\n",
      "1.7914| epoch: 6| step: 30| 22m 50s\n",
      "1.7915| epoch: 6| step: 40| 23m 51s\n",
      "1.7914| epoch: 6| step: 50| 24m 52s\n",
      "1.7914| epoch: 6| step: 60| 25m 56s\n",
      "1.7913| epoch: 7| step: 0| 26m 54s\n",
      "1.7913| epoch: 7| step: 10| 28m 0s\n",
      "1.7913| epoch: 7| step: 20| 29m 8s\n",
      "1.7914| epoch: 7| step: 30| 30m 16s\n",
      "1.7915| epoch: 7| step: 40| 31m 26s\n",
      "1.7913| epoch: 7| step: 50| 32m 37s\n",
      "1.7913| epoch: 7| step: 60| 33m 50s\n",
      "1.7915| epoch: 8| step: 0| 34m 57s\n",
      "1.7913| epoch: 8| step: 10| 36m 19s\n"
     ]
    }
   ],
   "source": [
    "n_iters = 10\n",
    "print_every = 10\n",
    "all_losses = []\n",
    "total_loss = 0 # Reset every plot_every iters\n",
    "\n",
    "start = time.time()\n",
    "\n",
    "for epoch in range(10):  \n",
    "    for step, (batch_x, batch_y) in enumerate(loader):\n",
    "        optimizer.zero_grad()\n",
    "        output = model(batch_x.cuda())\n",
    "#         print(output.size())\n",
    "#         print(batch_y.size())\n",
    "#         break\n",
    "        loss = criterion(output, batch_y.cuda())\n",
    "        loss.backward(retain_graph=True)\n",
    "        optimizer.step()\n",
    "        \n",
    "        if step % print_every == 0:\n",
    "            print('%.4f| epoch: %d| step: %d| %s' % (loss, epoch, step, timeSince(start)))\n",
    "            \n",
    "#     break"
   ]
  },
  {
   "cell_type": "code",
   "execution_count": null,
   "metadata": {},
   "outputs": [],
   "source": []
  }
 ],
 "metadata": {
  "kernelspec": {
   "display_name": "Python 3",
   "language": "python",
   "name": "python3"
  },
  "language_info": {
   "codemirror_mode": {
    "name": "ipython",
    "version": 3
   },
   "file_extension": ".py",
   "mimetype": "text/x-python",
   "name": "python",
   "nbconvert_exporter": "python",
   "pygments_lexer": "ipython3",
   "version": "3.5.2"
  }
 },
 "nbformat": 4,
 "nbformat_minor": 2
}
