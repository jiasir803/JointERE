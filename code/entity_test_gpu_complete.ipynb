{
 "cells": [
  {
   "cell_type": "code",
   "execution_count": 1,
   "metadata": {},
   "outputs": [],
   "source": [
    "import torch\n",
    "import torch.autograd as autograd\n",
    "import torch.nn as nn\n",
    "import torch.optim as optim\n",
    "\n",
    "import numpy as np"
   ]
  },
  {
   "cell_type": "code",
   "execution_count": 2,
   "metadata": {},
   "outputs": [],
   "source": [
    "USE_CUDA = True"
   ]
  },
  {
   "cell_type": "code",
   "execution_count": 3,
   "metadata": {},
   "outputs": [],
   "source": [
    "root = '/notebooks/sinica/dataset/'\n",
    "train_data = root+'facial.train'\n",
    "dev_data = root+'facial.dev'\n",
    "test_data = root+'facial.test'\n",
    "\n",
    "START_TAG = \"<START>\"\n",
    "STOP_TAG = \"<STOP>\"\n",
    "tag_to_ix = {\"B-Func\": 0, \"I-Func\": 1, \"O\": 2, START_TAG: 3, STOP_TAG: 4}\n",
    "\n",
    "EMBEDDING_DIM = 20\n",
    "HIDDEN_DIM = 10\n",
    "tagset_size = len(tag_to_ix)"
   ]
  },
  {
   "cell_type": "code",
   "execution_count": 4,
   "metadata": {},
   "outputs": [
    {
     "data": {
      "text/plain": [
       "Parameter containing:\n",
       "tensor([[ 1.1223e+00, -9.3176e-01,  1.1441e-01, -1.4887e-01, -1.0000e+04],\n",
       "        [-2.6964e-01, -1.5689e+00,  1.0331e-01, -2.3395e-01, -1.0000e+04],\n",
       "        [ 5.8823e-02,  1.3466e+00,  1.2402e+00,  8.4746e-01, -1.0000e+04],\n",
       "        [-1.0000e+04, -1.0000e+04, -1.0000e+04, -1.0000e+04, -1.0000e+04],\n",
       "        [-1.4701e+00,  1.7715e+00, -1.0673e+00,  4.6063e-01, -1.0000e+04]])"
      ]
     },
     "execution_count": 4,
     "metadata": {},
     "output_type": "execute_result"
    }
   ],
   "source": [
    "transitions = nn.Parameter(torch.randn(tagset_size, tagset_size))\n",
    "\n",
    "# These two statements enforce the constraint that we never transfer\n",
    "# to the start tag and we never transfer from the stop tag\n",
    "transitions.data[tag_to_ix[START_TAG], :] = -10000\n",
    "transitions.data[:, tag_to_ix[STOP_TAG]] = -10000\n",
    "\n",
    "transitions"
   ]
  },
  {
   "cell_type": "code",
   "execution_count": 5,
   "metadata": {},
   "outputs": [],
   "source": [
    "def get_word_and_label(_content, start_w, end_w):\n",
    "    word_list = []\n",
    "    tag_list = []\n",
    "    for word_set in _content[start_w:end_w]:\n",
    "        word_list.append(word_set[0])\n",
    "        tag_list.append(word_set[2:])\n",
    "    \n",
    "    return tuple(word_list), tuple(tag_list)\n",
    "\n",
    "def split_to_list(content):\n",
    "    init = 0\n",
    "    word_list = []\n",
    "    tag_list = []\n",
    "\n",
    "    for i, c in enumerate(content):\n",
    "        if c=='':\n",
    "            words, tags = get_word_and_label(content, init, i)\n",
    "            init = i+1\n",
    "            word_list.append(words)\n",
    "            tag_list.append(tags)\n",
    "            \n",
    "    return word_list, tag_list\n",
    "    \n",
    "def prepare_sequence(seq, to_ix):\n",
    "    idxs = [to_ix[w] for w in seq]\n",
    "    return torch.tensor(idxs, dtype=torch.long)\n",
    "\n",
    "def word2index(word_list_train):\n",
    "    word_to_ix = {}\n",
    "    for sentence in word_list_train:\n",
    "        for word in sentence:\n",
    "            if word not in word_to_ix:\n",
    "                word_to_ix[word] = len(word_to_ix)\n",
    "                \n",
    "    return word_to_ix\n",
    "    \n",
    "# ===========================================\n",
    "def argmax(vec):\n",
    "    # return the argmax as a python int\n",
    "    _, idx = torch.max(vec, 1)\n",
    "    return idx.item()\n",
    "\n",
    "# Compute log sum exp in a numerically stable way for the forward algorithm\n",
    "def log_sum_exp(vec):\n",
    "    max_score = vec[0, argmax(vec)]\n",
    "    max_score_broadcast = max_score.view(1, -1).expand(1, vec.size()[1])\n",
    "    return max_score +         torch.log(torch.sum(torch.exp(vec - max_score_broadcast)))"
   ]
  },
  {
   "cell_type": "code",
   "execution_count": 6,
   "metadata": {},
   "outputs": [],
   "source": [
    "class BiLSTM(nn.Module):\n",
    "    def __init__(self, vocab_size, tag_to_ix, embedding_dim, hidden_dim):\n",
    "        super(BiLSTM, self).__init__()\n",
    "        self.embedding_dim = embedding_dim\n",
    "        self.hidden_dim = hidden_dim\n",
    "        self.vocab_size = vocab_size\n",
    "        self.tag_to_ix = tag_to_ix\n",
    "        self.tagset_size = len(tag_to_ix)\n",
    "        \n",
    "        self.word_embeds = nn.Embedding(vocab_size, embedding_dim)\n",
    "        self.lstm = nn.LSTM(embedding_dim, hidden_dim // 2,\n",
    "                            num_layers=1, bidirectional=True)\n",
    "\n",
    "        # Maps the output of the LSTM into tag space.\n",
    "        self.hidden2tag = nn.Linear(hidden_dim, self.tagset_size)\n",
    "        self.hidden = self.init_hidden()\n",
    "        \n",
    "    def init_hidden(self):       \n",
    "        hidden = torch.randn(2, 1, self.hidden_dim // 2)        \n",
    "        return (hidden.cuda(), hidden.cuda())if USE_CUDA else (hidden,hidden)\n",
    "        \n",
    "    def forward(self, sentence):\n",
    "        self.hidden = self.init_hidden()\n",
    "        embeds = self.word_embeds(sentence).view(len(sentence), 1, -1)\n",
    "        lstm_out, self.hidden = self.lstm(embeds, self.hidden)\n",
    "        lstm_out = lstm_out.view(len(sentence), self.hidden_dim)\n",
    "        lstm_feats = self.hidden2tag(lstm_out)\n",
    "        return lstm_feats"
   ]
  },
  {
   "cell_type": "code",
   "execution_count": 7,
   "metadata": {},
   "outputs": [],
   "source": [
    "def _forward_alg(feats):\n",
    "    feats = feats.cpu()\n",
    "    # Do the forward algorithm to compute the partition function\n",
    "    init_alphas = torch.full((1, tagset_size), -10000.)\n",
    "    # START_TAG has all of the score.\n",
    "    init_alphas[0][tag_to_ix[START_TAG]] = 0.\n",
    "\n",
    "    # Wrap in a variable so that we will get automatic backprop\n",
    "    forward_var = init_alphas\n",
    "\n",
    "    # Iterate through the sentence\n",
    "    for feat in feats:\n",
    "        alphas_t = []  # The forward tensors at this timestep\n",
    "        for next_tag in range(tagset_size):\n",
    "            # broadcast the emission score: it is the same regardless of\n",
    "            # the previous tag\n",
    "            emit_score = feat[next_tag].view(\n",
    "                1, -1).expand(1, tagset_size)\n",
    "            # the ith entry of trans_score is the score of transitioning to\n",
    "            # next_tag from i\n",
    "            trans_score = transitions[next_tag].view(1, -1)\n",
    "            # The ith entry of next_tag_var is the value for the\n",
    "            # edge (i -> next_tag) before we do log-sum-exp\n",
    "            next_tag_var = forward_var + trans_score + emit_score\n",
    "            # The forward variable for this tag is log-sum-exp of all the\n",
    "            # scores.\n",
    "            alphas_t.append(log_sum_exp(next_tag_var).view(1))\n",
    "        forward_var = torch.cat(alphas_t).view(1, -1)\n",
    "    terminal_var = forward_var + transitions[tag_to_ix[STOP_TAG]]\n",
    "    alpha = log_sum_exp(terminal_var)\n",
    "    return alpha"
   ]
  },
  {
   "cell_type": "code",
   "execution_count": 8,
   "metadata": {},
   "outputs": [],
   "source": [
    "def _score_sentence(feats, tags):\n",
    "    feats = feats.cpu()\n",
    "    # Gives the score of a provided tag sequence\n",
    "    score = torch.zeros(1)\n",
    "    tags = torch.cat([torch.tensor([tag_to_ix[START_TAG]], dtype=torch.long), tags])\n",
    "    for i, feat in enumerate(feats):\n",
    "        score = score + transitions[tags[i + 1], tags[i]] + feat[tags[i + 1]]\n",
    "    score = score + transitions[tag_to_ix[STOP_TAG], tags[-1]]\n",
    "    return score"
   ]
  },
  {
   "cell_type": "code",
   "execution_count": 9,
   "metadata": {},
   "outputs": [],
   "source": [
    "def _viterbi_decode(feats):\n",
    "    feats = feats.cpu()\n",
    "    backpointers = []\n",
    "\n",
    "    # Initialize the viterbi variables in log space\n",
    "    init_vvars = torch.full((1, tagset_size), -10000.)\n",
    "    init_vvars[0][tag_to_ix[START_TAG]] = 0\n",
    "\n",
    "    # forward_var at step i holds the viterbi variables for step i-1\n",
    "    forward_var = init_vvars\n",
    "    for feat in feats:\n",
    "        bptrs_t = []  # holds the backpointers for this step\n",
    "        viterbivars_t = []  # holds the viterbi variables for this step\n",
    "\n",
    "        for next_tag in range(tagset_size):\n",
    "            # next_tag_var[i] holds the viterbi variable for tag i at the\n",
    "            # previous step, plus the score of transitioning\n",
    "            # from tag i to next_tag.\n",
    "            # We don't include the emission scores here because the max\n",
    "            # does not depend on them (we add them in below)\n",
    "            next_tag_var = forward_var + transitions[next_tag]\n",
    "            best_tag_id = argmax(next_tag_var)\n",
    "            bptrs_t.append(best_tag_id)\n",
    "            viterbivars_t.append(next_tag_var[0][best_tag_id].view(1))\n",
    "        # Now add in the emission scores, and assign forward_var to the set\n",
    "        # of viterbi variables we just computed\n",
    "        forward_var = (torch.cat(viterbivars_t) + feat).view(1, -1)\n",
    "        backpointers.append(bptrs_t)\n",
    "\n",
    "    # Transition to STOP_TAG\n",
    "    terminal_var = forward_var + transitions[tag_to_ix[STOP_TAG]]\n",
    "    best_tag_id = argmax(terminal_var)\n",
    "    path_score = terminal_var[0][best_tag_id]\n",
    "\n",
    "    # Follow the back pointers to decode the best path.\n",
    "    best_path = [best_tag_id]\n",
    "    for bptrs_t in reversed(backpointers):\n",
    "        best_tag_id = bptrs_t[best_tag_id]\n",
    "        best_path.append(best_tag_id)\n",
    "    # Pop off the start tag (we dont want to return that to the caller)\n",
    "    start = best_path.pop()\n",
    "    assert start == tag_to_ix[START_TAG]  # Sanity check\n",
    "    best_path.reverse()\n",
    "    return path_score, best_path"
   ]
  },
  {
   "cell_type": "code",
   "execution_count": 10,
   "metadata": {},
   "outputs": [],
   "source": [
    "def predict(sentence, model):\n",
    "\n",
    "    lstm_feats = model(sentence)\n",
    "\n",
    "    # Find the best path, given the features.\n",
    "    score, tag_seq = _viterbi_decode(lstm_feats)\n",
    "    \n",
    "    return score, tag_seq"
   ]
  },
  {
   "cell_type": "code",
   "execution_count": 11,
   "metadata": {},
   "outputs": [],
   "source": [
    "with open(train_data, \"r\", encoding=\"utf-8\") as f:\n",
    "    content = f.read().splitlines()"
   ]
  },
  {
   "cell_type": "code",
   "execution_count": 12,
   "metadata": {},
   "outputs": [],
   "source": [
    "word_list_train, tag_list_train = split_to_list(content)"
   ]
  },
  {
   "cell_type": "code",
   "execution_count": 13,
   "metadata": {},
   "outputs": [],
   "source": [
    "word_to_ix = word2index(word_list_train)"
   ]
  },
  {
   "cell_type": "code",
   "execution_count": 14,
   "metadata": {},
   "outputs": [
    {
     "data": {
      "text/plain": [
       "tensor([  0,   1,   2,   3,   4,   5,   6,   7,   8,   9,  10,  11,\n",
       "         12,  13,  14,  15,  16,   0,   1,   2,   3,  17,   0,  18,\n",
       "         19,  20,  21,  22,  23,  24,  25,   4,  26])"
      ]
     },
     "execution_count": 14,
     "metadata": {},
     "output_type": "execute_result"
    }
   ],
   "source": [
    "prepare_sequence(word_list_train[0], word_to_ix)"
   ]
  },
  {
   "cell_type": "code",
   "execution_count": 15,
   "metadata": {},
   "outputs": [],
   "source": [
    "model = BiLSTM(len(word_to_ix), tag_to_ix, EMBEDDING_DIM, HIDDEN_DIM).cuda()\n",
    "para = [i for i in model.parameters()]+[transitions]\n",
    "optimizer = optim.Adam(para, lr=0.01, weight_decay=1e-4)"
   ]
  },
  {
   "cell_type": "code",
   "execution_count": 16,
   "metadata": {},
   "outputs": [],
   "source": [
    "to_train_sent = word_list_train[:50]\n",
    "to_train_tag = tag_list_train[:50]"
   ]
  },
  {
   "cell_type": "code",
   "execution_count": 17,
   "metadata": {},
   "outputs": [],
   "source": [
    "import time\n",
    "import math\n",
    "\n",
    "def timeSince(since):\n",
    "    now = time.time()\n",
    "    s = now - since\n",
    "    m = math.floor(s / 60)\n",
    "    s -= m * 60\n",
    "    return '%dm %ds' % (m, s)"
   ]
  },
  {
   "cell_type": "code",
   "execution_count": 18,
   "metadata": {},
   "outputs": [
    {
     "name": "stdout",
     "output_type": "stream",
     "text": [
      "(tensor(53.5254), [2, 2, 2, 2, 2, 2, 2, 2, 2, 2, 2, 2, 2, 2, 2, 2, 2, 2, 2, 2, 2, 2, 2, 2, 2, 2, 2, 2, 2, 2, 2, 2, 1])\n",
      "tensor([ 2,  2,  2,  2,  2,  2,  2,  2,  2,  2,  0,  1,  2,  2,\n",
      "         2,  2,  2,  2,  2,  2,  2,  2,  2,  2,  2,  2,  2,  2,\n",
      "         2,  2,  2,  2,  2])\n"
     ]
    }
   ],
   "source": [
    "# Check predictions before training\n",
    "with torch.no_grad():\n",
    "    precheck_sent = prepare_sequence(word_list_train[0], word_to_ix)\n",
    "    precheck_tags = torch.tensor([tag_to_ix[t] for t in tag_list_train[0]], dtype=torch.long)\n",
    "    print(predict(precheck_sent.cuda(), model))\n",
    "    print(precheck_tags)"
   ]
  },
  {
   "cell_type": "code",
   "execution_count": 19,
   "metadata": {},
   "outputs": [
    {
     "name": "stdout",
     "output_type": "stream",
     "text": [
      "Epoch:  1 | train loss: 2.5703 |  0m 5s\n",
      "Epoch:  2 | train loss: 1.5025 |  0m 11s\n",
      "Epoch:  3 | train loss: 1.7501 |  0m 17s\n",
      "Epoch:  4 | train loss: 0.3015 |  0m 23s\n",
      "Epoch:  5 | train loss: 0.0767 |  0m 29s\n",
      "Epoch:  6 | train loss: 0.0327 |  0m 34s\n",
      "Epoch:  7 | train loss: 0.0226 |  0m 40s\n",
      "Epoch:  8 | train loss: 0.0115 |  0m 46s\n",
      "Epoch:  9 | train loss: 0.0127 |  0m 52s\n",
      "Epoch:  10 | train loss: 0.0070 |  0m 57s\n"
     ]
    }
   ],
   "source": [
    "start = time.time()\n",
    "# Make sure prepare_sequence from earlier in the LSTM section is loaded\n",
    "for epoch in range(10):  \n",
    "    for sentence, tags in zip(to_train_sent,to_train_tag):\n",
    "        # Step 1. Remember that Pytorch accumulates gradients.\n",
    "        # We need to clear them out before each instance\n",
    "        model.zero_grad()\n",
    "\n",
    "        # Step 2. Get our inputs ready for the network, that is,\n",
    "        # turn them into Tensors of word indices.\n",
    "        sentence_in = prepare_sequence(sentence, word_to_ix)\n",
    "        targets = torch.tensor([tag_to_ix[t] for t in tags], dtype=torch.long)\n",
    "\n",
    "        # Step 3. Run our forward pass.\n",
    "        lstm_feats = model(sentence_in.cuda()).cpu()\n",
    "        forward_score = _forward_alg(lstm_feats)\n",
    "        gold_score = _score_sentence(lstm_feats, targets)\n",
    "        loss = forward_score - gold_score\n",
    "        \n",
    "\n",
    "        # Step 4. Compute the loss, gradients, and update the parameters by\n",
    "        # calling optimizer.step()\n",
    "        loss.backward()\n",
    "        optimizer.step()\n",
    "        \n",
    "    \n",
    "    print('Epoch: ', epoch+1, '| train loss: %.4f' % loss ,'| ',timeSince(start) )"
   ]
  },
  {
   "cell_type": "code",
   "execution_count": 20,
   "metadata": {},
   "outputs": [
    {
     "name": "stdout",
     "output_type": "stream",
     "text": [
      "(tensor(180.0339), [2, 2, 2, 2, 2, 2, 2, 2, 2, 2, 2, 0, 1, 2, 2, 2, 2, 2, 2, 2, 2, 2, 2])\n",
      "tensor([ 2,  2,  2,  2,  2,  2,  2,  2,  2,  2,  2,  0,  1,  2,\n",
      "         2,  2,  2,  2,  2,  2,  2,  2,  2])\n"
     ]
    }
   ],
   "source": [
    "# Check predictions after training\n",
    "with torch.no_grad():\n",
    "    precheck_sent = prepare_sequence(word_list_train[51], word_to_ix)\n",
    "    precheck_tags = torch.tensor([tag_to_ix[t] for t in tag_list_train[51]], dtype=torch.long)\n",
    "    print(predict(precheck_sent.cuda(), model))\n",
    "    print(precheck_tags)"
   ]
  },
  {
   "cell_type": "code",
   "execution_count": 21,
   "metadata": {},
   "outputs": [
    {
     "data": {
      "text/plain": [
       "Parameter containing:\n",
       "tensor([[-4.4764e+00, -4.9303e-01,  4.2499e+00,  3.9597e+00, -9.9951e+03],\n",
       "        [ 6.0550e+00, -7.0271e+00, -5.3599e+00, -5.5480e+00, -9.9951e+03],\n",
       "        [-5.5373e+00, -2.4758e+00,  5.8117e+00,  3.8192e+00, -9.9951e+03],\n",
       "        [-9.9951e+03, -9.9951e+03, -9.9951e+03, -9.9951e+03, -9.9951e+03],\n",
       "        [-6.9630e+00, -3.5367e+00,  4.2539e+00,  3.0406e-12, -9.9951e+03]])"
      ]
     },
     "execution_count": 21,
     "metadata": {},
     "output_type": "execute_result"
    }
   ],
   "source": [
    "transitions"
   ]
  },
  {
   "cell_type": "code",
   "execution_count": null,
   "metadata": {},
   "outputs": [],
   "source": []
  },
  {
   "cell_type": "code",
   "execution_count": null,
   "metadata": {},
   "outputs": [],
   "source": []
  }
 ],
 "metadata": {
  "kernelspec": {
   "display_name": "Python 3",
   "language": "python",
   "name": "python3"
  },
  "language_info": {
   "codemirror_mode": {
    "name": "ipython",
    "version": 3
   },
   "file_extension": ".py",
   "mimetype": "text/x-python",
   "name": "python",
   "nbconvert_exporter": "python",
   "pygments_lexer": "ipython3",
   "version": "3.5.2"
  }
 },
 "nbformat": 4,
 "nbformat_minor": 2
}
