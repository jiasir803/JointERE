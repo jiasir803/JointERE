{
 "cells": [
  {
   "cell_type": "code",
   "execution_count": 1,
   "metadata": {},
   "outputs": [],
   "source": [
    "import torch\n",
    "from torch.autograd import Variable\n",
    "import torch.nn as nn\n",
    "import torch.optim as optim\n",
    "import torch.nn.functional as F\n",
    "import torch.utils.data as Data\n",
    "from tqdm import tqdm\n",
    "\n",
    "import numpy as np\n",
    "import copy\n",
    "import json\n",
    "\n",
    "USE_CUDA = True"
   ]
  },
  {
   "cell_type": "code",
   "execution_count": 2,
   "metadata": {},
   "outputs": [],
   "source": [
    "def readfile(data):\n",
    "    with open(data, \"r\", encoding=\"utf-8\") as f:\n",
    "        content = f.read().splitlines()\n",
    "        \n",
    "    return content\n",
    "\n",
    "def schema_load(schema_root):\n",
    "    raw_dict = \"\".join(readfile(schema_root))\n",
    "    dict2json = \"\".join(raw_dict.split()[2:])\n",
    "\n",
    "    json_acceptable_string = dict2json.replace(\"'\", \"\\\"\")\n",
    "    schema = json.loads(json_acceptable_string)\n",
    "    \n",
    "    return schema\n",
    "\n",
    "def define_entity(schema):\n",
    "    tag_type = list(schema['tagging'])\n",
    "    \n",
    "    entity_tag = []\n",
    "    for k in list(schema['entity'].keys()):\n",
    "        entity_tag.append(schema['entity'][k]['tag'])\n",
    "        \n",
    "    TAG = []\n",
    "    for t in tag_type:\n",
    "        for e in entity_tag:\n",
    "            if t!='O':\n",
    "                TAG.append(t+'-'+e)  \n",
    "                \n",
    "    TAG = [UNKOWN_TAG, PAD_TAG] + TAG + ['O']   \n",
    "\n",
    "    return TAG\n",
    "\n",
    "def tag2ix(TAG):\n",
    "    tag_to_ix={t:i for i,t in enumerate(TAG)}\n",
    "    return tag_to_ix\n",
    "\n",
    "def define_relation(schema):\n",
    "    relation_type = list(schema['relation'])\n",
    "    \n",
    "    relation_tag = []\n",
    "    for k in list(schema['relation'].keys()):\n",
    "        relation_tag.append(schema['relation'][k]['tag'])\n",
    "    \n",
    "    relation_tag = [REL_PAD] + [REL_NONE] + relation_tag\n",
    "        \n",
    "    return relation_tag\n",
    "\n",
    "# ==================================================\n",
    "\n",
    "def get_word_and_label(_content, start_w, end_w):\n",
    "    word_list = []\n",
    "    ent_list = []\n",
    "    rel_list = []\n",
    "    \n",
    "    for word_set in _content[start_w:end_w]:\n",
    "        word_set = word_set.split()\n",
    "        if len(word_set)==1:\n",
    "            word_list.append(' ')\n",
    "            ent_list.append('O')\n",
    "            rel_list.append(REL_NONE)\n",
    "        \n",
    "        else:\n",
    "            word_list.append(word_set[0])\n",
    "            ent_list.append(word_set[1])\n",
    "\n",
    "            try:\n",
    "                testerror = word_set[2]\n",
    "            except IndexError:\n",
    "                rel_list.append(REL_NONE)\n",
    "            else:\n",
    "                rel_list.append(word_set[2:])\n",
    "    \n",
    "    return word_list, ent_list, rel_list\n",
    "\n",
    "def split_to_list(content):\n",
    "    init = 0\n",
    "    word_list = []\n",
    "    ent_list = []\n",
    "    rel_list = []\n",
    "\n",
    "    for now_token, c in enumerate(content):\n",
    "        if c=='':\n",
    "            words, ents, rels = get_word_and_label(content, init, now_token)\n",
    "            init = now_token+1\n",
    "            word_list.append(words)\n",
    "            ent_list.append(ents)\n",
    "            rel_list.append(rels)\n",
    "            \n",
    "    return word_list, ent_list, rel_list\n",
    "\n",
    "# ==================================================\n",
    "\n",
    "def word2index(word_list):\n",
    "    word_to_ix = {\"<UNKNOWN>\":0, \"<PAD>\":1}\n",
    "    for sentence in word_list:\n",
    "        for word in sentence:\n",
    "            if word not in word_to_ix:\n",
    "                word_to_ix[word] = len(word_to_ix)\n",
    "                \n",
    "    return word_to_ix\n",
    "\n",
    "def dict_inverse(tag_to_ix):\n",
    "    ix_to_tag = {v: k for k, v in tag_to_ix.items()}\n",
    "    return ix_to_tag\n",
    "\n",
    "def index2tag(indexs, ix_to):\n",
    "    to_tags = [ix_to[i] for i in indexs.cpu().numpy()]\n",
    "    return to_tags\n",
    "\n",
    "# ==================================================\n",
    "\n",
    "def find_max_len(word_list):\n",
    "    max_len = 0\n",
    "    for i in range(len(word_list)):\n",
    "        if max_len<len(word_list[i]):\n",
    "            max_len=len(word_list[i])\n",
    "            \n",
    "    return max_len\n",
    "\n",
    "# ====== filter the length of sentence more than MAX_LEN =======\n",
    "\n",
    "def filter_len(word_list):\n",
    "    reserved_index = []\n",
    "    for i in range(len(word_list)):\n",
    "        if len(word_list[i])<MAX_LEN:\n",
    "            reserved_index.append(i)\n",
    "            \n",
    "    return reserved_index\n",
    "\n",
    "\n",
    "def filter_sentence(reserved_index, word_list, ent_list, rel_list):\n",
    "    filter_word = list(word_list[i] for i in reserved_index)\n",
    "    filter_ent = list(ent_list[i] for i in reserved_index)\n",
    "    filter_rel = list(rel_list[i] for i in reserved_index)\n",
    "    return filter_word, filter_ent, filter_rel\n",
    "\n",
    "# ==================================================\n",
    "\n",
    "def pad_seq(seq, isrel):\n",
    "    if isrel:\n",
    "        seq += [REL_NONE for i in range(MAX_LEN-len(seq))]\n",
    "    else:\n",
    "        seq += [PAD_TAG for i in range(MAX_LEN-len(seq))]\n",
    "    return seq\n",
    "\n",
    "def pad_all(filter_word, filter_ent, filter_rel):\n",
    "    input_padded = [pad_seq(s, False) for s in filter_word]\n",
    "    ent_padded = [pad_seq(s, False) for s in filter_ent]\n",
    "    rel_padded = [pad_seq(s, True) for s in filter_rel]\n",
    "    \n",
    "    return input_padded, ent_padded, rel_padded\n",
    "\n",
    "def deep_copy_lists(filter_word, filter_ent, filter_rel):\n",
    "    f_w = copy.deepcopy(filter_word)\n",
    "    f_e = copy.deepcopy(filter_ent)\n",
    "    f_r = copy.deepcopy(filter_rel)\n",
    "    \n",
    "    return f_w, f_e, f_r\n",
    "\n",
    "# ==================================================\n",
    "\n",
    "def prepare_sequence(seq, to_ix):\n",
    "    idxs = []\n",
    "    for w in seq:\n",
    "        if w not in to_ix:\n",
    "            idxs.append(to_ix[UNKOWN_TAG])\n",
    "        else:\n",
    "            idxs.append(to_ix[w])\n",
    "    \n",
    "#     idxs = [to_ix[w] for w in seq]\n",
    "    return torch.tensor(idxs, dtype=torch.long)\n",
    "\n",
    "def prepare_all(seqs, to_ix):\n",
    "    seq_list = []\n",
    "    for i in range(len(seqs)):\n",
    "        seq_list.append(prepare_sequence(seqs[i], to_ix))\n",
    "        \n",
    "    seq_list = torch.stack(seq_list)\n",
    "        \n",
    "    return seq_list\n",
    "\n",
    "\n",
    "\n",
    "def prepare_rel(rel_padded, to_ix):\n",
    "    \n",
    "    rel_ptr = torch.zeros(len(rel_padded), MAX_LEN, MAX_LEN, dtype=torch.long) \n",
    "    \n",
    "    # 對當前的token，去比較之前所有出現過的entity，是否有關係，建成矩陣\n",
    "    # [B*ML*ML]，第二維ML是當前token，第三維ML是根據當前token對之前出現過的entity紀錄關係，以index紀錄\n",
    "    for i, rel_seq in enumerate(rel_padded):\n",
    "        rel_dict = {}\n",
    "        for j, token_seq in enumerate(rel_seq):\n",
    "            rel_ptr[i][j][:j+1] = 1\n",
    "            if token_seq != REL_NONE:\n",
    "                for k, rel in enumerate(token_seq):\n",
    "\n",
    "                    # if 是第一次出現，紀錄後面數字(標第幾對)和關係位置(A OR B)\n",
    "                    # 假如下次出現又是同個關係位置(A)，依然紀錄\n",
    "                    # 直到下次出現關係位置B，依照之前紀錄的A位置的字，然後在第三維去標關係\n",
    "\n",
    "                    rel_token = rel.split('-')\n",
    "                    if rel_token[1] not in rel_dict:\n",
    "                        rel_dict[rel_token[1]] = {'rel':rel_token[0], 'loc':rel_token[2], 'idx':[j]}\n",
    "\n",
    "                    elif rel_token[1] in rel_dict and rel_dict[rel_token[1]]['loc']==rel_token[2]:\n",
    "                        rel_dict[rel_token[1]]['idx'].append(j)\n",
    "\n",
    "                    else:\n",
    "                        record_loc = rel_dict[rel_token[1]]['idx']\n",
    "                        for idxx in record_loc:\n",
    "                            rel_ptr[i][j][idxx] = to_ix[rel_token[0]]\n",
    "                            \n",
    "    return rel_ptr\n",
    "                \n",
    "\n",
    "\n",
    "# ==================================================\n",
    "\n",
    "def dataload(input_var, ent_var, rel_var, raw_input):\n",
    "    torch_dataset = Data.TensorDataset(input_var, ent_var, rel_var, raw_input)\n",
    "\n",
    "    loader = Data.DataLoader(\n",
    "        dataset=torch_dataset,      # torch TensorDataset format\n",
    "        batch_size=BATCH_SIZE,      # mini batch size\n",
    "        shuffle=True,               \n",
    "        num_workers=2,       \n",
    "        drop_last=True\n",
    "    )\n",
    "    \n",
    "    return loader\n",
    "\n",
    "# ==================================================\n",
    "def softmax_entity(entity):\n",
    "    entity = entity.view(BATCH_SIZE,ent_size).argmax(1)\n",
    "    return entity"
   ]
  },
  {
   "cell_type": "code",
   "execution_count": 3,
   "metadata": {},
   "outputs": [],
   "source": [
    "class Attn(nn.Module):\n",
    "    def __init__(self, attn_input, attn_output, rel_size):\n",
    "        super(Attn, self).__init__()\n",
    "        \n",
    "        self.attn_input = attn_input\n",
    "        self.attn_output = attn_output\n",
    "        self.rel_size = rel_size\n",
    "        \n",
    "        self.w1 = nn.Linear(self.attn_input, self.attn_output)\n",
    "        self.w2 = nn.Linear(self.attn_input, self.attn_output)\n",
    "        self.tanh = nn.Tanh()\n",
    "        self.v = nn.Linear(self.attn_output, self.rel_size, bias=False)\n",
    "        self.softmax = nn.LogSoftmax(dim=2)\n",
    "        \n",
    "        \n",
    "    def forward(self, encoder_outputs):\n",
    "        \n",
    "        decoder = encoder_outputs[:,-1,:].unsqueeze(1)                       #B*1*(ts+LE) [128,1,8]\n",
    "        encoder_score = self.w1(encoder_outputs)                             #B*now len*ATTN_OUT\n",
    "        decoder_score = self.w2(decoder)                                     #B*1*ATTN_OUT\n",
    "        energy = self.tanh(encoder_score+decoder_score)                      #B*now len*ATTN_OUT            \n",
    "        \n",
    "        energy = self.v(energy)                                              #B*now len*rel_size\n",
    "        \n",
    "        \n",
    "        # 針對每個entity做softmax，去顯示他們的關係權重\n",
    "        # 主要都會是rel_none\n",
    "        # 對第二維(rel)做softmax\n",
    "        p = self.softmax(energy)                                         #B*now len*rel_size\n",
    "        \n",
    "        return p\n",
    "    "
   ]
  },
  {
   "cell_type": "code",
   "execution_count": 4,
   "metadata": {},
   "outputs": [],
   "source": [
    "class Entity_Typing(nn.Module):\n",
    "    def __init__(self, vocab_size, ent_tag_to_ix, embedding_dim, hidden_dim1, hidden_dim2, \\\n",
    "                 label_embed_dim, rel_tag_to_ix):\n",
    "        \n",
    "        super(Entity_Typing, self).__init__()\n",
    "        self.embedding_dim = embedding_dim                   #E\n",
    "        self.hidden_dim1 = hidden_dim1                       #h1\n",
    "        self.hidden_dim2 = hidden_dim2                       #h2\n",
    "        self.label_embed_dim = label_embed_dim               #LE\n",
    "        self.vocab_size = vocab_size                         #vs\n",
    "        self.ent_to_ix = ent_tag_to_ix\n",
    "        self.ent_size = len(ent_tag_to_ix)                   #es\n",
    "        self.rel_to_ix = rel_tag_to_ix\n",
    "        self.rel_size = len(rel_tag_to_ix)                   #rs           \n",
    "        \n",
    "        self.dropout = nn.Dropout(p=0.3)\n",
    "        self.bn = nn.BatchNorm1d(DENSE_OUT, momentum=0.5, affine=False)\n",
    "        \n",
    "        \n",
    "        self.word_embeds = nn.Embedding(vocab_size, embedding_dim)\n",
    "        \n",
    "#         self.bilstm = nn.LSTM(embedding_dim, hidden_dim1 // 2,\n",
    "#                             num_layers=2, bidirectional=True, batch_first=True, dropout=0.2)        \n",
    "        self.bilstm = nn.GRU(embedding_dim, hidden_dim1 // 2,\n",
    "                            num_layers=2, bidirectional=True, batch_first=True, dropout=0.2)\n",
    "        \n",
    "        \n",
    "        self.dense = nn.Linear(hidden_dim1, DENSE_OUT)\n",
    "        self.top_hidden = nn.LSTMCell(DENSE_OUT+label_embed_dim, hidden_dim2)          \n",
    "        \n",
    "\n",
    "        # Maps the output of the LSTM into tag space.\n",
    "        self.hidden2tag = nn.Linear(hidden_dim2, self.ent_size)\n",
    "        self.softmax = nn.LogSoftmax(dim=1)\n",
    "        self.label_embed = nn.Linear(self.ent_size, self.label_embed_dim)\n",
    "        \n",
    "        self.attn = Attn(ATTN_IN, ATTN_OUT, self.rel_size)\n",
    "        \n",
    "        \n",
    "    def init_hidden1(self):       \n",
    "        hidden = torch.randn(2*2, BATCH_SIZE, self.hidden_dim1 // 2)    #4*B*(h1/2)\n",
    "\n",
    "        return (hidden.cuda(), hidden.cuda())if USE_CUDA else (hidden,hidden)\n",
    "    \n",
    "    def init_hidden2(self):       \n",
    "        hidden = torch.randn(BATCH_SIZE, self.hidden_dim2)              #B*h2\n",
    "\n",
    "        return (hidden.cuda(), hidden.cuda())if USE_CUDA else (hidden,hidden)\n",
    "    \n",
    "    def init_label_embed(self):\n",
    "        hidden = torch.zeros(BATCH_SIZE, self.label_embed_dim)          #B*LE\n",
    "        return hidden.cuda()if USE_CUDA else hidden\n",
    "    \n",
    "    def create_entity(self):\n",
    "        output_tensor = torch.zeros(BATCH_SIZE, MAX_LEN, self.ent_size)  #B*ML*es\n",
    "        return output_tensor.cuda()if USE_CUDA else output_tensor\n",
    "    \n",
    "    def create_rel_matrix(self):\n",
    "        rel_tensor = torch.zeros(BATCH_SIZE, MAX_LEN, MAX_LEN, self.rel_size)  #B*ML*ML*rs\n",
    "        return rel_tensor.cuda()if USE_CUDA else rel_tensor\n",
    "    \n",
    "    \n",
    "        \n",
    "    def forward(self, sentence):\n",
    "#         self.hidden1 = self.init_hidden1()                      #4*B*(h1/2)\n",
    "        entity_tensor = self.create_entity()                    #B*ML*es\n",
    "        rel_tensor = self.create_rel_matrix()                   #B*ML*ML*rs\n",
    "        \n",
    "        embeds = self.word_embeds(sentence)                     #B*ML*E,[128, 100, 20]\n",
    "        \n",
    "#         bilstm_out, self.hidden1 = self.bilstm(embeds, self.hidden1)\n",
    "        bilstm_out, hidden1 = self.bilstm(embeds)\n",
    "        # bilstm_out -> B*ML*h1,[128, 100, 10]\n",
    "        # self.hidden1 -> ( 4*B*(h1/2), 4*B*(h1/2) )\n",
    "        \n",
    "        # bn\n",
    "        bilstm_out = self.bn(bilstm_out)\n",
    "        dense_out = self.dense(bilstm_out)                      #B*ML*DENSE_OUT,[128, 100, 100]\n",
    "        \n",
    "        \n",
    "        encoder_sequence_l = [] \n",
    "\n",
    "        for length in range(MAX_LEN):\n",
    "            now_token = dense_out[:,length,:]\n",
    "            now_token = torch.squeeze(now_token, 1)\n",
    "            if length==0:\n",
    "                \n",
    "#                 fake_hidden=(100)\n",
    "#                 noise_x = random(100)\n",
    "                self.hidden2 = self.init_hidden2()\n",
    "                self.zero_label_embed = self.init_label_embed()\n",
    "                combine_x = torch.cat((now_token, self.zero_label_embed),1)  #B*(DENSE_OUT+LE),[128, 103]\n",
    "                \n",
    "            else:\n",
    "#                 fake_hidden=h\n",
    "                self.hidden2 = (h_next, c_next)\n",
    "                combine_x = torch.cat((now_token, label),1)\n",
    "\n",
    "            h_next, c_next = self.top_hidden(combine_x, self.hidden2)    #B*h2,[128, 8]           \n",
    "            to_tags = self.hidden2tag(h_next)                            #B*es,[128, 5]            \n",
    "            ent_output = self.softmax(to_tags)                               #B*es,[128, 5]             \n",
    "            label = self.label_embed(ent_output)                             #B*LE,[128, 3]\n",
    "            \n",
    "            s_ent_output = softmax_entity(ent_output)\n",
    "            \n",
    "            \n",
    "            # Assignments to Variables are in-place operations.\n",
    "            # Use that variable in lots of other contexts \n",
    "            # and some of the functions require it to not change. \n",
    "            to_tags_clone = to_tags.clone()\n",
    "            label_clone = label.clone()\n",
    "            \n",
    "            \n",
    "#             for i, tag in enumerate(s_ent_output):\n",
    "#                 if tag==ent_tag_to_ix['O']:\n",
    "#                     to_tags_clone[i] = torch.FloatTensor([-999999 * self.ent_size])\n",
    "#                     label_clone[i] = torch.FloatTensor([-999999 * self.ent_size])\n",
    "                    \n",
    "            # relation layer\n",
    "#             encoder_sequence_l.append(torch.cat((to_tags,label),1)) \n",
    "            encoder_sequence_l.append(torch.cat((h_next,label),1))  \n",
    "            encoder_sequence = torch.stack(encoder_sequence_l).t()     #B*len*(es+LE), [128,1,8]          \n",
    "\n",
    "            # Calculate attention weights \n",
    "            attn_weights = self.attn(encoder_sequence)\n",
    "\n",
    "        \n",
    "            entity_tensor[:,length,:] = ent_output\n",
    "            \n",
    "            # rel_tensor[:,length, 頭~當前 ,:]\n",
    "            rel_tensor[:,length,:length+1,:] = attn_weights\n",
    "\n",
    "        \n",
    "        \n",
    "        '''NLLLoss input: Input: (N,C) where C = number of classes'''\n",
    "        return entity_tensor.view(BATCH_SIZE*MAX_LEN, self.ent_size), \\\n",
    "               rel_tensor.view(BATCH_SIZE*MAX_LEN*MAX_LEN, self.rel_size)"
   ]
  },
  {
   "cell_type": "code",
   "execution_count": 5,
   "metadata": {},
   "outputs": [],
   "source": [
    "root = '/notebooks/sinica/dataset/'\n",
    "train_data = root+'facial.train'\n",
    "dev_data = root+'facial.dev'\n",
    "test_data = root+'facial.test'\n",
    "\n",
    "relation_data_old = root+'facial_r.old.train'\n",
    "# relation_data = root+'facial_r.train'\n",
    "relation_data = root+'facial_r2.train'\n",
    "schema_root = root+'schema.txt'\n",
    "dev_data = root+'facial_r2.dev'\n",
    "test_data = root+'facial_r2.test'\n",
    "\n",
    "\n",
    "UNKOWN_TAG = \"<UNKNOWN>\"\n",
    "PAD_TAG = \"<PAD>\"\n",
    "REL_NONE = 'Rel-None'\n",
    "REL_PAD = 'Rel-Pad'\n",
    "rule = ('FUNC', 'ApplyTo', 'STAT')\n",
    "\n",
    "schema = schema_load(schema_root)\n",
    "ENT_TAG = define_entity(schema)\n",
    "REL_TAG = define_relation(schema)\n",
    "ent_tag_to_ix = tag2ix(ENT_TAG)\n",
    "'''{'<PAD>': 1,\n",
    " '<UNKNOWN>': 0,\n",
    " 'B-FUNC': 2,\n",
    " 'B-STAT': 3,\n",
    " 'I-FUNC': 4,\n",
    " 'I-STAT': 5,\n",
    " 'O': 6}'''\n",
    "rel_tag_to_ix = tag2ix(REL_TAG)\n",
    "'''{'ApplyTo': 2, 'Rel-None': 1, 'Rel-Pad': 0}'''\n",
    "\n",
    "# ========hyper-parameter-set==========\n",
    "\n",
    "ent_size = len(ent_tag_to_ix)\n",
    "rel_size = len(rel_tag_to_ix)\n",
    "MAX_LEN = 100\n",
    "BATCH_SIZE = 18\n",
    "\n",
    "EMBEDDING_DIM = 20\n",
    "HIDDEN_DIM1 = 10\n",
    "HIDDEN_DIM2 = 8\n",
    "LABEL_EMBED_DIM = ent_size\n",
    "DENSE_OUT = 100\n",
    "\n",
    "# ATTN_IN = ent_size+LABEL_EMBED_DIM\n",
    "ATTN_IN = HIDDEN_DIM2+LABEL_EMBED_DIM\n",
    "ATTN_OUT = 6"
   ]
  },
  {
   "cell_type": "code",
   "execution_count": 6,
   "metadata": {},
   "outputs": [],
   "source": [
    "def preprocess(data):\n",
    "    content = readfile(data)\n",
    "    word_list, ent_list, rel_list = split_to_list(content)\n",
    "    word_to_ix = word2index(word_list)\n",
    "    reserved_index = filter_len(word_list)\n",
    "    filter_word, filter_ent, filter_rel = filter_sentence(reserved_index, word_list, ent_list, rel_list)\n",
    "    f_w, f_e, f_r = deep_copy_lists(filter_word, filter_ent, filter_rel)\n",
    "    input_padded, ent_padded, rel_padded = pad_all(f_w, f_e, f_r)\n",
    "    #================================================\n",
    "    input_var = prepare_all(input_padded, word_to_ix)\n",
    "    ent_var = prepare_all(ent_padded, ent_tag_to_ix)\n",
    "    rel_var = prepare_rel(rel_padded, rel_tag_to_ix)\n",
    "    #================================================\n",
    "    vocab_size = len(word_to_ix)\n",
    "    \n",
    "    reserved_index = torch.from_numpy(np.asarray(reserved_index))\n",
    "    \n",
    "    return input_var, ent_var, rel_var, vocab_size, word_to_ix, reserved_index, word_list\n",
    "\n",
    "def dev_preprocess(dev_data):\n",
    "    dev_content = readfile(dev_data)\n",
    "    word_list, ent_list, rel_list = split_to_list(dev_content)\n",
    "    reserved_index = filter_len(word_list)\n",
    "    filter_word, filter_ent, filter_rel = filter_sentence(reserved_index, word_list, ent_list, rel_list)\n",
    "    f_w, f_e, f_r = deep_copy_lists(filter_word, filter_ent, filter_rel)\n",
    "    input_padded, ent_padded, rel_padded = pad_all(f_w, f_e, f_r)\n",
    "    #================================================\n",
    "    input_var = prepare_all(input_padded, word_to_ix)\n",
    "    ent_var = prepare_all(ent_padded, ent_tag_to_ix)\n",
    "    rel_var = prepare_rel(rel_padded, rel_tag_to_ix)\n",
    "    \n",
    "    reserved_index = torch.from_numpy(np.asarray(reserved_index))\n",
    "    \n",
    "    return input_var, ent_var, rel_var, reserved_index, word_list\n"
   ]
  },
  {
   "cell_type": "code",
   "execution_count": 7,
   "metadata": {},
   "outputs": [],
   "source": [
    "ix_to_ent_tag = dict_inverse(ent_tag_to_ix)\n",
    "ix_to_rel_tag = dict_inverse(rel_tag_to_ix)\n",
    "#===============================================\n",
    "input_var, ent_var, rel_var, vocab_size, word_to_ix, raw_index, raw_input = preprocess(relation_data)\n",
    "loader = dataload(input_var, ent_var, rel_var, raw_index)\n",
    "\n",
    "input_dev, ent_dev, rel_dev, raw_index_dev, raw_input_dev = dev_preprocess(dev_data)\n",
    "dev_loader = dataload(input_dev, ent_dev, rel_dev, raw_index_dev)"
   ]
  },
  {
   "cell_type": "code",
   "execution_count": 8,
   "metadata": {},
   "outputs": [],
   "source": [
    "model = Entity_Typing(vocab_size, ent_tag_to_ix, EMBEDDING_DIM, HIDDEN_DIM1, HIDDEN_DIM2, \\\n",
    "              LABEL_EMBED_DIM, rel_tag_to_ix).cuda()\n",
    "optimizer = optim.Adam(model.parameters(), lr=0.01, weight_decay=1e-4)\n",
    "criterion_tag = nn.NLLLoss()\n",
    "criterion_rel = nn.NLLLoss()"
   ]
  },
  {
   "cell_type": "code",
   "execution_count": 9,
   "metadata": {},
   "outputs": [],
   "source": [
    "import time\n",
    "import math\n",
    "\n",
    "def timeSince(since):\n",
    "    now = time.time()\n",
    "    s = now - since\n",
    "    m = math.floor(s / 60)\n",
    "    s -= m * 60\n",
    "    return '%dm %ds' % (m, s)"
   ]
  },
  {
   "cell_type": "code",
   "execution_count": 10,
   "metadata": {},
   "outputs": [
    {
     "name": "stderr",
     "output_type": "stream",
     "text": [
      "  1%|▏         | 1/70 [00:07<08:31,  7.41s/it]"
     ]
    },
    {
     "name": "stdout",
     "output_type": "stream",
     "text": [
      "epoch: 0 | ent loss 0.4766 | rel loss 0.0417 | total loss 0.5184\n",
      "         | val ent loss 0.4090 | val rel loss 0.0383\n"
     ]
    },
    {
     "name": "stderr",
     "output_type": "stream",
     "text": [
      "\r",
      "  3%|▎         | 2/70 [00:15<08:33,  7.55s/it]"
     ]
    },
    {
     "name": "stdout",
     "output_type": "stream",
     "text": [
      "epoch: 1 | ent loss 0.3403 | rel loss 0.0187 | total loss 0.3590\n",
      "         | val ent loss 0.2943 | val rel loss 0.0172\n"
     ]
    },
    {
     "name": "stderr",
     "output_type": "stream",
     "text": [
      "\r",
      "  4%|▍         | 3/70 [00:22<08:33,  7.66s/it]"
     ]
    },
    {
     "name": "stdout",
     "output_type": "stream",
     "text": [
      "epoch: 2 | ent loss 0.2997 | rel loss 0.0129 | total loss 0.3126\n",
      "         | val ent loss 0.2694 | val rel loss 0.0108\n"
     ]
    },
    {
     "name": "stderr",
     "output_type": "stream",
     "text": [
      "\r",
      "  6%|▌         | 4/70 [00:30<08:24,  7.64s/it]"
     ]
    },
    {
     "name": "stdout",
     "output_type": "stream",
     "text": [
      "epoch: 3 | ent loss 0.3096 | rel loss 0.0108 | total loss 0.3204\n",
      "         | val ent loss 0.2450 | val rel loss 0.0079\n"
     ]
    },
    {
     "name": "stderr",
     "output_type": "stream",
     "text": [
      "\r",
      "  7%|▋         | 5/70 [00:38<08:16,  7.64s/it]"
     ]
    },
    {
     "name": "stdout",
     "output_type": "stream",
     "text": [
      "epoch: 4 | ent loss 0.2927 | rel loss 0.0094 | total loss 0.3020\n",
      "         | val ent loss 0.2547 | val rel loss 0.0069\n"
     ]
    },
    {
     "name": "stderr",
     "output_type": "stream",
     "text": [
      "\r",
      "  9%|▊         | 6/70 [00:45<08:05,  7.58s/it]"
     ]
    },
    {
     "name": "stdout",
     "output_type": "stream",
     "text": [
      "epoch: 5 | ent loss 0.2756 | rel loss 0.0072 | total loss 0.2829\n",
      "         | val ent loss 0.2458 | val rel loss 0.0058\n"
     ]
    },
    {
     "name": "stderr",
     "output_type": "stream",
     "text": [
      "\r",
      " 10%|█         | 7/70 [00:52<07:56,  7.57s/it]"
     ]
    },
    {
     "name": "stdout",
     "output_type": "stream",
     "text": [
      "epoch: 6 | ent loss 0.2439 | rel loss 0.0087 | total loss 0.2526\n",
      "         | val ent loss 0.1840 | val rel loss 0.0059\n"
     ]
    },
    {
     "name": "stderr",
     "output_type": "stream",
     "text": [
      "\r",
      " 11%|█▏        | 8/70 [01:00<07:48,  7.56s/it]"
     ]
    },
    {
     "name": "stdout",
     "output_type": "stream",
     "text": [
      "epoch: 7 | ent loss 0.1481 | rel loss 0.0067 | total loss 0.1547\n",
      "         | val ent loss 0.1511 | val rel loss 0.0048\n"
     ]
    },
    {
     "name": "stderr",
     "output_type": "stream",
     "text": [
      "\r",
      " 13%|█▎        | 9/70 [01:07<07:40,  7.55s/it]"
     ]
    },
    {
     "name": "stdout",
     "output_type": "stream",
     "text": [
      "epoch: 8 | ent loss 0.1300 | rel loss 0.0058 | total loss 0.1358\n",
      "         | val ent loss 0.1327 | val rel loss 0.0049\n"
     ]
    },
    {
     "name": "stderr",
     "output_type": "stream",
     "text": [
      "\r",
      " 14%|█▍        | 10/70 [01:15<07:33,  7.55s/it]"
     ]
    },
    {
     "name": "stdout",
     "output_type": "stream",
     "text": [
      "epoch: 9 | ent loss 0.1175 | rel loss 0.0044 | total loss 0.1218\n",
      "         | val ent loss 0.1341 | val rel loss 0.0036\n"
     ]
    },
    {
     "name": "stderr",
     "output_type": "stream",
     "text": [
      "\r",
      " 16%|█▌        | 11/70 [01:21<07:17,  7.41s/it]"
     ]
    },
    {
     "name": "stdout",
     "output_type": "stream",
     "text": [
      "epoch: 10 | ent loss 0.1127 | rel loss 0.0042 | total loss 0.1169\n",
      "          | val ent loss 0.1309 | val rel loss 0.0034\n"
     ]
    },
    {
     "name": "stderr",
     "output_type": "stream",
     "text": [
      "\r",
      " 17%|█▋        | 12/70 [01:29<07:10,  7.42s/it]"
     ]
    },
    {
     "name": "stdout",
     "output_type": "stream",
     "text": [
      "epoch: 11 | ent loss 0.1056 | rel loss 0.0039 | total loss 0.1094\n",
      "          | val ent loss 0.1074 | val rel loss 0.0030\n"
     ]
    },
    {
     "name": "stderr",
     "output_type": "stream",
     "text": [
      "\r",
      " 19%|█▊        | 13/70 [01:36<07:03,  7.42s/it]"
     ]
    },
    {
     "name": "stdout",
     "output_type": "stream",
     "text": [
      "epoch: 12 | ent loss 0.0927 | rel loss 0.0033 | total loss 0.0960\n",
      "          | val ent loss 0.0922 | val rel loss 0.0032\n"
     ]
    },
    {
     "name": "stderr",
     "output_type": "stream",
     "text": [
      "\r",
      " 20%|██        | 14/70 [01:42<06:49,  7.32s/it]"
     ]
    },
    {
     "name": "stdout",
     "output_type": "stream",
     "text": [
      "epoch: 13 | ent loss 0.1068 | rel loss 0.0038 | total loss 0.1106\n",
      "          | val ent loss 0.0895 | val rel loss 0.0025\n"
     ]
    },
    {
     "name": "stderr",
     "output_type": "stream",
     "text": [
      "\r",
      " 21%|██▏       | 15/70 [01:49<06:41,  7.30s/it]"
     ]
    },
    {
     "name": "stdout",
     "output_type": "stream",
     "text": [
      "epoch: 14 | ent loss 0.0535 | rel loss 0.0024 | total loss 0.0559\n",
      "          | val ent loss 0.0985 | val rel loss 0.0028\n"
     ]
    },
    {
     "name": "stderr",
     "output_type": "stream",
     "text": [
      "\r",
      " 23%|██▎       | 16/70 [01:56<06:34,  7.30s/it]"
     ]
    },
    {
     "name": "stdout",
     "output_type": "stream",
     "text": [
      "epoch: 15 | ent loss 0.0582 | rel loss 0.0028 | total loss 0.0610\n",
      "          | val ent loss 0.0787 | val rel loss 0.0021\n"
     ]
    },
    {
     "name": "stderr",
     "output_type": "stream",
     "text": [
      "\r",
      " 24%|██▍       | 17/70 [02:04<06:27,  7.31s/it]"
     ]
    },
    {
     "name": "stdout",
     "output_type": "stream",
     "text": [
      "epoch: 16 | ent loss 0.0536 | rel loss 0.0029 | total loss 0.0565\n",
      "          | val ent loss 0.0696 | val rel loss 0.0024\n"
     ]
    },
    {
     "name": "stderr",
     "output_type": "stream",
     "text": [
      "\r",
      " 26%|██▌       | 18/70 [02:11<06:21,  7.33s/it]"
     ]
    },
    {
     "name": "stdout",
     "output_type": "stream",
     "text": [
      "epoch: 17 | ent loss 0.0443 | rel loss 0.0026 | total loss 0.0469\n",
      "          | val ent loss 0.0704 | val rel loss 0.0022\n"
     ]
    },
    {
     "name": "stderr",
     "output_type": "stream",
     "text": [
      "\r",
      " 27%|██▋       | 19/70 [02:19<06:14,  7.35s/it]"
     ]
    },
    {
     "name": "stdout",
     "output_type": "stream",
     "text": [
      "epoch: 18 | ent loss 0.0325 | rel loss 0.0026 | total loss 0.0351\n",
      "          | val ent loss 0.0624 | val rel loss 0.0019\n"
     ]
    },
    {
     "name": "stderr",
     "output_type": "stream",
     "text": [
      "\r",
      " 29%|██▊       | 20/70 [02:27<06:07,  7.36s/it]"
     ]
    },
    {
     "name": "stdout",
     "output_type": "stream",
     "text": [
      "epoch: 19 | ent loss 0.0333 | rel loss 0.0022 | total loss 0.0355\n",
      "          | val ent loss 0.0729 | val rel loss 0.0019\n"
     ]
    },
    {
     "name": "stderr",
     "output_type": "stream",
     "text": [
      "\r",
      " 30%|███       | 21/70 [02:34<06:01,  7.37s/it]"
     ]
    },
    {
     "name": "stdout",
     "output_type": "stream",
     "text": [
      "epoch: 20 | ent loss 0.0230 | rel loss 0.0019 | total loss 0.0249\n",
      "          | val ent loss 0.0744 | val rel loss 0.0018\n"
     ]
    },
    {
     "name": "stderr",
     "output_type": "stream",
     "text": [
      "\r",
      " 31%|███▏      | 22/70 [02:42<05:53,  7.37s/it]"
     ]
    },
    {
     "name": "stdout",
     "output_type": "stream",
     "text": [
      "epoch: 21 | ent loss 0.0219 | rel loss 0.0022 | total loss 0.0241\n",
      "          | val ent loss 0.0456 | val rel loss 0.0016\n"
     ]
    },
    {
     "name": "stderr",
     "output_type": "stream",
     "text": [
      "\r",
      " 33%|███▎      | 23/70 [02:49<05:47,  7.39s/it]"
     ]
    },
    {
     "name": "stdout",
     "output_type": "stream",
     "text": [
      "epoch: 22 | ent loss 0.0249 | rel loss 0.0019 | total loss 0.0269\n",
      "          | val ent loss 0.0583 | val rel loss 0.0016\n"
     ]
    },
    {
     "name": "stderr",
     "output_type": "stream",
     "text": [
      "\r",
      " 34%|███▍      | 24/70 [02:57<05:40,  7.39s/it]"
     ]
    },
    {
     "name": "stdout",
     "output_type": "stream",
     "text": [
      "epoch: 23 | ent loss 0.0224 | rel loss 0.0021 | total loss 0.0245\n",
      "          | val ent loss 0.0660 | val rel loss 0.0014\n"
     ]
    },
    {
     "name": "stderr",
     "output_type": "stream",
     "text": [
      "\r",
      " 36%|███▌      | 25/70 [03:05<05:33,  7.41s/it]"
     ]
    },
    {
     "name": "stdout",
     "output_type": "stream",
     "text": [
      "epoch: 24 | ent loss 0.0184 | rel loss 0.0017 | total loss 0.0201\n",
      "          | val ent loss 0.0799 | val rel loss 0.0016\n"
     ]
    },
    {
     "name": "stderr",
     "output_type": "stream",
     "text": [
      "\r",
      " 37%|███▋      | 26/70 [03:13<05:27,  7.44s/it]"
     ]
    },
    {
     "name": "stdout",
     "output_type": "stream",
     "text": [
      "epoch: 25 | ent loss 0.0280 | rel loss 0.0019 | total loss 0.0298\n",
      "          | val ent loss 0.0632 | val rel loss 0.0016\n"
     ]
    },
    {
     "name": "stderr",
     "output_type": "stream",
     "text": [
      "\r",
      " 39%|███▊      | 27/70 [03:21<05:20,  7.45s/it]"
     ]
    },
    {
     "name": "stdout",
     "output_type": "stream",
     "text": [
      "epoch: 26 | ent loss 0.0276 | rel loss 0.0024 | total loss 0.0300\n",
      "          | val ent loss 0.0504 | val rel loss 0.0018\n"
     ]
    },
    {
     "name": "stderr",
     "output_type": "stream",
     "text": [
      "\r",
      " 40%|████      | 28/70 [03:28<05:13,  7.46s/it]"
     ]
    },
    {
     "name": "stdout",
     "output_type": "stream",
     "text": [
      "epoch: 27 | ent loss 0.0130 | rel loss 0.0014 | total loss 0.0145\n",
      "          | val ent loss 0.0646 | val rel loss 0.0018\n"
     ]
    },
    {
     "name": "stderr",
     "output_type": "stream",
     "text": [
      "\r",
      " 41%|████▏     | 29/70 [03:36<05:06,  7.46s/it]"
     ]
    },
    {
     "name": "stdout",
     "output_type": "stream",
     "text": [
      "epoch: 28 | ent loss 0.0139 | rel loss 0.0015 | total loss 0.0155\n",
      "          | val ent loss 0.0631 | val rel loss 0.0014\n"
     ]
    },
    {
     "name": "stderr",
     "output_type": "stream",
     "text": [
      "\r",
      " 43%|████▎     | 30/70 [03:44<04:58,  7.47s/it]"
     ]
    },
    {
     "name": "stdout",
     "output_type": "stream",
     "text": [
      "epoch: 29 | ent loss 0.0144 | rel loss 0.0015 | total loss 0.0160\n",
      "          | val ent loss 0.0532 | val rel loss 0.0015\n"
     ]
    },
    {
     "name": "stderr",
     "output_type": "stream",
     "text": [
      "\r",
      " 44%|████▍     | 31/70 [03:50<04:50,  7.45s/it]"
     ]
    },
    {
     "name": "stdout",
     "output_type": "stream",
     "text": [
      "epoch: 30 | ent loss 0.0191 | rel loss 0.0017 | total loss 0.0207\n",
      "          | val ent loss 0.0451 | val rel loss 0.0013\n"
     ]
    },
    {
     "name": "stderr",
     "output_type": "stream",
     "text": [
      "\r",
      " 46%|████▌     | 32/70 [03:58<04:42,  7.44s/it]"
     ]
    },
    {
     "name": "stdout",
     "output_type": "stream",
     "text": [
      "epoch: 31 | ent loss 0.0107 | rel loss 0.0013 | total loss 0.0120\n",
      "          | val ent loss 0.0496 | val rel loss 0.0014\n"
     ]
    },
    {
     "name": "stderr",
     "output_type": "stream",
     "text": [
      "\r",
      " 47%|████▋     | 33/70 [04:04<04:34,  7.41s/it]"
     ]
    },
    {
     "name": "stdout",
     "output_type": "stream",
     "text": [
      "epoch: 32 | ent loss 0.0148 | rel loss 0.0018 | total loss 0.0166\n",
      "          | val ent loss 0.0642 | val rel loss 0.0016\n"
     ]
    },
    {
     "name": "stderr",
     "output_type": "stream",
     "text": [
      "\r",
      " 49%|████▊     | 34/70 [04:12<04:26,  7.41s/it]"
     ]
    },
    {
     "name": "stdout",
     "output_type": "stream",
     "text": [
      "epoch: 33 | ent loss 0.0158 | rel loss 0.0017 | total loss 0.0174\n",
      "          | val ent loss 0.0574 | val rel loss 0.0013\n"
     ]
    },
    {
     "name": "stderr",
     "output_type": "stream",
     "text": [
      "\r",
      " 50%|█████     | 35/70 [04:19<04:19,  7.42s/it]"
     ]
    },
    {
     "name": "stdout",
     "output_type": "stream",
     "text": [
      "epoch: 34 | ent loss 0.0138 | rel loss 0.0013 | total loss 0.0151\n",
      "          | val ent loss 0.0578 | val rel loss 0.0013\n"
     ]
    },
    {
     "name": "stderr",
     "output_type": "stream",
     "text": [
      "\r",
      " 51%|█████▏    | 36/70 [04:27<04:12,  7.43s/it]"
     ]
    },
    {
     "name": "stdout",
     "output_type": "stream",
     "text": [
      "epoch: 35 | ent loss 0.0112 | rel loss 0.0014 | total loss 0.0126\n",
      "          | val ent loss 0.0563 | val rel loss 0.0012\n"
     ]
    },
    {
     "name": "stderr",
     "output_type": "stream",
     "text": [
      "\r",
      " 53%|█████▎    | 37/70 [04:35<04:05,  7.44s/it]"
     ]
    },
    {
     "name": "stdout",
     "output_type": "stream",
     "text": [
      "epoch: 36 | ent loss 0.0126 | rel loss 0.0016 | total loss 0.0142\n",
      "          | val ent loss 0.0591 | val rel loss 0.0012\n"
     ]
    },
    {
     "name": "stderr",
     "output_type": "stream",
     "text": [
      "\r",
      " 54%|█████▍    | 38/70 [04:42<03:58,  7.44s/it]"
     ]
    },
    {
     "name": "stdout",
     "output_type": "stream",
     "text": [
      "epoch: 37 | ent loss 0.0184 | rel loss 0.0014 | total loss 0.0198\n",
      "          | val ent loss 0.0548 | val rel loss 0.0013\n"
     ]
    },
    {
     "name": "stderr",
     "output_type": "stream",
     "text": [
      "\r",
      " 56%|█████▌    | 39/70 [04:50<03:50,  7.44s/it]"
     ]
    },
    {
     "name": "stdout",
     "output_type": "stream",
     "text": [
      "epoch: 38 | ent loss 0.0169 | rel loss 0.0018 | total loss 0.0187\n",
      "          | val ent loss 0.0606 | val rel loss 0.0012\n"
     ]
    },
    {
     "name": "stderr",
     "output_type": "stream",
     "text": [
      "\r",
      " 57%|█████▋    | 40/70 [04:57<03:42,  7.43s/it]"
     ]
    },
    {
     "name": "stdout",
     "output_type": "stream",
     "text": [
      "epoch: 39 | ent loss 0.0246 | rel loss 0.0013 | total loss 0.0260\n",
      "          | val ent loss 0.0619 | val rel loss 0.0010\n"
     ]
    },
    {
     "name": "stderr",
     "output_type": "stream",
     "text": [
      "\r",
      " 59%|█████▊    | 41/70 [05:03<03:34,  7.41s/it]"
     ]
    },
    {
     "name": "stdout",
     "output_type": "stream",
     "text": [
      "epoch: 40 | ent loss 0.0164 | rel loss 0.0014 | total loss 0.0178\n",
      "          | val ent loss 0.0671 | val rel loss 0.0014\n"
     ]
    },
    {
     "name": "stderr",
     "output_type": "stream",
     "text": [
      "\r",
      " 60%|██████    | 42/70 [05:10<03:27,  7.40s/it]"
     ]
    },
    {
     "name": "stdout",
     "output_type": "stream",
     "text": [
      "epoch: 41 | ent loss 0.0110 | rel loss 0.0013 | total loss 0.0123\n",
      "          | val ent loss 0.0646 | val rel loss 0.0014\n"
     ]
    },
    {
     "name": "stderr",
     "output_type": "stream",
     "text": [
      "\r",
      " 61%|██████▏   | 43/70 [05:17<03:19,  7.39s/it]"
     ]
    },
    {
     "name": "stdout",
     "output_type": "stream",
     "text": [
      "epoch: 42 | ent loss 0.0063 | rel loss 0.0012 | total loss 0.0074\n",
      "          | val ent loss 0.0629 | val rel loss 0.0013\n"
     ]
    },
    {
     "name": "stderr",
     "output_type": "stream",
     "text": [
      "\r",
      " 63%|██████▎   | 44/70 [05:25<03:12,  7.39s/it]"
     ]
    },
    {
     "name": "stdout",
     "output_type": "stream",
     "text": [
      "epoch: 43 | ent loss 0.0134 | rel loss 0.0012 | total loss 0.0147\n",
      "          | val ent loss 0.0786 | val rel loss 0.0014\n"
     ]
    },
    {
     "name": "stderr",
     "output_type": "stream",
     "text": [
      "\r",
      " 64%|██████▍   | 45/70 [05:33<03:05,  7.40s/it]"
     ]
    },
    {
     "name": "stdout",
     "output_type": "stream",
     "text": [
      "epoch: 44 | ent loss 0.0055 | rel loss 0.0012 | total loss 0.0066\n",
      "          | val ent loss 0.0633 | val rel loss 0.0011\n"
     ]
    },
    {
     "name": "stderr",
     "output_type": "stream",
     "text": [
      "\r",
      " 66%|██████▌   | 46/70 [05:39<02:57,  7.38s/it]"
     ]
    },
    {
     "name": "stdout",
     "output_type": "stream",
     "text": [
      "epoch: 45 | ent loss 0.0130 | rel loss 0.0014 | total loss 0.0144\n",
      "          | val ent loss 0.0493 | val rel loss 0.0012\n"
     ]
    },
    {
     "name": "stderr",
     "output_type": "stream",
     "text": [
      "\r",
      " 67%|██████▋   | 47/70 [05:47<02:50,  7.39s/it]"
     ]
    },
    {
     "name": "stdout",
     "output_type": "stream",
     "text": [
      "epoch: 46 | ent loss 0.0087 | rel loss 0.0013 | total loss 0.0100\n",
      "          | val ent loss 0.0533 | val rel loss 0.0012\n"
     ]
    },
    {
     "name": "stderr",
     "output_type": "stream",
     "text": [
      "\r",
      " 69%|██████▊   | 48/70 [05:55<02:42,  7.40s/it]"
     ]
    },
    {
     "name": "stdout",
     "output_type": "stream",
     "text": [
      "epoch: 47 | ent loss 0.0058 | rel loss 0.0011 | total loss 0.0069\n",
      "          | val ent loss 0.0444 | val rel loss 0.0010\n"
     ]
    },
    {
     "name": "stderr",
     "output_type": "stream",
     "text": [
      "\r",
      " 70%|███████   | 49/70 [06:02<02:35,  7.41s/it]"
     ]
    },
    {
     "name": "stdout",
     "output_type": "stream",
     "text": [
      "epoch: 48 | ent loss 0.0054 | rel loss 0.0009 | total loss 0.0063\n",
      "          | val ent loss 0.0469 | val rel loss 0.0011\n"
     ]
    },
    {
     "name": "stderr",
     "output_type": "stream",
     "text": [
      "\r",
      " 71%|███████▏  | 50/70 [06:09<02:27,  7.40s/it]"
     ]
    },
    {
     "name": "stdout",
     "output_type": "stream",
     "text": [
      "epoch: 49 | ent loss 0.0072 | rel loss 0.0011 | total loss 0.0083\n",
      "          | val ent loss 0.0348 | val rel loss 0.0011\n"
     ]
    },
    {
     "name": "stderr",
     "output_type": "stream",
     "text": [
      "\r",
      " 73%|███████▎  | 51/70 [06:17<02:20,  7.39s/it]"
     ]
    },
    {
     "name": "stdout",
     "output_type": "stream",
     "text": [
      "epoch: 50 | ent loss 0.0096 | rel loss 0.0010 | total loss 0.0106\n",
      "          | val ent loss 0.0678 | val rel loss 0.0009\n"
     ]
    },
    {
     "name": "stderr",
     "output_type": "stream",
     "text": [
      "\r",
      " 74%|███████▍  | 52/70 [06:24<02:13,  7.40s/it]"
     ]
    },
    {
     "name": "stdout",
     "output_type": "stream",
     "text": [
      "epoch: 51 | ent loss 0.0061 | rel loss 0.0011 | total loss 0.0072\n",
      "          | val ent loss 0.0760 | val rel loss 0.0012\n"
     ]
    },
    {
     "name": "stderr",
     "output_type": "stream",
     "text": [
      "\r",
      " 76%|███████▌  | 53/70 [06:32<02:05,  7.40s/it]"
     ]
    },
    {
     "name": "stdout",
     "output_type": "stream",
     "text": [
      "epoch: 52 | ent loss 0.0122 | rel loss 0.0014 | total loss 0.0136\n",
      "          | val ent loss 0.0424 | val rel loss 0.0012\n"
     ]
    },
    {
     "name": "stderr",
     "output_type": "stream",
     "text": [
      "\r",
      " 77%|███████▋  | 54/70 [06:40<01:58,  7.41s/it]"
     ]
    },
    {
     "name": "stdout",
     "output_type": "stream",
     "text": [
      "epoch: 53 | ent loss 0.0096 | rel loss 0.0010 | total loss 0.0106\n",
      "          | val ent loss 0.0379 | val rel loss 0.0009\n"
     ]
    },
    {
     "name": "stderr",
     "output_type": "stream",
     "text": [
      "\r",
      " 79%|███████▊  | 55/70 [06:46<01:50,  7.39s/it]"
     ]
    },
    {
     "name": "stdout",
     "output_type": "stream",
     "text": [
      "epoch: 54 | ent loss 0.0082 | rel loss 0.0010 | total loss 0.0092\n",
      "          | val ent loss 0.0639 | val rel loss 0.0012\n"
     ]
    },
    {
     "name": "stderr",
     "output_type": "stream",
     "text": [
      "\r",
      " 80%|████████  | 56/70 [06:54<01:43,  7.40s/it]"
     ]
    },
    {
     "name": "stdout",
     "output_type": "stream",
     "text": [
      "epoch: 55 | ent loss 0.0040 | rel loss 0.0009 | total loss 0.0049\n",
      "          | val ent loss 0.0564 | val rel loss 0.0012\n"
     ]
    },
    {
     "name": "stderr",
     "output_type": "stream",
     "text": [
      "\r",
      " 81%|████████▏ | 57/70 [07:02<01:36,  7.41s/it]"
     ]
    },
    {
     "name": "stdout",
     "output_type": "stream",
     "text": [
      "epoch: 56 | ent loss 0.0039 | rel loss 0.0009 | total loss 0.0049\n",
      "          | val ent loss 0.0472 | val rel loss 0.0009\n"
     ]
    },
    {
     "name": "stderr",
     "output_type": "stream",
     "text": [
      "\r",
      " 83%|████████▎ | 58/70 [07:10<01:29,  7.42s/it]"
     ]
    },
    {
     "name": "stdout",
     "output_type": "stream",
     "text": [
      "epoch: 57 | ent loss 0.0100 | rel loss 0.0011 | total loss 0.0111\n",
      "          | val ent loss 0.0548 | val rel loss 0.0013\n"
     ]
    },
    {
     "name": "stderr",
     "output_type": "stream",
     "text": [
      "\r",
      " 84%|████████▍ | 59/70 [07:17<01:21,  7.42s/it]"
     ]
    },
    {
     "name": "stdout",
     "output_type": "stream",
     "text": [
      "epoch: 58 | ent loss 0.0085 | rel loss 0.0013 | total loss 0.0097\n",
      "          | val ent loss 0.0732 | val rel loss 0.0011\n"
     ]
    },
    {
     "name": "stderr",
     "output_type": "stream",
     "text": [
      "\r",
      " 86%|████████▌ | 60/70 [07:25<01:14,  7.43s/it]"
     ]
    },
    {
     "name": "stdout",
     "output_type": "stream",
     "text": [
      "epoch: 59 | ent loss 0.0033 | rel loss 0.0010 | total loss 0.0043\n",
      "          | val ent loss 0.0575 | val rel loss 0.0011\n"
     ]
    },
    {
     "name": "stderr",
     "output_type": "stream",
     "text": [
      "\r",
      " 87%|████████▋ | 61/70 [07:33<01:06,  7.44s/it]"
     ]
    },
    {
     "name": "stdout",
     "output_type": "stream",
     "text": [
      "epoch: 60 | ent loss 0.0049 | rel loss 0.0013 | total loss 0.0062\n",
      "          | val ent loss 0.0530 | val rel loss 0.0010\n"
     ]
    },
    {
     "name": "stderr",
     "output_type": "stream",
     "text": [
      "\r",
      " 89%|████████▊ | 62/70 [07:41<00:59,  7.44s/it]"
     ]
    },
    {
     "name": "stdout",
     "output_type": "stream",
     "text": [
      "epoch: 61 | ent loss 0.0074 | rel loss 0.0010 | total loss 0.0084\n",
      "          | val ent loss 0.0440 | val rel loss 0.0011\n"
     ]
    },
    {
     "name": "stderr",
     "output_type": "stream",
     "text": [
      "\r",
      " 90%|█████████ | 63/70 [07:48<00:52,  7.43s/it]"
     ]
    },
    {
     "name": "stdout",
     "output_type": "stream",
     "text": [
      "epoch: 62 | ent loss 0.0053 | rel loss 0.0011 | total loss 0.0064\n",
      "          | val ent loss 0.0715 | val rel loss 0.0011\n"
     ]
    },
    {
     "name": "stderr",
     "output_type": "stream",
     "text": [
      "\r",
      " 91%|█████████▏| 64/70 [07:55<00:44,  7.44s/it]"
     ]
    },
    {
     "name": "stdout",
     "output_type": "stream",
     "text": [
      "epoch: 63 | ent loss 0.0119 | rel loss 0.0010 | total loss 0.0130\n",
      "          | val ent loss 0.0665 | val rel loss 0.0011\n"
     ]
    },
    {
     "name": "stderr",
     "output_type": "stream",
     "text": [
      "\r",
      " 93%|█████████▎| 65/70 [08:02<00:37,  7.43s/it]"
     ]
    },
    {
     "name": "stdout",
     "output_type": "stream",
     "text": [
      "epoch: 64 | ent loss 0.0070 | rel loss 0.0009 | total loss 0.0079\n",
      "          | val ent loss 0.0248 | val rel loss 0.0009\n"
     ]
    },
    {
     "name": "stderr",
     "output_type": "stream",
     "text": [
      "\r",
      " 94%|█████████▍| 66/70 [08:09<00:29,  7.42s/it]"
     ]
    },
    {
     "name": "stdout",
     "output_type": "stream",
     "text": [
      "epoch: 65 | ent loss 0.0060 | rel loss 0.0013 | total loss 0.0073\n",
      "          | val ent loss 0.0429 | val rel loss 0.0010\n"
     ]
    },
    {
     "name": "stderr",
     "output_type": "stream",
     "text": [
      "\r",
      " 96%|█████████▌| 67/70 [08:16<00:22,  7.41s/it]"
     ]
    },
    {
     "name": "stdout",
     "output_type": "stream",
     "text": [
      "epoch: 66 | ent loss 0.0078 | rel loss 0.0010 | total loss 0.0088\n",
      "          | val ent loss 0.0585 | val rel loss 0.0011\n"
     ]
    },
    {
     "name": "stderr",
     "output_type": "stream",
     "text": [
      "\r",
      " 97%|█████████▋| 68/70 [08:24<00:14,  7.41s/it]"
     ]
    },
    {
     "name": "stdout",
     "output_type": "stream",
     "text": [
      "epoch: 67 | ent loss 0.0032 | rel loss 0.0010 | total loss 0.0041\n",
      "          | val ent loss 0.0634 | val rel loss 0.0009\n"
     ]
    },
    {
     "name": "stderr",
     "output_type": "stream",
     "text": [
      "\r",
      " 99%|█████████▊| 69/70 [08:31<00:07,  7.42s/it]"
     ]
    },
    {
     "name": "stdout",
     "output_type": "stream",
     "text": [
      "epoch: 68 | ent loss 0.0034 | rel loss 0.0011 | total loss 0.0045\n",
      "          | val ent loss 0.0798 | val rel loss 0.0011\n"
     ]
    },
    {
     "name": "stderr",
     "output_type": "stream",
     "text": [
      "\r",
      "100%|██████████| 70/70 [08:40<00:00,  7.43s/it]"
     ]
    },
    {
     "name": "stdout",
     "output_type": "stream",
     "text": [
      "epoch: 69 | ent loss 0.0099 | rel loss 0.0010 | total loss 0.0109\n",
      "          | val ent loss 0.0577 | val rel loss 0.0011\n"
     ]
    },
    {
     "name": "stderr",
     "output_type": "stream",
     "text": [
      "\n"
     ]
    }
   ],
   "source": [
    "n_iters = 70\n",
    "print_every = 12\n",
    "all_ent_loss = []\n",
    "all_rel_loss = []\n",
    "total_loss = 0 # Reset every plot_every iters\n",
    "loss = 0\n",
    "ent_loss = 0\n",
    "\n",
    "start = time.time()\n",
    "\n",
    "for epoch in tqdm(range(n_iters)):  \n",
    "    for step, (batch_x, batch_ent, batch_rel, batch_index) in enumerate(loader):\n",
    "        model.train()\n",
    "        optimizer.zero_grad()\n",
    "        ent_output, rel_output = model(batch_x.cuda() if USE_CUDA else batch_x)\n",
    "        \n",
    "        batch_ent = batch_ent.view(BATCH_SIZE*MAX_LEN)\n",
    "        batch_rel = batch_rel.view(BATCH_SIZE*MAX_LEN*MAX_LEN)\n",
    "        \n",
    "        loss_ent = criterion_tag(ent_output, batch_ent.cuda() if USE_CUDA else batch_ent)\n",
    "        loss_rel = criterion_rel(rel_output, batch_rel.cuda() if USE_CUDA else batch_rel)\n",
    "        loss = loss_ent+loss_rel\n",
    "        \n",
    "        loss.backward()\n",
    "#         loss.backward(retain_graph=True)\n",
    "        optimizer.step()\n",
    "        \n",
    "        if step % print_every == 1:\n",
    "            all_ent_loss.append(loss_ent.cpu())\n",
    "            all_rel_loss.append(loss_rel.cpu())\n",
    "        #    print('%.4f| epoch: %d| step: %d| %s' % (loss, epoch, step, timeSince(start)))\n",
    "        \n",
    "    for step, (batch_x, batch_ent, batch_rel, batch_index) in enumerate(dev_loader):\n",
    "        model.eval()\n",
    "        ent_output, rel_output = model(batch_x.cuda() if USE_CUDA else batch_x)\n",
    "        val_loss_ent = criterion_tag(ent_output.cpu(), batch_ent.view(BATCH_SIZE*MAX_LEN)) \n",
    "        val_loss_rel = criterion_rel(rel_output.cpu(), batch_rel.view(BATCH_SIZE*MAX_LEN*MAX_LEN))\n",
    "    \n",
    "    \n",
    "    print(\"epoch: %d | ent loss %.4f | rel loss %.4f | total loss %.4f\" \\\n",
    "          % (epoch, loss_ent, loss_rel, loss))\n",
    "    print(\"      %s  | val ent loss %.4f | val rel loss %.4f\"\n",
    "          % (\" \"*len(str(epoch)), val_loss_ent, val_loss_rel))\n"
   ]
  },
  {
   "cell_type": "code",
   "execution_count": 11,
   "metadata": {},
   "outputs": [
    {
     "data": {
      "image/png": "[encoded data removed]",
      "text/plain": [
       "<Figure size 432x288 with 1 Axes>"
      ]
     },
     "metadata": {},
     "output_type": "display_data"
    }
   ],
   "source": [
    "%matplotlib inline\n",
    "\n",
    "import matplotlib.pyplot as plt\n",
    "\n",
    "plt.plot(all_ent_loss[:100], label='ent_loss')\n",
    "plt.plot(all_rel_loss[:100], label='rel_loss')\n",
    "plt.xlabel(\"Step\")\n",
    "plt.ylabel(\"Loss\") \n",
    "plt.legend()\n",
    "plt.show()"
   ]
  },
  {
   "cell_type": "code",
   "execution_count": 12,
   "metadata": {},
   "outputs": [],
   "source": [
    "import random\n",
    "def random_choose(input_var):\n",
    "    r_choose = []\n",
    "    for i in range(BATCH_SIZE):\n",
    "        r_choose.append(random.randint(0,len(input_var)))\n",
    "    return r_choose\n",
    "        \n",
    "def ent_argmax(output):\n",
    "    output = output.view(BATCH_SIZE,MAX_LEN,ent_size).argmax(2)\n",
    "    return output\n",
    "\n",
    "def rel_argmax(output):\n",
    "    output = output.view(BATCH_SIZE,MAX_LEN,MAX_LEN,rel_size).argmax(3)\n",
    "    return output"
   ]
  },
  {
   "cell_type": "code",
   "execution_count": 13,
   "metadata": {},
   "outputs": [
    {
     "name": "stdout",
     "output_type": "stream",
     "text": [
      "\n",
      "predict : ['O', 'O', 'O', 'O', 'O', 'O', 'O', 'O', 'O', 'O', 'B-STAT', 'I-STAT', 'I-STAT', 'O', 'O', 'O', 'O', 'O', 'O', 'O', 'B-FUNC', 'I-FUNC', 'O', 'O', 'O', '<PAD>', '<PAD>', '<PAD>', '<PAD>', '<PAD>', '<PAD>', '<PAD>', '<PAD>', '<PAD>', '<PAD>', '<PAD>', '<PAD>', '<PAD>', '<PAD>', '<PAD>', '<PAD>', '<PAD>', '<PAD>', '<PAD>', '<PAD>', '<PAD>', '<PAD>', '<PAD>', '<PAD>', '<PAD>', '<PAD>', '<PAD>', '<PAD>', '<PAD>', '<PAD>', '<PAD>', '<PAD>', '<PAD>', '<PAD>', '<PAD>', '<PAD>', '<PAD>', '<PAD>', '<PAD>', '<PAD>', '<PAD>', '<PAD>', '<PAD>', '<PAD>', '<PAD>', '<PAD>', '<PAD>', '<PAD>', '<PAD>', '<PAD>', '<PAD>', '<PAD>', '<PAD>', '<PAD>', '<PAD>', '<PAD>', '<PAD>', '<PAD>', '<PAD>', '<PAD>', '<PAD>', '<PAD>', '<PAD>', '<PAD>', '<PAD>', '<PAD>', '<PAD>', '<PAD>', '<PAD>', '<PAD>', '<PAD>', '<PAD>', '<PAD>', '<PAD>', '<PAD>']\n",
      "true : ['O', 'O', 'O', 'O', 'O', 'O', 'O', 'O', 'O', 'O', 'B-STAT', 'I-STAT', 'I-STAT', 'O', 'O', 'O', 'O', 'O', 'O', 'O', 'B-FUNC', 'I-FUNC', 'O', 'O', 'O', '<PAD>', '<PAD>', '<PAD>', '<PAD>', '<PAD>', '<PAD>', '<PAD>', '<PAD>', '<PAD>', '<PAD>', '<PAD>', '<PAD>', '<PAD>', '<PAD>', '<PAD>', '<PAD>', '<PAD>', '<PAD>', '<PAD>', '<PAD>', '<PAD>', '<PAD>', '<PAD>', '<PAD>', '<PAD>', '<PAD>', '<PAD>', '<PAD>', '<PAD>', '<PAD>', '<PAD>', '<PAD>', '<PAD>', '<PAD>', '<PAD>', '<PAD>', '<PAD>', '<PAD>', '<PAD>', '<PAD>', '<PAD>', '<PAD>', '<PAD>', '<PAD>', '<PAD>', '<PAD>', '<PAD>', '<PAD>', '<PAD>', '<PAD>', '<PAD>', '<PAD>', '<PAD>', '<PAD>', '<PAD>', '<PAD>', '<PAD>', '<PAD>', '<PAD>', '<PAD>', '<PAD>', '<PAD>', '<PAD>', '<PAD>', '<PAD>', '<PAD>', '<PAD>', '<PAD>', '<PAD>', '<PAD>', '<PAD>', '<PAD>', '<PAD>', '<PAD>', '<PAD>']\n",
      "\n",
      "===================================================\n",
      "\n",
      "\n",
      "predict : ['O', 'O', 'B-STAT', 'I-STAT', 'I-STAT', 'O', 'O', 'O', 'O', 'O', 'O', 'O', 'O', 'O', 'O', 'O', 'O', 'O', 'O', 'O', 'O', 'B-FUNC', 'I-FUNC', 'O', 'O', 'O', 'O', 'O', '<PAD>', '<PAD>', '<PAD>', '<PAD>', '<PAD>', '<PAD>', '<PAD>', '<PAD>', '<PAD>', '<PAD>', '<PAD>', '<PAD>', '<PAD>', '<PAD>', '<PAD>', '<PAD>', '<PAD>', '<PAD>', '<PAD>', '<PAD>', '<PAD>', '<PAD>', '<PAD>', '<PAD>', '<PAD>', '<PAD>', '<PAD>', '<PAD>', '<PAD>', '<PAD>', '<PAD>', '<PAD>', '<PAD>', '<PAD>', '<PAD>', '<PAD>', '<PAD>', '<PAD>', '<PAD>', '<PAD>', '<PAD>', '<PAD>', '<PAD>', '<PAD>', '<PAD>', '<PAD>', '<PAD>', '<PAD>', '<PAD>', '<PAD>', '<PAD>', '<PAD>', '<PAD>', '<PAD>', '<PAD>', '<PAD>', '<PAD>', '<PAD>', '<PAD>', '<PAD>', '<PAD>', '<PAD>', '<PAD>', '<PAD>', '<PAD>', '<PAD>', '<PAD>', '<PAD>', '<PAD>', '<PAD>', '<PAD>', '<PAD>']\n",
      "true : ['O', 'O', 'B-STAT', 'I-STAT', 'I-STAT', 'O', 'O', 'O', 'O', 'O', 'O', 'O', 'O', 'O', 'O', 'O', 'O', 'O', 'O', 'O', 'O', 'B-FUNC', 'I-FUNC', 'O', 'O', 'O', 'O', 'O', '<PAD>', '<PAD>', '<PAD>', '<PAD>', '<PAD>', '<PAD>', '<PAD>', '<PAD>', '<PAD>', '<PAD>', '<PAD>', '<PAD>', '<PAD>', '<PAD>', '<PAD>', '<PAD>', '<PAD>', '<PAD>', '<PAD>', '<PAD>', '<PAD>', '<PAD>', '<PAD>', '<PAD>', '<PAD>', '<PAD>', '<PAD>', '<PAD>', '<PAD>', '<PAD>', '<PAD>', '<PAD>', '<PAD>', '<PAD>', '<PAD>', '<PAD>', '<PAD>', '<PAD>', '<PAD>', '<PAD>', '<PAD>', '<PAD>', '<PAD>', '<PAD>', '<PAD>', '<PAD>', '<PAD>', '<PAD>', '<PAD>', '<PAD>', '<PAD>', '<PAD>', '<PAD>', '<PAD>', '<PAD>', '<PAD>', '<PAD>', '<PAD>', '<PAD>', '<PAD>', '<PAD>', '<PAD>', '<PAD>', '<PAD>', '<PAD>', '<PAD>', '<PAD>', '<PAD>', '<PAD>', '<PAD>', '<PAD>', '<PAD>']\n",
      "\n",
      "Entity loss : 0.0064\n",
      "Relation loss : 0.0009\n"
     ]
    }
   ],
   "source": [
    "# Check predictions after training\n",
    "with torch.no_grad():\n",
    "    r_choose = random_choose(input_var)\n",
    "    model.eval()\n",
    "    ent_output, rel_output = model(input_var[r_choose].cuda() if USE_CUDA else input_var)\n",
    "    \n",
    "    ent_loss = criterion_tag(ent_output.cpu(), ent_var[r_choose].view(BATCH_SIZE*MAX_LEN))\n",
    "    ent_output = ent_argmax(ent_output)\n",
    "    \n",
    "    rel_loss = criterion_rel(rel_output.cpu(), rel_var[r_choose].view(BATCH_SIZE*MAX_LEN*MAX_LEN))\n",
    "    \n",
    "    \n",
    "#     print('predict :', ent_output[0])\n",
    "#     print('true :', ent_var[r_choose[0]])\n",
    "    print()\n",
    "    print('predict :', index2tag(ent_output[0], ix_to_ent_tag))\n",
    "    print('true :', index2tag(ent_var[r_choose[0]], ix_to_ent_tag))\n",
    "    print()\n",
    "    print('===================================================')\n",
    "    print()\n",
    "    print()\n",
    "    print('predict :', index2tag(ent_output[1], ix_to_ent_tag))\n",
    "    print('true :', index2tag(ent_var[r_choose[1]], ix_to_ent_tag))\n",
    "    \n",
    "    print()\n",
    "    print(\"Entity loss : %.4f\" % ent_loss)\n",
    "    print(\"Relation loss : %.4f\" % rel_loss)"
   ]
  },
  {
   "cell_type": "code",
   "execution_count": 67,
   "metadata": {},
   "outputs": [
    {
     "name": "stdout",
     "output_type": "stream",
     "text": [
      "24\n",
      "\n",
      "predict : ['O', 'O', 'O', 'B-STAT', 'I-STAT', 'I-STAT', 'I-STAT', 'O', 'O', 'O', 'O', 'O', 'O', 'B-STAT', 'I-STAT', 'I-STAT', 'I-STAT', 'O', 'O', 'O', 'O', 'O', 'O', 'O', 'B-FUNC', 'I-FUNC', '<PAD>', '<PAD>', '<PAD>', '<PAD>', '<PAD>', '<PAD>', '<PAD>', '<PAD>', '<PAD>', '<PAD>', '<PAD>', '<PAD>', '<PAD>', '<PAD>', '<PAD>', '<PAD>', '<PAD>', '<PAD>', '<PAD>', '<PAD>', '<PAD>', '<PAD>', '<PAD>', '<PAD>', '<PAD>', '<PAD>', '<PAD>', '<PAD>', '<PAD>', '<PAD>', '<PAD>', '<PAD>', '<PAD>', '<PAD>', '<PAD>', '<PAD>', '<PAD>', '<PAD>', '<PAD>', '<PAD>', '<PAD>', '<PAD>', '<PAD>', '<PAD>', '<PAD>', '<PAD>', '<PAD>', '<PAD>', '<PAD>', '<PAD>', '<PAD>', '<PAD>', '<PAD>', '<PAD>', '<PAD>', '<PAD>', '<PAD>', '<PAD>', '<PAD>', '<PAD>', '<PAD>', '<PAD>', '<PAD>', '<PAD>', '<PAD>', '<PAD>', '<PAD>', '<PAD>', '<PAD>', '<PAD>', '<PAD>', '<PAD>', '<PAD>', '<PAD>']\n",
      "\n",
      "true : ['O', 'O', 'O', 'B-STAT', 'I-STAT', 'I-STAT', 'I-STAT', 'O', 'O', 'O', 'O', 'O', 'O', 'B-STAT', 'I-STAT', 'I-STAT', 'I-STAT', 'O', 'O', 'O', 'O', 'O', 'O', 'O', 'O', 'O', '<PAD>', '<PAD>', '<PAD>', '<PAD>', '<PAD>', '<PAD>', '<PAD>', '<PAD>', '<PAD>', '<PAD>', '<PAD>', '<PAD>', '<PAD>', '<PAD>', '<PAD>', '<PAD>', '<PAD>', '<PAD>', '<PAD>', '<PAD>', '<PAD>', '<PAD>', '<PAD>', '<PAD>', '<PAD>', '<PAD>', '<PAD>', '<PAD>', '<PAD>', '<PAD>', '<PAD>', '<PAD>', '<PAD>', '<PAD>', '<PAD>', '<PAD>', '<PAD>', '<PAD>', '<PAD>', '<PAD>', '<PAD>', '<PAD>', '<PAD>', '<PAD>', '<PAD>', '<PAD>', '<PAD>', '<PAD>', '<PAD>', '<PAD>', '<PAD>', '<PAD>', '<PAD>', '<PAD>', '<PAD>', '<PAD>', '<PAD>', '<PAD>', '<PAD>', '<PAD>', '<PAD>', '<PAD>', '<PAD>', '<PAD>', '<PAD>', '<PAD>', '<PAD>', '<PAD>', '<PAD>', '<PAD>', '<PAD>', '<PAD>', '<PAD>', '<PAD>']\n",
      "\n",
      "Entity loss : 0.0552\n",
      "Relation loss : 0.0056\n"
     ]
    }
   ],
   "source": [
    "with torch.no_grad():\n",
    "    r_choose = random_choose(input_dev)\n",
    "    model.eval()\n",
    "    ent_output, rel_output = model(input_dev[r_choose].cuda() if USE_CUDA else input_dev)\n",
    "    \n",
    "    ent_loss = criterion_tag(ent_output.cpu(), ent_dev[r_choose].view(BATCH_SIZE*MAX_LEN))\n",
    "    ent_output = ent_argmax(ent_output)\n",
    "    \n",
    "    rel_loss = criterion_rel(rel_output.cpu(), rel_var[r_choose].view(BATCH_SIZE*MAX_LEN*MAX_LEN))\n",
    "    \n",
    "    print(r_choose[0])\n",
    "    print()\n",
    "    print('predict :', index2tag(ent_output[0], ix_to_ent_tag))\n",
    "    print()\n",
    "    print('true :', index2tag(ent_dev[r_choose[0]], ix_to_ent_tag))\n",
    "    print()\n",
    "\n",
    "    print(\"Entity loss : %.4f\" % ent_loss)\n",
    "    print(\"Relation loss : %.4f\" % rel_loss)"
   ]
  },
  {
   "cell_type": "code",
   "execution_count": 127,
   "metadata": {},
   "outputs": [],
   "source": [
    "from sklearn.metrics import precision_recall_fscore_support\n",
    "\n",
    "def batch_decode(ent_output, rel_output, batch_index, word_lists, true_ent, true_rel):\n",
    "    rel_lists = []\n",
    "    true_rel_lists = []\n",
    "    combine_outputs = []\n",
    "    combine_trues = []\n",
    "    \n",
    "    #================\n",
    "    w_save = []\n",
    "    pre_e_save = []\n",
    "    pre_rlist = []\n",
    "    \n",
    "    # predict\n",
    "    for e,r,i in zip(ent_output, rel_output, batch_index):\n",
    "        \n",
    "        # 單句decode關係\n",
    "        r_list, appear_error = decode_rel(e, r)\n",
    "        \n",
    "        # 出現error，跳過這句\n",
    "        if appear_error:\n",
    "            continue\n",
    "            \n",
    "        rel_lists.append(r_list)\n",
    "        len_of_list = len(word_lists[i])\n",
    "        word_list = word_lists[i]\n",
    "        pridict_ent = index2tag(e, ix_to_ent_tag)\n",
    "        \n",
    "        \n",
    "        w_save.append(word_list)\n",
    "        pre_e_save.append(pridict_ent[:len_of_list])\n",
    "        pre_rlist.append(r_list[:len_of_list])\n",
    "        \n",
    "#         print(word_list)\n",
    "#         print(pridict_ent[:len_of_list])\n",
    "#         print(r_list[:len_of_list])\n",
    "        \n",
    "        # 重新組成跟input data同樣的形式\n",
    "        for word in range(len_of_list):\n",
    "            add_r = ''\n",
    "            if type(r_list[word]) is list: \n",
    "                for single_r in r_list[word]:\n",
    "                    add_r = add_r+single_r+' '\n",
    "            combine_outputs.append(word_list[word]+' '+pridict_ent[word]+' '+add_r)\n",
    "        \n",
    "        combine_outputs.append(\" \")\n",
    "        print()\n",
    "        print('==========================')\n",
    "        print()\n",
    "        \n",
    "    \n",
    "    \n",
    "    go_predict = 0\n",
    "    # true \n",
    "    for e,r,i in zip(true_ent, true_rel, batch_index):\n",
    "        r_list, appear_error = decode_rel(e, r)\n",
    "        if appear_error:\n",
    "            continue\n",
    "            \n",
    "        true_rel_lists.append(r_list)\n",
    "        \n",
    "        len_of_list = len(word_lists[i])\n",
    "        word_list = word_lists[i]\n",
    "        pridict_ent = index2tag(e, ix_to_ent_tag)\n",
    "        \n",
    "        \n",
    "        \n",
    "        print(w_save[go_predict])\n",
    "        print(pre_e_save[go_predict])\n",
    "        print(pre_rlist[go_predict])\n",
    "        go_predict+=1\n",
    "        print()\n",
    "        print('True input')\n",
    "        print(word_list)\n",
    "        print(pridict_ent[:len_of_list])\n",
    "        print(r_list[:len_of_list])\n",
    "        \n",
    "        for word in range(len_of_list):\n",
    "            add_r = ''\n",
    "            if type(r_list[word]) is list:\n",
    "                \n",
    "                for single_r in r_list[word]:\n",
    "                    try :\n",
    "                        add_r = add_r+single_r+' '\n",
    "                    except TypeError:\n",
    "                        add_r = add_r+' '\n",
    "                    \n",
    "            combine_trues.append(word_list[word]+' '+pridict_ent[word]+' '+add_r)\n",
    "        \n",
    "        combine_trues.append(\" \")\n",
    "        \n",
    "        print()\n",
    "        print('==========================')\n",
    "        print()\n",
    "    \n",
    "    \n",
    "    # 過濾O tag的index\n",
    "    f_ix = filter_otag(combine_trues)\n",
    "    \n",
    "    filter_true = list(combine_trues[i] for i in f_ix)\n",
    "    filter_output = list(combine_outputs[i] for i in f_ix)\n",
    "    \n",
    "    \n",
    "    print()\n",
    "    print(np.array(combine_outputs))\n",
    "    print(np.array(combine_trues))\n",
    "    print('=================')\n",
    "    \n",
    "#     print(precision_recall_fscore_support(combine_trues, combine_outputs, average='macro', \\\n",
    "#                                           labels=np.unique(combine_outputs)))\n",
    "\n",
    "    print(precision_recall_fscore_support(filter_true, filter_output, average='macro', \\\n",
    "                                          labels=np.unique(combine_outputs)))\n",
    "    \n",
    "\n",
    "    \n",
    "def create_rel_info(ent_output):\n",
    "    r_list = []     # 存放完整關係\n",
    "    r_dict = {}     # 記錄關係資訊\n",
    "    appear_error = False\n",
    "    pred_ent = index2tag(ent_output, ix_to_ent_tag)\n",
    "\n",
    "    e_loc = 0       # 當前遇到的entity的位置\n",
    "    for loc, e in enumerate(pred_ent):\n",
    "        if e[0]=='B':\n",
    "            e_loc = loc\n",
    "            r_dict[loc] = {\n",
    "                '_2ndtag':e[2:],\n",
    "                'end':loc,\n",
    "            }\n",
    "            r_list.append([])\n",
    "                   \n",
    "        elif e[0]=='I':\n",
    "            \n",
    "            # 錯誤來自於，entity預測錯誤，沒有預測到B tag，直接跳到I tag\n",
    "            # 所以沒有紀錄e_loc\n",
    "            try: \n",
    "                r_dict[e_loc]['end'] = loc\n",
    "            except KeyError:\n",
    "                appear_error = True\n",
    "                break\n",
    "                \n",
    "            r_list.append([])\n",
    "            \n",
    "        else:\n",
    "            r_list.append(\"\")\n",
    "              \n",
    "    return r_list, r_dict, appear_error\n",
    "\n",
    "\n",
    "\n",
    "def decode_rel(ent_output, rel_output):\n",
    "\n",
    "    r_list, r_dict, appear_error = create_rel_info(ent_output)\n",
    "    \n",
    "    \n",
    "    IsB = False           # 是否遇到B tag的lock\n",
    "    IsNext = False        # 是否為B tag後面的tag 的lock\n",
    "    num_reocrd = -1       # 紀錄pair數\n",
    "    now_loc = 0\n",
    "    end_loc = 0\n",
    "    rel_keyerror = False\n",
    "    \n",
    "    for now in range(len(rel_output)):\n",
    "        for loc, rel in enumerate(rel_output[now][:now+1]):\n",
    "            rel = rel.cpu().numpy()\n",
    "            \n",
    "            # 有關係存在，且為B tag \n",
    "            if rel!=rel_tag_to_ix[REL_NONE] and IsB==False and IsNext==False:\n",
    "\n",
    "                IsB = True\n",
    "                IsNext = True\n",
    "                tag = ix_to_rel_tag[int(rel)]\n",
    "                num_reocrd+=1\n",
    "                now_loc = loc\n",
    "                \n",
    "                # 錯誤來自於，now_loc找不到，也就是說，rel預測出來是有關係存在\n",
    "                # 但預測是'O'\n",
    "                # 而在entity中卻沒有預測出來，所以r_dict中沒有紀錄\n",
    "                try:\n",
    "                    end_loc = r_dict[now_loc]['end']\n",
    "                except KeyError:\n",
    "                    rel_keyerror = True\n",
    "                    break\n",
    "                \n",
    "                \n",
    "                second_tag = r_dict[now_loc]['_2ndtag']\n",
    "                # check_loc 之後有多關係出現時要更改\n",
    "                preAorB = check_loc(second_tag)\n",
    "                nowAorB = 'B' if preAorB=='A' else 'A'\n",
    "                \n",
    "                pre_complete_rel = tag+\"-\"+str(num_reocrd)+\"-\"+preAorB\n",
    "                now_complete_rel = tag+\"-\"+str(num_reocrd)+\"-\"+nowAorB\n",
    "                \n",
    "                # 將以前的token填上關係\n",
    "                for token in range(now_loc, end_loc+1):\n",
    "                    \n",
    "                    '''AttributeError: 'str' object has no attribute 'append'''\n",
    "                    r_list[token].append(pre_complete_rel)\n",
    "                \n",
    "                # 當前token填上關係\n",
    "                r_list[now].append(now_complete_rel)\n",
    "\n",
    "            \n",
    "            # B tag後面的tag\n",
    "            elif rel!=rel_tag_to_ix[REL_NONE] and IsB:\n",
    "                # 如果還在這個entity的範圍內\n",
    "                if loc<=end_loc:\n",
    "                    pass\n",
    "                \n",
    "                # 超出現在這個entity的範圍，改lock\n",
    "                else:\n",
    "                    IsB = False\n",
    "            \n",
    "            # B tag後面的tag的關係，依照前面的關係複製\n",
    "            elif rel!=rel_tag_to_ix[REL_NONE] and IsNext:\n",
    "                r_list[now] = r_list[now-1]\n",
    "                \n",
    "            else:\n",
    "                IsB = False\n",
    "        \n",
    "        if rel_keyerror:\n",
    "            rel_keyerror = False\n",
    "            break\n",
    "                \n",
    "                \n",
    "    return r_list, appear_error\n",
    "                \n",
    "\n",
    "# 是三元關係中的前者還是後者                \n",
    "def check_loc(second_tag):\n",
    "    if second_tag in rule[0]:\n",
    "        return 'A'\n",
    "    elif second_tag in rule[2]:\n",
    "        return 'B'\n",
    "    \n",
    "    \n",
    "def filter_otag(combine_trues):\n",
    "    ix2eval = []\n",
    "    \n",
    "    for i, token in enumerate(combine_trues):\n",
    "        # error : string index out of range\n",
    "        # 出現空白\n",
    "        try :\n",
    "            token[2]!='O'\n",
    "        except IndexError:\n",
    "            continue\n",
    "        else:\n",
    "            ix2eval.append(i)\n",
    "            \n",
    "    return ix2eval"
   ]
  },
  {
   "cell_type": "code",
   "execution_count": 115,
   "metadata": {},
   "outputs": [
    {
     "name": "stdout",
     "output_type": "stream",
     "text": [
      "\n",
      "Entity loss : 0.0412\n",
      "Relation loss : 0.0010\n",
      "\n",
      "['這', '款', '面', '膜', '它', '強', '調', '乾', '肌', '及', '肌', '膚', '鬆', '弛', '.', '.', '.', '等', ',', '但', '我', '發', '現', '緊', '緻', '的', '部', '份', '不', '是', '那', '麼', '明', '顯', ',', '但', '保', '濕', '部', '分', '我', '倒', '是', '很']\n",
      "['O', 'O', 'O', 'O', 'O', 'O', 'O', 'B-STAT', 'I-STAT', 'I-STAT', 'I-STAT', 'I-STAT', 'O', 'O', 'O', 'O', 'O', 'O', 'O', 'O', 'O', 'O', 'O', 'B-FUNC', 'I-FUNC', 'O', 'O', 'O', 'O', 'O', 'O', 'O', 'O', 'O', 'O', 'O', 'B-FUNC', 'I-FUNC', 'O', 'O', 'O', 'O', 'O', 'O']\n",
      "['', '', '', '', '', '', '', ['ApplyTo-0-B'], ['ApplyTo-0-B'], ['ApplyTo-0-B'], ['ApplyTo-0-B'], ['ApplyTo-0-B'], '', '', '', '', '', '', '', '', '', '', '', ['ApplyTo-0-A'], ['ApplyTo-0-A'], '', '', '', '', '', '', '', '', '', '', '', '', '', '', '', '', '', '', '']\n",
      "\n",
      "==========================\n",
      "\n",
      "['可', '視', '膚', '況', '/', '氣', '候', '選', '擇', '厚', '敷', 'o', 'r', '薄', '敷', '，', '不', '論', '是', '救', '急', '保', '養', '或', '是', '乾', '肌', '日', '常', '補', '水', '，', '保', '濕', '效', '果', '皆', '相', '當', '顯', '著', '，', '簡', '直', '宜', '家', '宜', '室', '四', '季', '皆', '宜', '齁', '~']\n",
      "['O', 'O', 'O', 'O', 'O', 'O', 'O', 'O', 'O', 'O', 'O', 'O', 'O', 'O', 'O', 'O', 'O', 'O', 'O', 'O', 'O', 'B-FUNC', 'I-FUNC', 'O', 'O', 'B-STAT', 'I-STAT', 'O', 'O', 'O', 'O', 'O', 'B-FUNC', 'I-FUNC', 'O', 'O', 'O', 'O', 'O', 'O', 'O', 'O', 'O', 'O', 'O', 'O', 'O', 'O', 'O', 'O', 'O', 'O', 'O', 'O']\n",
      "['', '', '', '', '', '', '', '', '', '', '', '', '', '', '', '', '', '', '', '', '', ['ApplyTo-0-A'], ['ApplyTo-0-A'], '', '', ['ApplyTo-0-B'], ['ApplyTo-0-B'], '', '', '', '', '', '', '', '', '', '', '', '', '', '', '', '', '', '', '', '', '', '', '', '', '', '', '']\n",
      "\n",
      "==========================\n",
      "\n",
      "['適', '用', '族', '群', '為', '乾', '燥', '肌', '、', '缺', '水', '保', '濕', '、', '2', '5', '歲', '以', '上', '肌', '膚']\n",
      "['O', 'O', 'O', 'O', 'O', 'B-STAT', 'I-STAT', 'I-STAT', 'O', 'O', 'O', 'B-FUNC', 'I-FUNC', 'O', 'O', 'O', 'O', 'O', 'O', 'O', 'O']\n",
      "['', '', '', '', '', ['ApplyTo-0-B'], ['ApplyTo-0-B'], ['ApplyTo-0-B'], '', '', '', ['ApplyTo-0-A'], ['ApplyTo-0-A'], '', '', '', '', '', '', '', '']\n",
      "\n",
      "==========================\n",
      "\n",
      "['本', '身', '是', '極', '乾', '的', '膚', '質', ',', '常', '需', '要', '加', '強', '保', '濕']\n",
      "['O', 'O', 'O', 'O', 'B-STAT', 'I-STAT', 'I-STAT', 'I-STAT', 'O', 'O', 'O', 'O', 'O', 'O', 'B-FUNC', 'I-FUNC']\n",
      "['', '', '', '', ['ApplyTo-0-B'], ['ApplyTo-0-B'], ['ApplyTo-0-B'], ['ApplyTo-0-B'], '', '', '', '', '', '', ['ApplyTo-0-A'], ['ApplyTo-0-A']]\n",
      "\n",
      "==========================\n",
      "\n",
      "['顧', '名', '思', '義', '這', '是', '一', '款', '晚', '安', '凍', '膜', '，', '乾', '肌', '我', '本', '人', '於', '晚', '上', '卸', '妝', '洗', '臉', '洗', '澡', '後', '睡', '前', '保', '養', '使', '用']\n",
      "['O', 'O', 'O', 'O', 'O', 'O', 'O', 'O', 'O', 'O', 'O', 'O', 'O', 'B-STAT', 'I-STAT', 'O', 'O', 'O', 'O', 'O', 'O', 'O', 'O', 'O', 'O', 'O', 'O', 'O', 'O', 'O', 'B-FUNC', 'I-FUNC', 'O', 'O']\n",
      "['', '', '', '', '', '', '', '', '', '', '', '', '', ['ApplyTo-0-B'], ['ApplyTo-0-B'], '', '', '', '', '', '', '', '', '', '', '', '', '', '', '', ['ApplyTo-0-A'], ['ApplyTo-0-A'], '', '']\n",
      "\n",
      "==========================\n",
      "\n",
      "['看', '品', '名', '就', '知', '道', '是', '首', '重', '保', '濕', '效', '果', '的', '面', '膜', ',', '對', '於', '我', '這', '缺', '水', '易', '出', '油', '的', '肌', '膚', ',', '當', '然', '是', '迫', '不', '及', '待', '地', '使', '用', '啦', '~']\n",
      "['O', 'O', 'O', 'O', 'O', 'O', 'O', 'O', 'O', 'B-FUNC', 'I-FUNC', 'O', 'O', 'O', 'O', 'O', 'O', 'O', 'O', 'O', 'O', 'O', 'O', 'O', 'B-STAT', 'I-STAT', 'I-STAT', 'I-STAT', 'I-STAT', 'O', 'O', 'O', 'O', 'O', 'O', 'O', 'O', 'O', 'O', 'O', 'O', 'O']\n",
      "['', '', '', '', '', '', '', '', '', ['ApplyTo-0-A'], ['ApplyTo-0-A'], '', '', '', '', '', '', '', '', '', '', '', '', '', ['ApplyTo-0-B'], ['ApplyTo-0-B'], ['ApplyTo-0-B'], ['ApplyTo-0-B'], ['ApplyTo-0-B'], '', '', '', '', '', '', '', '', '', '', '', '', '']\n",
      "\n",
      "==========================\n",
      "\n",
      "['精', '華', '液', '內', '含', '酵', '母', '萃', '取', '，', '搭', '配', '“', '小', '分', '子', '玻', '尿', '酸', '”', '及', '“', '牛', '奶', '蛋', '白', '”', '，', '可', '以', '達', '到', '保', '濕', '效', '用', '，', '質', '地', '清', '爽', '滑', '順', '，', '敷', '用', '時', '保', '濕', '滋', '潤', '度', '相', '當', '不', '錯', '，', '可', '以', '修', '護', '肌', '膚', '乾', '燥', '缺', '水', '部', '位', '，', '取', '下', '面', '膜', '後', '的', '肌', '膚', '立', '即', '透', '亮', '飽', '滿', '，', '連', '毛', '孔', '都', '明', '顯', '縮', '小']\n",
      "['O', 'O', 'O', 'O', 'O', 'O', 'O', 'O', 'O', 'O', 'O', 'O', 'O', 'O', 'O', 'O', 'O', 'O', 'O', 'O', 'O', 'O', 'O', 'O', 'O', 'O', 'O', 'O', 'O', 'O', 'O', 'O', 'B-FUNC', 'I-FUNC', 'O', 'O', 'O', 'O', 'O', 'O', 'O', 'O', 'O', 'O', 'O', 'O', 'O', 'B-FUNC', 'I-FUNC', 'O', 'O', 'O', 'O', 'O', 'O', 'O', 'O', 'O', 'O', 'O', 'O', 'B-STAT', 'I-STAT', 'I-STAT', 'I-STAT', 'O', 'O', 'O', 'O', 'O', 'O', 'O', 'O', 'O', 'O', 'O', 'O', 'O', 'O', 'O', 'O', 'O', 'O', 'O', 'O', 'O', 'O', 'O', 'O', 'O', 'O', 'O', 'O']\n",
      "['', '', '', '', '', '', '', '', '', '', '', '', '', '', '', '', '', '', '', '', '', '', '', '', '', '', '', '', '', '', '', '', ['ApplyTo-0-A'], ['ApplyTo-0-A'], '', '', '', '', '', '', '', '', '', '', '', '', '', [], [], '', '', '', '', '', '', '', '', '', '', '', '', '', '', '', '', '', '', '', '', '', '', '', '', '', '', '', '', '', '', '', '', '', '', '', '', '', '', '', '', '', '', '', '']\n",
      "\n",
      "==========================\n",
      "\n",
      "['“', '酵', '母', '萃', '取', '”', '搭', '配', '“', '小', '分', '子', '玻', '尿', '酸', '”', '及', '“', '牛', '奶', '蛋', '白', '”', '使', '乾', '燥', '肌', '膚', '充', '滿', '水', '分', '，', '長', '效', '保', '濕']\n",
      "['O', 'O', 'O', 'O', 'O', 'O', 'O', 'O', 'O', 'O', 'O', 'O', 'O', 'O', 'O', 'O', 'O', 'O', 'O', 'O', 'O', 'O', 'O', 'O', 'B-STAT', 'I-STAT', 'I-STAT', 'I-STAT', 'O', 'O', 'O', 'O', 'O', 'O', 'O', 'B-FUNC', 'I-FUNC']\n",
      "['', '', '', '', '', '', '', '', '', '', '', '', '', '', '', '', '', '', '', '', '', '', '', '', ['ApplyTo-0-B'], ['ApplyTo-0-B'], ['ApplyTo-0-B'], ['ApplyTo-0-B'], '', '', '', '', '', '', '', ['ApplyTo-0-A'], ['ApplyTo-0-A']]\n",
      "\n",
      "==========================\n",
      "\n",
      "['當', '天', '擦', '就', '馬', '上', '覺', '得', '皮', '膚', '乾', '燥', '感', '得', '到', '舒', '緩']\n",
      "['O', 'O', 'O', 'O', 'O', 'O', 'O', 'O', 'B-STAT', 'I-STAT', 'I-STAT', 'I-STAT', 'I-STAT', 'O', 'O', 'B-FUNC', 'I-FUNC']\n",
      "['', '', '', '', '', '', '', '', ['ApplyTo-0-B'], ['ApplyTo-0-B'], ['ApplyTo-0-B'], ['ApplyTo-0-B'], ['ApplyTo-0-B'], '', '', ['ApplyTo-0-A'], ['ApplyTo-0-A']]\n",
      "\n",
      "==========================\n",
      "\n",
      "['若', '乾', '性', '肌', '膚', '使', '用', '會', '保', '濕', '度', '不', '足']\n",
      "['O', 'B-STAT', 'I-STAT', 'I-STAT', 'I-STAT', 'O', 'O', 'O', 'B-FUNC', 'I-FUNC', 'I-FUNC', 'O', 'O']\n",
      "['', ['ApplyTo-0-B'], ['ApplyTo-0-B'], ['ApplyTo-0-B'], ['ApplyTo-0-B'], '', '', '', ['ApplyTo-0-A'], ['ApplyTo-0-A'], ['ApplyTo-0-A'], '', '']\n",
      "\n",
      "==========================\n",
      "\n",
      "['但', '對', '皮', '膚', '乾', '癢', '保', '濕', '及', '透', '亮', '很', '有', '幫', '助', '的', '喲']\n",
      "['O', 'O', 'B-STAT', 'I-STAT', 'I-STAT', 'O', 'B-FUNC', 'I-FUNC', 'O', 'O', 'O', 'O', 'O', 'O', 'O', 'O', 'O']\n",
      "['', '', ['ApplyTo-0-B'], ['ApplyTo-0-B'], ['ApplyTo-0-B'], '', ['ApplyTo-0-A'], ['ApplyTo-0-A'], '', '', '', '', '', '', '', '', '']\n",
      "\n",
      "==========================\n",
      "\n",
      "['溫', '柔', '而', '堅', '定', '的', '修', '護', '力', 'Z', 'e', 'p', 'h', 'y', 'r', 'i', 'n', 'e', '數', '字', '保', '養', ',', '非', '常', '溫', '和', '的', '產', '品', '即', '使', '是', '敏', '感', '肌', '也', '可', '以', '輕', '鬆', '使', '用']\n",
      "['O', 'O', 'O', 'O', 'O', 'O', 'O', 'O', 'O', 'O', 'O', 'O', 'O', 'O', 'O', 'O', 'O', 'O', 'O', 'O', 'B-FUNC', 'I-FUNC', 'O', 'O', 'O', 'O', 'O', 'O', 'O', 'O', 'O', 'O', 'O', 'B-STAT', 'I-STAT', 'I-STAT', 'O', 'O', 'O', 'O', 'O', 'O', 'O']\n",
      "['', '', '', '', '', '', '', '', '', '', '', '', '', '', '', '', '', '', '', '', ['ApplyTo-0-A'], ['ApplyTo-0-A'], '', '', '', '', '', '', '', '', '', '', '', ['ApplyTo-0-B'], ['ApplyTo-0-B'], ['ApplyTo-0-B'], '', '', '', '', '', '', '']\n",
      "\n",
      "==========================\n",
      "\n",
      "['皮', '珂', '兒', '是', '韓', '國', '製', '造', '的', '保', '養', '品', '，', '有', '可', '愛', '的', '火', '山', '插', '圖', '，', '鐵', '罐', '包', '裝', '，', '是', '很', '特', '殊', '的', '慕', '絲', '質', '地', '，', '需', '沖', '洗', '的', '清', '潔', '面', '膜', '，', '很', '適', '合', '油', '性', '肌', '膚', '來', '使', '用']\n",
      "['O', 'O', 'O', 'O', 'O', 'O', 'O', 'O', 'O', 'B-FUNC', 'I-FUNC', 'O', 'O', 'O', 'O', 'O', 'O', 'O', 'O', 'O', 'O', 'O', 'O', 'O', 'O', 'O', 'O', 'O', 'O', 'O', 'O', 'O', 'O', 'O', 'O', 'O', 'O', 'O', 'O', 'O', 'O', 'O', 'O', 'O', 'O', 'O', 'O', 'O', 'O', 'B-STAT', 'I-STAT', 'I-STAT', 'I-STAT', 'O', 'O', 'O']\n",
      "['', '', '', '', '', '', '', '', '', ['ApplyTo-0-A'], ['ApplyTo-0-A'], '', '', '', '', '', '', '', '', '', '', '', '', '', '', '', '', '', '', '', '', '', '', '', '', '', '', '', '', '', '', '', '', '', '', '', '', '', '', ['ApplyTo-0-B'], ['ApplyTo-0-B'], ['ApplyTo-0-B'], ['ApplyTo-0-B'], '', '', '']\n",
      "\n",
      "==========================\n",
      "\n"
     ]
    },
    {
     "name": "stdout",
     "output_type": "stream",
     "text": [
      "['以', '前', '我', '有', '敷', '過', '別', '款', '的', '美', '白', '面', '膜', '~', '很', '容', '易', '就', '會', '讓', '我', '的', '臉', '部', '肌', '膚', '過', '敏', '，', '會', '有', '紅', '紅', '的', '臉', '出', '現']\n",
      "['O', 'O', 'O', 'O', 'O', 'O', 'O', 'O', 'O', 'B-FUNC', 'I-FUNC', 'O', 'O', 'O', 'O', 'O', 'O', 'O', 'O', 'O', 'O', 'O', 'O', 'O', 'B-STAT', 'I-STAT', 'I-STAT', 'I-STAT', 'O', 'O', 'O', 'O', 'O', 'O', 'O', 'O', 'O']\n",
      "['', '', '', '', '', '', '', '', '', ['ApplyTo-0-A'], ['ApplyTo-0-A'], '', '', '', '', '', '', '', '', '', '', '', '', '', ['ApplyTo-0-B'], ['ApplyTo-0-B'], ['ApplyTo-0-B'], ['ApplyTo-0-B'], '', '', '', '', '', '', '', '', '']\n",
      "\n",
      "==========================\n",
      "\n",
      "['我', '覺', '得', '這', '面', '膜', '在', '這', '價', '位', '還', '可', '以', '接', '受', '，', '尤', '其', '是', '很', '會', '過', '敏', '的', '人', '來', '說', '，', '能', '使', '用', '的', '產', '品', '不', '多', '，', '保', '濕', '度', '對', '乾', '性', '肌', '的', '我', '來', '說', '也', '還', '可', '以', '，', '這', '款', '我', '覺', '得', '可', '以', '再', '回', '購']\n",
      "['O', 'O', 'O', 'O', 'O', 'O', 'O', 'O', 'O', 'O', 'O', 'O', 'O', 'O', 'O', 'O', 'O', 'O', 'O', 'O', 'O', 'O', 'O', 'O', 'O', 'O', 'O', 'O', 'O', 'O', 'O', 'O', 'O', 'O', 'O', 'O', 'O', 'B-FUNC', 'I-FUNC', 'I-FUNC', 'O', 'B-STAT', 'I-STAT', 'I-STAT', 'O', 'O', 'O', 'O', 'O', 'O', 'O', 'O', 'O', 'O', 'O', 'O', 'O', 'O', 'O', 'O', 'O', 'O', 'O']\n",
      "['', '', '', '', '', '', '', '', '', '', '', '', '', '', '', '', '', '', '', '', '', '', '', '', '', '', '', '', '', '', '', '', '', '', '', '', '', ['ApplyTo-0-A'], ['ApplyTo-0-A'], ['ApplyTo-0-A'], '', ['ApplyTo-0-B'], ['ApplyTo-0-B'], ['ApplyTo-0-B'], '', '', '', '', '', '', '', '', '', '', '', '', '', '', '', '', '', '', '']\n",
      "\n",
      "==========================\n",
      "\n",
      "['極', '效', '肌', '因', '修', '護', '巨', '藻', '、', '齒', '缘', '墨', '角', '藻', '複', '合', '水', '解', '酵', '母', '提', '取', '物', '，', '浸', '透', '濕', '潤', '乾', '燥', '肌', '膚', '，', '增', '強', '防', '護', '屏', '障', '，', '協', '同', '蘆', '薈', '、', '山', '金', '車', '及', '光', '果', '甘', '草', '植', '萃', '精', '華', '，', '深', '度', '安', '撫', '同', '時', '舒', '緩', '肌', '膚', '的', '不', '適', '，', '拋', '開', '惱', '人', '的', '乾', '燥', '缺', '水', '不', '安', '讓', '肌', '膚', '穩', '定']\n",
      "['O', 'O', 'O', 'O', 'O', 'O', 'O', 'O', 'O', 'O', 'O', 'O', 'O', 'O', 'O', 'O', 'O', 'O', 'O', 'O', 'O', 'O', 'O', 'O', 'O', 'O', 'O', 'O', 'B-STAT', 'I-STAT', 'I-STAT', 'I-STAT', 'O', 'O', 'O', 'O', 'O', 'O', 'O', 'O', 'O', 'O', 'O', 'O', 'O', 'O', 'O', 'O', 'O', 'O', 'O', 'O', 'O', 'O', 'O', 'O', 'O', 'O', 'O', 'O', 'O', 'O', 'O', 'O', 'B-FUNC', 'I-FUNC', 'O', 'O', 'O', 'O', 'O', 'O', 'O', 'O', 'O', 'O', 'O', 'B-STAT', 'I-STAT', 'O', 'O', 'O', 'O', 'O', 'O', 'O', 'O', 'O']\n",
      "['', '', '', '', '', '', '', '', '', '', '', '', '', '', '', '', '', '', '', '', '', '', '', '', '', '', '', '', ['ApplyTo-0-B'], ['ApplyTo-0-B'], ['ApplyTo-0-B'], ['ApplyTo-0-B'], '', '', '', '', '', '', '', '', '', '', '', '', '', '', '', '', '', '', '', '', '', '', '', '', '', '', '', '', '', '', '', '', ['ApplyTo-0-A'], ['ApplyTo-0-A'], '', '', '', '', '', '', '', '', '', '', '', [], [], '', '', '', '', '', '', '', '', '']\n",
      "\n",
      "==========================\n",
      "\n",
      "['保', '濕', '效', '果', '超', '優', '的', '，', '暗', '沉', '和', '乾', '燥', '肌', '也', '統', '統', 'O', 'U', 'T', '了', '，']\n",
      "['B-FUNC', 'I-FUNC', 'O', 'O', 'O', 'O', 'O', 'O', 'O', 'O', 'O', 'B-STAT', 'I-STAT', 'I-STAT', 'O', 'O', 'O', 'O', 'O', 'O', 'O', 'O']\n",
      "[['ApplyTo-0-A'], ['ApplyTo-0-A'], '', '', '', '', '', '', '', '', '', ['ApplyTo-0-B'], ['ApplyTo-0-B'], ['ApplyTo-0-B'], '', '', '', '', '', '', '', '']\n",
      "\n",
      "==========================\n",
      "\n",
      "['露', '珠', '草', '萃', '取', '液', '晶', '華', '能', '舒', '緩', '肌', '膚', '乾', '燥', '不', '適', '並', '加', '強', '保', '濕']\n",
      "['O', 'O', 'O', 'O', 'O', 'O', 'O', 'O', 'O', 'B-FUNC', 'I-FUNC', 'B-STAT', 'I-STAT', 'I-STAT', 'I-STAT', 'O', 'O', 'O', 'O', 'O', 'B-FUNC', 'I-FUNC']\n",
      "['', '', '', '', '', '', '', '', '', ['ApplyTo-0-A'], ['ApplyTo-0-A'], ['ApplyTo-0-B'], ['ApplyTo-0-B'], ['ApplyTo-0-B'], ['ApplyTo-0-B'], '', '', '', '', '', '', '']\n",
      "\n",
      "==========================\n",
      "\n",
      "\n",
      "['這 O ' '款 O ' '面 O ' '膜 O ' '它 O ' '強 O ' '調 O ' '乾 B-STAT ApplyTo-0-B '\n",
      " '肌 I-STAT ApplyTo-0-B ' '及 I-STAT ApplyTo-0-B ' '肌 I-STAT ApplyTo-0-B '\n",
      " '膚 I-STAT ApplyTo-0-B ' '鬆 O ' '弛 O ' '. O ' '. O ' '. O ' '等 O ' ', O '\n",
      " '但 O ' '我 O ' '發 O ' '現 O ' '緊 B-FUNC ApplyTo-0-A '\n",
      " '緻 I-FUNC ApplyTo-0-A ' '的 O ' '部 O ' '份 O ' '不 O ' '是 O ' '那 O ' '麼 O '\n",
      " '明 O ' '顯 O ' ', O ' '但 O ' '保 B-FUNC ' '濕 I-FUNC ' '部 O ' '分 O ' '我 O '\n",
      " '倒 O ' '是 O ' '很 O ' ' ' '可 O ' '視 O ' '膚 O ' '況 O ' '/ O ' '氣 O ' '候 O '\n",
      " '選 O ' '擇 O ' '厚 O ' '敷 O ' 'o O ' 'r O ' '薄 O ' '敷 O ' '， O ' '不 O '\n",
      " '論 O ' '是 O ' '救 O ' '急 O ' '保 B-FUNC ApplyTo-0-A '\n",
      " '養 I-FUNC ApplyTo-0-A ' '或 O ' '是 O ' '乾 B-STAT ApplyTo-0-B '\n",
      " '肌 I-STAT ApplyTo-0-B ' '日 O ' '常 O ' '補 O ' '水 O ' '， O ' '保 B-FUNC '\n",
      " '濕 I-FUNC ' '效 O ' '果 O ' '皆 O ' '相 O ' '當 O ' '顯 O ' '著 O ' '， O '\n",
      " '簡 O ' '直 O ' '宜 O ' '家 O ' '宜 O ' '室 O ' '四 O ' '季 O ' '皆 O ' '宜 O '\n",
      " '齁 O ' '~ O ' ' ' '適 O ' '用 O ' '族 O ' '群 O ' '為 O '\n",
      " '乾 B-STAT ApplyTo-0-B ' '燥 I-STAT ApplyTo-0-B ' '肌 I-STAT ApplyTo-0-B '\n",
      " '、 O ' '缺 O ' '水 O ' '保 B-FUNC ApplyTo-0-A ' '濕 I-FUNC ApplyTo-0-A '\n",
      " '、 O ' '2 O ' '5 O ' '歲 O ' '以 O ' '上 O ' '肌 O ' '膚 O ' ' ' '本 O ' '身 O '\n",
      " '是 O ' '極 O ' '乾 B-STAT ApplyTo-0-B ' '的 I-STAT ApplyTo-0-B '\n",
      " '膚 I-STAT ApplyTo-0-B ' '質 I-STAT ApplyTo-0-B ' ', O ' '常 O ' '需 O '\n",
      " '要 O ' '加 O ' '強 O ' '保 B-FUNC ApplyTo-0-A ' '濕 I-FUNC ApplyTo-0-A ' ' '\n",
      " '顧 O ' '名 O ' '思 O ' '義 O ' '這 O ' '是 O ' '一 O ' '款 O ' '晚 O ' '安 O '\n",
      " '凍 O ' '膜 O ' '， O ' '乾 B-STAT ApplyTo-0-B ' '肌 I-STAT ApplyTo-0-B '\n",
      " '我 O ' '本 O ' '人 O ' '於 O ' '晚 O ' '上 O ' '卸 O ' '妝 O ' '洗 O ' '臉 O '\n",
      " '洗 O ' '澡 O ' '後 O ' '睡 O ' '前 O ' '保 B-FUNC ApplyTo-0-A '\n",
      " '養 I-FUNC ApplyTo-0-A ' '使 O ' '用 O ' ' ' '看 O ' '品 O ' '名 O ' '就 O '\n",
      " '知 O ' '道 O ' '是 O ' '首 O ' '重 O ' '保 B-FUNC ApplyTo-0-A '\n",
      " '濕 I-FUNC ApplyTo-0-A ' '效 O ' '果 O ' '的 O ' '面 O ' '膜 O ' ', O ' '對 O '\n",
      " '於 O ' '我 O ' '這 O ' '缺 O ' '水 O ' '易 O ' '出 B-STAT ApplyTo-0-B '\n",
      " '油 I-STAT ApplyTo-0-B ' '的 I-STAT ApplyTo-0-B ' '肌 I-STAT ApplyTo-0-B '\n",
      " '膚 I-STAT ApplyTo-0-B ' ', O ' '當 O ' '然 O ' '是 O ' '迫 O ' '不 O ' '及 O '\n",
      " '待 O ' '地 O ' '使 O ' '用 O ' '啦 O ' '~ O ' ' ' '精 O ' '華 O ' '液 O ' '內 O '\n",
      " '含 O ' '酵 O ' '母 O ' '萃 O ' '取 O ' '， O ' '搭 O ' '配 O ' '“ O ' '小 O '\n",
      " '分 O ' '子 O ' '玻 O ' '尿 O ' '酸 O ' '” O ' '及 O ' '“ O ' '牛 O ' '奶 O '\n",
      " '蛋 O ' '白 O ' '” O ' '， O ' '可 O ' '以 O ' '達 O ' '到 O '\n",
      " '保 B-FUNC ApplyTo-0-A ' '濕 I-FUNC ApplyTo-0-A ' '效 O ' '用 O ' '， O '\n",
      " '質 O ' '地 O ' '清 O ' '爽 O ' '滑 O ' '順 O ' '， O ' '敷 O ' '用 O ' '時 O '\n",
      " '保 B-FUNC ' '濕 I-FUNC ' '滋 O ' '潤 O ' '度 O ' '相 O ' '當 O ' '不 O ' '錯 O '\n",
      " '， O ' '可 O ' '以 O ' '修 O ' '護 O ' '肌 B-STAT ' '膚 I-STAT ' '乾 I-STAT '\n",
      " '燥 I-STAT ' '缺 O ' '水 O ' '部 O ' '位 O ' '， O ' '取 O ' '下 O ' '面 O '\n",
      " '膜 O ' '後 O ' '的 O ' '肌 O ' '膚 O ' '立 O ' '即 O ' '透 O ' '亮 O ' '飽 O '\n",
      " '滿 O ' '， O ' '連 O ' '毛 O ' '孔 O ' '都 O ' '明 O ' '顯 O ' '縮 O ' '小 O ' ' '\n",
      " '“ O ' '酵 O ' '母 O ' '萃 O ' '取 O ' '” O ' '搭 O ' '配 O ' '“ O ' '小 O '\n",
      " '分 O ' '子 O ' '玻 O ' '尿 O ' '酸 O ' '” O ' '及 O ' '“ O ' '牛 O ' '奶 O '\n",
      " '蛋 O ' '白 O ' '” O ' '使 O ' '乾 B-STAT ApplyTo-0-B '\n",
      " '燥 I-STAT ApplyTo-0-B ' '肌 I-STAT ApplyTo-0-B ' '膚 I-STAT ApplyTo-0-B '\n",
      " '充 O ' '滿 O ' '水 O ' '分 O ' '， O ' '長 O ' '效 O ' '保 B-FUNC ApplyTo-0-A '\n",
      " '濕 I-FUNC ApplyTo-0-A ' ' ' '當 O ' '天 O ' '擦 O ' '就 O ' '馬 O ' '上 O '\n",
      " '覺 O ' '得 O ' '皮 B-STAT ApplyTo-0-B ' '膚 I-STAT ApplyTo-0-B '\n",
      " '乾 I-STAT ApplyTo-0-B ' '燥 I-STAT ApplyTo-0-B ' '感 I-STAT ApplyTo-0-B '\n",
      " '得 O ' '到 O ' '舒 B-FUNC ApplyTo-0-A ' '緩 I-FUNC ApplyTo-0-A ' ' ' '若 O '\n",
      " '乾 B-STAT ApplyTo-0-B ' '性 I-STAT ApplyTo-0-B ' '肌 I-STAT ApplyTo-0-B '\n",
      " '膚 I-STAT ApplyTo-0-B ' '使 O ' '用 O ' '會 O ' '保 B-FUNC ApplyTo-0-A '\n",
      " '濕 I-FUNC ApplyTo-0-A ' '度 I-FUNC ApplyTo-0-A ' '不 O ' '足 O ' ' ' '但 O '\n",
      " '對 O ' '皮 B-STAT ApplyTo-0-B ' '膚 I-STAT ApplyTo-0-B '\n",
      " '乾 I-STAT ApplyTo-0-B ' '癢 O ' '保 B-FUNC ApplyTo-0-A '\n",
      " '濕 I-FUNC ApplyTo-0-A ' '及 O ' '透 O ' '亮 O ' '很 O ' '有 O ' '幫 O ' '助 O '\n",
      " '的 O ' '喲 O ' ' ' '溫 O ' '柔 O ' '而 O ' '堅 O ' '定 O ' '的 O ' '修 O ' '護 O '\n",
      " '力 O ' 'Z O ' 'e O ' 'p O ' 'h O ' 'y O ' 'r O ' 'i O ' 'n O ' 'e O '\n",
      " '數 O ' '字 O ' '保 B-FUNC ApplyTo-0-A ' '養 I-FUNC ApplyTo-0-A ' ', O '\n",
      " '非 O ' '常 O ' '溫 O ' '和 O ' '的 O ' '產 O ' '品 O ' '即 O ' '使 O ' '是 O '\n",
      " '敏 B-STAT ApplyTo-0-B ' '感 I-STAT ApplyTo-0-B ' '肌 I-STAT ApplyTo-0-B '\n",
      " '也 O ' '可 O ' '以 O ' '輕 O ' '鬆 O ' '使 O ' '用 O ' ' ' '皮 O ' '珂 O ' '兒 O '\n",
      " '是 O ' '韓 O ' '國 O ' '製 O ' '造 O ' '的 O ' '保 B-FUNC ApplyTo-0-A '\n",
      " '養 I-FUNC ApplyTo-0-A ' '品 O ' '， O ' '有 O ' '可 O ' '愛 O ' '的 O ' '火 O '\n",
      " '山 O ' '插 O ' '圖 O ' '， O ' '鐵 O ' '罐 O ' '包 O ' '裝 O ' '， O ' '是 O '\n",
      " '很 O ' '特 O ' '殊 O ' '的 O ' '慕 O ' '絲 O ' '質 O ' '地 O ' '， O ' '需 O '\n",
      " '沖 O ' '洗 O ' '的 O ' '清 O ' '潔 O ' '面 O ' '膜 O ' '， O ' '很 O ' '適 O '\n",
      " '合 O ' '油 B-STAT ApplyTo-0-B ' '性 I-STAT ApplyTo-0-B '\n",
      " '肌 I-STAT ApplyTo-0-B ' '膚 I-STAT ApplyTo-0-B ' '來 O ' '使 O ' '用 O ' ' '\n",
      " '以 O ' '前 O ' '我 O ' '有 O ' '敷 O ' '過 O ' '別 O ' '款 O ' '的 O '\n",
      " '美 B-FUNC ApplyTo-0-A ' '白 I-FUNC ApplyTo-0-A ' '面 O ' '膜 O ' '~ O '\n",
      " '很 O ' '容 O ' '易 O ' '就 O ' '會 O ' '讓 O ' '我 O ' '的 O ' '臉 O ' '部 O '\n",
      " '肌 B-STAT ApplyTo-0-B ' '膚 I-STAT ApplyTo-0-B ' '過 I-STAT ApplyTo-0-B '\n",
      " '敏 I-STAT ApplyTo-0-B ' '， O ' '會 O ' '有 O ' '紅 O ' '紅 O ' '的 O ' '臉 O '\n",
      " '出 O ' '現 O ' ' ' '我 O ' '覺 O ' '得 O ' '這 O ' '面 O ' '膜 O ' '在 O ' '這 O '\n",
      " '價 O ' '位 O ' '還 O ' '可 O ' '以 O ' '接 O ' '受 O ' '， O ' '尤 O ' '其 O '\n",
      " '是 O ' '很 O ' '會 O ' '過 O ' '敏 O ' '的 O ' '人 O ' '來 O ' '說 O ' '， O '\n",
      " '能 O ' '使 O ' '用 O ' '的 O ' '產 O ' '品 O ' '不 O ' '多 O ' '， O '\n",
      " '保 B-FUNC ApplyTo-0-A ' '濕 I-FUNC ApplyTo-0-A ' '度 I-FUNC ApplyTo-0-A '\n",
      " '對 O ' '乾 B-STAT ApplyTo-0-B ' '性 I-STAT ApplyTo-0-B '\n",
      " '肌 I-STAT ApplyTo-0-B ' '的 O ' '我 O ' '來 O ' '說 O ' '也 O ' '還 O ' '可 O '\n",
      " '以 O ' '， O ' '這 O ' '款 O ' '我 O ' '覺 O ' '得 O ' '可 O ' '以 O ' '再 O '\n",
      " '回 O ' '購 O ' ' ' '極 O ' '效 O ' '肌 O ' '因 O ' '修 O ' '護 O ' '巨 O ' '藻 O '\n",
      " '、 O ' '齒 O ' '缘 O ' '墨 O ' '角 O ' '藻 O ' '複 O ' '合 O ' '水 O ' '解 O '\n",
      " '酵 O ' '母 O ' '提 O ' '取 O ' '物 O ' '， O ' '浸 O ' '透 O ' '濕 O ' '潤 O '\n",
      " '乾 B-STAT ApplyTo-0-B ' '燥 I-STAT ApplyTo-0-B ' '肌 I-STAT ApplyTo-0-B '\n",
      " '膚 I-STAT ApplyTo-0-B ' '， O ' '增 O ' '強 O ' '防 O ' '護 O ' '屏 O ' '障 O '\n",
      " '， O ' '協 O ' '同 O ' '蘆 O ' '薈 O ' '、 O ' '山 O ' '金 O ' '車 O ' '及 O '\n",
      " '光 O ' '果 O ' '甘 O ' '草 O ' '植 O ' '萃 O ' '精 O ' '華 O ' '， O ' '深 O '\n",
      " '度 O ' '安 O ' '撫 O ' '同 O ' '時 O ' '舒 B-FUNC ApplyTo-0-A '\n",
      " '緩 I-FUNC ApplyTo-0-A ' '肌 O ' '膚 O ' '的 O ' '不 O ' '適 O ' '， O ' '拋 O '\n",
      " '開 O ' '惱 O ' '人 O ' '的 O ' '乾 B-STAT ' '燥 I-STAT ' '缺 O ' '水 O ' '不 O '\n",
      " '安 O ' '讓 O ' '肌 O ' '膚 O ' '穩 O ' '定 O ' ' ' '保 B-FUNC ApplyTo-0-A '\n",
      " '濕 I-FUNC ApplyTo-0-A ' '效 O ' '果 O ' '超 O ' '優 O ' '的 O ' '， O ' '暗 O '\n",
      " '沉 O ' '和 O ' '乾 B-STAT ApplyTo-0-B ' '燥 I-STAT ApplyTo-0-B '\n",
      " '肌 I-STAT ApplyTo-0-B ' '也 O ' '統 O ' '統 O ' 'O O ' 'U O ' 'T O ' '了 O '\n",
      " '， O ' ' ' '露 O ' '珠 O ' '草 O ' '萃 O ' '取 O ' '液 O ' '晶 O ' '華 O ' '能 O '\n",
      " '舒 B-FUNC ApplyTo-0-A ' '緩 I-FUNC ApplyTo-0-A ' '肌 B-STAT ApplyTo-0-B '\n",
      " '膚 I-STAT ApplyTo-0-B ' '乾 I-STAT ApplyTo-0-B ' '燥 I-STAT ApplyTo-0-B '\n",
      " '不 O ' '適 O ' '並 O ' '加 O ' '強 O ' '保 B-FUNC ' '濕 I-FUNC ' ' ']\n",
      "['這 O ' '款 O ' '面 O ' '膜 O ' '它 O ' '強 O ' '調 O ' '乾 B-STAT ApplyTo-0-B '\n",
      " '肌 I-STAT ApplyTo-0-B ' '及 O ' '肌 O ' '膚 O ' '鬆 O ' '弛 O ' '. O ' '. O '\n",
      " '. O ' '等 O ' ', O ' '但 O ' '我 O ' '發 O ' '現 O ' '緊 B-FUNC ' '緻 I-FUNC '\n",
      " '的 O ' '部 O ' '份 O ' '不 O ' '是 O ' '那 O ' '麼 O ' '明 O ' '顯 O ' ', O '\n",
      " '但 O ' '保 B-FUNC ApplyTo-0-A ' '濕 I-FUNC ApplyTo-0-A ' '部 O ' '分 O '\n",
      " '我 O ' '倒 O ' '是 O ' '很 O ' ' ' '可 O ' '視 O ' '膚 O ' '況 O ' '/ O ' '氣 O '\n",
      " '候 O ' '選 O ' '擇 O ' '厚 O ' '敷 O ' 'o O ' 'r O ' '薄 O ' '敷 O ' '， O '\n",
      " '不 O ' '論 O ' '是 O ' '救 O ' '急 O ' '保 B-FUNC ' '養 I-FUNC ' '或 O ' '是 O '\n",
      " '乾 B-STAT ApplyTo-0-B ' '肌 I-STAT ApplyTo-0-B ' '日 O ' '常 O ' '補 O '\n",
      " '水 O ' '， O ' '保 B-FUNC ApplyTo-0-A ' '濕 I-FUNC ApplyTo-0-A ' '效 O '\n",
      " '果 O ' '皆 O ' '相 O ' '當 O ' '顯 O ' '著 O ' '， O ' '簡 O ' '直 O ' '宜 O '\n",
      " '家 O ' '宜 O ' '室 O ' '四 O ' '季 O ' '皆 O ' '宜 O ' '齁 O ' '~ O ' ' ' '適 O '\n",
      " '用 O ' '族 O ' '群 O ' '為 O ' '乾 B-STAT ApplyTo-0-B '\n",
      " '燥 I-STAT ApplyTo-0-B ' '肌 I-STAT ApplyTo-0-B ' '、 O ' '缺 O ' '水 O '\n",
      " '保 B-FUNC ApplyTo-0-A ' '濕 I-FUNC ApplyTo-0-A ' '、 O ' '2 O ' '5 O '\n",
      " '歲 O ' '以 O ' '上 O ' '肌 O ' '膚 O ' ' ' '本 O ' '身 O ' '是 O ' '極 O '\n",
      " '乾 B-STAT ' '的 I-STAT ' '膚 I-STAT ' '質 I-STAT ' ', O ' '常 O ' '需 O '\n",
      " '要 O ' '加 O ' '強 O ' '保 O ' '濕 O ' ' ' '顧 O ' '名 O ' '思 O ' '義 O ' '這 O '\n",
      " '是 O ' '一 O ' '款 O ' '晚 O ' '安 O ' '凍 O ' '膜 O ' '， O '\n",
      " '乾 B-STAT ApplyTo-0-B ' '肌 I-STAT ApplyTo-0-B ' '我 O ' '本 O ' '人 O '\n",
      " '於 O ' '晚 O ' '上 O ' '卸 O ' '妝 O ' '洗 O ' '臉 O ' '洗 O ' '澡 O ' '後 O '\n",
      " '睡 O ' '前 O ' '保 B-FUNC ApplyTo-0-A ' '養 I-FUNC ApplyTo-0-A ' '使 O '\n",
      " '用 O ' ' ' '看 O ' '品 O ' '名 O ' '就 O ' '知 O ' '道 O ' '是 O ' '首 O ' '重 O '\n",
      " '保 O ' '濕 O ' '效 O ' '果 O ' '的 O ' '面 O ' '膜 O ' ', O ' '對 O ' '於 O '\n",
      " '我 O ' '這 O ' '缺 O ' '水 O ' '易 O ' '出 B-STAT ' '油 I-STAT ' '的 I-STAT '\n",
      " '肌 I-STAT ' '膚 I-STAT ' ', O ' '當 O ' '然 O ' '是 O ' '迫 O ' '不 O ' '及 O '\n",
      " '待 O ' '地 O ' '使 O ' '用 O ' '啦 O ' '~ O ' ' ' '精 O ' '華 O ' '液 O ' '內 O '\n",
      " '含 O ' '酵 O ' '母 O ' '萃 O ' '取 O ' '， O ' '搭 O ' '配 O ' '“ O ' '小 O '\n",
      " '分 O ' '子 O ' '玻 O ' '尿 O ' '酸 O ' '” O ' '及 O ' '“ O ' '牛 O ' '奶 O '\n",
      " '蛋 O ' '白 O ' '” O ' '， O ' '可 O ' '以 O ' '達 O ' '到 O ' '保 B-FUNC '\n",
      " '濕 I-FUNC ' '效 O ' '用 O ' '， O ' '質 O ' '地 O ' '清 O ' '爽 O ' '滑 O '\n",
      " '順 O ' '， O ' '敷 O ' '用 O ' '時 O ' '保 B-FUNC ApplyTo-0-A '\n",
      " '濕 I-FUNC ApplyTo-0-A ' '滋 O ' '潤 O ' '度 O ' '相 O ' '當 O ' '不 O ' '錯 O '\n",
      " '， O ' '可 O ' '以 O ' '修 O ' '護 O ' '肌 B-STAT ApplyTo-0-B '\n",
      " '膚 I-STAT ApplyTo-0-B ' '乾 I-STAT ApplyTo-0-B ' '燥 I-STAT ApplyTo-0-B '\n",
      " '缺 O ' '水 O ' '部 O ' '位 O ' '， O ' '取 O ' '下 O ' '面 O ' '膜 O ' '後 O '\n",
      " '的 O ' '肌 O ' '膚 O ' '立 O ' '即 O ' '透 O ' '亮 O ' '飽 O ' '滿 O ' '， O '\n",
      " '連 O ' '毛 O ' '孔 O ' '都 O ' '明 O ' '顯 O ' '縮 O ' '小 O ' ' ' '“ O ' '酵 O '\n",
      " '母 O ' '萃 O ' '取 O ' '” O ' '搭 O ' '配 O ' '“ O ' '小 O ' '分 O ' '子 O '\n",
      " '玻 O ' '尿 O ' '酸 O ' '” O ' '及 O ' '“ O ' '牛 O ' '奶 O ' '蛋 O ' '白 O '\n",
      " '” O ' '使 O ' '乾 B-STAT ApplyTo-0-B ' '燥 I-STAT ApplyTo-0-B '\n",
      " '肌 I-STAT ApplyTo-0-B ' '膚 I-STAT ApplyTo-0-B ' '充 O ' '滿 O ' '水 O '\n",
      " '分 O ' '， O ' '長 O ' '效 O ' '保 B-FUNC ApplyTo-0-A '\n",
      " '濕 I-FUNC ApplyTo-0-A ' ' ' '當 O ' '天 O ' '擦 O ' '就 O ' '馬 O ' '上 O '\n",
      " '覺 O ' '得 O ' '皮 B-STAT ApplyTo-0-B ' '膚 I-STAT ApplyTo-0-B '\n",
      " '乾 I-STAT ApplyTo-0-B ' '燥 I-STAT ApplyTo-0-B ' '感 O ' '得 O ' '到 O '\n",
      " '舒 B-FUNC ApplyTo-0-A ' '緩 I-FUNC ApplyTo-0-A ' ' ' '若 O ' '乾 B-STAT '\n",
      " '性 I-STAT ' '肌 I-STAT ' '膚 I-STAT ' '使 O ' '用 O ' '會 O ' '保 B-FUNC '\n",
      " '濕 I-FUNC ' '度 I-FUNC ' '不 O ' '足 O ' ' ' '但 O ' '對 O '\n",
      " '皮 B-STAT ApplyTo-0-B ' '膚 I-STAT ApplyTo-0-B ' '乾 I-STAT ApplyTo-0-B '\n",
      " '癢 O ' '保 B-FUNC ApplyTo-0-A ' '濕 I-FUNC ApplyTo-0-A ' '及 O ' '透 O '\n",
      " '亮 O ' '很 O ' '有 O ' '幫 O ' '助 O ' '的 O ' '喲 O ' ' ' '溫 O ' '柔 O ' '而 O '\n",
      " '堅 O ' '定 O ' '的 O ' '修 O ' '護 O ' '力 O ' 'Z O ' 'e O ' 'p O ' 'h O '\n",
      " 'y O ' 'r O ' 'i O ' 'n O ' 'e O ' '數 O ' '字 O ' '保 B-FUNC ApplyTo-0-A '\n",
      " '養 I-FUNC ApplyTo-0-A ' ', O ' '非 O ' '常 O ' '溫 O ' '和 O ' '的 O ' '產 O '\n",
      " '品 O ' '即 O ' '使 O ' '是 O ' '敏 B-STAT ApplyTo-0-B '\n",
      " '感 I-STAT ApplyTo-0-B ' '肌 I-STAT ApplyTo-0-B ' '也 O ' '可 O ' '以 O '\n",
      " '輕 O ' '鬆 O ' '使 O ' '用 O ' ' ' '皮 O ' '珂 O ' '兒 O ' '是 O ' '韓 O ' '國 O '\n",
      " '製 O ' '造 O ' '的 O ' '保 O ' '養 O ' '品 O ' '， O ' '有 O ' '可 O ' '愛 O '\n",
      " '的 O ' '火 O ' '山 O ' '插 O ' '圖 O ' '， O ' '鐵 O ' '罐 O ' '包 O ' '裝 O '\n",
      " '， O ' '是 O ' '很 O ' '特 O ' '殊 O ' '的 O ' '慕 O ' '絲 O ' '質 O ' '地 O '\n",
      " '， O ' '需 O ' '沖 O ' '洗 O ' '的 O ' '清 O ' '潔 O ' '面 O ' '膜 O ' '， O '\n",
      " '很 O ' '適 O ' '合 O ' '油 B-STAT ' '性 I-STAT ' '肌 I-STAT ' '膚 I-STAT '\n",
      " '來 O ' '使 O ' '用 O ' ' ' '以 O ' '前 O ' '我 O ' '有 O ' '敷 O ' '過 O ' '別 O '\n",
      " '款 O ' '的 O ' '美 O ' '白 O ' '面 O ' '膜 O ' '~ O ' '很 O ' '容 O ' '易 O '\n",
      " '就 O ' '會 O ' '讓 O ' '我 O ' '的 O ' '臉 O ' '部 O ' '肌 B-STAT ' '膚 I-STAT '\n",
      " '過 I-STAT ' '敏 I-STAT ' '， O ' '會 O ' '有 O ' '紅 O ' '紅 O ' '的 O ' '臉 O '\n",
      " '出 O ' '現 O ' ' ' '我 O ' '覺 O ' '得 O ' '這 O ' '面 O ' '膜 O ' '在 O ' '這 O '\n",
      " '價 O ' '位 O ' '還 O ' '可 O ' '以 O ' '接 O ' '受 O ' '， O ' '尤 O ' '其 O '\n",
      " '是 O ' '很 O ' '會 O ' '過 O ' '敏 O ' '的 O ' '人 O ' '來 O ' '說 O ' '， O '\n",
      " '能 O ' '使 O ' '用 O ' '的 O ' '產 O ' '品 O ' '不 O ' '多 O ' '， O '\n",
      " '保 B-FUNC ApplyTo-0-A ' '濕 I-FUNC ApplyTo-0-A ' '度 I-FUNC ApplyTo-0-A '\n",
      " '對 O ' '乾 B-STAT ApplyTo-0-B ' '性 I-STAT ApplyTo-0-B '\n",
      " '肌 I-STAT ApplyTo-0-B ' '的 O ' '我 O ' '來 O ' '說 O ' '也 O ' '還 O ' '可 O '\n",
      " '以 O ' '， O ' '這 O ' '款 O ' '我 O ' '覺 O ' '得 O ' '可 O ' '以 O ' '再 O '\n",
      " '回 O ' '購 O ' ' ' '極 O ' '效 O ' '肌 O ' '因 O ' '修 O ' '護 O ' '巨 O ' '藻 O '\n",
      " '、 O ' '齒 O ' '缘 O ' '墨 O ' '角 O ' '藻 O ' '複 O ' '合 O ' '水 O ' '解 O '\n",
      " '酵 O ' '母 O ' '提 O ' '取 O ' '物 O ' '， O ' '浸 O ' '透 O ' '濕 O ' '潤 O '\n",
      " '乾 B-STAT ' '燥 I-STAT ' '肌 I-STAT ' '膚 I-STAT ' '， O ' '增 O ' '強 O '\n",
      " '防 O ' '護 O ' '屏 O ' '障 O ' '， O ' '協 O ' '同 O ' '蘆 O ' '薈 O ' '、 O '\n",
      " '山 O ' '金 O ' '車 O ' '及 O ' '光 O ' '果 O ' '甘 O ' '草 O ' '植 O ' '萃 O '\n",
      " '精 O ' '華 O ' '， O ' '深 O ' '度 O ' '安 O ' '撫 O ' '同 O ' '時 O ' '舒 O '\n",
      " '緩 O ' '肌 O ' '膚 O ' '的 O ' '不 O ' '適 O ' '， O ' '拋 O ' '開 O ' '惱 O '\n",
      " '人 O ' '的 O ' '乾 O ' '燥 O ' '缺 O ' '水 O ' '不 O ' '安 O ' '讓 O ' '肌 O '\n",
      " '膚 O ' '穩 O ' '定 O ' ' ' '保 B-FUNC ApplyTo-0-A ' '濕 I-FUNC ApplyTo-0-A '\n",
      " '效 O ' '果 O ' '超 O ' '優 O ' '的 O ' '， O ' '暗 O ' '沉 O ' '和 O '\n",
      " '乾 B-STAT ApplyTo-0-B ' '燥 I-STAT ApplyTo-0-B ' '肌 I-STAT ApplyTo-0-B '\n",
      " '也 O ' '統 O ' '統 O ' 'O O ' 'U O ' 'T O ' '了 O ' '， O ' ' ' '露 O ' '珠 O '\n",
      " '草 O ' '萃 O ' '取 O ' '液 O ' '晶 O ' '華 O ' '能 O ' '舒 B-FUNC ApplyTo-0-A '\n",
      " '緩 I-FUNC ApplyTo-0-A ' '肌 B-STAT ApplyTo-0-B ' '膚 I-STAT ApplyTo-0-B '\n",
      " '乾 I-STAT ApplyTo-0-B ' '燥 I-STAT ApplyTo-0-B ' '不 O ' '適 O ' '並 O '\n",
      " '加 O ' '強 O ' '保 B-FUNC ' '濕 I-FUNC ' ' ']\n",
      "=================\n",
      "(0.9233223041733679, 0.9309777102330292, 0.9244250101015934, None)\n",
      "\n",
      "==========================\n",
      "\n",
      "\n",
      "Entity loss : 0.0834\n",
      "Relation loss : 0.0012\n",
      "\n"
     ]
    },
    {
     "name": "stderr",
     "output_type": "stream",
     "text": [
      "/usr/local/lib/python3.5/dist-packages/sklearn/metrics/classification.py:1135: UndefinedMetricWarning: Precision and F-score are ill-defined and being set to 0.0 in labels with no predicted samples.\n",
      "  'precision', 'predicted', average, warn_for)\n",
      "/usr/local/lib/python3.5/dist-packages/sklearn/metrics/classification.py:1137: UndefinedMetricWarning: Recall and F-score are ill-defined and being set to 0.0 in labels with no true samples.\n",
      "  'recall', 'true', average, warn_for)\n"
     ]
    },
    {
     "name": "stdout",
     "output_type": "stream",
     "text": [
      "['我', '的', '皮', '膚', '是', '乾', '性', '肌', ',', '雖', '然', '在', '夏', '天', '不', '會', '乾', '到', '緊', '繃', ',', '但', '每', '天', '還', '是', '要', '加', '強', '保', '濕']\n",
      "['O', 'O', 'O', 'O', 'O', 'B-STAT', 'I-STAT', 'I-STAT', 'O', 'O', 'O', 'O', 'O', 'O', 'O', 'O', 'O', 'O', 'O', 'O', 'O', 'O', 'O', 'O', 'O', 'O', 'O', 'O', 'O', 'B-FUNC', 'I-FUNC']\n",
      "['', '', '', '', '', ['ApplyTo-0-B'], ['ApplyTo-0-B'], ['ApplyTo-0-B'], '', '', '', '', '', '', '', '', '', '', '', '', '', '', '', '', '', '', '', '', '', ['ApplyTo-0-A'], ['ApplyTo-0-A']]\n",
      "\n",
      "==========================\n",
      "\n",
      "['溫', '和', '的', '成', '份', '讓', '敏', '感', '的', '肌', '膚', '也', '能', '輕', '鬆', '的', '美', '白']\n",
      "['O', 'O', 'O', 'O', 'O', 'O', 'B-STAT', 'I-STAT', 'I-STAT', 'I-STAT', 'I-STAT', 'O', 'O', 'O', 'O', 'O', 'B-FUNC', 'I-FUNC']\n",
      "['', '', '', '', '', '', ['ApplyTo-0-B'], ['ApplyTo-0-B'], ['ApplyTo-0-B'], ['ApplyTo-0-B'], ['ApplyTo-0-B'], '', '', '', '', '', ['ApplyTo-0-A'], ['ApplyTo-0-A']]\n",
      "\n",
      "==========================\n",
      "\n",
      "['使', '用', '了', '幾', '次', '，', '效', '果', '都', '不', '太', '令', '人', '滿', '意', '，', '也', '許', '是', '這', '款', '面', '膜', '主', '要', '強', '調', '的', '是', '緊', '緻', '功', '能', '，', '我', '的', '超', '乾', '肌', '得', '先', '把', '缺', '水', '問', '題', '解', '決', '了', '才', '能', '看', '出', '效', '果', '吧', '∼']\n",
      "['O', 'O', 'O', 'O', 'O', 'O', 'O', 'O', 'O', 'O', 'O', 'O', 'O', 'O', 'O', 'O', 'O', 'O', 'O', 'O', 'O', 'O', 'O', 'O', 'O', 'O', 'O', 'O', 'O', 'B-FUNC', 'I-FUNC', 'O', 'O', 'O', 'O', 'O', 'O', 'B-STAT', 'I-STAT', 'O', 'O', 'O', 'O', 'O', 'O', 'O', 'O', 'O', 'O', 'O', 'O', 'O', 'O', 'O', 'O', 'O', 'O']\n",
      "['', '', '', '', '', '', '', '', '', '', '', '', '', '', '', '', '', '', '', '', '', '', '', '', '', '', '', '', '', ['ApplyTo-0-A'], ['ApplyTo-0-A'], '', '', '', '', '', '', ['ApplyTo-0-B'], ['ApplyTo-0-B'], '', '', '', '', '', '', '', '', '', '', '', '', '', '', '', '', '', '']\n",
      "\n",
      "==========================\n",
      "\n",
      "['在', '這', '一', '下', '冷', '一', '下', '又', '熱', '的', '氣', '候', ',', '對', '於', '乾', '性', '肌', '膚', '的', '我', '來', '說', ',', '真', '是', '相', '當', '需', '要', '保', '濕']\n",
      "['O', 'O', 'O', 'O', 'O', 'O', 'O', 'O', 'O', 'O', 'O', 'O', 'O', 'O', 'O', 'B-STAT', 'I-STAT', 'I-STAT', 'I-STAT', 'O', 'O', 'O', 'O', 'O', 'O', 'O', 'O', 'O', 'O', 'O', 'B-FUNC', 'I-FUNC']\n",
      "['', '', '', '', '', '', '', '', '', '', '', '', '', '', '', ['ApplyTo-0-B'], ['ApplyTo-0-B'], ['ApplyTo-0-B'], ['ApplyTo-0-B'], '', '', '', '', '', '', '', '', '', '', '', ['ApplyTo-0-A'], ['ApplyTo-0-A']]\n",
      "\n",
      "==========================\n",
      "\n",
      "['這', '次', '試', '用', '的', '是', '\"', '南', '極', '冰', '河', '醣', '蛋', '白', '滲', '透', '保', '濕', '面', '膜', '\"', '，', '對', '於', '乾', '肌', '的', '我', '來', '說', '，', '再', '適', '合', '不', '過', '了']\n",
      "['O', 'O', 'O', 'O', 'O', 'O', 'O', 'O', 'O', 'O', 'O', 'O', 'O', 'O', 'O', 'O', 'B-FUNC', 'I-FUNC', 'O', 'O', 'O', 'O', 'O', 'O', 'B-STAT', 'I-STAT', 'O', 'O', 'O', 'O', 'O', 'O', 'O', 'O', 'O', 'O', 'O']\n",
      "['', '', '', '', '', '', '', '', '', '', '', '', '', '', '', '', ['ApplyTo-0-A'], ['ApplyTo-0-A'], '', '', '', '', '', '', ['ApplyTo-0-B'], ['ApplyTo-0-B'], '', '', '', '', '', '', '', '', '', '', '']\n",
      "\n",
      "==========================\n",
      "\n",
      "['很', '適', '合', '油', '性', '膚', '質', '使', '用', '，', '但', '對', '於', '乾', '性', '肌', '膚', '就', '要', '加', '強', '後', '續', '的', '保', '濕']\n",
      "['O', 'O', 'O', 'B-STAT', 'I-STAT', 'I-STAT', 'I-STAT', 'O', 'O', 'O', 'O', 'O', 'O', 'B-STAT', 'I-STAT', 'I-STAT', 'I-STAT', 'O', 'O', 'O', 'O', 'O', 'O', 'O', 'B-FUNC', 'I-FUNC']\n",
      "['', '', '', ['ApplyTo-0-B'], ['ApplyTo-0-B'], ['ApplyTo-0-B'], ['ApplyTo-0-B'], '', '', '', '', '', '', [], [], [], [], '', '', '', '', '', '', '', '', '']\n",
      "\n",
      "==========================\n",
      "\n",
      "['而', '面', '膜', '的', '精', '華', '液', '不', '算', '多', '，', '但', '也', '很', '夠', '用', '了', '，', '是', '敷', '上', '之', '後', '不', '會', '滴', '下', '的', '量', '，', '剛', '剛', '好', '，', '精', '華', '液', '本', '身', '沒', '什', '麼', '香', '味', '，', '我', '這', '個', '小', '敏', '感', '的', '油', '性', '肌', '老', '實', '說', '敷', '完', '之', '後', '卻', '什', '麼', '感', '覺', '都', '沒', '有', '，', '沒', '有', '過', '敏', '、', '沒', '有', '感', '覺', '特', '別', '保', '水', '、', '緊', '緻', '.', '.', '.', '等']\n",
      "['O', 'O', 'O', 'O', 'O', 'O', 'O', 'O', 'O', 'O', 'O', 'O', 'O', 'O', 'O', 'O', 'O', 'O', 'O', 'O', 'O', 'O', 'O', 'O', 'O', 'O', 'O', 'O', 'O', 'O', 'O', 'O', 'O', 'O', 'O', 'O', 'O', 'O', 'O', 'O', 'O', 'O', 'O', 'O', 'O', 'O', 'O', 'O', 'O', 'O', 'O', 'O', 'B-STAT', 'I-STAT', 'I-STAT', 'O', 'O', 'O', 'O', 'O', 'O', 'O', 'O', 'O', 'O', 'O', 'O', 'O', 'O', 'O', 'O', 'O', 'O', 'O', 'O', 'O', 'O', 'O', 'O', 'O', 'O', 'O', 'O', 'O', 'O', 'B-FUNC', 'I-FUNC', 'O', 'O', 'O', 'O']\n",
      "['', '', '', '', '', '', '', '', '', '', '', '', '', '', '', '', '', '', '', '', '', '', '', '', '', '', '', '', '', '', '', '', '', '', '', '', '', '', '', '', '', '', '', '', '', '', '', '', '', '', '', '', ['ApplyTo-0-B'], ['ApplyTo-0-B'], ['ApplyTo-0-B'], '', '', '', '', '', '', '', '', '', '', '', '', '', '', '', '', '', '', '', '', '', '', '', '', '', '', '', '', '', '', ['ApplyTo-0-A'], ['ApplyTo-0-A'], '', '', '', '']\n",
      "\n",
      "==========================\n",
      "\n",
      "['建', '議', '乾', '肌', '的', '朋', '友', '們', '還', '是', '要', '勤', '做', '後', '續', '的', '保', '養', '動', '作']\n",
      "['O', 'O', 'B-STAT', 'I-STAT', 'O', 'O', 'O', 'O', 'O', 'O', 'O', 'O', 'O', 'O', 'O', 'O', 'B-FUNC', 'I-FUNC', 'O', 'O']\n",
      "['', '', ['ApplyTo-0-B'], ['ApplyTo-0-B'], '', '', '', '', '', '', '', '', '', '', '', '', ['ApplyTo-0-A'], ['ApplyTo-0-A'], '', '']\n",
      "\n",
      "==========================\n",
      "\n",
      "['洗', '完', '臉', '後', '，', '我', '將', '「', '我', '的', '美', '麗', '日', '記', '」', '南', '極', '冰', '河', '醣', '蛋', '白', '滲', '透', '保', '濕', '面', '膜', '敷', '在', '臉', '上', '，', '經', '過', '2', '0', '分', '鐘', '後', '，', '將', '面', '膜', '從', '臉', '部', '由', '下', '往', '上', '撕', '下', '，', '再', '用', '清', '水', '將', '面', '膜', '清', '洗', '乾', '淨', '後', '，', '從', '鏡', '子', '中', '我', '看', '到', '臉', '部', '肌', '膚', '乾', '燥', '缺', '水', '的', '現', '象', '消', '失', '了']\n",
      "['O', 'O', 'O', 'O', 'O', 'O', 'O', 'O', 'O', 'O', 'O', 'O', 'O', 'O', 'O', 'O', 'O', 'O', 'O', 'O', 'O', 'O', 'O', 'O', 'B-FUNC', 'I-FUNC', 'O', 'O', 'O', 'O', 'O', 'O', 'O', 'O', 'O', 'O', 'O', 'O', 'O', 'O', 'O', 'O', 'O', 'O', 'O', 'O', 'O', 'O', 'O', 'O', 'O', 'O', 'O', 'O', 'O', 'O', 'O', 'O', 'O', 'O', 'O', 'O', 'O', 'O', 'O', 'O', 'O', 'O', 'O', 'O', 'O', 'O', 'O', 'O', 'O', 'O', 'B-STAT', 'I-STAT', 'I-STAT', 'I-STAT', 'O', 'O', 'O', 'O', 'O', 'O', 'O', 'O']\n",
      "['', '', '', '', '', '', '', '', '', '', '', '', '', '', '', '', '', '', '', '', '', '', '', '', ['ApplyTo-0-A'], ['ApplyTo-0-A'], '', '', '', '', '', '', '', '', '', '', '', '', '', '', '', '', '', '', '', '', '', '', '', '', '', '', '', '', '', '', '', '', '', '', '', '', '', '', '', '', '', '', '', '', '', '', '', '', '', '', ['ApplyTo-0-B'], ['ApplyTo-0-B'], ['ApplyTo-0-B'], ['ApplyTo-0-B'], '', '', '', '', '', '', '', '']\n",
      "\n",
      "==========================\n",
      "\n",
      "['夏', '日', '將', '到', '了', '，', '保', '濕', '不', '是', '只', '有', '在', '冬', '天', '，', '夏', '天', '會', '常', '常', '待', '在', '冷', '氣', '房', '，', '所', '以', '保', '濕', '還', '是', '很', '重', '要', '，', '而', '這', '面', '膜', '對', '於', '乾', '燥', '的', '肌', '膚', '急', '救', '補', '水', '效', '果', '還', '挺', '讓', '人', '滿', '意', '的']\n",
      "['O', 'O', 'O', 'O', 'O', 'O', 'B-FUNC', 'I-FUNC', 'O', 'O', 'O', 'O', 'O', 'O', 'O', 'O', 'O', 'O', 'O', 'O', 'O', 'O', 'O', 'O', 'O', 'O', 'O', 'O', 'O', 'B-FUNC', 'I-FUNC', 'O', 'O', 'O', 'O', 'O', 'O', 'O', 'O', 'O', 'O', 'O', 'O', 'B-STAT', 'I-STAT', 'I-STAT', 'I-STAT', 'I-STAT', 'O', 'O', 'O', 'O', 'O', 'O', 'O', 'O', 'O', 'O', 'O', 'O', 'O']\n",
      "['', '', '', '', '', '', ['ApplyTo-0-A'], ['ApplyTo-0-A'], '', '', '', '', '', '', '', '', '', '', '', '', '', '', '', '', '', '', '', '', '', [], [], '', '', '', '', '', '', '', '', '', '', '', '', '', '', '', '', '', '', '', '', '', '', '', '', '', '', '', '', '', '']\n",
      "\n",
      "==========================\n",
      "\n",
      "['使', '用', '完', '後', '肌', '膚', '乾', '淨', '舒', '服', ',', '休', '息', '一', '下', '後', '就', '可', '以', '上', '平', '日', '保', '養', '步', '驟', '~']\n",
      "['O', 'O', 'O', 'O', 'B-STAT', 'I-STAT', 'I-STAT', 'O', 'O', 'O', 'O', 'O', 'O', 'O', 'O', 'O', 'O', 'O', 'O', 'O', 'O', 'O', 'B-FUNC', 'I-FUNC', 'O', 'O', 'O']\n",
      "['', '', '', '', [], [], [], '', '', '', '', '', '', '', '', '', '', '', '', '', '', '', [], [], '', '', '']\n",
      "\n",
      "==========================\n",
      "\n",
      "['高', '效', '保', '濕', '，', '舒', '緩', '肌', '膚', '，', '溫', '和', '修', '復', '，', '重', '塑', '晶', '透', '的', '的', '亮', '顏', '全', '效', '保', '濕', '，', '改', '善', '乾', '性', '肌', '膚', '問', '題', '，', '使', '肌', '膚', '亮', '透', '有', '光', '澤']\n",
      "['O', 'O', 'B-FUNC', 'I-FUNC', 'O', 'B-FUNC', 'I-FUNC', 'O', 'O', 'O', 'O', 'O', 'O', 'O', 'O', 'O', 'O', 'O', 'O', 'O', 'O', 'O', 'O', 'O', 'O', 'B-FUNC', 'I-FUNC', 'O', 'O', 'O', 'B-STAT', 'I-STAT', 'I-STAT', 'I-STAT', 'O', 'O', 'O', 'O', 'O', 'O', 'O', 'O', 'O', 'O', 'O']\n",
      "['', '', ['ApplyTo-0-A'], ['ApplyTo-0-A'], '', [], [], '', '', '', '', '', '', '', '', '', '', '', '', '', '', '', '', '', '', [], [], '', '', '', '', '', '', '', '', '', '', '', '', '', '', '', '', '', '']\n",
      "\n",
      "==========================\n",
      "\n",
      "['我', '的', '美', '麗', '日', '記', '一', '直', '是', '我', '的', '愛', '用', '品', '之', '一', '，', '對', '於', '健', '康', '膚', '色', '油', '性', '混', '合', '肌', '的', '我', '，', '挑', '選', '面', '膜', '的', '重', '點', '就', '是', '-', '-', '-', '可', '以', '變', '白', '、', '保', '濕', '、', '不', '會', '黏', '黏', '的', '(', '很', '重', '要', ')']\n",
      "['O', 'O', 'O', 'O', 'O', 'O', 'O', 'O', 'O', 'O', 'O', 'O', 'O', 'O', 'O', 'O', 'O', 'O', 'O', 'O', 'O', 'O', 'O', 'O', 'O', 'B-STAT', 'I-STAT', 'I-STAT', 'O', 'O', 'O', 'O', 'O', 'O', 'O', 'O', 'O', 'O', 'O', 'O', 'O', 'O', 'O', 'O', 'O', 'O', 'O', 'O', 'B-FUNC', 'I-FUNC', 'O', 'O', 'O', 'O', 'O', 'O', 'O', 'O', 'O', 'O', 'O']\n",
      "['', '', '', '', '', '', '', '', '', '', '', '', '', '', '', '', '', '', '', '', '', '', '', '', '', ['ApplyTo-0-B'], ['ApplyTo-0-B'], ['ApplyTo-0-B'], '', '', '', '', '', '', '', '', '', '', '', '', '', '', '', '', '', '', '', '', ['ApplyTo-0-A'], ['ApplyTo-0-A'], '', '', '', '', '', '', '', '', '', '', '']\n",
      "\n",
      "==========================\n",
      "\n"
     ]
    },
    {
     "name": "stdout",
     "output_type": "stream",
     "text": [
      "['S', 't', 'e', 'p', '2', '.', '強', '化', '補', '水', '-', '嫩', '白', '蠶', '絲', '面', '膜', '-', '面', '膜', '非', '常', '薄', '貼', '，', '記', '得', '要', '把', '蠶', '絲', '面', '膜', '朝', '臉', '敷', '上', '後', '再', '把', '珍', '珠', '膜', '撕', '下', '布', '料', '採', '用', '凝', '水', '蠶', '絲', '，', '清', '透', '，', '用', '天', '然', '草', '本', '植', '物', '萃', '取', '的', '精', '華', '，', '幫', '助', '保', '濕', '，', '也', '可', '以', '舒', '緩', '一', '些', '夏', '季', '保', '養', '時', '乾', '燥', '肌', '的', '狀', '況']\n",
      "['O', 'O', 'O', 'O', 'O', 'O', 'O', 'O', 'O', 'O', 'O', 'O', 'O', 'O', 'O', 'O', 'O', 'O', 'O', 'O', 'O', 'O', 'O', 'O', 'O', 'O', 'O', 'O', 'O', 'O', 'O', 'O', 'O', 'O', 'O', 'O', 'O', 'O', 'O', 'O', 'O', 'O', 'O', 'O', 'O', 'O', 'O', 'O', 'O', 'O', 'O', 'O', 'O', 'O', 'O', 'O', 'O', 'O', 'O', 'O', 'O', 'O', 'O', 'O', 'O', 'O', 'O', 'O', 'O', 'O', 'O', 'O', 'B-FUNC', 'I-FUNC', 'O', 'O', 'O', 'O', 'B-FUNC', 'I-FUNC', 'O', 'O', 'O', 'O', 'B-FUNC', 'I-FUNC', 'O', 'B-STAT', 'I-STAT', 'I-STAT', 'O', 'O', 'O']\n",
      "['', '', '', '', '', '', '', '', '', '', '', '', '', '', '', '', '', '', '', '', '', '', '', '', '', '', '', '', '', '', '', '', '', '', '', '', '', '', '', '', '', '', '', '', '', '', '', '', '', '', '', '', '', '', '', '', '', '', '', '', '', '', '', '', '', '', '', '', '', '', '', '', ['ApplyTo-0-A'], ['ApplyTo-0-A'], '', '', '', '', [], [], '', '', '', '', [], [], '', '', '', '', '', '', '']\n",
      "\n",
      "==========================\n",
      "\n",
      "['增', '加', '肌', '膚', '彈', '性', '及', '含', '水', '量', '，', '提', '高', '保', '濕', '效', '果', '，', '防', '止', '肌', '膚', '乾', '燥', '，', '去', '除', '細', '小', '皺', '紋', '，']\n",
      "['O', 'O', 'O', 'O', 'O', 'O', 'O', 'O', 'O', 'O', 'O', 'O', 'O', 'B-FUNC', 'I-FUNC', 'O', 'O', 'O', 'O', 'O', 'B-STAT', 'I-STAT', 'I-STAT', 'I-STAT', 'O', 'O', 'O', 'O', 'O', 'O', 'O', 'O']\n",
      "['', '', '', '', '', '', '', '', '', '', '', '', '', ['ApplyTo-0-A'], ['ApplyTo-0-A'], '', '', '', '', '', ['ApplyTo-0-B'], ['ApplyTo-0-B'], ['ApplyTo-0-B'], ['ApplyTo-0-B'], '', '', '', '', '', '', '', '']\n",
      "\n",
      "==========================\n",
      "\n",
      "['本', '產', '品', '適', '合', '一', '般', '膚', '質', '及', '敏', '感', '性', '膚', '質', '的', '日', '常', '保', '養', '，', '也', '很', '適', '合', '急', '救', '乾', '荒', '缺', '水', '的', '肌', '膚', '，', '保', '濕', '效', '果', '能', '立', '即', '見', '效']\n",
      "['O', 'O', 'O', 'O', 'O', 'O', 'O', 'O', 'O', 'O', 'B-STAT', 'I-STAT', 'I-STAT', 'I-STAT', 'I-STAT', 'O', 'O', 'O', 'B-FUNC', 'I-FUNC', 'O', 'O', 'O', 'O', 'O', 'O', 'O', 'O', 'O', 'O', 'O', 'O', 'O', 'O', 'O', 'B-FUNC', 'I-FUNC', 'O', 'O', 'O', 'O', 'O', 'O', 'O']\n",
      "['', '', '', '', '', '', '', '', '', '', ['ApplyTo-0-B'], ['ApplyTo-0-B'], ['ApplyTo-0-B'], ['ApplyTo-0-B'], ['ApplyTo-0-B'], '', '', '', ['ApplyTo-0-A'], ['ApplyTo-0-A'], '', '', '', '', '', '', '', '', '', '', '', '', '', '', '', '', '', '', '', '', '', '', '', '']\n",
      "\n",
      "==========================\n",
      "\n",
      "['有', '些', '保', '濕', '面', '膜', '，', '我', '的', '敏', '感', '性', '膚', '質', '如', '果', '敷', '太', '久', '，', '就', '會', '開', '始', '發', '癢', '，', '這', '款', '一', '直', '敷', '到', '最', '後', '都', '很', '舒', '服', '呢']\n",
      "['O', 'O', 'B-FUNC', 'I-FUNC', 'O', 'O', 'O', 'O', 'O', 'B-STAT', 'I-STAT', 'I-STAT', 'I-STAT', 'I-STAT', 'O', 'O', 'O', 'O', 'O', 'O', 'O', 'O', 'O', 'O', 'O', 'O', 'O', 'O', 'O', 'O', 'O', 'O', 'O', 'O', 'O', 'O', 'O', 'O', 'O', 'O']\n",
      "['', '', ['ApplyTo-0-A'], ['ApplyTo-0-A'], '', '', '', '', '', ['ApplyTo-0-B'], ['ApplyTo-0-B'], ['ApplyTo-0-B'], ['ApplyTo-0-B'], ['ApplyTo-0-B'], '', '', '', '', '', '', '', '', '', '', '', '', '', '', '', '', '', '', '', '', '', '', '', '', '', '']\n",
      "\n",
      "==========================\n",
      "\n",
      "['補', '充', '說', '明', ',', '因', '為', '我', '本', '身', '肌', '膚', '屬', '於', '敏', '感', '性', '肌', '膚', ',', '用', '此', '款', '面', '膜', '不', '會', '過', '敏', '喔', '~', '~', '而', '且', '保', '濕', '效', '果', '很', '強', '喔', '~', '^', '^']\n",
      "['O', 'O', 'O', 'O', 'O', 'O', 'O', 'O', 'O', 'O', 'O', 'O', 'O', 'O', 'B-STAT', 'I-STAT', 'I-STAT', 'I-STAT', 'I-STAT', 'O', 'O', 'O', 'O', 'O', 'O', 'O', 'O', 'O', 'O', 'O', 'O', 'O', 'O', 'O', 'B-FUNC', 'I-FUNC', 'O', 'O', 'O', 'O', 'O', 'O', 'O', 'O']\n",
      "['', '', '', '', '', '', '', '', '', '', '', '', '', '', ['ApplyTo-0-B'], ['ApplyTo-0-B'], ['ApplyTo-0-B'], ['ApplyTo-0-B'], ['ApplyTo-0-B'], '', '', '', '', '', '', '', '', '', '', '', '', '', '', '', ['ApplyTo-0-A'], ['ApplyTo-0-A'], '', '', '', '', '', '', '', '']\n",
      "\n",
      "==========================\n",
      "\n",
      "\n",
      "['我 O ' '的 O ' '皮 O ' '膚 O ' '是 O ' '乾 B-STAT ApplyTo-0-B '\n",
      " '性 I-STAT ApplyTo-0-B ' '肌 I-STAT ApplyTo-0-B ' ', O ' '雖 O ' '然 O '\n",
      " '在 O ' '夏 O ' '天 O ' '不 O ' '會 O ' '乾 O ' '到 O ' '緊 O ' '繃 O ' ', O '\n",
      " '但 O ' '每 O ' '天 O ' '還 O ' '是 O ' '要 O ' '加 O ' '強 O '\n",
      " '保 B-FUNC ApplyTo-0-A ' '濕 I-FUNC ApplyTo-0-A ' ' ' '溫 O ' '和 O ' '的 O '\n",
      " '成 O ' '份 O ' '讓 O ' '敏 B-STAT ApplyTo-0-B ' '感 I-STAT ApplyTo-0-B '\n",
      " '的 I-STAT ApplyTo-0-B ' '肌 I-STAT ApplyTo-0-B ' '膚 I-STAT ApplyTo-0-B '\n",
      " '也 O ' '能 O ' '輕 O ' '鬆 O ' '的 O ' '美 B-FUNC ApplyTo-0-A '\n",
      " '白 I-FUNC ApplyTo-0-A ' ' ' '使 O ' '用 O ' '了 O ' '幾 O ' '次 O ' '， O '\n",
      " '效 O ' '果 O ' '都 O ' '不 O ' '太 O ' '令 O ' '人 O ' '滿 O ' '意 O ' '， O '\n",
      " '也 O ' '許 O ' '是 O ' '這 O ' '款 O ' '面 O ' '膜 O ' '主 O ' '要 O ' '強 O '\n",
      " '調 O ' '的 O ' '是 O ' '緊 B-FUNC ApplyTo-0-A ' '緻 I-FUNC ApplyTo-0-A '\n",
      " '功 O ' '能 O ' '， O ' '我 O ' '的 O ' '超 O ' '乾 B-STAT ApplyTo-0-B '\n",
      " '肌 I-STAT ApplyTo-0-B ' '得 O ' '先 O ' '把 O ' '缺 O ' '水 O ' '問 O ' '題 O '\n",
      " '解 O ' '決 O ' '了 O ' '才 O ' '能 O ' '看 O ' '出 O ' '效 O ' '果 O ' '吧 O '\n",
      " '∼ O ' ' ' '在 O ' '這 O ' '一 O ' '下 O ' '冷 O ' '一 O ' '下 O ' '又 O ' '熱 O '\n",
      " '的 O ' '氣 O ' '候 O ' ', O ' '對 O ' '於 O ' '乾 B-STAT ApplyTo-0-B '\n",
      " '性 I-STAT ApplyTo-0-B ' '肌 I-STAT ApplyTo-0-B ' '膚 I-STAT ApplyTo-0-B '\n",
      " '的 O ' '我 O ' '來 O ' '說 O ' ', O ' '真 O ' '是 O ' '相 O ' '當 O ' '需 O '\n",
      " '要 O ' '保 B-FUNC ApplyTo-0-A ' '濕 I-FUNC ApplyTo-0-A ' ' ' '這 O ' '次 O '\n",
      " '試 O ' '用 O ' '的 O ' '是 O ' '\" O ' '南 O ' '極 O ' '冰 O ' '河 O ' '醣 O '\n",
      " '蛋 O ' '白 O ' '滲 O ' '透 O ' '保 B-FUNC ApplyTo-0-A '\n",
      " '濕 I-FUNC ApplyTo-0-A ' '面 O ' '膜 O ' '\" O ' '， O ' '對 O ' '於 O '\n",
      " '乾 B-STAT ApplyTo-0-B ' '肌 I-STAT ApplyTo-0-B ' '的 O ' '我 O ' '來 O '\n",
      " '說 O ' '， O ' '再 O ' '適 O ' '合 O ' '不 O ' '過 O ' '了 O ' ' ' '很 O ' '適 O '\n",
      " '合 O ' '油 B-STAT ApplyTo-0-B ' '性 I-STAT ApplyTo-0-B '\n",
      " '膚 I-STAT ApplyTo-0-B ' '質 I-STAT ApplyTo-0-B ' '使 O ' '用 O ' '， O '\n",
      " '但 O ' '對 O ' '於 O ' '乾 B-STAT ' '性 I-STAT ' '肌 I-STAT ' '膚 I-STAT '\n",
      " '就 O ' '要 O ' '加 O ' '強 O ' '後 O ' '續 O ' '的 O ' '保 B-FUNC ' '濕 I-FUNC '\n",
      " ' ' '而 O ' '面 O ' '膜 O ' '的 O ' '精 O ' '華 O ' '液 O ' '不 O ' '算 O ' '多 O '\n",
      " '， O ' '但 O ' '也 O ' '很 O ' '夠 O ' '用 O ' '了 O ' '， O ' '是 O ' '敷 O '\n",
      " '上 O ' '之 O ' '後 O ' '不 O ' '會 O ' '滴 O ' '下 O ' '的 O ' '量 O ' '， O '\n",
      " '剛 O ' '剛 O ' '好 O ' '， O ' '精 O ' '華 O ' '液 O ' '本 O ' '身 O ' '沒 O '\n",
      " '什 O ' '麼 O ' '香 O ' '味 O ' '， O ' '我 O ' '這 O ' '個 O ' '小 O ' '敏 O '\n",
      " '感 O ' '的 O ' '油 B-STAT ApplyTo-0-B ' '性 I-STAT ApplyTo-0-B '\n",
      " '肌 I-STAT ApplyTo-0-B ' '老 O ' '實 O ' '說 O ' '敷 O ' '完 O ' '之 O ' '後 O '\n",
      " '卻 O ' '什 O ' '麼 O ' '感 O ' '覺 O ' '都 O ' '沒 O ' '有 O ' '， O ' '沒 O '\n",
      " '有 O ' '過 O ' '敏 O ' '、 O ' '沒 O ' '有 O ' '感 O ' '覺 O ' '特 O ' '別 O '\n",
      " '保 O ' '水 O ' '、 O ' '緊 B-FUNC ApplyTo-0-A ' '緻 I-FUNC ApplyTo-0-A '\n",
      " '. O ' '. O ' '. O ' '等 O ' ' ' '建 O ' '議 O ' '乾 B-STAT ApplyTo-0-B '\n",
      " '肌 I-STAT ApplyTo-0-B ' '的 O ' '朋 O ' '友 O ' '們 O ' '還 O ' '是 O ' '要 O '\n",
      " '勤 O ' '做 O ' '後 O ' '續 O ' '的 O ' '保 B-FUNC ApplyTo-0-A '\n",
      " '養 I-FUNC ApplyTo-0-A ' '動 O ' '作 O ' ' ' '洗 O ' '完 O ' '臉 O ' '後 O '\n",
      " '， O ' '我 O ' '將 O ' '「 O ' '我 O ' '的 O ' '美 O ' '麗 O ' '日 O ' '記 O '\n",
      " '」 O ' '南 O ' '極 O ' '冰 O ' '河 O ' '醣 O ' '蛋 O ' '白 O ' '滲 O ' '透 O '\n",
      " '保 B-FUNC ApplyTo-0-A ' '濕 I-FUNC ApplyTo-0-A ' '面 O ' '膜 O ' '敷 O '\n",
      " '在 O ' '臉 O ' '上 O ' '， O ' '經 O ' '過 O ' '2 O ' '0 O ' '分 O ' '鐘 O '\n",
      " '後 O ' '， O ' '將 O ' '面 O ' '膜 O ' '從 O ' '臉 O ' '部 O ' '由 O ' '下 O '\n",
      " '往 O ' '上 O ' '撕 O ' '下 O ' '， O ' '再 O ' '用 O ' '清 O ' '水 O ' '將 O '\n",
      " '面 O ' '膜 O ' '清 O ' '洗 O ' '乾 O ' '淨 O ' '後 O ' '， O ' '從 O ' '鏡 O '\n",
      " '子 O ' '中 O ' '我 O ' '看 O ' '到 O ' '臉 O ' '部 O ' '肌 B-STAT ApplyTo-0-B '\n",
      " '膚 I-STAT ApplyTo-0-B ' '乾 I-STAT ApplyTo-0-B ' '燥 I-STAT ApplyTo-0-B '\n",
      " '缺 O ' '水 O ' '的 O ' '現 O ' '象 O ' '消 O ' '失 O ' '了 O ' ' ' '夏 O ' '日 O '\n",
      " '將 O ' '到 O ' '了 O ' '， O ' '保 B-FUNC ApplyTo-0-A '\n",
      " '濕 I-FUNC ApplyTo-0-A ' '不 O ' '是 O ' '只 O ' '有 O ' '在 O ' '冬 O ' '天 O '\n",
      " '， O ' '夏 O ' '天 O ' '會 O ' '常 O ' '常 O ' '待 O ' '在 O ' '冷 O ' '氣 O '\n",
      " '房 O ' '， O ' '所 O ' '以 O ' '保 B-FUNC ' '濕 I-FUNC ' '還 O ' '是 O ' '很 O '\n",
      " '重 O ' '要 O ' '， O ' '而 O ' '這 O ' '面 O ' '膜 O ' '對 O ' '於 O '\n",
      " '乾 B-STAT ' '燥 I-STAT ' '的 I-STAT ' '肌 I-STAT ' '膚 I-STAT ' '急 O ' '救 O '\n",
      " '補 O ' '水 O ' '效 O ' '果 O ' '還 O ' '挺 O ' '讓 O ' '人 O ' '滿 O ' '意 O '\n",
      " '的 O ' ' ' '使 O ' '用 O ' '完 O ' '後 O ' '肌 B-STAT ' '膚 I-STAT '\n",
      " '乾 I-STAT ' '淨 O ' '舒 O ' '服 O ' ', O ' '休 O ' '息 O ' '一 O ' '下 O '\n",
      " '後 O ' '就 O ' '可 O ' '以 O ' '上 O ' '平 O ' '日 O ' '保 B-FUNC ' '養 I-FUNC '\n",
      " '步 O ' '驟 O ' '~ O ' ' ' '高 O ' '效 O ' '保 B-FUNC ApplyTo-0-A '\n",
      " '濕 I-FUNC ApplyTo-0-A ' '， O ' '舒 B-FUNC ' '緩 I-FUNC ' '肌 O ' '膚 O '\n",
      " '， O ' '溫 O ' '和 O ' '修 O ' '復 O ' '， O ' '重 O ' '塑 O ' '晶 O ' '透 O '\n",
      " '的 O ' '的 O ' '亮 O ' '顏 O ' '全 O ' '效 O ' '保 B-FUNC ' '濕 I-FUNC ' '， O '\n",
      " '改 O ' '善 O ' '乾 B-STAT ' '性 I-STAT ' '肌 I-STAT ' '膚 I-STAT ' '問 O '\n",
      " '題 O ' '， O ' '使 O ' '肌 O ' '膚 O ' '亮 O ' '透 O ' '有 O ' '光 O ' '澤 O ' ' '\n",
      " '我 O ' '的 O ' '美 O ' '麗 O ' '日 O ' '記 O ' '一 O ' '直 O ' '是 O ' '我 O '\n",
      " '的 O ' '愛 O ' '用 O ' '品 O ' '之 O ' '一 O ' '， O ' '對 O ' '於 O ' '健 O '\n",
      " '康 O ' '膚 O ' '色 O ' '油 O ' '性 O ' '混 B-STAT ApplyTo-0-B '\n",
      " '合 I-STAT ApplyTo-0-B ' '肌 I-STAT ApplyTo-0-B ' '的 O ' '我 O ' '， O '\n",
      " '挑 O ' '選 O ' '面 O ' '膜 O ' '的 O ' '重 O ' '點 O ' '就 O ' '是 O ' '- O '\n",
      " '- O ' '- O ' '可 O ' '以 O ' '變 O ' '白 O ' '、 O ' '保 B-FUNC ApplyTo-0-A '\n",
      " '濕 I-FUNC ApplyTo-0-A ' '、 O ' '不 O ' '會 O ' '黏 O ' '黏 O ' '的 O ' '( O '\n",
      " '很 O ' '重 O ' '要 O ' ') O ' ' ' 'S O ' 't O ' 'e O ' 'p O ' '2 O ' '. O '\n",
      " '強 O ' '化 O ' '補 O ' '水 O ' '- O ' '嫩 O ' '白 O ' '蠶 O ' '絲 O ' '面 O '\n",
      " '膜 O ' '- O ' '面 O ' '膜 O ' '非 O ' '常 O ' '薄 O ' '貼 O ' '， O ' '記 O '\n",
      " '得 O ' '要 O ' '把 O ' '蠶 O ' '絲 O ' '面 O ' '膜 O ' '朝 O ' '臉 O ' '敷 O '\n",
      " '上 O ' '後 O ' '再 O ' '把 O ' '珍 O ' '珠 O ' '膜 O ' '撕 O ' '下 O ' '布 O '\n",
      " '料 O ' '採 O ' '用 O ' '凝 O ' '水 O ' '蠶 O ' '絲 O ' '， O ' '清 O ' '透 O '\n",
      " '， O ' '用 O ' '天 O ' '然 O ' '草 O ' '本 O ' '植 O ' '物 O ' '萃 O ' '取 O '\n",
      " '的 O ' '精 O ' '華 O ' '， O ' '幫 O ' '助 O ' '保 B-FUNC ApplyTo-0-A '\n",
      " '濕 I-FUNC ApplyTo-0-A ' '， O ' '也 O ' '可 O ' '以 O ' '舒 B-FUNC '\n",
      " '緩 I-FUNC ' '一 O ' '些 O ' '夏 O ' '季 O ' '保 B-FUNC ' '養 I-FUNC ' '時 O '\n",
      " '乾 B-STAT ' '燥 I-STAT ' '肌 I-STAT ' '的 O ' '狀 O ' '況 O ' ' ' '增 O '\n",
      " '加 O ' '肌 O ' '膚 O ' '彈 O ' '性 O ' '及 O ' '含 O ' '水 O ' '量 O ' '， O '\n",
      " '提 O ' '高 O ' '保 B-FUNC ApplyTo-0-A ' '濕 I-FUNC ApplyTo-0-A ' '效 O '\n",
      " '果 O ' '， O ' '防 O ' '止 O ' '肌 B-STAT ApplyTo-0-B '\n",
      " '膚 I-STAT ApplyTo-0-B ' '乾 I-STAT ApplyTo-0-B ' '燥 I-STAT ApplyTo-0-B '\n",
      " '， O ' '去 O ' '除 O ' '細 O ' '小 O ' '皺 O ' '紋 O ' '， O ' ' ' '本 O ' '產 O '\n",
      " '品 O ' '適 O ' '合 O ' '一 O ' '般 O ' '膚 O ' '質 O ' '及 O '\n",
      " '敏 B-STAT ApplyTo-0-B ' '感 I-STAT ApplyTo-0-B ' '性 I-STAT ApplyTo-0-B '\n",
      " '膚 I-STAT ApplyTo-0-B ' '質 I-STAT ApplyTo-0-B ' '的 O ' '日 O ' '常 O '\n",
      " '保 B-FUNC ApplyTo-0-A ' '養 I-FUNC ApplyTo-0-A ' '， O ' '也 O ' '很 O '\n",
      " '適 O ' '合 O ' '急 O ' '救 O ' '乾 O ' '荒 O ' '缺 O ' '水 O ' '的 O ' '肌 O '\n",
      " '膚 O ' '， O ' '保 B-FUNC ' '濕 I-FUNC ' '效 O ' '果 O ' '能 O ' '立 O ' '即 O '\n",
      " '見 O ' '效 O ' ' ' '有 O ' '些 O ' '保 B-FUNC ApplyTo-0-A '\n",
      " '濕 I-FUNC ApplyTo-0-A ' '面 O ' '膜 O ' '， O ' '我 O ' '的 O '\n",
      " '敏 B-STAT ApplyTo-0-B ' '感 I-STAT ApplyTo-0-B ' '性 I-STAT ApplyTo-0-B '\n",
      " '膚 I-STAT ApplyTo-0-B ' '質 I-STAT ApplyTo-0-B ' '如 O ' '果 O ' '敷 O '\n",
      " '太 O ' '久 O ' '， O ' '就 O ' '會 O ' '開 O ' '始 O ' '發 O ' '癢 O ' '， O '\n",
      " '這 O ' '款 O ' '一 O ' '直 O ' '敷 O ' '到 O ' '最 O ' '後 O ' '都 O ' '很 O '\n",
      " '舒 O ' '服 O ' '呢 O ' ' ' '補 O ' '充 O ' '說 O ' '明 O ' ', O ' '因 O ' '為 O '\n",
      " '我 O ' '本 O ' '身 O ' '肌 O ' '膚 O ' '屬 O ' '於 O ' '敏 B-STAT ApplyTo-0-B '\n",
      " '感 I-STAT ApplyTo-0-B ' '性 I-STAT ApplyTo-0-B ' '肌 I-STAT ApplyTo-0-B '\n",
      " '膚 I-STAT ApplyTo-0-B ' ', O ' '用 O ' '此 O ' '款 O ' '面 O ' '膜 O ' '不 O '\n",
      " '會 O ' '過 O ' '敏 O ' '喔 O ' '~ O ' '~ O ' '而 O ' '且 O '\n",
      " '保 B-FUNC ApplyTo-0-A ' '濕 I-FUNC ApplyTo-0-A ' '效 O ' '果 O ' '很 O '\n",
      " '強 O ' '喔 O ' '~ O ' '^ O ' '^ O ' ' ']\n",
      "['我 O ' '的 O ' '皮 O ' '膚 O ' '是 O ' '乾 B-STAT ' '性 I-STAT ' '肌 I-STAT '\n",
      " ', O ' '雖 O ' '然 O ' '在 O ' '夏 O ' '天 O ' '不 O ' '會 O ' '乾 O ' '到 O '\n",
      " '緊 O ' '繃 O ' ', O ' '但 O ' '每 O ' '天 O ' '還 O ' '是 O ' '要 O ' '加 O '\n",
      " '強 O ' '保 B-FUNC ' '濕 I-FUNC ' ' ' '溫 O ' '和 O ' '的 O ' '成 O ' '份 O '\n",
      " '讓 O ' '敏 B-STAT ApplyTo-0-B ' '感 I-STAT ApplyTo-0-B '\n",
      " '的 I-STAT ApplyTo-0-B ' '肌 I-STAT ApplyTo-0-B ' '膚 I-STAT ApplyTo-0-B '\n",
      " '也 O ' '能 O ' '輕 O ' '鬆 O ' '的 O ' '美 B-FUNC ApplyTo-0-A '\n",
      " '白 I-FUNC ApplyTo-0-A ' ' ' '使 O ' '用 O ' '了 O ' '幾 O ' '次 O ' '， O '\n",
      " '效 O ' '果 O ' '都 O ' '不 O ' '太 O ' '令 O ' '人 O ' '滿 O ' '意 O ' '， O '\n",
      " '也 O ' '許 O ' '是 O ' '這 O ' '款 O ' '面 O ' '膜 O ' '主 O ' '要 O ' '強 O '\n",
      " '調 O ' '的 O ' '是 O ' '緊 B-FUNC ' '緻 I-FUNC ' '功 O ' '能 O ' '， O ' '我 O '\n",
      " '的 O ' '超 O ' '乾 B-STAT ' '肌 I-STAT ' '得 O ' '先 O ' '把 O ' '缺 O ' '水 O '\n",
      " '問 O ' '題 O ' '解 O ' '決 O ' '了 O ' '才 O ' '能 O ' '看 O ' '出 O ' '效 O '\n",
      " '果 O ' '吧 O ' '∼ O ' ' ' '在 O ' '這 O ' '一 O ' '下 O ' '冷 O ' '一 O ' '下 O '\n",
      " '又 O ' '熱 O ' '的 O ' '氣 O ' '候 O ' ', O ' '對 O ' '於 O ' '乾 B-STAT '\n",
      " '性 I-STAT ' '肌 I-STAT ' '膚 I-STAT ' '的 O ' '我 O ' '來 O ' '說 O ' ', O '\n",
      " '真 O ' '是 O ' '相 O ' '當 O ' '需 O ' '要 O ' '保 O ' '濕 O ' ' ' '這 O ' '次 O '\n",
      " '試 O ' '用 O ' '的 O ' '是 O ' '\" O ' '南 O ' '極 O ' '冰 O ' '河 O ' '醣 O '\n",
      " '蛋 O ' '白 O ' '滲 O ' '透 O ' '保 O ' '濕 O ' '面 O ' '膜 O ' '\" O ' '， O '\n",
      " '對 O ' '於 O ' '乾 B-STAT ' '肌 I-STAT ' '的 O ' '我 O ' '來 O ' '說 O ' '， O '\n",
      " '再 O ' '適 O ' '合 O ' '不 O ' '過 O ' '了 O ' ' ' '很 O ' '適 O ' '合 O '\n",
      " '油 B-STAT ' '性 I-STAT ' '膚 I-STAT ' '質 I-STAT ' '使 O ' '用 O ' '， O '\n",
      " '但 O ' '對 O ' '於 O ' '乾 B-STAT ' '性 I-STAT ' '肌 I-STAT ' '膚 I-STAT '\n",
      " '就 O ' '要 O ' '加 O ' '強 O ' '後 O ' '續 O ' '的 O ' '保 O ' '濕 O ' ' ' '而 O '\n",
      " '面 O ' '膜 O ' '的 O ' '精 O ' '華 O ' '液 O ' '不 O ' '算 O ' '多 O ' '， O '\n",
      " '但 O ' '也 O ' '很 O ' '夠 O ' '用 O ' '了 O ' '， O ' '是 O ' '敷 O ' '上 O '\n",
      " '之 O ' '後 O ' '不 O ' '會 O ' '滴 O ' '下 O ' '的 O ' '量 O ' '， O ' '剛 O '\n",
      " '剛 O ' '好 O ' '， O ' '精 O ' '華 O ' '液 O ' '本 O ' '身 O ' '沒 O ' '什 O '\n",
      " '麼 O ' '香 O ' '味 O ' '， O ' '我 O ' '這 O ' '個 O ' '小 O ' '敏 O ' '感 O '\n",
      " '的 O ' '油 B-STAT ' '性 I-STAT ' '肌 I-STAT ' '老 O ' '實 O ' '說 O ' '敷 O '\n",
      " '完 O ' '之 O ' '後 O ' '卻 O ' '什 O ' '麼 O ' '感 O ' '覺 O ' '都 O ' '沒 O '\n",
      " '有 O ' '， O ' '沒 O ' '有 O ' '過 O ' '敏 O ' '、 O ' '沒 O ' '有 O ' '感 O '\n",
      " '覺 O ' '特 O ' '別 O ' '保 O ' '水 O ' '、 O ' '緊 B-FUNC ' '緻 I-FUNC ' '. O '\n",
      " '. O ' '. O ' '等 O ' ' ' '建 O ' '議 O ' '乾 B-STAT ' '肌 I-STAT ' '的 O '\n",
      " '朋 O ' '友 O ' '們 O ' '還 O ' '是 O ' '要 O ' '勤 O ' '做 O ' '後 O ' '續 O '\n",
      " '的 O ' '保 O ' '養 O ' '動 O ' '作 O ' ' ' '洗 O ' '完 O ' '臉 O ' '後 O ' '， O '\n",
      " '我 O ' '將 O ' '「 O ' '我 O ' '的 O ' '美 O ' '麗 O ' '日 O ' '記 O ' '」 O '\n",
      " '南 O ' '極 O ' '冰 O ' '河 O ' '醣 O ' '蛋 O ' '白 O ' '滲 O ' '透 O ' '保 O '\n",
      " '濕 O ' '面 O ' '膜 O ' '敷 O ' '在 O ' '臉 O ' '上 O ' '， O ' '經 O ' '過 O '\n",
      " '2 O ' '0 O ' '分 O ' '鐘 O ' '後 O ' '， O ' '將 O ' '面 O ' '膜 O ' '從 O '\n",
      " '臉 O ' '部 O ' '由 O ' '下 O ' '往 O ' '上 O ' '撕 O ' '下 O ' '， O ' '再 O '\n",
      " '用 O ' '清 O ' '水 O ' '將 O ' '面 O ' '膜 O ' '清 O ' '洗 O ' '乾 O ' '淨 O '\n",
      " '後 O ' '， O ' '從 O ' '鏡 O ' '子 O ' '中 O ' '我 O ' '看 O ' '到 O ' '臉 O '\n",
      " '部 O ' '肌 B-STAT ' '膚 I-STAT ' '乾 I-STAT ' '燥 I-STAT ' '缺 O ' '水 O '\n",
      " '的 O ' '現 O ' '象 O ' '消 O ' '失 O ' '了 O ' ' ' '夏 O ' '日 O ' '將 O ' '到 O '\n",
      " '了 O ' '， O ' '保 O ' '濕 O ' '不 O ' '是 O ' '只 O ' '有 O ' '在 O ' '冬 O '\n",
      " '天 O ' '， O ' '夏 O ' '天 O ' '會 O ' '常 O ' '常 O ' '待 O ' '在 O ' '冷 O '\n",
      " '氣 O ' '房 O ' '， O ' '所 O ' '以 O ' '保 B-FUNC ApplyTo-0-A '\n",
      " '濕 I-FUNC ApplyTo-0-A ' '還 O ' '是 O ' '很 O ' '重 O ' '要 O ' '， O ' '而 O '\n",
      " '這 O ' '面 O ' '膜 O ' '對 O ' '於 O ' '乾 B-STAT ApplyTo-0-B '\n",
      " '燥 I-STAT ApplyTo-0-B ' '的 I-STAT ApplyTo-0-B ' '肌 I-STAT ApplyTo-0-B '\n",
      " '膚 I-STAT ApplyTo-0-B ' '急 O ' '救 O ' '補 O ' '水 O ' '效 O ' '果 O ' '還 O '\n",
      " '挺 O ' '讓 O ' '人 O ' '滿 O ' '意 O ' '的 O ' ' ' '使 O ' '用 O ' '完 O ' '後 O '\n",
      " '肌 B-STAT ' '膚 I-STAT ' '乾 I-STAT ' '淨 O ' '舒 O ' '服 O ' ', O ' '休 O '\n",
      " '息 O ' '一 O ' '下 O ' '後 O ' '就 O ' '可 O ' '以 O ' '上 O ' '平 O ' '日 O '\n",
      " '保 O ' '養 O ' '步 O ' '驟 O ' '~ O ' ' ' '高 O ' '效 O ' '保 O ' '濕 O ' '， O '\n",
      " '舒 O ' '緩 O ' '肌 O ' '膚 O ' '， O ' '溫 O ' '和 O ' '修 O ' '復 O ' '， O '\n",
      " '重 O ' '塑 O ' '晶 O ' '透 O ' '的 O ' '的 O ' '亮 O ' '顏 O ' '全 O ' '效 O '\n",
      " '保 B-FUNC ApplyTo-0-A ' '濕 I-FUNC ApplyTo-0-A ' '， O ' '改 O ' '善 O '\n",
      " '乾 B-STAT ApplyTo-0-B ' '性 I-STAT ApplyTo-0-B ' '肌 I-STAT ApplyTo-0-B '\n",
      " '膚 I-STAT ApplyTo-0-B ' '問 O ' '題 O ' '， O ' '使 O ' '肌 O ' '膚 O ' '亮 O '\n",
      " '透 O ' '有 O ' '光 O ' '澤 O ' ' ' '我 O ' '的 O ' '美 O ' '麗 O ' '日 O ' '記 O '\n",
      " '一 O ' '直 O ' '是 O ' '我 O ' '的 O ' '愛 O ' '用 O ' '品 O ' '之 O ' '一 O '\n",
      " '， O ' '對 O ' '於 O ' '健 O ' '康 O ' '膚 O ' '色 O ' '油 O ' '性 O '\n",
      " '混 B-STAT ' '合 I-STAT ' '肌 I-STAT ' '的 O ' '我 O ' '， O ' '挑 O ' '選 O '\n",
      " '面 O ' '膜 O ' '的 O ' '重 O ' '點 O ' '就 O ' '是 O ' '- O ' '- O ' '- O '\n",
      " '可 O ' '以 O ' '變 O ' '白 O ' '、 O ' '保 O ' '濕 O ' '、 O ' '不 O ' '會 O '\n",
      " '黏 O ' '黏 O ' '的 O ' '( O ' '很 O ' '重 O ' '要 O ' ') O ' ' ' 'S O ' 't O '\n",
      " 'e O ' 'p O ' '2 O ' '. O ' '強 O ' '化 O ' '補 O ' '水 O ' '- O ' '嫩 O '\n",
      " '白 O ' '蠶 O ' '絲 O ' '面 O ' '膜 O ' '- O ' '面 O ' '膜 O ' '非 O ' '常 O '\n",
      " '薄 O ' '貼 O ' '， O ' '記 O ' '得 O ' '要 O ' '把 O ' '蠶 O ' '絲 O ' '面 O '\n",
      " '膜 O ' '朝 O ' '臉 O ' '敷 O ' '上 O ' '後 O ' '再 O ' '把 O ' '珍 O ' '珠 O '\n",
      " '膜 O ' '撕 O ' '下 O ' '布 O ' '料 O ' '採 O ' '用 O ' '凝 O ' '水 O ' '蠶 O '\n",
      " '絲 O ' '， O ' '清 O ' '透 O ' '， O ' '用 O ' '天 O ' '然 O ' '草 O ' '本 O '\n",
      " '植 O ' '物 O ' '萃 O ' '取 O ' '的 O ' '精 O ' '華 O ' '， O ' '幫 O ' '助 O '\n",
      " '保 B-FUNC ' '濕 I-FUNC ' '， O ' '也 O ' '可 O ' '以 O '\n",
      " '舒 B-FUNC ApplyTo-0-A ' '緩 I-FUNC ApplyTo-0-A ' '一 O ' '些 O ' '夏 O '\n",
      " '季 O ' '保 B-FUNC ' '養 I-FUNC ' '時 O ' '乾 B-STAT ApplyTo-0-B '\n",
      " '燥 I-STAT ApplyTo-0-B ' '肌 I-STAT ApplyTo-0-B ' '的 O ' '狀 O ' '況 O ' ' '\n",
      " '增 O ' '加 O ' '肌 O ' '膚 O ' '彈 O ' '性 O ' '及 O ' '含 O ' '水 O ' '量 O '\n",
      " '， O ' '提 O ' '高 O ' '保 B-FUNC ApplyTo-0-A ' '濕 I-FUNC ApplyTo-0-A '\n",
      " '效 O ' '果 O ' '， O ' '防 O ' '止 O ' '肌 B-STAT ApplyTo-0-B '\n",
      " '膚 I-STAT ApplyTo-0-B ' '乾 I-STAT ApplyTo-0-B ' '燥 I-STAT ApplyTo-0-B '\n",
      " '， O ' '去 O ' '除 O ' '細 O ' '小 O ' '皺 O ' '紋 O ' '， O ' ' ' '本 O ' '產 O '\n",
      " '品 O ' '適 O ' '合 O ' '一 O ' '般 O ' '膚 O ' '質 O ' '及 O '\n",
      " '敏 B-STAT ApplyTo-0-B ' '感 I-STAT ApplyTo-0-B ' '性 I-STAT ApplyTo-0-B '\n",
      " '膚 I-STAT ApplyTo-0-B ' '質 I-STAT ApplyTo-0-B ' '的 O ' '日 O ' '常 O '\n",
      " '保 B-FUNC ApplyTo-0-A ' '養 I-FUNC ApplyTo-0-A ' '， O ' '也 O ' '很 O '\n",
      " '適 O ' '合 O ' '急 O ' '救 O ' '乾 O ' '荒 O ' '缺 O ' '水 O ' '的 O ' '肌 O '\n",
      " '膚 O ' '， O ' '保 O ' '濕 O ' '效 O ' '果 O ' '能 O ' '立 O ' '即 O ' '見 O '\n",
      " '效 O ' ' ' '有 O ' '些 O ' '保 O ' '濕 O ' '面 O ' '膜 O ' '， O ' '我 O ' '的 O '\n",
      " '敏 B-STAT ' '感 I-STAT ' '性 I-STAT ' '膚 I-STAT ' '質 I-STAT ' '如 O ' '果 O '\n",
      " '敷 O ' '太 O ' '久 O ' '， O ' '就 O ' '會 O ' '開 O ' '始 O ' '發 O ' '癢 O '\n",
      " '， O ' '這 O ' '款 O ' '一 O ' '直 O ' '敷 O ' '到 O ' '最 O ' '後 O ' '都 O '\n",
      " '很 O ' '舒 O ' '服 O ' '呢 O ' ' ' '補 O ' '充 O ' '說 O ' '明 O ' ', O ' '因 O '\n",
      " '為 O ' '我 O ' '本 O ' '身 O ' '肌 O ' '膚 O ' '屬 O ' '於 O '\n",
      " '敏 B-STAT ApplyTo-0-B ' '感 I-STAT ApplyTo-0-B ' '性 I-STAT ApplyTo-0-B '\n",
      " '肌 I-STAT ApplyTo-0-B ' '膚 I-STAT ApplyTo-0-B ' ', O ' '用 O ' '此 O '\n",
      " '款 O ' '面 O ' '膜 O ' '不 O ' '會 O ' '過 O ' '敏 O ' '喔 O ' '~ O ' '~ O '\n",
      " '而 O ' '且 O ' '保 B-FUNC ApplyTo-0-A ' '濕 I-FUNC ApplyTo-0-A ' '效 O '\n",
      " '果 O ' '很 O ' '強 O ' '喔 O ' '~ O ' '^ O ' '^ O ' ' ']\n",
      "=================\n",
      "(0.9311601339040363, 0.9345782520325202, 0.9278378971976532, None)\n",
      "\n",
      "==========================\n",
      "\n"
     ]
    },
    {
     "name": "stderr",
     "output_type": "stream",
     "text": [
      "/usr/local/lib/python3.5/dist-packages/sklearn/metrics/classification.py:1135: UndefinedMetricWarning: Precision and F-score are ill-defined and being set to 0.0 in labels with no predicted samples.\n",
      "  'precision', 'predicted', average, warn_for)\n",
      "/usr/local/lib/python3.5/dist-packages/sklearn/metrics/classification.py:1137: UndefinedMetricWarning: Recall and F-score are ill-defined and being set to 0.0 in labels with no true samples.\n",
      "  'recall', 'true', average, warn_for)\n"
     ]
    }
   ],
   "source": [
    "import warnings\n",
    "warnings.filterwarnings('always') \n",
    "\n",
    "with torch.no_grad():\n",
    "    for step, (batch_x, batch_ent, batch_rel, batch_index) in enumerate(dev_loader):\n",
    "        model.eval()\n",
    "        ent_output, rel_output = model(batch_x.cuda() if USE_CUDA else batch_x)\n",
    "        \n",
    "        ent_loss = criterion_tag(ent_output.cpu(), batch_ent.view(BATCH_SIZE*MAX_LEN))\n",
    "        ent_output = ent_argmax(ent_output)\n",
    "        \n",
    "        rel_loss = criterion_rel(rel_output.cpu(), batch_rel.view(BATCH_SIZE*MAX_LEN*MAX_LEN))\n",
    "        rel_output = rel_argmax(rel_output)\n",
    "    \n",
    "        print()\n",
    "        \n",
    "        print(\"Entity loss : %.4f\" % ent_loss)\n",
    "        print(\"Relation loss : %.4f\" % rel_loss)\n",
    "        print()\n",
    "        \n",
    "        batch_decode(ent_output, rel_output, batch_index, raw_input_dev, \\\n",
    "                     batch_ent, batch_rel)\n",
    "        print()\n",
    "        print('==========================')\n",
    "        print()"
   ]
  },
  {
   "cell_type": "code",
   "execution_count": 116,
   "metadata": {},
   "outputs": [],
   "source": [
    "test_data = root+'facial_r2.test'\n",
    "input_test, ent_test, rel_test, raw_index_test, raw_input_test = dev_preprocess(test_data)\n",
    "test_loader = dataload(input_test, ent_test, rel_test, raw_index_test)"
   ]
  },
  {
   "cell_type": "code",
   "execution_count": 129,
   "metadata": {},
   "outputs": [
    {
     "name": "stdout",
     "output_type": "stream",
     "text": [
      "\n",
      "Entity loss : 0.1046\n",
      "Relation loss : 0.0014\n",
      "\n",
      "\n",
      "==========================\n",
      "\n",
      "\n",
      "==========================\n",
      "\n",
      "\n",
      "==========================\n",
      "\n",
      "\n",
      "==========================\n",
      "\n",
      "\n",
      "==========================\n",
      "\n",
      "\n",
      "==========================\n",
      "\n",
      "\n",
      "==========================\n",
      "\n",
      "\n",
      "==========================\n",
      "\n",
      "\n",
      "==========================\n",
      "\n",
      "\n",
      "==========================\n",
      "\n",
      "\n",
      "==========================\n",
      "\n",
      "\n",
      "==========================\n",
      "\n",
      "\n",
      "==========================\n",
      "\n",
      "\n",
      "==========================\n",
      "\n",
      "\n",
      "==========================\n",
      "\n",
      "\n",
      "==========================\n",
      "\n",
      "\n",
      "==========================\n",
      "\n",
      "\n",
      "==========================\n",
      "\n",
      "['冬', '天', '風', '總', '是', '特', '別', '大', '，', '如', '果', '沒', '有', '做', '好', '保', '養', '，', '會', '感', '覺', '臉', '很', '緊', '繃', '，', '乾', '澀', '乾', '澀', '的', '，', '而', '在', '這', '種', '天', '氣', '下', '，', '使', '用', '這', '款', '乳', '液', '後', '，', '明', '顯', '覺', '得', '臉', '變', '的', '水', '潤', '、', '很', '保', '溼', '，', '對', '於', '偏', '油', '性', '膚', '質', '的', '我', '來', '說', '，', '這', '款', '乳', '液', '正', '是', '我', '需', '要', '的', '呢']\n",
      "['O', 'O', 'O', 'O', 'O', 'O', 'O', 'O', 'O', 'O', 'O', 'O', 'O', 'O', 'O', 'B-FUNC', 'I-FUNC', 'O', 'O', 'O', 'O', 'O', 'O', 'O', 'O', 'O', 'O', 'O', 'O', 'O', 'O', 'O', 'O', 'O', 'O', 'O', 'O', 'O', 'O', 'O', 'O', 'O', 'O', 'O', 'O', 'O', 'O', 'O', 'O', 'O', 'O', 'O', 'O', 'O', 'O', 'O', 'O', 'O', 'O', 'O', 'O', 'O', 'O', 'O', 'O', 'B-STAT', 'I-STAT', 'I-STAT', 'I-STAT', 'O', 'O', 'O', 'O', 'O', 'O', 'O', 'O', 'O', 'O', 'O', 'O', 'O', 'O', 'O', 'O']\n",
      "['', '', '', '', '', '', '', '', '', '', '', '', '', '', '', ['ApplyTo-0-A'], ['ApplyTo-0-A'], '', '', '', '', '', '', '', '', '', '', '', '', '', '', '', '', '', '', '', '', '', '', '', '', '', '', '', '', '', '', '', '', '', '', '', '', '', '', '', '', '', '', '', '', '', '', '', '', ['ApplyTo-0-B'], ['ApplyTo-0-B'], ['ApplyTo-0-B'], ['ApplyTo-0-B'], '', '', '', '', '', '', '', '', '', '', '', '', '', '', '', '']\n",
      "\n",
      "True input\n",
      "['冬', '天', '風', '總', '是', '特', '別', '大', '，', '如', '果', '沒', '有', '做', '好', '保', '養', '，', '會', '感', '覺', '臉', '很', '緊', '繃', '，', '乾', '澀', '乾', '澀', '的', '，', '而', '在', '這', '種', '天', '氣', '下', '，', '使', '用', '這', '款', '乳', '液', '後', '，', '明', '顯', '覺', '得', '臉', '變', '的', '水', '潤', '、', '很', '保', '溼', '，', '對', '於', '偏', '油', '性', '膚', '質', '的', '我', '來', '說', '，', '這', '款', '乳', '液', '正', '是', '我', '需', '要', '的', '呢']\n",
      "['O', 'O', 'O', 'O', 'O', 'O', 'O', 'O', 'O', 'O', 'O', 'O', 'O', 'O', 'O', 'O', 'O', 'O', 'O', 'O', 'O', 'O', 'O', 'O', 'O', 'O', 'O', 'O', 'O', 'O', 'O', 'O', 'O', 'O', 'O', 'O', 'O', 'O', 'O', 'O', 'O', 'O', 'O', 'O', 'O', 'O', 'O', 'O', 'O', 'O', 'O', 'O', 'O', 'O', 'O', 'O', 'O', 'O', 'O', 'O', 'O', 'O', 'O', 'O', 'O', 'B-STAT', 'I-STAT', 'I-STAT', 'I-STAT', 'O', 'O', 'O', 'O', 'O', 'O', 'O', 'O', 'O', 'O', 'O', 'O', 'O', 'O', 'O', 'O']\n",
      "['', '', '', '', '', '', '', '', '', '', '', '', '', '', '', '', '', '', '', '', '', '', '', '', '', '', '', '', '', '', '', '', '', '', '', '', '', '', '', '', '', '', '', '', '', '', '', '', '', '', '', '', '', '', '', '', '', '', '', '', '', '', '', '', '', [], [], [], [], '', '', '', '', '', '', '', '', '', '', '', '', '', '', '', '']\n",
      "\n",
      "==========================\n",
      "\n",
      "['推', '薦', '給', '大', '家', ',', '可', '以', '去', '買', '來', '用', '用', '看', ',', '秋', '天', '到', '了', '內', ',', '皮', '膚', '乾', '燥', '情', '形', '多', ',', '要', '提', '早', '保', '養', '內']\n",
      "['O', 'O', 'O', 'O', 'O', 'O', 'O', 'O', 'O', 'O', 'O', 'O', 'O', 'O', 'O', 'O', 'O', 'O', 'O', 'O', 'O', 'B-STAT', 'I-STAT', 'I-STAT', 'I-STAT', 'O', 'O', 'O', 'O', 'O', 'O', 'O', 'B-FUNC', 'I-FUNC', 'O']\n",
      "['', '', '', '', '', '', '', '', '', '', '', '', '', '', '', '', '', '', '', '', '', [], [], [], [], '', '', '', '', '', '', '', [], [], '']\n",
      "\n",
      "True input\n",
      "['推', '薦', '給', '大', '家', ',', '可', '以', '去', '買', '來', '用', '用', '看', ',', '秋', '天', '到', '了', '內', ',', '皮', '膚', '乾', '燥', '情', '形', '多', ',', '要', '提', '早', '保', '養', '內']\n",
      "['O', 'O', 'O', 'O', 'O', 'O', 'O', 'O', 'O', 'O', 'O', 'O', 'O', 'O', 'O', 'O', 'O', 'O', 'O', 'O', 'O', 'B-STAT', 'I-STAT', 'I-STAT', 'I-STAT', 'O', 'O', 'O', 'O', 'O', 'O', 'O', 'O', 'O', 'O']\n",
      "['', '', '', '', '', '', '', '', '', '', '', '', '', '', '', '', '', '', '', '', '', [], [], [], [], '', '', '', '', '', '', '', '', '', '']\n",
      "\n",
      "==========================\n",
      "\n",
      "['我', '是', '混', '合', '肌', '.', '.', '.', '最', '怕', '使', '用', '保', '濕', '的', '東', '西', '.', '.', '油', '油', '又', '黏', '黏', '的', '.', '.']\n",
      "['O', 'O', 'B-STAT', 'I-STAT', 'I-STAT', 'O', 'O', 'O', 'O', 'O', 'O', 'O', 'B-FUNC', 'I-FUNC', 'O', 'O', 'O', 'O', 'O', 'O', 'O', 'O', 'O', 'O', 'O', 'O', 'O']\n",
      "['', '', ['ApplyTo-0-B'], ['ApplyTo-0-B'], ['ApplyTo-0-B'], '', '', '', '', '', '', '', ['ApplyTo-0-A'], ['ApplyTo-0-A'], '', '', '', '', '', '', '', '', '', '', '', '', '']\n",
      "\n",
      "True input\n",
      "['我', '是', '混', '合', '肌', '.', '.', '.', '最', '怕', '使', '用', '保', '濕', '的', '東', '西', '.', '.', '油', '油', '又', '黏', '黏', '的', '.', '.']\n",
      "['O', 'O', 'B-STAT', 'I-STAT', 'I-STAT', 'O', 'O', 'O', 'O', 'O', 'O', 'O', 'O', 'O', 'O', 'O', 'O', 'O', 'O', 'O', 'O', 'O', 'O', 'O', 'O', 'O', 'O']\n",
      "['', '', [], [], [], '', '', '', '', '', '', '', '', '', '', '', '', '', '', '', '', '', '', '', '', '', '']\n",
      "\n",
      "==========================\n",
      "\n",
      "['本', '來', '很', '乾', '的', '肌', '膚', '，', '使', '用', '後', '變', '的', '保', '水', '柔', '嫩', '，']\n",
      "['O', 'O', 'O', 'B-STAT', 'I-STAT', 'I-STAT', 'I-STAT', 'O', 'O', 'O', 'O', 'O', 'O', 'O', 'O', 'B-FUNC', 'I-FUNC', 'O']\n",
      "['', '', '', ['ApplyTo-0-B'], ['ApplyTo-0-B'], ['ApplyTo-0-B'], ['ApplyTo-0-B'], '', '', '', '', '', '', '', '', ['ApplyTo-0-A'], ['ApplyTo-0-A'], '']\n",
      "\n",
      "True input\n",
      "['本', '來', '很', '乾', '的', '肌', '膚', '，', '使', '用', '後', '變', '的', '保', '水', '柔', '嫩', '，']\n",
      "['O', 'O', 'O', 'B-STAT', 'I-STAT', 'I-STAT', 'I-STAT', 'O', 'O', 'O', 'O', 'O', 'O', 'O', 'O', 'B-FUNC', 'I-FUNC', 'O']\n",
      "['', '', '', ['ApplyTo-0-B'], ['ApplyTo-0-B'], ['ApplyTo-0-B'], ['ApplyTo-0-B'], '', '', '', '', '', '', '', '', ['ApplyTo-0-A'], ['ApplyTo-0-A'], '']\n",
      "\n",
      "==========================\n",
      "\n",
      "['使', '用', '本', '產', '品', '前', '個', '人', '肌', '膚', '混', '合', '肌', '用', '保', '濕', '產', '品', '把', '全', '臉', '保', '養', '到', '油', '水', '平', '衡', 't', '字', '不', '出', '油', '&', '鼻', '頭', '不', '脫', '皮']\n",
      "['O', 'O', 'O', 'O', 'O', 'O', 'O', 'O', 'O', 'O', 'B-STAT', 'I-STAT', 'I-STAT', 'O', 'B-FUNC', 'I-FUNC', 'O', 'O', 'O', 'O', 'O', 'B-FUNC', 'I-FUNC', 'O', 'O', 'O', 'O', 'O', 'O', 'O', 'O', 'O', 'O', 'O', 'O', 'O', 'O', 'O', 'O']\n",
      "['', '', '', '', '', '', '', '', '', '', ['ApplyTo-0-B'], ['ApplyTo-0-B'], ['ApplyTo-0-B'], '', ['ApplyTo-0-A'], ['ApplyTo-0-A'], '', '', '', '', '', '', '', '', '', '', '', '', '', '', '', '', '', '', '', '', '', '', '']\n",
      "\n",
      "True input\n",
      "['使', '用', '本', '產', '品', '前', '個', '人', '肌', '膚', '混', '合', '肌', '用', '保', '濕', '產', '品', '把', '全', '臉', '保', '養', '到', '油', '水', '平', '衡', 't', '字', '不', '出', '油', '&', '鼻', '頭', '不', '脫', '皮']\n",
      "['O', 'O', 'O', 'O', 'O', 'O', 'O', 'O', 'O', 'O', 'B-STAT', 'I-STAT', 'I-STAT', 'O', 'O', 'O', 'O', 'O', 'O', 'O', 'O', 'B-FUNC', 'I-FUNC', 'O', 'O', 'O', 'O', 'O', 'O', 'O', 'O', 'O', 'O', 'O', 'O', 'O', 'O', 'O', 'O']\n",
      "['', '', '', '', '', '', '', '', '', '', [], [], [], '', '', '', '', '', '', '', '', [], [], '', '', '', '', '', '', '', '', '', '', '', '', '', '', '', '']\n",
      "\n",
      "==========================\n",
      "\n",
      "['基', '本', '上', '我', '是', '油', '性', '肌', '，', '但', '又', '是', '會', '乾', '到', '狂', '出', '油', '.', '.', '.', '所', '以', '我', '需', '要', '保', '濕', '度', '很', '高', '的', '臉', '部', '產', '品', '這', '款', '洗', '顏', '皂', '霜', '，', '他', '沒', '什', '麼', '味', '道', '，', '也', '很', '好', '起', '泡', '.', '.', '.', '我', '是', '還', '有', '配', '合', '洗', '顏', '海', '棉', '在', '使', '用', '，', '所', '以', '泡', '泡', '還', '蠻', '細', '的']\n",
      "['O', 'O', 'O', 'O', 'O', 'B-STAT', 'I-STAT', 'I-STAT', 'O', 'O', 'O', 'O', 'O', 'O', 'O', 'O', 'O', 'O', 'O', 'O', 'O', 'O', 'O', 'O', 'O', 'O', 'B-FUNC', 'I-FUNC', 'I-FUNC', 'O', 'O', 'O', 'O', 'O', 'O', 'O', 'O', 'O', 'O', 'O', 'O', 'O', 'O', 'O', 'O', 'O', 'O', 'O', 'O', 'O', 'O', 'O', 'O', 'O', 'O', 'O', 'O', 'O', 'O', 'O', 'O', 'O', 'O', 'O', 'O', 'O', 'O', 'O', 'O', 'O', 'O', 'O', 'O', 'O', 'O', 'O', 'O', 'O', 'O', 'O']\n",
      "['', '', '', '', '', ['ApplyTo-0-B'], ['ApplyTo-0-B'], ['ApplyTo-0-B'], '', '', '', '', '', '', '', '', '', '', '', '', '', '', '', '', '', '', ['ApplyTo-0-A'], ['ApplyTo-0-A'], ['ApplyTo-0-A'], '', '', '', '', '', '', '', '', '', '', '', '', '', '', '', '', '', '', '', '', '', '', '', '', '', '', '', '', '', '', '', '', '', '', '', '', '', '', '', '', '', '', '', '', '', '', '', '', '', '', '']\n",
      "\n",
      "True input\n",
      "['基', '本', '上', '我', '是', '油', '性', '肌', '，', '但', '又', '是', '會', '乾', '到', '狂', '出', '油', '.', '.', '.', '所', '以', '我', '需', '要', '保', '濕', '度', '很', '高', '的', '臉', '部', '產', '品', '這', '款', '洗', '顏', '皂', '霜', '，', '他', '沒', '什', '麼', '味', '道', '，', '也', '很', '好', '起', '泡', '.', '.', '.', '我', '是', '還', '有', '配', '合', '洗', '顏', '海', '棉', '在', '使', '用', '，', '所', '以', '泡', '泡', '還', '蠻', '細', '的']\n",
      "['O', 'O', 'O', 'O', 'O', 'B-STAT', 'I-STAT', 'I-STAT', 'O', 'O', 'O', 'O', 'O', 'O', 'O', 'O', 'O', 'O', 'O', 'O', 'O', 'O', 'O', 'O', 'O', 'O', 'O', 'O', 'O', 'O', 'O', 'O', 'O', 'O', 'O', 'O', 'O', 'O', 'O', 'O', 'O', 'O', 'O', 'O', 'O', 'O', 'O', 'O', 'O', 'O', 'O', 'O', 'O', 'O', 'O', 'O', 'O', 'O', 'O', 'O', 'O', 'O', 'O', 'O', 'O', 'O', 'O', 'O', 'O', 'O', 'O', 'O', 'O', 'O', 'O', 'O', 'O', 'O', 'O', 'O']\n",
      "['', '', '', '', '', [], [], [], '', '', '', '', '', '', '', '', '', '', '', '', '', '', '', '', '', '', '', '', '', '', '', '', '', '', '', '', '', '', '', '', '', '', '', '', '', '', '', '', '', '', '', '', '', '', '', '', '', '', '', '', '', '', '', '', '', '', '', '', '', '', '', '', '', '', '', '', '', '', '', '']\n",
      "\n",
      "==========================\n",
      "\n"
     ]
    },
    {
     "name": "stdout",
     "output_type": "stream",
     "text": [
      "['沒', '有', '一', '般', '保', '濕', '產', '品', '只', '有', '暫', '時', '保', '濕', '的', '假', '象', '，', '而', '是', '可', '以', '維', '持', '從', '早', '到', '晚', '的', '保', '濕', '感', '，', '讓', '我', '這', '種', '熟', '齡', '乾', '燥', '肌', '膚', '在', '外', '奔', '波', '整', '天', '也', '不', '輕', '易', '顯', '乾', '而', '妝', '糊', '，', '保', '濕', '效', '果', '堪', '稱', '優', '異']\n",
      "['O', 'O', 'O', 'O', 'B-FUNC', 'I-FUNC', 'O', 'O', 'O', 'O', 'O', 'O', 'B-FUNC', 'I-FUNC', 'O', 'O', 'O', 'O', 'O', 'O', 'O', 'O', 'O', 'O', 'O', 'O', 'O', 'O', 'O', 'B-FUNC', 'I-FUNC', 'O', 'O', 'O', 'O', 'O', 'O', 'O', 'O', 'B-STAT', 'I-STAT', 'I-STAT', 'I-STAT', 'O', 'O', 'O', 'O', 'O', 'O', 'O', 'O', 'O', 'O', 'O', 'O', 'O', 'O', 'O', 'O', 'B-FUNC', 'I-FUNC', 'O', 'O', 'O', 'O', 'O', 'O']\n",
      "['', '', '', '', ['ApplyTo-0-A'], ['ApplyTo-0-A'], '', '', '', '', '', '', [], [], '', '', '', '', '', '', '', '', '', '', '', '', '', '', '', [], [], '', '', '', '', '', '', '', '', '', '', '', '', '', '', '', '', '', '', '', '', '', '', '', '', '', '', '', '', '', '', '', '', '', '', '', '']\n",
      "\n",
      "True input\n",
      "['沒', '有', '一', '般', '保', '濕', '產', '品', '只', '有', '暫', '時', '保', '濕', '的', '假', '象', '，', '而', '是', '可', '以', '維', '持', '從', '早', '到', '晚', '的', '保', '濕', '感', '，', '讓', '我', '這', '種', '熟', '齡', '乾', '燥', '肌', '膚', '在', '外', '奔', '波', '整', '天', '也', '不', '輕', '易', '顯', '乾', '而', '妝', '糊', '，', '保', '濕', '效', '果', '堪', '稱', '優', '異']\n",
      "['O', 'O', 'O', 'O', 'B-FUNC', 'I-FUNC', 'O', 'O', 'O', 'O', 'O', 'O', 'O', 'O', 'O', 'O', 'O', 'O', 'O', 'O', 'O', 'O', 'O', 'O', 'O', 'O', 'O', 'O', 'O', 'O', 'O', 'O', 'O', 'O', 'O', 'O', 'O', 'O', 'O', 'B-STAT', 'I-STAT', 'I-STAT', 'I-STAT', 'O', 'O', 'O', 'O', 'O', 'O', 'O', 'O', 'O', 'O', 'O', 'O', 'O', 'O', 'O', 'O', 'B-FUNC', 'I-FUNC', 'O', 'O', 'O', 'O', 'O', 'O']\n",
      "['', '', '', '', [], [], '', '', '', '', '', '', '', '', '', '', '', '', '', '', '', '', '', '', '', '', '', '', '', '', '', '', '', '', '', '', '', '', '', ['ApplyTo-0-B'], ['ApplyTo-0-B'], ['ApplyTo-0-B'], ['ApplyTo-0-B'], '', '', '', '', '', '', '', '', '', '', '', '', '', '', '', '', ['ApplyTo-0-A'], ['ApplyTo-0-A'], '', '', '', '', '', '']\n",
      "\n",
      "==========================\n",
      "\n",
      "['因', '為', '本', '人', '皮', '膚', '是', '屬', '於', '比', '較', '中', '性', '偏', '乾', '敏', '感', '肌', '，', '所', '以', '在', '選', '擇', '保', '養', '品', '最', '怕', '就', '是', '會', '過', '敏', '、', '紅', '腫', '、', '癢', '，', '或', '是', '保', '養', '使', '用', '後', '臉', '部', '呈', '現', '出', '濕', '黏', '的', '狀', '態', '會', '很', '不', '舒', '服']\n",
      "['O', 'O', 'O', 'O', 'O', 'O', 'O', 'O', 'O', 'O', 'O', 'O', 'O', 'O', 'B-STAT', 'I-STAT', 'I-STAT', 'I-STAT', 'O', 'O', 'O', 'O', 'O', 'O', 'B-FUNC', 'I-FUNC', 'O', 'O', 'O', 'O', 'O', 'O', 'O', 'O', 'O', 'O', 'O', 'O', 'O', 'O', 'O', 'O', 'B-FUNC', 'I-FUNC', 'O', 'O', 'O', 'O', 'O', 'O', 'O', 'B-STAT', 'I-STAT', 'O', 'O', 'O', 'O', 'O', 'O', 'O', 'O', 'O']\n",
      "['', '', '', '', '', '', '', '', '', '', '', '', '', '', [], [], [], [], '', '', '', '', '', '', [], [], '', '', '', '', '', '', '', '', '', '', '', '', '', '', '', '', [], [], '', '', '', '', '', '', '', [], [], '', '', '', '', '', '', '', '', '']\n",
      "\n",
      "True input\n",
      "['因', '為', '本', '人', '皮', '膚', '是', '屬', '於', '比', '較', '中', '性', '偏', '乾', '敏', '感', '肌', '，', '所', '以', '在', '選', '擇', '保', '養', '品', '最', '怕', '就', '是', '會', '過', '敏', '、', '紅', '腫', '、', '癢', '，', '或', '是', '保', '養', '使', '用', '後', '臉', '部', '呈', '現', '出', '濕', '黏', '的', '狀', '態', '會', '很', '不', '舒', '服']\n",
      "['O', 'O', 'O', 'O', 'O', 'O', 'O', 'O', 'O', 'O', 'O', 'O', 'O', 'O', 'O', 'B-STAT', 'I-STAT', 'I-STAT', 'O', 'O', 'O', 'O', 'O', 'O', 'O', 'O', 'O', 'O', 'O', 'O', 'O', 'O', 'O', 'O', 'O', 'O', 'O', 'O', 'O', 'O', 'O', 'O', 'O', 'O', 'O', 'O', 'O', 'O', 'O', 'O', 'O', 'O', 'O', 'O', 'O', 'O', 'O', 'O', 'O', 'O', 'O', 'O']\n",
      "['', '', '', '', '', '', '', '', '', '', '', '', '', '', '', [], [], [], '', '', '', '', '', '', '', '', '', '', '', '', '', '', '', '', '', '', '', '', '', '', '', '', '', '', '', '', '', '', '', '', '', '', '', '', '', '', '', '', '', '', '', '']\n",
      "\n",
      "==========================\n",
      "\n",
      "['非', '常', '推', '薦', '秋', '冬', '急', '需', '保', '濕', '的', '乾', '燥', '肌', '膚', '使', '用', '喔']\n",
      "['O', 'O', 'O', 'O', 'O', 'O', 'O', 'O', 'B-FUNC', 'I-FUNC', 'O', 'B-STAT', 'I-STAT', 'I-STAT', 'I-STAT', 'O', 'O', 'O']\n",
      "['', '', '', '', '', '', '', '', ['ApplyTo-0-A'], ['ApplyTo-0-A'], '', ['ApplyTo-0-B'], ['ApplyTo-0-B'], ['ApplyTo-0-B'], ['ApplyTo-0-B'], '', '', '']\n",
      "\n",
      "True input\n",
      "['非', '常', '推', '薦', '秋', '冬', '急', '需', '保', '濕', '的', '乾', '燥', '肌', '膚', '使', '用', '喔']\n",
      "['O', 'O', 'O', 'O', 'O', 'O', 'O', 'O', 'B-FUNC', 'I-FUNC', 'O', 'B-STAT', 'I-STAT', 'I-STAT', 'I-STAT', 'O', 'O', 'O']\n",
      "['', '', '', '', '', '', '', '', ['ApplyTo-0-A'], ['ApplyTo-0-A'], '', ['ApplyTo-0-B'], ['ApplyTo-0-B'], ['ApplyTo-0-B'], ['ApplyTo-0-B'], '', '', '']\n",
      "\n",
      "==========================\n",
      "\n",
      "['保', '濕', '效', '果', '好', '能', '讓', '皮', '膚', '出', '油', '比', '較', '慢', ',', '也', '比', '較', '能', '吃', '妝', '~']\n",
      "['B-FUNC', 'I-FUNC', 'O', 'O', 'O', 'O', 'O', 'B-STAT', 'I-STAT', 'I-STAT', 'I-STAT', 'O', 'O', 'O', 'O', 'O', 'O', 'O', 'O', 'O', 'O', 'O']\n",
      "[['ApplyTo-0-A'], ['ApplyTo-0-A'], '', '', '', '', '', ['ApplyTo-0-B'], ['ApplyTo-0-B'], ['ApplyTo-0-B'], ['ApplyTo-0-B'], '', '', '', '', '', '', '', '', '', '', '']\n",
      "\n",
      "True input\n",
      "['保', '濕', '效', '果', '好', '能', '讓', '皮', '膚', '出', '油', '比', '較', '慢', ',', '也', '比', '較', '能', '吃', '妝', '~']\n",
      "['O', 'O', 'O', 'O', 'O', 'O', 'O', 'B-STAT', 'I-STAT', 'I-STAT', 'I-STAT', 'O', 'O', 'O', 'O', 'O', 'O', 'O', 'O', 'O', 'O', 'O']\n",
      "['', '', '', '', '', '', '', [], [], [], [], '', '', '', '', '', '', '', '', '', '', '']\n",
      "\n",
      "==========================\n",
      "\n",
      "['總', '結', '就', '是', '.', '我', '覺', '得', '對', '乾', '肌', '來', '說', '.', '.', '保', '濕', '度', '很', '好', '.', '修', '護', '效', '果', '也', '很', '明', '顯', '的', '產', '品', '.', '.']\n",
      "['O', 'O', 'O', 'O', 'O', 'O', 'O', 'O', 'O', 'B-STAT', 'I-STAT', 'O', 'O', 'O', 'O', 'B-FUNC', 'I-FUNC', 'I-FUNC', 'O', 'O', 'O', 'O', 'O', 'O', 'O', 'O', 'O', 'O', 'O', 'O', 'O', 'O', 'O', 'O']\n",
      "['', '', '', '', '', '', '', '', '', ['ApplyTo-0-B'], ['ApplyTo-0-B'], '', '', '', '', ['ApplyTo-0-A'], ['ApplyTo-0-A'], ['ApplyTo-0-A'], '', '', '', '', '', '', '', '', '', '', '', '', '', '', '', '']\n",
      "\n",
      "True input\n",
      "['總', '結', '就', '是', '.', '我', '覺', '得', '對', '乾', '肌', '來', '說', '.', '.', '保', '濕', '度', '很', '好', '.', '修', '護', '效', '果', '也', '很', '明', '顯', '的', '產', '品', '.', '.']\n",
      "['O', 'O', 'O', 'O', 'O', 'O', 'O', 'O', 'O', 'B-STAT', 'I-STAT', 'O', 'O', 'O', 'O', 'B-FUNC', 'I-FUNC', 'I-FUNC', 'O', 'O', 'O', 'O', 'O', 'O', 'O', 'O', 'O', 'O', 'O', 'O', 'O', 'O', 'O', 'O']\n",
      "['', '', '', '', '', '', '', '', '', ['ApplyTo-0-B'], ['ApplyTo-0-B'], '', '', '', '', ['ApplyTo-0-A'], ['ApplyTo-0-A'], ['ApplyTo-0-A'], '', '', '', '', '', '', '', '', '', '', '', '', '', '', '', '']\n",
      "\n",
      "==========================\n",
      "\n",
      "['本', '身', '是', '油', '性', '肌', '，', '長', '期', '待', '在', '乾', '燥', '的', '冷', '氣', '房', '裡', '工', '作', '，', '皮', '膚', '容', '易', '缺', '水', '、', '出', '油', '，', '在', '選', '擇', '底', '妝', '時', '很', '重', '視', '保', '濕', '及', '控', '油', '力']\n",
      "['O', 'O', 'O', 'B-STAT', 'I-STAT', 'I-STAT', 'O', 'O', 'O', 'O', 'O', 'O', 'O', 'O', 'O', 'O', 'O', 'O', 'O', 'O', 'O', 'O', 'O', 'O', 'O', 'O', 'O', 'O', 'O', 'O', 'O', 'O', 'O', 'O', 'O', 'O', 'O', 'O', 'O', 'O', 'B-FUNC', 'I-FUNC', 'O', 'O', 'O', 'O']\n",
      "['', '', '', ['ApplyTo-0-B'], ['ApplyTo-0-B'], ['ApplyTo-0-B'], '', '', '', '', '', '', '', '', '', '', '', '', '', '', '', '', '', '', '', '', '', '', '', '', '', '', '', '', '', '', '', '', '', '', ['ApplyTo-0-A'], ['ApplyTo-0-A'], '', '', '', '']\n",
      "\n",
      "True input\n",
      "['本', '身', '是', '油', '性', '肌', '，', '長', '期', '待', '在', '乾', '燥', '的', '冷', '氣', '房', '裡', '工', '作', '，', '皮', '膚', '容', '易', '缺', '水', '、', '出', '油', '，', '在', '選', '擇', '底', '妝', '時', '很', '重', '視', '保', '濕', '及', '控', '油', '力']\n",
      "['O', 'O', 'O', 'B-STAT', 'I-STAT', 'I-STAT', 'O', 'O', 'O', 'O', 'O', 'O', 'O', 'O', 'O', 'O', 'O', 'O', 'O', 'O', 'O', 'O', 'O', 'O', 'O', 'O', 'O', 'O', 'O', 'O', 'O', 'O', 'O', 'O', 'O', 'O', 'O', 'O', 'O', 'O', 'B-FUNC', 'I-FUNC', 'O', 'O', 'O', 'O']\n",
      "['', '', '', [], [], [], '', '', '', '', '', '', '', '', '', '', '', '', '', '', '', '', '', '', '', '', '', '', '', '', '', '', '', '', '', '', '', '', '', '', [], [], '', '', '', '']\n",
      "\n",
      "==========================\n",
      "\n",
      "['保', '濕', '修', '護', '，', '適', '用', '於', '一', '般', '、', '敏', '感', '或', '乾', '性', '肌', '膚', '使', '用']\n",
      "['B-FUNC', 'I-FUNC', 'O', 'O', 'O', 'O', 'O', 'O', 'O', 'O', 'O', 'O', 'O', 'O', 'B-STAT', 'I-STAT', 'I-STAT', 'I-STAT', 'O', 'O']\n",
      "[['ApplyTo-0-A'], ['ApplyTo-0-A'], '', '', '', '', '', '', '', '', '', '', '', '', ['ApplyTo-0-B'], ['ApplyTo-0-B'], ['ApplyTo-0-B'], ['ApplyTo-0-B'], '', '']\n",
      "\n",
      "True input\n",
      "['保', '濕', '修', '護', '，', '適', '用', '於', '一', '般', '、', '敏', '感', '或', '乾', '性', '肌', '膚', '使', '用']\n",
      "['B-FUNC', 'I-FUNC', 'O', 'O', 'O', 'O', 'O', 'O', 'O', 'O', 'O', 'O', 'O', 'O', 'B-STAT', 'I-STAT', 'I-STAT', 'I-STAT', 'O', 'O']\n",
      "[['ApplyTo-0-A'], ['ApplyTo-0-A'], '', '', '', '', '', '', '', '', '', '', '', '', ['ApplyTo-0-B'], ['ApplyTo-0-B'], ['ApplyTo-0-B'], ['ApplyTo-0-B'], '', '']\n",
      "\n",
      "==========================\n",
      "\n",
      "['使', '用', '後', '可', '以', '感', '受', '到', '洗', '臉', '後', '乾', '燥', '的', '肌', '膚', '得', '到', '舒', '緩']\n",
      "['O', 'O', 'O', 'O', 'O', 'O', 'O', 'O', 'O', 'O', 'O', 'B-STAT', 'I-STAT', 'I-STAT', 'I-STAT', 'I-STAT', 'O', 'O', 'B-FUNC', 'I-FUNC']\n",
      "['', '', '', '', '', '', '', '', '', '', '', ['ApplyTo-0-B'], ['ApplyTo-0-B'], ['ApplyTo-0-B'], ['ApplyTo-0-B'], ['ApplyTo-0-B'], '', '', ['ApplyTo-0-A'], ['ApplyTo-0-A']]\n",
      "\n",
      "True input\n",
      "['使', '用', '後', '可', '以', '感', '受', '到', '洗', '臉', '後', '乾', '燥', '的', '肌', '膚', '得', '到', '舒', '緩']\n",
      "['O', 'O', 'O', 'O', 'O', 'O', 'O', 'O', 'O', 'O', 'O', 'B-STAT', 'I-STAT', 'I-STAT', 'I-STAT', 'I-STAT', 'O', 'O', 'B-FUNC', 'I-FUNC']\n",
      "['', '', '', '', '', '', '', '', '', '', '', [], [], [], [], [], '', '', [], []]\n",
      "\n",
      "==========================\n",
      "\n",
      "['3', '.', '稠', '狀', '的', '精', '華', '液', '劑', '型', '，', '吸', '收', '快', '速', '不', '黏', '膩', '，', '使', '用', '完', '後', '，', '可', '改', '善', '肌', '膚', '觸', '感', '，', '長', '期', '使', '用', '，', '解', '決', '肌', '膚', '乾', '燥', '引', '起', '的', '細', '紋', '，', '增', '加', '肌', '膚', '保', '水', '度', '，', '給', '予', '絲', '絨', '般', '的', '柔', '嫩', '膚', '質']\n",
      "['O', 'O', 'O', 'O', 'O', 'O', 'O', 'O', 'O', 'O', 'O', 'O', 'O', 'O', 'O', 'O', 'O', 'O', 'O', 'O', 'O', 'O', 'O', 'O', 'O', 'O', 'O', 'B-STAT', 'I-STAT', 'O', 'O', 'O', 'O', 'O', 'O', 'O', 'O', 'O', 'O', 'B-STAT', 'I-STAT', 'I-STAT', 'I-STAT', 'O', 'O', 'O', 'O', 'O', 'O', 'O', 'O', 'O', 'O', 'O', 'O', 'O', 'O', 'O', 'O', 'O', 'O', 'O', 'O', 'B-FUNC', 'I-FUNC', 'I-STAT', 'I-STAT']\n",
      "['', '', '', '', '', '', '', '', '', '', '', '', '', '', '', '', '', '', '', '', '', '', '', '', '', '', '', [], [], '', '', '', '', '', '', '', '', '', '', [], [], [], [], '', '', '', '', '', '', '', '', '', '', '', '', '', '', '', '', '', '', '', '', [], [], [], []]\n",
      "\n",
      "True input\n",
      "['3', '.', '稠', '狀', '的', '精', '華', '液', '劑', '型', '，', '吸', '收', '快', '速', '不', '黏', '膩', '，', '使', '用', '完', '後', '，', '可', '改', '善', '肌', '膚', '觸', '感', '，', '長', '期', '使', '用', '，', '解', '決', '肌', '膚', '乾', '燥', '引', '起', '的', '細', '紋', '，', '增', '加', '肌', '膚', '保', '水', '度', '，', '給', '予', '絲', '絨', '般', '的', '柔', '嫩', '膚', '質']\n",
      "['O', 'O', 'O', 'O', 'O', 'O', 'O', 'O', 'O', 'O', 'O', 'O', 'O', 'O', 'O', 'O', 'O', 'O', 'O', 'O', 'O', 'O', 'O', 'O', 'O', 'O', 'O', 'O', 'O', 'O', 'O', 'O', 'O', 'O', 'O', 'O', 'O', 'O', 'O', 'B-STAT', 'I-STAT', 'I-STAT', 'I-STAT', 'O', 'O', 'O', 'O', 'O', 'O', 'O', 'O', 'O', 'O', 'O', 'O', 'O', 'O', 'O', 'O', 'O', 'O', 'O', 'O', 'O', 'O', 'O', 'O']\n",
      "['', '', '', '', '', '', '', '', '', '', '', '', '', '', '', '', '', '', '', '', '', '', '', '', '', '', '', '', '', '', '', '', '', '', '', '', '', '', '', [], [], [], [], '', '', '', '', '', '', '', '', '', '', '', '', '', '', '', '', '', '', '', '', '', '', '', '']\n",
      "\n",
      "==========================\n",
      "\n",
      "['這', '次', '試', '用', '全', '效', '舒', '緩', '精', '華', '液', '，', '令', '敏', '感', '肌', '的', '我', '很', '滿', '意', '它', '的', '效', '果']\n",
      "['O', 'O', 'O', 'O', 'O', 'O', 'B-FUNC', 'I-FUNC', 'O', 'O', 'O', 'O', 'O', 'B-STAT', 'I-STAT', 'I-STAT', 'O', 'O', 'O', 'O', 'O', 'O', 'O', 'O', 'O']\n",
      "['', '', '', '', '', '', ['ApplyTo-0-A'], ['ApplyTo-0-A'], '', '', '', '', '', ['ApplyTo-0-B'], ['ApplyTo-0-B'], ['ApplyTo-0-B'], '', '', '', '', '', '', '', '', '']\n",
      "\n",
      "True input\n",
      "['這', '次', '試', '用', '全', '效', '舒', '緩', '精', '華', '液', '，', '令', '敏', '感', '肌', '的', '我', '很', '滿', '意', '它', '的', '效', '果']\n",
      "['O', 'O', 'O', 'O', 'O', 'O', 'O', 'O', 'O', 'O', 'O', 'O', 'O', 'B-STAT', 'I-STAT', 'I-STAT', 'O', 'O', 'O', 'O', 'O', 'O', 'O', 'O', 'O']\n",
      "['', '', '', '', '', '', '', '', '', '', '', '', '', [], [], [], '', '', '', '', '', '', '', '', '']\n",
      "\n",
      "==========================\n",
      "\n",
      "['整', '體', '使', '用', '感', '覺', '，', '覺', '得', '保', '濕', '度', '有', '，', '但', '是', '稍', '微', '黏', '膩', '了', '點', '，', '我', '是', '混', '和', '篇', '油', '性', '稍', '敏', '感', '肌', '膚', '，', '有', '些', '產', '品', '用', '完', '後', '會', '有', '紅', '紅', '的', '現', '象', '，', '這', '個', '產', '品', '倒', '是', '不', '會', '，', '表', '示', '如', '果', '是', '乾', '性', '或', '是', '敏', '感', '肌', '來', '用', '應', '該', 'O', 'K']\n",
      "['O', 'O', 'O', 'O', 'O', 'O', 'O', 'O', 'O', 'B-FUNC', 'I-FUNC', 'I-FUNC', 'O', 'O', 'O', 'O', 'O', 'O', 'O', 'O', 'O', 'O', 'O', 'O', 'O', 'O', 'O', 'O', 'O', 'O', 'O', 'B-STAT', 'I-STAT', 'I-STAT', 'I-STAT', 'O', 'O', 'O', 'O', 'O', 'O', 'O', 'O', 'O', 'O', 'O', 'O', 'O', 'O', 'O', 'O', 'O', 'O', 'O', 'O', 'O', 'O', 'O', 'O', 'O', 'O', 'O', 'O', 'O', 'O', 'O', 'O', 'O', 'O', 'B-STAT', 'I-STAT', 'I-STAT', 'O', 'O', 'O', 'O', 'O', 'O']\n",
      "['', '', '', '', '', '', '', '', '', ['ApplyTo-0-A'], ['ApplyTo-0-A'], ['ApplyTo-0-A'], '', '', '', '', '', '', '', '', '', '', '', '', '', '', '', '', '', '', '', ['ApplyTo-0-B'], ['ApplyTo-0-B'], ['ApplyTo-0-B'], ['ApplyTo-0-B'], '', '', '', '', '', '', '', '', '', '', '', '', '', '', '', '', '', '', '', '', '', '', '', '', '', '', '', '', '', '', '', '', '', '', '', '', '', '', '', '', '', '', '']\n",
      "\n",
      "True input\n",
      "['整', '體', '使', '用', '感', '覺', '，', '覺', '得', '保', '濕', '度', '有', '，', '但', '是', '稍', '微', '黏', '膩', '了', '點', '，', '我', '是', '混', '和', '篇', '油', '性', '稍', '敏', '感', '肌', '膚', '，', '有', '些', '產', '品', '用', '完', '後', '會', '有', '紅', '紅', '的', '現', '象', '，', '這', '個', '產', '品', '倒', '是', '不', '會', '，', '表', '示', '如', '果', '是', '乾', '性', '或', '是', '敏', '感', '肌', '來', '用', '應', '該', 'O', 'K']\n",
      "['O', 'O', 'O', 'O', 'O', 'O', 'O', 'O', 'O', 'B-FUNC', 'I-FUNC', 'I-FUNC', 'O', 'O', 'O', 'O', 'O', 'O', 'O', 'O', 'O', 'O', 'O', 'O', 'O', 'O', 'O', 'O', 'O', 'O', 'O', 'B-STAT', 'I-STAT', 'I-STAT', 'I-STAT', 'O', 'O', 'O', 'O', 'O', 'O', 'O', 'O', 'O', 'O', 'O', 'O', 'O', 'O', 'O', 'O', 'O', 'O', 'O', 'O', 'O', 'O', 'O', 'O', 'O', 'O', 'O', 'O', 'O', 'O', 'O', 'O', 'O', 'O', 'B-STAT', 'I-STAT', 'I-STAT', 'O', 'O', 'O', 'O', 'O', 'O']\n",
      "['', '', '', '', '', '', '', '', '', ['ApplyTo-0-A'], ['ApplyTo-0-A'], ['ApplyTo-0-A'], '', '', '', '', '', '', '', '', '', '', '', '', '', '', '', '', '', '', '', ['ApplyTo-0-B'], ['ApplyTo-0-B'], ['ApplyTo-0-B'], ['ApplyTo-0-B'], '', '', '', '', '', '', '', '', '', '', '', '', '', '', '', '', '', '', '', '', '', '', '', '', '', '', '', '', '', '', '', '', '', '', '', '', '', '', '', '', '', '', '']\n",
      "\n",
      "==========================\n",
      "\n"
     ]
    },
    {
     "name": "stdout",
     "output_type": "stream",
     "text": [
      "['個', '人', '覺', '得', '很', '保', '濕', '~', '~', '之', '後', '所', '擦', '的', '保', '養', '品', '~', '都', '不', '會', '感', '覺', '皮', '膚', '乾', '燥']\n",
      "['O', 'O', 'O', 'O', 'O', 'B-FUNC', 'I-FUNC', 'O', 'O', 'O', 'O', 'O', 'O', 'O', 'B-FUNC', 'I-FUNC', 'O', 'O', 'O', 'O', 'O', 'O', 'O', 'B-STAT', 'I-STAT', 'I-STAT', 'I-STAT']\n",
      "['', '', '', '', '', ['ApplyTo-0-A'], ['ApplyTo-0-A'], '', '', '', '', '', '', '', [], [], '', '', '', '', '', '', '', '', '', '', '']\n",
      "\n",
      "True input\n",
      "['個', '人', '覺', '得', '很', '保', '濕', '~', '~', '之', '後', '所', '擦', '的', '保', '養', '品', '~', '都', '不', '會', '感', '覺', '皮', '膚', '乾', '燥']\n",
      "['O', 'O', 'O', 'O', 'O', 'B-FUNC', 'I-FUNC', 'O', 'O', 'O', 'O', 'O', 'O', 'O', 'O', 'O', 'O', 'O', 'O', 'O', 'O', 'O', 'O', 'B-STAT', 'I-STAT', 'I-STAT', 'I-STAT']\n",
      "['', '', '', '', '', ['ApplyTo-0-A'], ['ApplyTo-0-A'], '', '', '', '', '', '', '', '', '', '', '', '', '', '', '', '', ['ApplyTo-0-B'], ['ApplyTo-0-B'], ['ApplyTo-0-B'], ['ApplyTo-0-B']]\n",
      "\n",
      "==========================\n",
      "\n",
      "\n",
      "['冬 O ' '天 O ' '風 O ' '總 O ' '是 O ' '特 O ' '別 O ' '大 O ' '， O ' '如 O '\n",
      " '果 O ' '沒 O ' '有 O ' '做 O ' '好 O ' '保 B-FUNC ApplyTo-0-A '\n",
      " '養 I-FUNC ApplyTo-0-A ' '， O ' '會 O ' '感 O ' '覺 O ' '臉 O ' '很 O ' '緊 O '\n",
      " '繃 O ' '， O ' '乾 O ' '澀 O ' '乾 O ' '澀 O ' '的 O ' '， O ' '而 O ' '在 O '\n",
      " '這 O ' '種 O ' '天 O ' '氣 O ' '下 O ' '， O ' '使 O ' '用 O ' '這 O ' '款 O '\n",
      " '乳 O ' '液 O ' '後 O ' '， O ' '明 O ' '顯 O ' '覺 O ' '得 O ' '臉 O ' '變 O '\n",
      " '的 O ' '水 O ' '潤 O ' '、 O ' '很 O ' '保 O ' '溼 O ' '， O ' '對 O ' '於 O '\n",
      " '偏 O ' '油 B-STAT ApplyTo-0-B ' '性 I-STAT ApplyTo-0-B '\n",
      " '膚 I-STAT ApplyTo-0-B ' '質 I-STAT ApplyTo-0-B ' '的 O ' '我 O ' '來 O '\n",
      " '說 O ' '， O ' '這 O ' '款 O ' '乳 O ' '液 O ' '正 O ' '是 O ' '我 O ' '需 O '\n",
      " '要 O ' '的 O ' '呢 O ' ' ' '推 O ' '薦 O ' '給 O ' '大 O ' '家 O ' ', O ' '可 O '\n",
      " '以 O ' '去 O ' '買 O ' '來 O ' '用 O ' '用 O ' '看 O ' ', O ' '秋 O ' '天 O '\n",
      " '到 O ' '了 O ' '內 O ' ', O ' '皮 B-STAT ' '膚 I-STAT ' '乾 I-STAT '\n",
      " '燥 I-STAT ' '情 O ' '形 O ' '多 O ' ', O ' '要 O ' '提 O ' '早 O ' '保 B-FUNC '\n",
      " '養 I-FUNC ' '內 O ' ' ' '我 O ' '是 O ' '混 B-STAT ApplyTo-0-B '\n",
      " '合 I-STAT ApplyTo-0-B ' '肌 I-STAT ApplyTo-0-B ' '. O ' '. O ' '. O '\n",
      " '最 O ' '怕 O ' '使 O ' '用 O ' '保 B-FUNC ApplyTo-0-A '\n",
      " '濕 I-FUNC ApplyTo-0-A ' '的 O ' '東 O ' '西 O ' '. O ' '. O ' '油 O ' '油 O '\n",
      " '又 O ' '黏 O ' '黏 O ' '的 O ' '. O ' '. O ' ' ' '本 O ' '來 O ' '很 O '\n",
      " '乾 B-STAT ApplyTo-0-B ' '的 I-STAT ApplyTo-0-B ' '肌 I-STAT ApplyTo-0-B '\n",
      " '膚 I-STAT ApplyTo-0-B ' '， O ' '使 O ' '用 O ' '後 O ' '變 O ' '的 O ' '保 O '\n",
      " '水 O ' '柔 B-FUNC ApplyTo-0-A ' '嫩 I-FUNC ApplyTo-0-A ' '， O ' ' ' '使 O '\n",
      " '用 O ' '本 O ' '產 O ' '品 O ' '前 O ' '個 O ' '人 O ' '肌 O ' '膚 O '\n",
      " '混 B-STAT ApplyTo-0-B ' '合 I-STAT ApplyTo-0-B ' '肌 I-STAT ApplyTo-0-B '\n",
      " '用 O ' '保 B-FUNC ApplyTo-0-A ' '濕 I-FUNC ApplyTo-0-A ' '產 O ' '品 O '\n",
      " '把 O ' '全 O ' '臉 O ' '保 B-FUNC ' '養 I-FUNC ' '到 O ' '油 O ' '水 O ' '平 O '\n",
      " '衡 O ' 't O ' '字 O ' '不 O ' '出 O ' '油 O ' '& O ' '鼻 O ' '頭 O ' '不 O '\n",
      " '脫 O ' '皮 O ' ' ' '基 O ' '本 O ' '上 O ' '我 O ' '是 O '\n",
      " '油 B-STAT ApplyTo-0-B ' '性 I-STAT ApplyTo-0-B ' '肌 I-STAT ApplyTo-0-B '\n",
      " '， O ' '但 O ' '又 O ' '是 O ' '會 O ' '乾 O ' '到 O ' '狂 O ' '出 O ' '油 O '\n",
      " '. O ' '. O ' '. O ' '所 O ' '以 O ' '我 O ' '需 O ' '要 O '\n",
      " '保 B-FUNC ApplyTo-0-A ' '濕 I-FUNC ApplyTo-0-A ' '度 I-FUNC ApplyTo-0-A '\n",
      " '很 O ' '高 O ' '的 O ' '臉 O ' '部 O ' '產 O ' '品 O ' '這 O ' '款 O ' '洗 O '\n",
      " '顏 O ' '皂 O ' '霜 O ' '， O ' '他 O ' '沒 O ' '什 O ' '麼 O ' '味 O ' '道 O '\n",
      " '， O ' '也 O ' '很 O ' '好 O ' '起 O ' '泡 O ' '. O ' '. O ' '. O ' '我 O '\n",
      " '是 O ' '還 O ' '有 O ' '配 O ' '合 O ' '洗 O ' '顏 O ' '海 O ' '棉 O ' '在 O '\n",
      " '使 O ' '用 O ' '， O ' '所 O ' '以 O ' '泡 O ' '泡 O ' '還 O ' '蠻 O ' '細 O '\n",
      " '的 O ' ' ' '沒 O ' '有 O ' '一 O ' '般 O ' '保 B-FUNC ApplyTo-0-A '\n",
      " '濕 I-FUNC ApplyTo-0-A ' '產 O ' '品 O ' '只 O ' '有 O ' '暫 O ' '時 O '\n",
      " '保 B-FUNC ' '濕 I-FUNC ' '的 O ' '假 O ' '象 O ' '， O ' '而 O ' '是 O ' '可 O '\n",
      " '以 O ' '維 O ' '持 O ' '從 O ' '早 O ' '到 O ' '晚 O ' '的 O ' '保 B-FUNC '\n",
      " '濕 I-FUNC ' '感 O ' '， O ' '讓 O ' '我 O ' '這 O ' '種 O ' '熟 O ' '齡 O '\n",
      " '乾 B-STAT ' '燥 I-STAT ' '肌 I-STAT ' '膚 I-STAT ' '在 O ' '外 O ' '奔 O '\n",
      " '波 O ' '整 O ' '天 O ' '也 O ' '不 O ' '輕 O ' '易 O ' '顯 O ' '乾 O ' '而 O '\n",
      " '妝 O ' '糊 O ' '， O ' '保 B-FUNC ' '濕 I-FUNC ' '效 O ' '果 O ' '堪 O ' '稱 O '\n",
      " '優 O ' '異 O ' ' ' '因 O ' '為 O ' '本 O ' '人 O ' '皮 O ' '膚 O ' '是 O ' '屬 O '\n",
      " '於 O ' '比 O ' '較 O ' '中 O ' '性 O ' '偏 O ' '乾 B-STAT ' '敏 I-STAT '\n",
      " '感 I-STAT ' '肌 I-STAT ' '， O ' '所 O ' '以 O ' '在 O ' '選 O ' '擇 O '\n",
      " '保 B-FUNC ' '養 I-FUNC ' '品 O ' '最 O ' '怕 O ' '就 O ' '是 O ' '會 O ' '過 O '\n",
      " '敏 O ' '、 O ' '紅 O ' '腫 O ' '、 O ' '癢 O ' '， O ' '或 O ' '是 O '\n",
      " '保 B-FUNC ' '養 I-FUNC ' '使 O ' '用 O ' '後 O ' '臉 O ' '部 O ' '呈 O ' '現 O '\n",
      " '出 B-STAT ' '濕 I-STAT ' '黏 O ' '的 O ' '狀 O ' '態 O ' '會 O ' '很 O ' '不 O '\n",
      " '舒 O ' '服 O ' ' ' '非 O ' '常 O ' '推 O ' '薦 O ' '秋 O ' '冬 O ' '急 O ' '需 O '\n",
      " '保 B-FUNC ApplyTo-0-A ' '濕 I-FUNC ApplyTo-0-A ' '的 O '\n",
      " '乾 B-STAT ApplyTo-0-B ' '燥 I-STAT ApplyTo-0-B ' '肌 I-STAT ApplyTo-0-B '\n",
      " '膚 I-STAT ApplyTo-0-B ' '使 O ' '用 O ' '喔 O ' ' ' '保 B-FUNC ApplyTo-0-A '\n",
      " '濕 I-FUNC ApplyTo-0-A ' '效 O ' '果 O ' '好 O ' '能 O ' '讓 O '\n",
      " '皮 B-STAT ApplyTo-0-B ' '膚 I-STAT ApplyTo-0-B ' '出 I-STAT ApplyTo-0-B '\n",
      " '油 I-STAT ApplyTo-0-B ' '比 O ' '較 O ' '慢 O ' ', O ' '也 O ' '比 O ' '較 O '\n",
      " '能 O ' '吃 O ' '妝 O ' '~ O ' ' ' '總 O ' '結 O ' '就 O ' '是 O ' '. O ' '我 O '\n",
      " '覺 O ' '得 O ' '對 O ' '乾 B-STAT ApplyTo-0-B ' '肌 I-STAT ApplyTo-0-B '\n",
      " '來 O ' '說 O ' '. O ' '. O ' '保 B-FUNC ApplyTo-0-A '\n",
      " '濕 I-FUNC ApplyTo-0-A ' '度 I-FUNC ApplyTo-0-A ' '很 O ' '好 O ' '. O '\n",
      " '修 O ' '護 O ' '效 O ' '果 O ' '也 O ' '很 O ' '明 O ' '顯 O ' '的 O ' '產 O '\n",
      " '品 O ' '. O ' '. O ' ' ' '本 O ' '身 O ' '是 O ' '油 B-STAT ApplyTo-0-B '\n",
      " '性 I-STAT ApplyTo-0-B ' '肌 I-STAT ApplyTo-0-B ' '， O ' '長 O ' '期 O '\n",
      " '待 O ' '在 O ' '乾 O ' '燥 O ' '的 O ' '冷 O ' '氣 O ' '房 O ' '裡 O ' '工 O '\n",
      " '作 O ' '， O ' '皮 O ' '膚 O ' '容 O ' '易 O ' '缺 O ' '水 O ' '、 O ' '出 O '\n",
      " '油 O ' '， O ' '在 O ' '選 O ' '擇 O ' '底 O ' '妝 O ' '時 O ' '很 O ' '重 O '\n",
      " '視 O ' '保 B-FUNC ApplyTo-0-A ' '濕 I-FUNC ApplyTo-0-A ' '及 O ' '控 O '\n",
      " '油 O ' '力 O ' ' ' '保 B-FUNC ApplyTo-0-A ' '濕 I-FUNC ApplyTo-0-A ' '修 O '\n",
      " '護 O ' '， O ' '適 O ' '用 O ' '於 O ' '一 O ' '般 O ' '、 O ' '敏 O ' '感 O '\n",
      " '或 O ' '乾 B-STAT ApplyTo-0-B ' '性 I-STAT ApplyTo-0-B '\n",
      " '肌 I-STAT ApplyTo-0-B ' '膚 I-STAT ApplyTo-0-B ' '使 O ' '用 O ' ' ' '使 O '\n",
      " '用 O ' '後 O ' '可 O ' '以 O ' '感 O ' '受 O ' '到 O ' '洗 O ' '臉 O ' '後 O '\n",
      " '乾 B-STAT ApplyTo-0-B ' '燥 I-STAT ApplyTo-0-B ' '的 I-STAT ApplyTo-0-B '\n",
      " '肌 I-STAT ApplyTo-0-B ' '膚 I-STAT ApplyTo-0-B ' '得 O ' '到 O '\n",
      " '舒 B-FUNC ApplyTo-0-A ' '緩 I-FUNC ApplyTo-0-A ' ' ' '3 O ' '. O ' '稠 O '\n",
      " '狀 O ' '的 O ' '精 O ' '華 O ' '液 O ' '劑 O ' '型 O ' '， O ' '吸 O ' '收 O '\n",
      " '快 O ' '速 O ' '不 O ' '黏 O ' '膩 O ' '， O ' '使 O ' '用 O ' '完 O ' '後 O '\n",
      " '， O ' '可 O ' '改 O ' '善 O ' '肌 B-STAT ' '膚 I-STAT ' '觸 O ' '感 O ' '， O '\n",
      " '長 O ' '期 O ' '使 O ' '用 O ' '， O ' '解 O ' '決 O ' '肌 B-STAT ' '膚 I-STAT '\n",
      " '乾 I-STAT ' '燥 I-STAT ' '引 O ' '起 O ' '的 O ' '細 O ' '紋 O ' '， O ' '增 O '\n",
      " '加 O ' '肌 O ' '膚 O ' '保 O ' '水 O ' '度 O ' '， O ' '給 O ' '予 O ' '絲 O '\n",
      " '絨 O ' '般 O ' '的 O ' '柔 B-FUNC ' '嫩 I-FUNC ' '膚 I-STAT ' '質 I-STAT ' ' '\n",
      " '這 O ' '次 O ' '試 O ' '用 O ' '全 O ' '效 O ' '舒 B-FUNC ApplyTo-0-A '\n",
      " '緩 I-FUNC ApplyTo-0-A ' '精 O ' '華 O ' '液 O ' '， O ' '令 O '\n",
      " '敏 B-STAT ApplyTo-0-B ' '感 I-STAT ApplyTo-0-B ' '肌 I-STAT ApplyTo-0-B '\n",
      " '的 O ' '我 O ' '很 O ' '滿 O ' '意 O ' '它 O ' '的 O ' '效 O ' '果 O ' ' ' '整 O '\n",
      " '體 O ' '使 O ' '用 O ' '感 O ' '覺 O ' '， O ' '覺 O ' '得 O '\n",
      " '保 B-FUNC ApplyTo-0-A ' '濕 I-FUNC ApplyTo-0-A ' '度 I-FUNC ApplyTo-0-A '\n",
      " '有 O ' '， O ' '但 O ' '是 O ' '稍 O ' '微 O ' '黏 O ' '膩 O ' '了 O ' '點 O '\n",
      " '， O ' '我 O ' '是 O ' '混 O ' '和 O ' '篇 O ' '油 O ' '性 O ' '稍 O '\n",
      " '敏 B-STAT ApplyTo-0-B ' '感 I-STAT ApplyTo-0-B ' '肌 I-STAT ApplyTo-0-B '\n",
      " '膚 I-STAT ApplyTo-0-B ' '， O ' '有 O ' '些 O ' '產 O ' '品 O ' '用 O ' '完 O '\n",
      " '後 O ' '會 O ' '有 O ' '紅 O ' '紅 O ' '的 O ' '現 O ' '象 O ' '， O ' '這 O '\n",
      " '個 O ' '產 O ' '品 O ' '倒 O ' '是 O ' '不 O ' '會 O ' '， O ' '表 O ' '示 O '\n",
      " '如 O ' '果 O ' '是 O ' '乾 O ' '性 O ' '或 O ' '是 O ' '敏 B-STAT ' '感 I-STAT '\n",
      " '肌 I-STAT ' '來 O ' '用 O ' '應 O ' '該 O ' 'O O ' 'K O ' ' ' '個 O ' '人 O '\n",
      " '覺 O ' '得 O ' '很 O ' '保 B-FUNC ApplyTo-0-A ' '濕 I-FUNC ApplyTo-0-A '\n",
      " '~ O ' '~ O ' '之 O ' '後 O ' '所 O ' '擦 O ' '的 O ' '保 B-FUNC ' '養 I-FUNC '\n",
      " '品 O ' '~ O ' '都 O ' '不 O ' '會 O ' '感 O ' '覺 O ' '皮 B-STAT ' '膚 I-STAT '\n",
      " '乾 I-STAT ' '燥 I-STAT ' ' ']\n",
      "['冬 O ' '天 O ' '風 O ' '總 O ' '是 O ' '特 O ' '別 O ' '大 O ' '， O ' '如 O '\n",
      " '果 O ' '沒 O ' '有 O ' '做 O ' '好 O ' '保 O ' '養 O ' '， O ' '會 O ' '感 O '\n",
      " '覺 O ' '臉 O ' '很 O ' '緊 O ' '繃 O ' '， O ' '乾 O ' '澀 O ' '乾 O ' '澀 O '\n",
      " '的 O ' '， O ' '而 O ' '在 O ' '這 O ' '種 O ' '天 O ' '氣 O ' '下 O ' '， O '\n",
      " '使 O ' '用 O ' '這 O ' '款 O ' '乳 O ' '液 O ' '後 O ' '， O ' '明 O ' '顯 O '\n",
      " '覺 O ' '得 O ' '臉 O ' '變 O ' '的 O ' '水 O ' '潤 O ' '、 O ' '很 O ' '保 O '\n",
      " '溼 O ' '， O ' '對 O ' '於 O ' '偏 O ' '油 B-STAT ' '性 I-STAT ' '膚 I-STAT '\n",
      " '質 I-STAT ' '的 O ' '我 O ' '來 O ' '說 O ' '， O ' '這 O ' '款 O ' '乳 O '\n",
      " '液 O ' '正 O ' '是 O ' '我 O ' '需 O ' '要 O ' '的 O ' '呢 O ' ' ' '推 O ' '薦 O '\n",
      " '給 O ' '大 O ' '家 O ' ', O ' '可 O ' '以 O ' '去 O ' '買 O ' '來 O ' '用 O '\n",
      " '用 O ' '看 O ' ', O ' '秋 O ' '天 O ' '到 O ' '了 O ' '內 O ' ', O '\n",
      " '皮 B-STAT ' '膚 I-STAT ' '乾 I-STAT ' '燥 I-STAT ' '情 O ' '形 O ' '多 O '\n",
      " ', O ' '要 O ' '提 O ' '早 O ' '保 O ' '養 O ' '內 O ' ' ' '我 O ' '是 O '\n",
      " '混 B-STAT ' '合 I-STAT ' '肌 I-STAT ' '. O ' '. O ' '. O ' '最 O ' '怕 O '\n",
      " '使 O ' '用 O ' '保 O ' '濕 O ' '的 O ' '東 O ' '西 O ' '. O ' '. O ' '油 O '\n",
      " '油 O ' '又 O ' '黏 O ' '黏 O ' '的 O ' '. O ' '. O ' ' ' '本 O ' '來 O ' '很 O '\n",
      " '乾 B-STAT ApplyTo-0-B ' '的 I-STAT ApplyTo-0-B ' '肌 I-STAT ApplyTo-0-B '\n",
      " '膚 I-STAT ApplyTo-0-B ' '， O ' '使 O ' '用 O ' '後 O ' '變 O ' '的 O ' '保 O '\n",
      " '水 O ' '柔 B-FUNC ApplyTo-0-A ' '嫩 I-FUNC ApplyTo-0-A ' '， O ' ' ' '使 O '\n",
      " '用 O ' '本 O ' '產 O ' '品 O ' '前 O ' '個 O ' '人 O ' '肌 O ' '膚 O '\n",
      " '混 B-STAT ' '合 I-STAT ' '肌 I-STAT ' '用 O ' '保 O ' '濕 O ' '產 O ' '品 O '\n",
      " '把 O ' '全 O ' '臉 O ' '保 B-FUNC ' '養 I-FUNC ' '到 O ' '油 O ' '水 O ' '平 O '\n",
      " '衡 O ' 't O ' '字 O ' '不 O ' '出 O ' '油 O ' '& O ' '鼻 O ' '頭 O ' '不 O '\n",
      " '脫 O ' '皮 O ' ' ' '基 O ' '本 O ' '上 O ' '我 O ' '是 O ' '油 B-STAT '\n",
      " '性 I-STAT ' '肌 I-STAT ' '， O ' '但 O ' '又 O ' '是 O ' '會 O ' '乾 O ' '到 O '\n",
      " '狂 O ' '出 O ' '油 O ' '. O ' '. O ' '. O ' '所 O ' '以 O ' '我 O ' '需 O '\n",
      " '要 O ' '保 O ' '濕 O ' '度 O ' '很 O ' '高 O ' '的 O ' '臉 O ' '部 O ' '產 O '\n",
      " '品 O ' '這 O ' '款 O ' '洗 O ' '顏 O ' '皂 O ' '霜 O ' '， O ' '他 O ' '沒 O '\n",
      " '什 O ' '麼 O ' '味 O ' '道 O ' '， O ' '也 O ' '很 O ' '好 O ' '起 O ' '泡 O '\n",
      " '. O ' '. O ' '. O ' '我 O ' '是 O ' '還 O ' '有 O ' '配 O ' '合 O ' '洗 O '\n",
      " '顏 O ' '海 O ' '棉 O ' '在 O ' '使 O ' '用 O ' '， O ' '所 O ' '以 O ' '泡 O '\n",
      " '泡 O ' '還 O ' '蠻 O ' '細 O ' '的 O ' ' ' '沒 O ' '有 O ' '一 O ' '般 O '\n",
      " '保 B-FUNC ' '濕 I-FUNC ' '產 O ' '品 O ' '只 O ' '有 O ' '暫 O ' '時 O ' '保 O '\n",
      " '濕 O ' '的 O ' '假 O ' '象 O ' '， O ' '而 O ' '是 O ' '可 O ' '以 O ' '維 O '\n",
      " '持 O ' '從 O ' '早 O ' '到 O ' '晚 O ' '的 O ' '保 O ' '濕 O ' '感 O ' '， O '\n",
      " '讓 O ' '我 O ' '這 O ' '種 O ' '熟 O ' '齡 O ' '乾 B-STAT ApplyTo-0-B '\n",
      " '燥 I-STAT ApplyTo-0-B ' '肌 I-STAT ApplyTo-0-B ' '膚 I-STAT ApplyTo-0-B '\n",
      " '在 O ' '外 O ' '奔 O ' '波 O ' '整 O ' '天 O ' '也 O ' '不 O ' '輕 O ' '易 O '\n",
      " '顯 O ' '乾 O ' '而 O ' '妝 O ' '糊 O ' '， O ' '保 B-FUNC ApplyTo-0-A '\n",
      " '濕 I-FUNC ApplyTo-0-A ' '效 O ' '果 O ' '堪 O ' '稱 O ' '優 O ' '異 O ' ' '\n",
      " '因 O ' '為 O ' '本 O ' '人 O ' '皮 O ' '膚 O ' '是 O ' '屬 O ' '於 O ' '比 O '\n",
      " '較 O ' '中 O ' '性 O ' '偏 O ' '乾 O ' '敏 B-STAT ' '感 I-STAT ' '肌 I-STAT '\n",
      " '， O ' '所 O ' '以 O ' '在 O ' '選 O ' '擇 O ' '保 O ' '養 O ' '品 O ' '最 O '\n",
      " '怕 O ' '就 O ' '是 O ' '會 O ' '過 O ' '敏 O ' '、 O ' '紅 O ' '腫 O ' '、 O '\n",
      " '癢 O ' '， O ' '或 O ' '是 O ' '保 O ' '養 O ' '使 O ' '用 O ' '後 O ' '臉 O '\n",
      " '部 O ' '呈 O ' '現 O ' '出 O ' '濕 O ' '黏 O ' '的 O ' '狀 O ' '態 O ' '會 O '\n",
      " '很 O ' '不 O ' '舒 O ' '服 O ' ' ' '非 O ' '常 O ' '推 O ' '薦 O ' '秋 O ' '冬 O '\n",
      " '急 O ' '需 O ' '保 B-FUNC ApplyTo-0-A ' '濕 I-FUNC ApplyTo-0-A ' '的 O '\n",
      " '乾 B-STAT ApplyTo-0-B ' '燥 I-STAT ApplyTo-0-B ' '肌 I-STAT ApplyTo-0-B '\n",
      " '膚 I-STAT ApplyTo-0-B ' '使 O ' '用 O ' '喔 O ' ' ' '保 O ' '濕 O ' '效 O '\n",
      " '果 O ' '好 O ' '能 O ' '讓 O ' '皮 B-STAT ' '膚 I-STAT ' '出 I-STAT '\n",
      " '油 I-STAT ' '比 O ' '較 O ' '慢 O ' ', O ' '也 O ' '比 O ' '較 O ' '能 O '\n",
      " '吃 O ' '妝 O ' '~ O ' ' ' '總 O ' '結 O ' '就 O ' '是 O ' '. O ' '我 O ' '覺 O '\n",
      " '得 O ' '對 O ' '乾 B-STAT ApplyTo-0-B ' '肌 I-STAT ApplyTo-0-B ' '來 O '\n",
      " '說 O ' '. O ' '. O ' '保 B-FUNC ApplyTo-0-A ' '濕 I-FUNC ApplyTo-0-A '\n",
      " '度 I-FUNC ApplyTo-0-A ' '很 O ' '好 O ' '. O ' '修 O ' '護 O ' '效 O ' '果 O '\n",
      " '也 O ' '很 O ' '明 O ' '顯 O ' '的 O ' '產 O ' '品 O ' '. O ' '. O ' ' ' '本 O '\n",
      " '身 O ' '是 O ' '油 B-STAT ' '性 I-STAT ' '肌 I-STAT ' '， O ' '長 O ' '期 O '\n",
      " '待 O ' '在 O ' '乾 O ' '燥 O ' '的 O ' '冷 O ' '氣 O ' '房 O ' '裡 O ' '工 O '\n",
      " '作 O ' '， O ' '皮 O ' '膚 O ' '容 O ' '易 O ' '缺 O ' '水 O ' '、 O ' '出 O '\n",
      " '油 O ' '， O ' '在 O ' '選 O ' '擇 O ' '底 O ' '妝 O ' '時 O ' '很 O ' '重 O '\n",
      " '視 O ' '保 B-FUNC ' '濕 I-FUNC ' '及 O ' '控 O ' '油 O ' '力 O ' ' '\n",
      " '保 B-FUNC ApplyTo-0-A ' '濕 I-FUNC ApplyTo-0-A ' '修 O ' '護 O ' '， O '\n",
      " '適 O ' '用 O ' '於 O ' '一 O ' '般 O ' '、 O ' '敏 O ' '感 O ' '或 O '\n",
      " '乾 B-STAT ApplyTo-0-B ' '性 I-STAT ApplyTo-0-B ' '肌 I-STAT ApplyTo-0-B '\n",
      " '膚 I-STAT ApplyTo-0-B ' '使 O ' '用 O ' ' ' '使 O ' '用 O ' '後 O ' '可 O '\n",
      " '以 O ' '感 O ' '受 O ' '到 O ' '洗 O ' '臉 O ' '後 O ' '乾 B-STAT ' '燥 I-STAT '\n",
      " '的 I-STAT ' '肌 I-STAT ' '膚 I-STAT ' '得 O ' '到 O ' '舒 B-FUNC ' '緩 I-FUNC '\n",
      " ' ' '3 O ' '. O ' '稠 O ' '狀 O ' '的 O ' '精 O ' '華 O ' '液 O ' '劑 O ' '型 O '\n",
      " '， O ' '吸 O ' '收 O ' '快 O ' '速 O ' '不 O ' '黏 O ' '膩 O ' '， O ' '使 O '\n",
      " '用 O ' '完 O ' '後 O ' '， O ' '可 O ' '改 O ' '善 O ' '肌 O ' '膚 O ' '觸 O '\n",
      " '感 O ' '， O ' '長 O ' '期 O ' '使 O ' '用 O ' '， O ' '解 O ' '決 O '\n",
      " '肌 B-STAT ' '膚 I-STAT ' '乾 I-STAT ' '燥 I-STAT ' '引 O ' '起 O ' '的 O '\n",
      " '細 O ' '紋 O ' '， O ' '增 O ' '加 O ' '肌 O ' '膚 O ' '保 O ' '水 O ' '度 O '\n",
      " '， O ' '給 O ' '予 O ' '絲 O ' '絨 O ' '般 O ' '的 O ' '柔 O ' '嫩 O ' '膚 O '\n",
      " '質 O ' ' ' '這 O ' '次 O ' '試 O ' '用 O ' '全 O ' '效 O ' '舒 O ' '緩 O ' '精 O '\n",
      " '華 O ' '液 O ' '， O ' '令 O ' '敏 B-STAT ' '感 I-STAT ' '肌 I-STAT ' '的 O '\n",
      " '我 O ' '很 O ' '滿 O ' '意 O ' '它 O ' '的 O ' '效 O ' '果 O ' ' ' '整 O ' '體 O '\n",
      " '使 O ' '用 O ' '感 O ' '覺 O ' '， O ' '覺 O ' '得 O ' '保 B-FUNC ApplyTo-0-A '\n",
      " '濕 I-FUNC ApplyTo-0-A ' '度 I-FUNC ApplyTo-0-A ' '有 O ' '， O ' '但 O '\n",
      " '是 O ' '稍 O ' '微 O ' '黏 O ' '膩 O ' '了 O ' '點 O ' '， O ' '我 O ' '是 O '\n",
      " '混 O ' '和 O ' '篇 O ' '油 O ' '性 O ' '稍 O ' '敏 B-STAT ApplyTo-0-B '\n",
      " '感 I-STAT ApplyTo-0-B ' '肌 I-STAT ApplyTo-0-B ' '膚 I-STAT ApplyTo-0-B '\n",
      " '， O ' '有 O ' '些 O ' '產 O ' '品 O ' '用 O ' '完 O ' '後 O ' '會 O ' '有 O '\n",
      " '紅 O ' '紅 O ' '的 O ' '現 O ' '象 O ' '， O ' '這 O ' '個 O ' '產 O ' '品 O '\n",
      " '倒 O ' '是 O ' '不 O ' '會 O ' '， O ' '表 O ' '示 O ' '如 O ' '果 O ' '是 O '\n",
      " '乾 O ' '性 O ' '或 O ' '是 O ' '敏 B-STAT ' '感 I-STAT ' '肌 I-STAT ' '來 O '\n",
      " '用 O ' '應 O ' '該 O ' 'O O ' 'K O ' ' ' '個 O ' '人 O ' '覺 O ' '得 O ' '很 O '\n",
      " '保 B-FUNC ApplyTo-0-A ' '濕 I-FUNC ApplyTo-0-A ' '~ O ' '~ O ' '之 O '\n",
      " '後 O ' '所 O ' '擦 O ' '的 O ' '保 O ' '養 O ' '品 O ' '~ O ' '都 O ' '不 O '\n",
      " '會 O ' '感 O ' '覺 O ' '皮 B-STAT ApplyTo-0-B ' '膚 I-STAT ApplyTo-0-B '\n",
      " '乾 I-STAT ApplyTo-0-B ' '燥 I-STAT ApplyTo-0-B ' ' ']\n",
      "=================\n",
      "(0.904005048108038, 0.9089859199493752, 0.8999814768429192, None)\n",
      "\n",
      "==========================\n",
      "\n",
      "\n",
      "Entity loss : 0.0691\n",
      "Relation loss : 0.0015\n",
      "\n"
     ]
    },
    {
     "name": "stderr",
     "output_type": "stream",
     "text": [
      "/usr/local/lib/python3.5/dist-packages/sklearn/metrics/classification.py:1135: UndefinedMetricWarning: Precision and F-score are ill-defined and being set to 0.0 in labels with no predicted samples.\n",
      "  'precision', 'predicted', average, warn_for)\n",
      "/usr/local/lib/python3.5/dist-packages/sklearn/metrics/classification.py:1137: UndefinedMetricWarning: Recall and F-score are ill-defined and being set to 0.0 in labels with no true samples.\n",
      "  'recall', 'true', average, warn_for)\n"
     ]
    },
    {
     "name": "stdout",
     "output_type": "stream",
     "text": [
      "\n",
      "==========================\n",
      "\n",
      "\n",
      "==========================\n",
      "\n",
      "\n",
      "==========================\n",
      "\n",
      "\n",
      "==========================\n",
      "\n",
      "\n",
      "==========================\n",
      "\n",
      "\n",
      "==========================\n",
      "\n",
      "\n",
      "==========================\n",
      "\n",
      "\n",
      "==========================\n",
      "\n",
      "\n",
      "==========================\n",
      "\n",
      "\n",
      "==========================\n",
      "\n",
      "\n",
      "==========================\n",
      "\n",
      "\n",
      "==========================\n",
      "\n",
      "\n",
      "==========================\n",
      "\n",
      "\n",
      "==========================\n",
      "\n",
      "\n",
      "==========================\n",
      "\n",
      "\n",
      "==========================\n",
      "\n",
      "\n",
      "==========================\n",
      "\n"
     ]
    },
    {
     "ename": "AttributeError",
     "evalue": "'str' object has no attribute 'append'",
     "output_type": "error",
     "traceback": [
      "\u001b[0;31m\u001b[0m",
      "\u001b[0;31mAttributeError\u001b[0mTraceback (most recent call last)",
      "\u001b[0;32m<ipython-input-129-924c3b7e1742>\u001b[0m in \u001b[0;36m<module>\u001b[0;34m()\u001b[0m\n\u001b[1;32m     16\u001b[0m         \u001b[0mprint\u001b[0m\u001b[0;34m(\u001b[0m\u001b[0;34m)\u001b[0m\u001b[0;34m\u001b[0m\u001b[0m\n\u001b[1;32m     17\u001b[0m \u001b[0;34m\u001b[0m\u001b[0m\n\u001b[0;32m---> 18\u001b[0;31m         \u001b[0mbatch_decode\u001b[0m\u001b[0;34m(\u001b[0m\u001b[0ment_output\u001b[0m\u001b[0;34m,\u001b[0m \u001b[0mrel_output\u001b[0m\u001b[0;34m,\u001b[0m \u001b[0mbatch_index\u001b[0m\u001b[0;34m,\u001b[0m \u001b[0mraw_input_test\u001b[0m\u001b[0;34m,\u001b[0m                      \u001b[0mbatch_ent\u001b[0m\u001b[0;34m,\u001b[0m \u001b[0mbatch_rel\u001b[0m\u001b[0;34m)\u001b[0m\u001b[0;34m\u001b[0m\u001b[0m\n\u001b[0m\u001b[1;32m     19\u001b[0m         \u001b[0mprint\u001b[0m\u001b[0;34m(\u001b[0m\u001b[0;34m)\u001b[0m\u001b[0;34m\u001b[0m\u001b[0m\n\u001b[1;32m     20\u001b[0m         \u001b[0mprint\u001b[0m\u001b[0;34m(\u001b[0m\u001b[0;34m'=========================='\u001b[0m\u001b[0;34m)\u001b[0m\u001b[0;34m\u001b[0m\u001b[0m\n",
      "\u001b[0;32m<ipython-input-127-6bec94fb7f24>\u001b[0m in \u001b[0;36mbatch_decode\u001b[0;34m(ent_output, rel_output, batch_index, word_lists, true_ent, true_rel)\u001b[0m\n\u001b[1;32m     16\u001b[0m \u001b[0;34m\u001b[0m\u001b[0m\n\u001b[1;32m     17\u001b[0m         \u001b[0;31m# 單句decode關係\u001b[0m\u001b[0;34m\u001b[0m\u001b[0;34m\u001b[0m\u001b[0m\n\u001b[0;32m---> 18\u001b[0;31m         \u001b[0mr_list\u001b[0m\u001b[0;34m,\u001b[0m \u001b[0mappear_error\u001b[0m \u001b[0;34m=\u001b[0m \u001b[0mdecode_rel\u001b[0m\u001b[0;34m(\u001b[0m\u001b[0me\u001b[0m\u001b[0;34m,\u001b[0m \u001b[0mr\u001b[0m\u001b[0;34m)\u001b[0m\u001b[0;34m\u001b[0m\u001b[0m\n\u001b[0m\u001b[1;32m     19\u001b[0m \u001b[0;34m\u001b[0m\u001b[0m\n\u001b[1;32m     20\u001b[0m         \u001b[0;31m# 出現error，跳過這句\u001b[0m\u001b[0;34m\u001b[0m\u001b[0;34m\u001b[0m\u001b[0m\n",
      "\u001b[0;32m<ipython-input-127-6bec94fb7f24>\u001b[0m in \u001b[0;36mdecode_rel\u001b[0;34m(ent_output, rel_output)\u001b[0m\n\u001b[1;32m    196\u001b[0m \u001b[0;34m\u001b[0m\u001b[0m\n\u001b[1;32m    197\u001b[0m                     \u001b[0;34m'''AttributeError: 'str' object has no attribute 'append'''\u001b[0m\u001b[0;34m\u001b[0m\u001b[0m\n\u001b[0;32m--> 198\u001b[0;31m                     \u001b[0mr_list\u001b[0m\u001b[0;34m[\u001b[0m\u001b[0mtoken\u001b[0m\u001b[0;34m]\u001b[0m\u001b[0;34m.\u001b[0m\u001b[0mappend\u001b[0m\u001b[0;34m(\u001b[0m\u001b[0mpre_complete_rel\u001b[0m\u001b[0;34m)\u001b[0m\u001b[0;34m\u001b[0m\u001b[0m\n\u001b[0m\u001b[1;32m    199\u001b[0m \u001b[0;34m\u001b[0m\u001b[0m\n\u001b[1;32m    200\u001b[0m                 \u001b[0;31m# 當前token填上關係\u001b[0m\u001b[0;34m\u001b[0m\u001b[0;34m\u001b[0m\u001b[0m\n",
      "\u001b[0;31mAttributeError\u001b[0m: 'str' object has no attribute 'append'"
     ]
    }
   ],
   "source": [
    "with torch.no_grad():\n",
    "    for step, (batch_x, batch_ent, batch_rel, batch_index) in enumerate(test_loader):\n",
    "        model.eval()\n",
    "        ent_output, rel_output = model(batch_x.cuda() if USE_CUDA else batch_x)\n",
    "        \n",
    "        ent_loss = criterion_tag(ent_output.cpu(), batch_ent.view(BATCH_SIZE*MAX_LEN))\n",
    "        ent_output = ent_argmax(ent_output)\n",
    "        \n",
    "        rel_loss = criterion_rel(rel_output.cpu(), batch_rel.view(BATCH_SIZE*MAX_LEN*MAX_LEN))\n",
    "        rel_output = rel_argmax(rel_output)\n",
    "    \n",
    "        print()\n",
    "        \n",
    "        print(\"Entity loss : %.4f\" % ent_loss)\n",
    "        print(\"Relation loss : %.4f\" % rel_loss)\n",
    "        print()\n",
    "        \n",
    "        batch_decode(ent_output, rel_output, batch_index, raw_input_test, \\\n",
    "                     batch_ent, batch_rel)\n",
    "        print()\n",
    "        print('==========================')\n",
    "        print()"
   ]
  },
  {
   "cell_type": "code",
   "execution_count": null,
   "metadata": {},
   "outputs": [],
   "source": []
  }
 ],
 "metadata": {
  "kernelspec": {
   "display_name": "Python 3",
   "language": "python",
   "name": "python3"
  },
  "language_info": {
   "codemirror_mode": {
    "name": "ipython",
    "version": 3
   },
   "file_extension": ".py",
   "mimetype": "text/x-python",
   "name": "python",
   "nbconvert_exporter": "python",
   "pygments_lexer": "ipython3",
   "version": "3.5.2"
  }
 },
 "nbformat": 4,
 "nbformat_minor": 2
}
